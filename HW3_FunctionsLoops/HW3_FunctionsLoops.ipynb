{
 "cells": [
  {
   "cell_type": "markdown",
   "metadata": {},
   "source": [
    "# Homework 3: Conditions, loops, and functions\n",
    "ENVR 890-001: Python for Environmental Research, Fall 2020\n",
    "\n",
    "By Andrew Hamilton. \n",
    "\n",
    "### Instructions\n",
    "For this assignment, we will build a simulation model to study the spread of a contagious disease such as SARS-CoV-2. This can be thought of as an [agent-based](https://en.wikipedia.org/wiki/Agent-based_model) version of the classic SIRD (susceptible-infectious-recovered-deceased) model. Major caveat: **I am not an epidemiologist and this model is highly simplified**. This simulation is based on the [excellent video](https://www.youtube.com/watch?v=gxAaO2rsdIs) by 3Blue1Brown, which you can check out for more context and more complexity.\n",
    "\n",
    "**Due date: Sep. 4, before class**\n",
    "\n",
    "Our simulation model will work as follows:\n",
    "1. We start with $N$ people initially scattered randomly within a box, with each side having length 1\n",
    "1. This population is randomly split into $I_0$ infected people and $S_0$ susceptible people. We assume no one has recovered or died at time $t_0$\n",
    "1. At each time step, each individual takes a random movement from their current location, based on sampling from a normal distribution with mobility parameter $m$\n",
    "1. Each infected person has a probability $p_i$ of infecting any uninfected person that is within a radius of $r$\n",
    "1. Each infected person has a probability $p_r$ of recovering, $p_d$ of dying, and $1-p_r-p_d$ of remaining infected\n",
    "1. We will simulate the dynamics of $S$, $I$, $R$, and $D$ over $T$ time steps\n",
    "\n",
    "I will build out much of the model. **Your job will be to fill in the incomplete code blocks to get the final working model. All incomplete blocks are referenced with \"## TODO\".**\n",
    "\n",
    "**Don't forget to save a new copy of this notebook with your last name. Resave when you are finished and email it to me.**"
   ]
  },
  {
   "cell_type": "markdown",
   "metadata": {},
   "source": [
    "### Set up\n",
    "First we need to make sure our notebook is working from the proper \"working directory\", and create a folder to hold our figures"
   ]
  },
  {
   "cell_type": "code",
   "execution_count": 2,
   "metadata": {},
   "outputs": [
    {
     "name": "stdout",
     "output_type": "stream",
     "text": [
      "C:\\Users\\Andrew\\Documents\\Teaching\\ENVR-890-001-Python-For-Environmental-Research-F20\\HW3_FunctionsLoops\n"
     ]
    }
   ],
   "source": [
    "## get current working directory\n",
    "import os\n",
    "wd = os.getcwd()\n",
    "print(wd)"
   ]
  },
  {
   "cell_type": "code",
   "execution_count": 3,
   "metadata": {},
   "outputs": [],
   "source": [
    "# ## if wd is not where you want it to be (the location of this notebook), you can set it \n",
    "# wd = 'your_wd_here'\n",
    "# os.chdir(wd)"
   ]
  },
  {
   "cell_type": "code",
   "execution_count": 4,
   "metadata": {},
   "outputs": [],
   "source": [
    "## Create a directory to hold figures\n",
    "os.makedirs(wd + '/figs/', exist_ok = True)"
   ]
  },
  {
   "cell_type": "markdown",
   "metadata": {},
   "source": [
    "Now we set up the known parameters (*I made up values that produce an interesting simulation, not based on any physical data. You can play around with the parameters to see how they affect the results!*)"
   ]
  },
  {
   "cell_type": "code",
   "execution_count": 5,
   "metadata": {},
   "outputs": [],
   "source": [
    "## User-set parameters\n",
    "N = 100\n",
    "I0 = 10\n",
    "m = 0.01\n",
    "pi = 0.25\n",
    "r = 0.06\n",
    "pr = 0.015\n",
    "pd = 0.01\n",
    "T = 200\n",
    "\n",
    "## Calculate other parameters we know based on the user-set parameters above\n",
    "S0 = N - I0\n",
    "R0 = 0\n",
    "D0 = 0"
   ]
  },
  {
   "cell_type": "markdown",
   "metadata": {},
   "source": [
    "Set up lists to hold $S$, $I$, $R$, and $D$ counts on each day of the simulation, and lists to hold coordinates and SIRD status of each person on each day. "
   ]
  },
  {
   "cell_type": "code",
   "execution_count": 10,
   "metadata": {},
   "outputs": [],
   "source": [
    "## Set up one list for each population (S, I, R, D). We will append a new value each day based on the updated population.\n",
    "## Initial populations based on parameters above.\n",
    "S = [S0]\n",
    "I = [I0] \n",
    "R = [R0]\n",
    "D = [D0]\n",
    "\n",
    "## set up list of lists for coordinates of each person. Each list has N lists (one for each person). \n",
    "## We will append the new coordinates at each time step based on random movements. \n",
    "## Initialize with -1, a value that doesn't make sense. We will set the initial potitions soon using randomly drawn coordinates.\n",
    "x = [[-1] * N]\n",
    "y = [[-1] * N]\n",
    "\n",
    "## set up list of lists for SIRD status of each person. Set all to S initially, and we will randomly change some to I soon.\n",
    "SIRD = [['S'] * N]"
   ]
  },
  {
   "cell_type": "markdown",
   "metadata": {},
   "source": [
    "### Initializing the starting state of the model\n",
    "We will use the ``random`` module to randomly sample the initial locations of each person within the box, and the SIRD status of each individual. Refer to the [module documentation](https://docs.python.org/3/library/random.html) for help with its functionality."
   ]
  },
  {
   "cell_type": "code",
   "execution_count": null,
   "metadata": {},
   "outputs": [],
   "source": [
    "## import random module to for random sampling \n",
    "import random\n",
    "\n",
    "## set \"seed\" so we will all get the same \"random\" numbers\n",
    "random.seed(101)"
   ]
  },
  {
   "cell_type": "code",
   "execution_count": null,
   "metadata": {},
   "outputs": [],
   "source": [
    "### random.uniform(0, 1) generates a random number between 0 and 1. It will be different each time it is run. \n",
    "## Uncomment the next two lines to try it. Run multiple times to get different numbers. \n",
    "# sample = random.uniform(0, 1)\n",
    "# print(sample)"
   ]
  },
  {
   "cell_type": "code",
   "execution_count": null,
   "metadata": {},
   "outputs": [],
   "source": [
    "## TODO: Now build a for loop to fill in each person's initial values of x and y with random coordinates within the box.\n",
    "## Hint: we want to replace the -1's in the x and y vectors. All values should be between 0 and 1.\n",
    "\n",
    "\n"
   ]
  },
  {
   "cell_type": "code",
   "execution_count": null,
   "metadata": {},
   "outputs": [],
   "source": [
    "## random.sample(list, n) will choose n random elements from list, without replacement. We will use this to choose I0 people to infect initially.\n",
    "indexes = list(range(N))\n",
    "initial_infections = random.sample(indexes, I0)\n",
    "# print(initial_infections)"
   ]
  },
  {
   "cell_type": "code",
   "execution_count": null,
   "metadata": {},
   "outputs": [],
   "source": [
    "## TODO: Now use a for loop to set the elements of SIRD corresponding to the indexes in initial_infections, to 'I'\n",
    "\n",
    "\n"
   ]
  },
  {
   "cell_type": "code",
   "execution_count": null,
   "metadata": {},
   "outputs": [],
   "source": [
    "## The last step of initiallization is to set the numbers of S, I, R, and D at a particular time step. We will use a function to do this.\n",
    "def count_SIRD(SIRD, t):\n",
    "    St, It, Rt, Dt = 0, 0, 0, 0\n",
    "    for i in range(N):\n",
    "        if SIRD[t][i] == 'S':\n",
    "            St += 1\n",
    "        ## TODO: Use elif/else to write the rest of the conditions\n",
    "\n",
    "        \n",
    "        \n",
    "        \n",
    "    return (St, It, Rt, Dt)"
   ]
  },
  {
   "cell_type": "code",
   "execution_count": null,
   "metadata": {},
   "outputs": [],
   "source": [
    "St, It, Rt, Dt = count_SIRD(SIRD, 0)\n",
    "S.append(St)\n",
    "I.append(It)\n",
    "R.append(Rt)\n",
    "D.append(Dt)"
   ]
  },
  {
   "cell_type": "markdown",
   "metadata": {},
   "source": [
    "### Checking the initial state\n",
    "Use the following function to visualize the different populations at any time step. For the initial population, they should be randomly spread around the box and mixed between susceptible and infected. Don't worry too much about how this works yet, we will learn about visualization in a couple of weeks."
   ]
  },
  {
   "cell_type": "code",
   "execution_count": null,
   "metadata": {},
   "outputs": [],
   "source": [
    "import matplotlib.pyplot as plt\n",
    "from matplotlib.lines import Line2D\n",
    "\n",
    "## colors from ColorBrewer\n",
    "# colors = ['#a6cee3', '#1f78b4', '#b2df8a', '#33a02c']\n",
    "colors = ['y', 'r', 'b', 'k']\n",
    "\n",
    "\n",
    "## plotting function\n",
    "def plot_locations(x, y, SIRD, t, output_plot=True, save_plot=False):\n",
    "    ## get the data for the day we want to plot\n",
    "    xt = x[t]\n",
    "    yt = y[t]\n",
    "    SIRDt = SIRD[t]\n",
    "    ## set up the plot\n",
    "    fig, ax = plt.subplots(figsize=(10,10))\n",
    "    ax.set_aspect(1)    \n",
    "    ## get colors basesd on SIRDt. Set S color as default.\n",
    "    c = [colors[0]] * N\n",
    "    for i in range(N):\n",
    "        if SIRDt[i] == 'I':\n",
    "            c[i] = colors[1]\n",
    "        elif SIRDt[i] == 'R':\n",
    "            c[i] = colors[2]\n",
    "        elif SIRDt[i] == 'D':\n",
    "            c[i] = colors[3]\n",
    "    scatter = ax.scatter(xt, yt, color = c, label = SIRDt, alpha = 0.6)    \n",
    "    ax.plot((0,1), (0,0), color = 'grey', ls = '--')\n",
    "    ax.plot((0,1), (1,1), color = 'grey', ls = '--')\n",
    "    ax.plot((0,0), (0,1), color = 'grey', ls = '--')\n",
    "    ax.plot((1,1), (0,1), color = 'grey', ls = '--')\n",
    "    ax.set_xlim(-0.05, 1.12)\n",
    "    ax.set_ylim(-0.05, 1.05)\n",
    "    ax.set_xticks((0,1))\n",
    "    ax.set_yticks((0,1))\n",
    "    ax.set_title('Population at t = ' + str(t))\n",
    "    ## add a legend\n",
    "    legend_elements = [Line2D([0], [0], marker='o', color='w', label='S', markerfacecolor=colors[0], markersize=8, alpha = 0.6),\n",
    "                       Line2D([0], [0], marker='o', color='w', label='I', markerfacecolor=colors[1], markersize=8, alpha = 0.6),\n",
    "                       Line2D([0], [0], marker='o', color='w', label='R', markerfacecolor=colors[2], markersize=8, alpha = 0.6),\n",
    "                       Line2D([0], [0], marker='o', color='w', label='D', markerfacecolor=colors[3], markersize=8, alpha = 0.6)]\n",
    "    ax.legend(handles=legend_elements, loc='right')\n",
    "    ## output plot to screen?\n",
    "    if not output_plot:\n",
    "        plt.close()\n",
    "    if save_plot:\n",
    "        fig.savefig(save_plot)\n",
    "    return fig"
   ]
  },
  {
   "cell_type": "code",
   "execution_count": null,
   "metadata": {},
   "outputs": [],
   "source": [
    "fig = plot_locations(x, y, SIRD, 0)"
   ]
  },
  {
   "cell_type": "markdown",
   "metadata": {},
   "source": [
    "### Function for random movements\n",
    "Now we want to build a function to generate a random movement for each person. We will assume that the person moves by a normally distributed amount in both the x and y direction. The mean of the distribution is zero and the standard deviation is set by the mobility parameter $m$. If a move will take the individual outside the box, we throw it away and try again. This function uses **recursion**, meaning that it can call itself. This means that the function will keep getting called until it generates a \"legal\" move that is inside the box"
   ]
  },
  {
   "cell_type": "code",
   "execution_count": null,
   "metadata": {},
   "outputs": [],
   "source": [
    "## function for generating new coordinates for an individual\n",
    "def get_new_coords(x_indiv, y_indiv):\n",
    "    ## the normal.gauss(mean, std) function generates a normally distributed variable\n",
    "    jump_x = random.gauss(0, m)\n",
    "    jump_y = random.gauss(0, m)\n",
    "    ## add the jump to the old coordinates\n",
    "    new_x = x_indiv + jump_x\n",
    "    new_y = y_indiv + jump_y\n",
    "    ## check if the new coordinates are inside the box\n",
    "    if (new_x >= 0) and (new_x <=1) and (new_y >= 0) and (new_y <= 1):\n",
    "#         print (x_indiv, jump_x, new_x)\n",
    "        return (new_x, new_y)\n",
    "    ## if not, recall the function\n",
    "    else:\n",
    "        return get_new_coords(x_indiv, y_indiv)"
   ]
  },
  {
   "cell_type": "markdown",
   "metadata": {},
   "source": [
    "### Function for infections, recoveries, and deaths in each time step\n",
    "First, we build a function to get the distance between two individuals, using the formula for Euclidean distance"
   ]
  },
  {
   "cell_type": "code",
   "execution_count": null,
   "metadata": {},
   "outputs": [],
   "source": [
    "## function for getting distance between two individuals\n",
    "## TODO: fill in this function using Euclidean distance formula. xt and yt will be lists of x and y coords at time step t, \n",
    "## and index1-2 will be the indexes of the two individuals we are interested in.\n",
    "def get_distance(xt, yt, index1, index2):\n",
    "\n",
    "    return distance"
   ]
  },
  {
   "cell_type": "markdown",
   "metadata": {},
   "source": [
    "Now we want a function to probabilistically infect a susceptible person who is within the radius $r$ of an infected person. This will take as its argument the probability of infection, $p_i$, and return the new status of the susceptible person: either infected (\"I\") or still susceptible (\"S\")."
   ]
  },
  {
   "cell_type": "code",
   "execution_count": null,
   "metadata": {},
   "outputs": [],
   "source": [
    "## function for choosing whether a susceptible person is infected by a nearby infectious person . output their new status.\n",
    "def infect_or_no(pi):\n",
    "    new_status = random.choices(('I', 'S'), weights = (pi, 1 - pi), k = 1)[0]\n",
    "    return new_status"
   ]
  },
  {
   "cell_type": "markdown",
   "metadata": {},
   "source": [
    "Similarly, we need a function to probabilistically determine if an infected person will recover or die. It should take as its arguments the probabiliites $p_r$ and $p_d$, and return the new status of the individual: recovered (\"R\"), dead (\"D\"), or still infected (\"I\")."
   ]
  },
  {
   "cell_type": "code",
   "execution_count": null,
   "metadata": {},
   "outputs": [],
   "source": [
    "## TODO: finish this function\n",
    "## function for an infected person to recover or die\n",
    "def recover_or_die_or_no(pr, pd):\n",
    "\n",
    "    return new_status"
   ]
  },
  {
   "cell_type": "markdown",
   "metadata": {},
   "source": [
    "Now we will build a function for carrying out all of the interactions of an "
   ]
  },
  {
   "cell_type": "code",
   "execution_count": null,
   "metadata": {},
   "outputs": [],
   "source": [
    "## function for probabilistically infecting neighbors, and having infected people recover or die. function will return a new updated SIRD vector.\n",
    "import math\n",
    "def infectious_interactions(SIRDt, SIRDtplus1, xt, yt, n):\n",
    "    ## first check if nth person is infected in time step t\n",
    "    if SIRDt[n] == 'I':\n",
    "        ## now go through all other individuals, and check if each is susceptible, and has not already been infected for next time step (by another infected person)\n",
    "        for i in range(N):\n",
    "            if (SIRDt[i] == 'S') and (SIRDtplus1[i] == 'S'):\n",
    "                ## if so, check the distance away\n",
    "                distance = get_distance(xt, yt, n, i)\n",
    "                if distance <= r:\n",
    "                    ## if the person is within the radius of infection, they have the probability of getting infected. choose their new status randomly.\n",
    "                    SIRDtplus1[i] = infect_or_no(pi)\n",
    "        ## after potentially infecting neighbors, does this infectious person recover, die, or neither\n",
    "        SIRDtplus1[n] = recover_or_die_or_no(pr, pd)\n",
    "\n",
    "    return SIRDtplus1"
   ]
  },
  {
   "cell_type": "code",
   "execution_count": null,
   "metadata": {},
   "outputs": [],
   "source": [
    "## Function for stepping the model forward by one time step\n",
    "def step_model(t):\n",
    "    ## add new list for coords and SIRD status\n",
    "    x.append([])\n",
    "    y.append([])\n",
    "#     SIRD.append([])\n",
    "    ## update coords\n",
    "    for n in range(N):\n",
    "        x_new, y_new = get_new_coords(x[t-1][n], y[t-1][n]) \n",
    "        x[t].append(x_new)\n",
    "        y[t].append(y_new)\n",
    "    ## update SIRD status\n",
    "    SIRDtplus1 = SIRD[t - 1].copy()\n",
    "    for n in range(N):\n",
    "        ## function to potentially infect neighbors and also potentially recover or die for each infectious person\n",
    "        SIRDtplus1 = infectious_interactions(SIRD[t - 1], SIRDtplus1, x[t], y[t], n)\n",
    "    SIRD.append(SIRDtplus1)\n",
    "    ## update population counts\n",
    "    St, It, Rt, Dt = count_SIRD(SIRD, t)\n",
    "    S.append(St)\n",
    "    I.append(It)\n",
    "    R.append(Rt)\n",
    "    D.append(Dt)"
   ]
  },
  {
   "cell_type": "code",
   "execution_count": null,
   "metadata": {},
   "outputs": [],
   "source": [
    "for t in range(1, T):\n",
    "    step_model(t)"
   ]
  },
  {
   "cell_type": "code",
   "execution_count": null,
   "metadata": {
    "scrolled": false
   },
   "outputs": [],
   "source": [
    "## Output first and last time steps to screen, and save all time steps as figs to disk\n",
    "for t in range(T):\n",
    "    if t in [0, T-1]:\n",
    "        output_plot = True\n",
    "    else:\n",
    "        output_plot = False\n",
    "    save_plot = wd + '/figs/t' + str(t) + '.png'\n",
    "    fig_start = plot_locations(x, y, SIRD, t, output_plot = output_plot, save_plot = save_plot)"
   ]
  },
  {
   "cell_type": "code",
   "execution_count": null,
   "metadata": {},
   "outputs": [],
   "source": [
    "## Stitch together still images from each time step to create a gif (code borrowed from https://stackoverflow.com/questions/753190/programmatically-generate-video-or-animated-gif-in-python)\n",
    "import imageio\n",
    "with imageio.get_writer(wd + '/figs/infection_spread.gif', mode='I', duration=0.1) as writer:\n",
    "    for t in range(T):\n",
    "        filename = wd + '/figs/t' + str(t) + '.png'\n",
    "        image = imageio.imread(filename)\n",
    "        writer.append_data(image)"
   ]
  },
  {
   "cell_type": "markdown",
   "metadata": {},
   "source": [
    "Here is our gif of the population over the whole simulation. **Note: your browser may continue to show an old version if you change the parameters and rerun this. Saving your work (``Ctrl``+``s``) and then refreshing the browser should make it switch to the latest version of the gif file.**\n",
    "<img src=\"figs/infection_spread.gif\" style=\"width: 700px;\" />"
   ]
  },
  {
   "cell_type": "code",
   "execution_count": null,
   "metadata": {},
   "outputs": [],
   "source": [
    "## function for plotting population counts\n",
    "def plot_populations(S, I, R, D):\n",
    "    plt.figure(figsize=(10,10))\n",
    "    plt.plot(S, color=colors[0], label='S')\n",
    "    plt.plot(I, color=colors[1], label='I')\n",
    "    plt.plot(R, color=colors[2], label='R')\n",
    "    plt.plot(D, color=colors[3], label='D')\n",
    "    plt.xlabel('Time')\n",
    "    plt.ylabel('Number of individuals')\n",
    "    plt.title('Population counts over time')\n",
    "    plt.ylim([0, 100])\n",
    "    plt.legend()\n",
    "    \n",
    "plot_populations(S, I, R, D)"
   ]
  }
 ],
 "metadata": {
  "kernelspec": {
   "display_name": "Python 3",
   "language": "python",
   "name": "python3"
  },
  "language_info": {
   "codemirror_mode": {
    "name": "ipython",
    "version": 3
   },
   "file_extension": ".py",
   "mimetype": "text/x-python",
   "name": "python",
   "nbconvert_exporter": "python",
   "pygments_lexer": "ipython3",
   "version": "3.6.9"
  }
 },
 "nbformat": 4,
 "nbformat_minor": 4
}
