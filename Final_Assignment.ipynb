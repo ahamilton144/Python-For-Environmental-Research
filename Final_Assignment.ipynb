{
 "cells": [
  {
   "cell_type": "markdown",
   "metadata": {},
   "source": [
    "# Homework 8: Final Assignment\n",
    "ENVR 890-010: Python for Environmental Research, Fall 2022\n",
    "\n",
    "By Rosa Cuppari. Some material adapted from Andrew Hamilton, Greg Characklis, David Gorelick and H.B. Zeff.\n",
    "\n",
    "### Congratulations! \n",
    "By now, you all have learned everything from the basic to the more complex in Python. Hopefully you have also been convinced that Python can be useful, and can apply your newfound skills to any of your research or future work. To reinforce your journey in Python, I would like to see you combine all of your skills. \n",
    "\n",
    "### Summary\n",
    "In this assignment, you will be asked to take **two** datasets of your choice (any length) and undertake an analysis similar to the previous homeworks. While you have already done essentially everything I am asking you to do here in previous assignments, I would love to see you try something new (e.g., a different regression, a new type of plot), or use a different dataset, but this is strictly a suggestion, not a requirement. In your submission include your code and a word document with a short description of the data, a summary of any interesting findings or relationships, and your plots (~1 page, plus plots). \n",
    "\n",
    "I hope that this final assignment can be a useful showcase for you to exhibit your coding skills in the future! \n",
    "\n",
    "#### Required elements:  \n",
    "- Two datasets with at least one variable in common. Not required but recommended: merge them into one dataset based on a common column. \n",
    "- 1+ grouping (e.g., making your data daily/annual/same location) with the summary statistic of your choice (e.g., mean, max)\n",
    "- 4+ plots. At least one must have two subplots, showing what your raw data looks like (pre-analysis) as a means to explore the two datasets, and at least one must visualize your results in some way. Be sure to include labels and legends in your plots, and make tick marks legible.\n",
    "- Either a for loop or a defined function to aid in your analysis (hint: functions can be very useful for creating plots)\n",
    "- Regression \n",
    "- Word document with data description, brief explanation of why certain analyses or relationships were examined, and brief results/conclusions. Results do not have to be significant in any way, but note how/why you decided they were or were not. Also include plots (with figure numbers and captions). \n",
    "\n",
    "**Due Thursday December 8, 2022, by 5 pm. I *cannot accept late assignments*, because I need to turn in grades soon after the exam period ends on December 9th. Reach out to me early if you are having issues or have questions!** "
   ]
  },
  {
   "cell_type": "markdown",
   "metadata": {},
   "source": [
    "## Start\n",
    "Import the packages that you will use, and read in your data. Include a description of your data in a word document. "
   ]
  },
  {
   "cell_type": "markdown",
   "metadata": {},
   "source": [
    "## Exploratory Analysis \n",
    "Visualize your data - what does it look like? What are the extremes? Do the values look wrong in any way? Use this as a chance to decide if you need to clean your data. "
   ]
  },
  {
   "cell_type": "markdown",
   "metadata": {},
   "source": [
    "## Analysis \n",
    "Are there interesting relationships between different variables in your dataset? Are they arbitrary or is there a mechanism, and possible statistical significance? \n",
    "\n",
    "Can you glean anything from mapping your data in terms of the relationships? \n",
    "\n",
    "Do you need to aggregate your data in any way to identify these relationships? Or how are these relationships different at different aggregations (e.g., daily versus monthly or annual)? "
   ]
  },
  {
   "cell_type": "markdown",
   "metadata": {},
   "source": [
    "## Visualization of Results\n",
    "What can you plot to convey your results quickly? Would different colors or marker sizes help communicate your results better? "
   ]
  }
 ],
 "metadata": {
  "kernelspec": {
   "display_name": "Python 3 (ipykernel)",
   "language": "python",
   "name": "python3"
  },
  "language_info": {
   "codemirror_mode": {
    "name": "ipython",
    "version": 3
   },
   "file_extension": ".py",
   "mimetype": "text/x-python",
   "name": "python",
   "nbconvert_exporter": "python",
   "pygments_lexer": "ipython3",
   "version": "3.9.7"
  }
 },
 "nbformat": 4,
 "nbformat_minor": 2
}
