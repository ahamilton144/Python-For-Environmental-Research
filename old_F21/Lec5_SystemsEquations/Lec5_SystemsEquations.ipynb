{
 "cells": [
  {
   "cell_type": "markdown",
   "metadata": {
    "slideshow": {
     "slide_type": "slide"
    }
   },
   "source": [
    "# Lecture 5: Systems of equations & optimization\n",
    "ENVR 890-010: Python for Environmental Research, Fall 2021\n",
    "\n",
    "September 24, 2020\n",
    "\n",
    "By Andrew Hamilton, some material adapted from Greg Characklis, David Gorelick, and H.B. Zeff."
   ]
  },
  {
   "cell_type": "markdown",
   "metadata": {
    "slideshow": {
     "slide_type": "fragment"
    }
   },
   "source": [
    "## Summary\n",
    "Now that we have covered the basics of Python programming (e.g., variable types, data structures, if statements, loops, functions), we can move on to **solving problems** in environmental science, engineering, and public health. The first type of problem we will solve will be **systems of equations and optimization**. \n",
    "\n",
    "This will involve a bit of math, but we will try to focus on the programming elements."
   ]
  },
  {
   "cell_type": "markdown",
   "metadata": {
    "slideshow": {
     "slide_type": "slide"
    }
   },
   "source": [
    "## Linear system of equations\n",
    "Systems of equations appear in many different fields of science and engineering research. The simplest and most common is the linear system of equations. For example, here is a linear system with two equations and two unknowns:"
   ]
  },
  {
   "cell_type": "markdown",
   "metadata": {
    "slideshow": {
     "slide_type": "fragment"
    }
   },
   "source": [
    "\\begin{align}\n",
    "y + 3 z &= 16 \\\\\n",
    "4y - z &= -1\n",
    "\\end{align}"
   ]
  },
  {
   "cell_type": "markdown",
   "metadata": {
    "slideshow": {
     "slide_type": "fragment"
    }
   },
   "source": [
    "You may remember from algebra that we can solve for $y$ and $z$ using the subtraction method or the substitution method. For larger systems with more equations, it becomes useful to use a little linear algebra, by writing the system in matrix form, $\\mathbf{Ax} = \\mathbf{b}$."
   ]
  },
  {
   "cell_type": "markdown",
   "metadata": {
    "slideshow": {
     "slide_type": "fragment"
    }
   },
   "source": [
    "\\begin{align}\n",
    "\\begin{bmatrix}\n",
    "1 & 3 \\\\\n",
    "4 & -1\n",
    "\\end{bmatrix}\n",
    "\\begin{bmatrix}\n",
    "y \\\\\n",
    "z\n",
    "\\end{bmatrix}\n",
    "&= \\begin{bmatrix}\n",
    "16 \\\\\n",
    "-1\n",
    "\\end{bmatrix}\n",
    "\\end{align}"
   ]
  },
  {
   "cell_type": "markdown",
   "metadata": {
    "slideshow": {
     "slide_type": "fragment"
    }
   },
   "source": [
    "We can then solve for $y$ and $z$ by multiplying each side by $\\mathbf{A}^{-1}$."
   ]
  },
  {
   "cell_type": "markdown",
   "metadata": {
    "slideshow": {
     "slide_type": "fragment"
    }
   },
   "source": [
    "However, this is not a linear algebra class, so we won't ask you to do that! Luckily, programming languages like Python have convenient packages that greatly simplify solving systems of equations compared to the pencil-and-paper days."
   ]
  },
  {
   "cell_type": "markdown",
   "metadata": {
    "slideshow": {
     "slide_type": "slide"
    }
   },
   "source": [
    "## Example problem \n",
    "#### Set up\n",
    "Linear systems of equations are very common in economics. Economics is often defined as the study of how scarce resources are allocated. Often, the equations dictating this allocation happen to be linear."
   ]
  },
  {
   "cell_type": "markdown",
   "metadata": {
    "slideshow": {
     "slide_type": "fragment"
    }
   },
   "source": [
    "Consider a scenario with three rival water sectors: city users, farming users, and industrial users. In this context, \"rival\" means that the water used by one of the three sectors cannot be used by another. With respect to water, each user's marginal benefits and costs for a single year are known. The marginal benefits tend to decrease as a sector's allocation increases (diminishing marginal utility of water - more water is generally better but at a certain point there is no more benefit to additional water). Marginal costs are assumed flat (the unit cost of treating or transporting water is independent of the amount of water)."
   ]
  },
  {
   "cell_type": "markdown",
   "metadata": {
    "slideshow": {
     "slide_type": "fragment"
    }
   },
   "source": [
    "Under these conditions, we have the following equations:\n",
    "\n",
    "\\begin{align}\n",
    "MB_c &= 200 - 3 q_c \\\\\n",
    "MC_c &= 50 \\\\\n",
    "MB_f &= 100 - q_f \\\\\n",
    "MC_f &= 30\\\\\n",
    "MB_i &= 150 - 2 q_i \\\\\n",
    "MC_i &= 70\n",
    "\\end{align}\n",
    "\n",
    "where $q_s$ is the allocation of water (in acre-feet) to sector $s \\in (c=\\text{city}, f=\\text{farm}, i=\\text{industrial})$."
   ]
  },
  {
   "cell_type": "markdown",
   "metadata": {
    "slideshow": {
     "slide_type": "slide"
    }
   },
   "source": [
    "#### How much water will each sector use if there is unlimited water?"
   ]
  },
  {
   "cell_type": "markdown",
   "metadata": {
    "slideshow": {
     "slide_type": "fragment"
    }
   },
   "source": [
    "If there is unlimited water, we know that each sector will use enough water until the marginal net benefit of using one more unit of water is zero, meaning $MB_s = MC_s$. Thus, we can write our system of equations as:\n",
    "\n",
    "\\begin{align}\n",
    "MNB_c &= 150 - 3q_c = 0 \\\\\n",
    "MNB_f &= 70 - q_f = 0 \\\\\n",
    "MNB_i &= 80 - 2q_i = 0\n",
    "\\end{align}"
   ]
  },
  {
   "cell_type": "markdown",
   "metadata": {
    "slideshow": {
     "slide_type": "fragment"
    }
   },
   "source": [
    "Because each equation only includes 1 unknown, we can solve for them individually. We find that $q_c = 50$, $q_f = 70$, and $q_i = 40$ acre-feet."
   ]
  },
  {
   "cell_type": "code",
   "execution_count": 1,
   "metadata": {
    "slideshow": {
     "slide_type": "fragment"
    }
   },
   "outputs": [],
   "source": [
    "### Check our work by finding intercept graphically\n",
    "import numpy as np\n",
    "import matplotlib.pyplot as plt\n",
    "import matplotlib\n",
    "matplotlib.rcParams.update({'font.size': 14})"
   ]
  },
  {
   "cell_type": "code",
   "execution_count": 2,
   "metadata": {
    "slideshow": {
     "slide_type": "fragment"
    }
   },
   "outputs": [],
   "source": [
    "### set up params for each sector, (constant, slope).\n",
    "city = (150, -3)\n",
    "farm = (70, -1)\n",
    "indus = (80, -2)"
   ]
  },
  {
   "cell_type": "code",
   "execution_count": 3,
   "metadata": {
    "slideshow": {
     "slide_type": "fragment"
    }
   },
   "outputs": [
    {
     "data": {
      "text/plain": [
       "30"
      ]
     },
     "execution_count": 3,
     "metadata": {},
     "output_type": "execute_result"
    }
   ],
   "source": [
    "### function for MNB, based on parameter tuple and quantity of water\n",
    "def get_mnb(params, q):\n",
    "    return params[0] + params[1] * q\n",
    "get_mnb(city, 40)"
   ]
  },
  {
   "cell_type": "code",
   "execution_count": 4,
   "metadata": {
    "slideshow": {
     "slide_type": "fragment"
    }
   },
   "outputs": [
    {
     "name": "stdout",
     "output_type": "stream",
     "text": [
      "[80, 78, 76, 74, 72, 70, 68, 66, 64, 62, 60, 58, 56, 54, 52, 50, 48, 46, 44, 42, 40, 38, 36, 34, 32, 30, 28, 26, 24, 22, 20, 18, 16, 14, 12, 10, 8, 6, 4, 2, 0, -2, -4, -6, -8, -10, -12, -14, -16, -18, -20, -22, -24, -26, -28, -30, -32, -34, -36, -38, -40, -42, -44, -46, -48, -50, -52, -54, -56, -58, -60, -62, -64, -66, -68, -70, -72, -74, -76, -78, -80]\n"
     ]
    }
   ],
   "source": [
    "### get MNB curve for each sector, over a grid of q points\n",
    "qs = np.arange(0, 81)\n",
    "city_q = [get_mnb(city, q) for q in qs]\n",
    "farm_q = [get_mnb(farm, q) for q in qs]\n",
    "indus_q = [get_mnb(indus, q) for q in qs]\n",
    "print(indus_q)"
   ]
  },
  {
   "cell_type": "code",
   "execution_count": 5,
   "metadata": {
    "slideshow": {
     "slide_type": "fragment"
    }
   },
   "outputs": [
    {
     "data": {
      "text/plain": [
       "<matplotlib.legend.Legend at 0x2716cd4ae10>"
      ]
     },
     "execution_count": 5,
     "metadata": {},
     "output_type": "execute_result"
    },
    {
     "data": {
      "image/png": "[encoded data removed]",
      "text/plain": [
       "<Figure size 432x288 with 1 Axes>"
      ]
     },
     "metadata": {
      "needs_background": "light"
     },
     "output_type": "display_data"
    }
   ],
   "source": [
    "### plot MNB curves\n",
    "plt.plot(qs, city_q)\n",
    "plt.plot(qs, farm_q)\n",
    "plt.plot(qs, indus_q)\n",
    "plt.xlim([0, 80])\n",
    "plt.ylim([0, 150])\n",
    "plt.xlabel('Quantity of water (acre-feet)')\n",
    "plt.ylabel('Marginal net benefit (\\$/acre-foot)')\n",
    "plt.legend(['City','Farm','Industrial'])"
   ]
  },
  {
   "cell_type": "markdown",
   "metadata": {
    "slideshow": {
     "slide_type": "slide"
    }
   },
   "source": [
    "#### What if there are only 100 acre-feet of water available? What is the efficient allocation to each sector?"
   ]
  },
  {
   "cell_type": "markdown",
   "metadata": {
    "slideshow": {
     "slide_type": "fragment"
    }
   },
   "source": [
    "If water is scarce, the marginal net benefit for each sector will no longer be zero, but we know that they will all be equal to each other. \n",
    "\n",
    "\\begin{align}\n",
    "MNB_c &= MNB_f \\\\\n",
    "MNB_f &= MNB_i\n",
    "\\end{align}"
   ]
  },
  {
   "cell_type": "markdown",
   "metadata": {
    "slideshow": {
     "slide_type": "fragment"
    }
   },
   "source": [
    "And for a third equation, we know that the sum of the three usages will be equal to $Q=100$. (It is safe to assume that they will use the entire allotment of 100, since we know that the total usage in the unlimited case was >100 acre-feet). "
   ]
  },
  {
   "cell_type": "markdown",
   "metadata": {
    "slideshow": {
     "slide_type": "fragment"
    }
   },
   "source": [
    "Now we can write the system of equations as:\n",
    "\n",
    "\\begin{align}\n",
    "150 - 3q_c &= 70 - q_f \\\\\n",
    "70 - q_f &= 80 - 2q_i \\\\\n",
    "q_c + q_f + q_i &\\leq 100\n",
    "\\end{align}"
   ]
  },
  {
   "cell_type": "markdown",
   "metadata": {
    "slideshow": {
     "slide_type": "fragment"
    }
   },
   "source": [
    "Consolidating to put $q$'s on one side and constants on the other,\n",
    "\n",
    "\\begin{align}\n",
    "3 q_c - 1 q_f + 0 q_i &= 80 \\\\\n",
    "0 q_c - 1 q_f + 2 q_i &= 10 \\\\\n",
    "1 q_c + 1 q_f + 1 q_i &= 100\n",
    "\\end{align}"
   ]
  },
  {
   "cell_type": "markdown",
   "metadata": {
    "slideshow": {
     "slide_type": "fragment"
    }
   },
   "source": [
    "Rewriting this in the $\\mathbf{Ax}=\\mathbf{b}$ form,\n",
    "\n",
    "\\begin{align}\n",
    "\\begin{bmatrix}\n",
    "3 & -1 & 0 \\\\\n",
    "0 & -1 & 2 \\\\\n",
    "1 & 1 & 1\n",
    "\\end{bmatrix}\n",
    "\\begin{bmatrix}\n",
    "q_c \\\\\n",
    "q_f \\\\\n",
    "q_i\n",
    "\\end{bmatrix}\n",
    "&= \\begin{bmatrix}\n",
    "80 \\\\\n",
    "10 \\\\\n",
    "100\n",
    "\\end{bmatrix}\n",
    "\\end{align}"
   ]
  },
  {
   "cell_type": "markdown",
   "metadata": {
    "slideshow": {
     "slide_type": "fragment"
    }
   },
   "source": [
    "Now as we mentioned previously, we could solve this on paper using a bit of linear algebra. However, once we have it in this form we can also **solve the system of equations using NumPy's ``linalg`` module**."
   ]
  },
  {
   "cell_type": "code",
   "execution_count": 6,
   "metadata": {
    "slideshow": {
     "slide_type": "fragment"
    }
   },
   "outputs": [
    {
     "name": "stdout",
     "output_type": "stream",
     "text": [
      "[[ 3 -1  0]\n",
      " [ 0 -1  2]\n",
      " [ 1  1  1]]\n"
     ]
    }
   ],
   "source": [
    "### solve simple lin sys eqns with numpy\n",
    "A = np.array([[3, -1, 0], [0, -1, 2], [1, 1, 1]])\n",
    "print(A)"
   ]
  },
  {
   "cell_type": "code",
   "execution_count": 7,
   "metadata": {
    "slideshow": {
     "slide_type": "fragment"
    }
   },
   "outputs": [
    {
     "name": "stdout",
     "output_type": "stream",
     "text": [
      "[ 80  10 100]\n"
     ]
    }
   ],
   "source": [
    "b = np.array([80, 10, 100])\n",
    "print(b)"
   ]
  },
  {
   "cell_type": "code",
   "execution_count": 8,
   "metadata": {
    "slideshow": {
     "slide_type": "fragment"
    }
   },
   "outputs": [
    {
     "name": "stdout",
     "output_type": "stream",
     "text": [
      "99.99999999999999\n",
      "99.99999999999999\n"
     ]
    }
   ],
   "source": [
    "x = np.linalg.solve(A, b)\n",
    "x\n",
    "print(x.sum())\n",
    "print(np.sum(x))"
   ]
  },
  {
   "cell_type": "markdown",
   "metadata": {
    "slideshow": {
     "slide_type": "fragment"
    }
   },
   "source": [
    "We find that in the limited water case, $q_c = 39.1$, $q_f = 37.3$, and $q_i = 23.6$ acre-feet. As expected, each sector uses less water than they did when water was unlimited. \n",
    "\n",
    "To check our work, we can make sure that all sectors have equivalent MNB:"
   ]
  },
  {
   "cell_type": "code",
   "execution_count": 9,
   "metadata": {
    "slideshow": {
     "slide_type": "fragment"
    }
   },
   "outputs": [
    {
     "name": "stdout",
     "output_type": "stream",
     "text": [
      "City MNB: $32.7/acre-foot\n",
      "Farm MNB: $32.7/acre-foot\n",
      "Industrial MNB: $32.7/acre-foot\n"
     ]
    }
   ],
   "source": [
    "print( f'City MNB: ${round(get_mnb(city, x[0]), 1)}/acre-foot')\n",
    "print( f'Farm MNB: ${round(get_mnb(farm, x[1]), 1)}/acre-foot')\n",
    "print( f'Industrial MNB: ${round(get_mnb(indus, x[2]), 1)}/acre-foot')"
   ]
  },
  {
   "cell_type": "markdown",
   "metadata": {
    "slideshow": {
     "slide_type": "slide"
    }
   },
   "source": [
    "## Non-linear systems of equations\n",
    "So far, we have dealt only with systems of equations where all equations are linear (i.e., we don't have any $q_c^2$, $q_c*q_f$, etc.) However, non-linear systems are common in many lines of research, and require different solution methods. These are typically numerical techniques as opposed to linear algebraic manipulations. However, we will not go into the details beyond their implementation in Python."
   ]
  },
  {
   "cell_type": "markdown",
   "metadata": {
    "slideshow": {
     "slide_type": "fragment"
    }
   },
   "source": [
    "#### What if the MNB curves are non-linear?\n",
    "\n",
    "In our last example, the three sectors were assumed to have linear marginal net benefits curves. However, supply and demand curves are often non-linear (e.g., Cobb-Douglas elasticity). "
   ]
  },
  {
   "cell_type": "markdown",
   "metadata": {
    "slideshow": {
     "slide_type": "fragment"
    }
   },
   "source": [
    "For example, consider a different region with 2000 acre-feet of water to be allocated among five water-using sectors, which are assumed to have the following non-linear marginal net benefits functions:\n",
    "\n",
    "\\begin{align}\n",
    "MNB_a &= 3000 - 85 q_a \\\\\n",
    "MNB_b &= 7500 - 50 q_b \\\\\n",
    "MNB_c &= 5000 - 6 q_c^2 \\\\\n",
    "MNB_d &= 1000 - 150 q_d^{1/8} \\\\\n",
    "MNB_e &= 3000 - 40 q_e\n",
    "\\end{align}"
   ]
  },
  {
   "cell_type": "markdown",
   "metadata": {
    "slideshow": {
     "slide_type": "fragment"
    }
   },
   "source": [
    "Using a similar technique from before, we can write five equations for the five unknowns:\n",
    "\n",
    "\\begin{align}\n",
    "3000 - 85 q_a &= 7500 - 50 q_b \\\\\n",
    "7500 - 50 q_b &= 5000 - 6 q_c^2 \\\\\n",
    "5000 - 6 q_c^2 &= 1000 - 150 q_d^{1/8} \\\\\n",
    "1000 - 150 q_d^{1/8} &= 3000 - 40 q_e\\\\\n",
    "q_a + q_b + q_c + q_d + q_e &\\leq 2000\n",
    "\\end{align}"
   ]
  },
  {
   "cell_type": "markdown",
   "metadata": {
    "slideshow": {
     "slide_type": "fragment"
    }
   },
   "source": [
    "And then write this again with unknowns on the left and constants on the right (and after assuming again that the 2000 acre-foot constraint will be **binding** (\"$=$\" rather than \"$\\leq$\").\n",
    "\n",
    "\\begin{align}\n",
    "-85 q_a + 50 q_b + 0 q_c + 0 q_d + 0 q_e &= 4500 \\\\\n",
    "0 q_a - 50 q_b + 6 q_c^2 + 0 q_d + 0 q_e &= -2500 \\\\\n",
    "0 q_a + 0 q_b - 6 q_c^2 + 150 q_d^{1/8} + 0 q_e &= -4000 \\\\\n",
    "0 q_a + 0 q_b + 0 q_c - 150 q_d^{1/8} + 40 q_e &= 2000 \\\\\n",
    "1 q_a + 1 q_b + 1 q_c + 1 q_d + 1 q_e &= 2000 \\\\\n",
    "\\end{align}\n",
    "\n",
    "\\begin{align}\n",
    "-85 q_a + 50 q_b + 0 q_c + 0 q_d + 0 q_e -4500 &= 0 \\\\\n",
    "0 q_a - 50 q_b + 6 q_c^2 + 0 q_d + 0 q_e +2500 &= 0 \\\\\n",
    "0 q_a + 0 q_b - 6 q_c^2 + 150 q_d^{1/8} + 0 q_e +4000 &= 0 \\\\\n",
    "0 q_a + 0 q_b + 0 q_c - 150 q_d^{1/8} + 40 q_e -2000 &= 0 \\\\\n",
    "1 q_a + 1 q_b + 1 q_c + 1 q_d + 1 q_e - 2000&= 0 \\\\\n",
    "\\end{align}"
   ]
  },
  {
   "cell_type": "markdown",
   "metadata": {
    "slideshow": {
     "slide_type": "fragment"
    }
   },
   "source": [
    "Because these are **non-linear equations**, we can't solve them through the ``numpy.linalg`` solution method. Instead, we will use ``scipy``, a popular package for scientific computing. We will use the ``optimize`` and ``integrate`` modules today, but there are many other useful modules for statistics, interpolation, signal processing, etc. See [the documentation](https://docs.scipy.org/doc/scipy/reference/index.html) for more."
   ]
  },
  {
   "cell_type": "code",
   "execution_count": 10,
   "metadata": {
    "slideshow": {
     "slide_type": "fragment"
    }
   },
   "outputs": [],
   "source": [
    "### import \"root\" function, which finds the roots of multivariate functions\n",
    "from scipy.optimize import root "
   ]
  },
  {
   "cell_type": "code",
   "execution_count": 11,
   "metadata": {
    "slideshow": {
     "slide_type": "fragment"
    }
   },
   "outputs": [],
   "source": [
    "### Define our system of equations as a function. Input q is 5-dimensional array of allocations, [q_a, q_b, q_c, q_d, q_e].\n",
    "### The output, eq, is a 5-dimensional array that should be [0., 0., 0., 0., 0.] if q is a root.\n",
    "def soe(q):\n",
    "    eq = np.zeros(5)\n",
    "    eq[0] = -85 * q[0] + 50 * q[1] - 4500\n",
    "    eq[1] = -50 * q[1] + 6 * q[2] ** 2 + 2500\n",
    "    eq[2] = -6 * q[2] ** 2 + 150 * q[3] ** (1/8) + 4000\n",
    "    eq[3] = -150 * q[3] ** (1/8) + 40 * q[4] - 2000\n",
    "    eq[4] = q.sum() - 2000\n",
    "    return eq"
   ]
  },
  {
   "cell_type": "code",
   "execution_count": 12,
   "metadata": {
    "slideshow": {
     "slide_type": "fragment"
    }
   },
   "outputs": [
    {
     "name": "stdout",
     "output_type": "stream",
     "text": [
      "    fjac: array([[-9.99913493e-01, -4.16012810e-03,  4.16111615e-03,\n",
      "        -9.87963251e-07,  1.17636882e-02],\n",
      "       [-4.55976457e-03,  9.99466226e-01, -7.55716083e-03,\n",
      "         1.78009404e-06, -3.14541120e-02],\n",
      "       [ 3.71886096e-03,  6.46844625e-03,  9.99355686e-01,\n",
      "         2.25330506e-04, -3.51068508e-02],\n",
      "       [ 1.17064929e-02,  3.15962827e-02,  3.46909910e-02,\n",
      "        -9.86507028e-02,  9.93946280e-01],\n",
      "       [-1.15868799e-03, -3.12901775e-03, -3.21279459e-03,\n",
      "        -9.95122097e-01, -9.85421564e-02]])\n",
      "     fun: array([-1.81898940e-12,  3.57431418e-10, -3.56976670e-10, -2.27373675e-13,\n",
      "        0.00000000e+00])\n",
      " message: 'The solution converged.'\n",
      "    nfev: 17\n",
      "     qtf: array([-5.03032211e-07,  6.08758823e-05, -6.00214018e-05, -1.87088257e-07,\n",
      "        4.99675859e-09])\n",
      "       r: array([ 8.50073537e+01, -4.97744583e+01, -2.68632123e+00,  1.21752797e-02,\n",
      "        1.23189483e-02, -5.04077561e+01,  3.26522079e+02, -3.19735677e-02,\n",
      "       -1.03353772e-01, -3.21933264e+02,  6.39283817e-02,  4.48834925e-02,\n",
      "        1.00719266e+00, -2.95185843e+00, -3.99034155e+01])\n",
      "  status: 1\n",
      " success: True\n",
      "       x: array([  28.01669717,  137.62838519,   27.02288925, 1747.7965469 ,\n",
      "         59.53548149])\n",
      "\n"
     ]
    }
   ],
   "source": [
    "### Supply initial guess along with our soe function, and then find root\n",
    "guess = np.array([402., 401., 400., 399., 398.])\n",
    "sol = root(soe, guess)\n",
    "\n",
    "print(sol)\n",
    "print()"
   ]
  },
  {
   "cell_type": "code",
   "execution_count": 13,
   "metadata": {
    "slideshow": {
     "slide_type": "fragment"
    }
   },
   "outputs": [
    {
     "name": "stdout",
     "output_type": "stream",
     "text": [
      "[  28.01669717  137.62838519   27.02288925 1747.7965469    59.53548149]\n"
     ]
    },
    {
     "data": {
      "text/plain": [
       "2000.0"
      ]
     },
     "execution_count": 13,
     "metadata": {},
     "output_type": "execute_result"
    }
   ],
   "source": [
    "q_allocation = sol['x']\n",
    "print(q_allocation)\n",
    "\n",
    "q_allocation.sum()"
   ]
  },
  {
   "cell_type": "markdown",
   "metadata": {
    "slideshow": {
     "slide_type": "fragment"
    }
   },
   "source": [
    "We find for this system that sector $d$ uses the vast majority of the water, at 1747.8 out of 2000 acre-feet."
   ]
  },
  {
   "cell_type": "markdown",
   "metadata": {
    "slideshow": {
     "slide_type": "slide"
    }
   },
   "source": [
    "## Constrained optimization\n",
    "#### What if the government caps sector $d$ at 1500 acre-feet? How much will the others use?"
   ]
  },
  {
   "cell_type": "markdown",
   "metadata": {
    "slideshow": {
     "slide_type": "fragment"
    }
   },
   "source": [
    "We now have two **constraints** that our solution must meet:\n",
    "\n",
    "\\begin{align}\n",
    "q_a + q_b + q_c + q_d + q_e &\\leq 2000 \\\\\n",
    "q_d &\\leq 1500 \n",
    "\\end{align}"
   ]
  },
  {
   "cell_type": "markdown",
   "metadata": {
    "slideshow": {
     "slide_type": "fragment"
    }
   },
   "source": [
    "In the previous solutions, we assumed that the first constraint was **binding** and replaced the \"$\\leq$\" with \"$=$\". This was ok because we can verify that in the absense of the constraint, the total use will be greater than 2000. However, as we add more constraints, it becomes more likely that we might falsely apply equivalence to a **non-binding** constraint. "
   ]
  },
  {
   "cell_type": "markdown",
   "metadata": {
    "slideshow": {
     "slide_type": "fragment"
    }
   },
   "source": [
    "With the current example, once we apply the second constraint to sector $d$, the first constraint becomes non-binding, which means that the total use is actually less than 2000. If we make the first constraint binding, then we will accidentally force users to use a sub-optimal amount. "
   ]
  },
  {
   "cell_type": "markdown",
   "metadata": {
    "slideshow": {
     "slide_type": "fragment"
    }
   },
   "source": [
    "Fortunately, there is a better way to solve multi-constraint problems, using **constrained optimization**. "
   ]
  },
  {
   "cell_type": "markdown",
   "metadata": {
    "slideshow": {
     "slide_type": "fragment"
    }
   },
   "source": [
    "To do this, we will write an **equivalent formulation** of the problem. Rather than setting the marginal net benefits functions equal to each other and solving the system of equations, we can **maximize the net benefits**. If you are taking ENVR 755, this should make sense. If not, you may just have to trust me. The net benefits function is the integral of the marginal net benefits function (in fact, MNB is really defined as the derivative of NB). "
   ]
  },
  {
   "cell_type": "markdown",
   "metadata": {
    "slideshow": {
     "slide_type": "fragment"
    }
   },
   "source": [
    "Thus, we want to find the solution $\\mathbf{q}$ that maximizes the following quantity:\n",
    "\n",
    "$$NB = \\sum_{s=a}^e \\left(\\int_0^{q_s} MNB_s dq\\right)$$\n",
    "\n",
    "subject to the two constraints above."
   ]
  },
  {
   "cell_type": "markdown",
   "metadata": {
    "slideshow": {
     "slide_type": "slide"
    }
   },
   "source": [
    "Thus, we need to integrate each of the marginal net benefits functions (if you don't remember how to do this, don't worry - we will see how to integrate automatically with Scipy later on):\n",
    "\n",
    "\\begin{align}\n",
    "NB_a &= \\int_0^{q_a} 3000 - 85 q_a dq_a = 3000 q_a - \\frac{85}{2} q_a^2\\\\\n",
    "NB_b &= \\int_0^{q_b} 7500 - 50 q_b dq_b = 7500 q_b - 25 q_b^2 \\\\\n",
    "NB_c &= \\int_0^{q_c} 5000 - 6 q_c^2 dq_c = 5000 q_c - 2 q_c^3 \\\\\n",
    "NB_d &= \\int_0^{q_d} 1000 - 150 q_d^{1/8} dq_d = 1000 q_d - \\frac{400}{3} q_d^{9/8} \\\\\n",
    "NB_e &= \\int_0^{q_e} 3000 - 40 q_e dq_e = 3000 q_e - 20 q_e^2\n",
    "\\end{align}\n",
    "\n",
    "The first step to constrained optimization with Scipy, as with the root finder above, is to write a function for the total net benefits. We multiply it by -1 since the optimization function likes to minimize, rather than maximize."
   ]
  },
  {
   "cell_type": "code",
   "execution_count": 14,
   "metadata": {
    "slideshow": {
     "slide_type": "fragment"
    }
   },
   "outputs": [],
   "source": [
    "## write function for minus total net benefits. We make it negative since optimizer likes to minimize, not maximize.\n",
    "def MinusNetBenefits(q):\n",
    "    nb = np.zeros(5)\n",
    "    nb[0] = 3000 * q[0] - 85/2 * q[0] ** 2\n",
    "    nb[1] = 7500 * q[1] - 50/2 * q[1] ** 2\n",
    "    nb[2] = 5000 * q[2] - 6/3 * q[2] ** 3\n",
    "    nb[3] = 1000 * q[3] - 150*8/9 * q[3] ** (9/8)\n",
    "    nb[4] = 3000 * q[4] - 40/2 * q[4] ** 2\n",
    "    return -nb.sum()"
   ]
  },
  {
   "cell_type": "markdown",
   "metadata": {
    "slideshow": {
     "slide_type": "fragment"
    }
   },
   "source": [
    "Let's first do the optimization without the constraint on sector $d$, to make sure we get the same answer as our rootfinder method above."
   ]
  },
  {
   "cell_type": "code",
   "execution_count": 15,
   "metadata": {
    "slideshow": {
     "slide_type": "fragment"
    }
   },
   "outputs": [],
   "source": [
    "## import minimize function, along with Bounds and LinearConstraint classes\n",
    "from scipy.optimize import Bounds, LinearConstraint, minimize\n",
    "\n",
    "## Set bounds for each q variable\n",
    "bounds = Bounds([0, 0, 0, 0, 0], [np.inf, np.inf, np.inf, np.inf, np.inf])\n",
    "\n",
    "## set other linear constraints. THis is how we write \"0 <= q_a + q_b + q_c + q_d + q_e <= 2000\"\n",
    "linear_constraint = LinearConstraint([1, 1, 1, 1, 1], 0, 2000)"
   ]
  },
  {
   "cell_type": "code",
   "execution_count": 16,
   "metadata": {
    "slideshow": {
     "slide_type": "fragment"
    }
   },
   "outputs": [
    {
     "name": "stdout",
     "output_type": "stream",
     "text": [
      " barrier_parameter: 2.048000000000001e-09\n",
      " barrier_tolerance: 2.048000000000001e-09\n",
      "          cg_niter: 250\n",
      "      cg_stop_cond: 4\n",
      "            constr: [array([1999.99999995]), array([  28.01669684,  137.62838412,   27.02288929, 1747.79654717,\n",
      "         59.53548253])]\n",
      "       constr_nfev: [0, 0]\n",
      "       constr_nhev: [0, 0]\n",
      "       constr_njev: [0, 0]\n",
      "    constr_penalty: 1.0\n",
      "  constr_violation: 0.0\n",
      "    execution_time: 0.21145915985107422\n",
      "               fun: -1967953.8922103962\n",
      "              grad: array([-618.58090528, -618.58072714, -618.58034101, -618.58073723,\n",
      "       -618.58069358])\n",
      "               jac: [array([[1, 1, 1, 1, 1]]), array([[1., 0., 0., 0., 0.],\n",
      "       [0., 1., 0., 0., 0.],\n",
      "       [0., 0., 1., 0., 0.],\n",
      "       [0., 0., 0., 1., 0.],\n",
      "       [0., 0., 0., 0., 1.]])]\n",
      "   lagrangian_grad: array([-2.24115226e-04, -4.62540349e-05,  3.39412251e-04, -5.63454548e-05,\n",
      "       -1.26975376e-05])\n",
      "           message: '`xtol` termination condition is satisfied.'\n",
      "            method: 'tr_interior_point'\n",
      "              nfev: 468\n",
      "              nhev: 0\n",
      "               nit: 126\n",
      "             niter: 126\n",
      "              njev: 0\n",
      "        optimality: 0.00033941225089550856\n",
      "            status: 2\n",
      "           success: True\n",
      "         tr_radius: 1.0000000000000005e-09\n",
      "                 v: [array([618.58068088]), array([ 2.85447536e-07,  2.42705104e-09, -4.64873466e-07,  1.72731898e-11,\n",
      "        3.54794881e-09])]\n",
      "                 x: array([  28.01669684,  137.62838412,   27.02288929, 1747.79654717,\n",
      "         59.53548253])\n",
      "\n"
     ]
    },
    {
     "name": "stderr",
     "output_type": "stream",
     "text": [
      "C:\\Users\\rcuppari\\AppData\\Local\\Continuum\\miniconda3\\envs\\py36\\lib\\site-packages\\scipy\\optimize\\_hessian_update_strategy.py:187: UserWarning: delta_grad == 0.0. Check if the approximated function is linear. If the function is linear better results can be obtained by defining the Hessian as zero instead of using quasi-Newton approximations.\n",
      "  'approximations.', UserWarning)\n"
     ]
    }
   ],
   "source": [
    "sol_min = minimize(MinusNetBenefits, np.array([400, 300, 500, 600, 500]), bounds=bounds, constraints=linear_constraint, method='trust-constr')\n",
    "print(sol_min)\n",
    "print()"
   ]
  },
  {
   "cell_type": "code",
   "execution_count": 17,
   "metadata": {
    "slideshow": {
     "slide_type": "fragment"
    }
   },
   "outputs": [
    {
     "name": "stdout",
     "output_type": "stream",
     "text": [
      "[-3.35588989e-07 -1.07144757e-06  4.79362612e-08  2.62890808e-07\n",
      "  1.04447840e-06]\n",
      " barrier_parameter: 2.048000000000001e-09\n",
      " barrier_tolerance: 2.048000000000001e-09\n",
      "          cg_niter: 250\n",
      "      cg_stop_cond: 4\n",
      "            constr: [array([1999.99999995]), array([  28.01669684,  137.62838412,   27.02288929, 1747.79654717,\n",
      "         59.53548253])]\n",
      "       constr_nfev: [0, 0]\n",
      "       constr_nhev: [0, 0]\n",
      "       constr_njev: [0, 0]\n",
      "    constr_penalty: 1.0\n",
      "  constr_violation: 0.0\n",
      "    execution_time: 0.21145915985107422\n",
      "               fun: -1967953.8922103962\n",
      "              grad: array([-618.58090528, -618.58072714, -618.58034101, -618.58073723,\n",
      "       -618.58069358])\n",
      "               jac: [array([[1, 1, 1, 1, 1]]), array([[1., 0., 0., 0., 0.],\n",
      "       [0., 1., 0., 0., 0.],\n",
      "       [0., 0., 1., 0., 0.],\n",
      "       [0., 0., 0., 1., 0.],\n",
      "       [0., 0., 0., 0., 1.]])]\n",
      "   lagrangian_grad: array([-2.24115226e-04, -4.62540349e-05,  3.39412251e-04, -5.63454548e-05,\n",
      "       -1.26975376e-05])\n",
      "           message: '`xtol` termination condition is satisfied.'\n",
      "            method: 'tr_interior_point'\n",
      "              nfev: 468\n",
      "              nhev: 0\n",
      "               nit: 126\n",
      "             niter: 126\n",
      "              njev: 0\n",
      "        optimality: 0.00033941225089550856\n",
      "            status: 2\n",
      "           success: True\n",
      "         tr_radius: 1.0000000000000005e-09\n",
      "                 v: [array([618.58068088]), array([ 2.85447536e-07,  2.42705104e-09, -4.64873466e-07,  1.72731898e-11,\n",
      "        3.54794881e-09])]\n",
      "                 x: array([  28.01669684,  137.62838412,   27.02288929, 1747.79654717,\n",
      "         59.53548253])\n"
     ]
    }
   ],
   "source": [
    "print(sol_min['x'] - q_allocation)\n",
    "print(sol_min)"
   ]
  },
  {
   "cell_type": "code",
   "execution_count": 18,
   "metadata": {
    "slideshow": {
     "slide_type": "fragment"
    }
   },
   "outputs": [
    {
     "data": {
      "text/plain": [
       "1999.9999999482689"
      ]
     },
     "execution_count": 18,
     "metadata": {},
     "output_type": "execute_result"
    }
   ],
   "source": [
    "sol_min.x.sum()"
   ]
  },
  {
   "cell_type": "code",
   "execution_count": 19,
   "metadata": {
    "slideshow": {
     "slide_type": "fragment"
    }
   },
   "outputs": [
    {
     "name": "stdout",
     "output_type": "stream",
     "text": [
      "[  28.01669684  137.62838412   27.02288929 1747.79654717   59.53548253]\n",
      "\n",
      "1999.9999999482689\n"
     ]
    }
   ],
   "source": [
    "q_allocation = sol_min.x\n",
    "print(q_allocation)\n",
    "print()\n",
    "\n",
    "print(q_allocation.sum())"
   ]
  },
  {
   "cell_type": "markdown",
   "metadata": {
    "slideshow": {
     "slide_type": "fragment"
    }
   },
   "source": [
    "We get the same answers as before - good. Now let's adjust our formulation to include the constraint that $q_d \\leq 1500$."
   ]
  },
  {
   "cell_type": "code",
   "execution_count": 20,
   "metadata": {
    "slideshow": {
     "slide_type": "fragment"
    }
   },
   "outputs": [
    {
     "name": "stdout",
     "output_type": "stream",
     "text": [
      " barrier_parameter: 2.048000000000001e-09\n",
      " barrier_tolerance: 2.048000000000001e-09\n",
      "          cg_niter: 187\n",
      "      cg_stop_cond: 2\n",
      "            constr: [array([1789.16162866]), array([  35.29411688,  149.9999991 ,   28.86751403, 1500.        ,\n",
      "         74.99999866])]\n",
      "       constr_nfev: [0, 0]\n",
      "       constr_nhev: [0, 0]\n",
      "       constr_njev: [0, 0]\n",
      "    constr_penalty: 1.0\n",
      "  constr_violation: 0.0\n",
      "    execution_time: 0.1925523281097412\n",
      "               fun: -1825234.1709352047\n",
      "              grad: array([ 0.00000000e+00,  0.00000000e+00,  5.41265865e-04, -6.25800958e+02,\n",
      "        0.00000000e+00])\n",
      "               jac: [array([[1, 1, 1, 1, 1]]), array([[1., 0., 0., 0., 0.],\n",
      "       [0., 1., 0., 0., 0.],\n",
      "       [0., 0., 1., 0., 0.],\n",
      "       [0., 0., 0., 1., 0.],\n",
      "       [0., 0., 0., 0., 1.]])]\n",
      "   lagrangian_grad: array([-1.23688796e-08, -1.23338875e-08,  5.40604747e-04, -1.13686838e-13,\n",
      "       -1.23458942e-08])\n",
      "           message: '`xtol` termination condition is satisfied.'\n",
      "            method: 'tr_interior_point'\n",
      "              nfev: 936\n",
      "              nhev: 0\n",
      "               nit: 106\n",
      "             niter: 106\n",
      "              njev: 0\n",
      "        optimality: 0.0005406047473299065\n",
      "            status: 2\n",
      "           success: True\n",
      "         tr_radius: 1.7626342933928352e-09\n",
      "                 v: [array([-1.23207824e-08]), array([-4.80972157e-11, -1.31051378e-11, -6.48796616e-07,  6.25800958e+02,\n",
      "       -2.51118414e-11])]\n",
      "                 x: array([  35.29411688,  149.9999991 ,   28.86751403, 1500.        ,\n",
      "         74.99999866])\n",
      "\n",
      "[  35.29411688  149.9999991    28.86751403 1500.           74.99999866]\n",
      "\n",
      "1789.1616286625508\n"
     ]
    }
   ],
   "source": [
    "bounds = Bounds([0, 0, 0, 0, 0], [np.inf, np.inf, np.inf, 1500, np.inf])\n",
    "linear_constraint = LinearConstraint([1, 1, 1, 1, 1], 0, 2000)\n",
    "\n",
    "sol_min = minimize(MinusNetBenefits, np.array([120, 125, 134, 1500, 101]), bounds=bounds, constraints=linear_constraint, method='trust-constr')\n",
    "print(sol_min)\n",
    "print()\n",
    "\n",
    "q_allocation = sol_min.x\n",
    "print(q_allocation)\n",
    "print()\n",
    "\n",
    "print(q_allocation.sum())"
   ]
  },
  {
   "cell_type": "markdown",
   "metadata": {
    "slideshow": {
     "slide_type": "fragment"
    }
   },
   "source": [
    "Notice that the total water consumed, 1789.2 acre-feet, is less than 2000. Thus, if we had assumed that the constraint was binding and solved using the system of equations method, we would have gotten the wrong answer because we \"forced\" everyone to use more water than they wanted."
   ]
  },
  {
   "cell_type": "markdown",
   "metadata": {
    "slideshow": {
     "slide_type": "slide"
    }
   },
   "source": [
    "## Numerical integration\n",
    "Fortunately, it is straightforward to integrate numerically using ``Scipy``, so that you don't have to do the integration by hand like we did above. We will use the ``quad`` function from the ``integrate`` module."
   ]
  },
  {
   "cell_type": "code",
   "execution_count": 21,
   "metadata": {
    "slideshow": {
     "slide_type": "fragment"
    }
   },
   "outputs": [],
   "source": [
    "## use scipy integration\n",
    "## constrained optimization approach\n",
    "from scipy.integrate import quad "
   ]
  },
  {
   "cell_type": "code",
   "execution_count": 22,
   "metadata": {
    "slideshow": {
     "slide_type": "fragment"
    }
   },
   "outputs": [],
   "source": [
    "## First, write each marginal net benefits as its own function\n",
    "def mnb_a(x): \n",
    "    return 3000 - 85 * x\n",
    "def mnb_b(x): \n",
    "    return 1500 * 5 - 50 * x\n",
    "def mnb_c(x): \n",
    "    return 500 * 10 - 6 * x ** 2\n",
    "def mnb_d(x): \n",
    "    return 1000 - 150 * x ** (1/8)\n",
    "def mnb_e(x): \n",
    "    return 3000 - 40 * x"
   ]
  },
  {
   "cell_type": "code",
   "execution_count": 23,
   "metadata": {
    "slideshow": {
     "slide_type": "fragment"
    }
   },
   "outputs": [],
   "source": [
    "## Now write the net benefits as the integral of mnb function\n",
    "def nb_s(fn, x): \n",
    "    return quad(fn, 0, x)[0]"
   ]
  },
  {
   "cell_type": "code",
   "execution_count": 24,
   "metadata": {
    "slideshow": {
     "slide_type": "fragment"
    }
   },
   "outputs": [],
   "source": [
    "def MinusNetBenefits_integrate(q):\n",
    "    nb = np.zeros(5)\n",
    "    nb[0] = nb_s(mnb_a, q[0])\n",
    "    nb[1] = nb_s(mnb_b, q[1])\n",
    "    nb[2] = nb_s(mnb_c, q[2])\n",
    "    nb[3] = nb_s(mnb_d, q[3])\n",
    "    nb[4] = nb_s(mnb_e, q[4])\n",
    "    return -nb.sum()"
   ]
  },
  {
   "cell_type": "code",
   "execution_count": 25,
   "metadata": {
    "slideshow": {
     "slide_type": "fragment"
    }
   },
   "outputs": [
    {
     "name": "stdout",
     "output_type": "stream",
     "text": [
      " barrier_parameter: 2.048000000000001e-09\n",
      " barrier_tolerance: 2.048000000000001e-09\n",
      "          cg_niter: 185\n",
      "      cg_stop_cond: 2\n",
      "            constr: [array([1789.16162357]), array([  35.29411566,  149.99999848,   28.86751161, 1499.99999995,\n",
      "         74.99999787])]\n",
      "       constr_nfev: [0, 0]\n",
      "       constr_nhev: [0, 0]\n",
      "       constr_njev: [0, 0]\n",
      "    constr_penalty: 1.0\n",
      "  constr_violation: 0.0\n",
      "    execution_time: 0.19576692581176758\n",
      "               fun: -1825234.170904484\n",
      "              grad: array([ 0.00000000e+00,  0.00000000e+00, -5.41265914e-04, -6.25800958e+02,\n",
      "        0.00000000e+00])\n",
      "               jac: [array([[1, 1, 1, 1, 1]]), array([[1., 0., 0., 0., 0.],\n",
      "       [0., 1., 0., 0., 0.],\n",
      "       [0., 0., 1., 0., 0.],\n",
      "       [0., 0., 0., 1., 0.],\n",
      "       [0., 0., 0., 0., 1.]])]\n",
      "   lagrangian_grad: array([ 1.22700502e-08,  1.23237261e-08, -5.40604921e-04, -1.36424205e-12,\n",
      "        1.23084321e-08])\n",
      "           message: '`xtol` termination condition is satisfied.'\n",
      "            method: 'tr_interior_point'\n",
      "              nfev: 312\n",
      "              nhev: 0\n",
      "               nit: 113\n",
      "             niter: 113\n",
      "              njev: 0\n",
      "        optimality: 0.0005406049209317722\n",
      "            status: 2\n",
      "           success: True\n",
      "         tr_radius: 7.2699948465831435e-09\n",
      "                 v: [array([1.2337927e-08]), array([-6.78767983e-11, -1.42009023e-11,  6.48655043e-07,  6.25800958e+02,\n",
      "       -2.94948333e-11])]\n",
      "                 x: array([  35.29411566,  149.99999848,   28.86751161, 1499.99999995,\n",
      "         74.99999787])\n",
      "1789.1616235674392\n"
     ]
    }
   ],
   "source": [
    "sol_min = minimize(MinusNetBenefits_integrate, np.array([120, 125, 134, 1500, 101]), bounds=bounds, constraints=linear_constraint, method='trust-constr')\n",
    "print(sol_min)\n",
    "print(sol_min.x.sum())\n",
    "x = sol_min.x"
   ]
  },
  {
   "cell_type": "markdown",
   "metadata": {
    "slideshow": {
     "slide_type": "fragment"
    }
   },
   "source": [
    "As we had hoped, we get the same answer as when we integrated by hand (up to the fourth digit behind the decimal). If precision is important, you can adjust the error tolerance for both the integration and the optimization - see documentation for details."
   ]
  }
 ],
 "metadata": {
  "celltoolbar": "Slideshow",
  "kernelspec": {
   "display_name": "Python 3",
   "language": "python",
   "name": "python3"
  },
  "language_info": {
   "codemirror_mode": {
    "name": "ipython",
    "version": 3
   },
   "file_extension": ".py",
   "mimetype": "text/x-python",
   "name": "python",
   "nbconvert_exporter": "python",
   "pygments_lexer": "ipython3",
   "version": "3.6.10"
  }
 },
 "nbformat": 4,
 "nbformat_minor": 4
}
