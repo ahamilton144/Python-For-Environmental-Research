{
 "cells": [
  {
   "cell_type": "markdown",
   "metadata": {},
   "source": [
    "# Homework 2: Variable types and basic data structures\n",
    "ENVR 890-010: Python for Environmental Research, Fall 2022\n",
    "\n",
    "By Andrew Hamilton, adapted by Rosa Cuppari. Some material adapted from Greg Characklis, David Gorelick and H.B. Zeff. \n"
   ]
  },
  {
   "cell_type": "markdown",
   "metadata": {},
   "source": [
    "## Instructions\n",
    "This homework will review the material from Lecture 2 (of the same name). \n",
    "\n",
    "**Due September 2, 2022 before class**\n",
    "\n",
    "Instructions:\n",
    "1. \"Save as\" (under \"File\" tab) and save a copy of the notebook as ``HW2_BasicStructures_<your_last_name>.ipynb``.\n",
    "1. Fill in the answers to each question using one or more new cells. Feel free to use markdown cells, code cells, or a mix of the two, depending on the nature of the question. Refer to the top of Lecture 1 (and the cited reference) for some tips on how to create and alter different types of cells.\n",
    "1. After finishing, save the notebook (``Ctrl`` + ``s``, so that it says \"Last Checkpoint: a few seconds ago (autosaved)\" rather than \"...(unsaved changes)\" at the top of the page next to the Notebook's name)"
   ]
  },
  {
   "cell_type": "markdown",
   "metadata": {},
   "source": [
    "## 0) Your name here"
   ]
  },
  {
   "cell_type": "markdown",
   "metadata": {},
   "source": [
    "### 1)\n",
    "Why are computer programming, and languages like Python useful for researchers? (Don't need to write much here, just a couple of sentences)."
   ]
  },
  {
   "cell_type": "markdown",
   "metadata": {},
   "source": [
    "### 2)\n",
    "Though computers allow us to do difficult calculations much more efficiently, they do have some shortcomings. Identify and discuss two ways that calculations might be incorrect due to the limitations of computers. (hint: think precision and memory)."
   ]
  },
  {
   "cell_type": "markdown",
   "metadata": {},
   "source": [
    "### 3)\n",
    "Python will dynamically choose the type when you create a new variable. What will the type be for each of the following? (Create a code cell to make sure you are right!)\n",
    "1. 6.022\n",
    "1. 6.022e23\n",
    "1. 6022\n",
    "1. 6022.\n",
    "1. '6.022e23'\n",
    "1. \"Avogadro's constant\"\n",
    "1. 6022 - 21\n",
    "1. 6022 - 21.\n",
    "1. 10 ** 23\n",
    "1. 6.022 * 10 ** 23\n",
    "1. 6022 * 10 ** 19\n",
    "1. 6022 * 10e19\n",
    "1. 6022 / 10 ** -20\n",
    "1. 6.022 + 10e23j\n",
    "1. \"True\"\n",
    "1. False"
   ]
  },
  {
   "cell_type": "markdown",
   "metadata": {},
   "source": [
    "### 4)\n",
    "1. Create a list named ``names_top10`` with the names of the countries with the highest mortality rates from unsafe water and sanitation using [data from the World Bank](https://data.worldbank.org/indicator/SH.STA.WASH.P5?most_recent_value_desc=true).\n",
    "1. Use indexing to create a shorter list of the top 5, ``names_top5``. Print the list and then its length. \n",
    "1. Create a list of the mortality rate per 100,000 in population, ``rate_top5``.\n",
    "1. Use indexing to retrieve the name of the 6th country in your original list, placing it within its own list ``sixth``.\n",
    "1. Add ``names_top5`` and ``sixth`` together so that you have a new list with the names of the six countries with the highest mortality rates. \n"
   ]
  },
  {
   "cell_type": "markdown",
   "metadata": {},
   "source": [
    "### 5) \n",
    "1. Using a new dataset with the percentage of the rural population using safely managed sanitation services ([found here](https://data.worldbank.org/indicator/SH.STA.SMSS.RU.ZS?most_recent_value_desc=true)), create a list, ``rural_top5``, with the percentage of the population in the countries you listed in ``names_top5`` using safely managed sanitation. \n",
    "1. Do the same thing, but now with the percentage of the *urban* population ([found here](https://data.worldbank.org/indicator/SH.STA.SMSS.UR.ZS?most_recent_value_desc=true)), ``urban_top5``.\n",
    "1. Create a list, ``safe_top5``,  where the first item in the list contains *two* lists: ``name_top5`` and ``rural_top5``. \n",
    "1. Now add a second item to ``safe_top5``, containing two more lists: ``name_top5`` and ``urban_top5``"
   ]
  },
  {
   "cell_type": "markdown",
   "metadata": {},
   "source": [
    "Using your dictionary rivers_top5, print the following statement using the + method:\n",
    "\n",
    "The Rio Grande is the number 4 river in the US in terms of length, at 1759 miles. Its mouth is located at (25.956111, -97.145278).\n",
    "\n",
    "Now use the f-string method to format the statement as follows:\n",
    "\n",
    "The Rio Grande is the number 4 river in the US in terms of length, at 1,759 miles. Its mouth is located at (25.956, -97.145)."
   ]
  },
  {
   "cell_type": "markdown",
   "metadata": {},
   "source": [
    "Create a dictionary called rivers_top5 with the following key-value pairs: 1) key is \"name\", value is the list names_top5; 2) key is \"length\", value is the list lengths_top5; 3) key is \"lat\", value is the tuple lats_top5; and 4) key is \"long\", value is the tuple longs_top5."
   ]
  },
  {
   "cell_type": "code",
   "execution_count": 9,
   "metadata": {},
   "outputs": [
    {
     "name": "stdout",
     "output_type": "stream",
     "text": [
      "{'name': ['name1', 'riv2', 'riv3', 'Rio Grande', 'riv5'], 'length': [4, 12, 14, 1759, 0], 'lat': [(0,), (0,), (0,), (2.2,), (0,)], 'long': [(0,), (0,), (0,), (1.2,), (0,)]}\n"
     ]
    }
   ],
   "source": [
    "rivers_top5 = {'name':['name1', 'riv2', 'riv3', 'Rio Grande', 'riv5'], 'length': [4, 12, 14, 1759, 0], 'lat':[(0,),(0,),(0,),(2.2,),(0,)], 'long':[(0,),(0,),(0,),(1.2,),(0,)]}\n",
    "print(rivers_top5)"
   ]
  },
  {
   "cell_type": "code",
   "execution_count": 11,
   "metadata": {
    "scrolled": true
   },
   "outputs": [
    {
     "name": "stdout",
     "output_type": "stream",
     "text": [
      "Rio Grande\n",
      "2.2\n"
     ]
    }
   ],
   "source": [
    "# lastly, f-strings are a new way to format after Python 3.6\n",
    "name = rivers_top5['name'][3]\n",
    "print(name)\n",
    "age = rivers_top5['lat'][3][0]\n",
    "print(age)"
   ]
  },
  {
   "cell_type": "code",
   "execution_count": null,
   "metadata": {},
   "outputs": [],
   "source": [
    "\n",
    "sentence = f'The {name} is the number 4 river in the US in terms of length, at {len:.2f} miles. Its mouth is located at , and is {meters:.2f} m ({mms:,.2f} mm) tall'\n",
    "print(sentence)\n"
   ]
  }
 ],
 "metadata": {
  "kernelspec": {
   "display_name": "Python 3 (ipykernel)",
   "language": "python",
   "name": "python3"
  },
  "language_info": {
   "codemirror_mode": {
    "name": "ipython",
    "version": 3
   },
   "file_extension": ".py",
   "mimetype": "text/x-python",
   "name": "python",
   "nbconvert_exporter": "python",
   "pygments_lexer": "ipython3",
   "version": "3.9.7"
  }
 },
 "nbformat": 4,
 "nbformat_minor": 4
}
