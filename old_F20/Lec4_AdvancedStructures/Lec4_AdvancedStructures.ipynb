{
 "cells": [
  {
   "cell_type": "markdown",
   "metadata": {
    "slideshow": {
     "slide_type": "slide"
    }
   },
   "source": [
    "# Lecture 4: Advanced data structures & logical indexing\n",
    "ENVR 890-001: Python for Environmental Research, Fall 2020\n",
    "\n",
    "September 4, 2020\n",
    "\n",
    "By Andrew Hamilton. Some material adapted from Greg Characklis, David Gorelick and H.B. Zeff."
   ]
  },
  {
   "cell_type": "markdown",
   "metadata": {
    "slideshow": {
     "slide_type": "fragment"
    }
   },
   "source": [
    "## Summary\n",
    "In this lecture, we will first learn about using **list comprehensions** to write for loops in a more efficient and compact way. We will then move beyond the standard data structures (list, tuple, dictionary) to two advanced data structures, the **NumPy array** and the **Pandas DataFrame**. Along the way, we will learn how **logical indexing** can be used with NumPy and Pandas as a powerful tool to retrieve and manipulate particular subsets of data."
   ]
  },
  {
   "cell_type": "markdown",
   "metadata": {
    "slideshow": {
     "slide_type": "slide"
    }
   },
   "source": [
    "## List comprehensions\n",
    "As we learned last week, **loops** can be used to execute a code block for every item in a data structure. For example, to a list of the cosines of all integer degrees between 0 and 90, we can write:"
   ]
  },
  {
   "cell_type": "code",
   "execution_count": 1,
   "metadata": {
    "slideshow": {
     "slide_type": "fragment"
    }
   },
   "outputs": [],
   "source": [
    "import math\n",
    "\n",
    "def radians(degrees):\n",
    "    return degrees * (2 * math.pi / 360)"
   ]
  },
  {
   "cell_type": "code",
   "execution_count": 2,
   "metadata": {
    "slideshow": {
     "slide_type": "fragment"
    }
   },
   "outputs": [
    {
     "name": "stdout",
     "output_type": "stream",
     "text": [
      "[1.0, 0.9998476951563913, 0.9993908270190958, 0.9986295347545738, 0.9975640502598242, 0.9961946980917455, 0.9945218953682733, 0.992546151641322, 0.9902680687415704, 0.9876883405951378, 0.984807753012208, 0.981627183447664, 0.9781476007338057, 0.9743700647852352, 0.9702957262759965, 0.9659258262890683, 0.9612616959383189, 0.9563047559630354, 0.9510565162951535, 0.9455185755993168, 0.9396926207859084, 0.9335804264972017, 0.9271838545667874, 0.9205048534524404, 0.9135454576426009, 0.9063077870366499, 0.898794046299167, 0.8910065241883679, 0.882947592858927, 0.8746197071393957, 0.8660254037844387, 0.8571673007021123, 0.848048096156426, 0.838670567945424, 0.8290375725550416, 0.8191520442889918, 0.8090169943749475, 0.7986355100472928, 0.7880107536067219, 0.7771459614569709, 0.766044443118978, 0.754709580222772, 0.7431448254773942, 0.7313537016191705, 0.7193398003386512, 0.7071067811865476, 0.6946583704589973, 0.6819983600624985, 0.6691306063588582, 0.6560590289905073, 0.6427876096865394, 0.6293203910498375, 0.6156614753256583, 0.6018150231520484, 0.5877852522924731, 0.5735764363510462, 0.5591929034707468, 0.5446390350150271, 0.5299192642332049, 0.5150380749100542, 0.5000000000000001, 0.4848096202463371, 0.46947156278589086, 0.4539904997395468, 0.43837114678907746, 0.42261826174069944, 0.4067366430758002, 0.3907311284892737, 0.37460659341591196, 0.3583679495453004, 0.3420201433256688, 0.32556815445715676, 0.30901699437494745, 0.29237170472273677, 0.27563735581699916, 0.25881904510252074, 0.24192189559966767, 0.22495105434386492, 0.20791169081775945, 0.19080899537654492, 0.17364817766693041, 0.15643446504023092, 0.13917310096006547, 0.12186934340514749, 0.10452846326765346, 0.08715574274765814, 0.06975647374412523, 0.052335956242943966, 0.03489949670250108, 0.0174524064372836, 6.123233995736766e-17]\n",
      "\n",
      "91\n"
     ]
    }
   ],
   "source": [
    "cos = []\n",
    "for d in range(0, 91):\n",
    "    cos.append( math.cos( radians(d) ) )\n",
    "print(cos)\n",
    "print()\n",
    "print( len(cos) )"
   ]
  },
  {
   "cell_type": "markdown",
   "metadata": {
    "slideshow": {
     "slide_type": "fragment"
    }
   },
   "source": [
    "[**List comprehensions**](https://docs.python.org/3/tutorial/datastructures.html) are a way to write for loops in a more compact and computationally efficient way:"
   ]
  },
  {
   "cell_type": "code",
   "execution_count": 3,
   "metadata": {
    "slideshow": {
     "slide_type": "fragment"
    }
   },
   "outputs": [
    {
     "name": "stdout",
     "output_type": "stream",
     "text": [
      "[1.0, 0.9998476951563913, 0.9993908270190958, 0.9986295347545738, 0.9975640502598242, 0.9961946980917455, 0.9945218953682733, 0.992546151641322, 0.9902680687415704, 0.9876883405951378, 0.984807753012208, 0.981627183447664, 0.9781476007338057, 0.9743700647852352, 0.9702957262759965, 0.9659258262890683, 0.9612616959383189, 0.9563047559630354, 0.9510565162951535, 0.9455185755993168, 0.9396926207859084, 0.9335804264972017, 0.9271838545667874, 0.9205048534524404, 0.9135454576426009, 0.9063077870366499, 0.898794046299167, 0.8910065241883679, 0.882947592858927, 0.8746197071393957, 0.8660254037844387, 0.8571673007021123, 0.848048096156426, 0.838670567945424, 0.8290375725550416, 0.8191520442889918, 0.8090169943749475, 0.7986355100472928, 0.7880107536067219, 0.7771459614569709, 0.766044443118978, 0.754709580222772, 0.7431448254773942, 0.7313537016191705, 0.7193398003386512, 0.7071067811865476, 0.6946583704589973, 0.6819983600624985, 0.6691306063588582, 0.6560590289905073, 0.6427876096865394, 0.6293203910498375, 0.6156614753256583, 0.6018150231520484, 0.5877852522924731, 0.5735764363510462, 0.5591929034707468, 0.5446390350150271, 0.5299192642332049, 0.5150380749100542, 0.5000000000000001, 0.4848096202463371, 0.46947156278589086, 0.4539904997395468, 0.43837114678907746, 0.42261826174069944, 0.4067366430758002, 0.3907311284892737, 0.37460659341591196, 0.3583679495453004, 0.3420201433256688, 0.32556815445715676, 0.30901699437494745, 0.29237170472273677, 0.27563735581699916, 0.25881904510252074, 0.24192189559966767, 0.22495105434386492, 0.20791169081775945, 0.19080899537654492, 0.17364817766693041, 0.15643446504023092, 0.13917310096006547, 0.12186934340514749, 0.10452846326765346, 0.08715574274765814, 0.06975647374412523, 0.052335956242943966, 0.03489949670250108, 0.0174524064372836, 6.123233995736766e-17]\n",
      "\n",
      "True\n"
     ]
    }
   ],
   "source": [
    "cos_lc = [math.cos( radians(d) ) for d in range(0, 91)]\n",
    "print(cos_lc)\n",
    "print()\n",
    "print(cos == cos_lc)"
   ]
  },
  {
   "cell_type": "markdown",
   "metadata": {
    "slideshow": {
     "slide_type": "fragment"
    }
   },
   "source": [
    "The list comprehension syntax can be thought of as an **expression** (e.g., what to do to each element) followed by a **for clause**, all surrounded by brackets. \n",
    "\n",
    "We can include an **if clause** to include only certain elements (for example, those whose degrees are divisible by 10) in the final list:"
   ]
  },
  {
   "cell_type": "code",
   "execution_count": 4,
   "metadata": {
    "slideshow": {
     "slide_type": "fragment"
    }
   },
   "outputs": [
    {
     "name": "stdout",
     "output_type": "stream",
     "text": [
      "[1.0, 0.984807753012208, 0.9396926207859084, 0.8660254037844387, 0.766044443118978, 0.6427876096865394, 0.5000000000000001, 0.3420201433256688, 0.17364817766693041, 6.123233995736766e-17]\n",
      "\n"
     ]
    }
   ],
   "source": [
    "cos_divisible10 = []\n",
    "for d in range(0, 91):\n",
    "    if d % 10 == 0:\n",
    "        cos_divisible10.append( math.cos( radians(d) ) )\n",
    "print(cos_divisible10)\n",
    "print()"
   ]
  },
  {
   "cell_type": "code",
   "execution_count": 5,
   "metadata": {
    "slideshow": {
     "slide_type": "fragment"
    }
   },
   "outputs": [
    {
     "name": "stdout",
     "output_type": "stream",
     "text": [
      "[1.0, 0.984807753012208, 0.9396926207859084, 0.8660254037844387, 0.766044443118978, 0.6427876096865394, 0.5000000000000001, 0.3420201433256688, 0.17364817766693041, 6.123233995736766e-17]\n",
      "\n"
     ]
    }
   ],
   "source": [
    "cos_divisible10_lc = [math.cos( radians(d) ) for d in range(0, 91) if d % 10 == 0]\n",
    "print(cos_divisible10_lc)\n",
    "print()\n",
    "\n",
    "# print(cos_divisible10 == cos_divisible10_lc)"
   ]
  },
  {
   "cell_type": "markdown",
   "metadata": {
    "slideshow": {
     "slide_type": "fragment"
    }
   },
   "source": [
    "We can also include multiple input variables and/or multiple output variables:"
   ]
  },
  {
   "cell_type": "code",
   "execution_count": 6,
   "metadata": {
    "slideshow": {
     "slide_type": "fragment"
    }
   },
   "outputs": [
    {
     "name": "stdout",
     "output_type": "stream",
     "text": [
      "[(1.0, 1.0), (1.7071067811865475, 1.5), (2.0, 2.0), (0.7071067811865476, 0.5000000000000001), (1.414213562373095, 1.0), (1.7071067811865475, 1.5), (6.123233995736766e-17, 3.749399456654644e-33), (0.7071067811865476, 0.4999999999999999), (1.0, 1.0)]\n",
      "\n"
     ]
    }
   ],
   "source": [
    "def cos_plus_sin(d1, d2):\n",
    "    return math.cos( radians(d1) ) + math.sin( radians(d2) )\n",
    "def cos2_plus_sin2(d1, d2):\n",
    "    return math.cos( radians(d1) ) **2 + math.sin( radians(d2) ) **2\n",
    "\n",
    "cos_sin_tuples = []\n",
    "for d1 in range(0, 91, 45):\n",
    "    for d2 in range(0, 91, 45):\n",
    "        cos_sin_tuples.append( (cos_plus_sin(d1, d2), cos2_plus_sin2(d1, d2)) )\n",
    "print(cos_sin_tuples)\n",
    "print()"
   ]
  },
  {
   "cell_type": "code",
   "execution_count": 7,
   "metadata": {
    "slideshow": {
     "slide_type": "fragment"
    }
   },
   "outputs": [
    {
     "name": "stdout",
     "output_type": "stream",
     "text": [
      "[(1.0, 1.0), (1.7071067811865475, 1.5), (2.0, 2.0), (0.7071067811865476, 0.5000000000000001), (1.414213562373095, 1.0), (1.7071067811865475, 1.5), (6.123233995736766e-17, 3.749399456654644e-33), (0.7071067811865476, 0.4999999999999999), (1.0, 1.0)]\n",
      "\n",
      "True\n"
     ]
    }
   ],
   "source": [
    "cos_sin_tuples_lc = [(cos_plus_sin(d1, d2), cos2_plus_sin2(d1, d2)) for d1 in range(0, 91, 45) for d2 in range(0, 91, 45)]\n",
    "print(cos_sin_tuples_lc)\n",
    "print()\n",
    "\n",
    "print(cos_sin_tuples == cos_sin_tuples_lc)"
   ]
  },
  {
   "cell_type": "markdown",
   "metadata": {
    "slideshow": {
     "slide_type": "slide"
    }
   },
   "source": [
    "### In class exercise\n",
    "Assume you work for the county office of environmental quality, and are administering a program that will provide subsidized water quality assessments for all households that rely on private groundwater wells and have incomes less than \\$30,000 per year. First I will create random demographic data for 1000 households (but pretend for the exercise that this was retrieved from a county database)."
   ]
  },
  {
   "cell_type": "code",
   "execution_count": 8,
   "metadata": {
    "slideshow": {
     "slide_type": "fragment"
    }
   },
   "outputs": [],
   "source": [
    "import random\n",
    "## numeric index for each household in county\n",
    "household = list(range(1000))\n",
    "# print(household)"
   ]
  },
  {
   "cell_type": "code",
   "execution_count": 9,
   "metadata": {
    "slideshow": {
     "slide_type": "fragment"
    }
   },
   "outputs": [],
   "source": [
    "## water source for each household\n",
    "water = [random.choices(['municipal', 'private'], weights = [0.6, 0.4], k=1)[0] for h in household]\n",
    "# print(water)"
   ]
  },
  {
   "cell_type": "code",
   "execution_count": 10,
   "metadata": {
    "slideshow": {
     "slide_type": "fragment"
    }
   },
   "outputs": [],
   "source": [
    "## income for each household \n",
    "income = [max(random.gauss(50000, 20000), 0) for h in household]\n",
    "# print(income)"
   ]
  },
  {
   "cell_type": "markdown",
   "metadata": {
    "slideshow": {
     "slide_type": "fragment"
    }
   },
   "source": [
    "Now use list comprehension to find the list of households meeting our two criteria. How many households will we need to test?"
   ]
  },
  {
   "cell_type": "markdown",
   "metadata": {
    "slideshow": {
     "slide_type": "slide"
    }
   },
   "source": [
    "## NumPy\n",
    "[NumPy](https://numpy.org/doc/stable/) is one of the most popular packages for scientific computing and data science, and is included in the standard Anaconda installation. It is commonly imported with the **alias** ``np``. "
   ]
  },
  {
   "cell_type": "code",
   "execution_count": 11,
   "metadata": {
    "slideshow": {
     "slide_type": "fragment"
    }
   },
   "outputs": [],
   "source": [
    "import numpy as np"
   ]
  },
  {
   "cell_type": "markdown",
   "metadata": {
    "slideshow": {
     "slide_type": "slide"
    }
   },
   "source": [
    "### Creating NumPy arrays\n",
    "NumPy supports a new type of data structure: the **NumPy array**. NumPy arrays are designed to handle large, multi-dimensional arrays of numbers much more easily and efficiently than standard lists."
   ]
  },
  {
   "cell_type": "code",
   "execution_count": 12,
   "metadata": {
    "slideshow": {
     "slide_type": "fragment"
    }
   },
   "outputs": [
    {
     "name": "stdout",
     "output_type": "stream",
     "text": [
      "[[1, 2, 3, 4, 5], [10, 9, 8, 7, 6]] <class 'list'>\n"
     ]
    }
   ],
   "source": [
    "# here is a standard list with two dimensions\n",
    "l = [[1, 2, 3, 4, 5], [10, 9, 8, 7, 6]]\n",
    "print(l, type(l))"
   ]
  },
  {
   "cell_type": "code",
   "execution_count": 13,
   "metadata": {
    "slideshow": {
     "slide_type": "fragment"
    }
   },
   "outputs": [
    {
     "name": "stdout",
     "output_type": "stream",
     "text": [
      "[[ 1  2  3  4  5]\n",
      " [10  9  8  7  6]] <class 'numpy.ndarray'>\n"
     ]
    }
   ],
   "source": [
    "# create a 2D numpy array from l\n",
    "a = np.array(l)\n",
    "print(a, type(a))"
   ]
  },
  {
   "cell_type": "markdown",
   "metadata": {
    "slideshow": {
     "slide_type": "fragment"
    }
   },
   "source": [
    "Note that, unlike the basic data structures such as lists, **all elements in a NumPy array must be the same type**. Although string types are allowed, NumPy is most commonly used with numeric types such as int and float."
   ]
  },
  {
   "cell_type": "markdown",
   "metadata": {
    "slideshow": {
     "slide_type": "fragment"
    }
   },
   "source": [
    "We access the elements the same way as lists:"
   ]
  },
  {
   "cell_type": "code",
   "execution_count": 14,
   "metadata": {
    "slideshow": {
     "slide_type": "fragment"
    }
   },
   "outputs": [
    {
     "name": "stdout",
     "output_type": "stream",
     "text": [
      "10\n",
      "10\n"
     ]
    }
   ],
   "source": [
    "print(l[1][0])\n",
    "print(a[1][0])"
   ]
  },
  {
   "cell_type": "markdown",
   "metadata": {
    "slideshow": {
     "slide_type": "fragment"
    }
   },
   "source": [
    "Or, alternatively, in a single brackets and separated by a comma:"
   ]
  },
  {
   "cell_type": "code",
   "execution_count": 15,
   "metadata": {
    "slideshow": {
     "slide_type": "fragment"
    }
   },
   "outputs": [
    {
     "name": "stdout",
     "output_type": "stream",
     "text": [
      "3\n"
     ]
    }
   ],
   "source": [
    "print(a[0, 2])"
   ]
  },
  {
   "cell_type": "markdown",
   "metadata": {
    "slideshow": {
     "slide_type": "fragment"
    }
   },
   "source": [
    "We can get the number of dimensions and the shape of an array using its ``ndim`` and ``shape`` **properties**. For a 2D array, the shape is (number of rows, number of columns). For larger arrays, it always goes from the innermost set of brackets to the outermost set of brackets."
   ]
  },
  {
   "cell_type": "code",
   "execution_count": 16,
   "metadata": {
    "slideshow": {
     "slide_type": "fragment"
    }
   },
   "outputs": [
    {
     "name": "stdout",
     "output_type": "stream",
     "text": [
      "2\n",
      "(2, 5)\n",
      "1\n",
      "2\n",
      "3\n",
      "4\n",
      "5\n",
      "10\n",
      "9\n",
      "8\n",
      "7\n",
      "6\n"
     ]
    }
   ],
   "source": [
    "print( a.ndim )\n",
    "print( a.shape )\n",
    "for i in range(a.shape[0]):\n",
    "    for j in range(a.shape[1]):\n",
    "        print( a[i, j])"
   ]
  },
  {
   "cell_type": "markdown",
   "metadata": {
    "slideshow": {
     "slide_type": "fragment"
    }
   },
   "source": [
    "We can also do multi-dimensional **slices**"
   ]
  },
  {
   "cell_type": "code",
   "execution_count": 17,
   "metadata": {
    "slideshow": {
     "slide_type": "fragment"
    }
   },
   "outputs": [
    {
     "name": "stdout",
     "output_type": "stream",
     "text": [
      "[[2 3 4]\n",
      " [9 8 7]]\n"
     ]
    }
   ],
   "source": [
    "print(a[:, 1:4])"
   ]
  },
  {
   "cell_type": "markdown",
   "metadata": {
    "slideshow": {
     "slide_type": "slide"
    }
   },
   "source": [
    "NumPy also has handy **functions** for creating different types of arrays. For example, we can create a new array filled with ones or zeros:"
   ]
  },
  {
   "cell_type": "code",
   "execution_count": 18,
   "metadata": {
    "slideshow": {
     "slide_type": "fragment"
    }
   },
   "outputs": [
    {
     "name": "stdout",
     "output_type": "stream",
     "text": [
      "[1. 1. 1.] (3,)\n"
     ]
    }
   ],
   "source": [
    "# with a single argument, we will get a 1D array of that length\n",
    "a = np.ones(3)\n",
    "print(a, a.shape)"
   ]
  },
  {
   "cell_type": "code",
   "execution_count": 19,
   "metadata": {
    "slideshow": {
     "slide_type": "fragment"
    }
   },
   "outputs": [
    {
     "name": "stdout",
     "output_type": "stream",
     "text": [
      "[3. 3. 3.] (3,)\n"
     ]
    }
   ],
   "source": [
    "# with a single argument, we will get a 1D array of that length\n",
    "a = np.ones(3)*3\n",
    "print(a, a.shape)"
   ]
  },
  {
   "cell_type": "code",
   "execution_count": 20,
   "metadata": {
    "scrolled": false,
    "slideshow": {
     "slide_type": "fragment"
    }
   },
   "outputs": [
    {
     "name": "stdout",
     "output_type": "stream",
     "text": [
      "[[[0. 0. 0. 0. 0. 0. 0. 0. 0. 0. 0. 0. 0. 0. 0. 0. 0. 0. 0. 0.]\n",
      "  [0. 0. 0. 0. 0. 0. 0. 0. 0. 0. 0. 0. 0. 0. 0. 0. 0. 0. 0. 0.]\n",
      "  [0. 0. 0. 0. 0. 0. 0. 0. 0. 0. 0. 0. 0. 0. 0. 0. 0. 0. 0. 0.]\n",
      "  [0. 0. 0. 0. 0. 0. 0. 0. 0. 0. 0. 0. 0. 0. 0. 0. 0. 0. 0. 0.]\n",
      "  [0. 0. 0. 0. 0. 0. 0. 0. 0. 0. 0. 0. 0. 0. 0. 0. 0. 0. 0. 0.]\n",
      "  [0. 0. 0. 0. 0. 0. 0. 0. 0. 0. 0. 0. 0. 0. 0. 0. 0. 0. 0. 0.]\n",
      "  [0. 0. 0. 0. 0. 0. 0. 0. 0. 0. 0. 0. 0. 0. 0. 0. 0. 0. 0. 0.]\n",
      "  [0. 0. 0. 0. 0. 0. 0. 0. 0. 0. 0. 0. 0. 0. 0. 0. 0. 0. 0. 0.]\n",
      "  [0. 0. 0. 0. 0. 0. 0. 0. 0. 0. 0. 0. 0. 0. 0. 0. 0. 0. 0. 0.]\n",
      "  [0. 0. 0. 0. 0. 0. 0. 0. 0. 0. 0. 0. 0. 0. 0. 0. 0. 0. 0. 0.]]\n",
      "\n",
      " [[0. 0. 0. 0. 0. 0. 0. 0. 0. 0. 0. 0. 0. 0. 0. 0. 0. 0. 0. 0.]\n",
      "  [0. 0. 0. 0. 0. 0. 0. 0. 0. 0. 0. 0. 0. 0. 0. 0. 0. 0. 0. 0.]\n",
      "  [0. 0. 0. 0. 0. 0. 0. 0. 0. 0. 0. 0. 0. 0. 0. 0. 0. 0. 0. 0.]\n",
      "  [0. 0. 0. 0. 0. 0. 0. 0. 0. 0. 0. 0. 0. 0. 0. 0. 0. 0. 0. 0.]\n",
      "  [0. 0. 0. 0. 0. 0. 0. 0. 0. 0. 0. 0. 0. 0. 0. 0. 0. 0. 0. 0.]\n",
      "  [0. 0. 0. 0. 0. 0. 0. 0. 0. 0. 0. 0. 0. 0. 0. 0. 0. 0. 0. 0.]\n",
      "  [0. 0. 0. 0. 0. 0. 0. 0. 0. 0. 0. 0. 0. 0. 0. 0. 0. 0. 0. 0.]\n",
      "  [0. 0. 0. 0. 0. 0. 0. 0. 0. 0. 0. 0. 0. 0. 0. 0. 0. 0. 0. 0.]\n",
      "  [0. 0. 0. 0. 0. 0. 0. 0. 0. 0. 0. 0. 0. 0. 0. 0. 0. 0. 0. 0.]\n",
      "  [0. 0. 0. 0. 0. 0. 0. 0. 0. 0. 0. 0. 0. 0. 0. 0. 0. 0. 0. 0.]]\n",
      "\n",
      " [[0. 0. 0. 0. 0. 0. 0. 0. 0. 0. 0. 0. 0. 0. 0. 0. 0. 0. 0. 0.]\n",
      "  [0. 0. 0. 0. 0. 0. 0. 0. 0. 0. 0. 0. 0. 0. 0. 0. 0. 0. 0. 0.]\n",
      "  [0. 0. 0. 0. 0. 0. 0. 0. 0. 0. 0. 0. 0. 0. 0. 0. 0. 0. 0. 0.]\n",
      "  [0. 0. 0. 0. 0. 0. 0. 0. 0. 0. 0. 0. 0. 0. 0. 0. 0. 0. 0. 0.]\n",
      "  [0. 0. 0. 0. 0. 0. 0. 0. 0. 0. 0. 0. 0. 0. 0. 0. 0. 0. 0. 0.]\n",
      "  [0. 0. 0. 0. 0. 0. 0. 0. 0. 0. 0. 0. 0. 0. 0. 0. 0. 0. 0. 0.]\n",
      "  [0. 0. 0. 0. 0. 0. 0. 0. 0. 0. 0. 0. 0. 0. 0. 0. 0. 0. 0. 0.]\n",
      "  [0. 0. 0. 0. 0. 0. 0. 0. 0. 0. 0. 0. 0. 0. 0. 0. 0. 0. 0. 0.]\n",
      "  [0. 0. 0. 0. 0. 0. 0. 0. 0. 0. 0. 0. 0. 0. 0. 0. 0. 0. 0. 0.]\n",
      "  [0. 0. 0. 0. 0. 0. 0. 0. 0. 0. 0. 0. 0. 0. 0. 0. 0. 0. 0. 0.]]] (3, 10, 20)\n"
     ]
    }
   ],
   "source": [
    "# alternatively, we can give a tuple or list for multi-dimensional arrays\n",
    "a = np.zeros((3, 10, 20))\n",
    "print(a, a.shape)"
   ]
  },
  {
   "cell_type": "markdown",
   "metadata": {
    "slideshow": {
     "slide_type": "slide"
    }
   },
   "source": [
    "We can also create **sequences** of numbers easily (similar to list(range()) for lists):"
   ]
  },
  {
   "cell_type": "code",
   "execution_count": 21,
   "metadata": {
    "slideshow": {
     "slide_type": "fragment"
    }
   },
   "outputs": [
    {
     "name": "stdout",
     "output_type": "stream",
     "text": [
      "[0 1 2 3 4 5 6 7 8 9] <class 'numpy.ndarray'>\n"
     ]
    }
   ],
   "source": [
    "# with one argument, it is assumed to start at zero and count up by one until it reaches your number (not inclusive, it will stop before your number)\n",
    "a = np.arange(10)\n",
    "print(a, type(a))"
   ]
  },
  {
   "cell_type": "code",
   "execution_count": 22,
   "metadata": {
    "slideshow": {
     "slide_type": "fragment"
    }
   },
   "outputs": [
    {
     "name": "stdout",
     "output_type": "stream",
     "text": [
      "[100 101 102 103 104 105 106 107 108 109 110 111 112 113 114 115 116 117\n",
      " 118 119]\n"
     ]
    }
   ],
   "source": [
    "# with two arguments, it will start at the 1st number and count up by 1 until reaching the 2nd number\n",
    "a = np.arange(100, 120)\n",
    "print(a)"
   ]
  },
  {
   "cell_type": "code",
   "execution_count": 23,
   "metadata": {
    "slideshow": {
     "slide_type": "fragment"
    }
   },
   "outputs": [
    {
     "name": "stdout",
     "output_type": "stream",
     "text": [
      "[ 10   5   0  -5 -10 -15 -20]\n"
     ]
    }
   ],
   "source": [
    "# with three arguments, it will start at the 1st and count by increments of the 3rd number until it reaches the 2rd number (again not inclusive)\n",
    "a = np.arange(10, -21, -5)\n",
    "print(a)"
   ]
  },
  {
   "cell_type": "markdown",
   "metadata": {
    "slideshow": {
     "slide_type": "slide"
    }
   },
   "source": [
    "We can draw **random samples** from a normal distribution (or many other distributions). NumPy has functions for creating whole arrays at a time, rather than the one-by-one approach needed for the ``random`` module."
   ]
  },
  {
   "cell_type": "code",
   "execution_count": 24,
   "metadata": {
    "slideshow": {
     "slide_type": "fragment"
    }
   },
   "outputs": [
    {
     "name": "stdout",
     "output_type": "stream",
     "text": [
      "[[ 9.36237955 22.44480965 11.57792989 15.02473124  4.49549165 22.71585532\n",
      "  15.67406652 -0.0513272  17.17435491 11.45989197]\n",
      " [ 4.91606205  4.25811471  9.57682498 11.6286654  24.23646103 21.29772585\n",
      "   9.97908358 10.1154093   4.95000275 -7.76083539]\n",
      " [ 8.90318581  5.26311915 11.22840978  4.89847608  9.5007641  11.71336958\n",
      "  20.22803545  4.70123392  0.18841485  5.7480882 ]\n",
      " [16.8334066   0.89632901 17.68067056  5.1638311  15.97932614  5.24160249\n",
      "  10.84790493  4.20492827 19.97649486 21.77050324]\n",
      " [-4.20869991  9.65486085  6.07739072  6.57658338 10.26036376  2.24603248\n",
      "  10.84930473 14.17485957 16.15187673  4.26391888]\n",
      " [10.06221922 18.74598551  7.04970248 11.24001649 14.9783088   8.45205573\n",
      "  18.55375384  9.88684085 10.42270003 20.58194496]\n",
      " [15.72507624 14.41194216 14.85741556 10.35201429 15.04184786  2.64624034\n",
      "  18.17574123 13.54712098 19.23381418  6.39817635]\n",
      " [10.71930556 12.02351423 20.22674506  7.30108754  5.52038532 11.89939608\n",
      "  12.95452277  9.56196872 21.83305109  5.44281665]\n",
      " [14.32437711 14.18852693  0.99264133  9.50343724 15.69197373  2.78859478\n",
      "  16.22030862 11.68998333  5.72320531 11.83821788]\n",
      " [ 9.25348542 16.44216805 16.84480186  4.80104398  3.37963067  8.92689412\n",
      "  10.14206129  2.57340079 13.79029827 -2.81577316]]\n"
     ]
    }
   ],
   "source": [
    "a = np.random.normal(loc = 10, scale = 8, size = (10, 10))\n",
    "print(a)"
   ]
  },
  {
   "cell_type": "markdown",
   "metadata": {
    "slideshow": {
     "slide_type": "slide"
    }
   },
   "source": [
    "### Doing math with NumPy\n",
    "NumPy makes it very easy to do **element-wise** arithmetic within and between arrays"
   ]
  },
  {
   "cell_type": "code",
   "execution_count": 25,
   "metadata": {
    "slideshow": {
     "slide_type": "fragment"
    }
   },
   "outputs": [
    {
     "name": "stdout",
     "output_type": "stream",
     "text": [
      "[4 5 6]\n"
     ]
    }
   ],
   "source": [
    "a = np.array([1, 2, 3])\n",
    "b = a + 3\n",
    "print(b)"
   ]
  },
  {
   "cell_type": "code",
   "execution_count": 26,
   "metadata": {
    "slideshow": {
     "slide_type": "fragment"
    }
   },
   "outputs": [
    {
     "name": "stdout",
     "output_type": "stream",
     "text": [
      "[2 4 6]\n"
     ]
    }
   ],
   "source": [
    "c = a * 2\n",
    "print(c)"
   ]
  },
  {
   "cell_type": "code",
   "execution_count": 27,
   "metadata": {
    "slideshow": {
     "slide_type": "fragment"
    }
   },
   "outputs": [
    {
     "name": "stdout",
     "output_type": "stream",
     "text": [
      "[1 4 9]\n"
     ]
    }
   ],
   "source": [
    "d = a ** 2\n",
    "print(d)"
   ]
  },
  {
   "cell_type": "code",
   "execution_count": 28,
   "metadata": {
    "slideshow": {
     "slide_type": "fragment"
    }
   },
   "outputs": [
    {
     "name": "stdout",
     "output_type": "stream",
     "text": [
      "[ 2  6 12]\n"
     ]
    }
   ],
   "source": [
    "e = a + d\n",
    "print(e)"
   ]
  },
  {
   "cell_type": "code",
   "execution_count": 29,
   "metadata": {
    "slideshow": {
     "slide_type": "fragment"
    }
   },
   "outputs": [
    {
     "name": "stdout",
     "output_type": "stream",
     "text": [
      "[ 1  4 27]\n"
     ]
    }
   ],
   "source": [
    "f = a ** a\n",
    "print(f)"
   ]
  },
  {
   "cell_type": "markdown",
   "metadata": {
    "slideshow": {
     "slide_type": "slide"
    }
   },
   "source": [
    "NumPy also has many useful functions that perform more complex **mathematical operations** on these arrays. Below are some examples, and many more can be found [here](https://www.geeksforgeeks.org/numpy-mathematical-function/)"
   ]
  },
  {
   "cell_type": "code",
   "execution_count": 30,
   "metadata": {
    "slideshow": {
     "slide_type": "fragment"
    }
   },
   "outputs": [
    {
     "name": "stdout",
     "output_type": "stream",
     "text": [
      "[[ 1.09155641e+01  9.15442772e+00  2.49702844e+01  1.38870522e+01\n",
      "   1.16963603e+01  7.52927490e+00  3.24409930e+00  4.86546955e+00\n",
      "   1.33780068e+01  8.21996553e+00]\n",
      " [ 1.40458345e+01  1.69557423e+00 -4.28152727e+00  1.04195354e+01\n",
      "   8.52530159e+00  1.20538504e+01 -5.98872717e+00  5.15375197e+00\n",
      "   1.43877863e+01 -9.97062520e-03]\n",
      " [ 1.51672781e+01  1.63619597e+01  1.77877112e+01  6.44213712e+00\n",
      "   1.32667700e+01  3.81786176e+00  1.89480367e-01  7.23531749e+00\n",
      "   8.53688961e+00  2.25060389e+01]\n",
      " [ 1.24609327e+01  1.12668913e+01  8.51566137e+00  6.45947787e+00\n",
      "   9.18489353e+00  4.60849438e+00  4.38204831e+00  5.02589624e+00\n",
      "   1.26407802e+01  4.69336431e+00]\n",
      " [ 1.81937591e+01  6.02977444e+00  8.74743312e+00  2.84879194e+00\n",
      "   7.60570678e+00 -1.25044099e+01  1.56082337e+01  1.94606718e+01\n",
      "   2.38333908e+01  7.92550105e+00]\n",
      " [ 2.91481761e+00  2.01887628e+01  9.47205292e+00 -2.26000897e+00\n",
      "   7.85057344e+00  1.24898109e+01  1.23399145e+01  1.88767131e+01\n",
      "   1.28947149e+01  1.73399381e+01]\n",
      " [ 5.87193880e+00  1.04032614e+01  1.48141751e+01  1.69499806e+01\n",
      "   1.18413624e+01  7.84808421e+00  1.68470968e+01  1.34850752e+01\n",
      "   3.64927099e+00 -3.16494512e+00]\n",
      " [-2.92077973e+00  1.63558090e+01  2.83582622e+01  6.59348244e+00\n",
      "   4.10279417e+00  8.87688170e+00  1.41615670e+01 -5.15824589e+00\n",
      "   7.89733590e+00  2.48438117e+00]\n",
      " [-9.36071330e-02  1.30223409e+01  1.36621419e+01  1.06313192e+01\n",
      "   7.73879164e+00  1.39137554e+01  1.38352724e+01  5.04054953e+00\n",
      "   1.60634345e+01  1.17058456e+01]\n",
      " [ 1.61415770e+00  2.01050383e+01 -5.62737997e+00  1.92528834e+01\n",
      "   1.62554708e+01 -3.33334850e+00  1.25585158e+01  5.16152405e+00\n",
      "   2.95439708e+00  2.33639325e+01]]\n",
      "\n",
      "Min: -12.504409900863731\n",
      "\n"
     ]
    }
   ],
   "source": [
    "a = np.random.normal(loc = 10, scale = 8, size = (10, 10))\n",
    "print(a)\n",
    "print()\n",
    "# statistics\n",
    "print(f'Min: {a.min()}')\n",
    "print()"
   ]
  },
  {
   "cell_type": "code",
   "execution_count": 31,
   "metadata": {
    "slideshow": {
     "slide_type": "fragment"
    }
   },
   "outputs": [
    {
     "name": "stdout",
     "output_type": "stream",
     "text": [
      "Max of each row: [24.97028436 14.38778632 22.5060389  12.6407802  23.83339078 20.18876277\n",
      " 16.94998061 28.35826224 16.06343448 23.36393254]\n",
      "\n"
     ]
    }
   ],
   "source": [
    "print(f'Max of each row: {a.max(axis=1)}' )\n",
    "print()"
   ]
  },
  {
   "cell_type": "code",
   "execution_count": 32,
   "metadata": {
    "slideshow": {
     "slide_type": "fragment"
    }
   },
   "outputs": [
    {
     "name": "stdout",
     "output_type": "stream",
     "text": [
      "Mean of each column: [ 7.81698957 12.45838398 11.6418815   9.12246512  9.80680247  5.53002552\n",
      "  8.7177501   7.91467231 11.62360071  9.50640514]\n",
      "\n"
     ]
    }
   ],
   "source": [
    "print(f'Mean of each column: {a.mean(axis=0)}' )\n",
    "print()"
   ]
  },
  {
   "cell_type": "code",
   "execution_count": 33,
   "metadata": {
    "slideshow": {
     "slide_type": "fragment"
    }
   },
   "outputs": [
    {
     "name": "stdout",
     "output_type": "stream",
     "text": [
      "Std: 7.408878018296668\n",
      "\n"
     ]
    }
   ],
   "source": [
    "print(f'Std: {a.std()}' )\n",
    "print()"
   ]
  },
  {
   "cell_type": "code",
   "execution_count": 34,
   "metadata": {
    "slideshow": {
     "slide_type": "fragment"
    }
   },
   "outputs": [
    {
     "name": "stdout",
     "output_type": "stream",
     "text": [
      "5th percentile: -3.3807574379598444\n",
      "\n"
     ]
    }
   ],
   "source": [
    "print(f'5th percentile: {np.quantile(a, 0.05)}' )\n",
    "print()"
   ]
  },
  {
   "cell_type": "code",
   "execution_count": 35,
   "metadata": {
    "slideshow": {
     "slide_type": "fragment"
    }
   },
   "outputs": [
    {
     "name": "stdout",
     "output_type": "stream",
     "text": [
      "Sum of each row: [107.86050478  56.00140932 111.31144417  79.23844024  97.7488528\n",
      " 112.10728925  98.54530046  80.75148799 105.51984395  92.30519118]\n"
     ]
    }
   ],
   "source": [
    "print(f'Sum of each row: {a.sum(axis=1)}')"
   ]
  },
  {
   "cell_type": "code",
   "execution_count": 36,
   "metadata": {
    "slideshow": {
     "slide_type": "fragment"
    }
   },
   "outputs": [
    {
     "name": "stdout",
     "output_type": "stream",
     "text": [
      "[[ 3.24409930e+00  4.86546955e+00  7.52927490e+00  8.21996553e+00\n",
      "   9.15442772e+00  1.09155641e+01  1.16963603e+01  1.33780068e+01\n",
      "   1.38870522e+01  2.49702844e+01]\n",
      " [-5.98872717e+00 -4.28152727e+00 -9.97062520e-03  1.69557423e+00\n",
      "   5.15375197e+00  8.52530159e+00  1.04195354e+01  1.20538504e+01\n",
      "   1.40458345e+01  1.43877863e+01]\n",
      " [ 1.89480367e-01  3.81786176e+00  6.44213712e+00  7.23531749e+00\n",
      "   8.53688961e+00  1.32667700e+01  1.51672781e+01  1.63619597e+01\n",
      "   1.77877112e+01  2.25060389e+01]\n",
      " [ 4.38204831e+00  4.60849438e+00  4.69336431e+00  5.02589624e+00\n",
      "   6.45947787e+00  8.51566137e+00  9.18489353e+00  1.12668913e+01\n",
      "   1.24609327e+01  1.26407802e+01]\n",
      " [-1.25044099e+01  2.84879194e+00  6.02977444e+00  7.60570678e+00\n",
      "   7.92550105e+00  8.74743312e+00  1.56082337e+01  1.81937591e+01\n",
      "   1.94606718e+01  2.38333908e+01]\n",
      " [-2.26000897e+00  2.91481761e+00  7.85057344e+00  9.47205292e+00\n",
      "   1.23399145e+01  1.24898109e+01  1.28947149e+01  1.73399381e+01\n",
      "   1.88767131e+01  2.01887628e+01]\n",
      " [-3.16494512e+00  3.64927099e+00  5.87193880e+00  7.84808421e+00\n",
      "   1.04032614e+01  1.18413624e+01  1.34850752e+01  1.48141751e+01\n",
      "   1.68470968e+01  1.69499806e+01]\n",
      " [-5.15824589e+00 -2.92077973e+00  2.48438117e+00  4.10279417e+00\n",
      "   6.59348244e+00  7.89733590e+00  8.87688170e+00  1.41615670e+01\n",
      "   1.63558090e+01  2.83582622e+01]\n",
      " [-9.36071330e-02  5.04054953e+00  7.73879164e+00  1.06313192e+01\n",
      "   1.17058456e+01  1.30223409e+01  1.36621419e+01  1.38352724e+01\n",
      "   1.39137554e+01  1.60634345e+01]\n",
      " [-5.62737997e+00 -3.33334850e+00  1.61415770e+00  2.95439708e+00\n",
      "   5.16152405e+00  1.25585158e+01  1.62554708e+01  1.92528834e+01\n",
      "   2.01050383e+01  2.33639325e+01]]\n"
     ]
    }
   ],
   "source": [
    "# sort each row\n",
    "print( np.sort(a, axis=1) )"
   ]
  },
  {
   "cell_type": "code",
   "execution_count": 37,
   "metadata": {
    "slideshow": {
     "slide_type": "fragment"
    }
   },
   "outputs": [
    {
     "name": "stdout",
     "output_type": "stream",
     "text": [
      "[[1.09155641e+01 9.15442772e+00 2.49702844e+01 1.38870522e+01\n",
      "  1.16963603e+01 7.52927490e+00 3.24409930e+00 4.86546955e+00\n",
      "  1.33780068e+01 8.21996553e+00]\n",
      " [1.40458345e+01 1.69557423e+00 4.28152727e+00 1.04195354e+01\n",
      "  8.52530159e+00 1.20538504e+01 5.98872717e+00 5.15375197e+00\n",
      "  1.43877863e+01 9.97062520e-03]\n",
      " [1.51672781e+01 1.63619597e+01 1.77877112e+01 6.44213712e+00\n",
      "  1.32667700e+01 3.81786176e+00 1.89480367e-01 7.23531749e+00\n",
      "  8.53688961e+00 2.25060389e+01]\n",
      " [1.24609327e+01 1.12668913e+01 8.51566137e+00 6.45947787e+00\n",
      "  9.18489353e+00 4.60849438e+00 4.38204831e+00 5.02589624e+00\n",
      "  1.26407802e+01 4.69336431e+00]\n",
      " [1.81937591e+01 6.02977444e+00 8.74743312e+00 2.84879194e+00\n",
      "  7.60570678e+00 1.25044099e+01 1.56082337e+01 1.94606718e+01\n",
      "  2.38333908e+01 7.92550105e+00]\n",
      " [2.91481761e+00 2.01887628e+01 9.47205292e+00 2.26000897e+00\n",
      "  7.85057344e+00 1.24898109e+01 1.23399145e+01 1.88767131e+01\n",
      "  1.28947149e+01 1.73399381e+01]\n",
      " [5.87193880e+00 1.04032614e+01 1.48141751e+01 1.69499806e+01\n",
      "  1.18413624e+01 7.84808421e+00 1.68470968e+01 1.34850752e+01\n",
      "  3.64927099e+00 3.16494512e+00]\n",
      " [2.92077973e+00 1.63558090e+01 2.83582622e+01 6.59348244e+00\n",
      "  4.10279417e+00 8.87688170e+00 1.41615670e+01 5.15824589e+00\n",
      "  7.89733590e+00 2.48438117e+00]\n",
      " [9.36071330e-02 1.30223409e+01 1.36621419e+01 1.06313192e+01\n",
      "  7.73879164e+00 1.39137554e+01 1.38352724e+01 5.04054953e+00\n",
      "  1.60634345e+01 1.17058456e+01]\n",
      " [1.61415770e+00 2.01050383e+01 5.62737997e+00 1.92528834e+01\n",
      "  1.62554708e+01 3.33334850e+00 1.25585158e+01 5.16152405e+00\n",
      "  2.95439708e+00 2.33639325e+01]]\n"
     ]
    }
   ],
   "source": [
    "# absolute value of each element\n",
    "print( np.abs(a) )"
   ]
  },
  {
   "cell_type": "code",
   "execution_count": 38,
   "metadata": {
    "slideshow": {
     "slide_type": "fragment"
    }
   },
   "outputs": [
    {
     "name": "stdout",
     "output_type": "stream",
     "text": [
      "[[5.50261658e+04 9.45621733e+03 6.98967062e+10 1.07416285e+06\n",
      "  1.20133670e+05 1.86175505e+03 2.56386071e+01 1.29731840e+02\n",
      "  6.45646112e+05 3.71437436e+03]\n",
      " [1.25900775e+06 5.44977451e+00 1.38215367e-02 3.35078641e+04\n",
      "  5.04070679e+03 1.71759475e+05 2.50685282e-03 1.73079663e+02\n",
      "  1.77229578e+06 9.90078917e-01]\n",
      " [3.86424961e+06 1.27617082e+07 5.31012575e+07 6.27746940e+02\n",
      "  5.77676898e+05 4.55067999e+01 1.20862139e+00 1.38758137e+03\n",
      "  5.09945834e+03 5.94632309e+09]\n",
      " [2.58056201e+05 7.81895549e+04 4.99234676e+03 6.38727471e+02\n",
      "  9.74874201e+03 1.00332973e+02 8.00017341e+01 1.52306699e+02\n",
      "  3.08902262e+05 1.09220012e+02]\n",
      " [7.96983243e+07 4.15621273e+02 6.29451008e+03 1.72669098e+01\n",
      "  2.00963177e+03 3.71025518e-06 6.00578468e+06 2.82919170e+08\n",
      "  2.24238459e+10 2.76695039e+03]\n",
      " [1.84454479e+01 5.85960404e+08 1.29915305e+04 1.04349549e-01\n",
      "  2.56720604e+03 2.65617041e+05 2.28642397e+05 1.57780147e+08\n",
      "  3.98202101e+05 3.39343404e+07]\n",
      " [3.54936466e+02 3.29669687e+04 2.71465420e+06 2.29764562e+07\n",
      "  1.38879566e+05 2.56082362e+03 2.07300897e+07 7.18610831e+05\n",
      "  3.84466279e+01 4.22164586e-02]\n",
      " [5.38916502e-02 1.26834557e+07 2.06936361e+12 7.30319740e+02\n",
      "  6.05091245e+01 7.16441507e+03 1.41348238e+06 5.75178008e-03\n",
      "  2.69010606e+03 1.19936958e+01]\n",
      " [9.10640453e-01 4.52408539e+05 8.57813427e+05 4.14117185e+04\n",
      "  2.29569669e+03 1.10323284e+06 1.01995844e+06 1.54554924e+02\n",
      "  9.46805895e+06 1.21278599e+05]\n",
      " [5.02365472e+00 5.38898763e+08 3.59798983e-03 2.29837560e+08\n",
      "  1.14725848e+07 3.56734523e-02 2.84507761e+05 1.74430093e+02\n",
      "  1.91901492e+01 1.40225494e+10]]\n"
     ]
    }
   ],
   "source": [
    "# exponential\n",
    "print( np.exp(a) )"
   ]
  },
  {
   "cell_type": "code",
   "execution_count": 39,
   "metadata": {
    "scrolled": false,
    "slideshow": {
     "slide_type": "fragment"
    }
   },
   "outputs": [
    {
     "name": "stdout",
     "output_type": "stream",
     "text": [
      "[[3.30387108 3.02562848 4.99702755 3.72653353 3.4199942  2.74395242\n",
      "  1.80113834 2.20578094 3.65759577 2.86704823]\n",
      " [3.74777727 1.30214217        nan 3.22793052 2.91981191 3.47186555\n",
      "         nan 2.27018765 3.79312356        nan]\n",
      " [3.89451898 4.04499193 4.217548   2.53813655 3.64235775 1.95393494\n",
      "  0.43529343 2.68985455 2.92179561 4.744053  ]\n",
      " [3.53000463 3.35661904 2.91816061 2.54155029 3.03065893 2.14674041\n",
      "  2.09333426 2.24185108 3.55538749 2.16641739]\n",
      " [4.2654143  2.4555599  2.95760598 1.68783647 2.75784459        nan\n",
      "  3.95072572 4.41142514 4.88194539 2.81522664]\n",
      " [1.70728369 4.49319071 3.07767005        nan 2.80188748 3.53409265\n",
      "  3.51282144 4.34473396 3.59092118 4.16412512]\n",
      " [2.42320837 3.22540872 3.8489187  4.11703541 3.44112807 2.80144324\n",
      "  4.10452151 3.67220305 1.91030652        nan]\n",
      " [       nan 4.04423157 5.32524762 2.56777772 2.02553553 2.97940962\n",
      "  3.76318575        nan 2.8102199  1.57619198]\n",
      " [       nan 3.60864807 3.69623348 3.26057038 2.78186837 3.73011466\n",
      "  3.7195796  2.24511682 4.00792147 3.42138066]\n",
      " [1.27049506 4.48386421        nan 4.38781077 4.03180739        nan\n",
      "  3.54379963 2.27189878 1.71883597 4.8336252 ]]\n"
     ]
    },
    {
     "name": "stderr",
     "output_type": "stream",
     "text": [
      "/home/andrew/.local/lib/python3.6/site-packages/ipykernel_launcher.py:2: RuntimeWarning: invalid value encountered in sqrt\n",
      "  \n"
     ]
    }
   ],
   "source": [
    "# square root. \n",
    "print( np.sqrt(a) )"
   ]
  },
  {
   "cell_type": "markdown",
   "metadata": {
    "slideshow": {
     "slide_type": "fragment"
    }
   },
   "source": [
    "Don't be alarmed by the red \"RuntimeWarning\" here. Usually as long as it is a warning, not an error, you are ok. This warning relates to the special \"nan\" (Not A Number) values that you see above. These occur when we try to take the square root of a negative number. NumPy returns this special object (np.nan) when we try to do calculations that are undefined."
   ]
  },
  {
   "cell_type": "markdown",
   "metadata": {
    "slideshow": {
     "slide_type": "slide"
    }
   },
   "source": [
    "Rather than element-wise operations, we can also do **matrix operations**. (If your research involves linear algebra, see [here](https://www.geeksforgeeks.org/numpy-linear-algebra/?ref=lbp) for more examples.)"
   ]
  },
  {
   "cell_type": "code",
   "execution_count": 40,
   "metadata": {
    "slideshow": {
     "slide_type": "fragment"
    }
   },
   "outputs": [
    {
     "name": "stdout",
     "output_type": "stream",
     "text": [
      "[[10.91556409  9.15442772 24.97028436]\n",
      " [14.04583447  1.69557423 -4.28152727]\n",
      " [15.16727807 16.3619597  17.78771117]]\n",
      "\n"
     ]
    }
   ],
   "source": [
    "A = a[:3, :3]\n",
    "print(A)\n",
    "print()"
   ]
  },
  {
   "cell_type": "code",
   "execution_count": 41,
   "metadata": {
    "slideshow": {
     "slide_type": "fragment"
    }
   },
   "outputs": [
    {
     "name": "stdout",
     "output_type": "stream",
     "text": [
      "[[-5.15824589  7.8973359   2.48438117]\n",
      " [ 5.04054953 16.06343448 11.70584565]\n",
      " [ 5.16152405  2.95439708 23.36393254]]\n"
     ]
    }
   ],
   "source": [
    "B = a[-3:, -3:]\n",
    "print(B)"
   ]
  },
  {
   "cell_type": "code",
   "execution_count": 42,
   "metadata": {
    "slideshow": {
     "slide_type": "fragment"
    }
   },
   "outputs": [
    {
     "name": "stdout",
     "output_type": "stream",
     "text": [
      "[[118.72290591 307.02756137 717.68277925]\n",
      " [-86.00444807 125.51208673 -45.2899775 ]\n",
      " [ 96.04841734 435.1623191  644.8027585 ]]\n"
     ]
    }
   ],
   "source": [
    "# matrix multiplication\n",
    "print( np.matmul(A, B) )"
   ]
  },
  {
   "cell_type": "code",
   "execution_count": 43,
   "metadata": {
    "slideshow": {
     "slide_type": "fragment"
    }
   },
   "outputs": [
    {
     "name": "stdout",
     "output_type": "stream",
     "text": [
      "3308.6844180785574\n"
     ]
    }
   ],
   "source": [
    "# determinant\n",
    "print( np.linalg.det(A) )"
   ]
  },
  {
   "cell_type": "markdown",
   "metadata": {
    "slideshow": {
     "slide_type": "slide"
    }
   },
   "source": [
    "### Logical indexing\n",
    "**Logical indexing** is a powerful way to manipulate parts of your data that meet certain conditions. The idea is to create a NumPy array of Boolean variables, and then use this array to index a new array. For example, we can change all undefined elements in the array to zero as follows:"
   ]
  },
  {
   "cell_type": "code",
   "execution_count": 44,
   "metadata": {
    "slideshow": {
     "slide_type": "fragment"
    }
   },
   "outputs": [
    {
     "name": "stdout",
     "output_type": "stream",
     "text": [
      "[[3.30387108 3.02562848 4.99702755 3.72653353 3.4199942  2.74395242\n",
      "  1.80113834 2.20578094 3.65759577 2.86704823]\n",
      " [3.74777727 1.30214217        nan 3.22793052 2.91981191 3.47186555\n",
      "         nan 2.27018765 3.79312356        nan]\n",
      " [3.89451898 4.04499193 4.217548   2.53813655 3.64235775 1.95393494\n",
      "  0.43529343 2.68985455 2.92179561 4.744053  ]\n",
      " [3.53000463 3.35661904 2.91816061 2.54155029 3.03065893 2.14674041\n",
      "  2.09333426 2.24185108 3.55538749 2.16641739]\n",
      " [4.2654143  2.4555599  2.95760598 1.68783647 2.75784459        nan\n",
      "  3.95072572 4.41142514 4.88194539 2.81522664]\n",
      " [1.70728369 4.49319071 3.07767005        nan 2.80188748 3.53409265\n",
      "  3.51282144 4.34473396 3.59092118 4.16412512]\n",
      " [2.42320837 3.22540872 3.8489187  4.11703541 3.44112807 2.80144324\n",
      "  4.10452151 3.67220305 1.91030652        nan]\n",
      " [       nan 4.04423157 5.32524762 2.56777772 2.02553553 2.97940962\n",
      "  3.76318575        nan 2.8102199  1.57619198]\n",
      " [       nan 3.60864807 3.69623348 3.26057038 2.78186837 3.73011466\n",
      "  3.7195796  2.24511682 4.00792147 3.42138066]\n",
      " [1.27049506 4.48386421        nan 4.38781077 4.03180739        nan\n",
      "  3.54379963 2.27189878 1.71883597 4.8336252 ]]\n"
     ]
    },
    {
     "name": "stderr",
     "output_type": "stream",
     "text": [
      "/home/andrew/.local/lib/python3.6/site-packages/ipykernel_launcher.py:1: RuntimeWarning: invalid value encountered in sqrt\n",
      "  \"\"\"Entry point for launching an IPython kernel.\n"
     ]
    }
   ],
   "source": [
    "b = np.sqrt(a)\n",
    "print(b)"
   ]
  },
  {
   "cell_type": "code",
   "execution_count": 45,
   "metadata": {
    "slideshow": {
     "slide_type": "fragment"
    }
   },
   "outputs": [
    {
     "name": "stdout",
     "output_type": "stream",
     "text": [
      "[[False False False False False False False False False False]\n",
      " [False False  True False False False  True False False  True]\n",
      " [False False False False False False False False False False]\n",
      " [False False False False False False False False False False]\n",
      " [False False False False False  True False False False False]\n",
      " [False False False  True False False False False False False]\n",
      " [False False False False False False False False False  True]\n",
      " [ True False False False False False False  True False False]\n",
      " [ True False False False False False False False False False]\n",
      " [False False  True False False  True False False False False]]\n"
     ]
    }
   ],
   "source": [
    "c = np.isnan(b)\n",
    "print(c)"
   ]
  },
  {
   "cell_type": "code",
   "execution_count": 46,
   "metadata": {
    "slideshow": {
     "slide_type": "fragment"
    }
   },
   "outputs": [
    {
     "name": "stdout",
     "output_type": "stream",
     "text": [
      "[[3.30387108 3.02562848 4.99702755 3.72653353 3.4199942  2.74395242\n",
      "  1.80113834 2.20578094 3.65759577 2.86704823]\n",
      " [3.74777727 1.30214217 0.         3.22793052 2.91981191 3.47186555\n",
      "  0.         2.27018765 3.79312356 0.        ]\n",
      " [3.89451898 4.04499193 4.217548   2.53813655 3.64235775 1.95393494\n",
      "  0.43529343 2.68985455 2.92179561 4.744053  ]\n",
      " [3.53000463 3.35661904 2.91816061 2.54155029 3.03065893 2.14674041\n",
      "  2.09333426 2.24185108 3.55538749 2.16641739]\n",
      " [4.2654143  2.4555599  2.95760598 1.68783647 2.75784459 0.\n",
      "  3.95072572 4.41142514 4.88194539 2.81522664]\n",
      " [1.70728369 4.49319071 3.07767005 0.         2.80188748 3.53409265\n",
      "  3.51282144 4.34473396 3.59092118 4.16412512]\n",
      " [2.42320837 3.22540872 3.8489187  4.11703541 3.44112807 2.80144324\n",
      "  4.10452151 3.67220305 1.91030652 0.        ]\n",
      " [0.         4.04423157 5.32524762 2.56777772 2.02553553 2.97940962\n",
      "  3.76318575 0.         2.8102199  1.57619198]\n",
      " [0.         3.60864807 3.69623348 3.26057038 2.78186837 3.73011466\n",
      "  3.7195796  2.24511682 4.00792147 3.42138066]\n",
      " [1.27049506 4.48386421 0.         4.38781077 4.03180739 0.\n",
      "  3.54379963 2.27189878 1.71883597 4.8336252 ]]\n"
     ]
    }
   ],
   "source": [
    "d = b.copy()\n",
    "d[c] = 0\n",
    "# print(b)\n",
    "print(d)"
   ]
  },
  {
   "cell_type": "markdown",
   "metadata": {
    "slideshow": {
     "slide_type": "fragment"
    }
   },
   "source": [
    "This can be thought of as a compact representation of two for loops and and one if statement:"
   ]
  },
  {
   "cell_type": "code",
   "execution_count": 47,
   "metadata": {
    "slideshow": {
     "slide_type": "fragment"
    }
   },
   "outputs": [
    {
     "name": "stdout",
     "output_type": "stream",
     "text": [
      "[[3.30387108 3.02562848 4.99702755 3.72653353 3.4199942  2.74395242\n",
      "  1.80113834 2.20578094 3.65759577 2.86704823]\n",
      " [3.74777727 1.30214217 0.         3.22793052 2.91981191 3.47186555\n",
      "  0.         2.27018765 3.79312356 0.        ]\n",
      " [3.89451898 4.04499193 4.217548   2.53813655 3.64235775 1.95393494\n",
      "  0.43529343 2.68985455 2.92179561 4.744053  ]\n",
      " [3.53000463 3.35661904 2.91816061 2.54155029 3.03065893 2.14674041\n",
      "  2.09333426 2.24185108 3.55538749 2.16641739]\n",
      " [4.2654143  2.4555599  2.95760598 1.68783647 2.75784459 0.\n",
      "  3.95072572 4.41142514 4.88194539 2.81522664]\n",
      " [1.70728369 4.49319071 3.07767005 0.         2.80188748 3.53409265\n",
      "  3.51282144 4.34473396 3.59092118 4.16412512]\n",
      " [2.42320837 3.22540872 3.8489187  4.11703541 3.44112807 2.80144324\n",
      "  4.10452151 3.67220305 1.91030652 0.        ]\n",
      " [0.         4.04423157 5.32524762 2.56777772 2.02553553 2.97940962\n",
      "  3.76318575 0.         2.8102199  1.57619198]\n",
      " [0.         3.60864807 3.69623348 3.26057038 2.78186837 3.73011466\n",
      "  3.7195796  2.24511682 4.00792147 3.42138066]\n",
      " [1.27049506 4.48386421 0.         4.38781077 4.03180739 0.\n",
      "  3.54379963 2.27189878 1.71883597 4.8336252 ]]\n",
      "\n"
     ]
    }
   ],
   "source": [
    "e = b.copy()\n",
    "for i in range(e.shape[0]):\n",
    "    for j in range(e.shape[1]):\n",
    "        if np.isnan(e[i,j]):\n",
    "            e[i,j] = 0\n",
    "print(e)\n",
    "print()"
   ]
  },
  {
   "cell_type": "code",
   "execution_count": 48,
   "metadata": {
    "scrolled": true,
    "slideshow": {
     "slide_type": "fragment"
    }
   },
   "outputs": [
    {
     "name": "stdout",
     "output_type": "stream",
     "text": [
      "[[ True  True  True  True  True  True  True  True  True  True]\n",
      " [ True  True  True  True  True  True  True  True  True  True]\n",
      " [ True  True  True  True  True  True  True  True  True  True]\n",
      " [ True  True  True  True  True  True  True  True  True  True]\n",
      " [ True  True  True  True  True  True  True  True  True  True]\n",
      " [ True  True  True  True  True  True  True  True  True  True]\n",
      " [ True  True  True  True  True  True  True  True  True  True]\n",
      " [ True  True  True  True  True  True  True  True  True  True]\n",
      " [ True  True  True  True  True  True  True  True  True  True]\n",
      " [ True  True  True  True  True  True  True  True  True  True]]\n",
      "\n",
      "True\n"
     ]
    }
   ],
   "source": [
    "print(e == d)\n",
    "print()\n",
    "print(np.all(e == d))"
   ]
  },
  {
   "cell_type": "markdown",
   "metadata": {
    "slideshow": {
     "slide_type": "fragment"
    }
   },
   "source": [
    "We can also retrieve particular elements of the NumPy array using logical indexing, which is analagous to list comprehension. However, note that we lose the shape of the array when we pick out particular elements."
   ]
  },
  {
   "cell_type": "code",
   "execution_count": 49,
   "metadata": {
    "slideshow": {
     "slide_type": "fragment"
    }
   },
   "outputs": [
    {
     "name": "stdout",
     "output_type": "stream",
     "text": [
      "[[3.30387108 3.02562848 4.99702755 3.72653353 3.4199942  2.74395242\n",
      "  1.80113834 2.20578094 3.65759577 2.86704823]\n",
      " [3.74777727 1.30214217 0.         3.22793052 2.91981191 3.47186555\n",
      "  0.         2.27018765 3.79312356 0.        ]\n",
      " [3.89451898 4.04499193 4.217548   2.53813655 3.64235775 1.95393494\n",
      "  0.43529343 2.68985455 2.92179561 4.744053  ]\n",
      " [3.53000463 3.35661904 2.91816061 2.54155029 3.03065893 2.14674041\n",
      "  2.09333426 2.24185108 3.55538749 2.16641739]\n",
      " [4.2654143  2.4555599  2.95760598 1.68783647 2.75784459 0.\n",
      "  3.95072572 4.41142514 4.88194539 2.81522664]\n",
      " [1.70728369 4.49319071 3.07767005 0.         2.80188748 3.53409265\n",
      "  3.51282144 4.34473396 3.59092118 4.16412512]\n",
      " [2.42320837 3.22540872 3.8489187  4.11703541 3.44112807 2.80144324\n",
      "  4.10452151 3.67220305 1.91030652 0.        ]\n",
      " [0.         4.04423157 5.32524762 2.56777772 2.02553553 2.97940962\n",
      "  3.76318575 0.         2.8102199  1.57619198]\n",
      " [0.         3.60864807 3.69623348 3.26057038 2.78186837 3.73011466\n",
      "  3.7195796  2.24511682 4.00792147 3.42138066]\n",
      " [1.27049506 4.48386421 0.         4.38781077 4.03180739 0.\n",
      "  3.54379963 2.27189878 1.71883597 4.8336252 ]]\n"
     ]
    }
   ],
   "source": [
    "print(e)"
   ]
  },
  {
   "cell_type": "code",
   "execution_count": 50,
   "metadata": {
    "slideshow": {
     "slide_type": "fragment"
    }
   },
   "outputs": [
    {
     "name": "stdout",
     "output_type": "stream",
     "text": [
      "[4.99702755 4.04499193 4.217548   4.744053   4.2654143  4.41142514\n",
      " 4.88194539 4.49319071 4.34473396 4.16412512 4.11703541 4.10452151\n",
      " 4.04423157 5.32524762 4.00792147 4.48386421 4.38781077 4.03180739\n",
      " 4.8336252 ]\n",
      "(19,)\n"
     ]
    }
   ],
   "source": [
    "f = e[e > 4]\n",
    "print(f)\n",
    "print(f.shape)"
   ]
  },
  {
   "cell_type": "markdown",
   "metadata": {
    "slideshow": {
     "slide_type": "fragment"
    }
   },
   "source": [
    "To apply multiple logical operations at once, we have to use the **bitwise comparison operators** (``&`` and ``|``) rather than the normal comparison operators (``and`` and ``or``). This is because we want the \"and/or\" to be applied to each element in the array individually, rather than for the entire array at once."
   ]
  },
  {
   "cell_type": "code",
   "execution_count": 51,
   "metadata": {
    "slideshow": {
     "slide_type": "fragment"
    }
   },
   "outputs": [
    {
     "name": "stdout",
     "output_type": "stream",
     "text": [
      "[[False False False False False False  True False False False]\n",
      " [False  True  True False False False  True False False  True]\n",
      " [False False False False False  True  True False False False]\n",
      " [False False False False False False False False False False]\n",
      " [False False False  True False  True False False False False]\n",
      " [ True False False  True False False False False False False]\n",
      " [False False False False False False False False  True  True]\n",
      " [ True False False False False False False  True False  True]\n",
      " [ True False False False False False False False False False]\n",
      " [ True False  True False False  True False False  True False]]\n"
     ]
    }
   ],
   "source": [
    "lt2 = e < 2\n",
    "print(lt2)"
   ]
  },
  {
   "cell_type": "code",
   "execution_count": 52,
   "metadata": {
    "slideshow": {
     "slide_type": "fragment"
    }
   },
   "outputs": [
    {
     "name": "stdout",
     "output_type": "stream",
     "text": [
      "[[False False  True False False False False False False False]\n",
      " [False False False False False False False False False False]\n",
      " [False  True  True False False False False False False  True]\n",
      " [False False False False False False False False False False]\n",
      " [ True False False False False False False  True  True False]\n",
      " [False  True False False False False False  True False  True]\n",
      " [False False False  True False False  True False False False]\n",
      " [False  True  True False False False False False False False]\n",
      " [False False False False False False False False  True False]\n",
      " [False  True False  True  True False False False False  True]]\n"
     ]
    }
   ],
   "source": [
    "gte4 = e >= 4\n",
    "print(gte4)"
   ]
  },
  {
   "cell_type": "code",
   "execution_count": 53,
   "metadata": {
    "slideshow": {
     "slide_type": "fragment"
    }
   },
   "outputs": [
    {
     "name": "stdout",
     "output_type": "stream",
     "text": [
      "[[False False  True False False False  True False False False]\n",
      " [False  True  True False False False  True False False  True]\n",
      " [False  True  True False False  True  True False False  True]\n",
      " [False False False False False False False False False False]\n",
      " [ True False False  True False  True False  True  True False]\n",
      " [ True  True False  True False False False  True False  True]\n",
      " [False False False  True False False  True False  True  True]\n",
      " [ True  True  True False False False False  True False  True]\n",
      " [ True False False False False False False False  True False]\n",
      " [ True  True  True  True  True  True False False  True  True]]\n"
     ]
    }
   ],
   "source": [
    "lt2_or_gte4 = lt2 | gte4\n",
    "print(lt2_or_gte4)"
   ]
  },
  {
   "cell_type": "code",
   "execution_count": 54,
   "metadata": {},
   "outputs": [],
   "source": [
    "# lt2_or_gte4 = lt2 or gte4\n"
   ]
  },
  {
   "cell_type": "code",
   "execution_count": 55,
   "metadata": {
    "slideshow": {
     "slide_type": "fragment"
    }
   },
   "outputs": [
    {
     "name": "stdout",
     "output_type": "stream",
     "text": [
      "[4.99702755 1.80113834 1.30214217 0.         0.         0.\n",
      " 4.04499193 4.217548   1.95393494 0.43529343 4.744053   4.2654143\n",
      " 1.68783647 0.         4.41142514 4.88194539 1.70728369 4.49319071\n",
      " 0.         4.34473396 4.16412512 4.11703541 4.10452151 1.91030652\n",
      " 0.         0.         4.04423157 5.32524762 0.         1.57619198\n",
      " 0.         4.00792147 1.27049506 4.48386421 0.         4.38781077\n",
      " 4.03180739 0.         1.71883597 4.8336252 ]\n",
      "(40,)\n"
     ]
    }
   ],
   "source": [
    "g = e[lt2_or_gte4]\n",
    "print(g)\n",
    "print(g.shape)"
   ]
  },
  {
   "cell_type": "markdown",
   "metadata": {
    "slideshow": {
     "slide_type": "slide"
    }
   },
   "source": [
    "### In class exercise\n",
    "Let's pretend you are an air quality specialist who is investigating the [effects of wildfire smoke on PM10 pollution](https://www.climacell.co/blog/pm10-how-wildfires-actually-affect-air-quality/). Assume there is a large wildfire burning in the Bozeman, MT, area (45.677, -111.043), and you have a map of PM10 over the larger region spanning from 40 to 48 degrees latitude and -120 to -102 degrees longitude, at a grid resolution of 1 degrees. "
   ]
  },
  {
   "cell_type": "markdown",
   "metadata": {
    "slideshow": {
     "slide_type": "fragment"
    }
   },
   "source": [
    "We will make up fake data using an assumed quadratic trend centered around Bozeman, plus random noise. But the same analysis could be performed using ground measurements or satellite observations of PM10."
   ]
  },
  {
   "cell_type": "code",
   "execution_count": 56,
   "metadata": {
    "slideshow": {
     "slide_type": "fragment"
    }
   },
   "outputs": [
    {
     "name": "stdout",
     "output_type": "stream",
     "text": [
      "[-120. -119. -118. -117. -116. -115. -114. -113. -112. -111. -110. -109.\n",
      " -108. -107. -106. -105. -104. -103. -102.]\n",
      "[48. 47. 46. 45. 44. 43. 42. 41. 40.]\n"
     ]
    }
   ],
   "source": [
    "## use np.arange to create a grid of coordinates\n",
    "res = 1\n",
    "long_box = (-120, -102)\n",
    "lat_box = (40, 48)\n",
    "long_grid = np.arange(long_box[0], long_box[1] + 0.01, res)\n",
    "lat_grid = np.arange(lat_box[1], lat_box[0] - 0.01, -res)\n",
    "long_n = len(long_grid)\n",
    "lat_n = len(lat_grid)\n",
    "print(long_grid) \n",
    "print(lat_grid)"
   ]
  },
  {
   "cell_type": "code",
   "execution_count": 57,
   "metadata": {
    "slideshow": {
     "slide_type": "fragment"
    }
   },
   "outputs": [
    {
     "name": "stdout",
     "output_type": "stream",
     "text": [
      "[(-120.0, 48.0), (-119.0, 48.0), (-118.0, 48.0), (-117.0, 48.0), (-116.0, 48.0), (-115.0, 48.0), (-114.0, 48.0), (-113.0, 48.0), (-112.0, 48.0), (-111.0, 48.0), (-110.0, 48.0), (-109.0, 48.0), (-108.0, 48.0), (-107.0, 48.0), (-106.0, 48.0), (-105.0, 48.0), (-104.0, 48.0), (-103.0, 48.0), (-102.0, 48.0), (-120.0, 47.0), (-119.0, 47.0), (-118.0, 47.0), (-117.0, 47.0), (-116.0, 47.0), (-115.0, 47.0), (-114.0, 47.0), (-113.0, 47.0), (-112.0, 47.0), (-111.0, 47.0), (-110.0, 47.0), (-109.0, 47.0), (-108.0, 47.0), (-107.0, 47.0), (-106.0, 47.0), (-105.0, 47.0), (-104.0, 47.0), (-103.0, 47.0), (-102.0, 47.0), (-120.0, 46.0), (-119.0, 46.0), (-118.0, 46.0), (-117.0, 46.0), (-116.0, 46.0), (-115.0, 46.0), (-114.0, 46.0), (-113.0, 46.0), (-112.0, 46.0), (-111.0, 46.0), (-110.0, 46.0), (-109.0, 46.0), (-108.0, 46.0), (-107.0, 46.0), (-106.0, 46.0), (-105.0, 46.0), (-104.0, 46.0), (-103.0, 46.0), (-102.0, 46.0), (-120.0, 45.0), (-119.0, 45.0), (-118.0, 45.0), (-117.0, 45.0), (-116.0, 45.0), (-115.0, 45.0), (-114.0, 45.0), (-113.0, 45.0), (-112.0, 45.0), (-111.0, 45.0), (-110.0, 45.0), (-109.0, 45.0), (-108.0, 45.0), (-107.0, 45.0), (-106.0, 45.0), (-105.0, 45.0), (-104.0, 45.0), (-103.0, 45.0), (-102.0, 45.0), (-120.0, 44.0), (-119.0, 44.0), (-118.0, 44.0), (-117.0, 44.0), (-116.0, 44.0), (-115.0, 44.0), (-114.0, 44.0), (-113.0, 44.0), (-112.0, 44.0), (-111.0, 44.0), (-110.0, 44.0), (-109.0, 44.0), (-108.0, 44.0), (-107.0, 44.0), (-106.0, 44.0), (-105.0, 44.0), (-104.0, 44.0), (-103.0, 44.0), (-102.0, 44.0), (-120.0, 43.0), (-119.0, 43.0), (-118.0, 43.0), (-117.0, 43.0), (-116.0, 43.0), (-115.0, 43.0), (-114.0, 43.0), (-113.0, 43.0), (-112.0, 43.0), (-111.0, 43.0), (-110.0, 43.0), (-109.0, 43.0), (-108.0, 43.0), (-107.0, 43.0), (-106.0, 43.0), (-105.0, 43.0), (-104.0, 43.0), (-103.0, 43.0), (-102.0, 43.0), (-120.0, 42.0), (-119.0, 42.0), (-118.0, 42.0), (-117.0, 42.0), (-116.0, 42.0), (-115.0, 42.0), (-114.0, 42.0), (-113.0, 42.0), (-112.0, 42.0), (-111.0, 42.0), (-110.0, 42.0), (-109.0, 42.0), (-108.0, 42.0), (-107.0, 42.0), (-106.0, 42.0), (-105.0, 42.0), (-104.0, 42.0), (-103.0, 42.0), (-102.0, 42.0), (-120.0, 41.0), (-119.0, 41.0), (-118.0, 41.0), (-117.0, 41.0), (-116.0, 41.0), (-115.0, 41.0), (-114.0, 41.0), (-113.0, 41.0), (-112.0, 41.0), (-111.0, 41.0), (-110.0, 41.0), (-109.0, 41.0), (-108.0, 41.0), (-107.0, 41.0), (-106.0, 41.0), (-105.0, 41.0), (-104.0, 41.0), (-103.0, 41.0), (-102.0, 41.0), (-120.0, 40.0), (-119.0, 40.0), (-118.0, 40.0), (-117.0, 40.0), (-116.0, 40.0), (-115.0, 40.0), (-114.0, 40.0), (-113.0, 40.0), (-112.0, 40.0), (-111.0, 40.0), (-110.0, 40.0), (-109.0, 40.0), (-108.0, 40.0), (-107.0, 40.0), (-106.0, 40.0), (-105.0, 40.0), (-104.0, 40.0), (-103.0, 40.0), (-102.0, 40.0)]\n"
     ]
    }
   ],
   "source": [
    "## check that coord orientations are correct\n",
    "coords = [(long, lat) for lat in lat_grid for long in long_grid]\n",
    "print(coords)"
   ]
  },
  {
   "cell_type": "code",
   "execution_count": 58,
   "metadata": {
    "slideshow": {
     "slide_type": "fragment"
    }
   },
   "outputs": [],
   "source": [
    "## assume a quadratic spatial trend for pm10\n",
    "long_bozeman = -111.043\n",
    "lat_bozeman = 45.677\n",
    "def quadratic_trend(long, lat):\n",
    "    return -1.3*((long - long_bozeman) **2 + (lat - lat_bozeman) **2) + 160"
   ]
  },
  {
   "cell_type": "code",
   "execution_count": 59,
   "metadata": {
    "slideshow": {
     "slide_type": "fragment"
    }
   },
   "outputs": [
    {
     "name": "stdout",
     "output_type": "stream",
     "text": [
      "[ 48.6885686  70.6767686  90.0649686 106.8531686 121.0413686 132.6295686\n",
      " 141.6177686 148.0059686 151.7941686 152.9823686 151.5705686 147.5587686\n",
      " 140.9469686 131.7351686 119.9233686 105.5115686  88.4997686  68.8879686\n",
      "  46.6761686  53.4283686  75.4165686  94.8047686 111.5929686 125.7811686\n",
      " 137.3693686 146.3575686 152.7457686 156.5339686 157.7221686 156.3103686\n",
      " 152.2985686 145.6867686 136.4749686 124.6631686 110.2513686  93.2395686\n",
      "  73.6277686  51.4159686  55.5681686  77.5563686  96.9445686 113.7327686\n",
      " 127.9209686 139.5091686 148.4973686 154.8855686 158.6737686 159.8619686\n",
      " 158.4501686 154.4383686 147.8265686 138.6147686 126.8029686 112.3911686\n",
      "  95.3793686  75.7675686  53.5557686  55.1079686  77.0961686  96.4843686\n",
      " 113.2725686 127.4607686 139.0489686 148.0371686 154.4253686 158.2135686\n",
      " 159.4017686 157.9899686 153.9781686 147.3663686 138.1545686 126.3427686\n",
      " 111.9309686  94.9191686  75.3073686  53.0955686  52.0477686  74.0359686\n",
      "  93.4241686 110.2123686 124.4005686 135.9887686 144.9769686 151.3651686\n",
      " 155.1533686 156.3415686 154.9297686 150.9179686 144.3061686 135.0943686\n",
      " 123.2825686 108.8707686  91.8589686  72.2471686  50.0353686  46.3875686\n",
      "  68.3757686  87.7639686 104.5521686 118.7403686 130.3285686 139.3167686\n",
      " 145.7049686 149.4931686 150.6813686 149.2695686 145.2577686 138.6459686\n",
      " 129.4341686 117.6223686 103.2105686  86.1987686  66.5869686  44.3751686\n",
      "  38.1273686  60.1155686  79.5037686  96.2919686 110.4801686 122.0683686\n",
      " 131.0565686 137.4447686 141.2329686 142.4211686 141.0093686 136.9975686\n",
      " 130.3857686 121.1739686 109.3621686  94.9503686  77.9385686  58.3267686\n",
      "  36.1149686  27.2671686  49.2553686  68.6435686  85.4317686  99.6199686\n",
      " 111.2081686 120.1963686 126.5845686 130.3727686 131.5609686 130.1491686\n",
      " 126.1373686 119.5255686 110.3137686  98.5019686  84.0901686  67.0783686\n",
      "  47.4665686  25.2547686  13.8069686  35.7951686  55.1833686  71.9715686\n",
      "  86.1597686  97.7479686 106.7361686 113.1243686 116.9125686 118.1007686\n",
      " 116.6889686 112.6771686 106.0653686  96.8535686  85.0417686  70.6299686\n",
      "  53.6181686  34.0063686  11.7945686]\n",
      "(171,)\n"
     ]
    }
   ],
   "source": [
    "pm10 = np.array([quadratic_trend(long, lat) for lat in lat_grid for long in long_grid])\n",
    "print(pm10)\n",
    "print(pm10.shape)"
   ]
  },
  {
   "cell_type": "code",
   "execution_count": 60,
   "metadata": {
    "slideshow": {
     "slide_type": "fragment"
    }
   },
   "outputs": [
    {
     "name": "stdout",
     "output_type": "stream",
     "text": [
      "[[ 48.6885686  70.6767686  90.0649686 106.8531686 121.0413686 132.6295686\n",
      "  141.6177686 148.0059686 151.7941686 152.9823686 151.5705686 147.5587686\n",
      "  140.9469686 131.7351686 119.9233686 105.5115686  88.4997686  68.8879686\n",
      "   46.6761686]\n",
      " [ 53.4283686  75.4165686  94.8047686 111.5929686 125.7811686 137.3693686\n",
      "  146.3575686 152.7457686 156.5339686 157.7221686 156.3103686 152.2985686\n",
      "  145.6867686 136.4749686 124.6631686 110.2513686  93.2395686  73.6277686\n",
      "   51.4159686]\n",
      " [ 55.5681686  77.5563686  96.9445686 113.7327686 127.9209686 139.5091686\n",
      "  148.4973686 154.8855686 158.6737686 159.8619686 158.4501686 154.4383686\n",
      "  147.8265686 138.6147686 126.8029686 112.3911686  95.3793686  75.7675686\n",
      "   53.5557686]\n",
      " [ 55.1079686  77.0961686  96.4843686 113.2725686 127.4607686 139.0489686\n",
      "  148.0371686 154.4253686 158.2135686 159.4017686 157.9899686 153.9781686\n",
      "  147.3663686 138.1545686 126.3427686 111.9309686  94.9191686  75.3073686\n",
      "   53.0955686]\n",
      " [ 52.0477686  74.0359686  93.4241686 110.2123686 124.4005686 135.9887686\n",
      "  144.9769686 151.3651686 155.1533686 156.3415686 154.9297686 150.9179686\n",
      "  144.3061686 135.0943686 123.2825686 108.8707686  91.8589686  72.2471686\n",
      "   50.0353686]\n",
      " [ 46.3875686  68.3757686  87.7639686 104.5521686 118.7403686 130.3285686\n",
      "  139.3167686 145.7049686 149.4931686 150.6813686 149.2695686 145.2577686\n",
      "  138.6459686 129.4341686 117.6223686 103.2105686  86.1987686  66.5869686\n",
      "   44.3751686]\n",
      " [ 38.1273686  60.1155686  79.5037686  96.2919686 110.4801686 122.0683686\n",
      "  131.0565686 137.4447686 141.2329686 142.4211686 141.0093686 136.9975686\n",
      "  130.3857686 121.1739686 109.3621686  94.9503686  77.9385686  58.3267686\n",
      "   36.1149686]\n",
      " [ 27.2671686  49.2553686  68.6435686  85.4317686  99.6199686 111.2081686\n",
      "  120.1963686 126.5845686 130.3727686 131.5609686 130.1491686 126.1373686\n",
      "  119.5255686 110.3137686  98.5019686  84.0901686  67.0783686  47.4665686\n",
      "   25.2547686]\n",
      " [ 13.8069686  35.7951686  55.1833686  71.9715686  86.1597686  97.7479686\n",
      "  106.7361686 113.1243686 116.9125686 118.1007686 116.6889686 112.6771686\n",
      "  106.0653686  96.8535686  85.0417686  70.6299686  53.6181686  34.0063686\n",
      "   11.7945686]]\n",
      "(9, 19)\n"
     ]
    }
   ],
   "source": [
    "## reshape pm10 observations to match the lat/long shape\n",
    "pm10 = pm10.reshape([lat_n, long_n])\n",
    "print(pm10)\n",
    "\n",
    "print(pm10.shape)"
   ]
  },
  {
   "cell_type": "code",
   "execution_count": 61,
   "metadata": {
    "slideshow": {
     "slide_type": "fragment"
    }
   },
   "outputs": [
    {
     "data": {
      "image/png": "[encoded data removed]",
      "text/plain": [
       "<Figure size 1008x576 with 2 Axes>"
      ]
     },
     "metadata": {
      "needs_background": "light"
     },
     "output_type": "display_data"
    }
   ],
   "source": [
    "## plot values on a grid. Don't worry too much about how this works yet - we will learn about plotting in a couple of weeks.\n",
    "import matplotlib.pyplot as plt\n",
    "import seaborn as sns\n",
    "\n",
    "def plot_grid(value, long_grid, lat_grid, label):\n",
    "    fig, ax = plt.subplots(1,1, figsize=(14,8))\n",
    "    plt.imshow(value)\n",
    "    plt.colorbar(label = label)\n",
    "    plt.xlabel('Longitude')\n",
    "    plt.ylabel('Latitude')\n",
    "    ax.set_xticks(list(range(0, len(long_grid), 3)))\n",
    "    ax.set_yticks(list(range(0, len(lat_grid), 2)))\n",
    "    ax.set_xticklabels(long_grid[::3])\n",
    "    ax.set_yticklabels(lat_grid[::2])\n",
    "    \n",
    "    \n",
    "plot_grid(pm10, long_grid, lat_grid, 'PM10 (ug/m3)')"
   ]
  },
  {
   "cell_type": "markdown",
   "metadata": {
    "slideshow": {
     "slide_type": "fragment"
    }
   },
   "source": [
    "Now use ``np.random.normal()`` to add random noise to the data, with mean and standard distribution of 0 and 5 ug/m3, respectively. Then plot the noisy data using ``plot_grid()``."
   ]
  },
  {
   "cell_type": "code",
   "execution_count": null,
   "metadata": {},
   "outputs": [],
   "source": []
  },
  {
   "cell_type": "markdown",
   "metadata": {
    "slideshow": {
     "slide_type": "fragment"
    }
   },
   "source": [
    "We will now assume that this \"synthetic\" dataset is our real data set and use it for analysis. The US EPS's national 24-hour daily standard for PM10 is 150 ug/m3 (for the max 24-hour concentration in one year, averaged over three years. But we will just treat it as a one-day standard for simplicity.)\n",
    "\n",
    "Use NumPy's built-in functions to answer the following questions:\n",
    "1. What are the mean and std of PM10 across this region today?"
   ]
  },
  {
   "cell_type": "code",
   "execution_count": null,
   "metadata": {},
   "outputs": [],
   "source": []
  },
  {
   "cell_type": "markdown",
   "metadata": {
    "slideshow": {
     "slide_type": "fragment"
    }
   },
   "source": [
    "2. Which longitude has the highest mean PM10? Which latitude has the mean lowest?"
   ]
  },
  {
   "cell_type": "code",
   "execution_count": null,
   "metadata": {},
   "outputs": [],
   "source": []
  },
  {
   "cell_type": "markdown",
   "metadata": {
    "slideshow": {
     "slide_type": "fragment"
    }
   },
   "source": [
    "3. What fraction of grid points exceed the EPA daily standard?"
   ]
  },
  {
   "cell_type": "code",
   "execution_count": null,
   "metadata": {},
   "outputs": [],
   "source": []
  },
  {
   "cell_type": "markdown",
   "metadata": {
    "slideshow": {
     "slide_type": "fragment"
    }
   },
   "source": [
    "4. Use logical indexing to create an array with 1's at locations violating the standard, and 0's at locations not violating the standard. Plot using ``plot_grid``."
   ]
  },
  {
   "cell_type": "code",
   "execution_count": null,
   "metadata": {},
   "outputs": [],
   "source": []
  },
  {
   "cell_type": "markdown",
   "metadata": {
    "slideshow": {
     "slide_type": "fragment"
    }
   },
   "source": [
    "5. Assume the following  logistic function (*completely made up, not a real relationship*) for excess cardiovascular deaths per 1,000 people in the region, based on the daily PM10 concentration. \n",
    "\n",
    "$$deaths = \\frac{15}{1 + \\exp(-(PM10 - 80) / 35)}$$\n",
    "\n",
    "Create a function that uses NumPy to calculate the excess cardio deaths for a grid of pm10 observations, then calculate and plot the grid of excess deaths."
   ]
  },
  {
   "cell_type": "code",
   "execution_count": null,
   "metadata": {
    "slideshow": {
     "slide_type": "fragment"
    }
   },
   "outputs": [],
   "source": []
  },
  {
   "cell_type": "markdown",
   "metadata": {
    "slideshow": {
     "slide_type": "slide"
    }
   },
   "source": [
    "## Pandas\n",
    "The final important data structure we will cover is the **Pandas DataFrame**, from the [Pandas package](https://pandas.pydata.org/docs/user_guide/index.html#user-guide). Pandas makes it easy to load and manipulate multi-variate datasets, which makes it great for data analysis and visualization. "
   ]
  },
  {
   "cell_type": "markdown",
   "metadata": {
    "slideshow": {
     "slide_type": "fragment"
    }
   },
   "source": [
    "### Creating Pandas DataFrames \n",
    "A Pandas DataFrame is similar to a dictionary, in that it is a collection of **keys** and **values**. However, it is more restrictive, in that all values must be lists with the same length and a shared index. This makes it ideal for multivariate datasets, in which we have many different observations of the same set of variables (the name \"Pandas\" derives from \"panel data\")."
   ]
  },
  {
   "cell_type": "markdown",
   "metadata": {
    "slideshow": {
     "slide_type": "slide"
    }
   },
   "source": [
    "An example will make this more clear. Consider again the county groundwater subsidization program that we introduced in the class exercise for list comprehensions."
   ]
  },
  {
   "cell_type": "code",
   "execution_count": 62,
   "metadata": {
    "slideshow": {
     "slide_type": "fragment"
    }
   },
   "outputs": [
    {
     "name": "stdout",
     "output_type": "stream",
     "text": [
      "[0, 1, 2, 3, 4, 5, 6, 7, 8, 9, 10, 11, 12, 13, 14, 15, 16, 17, 18, 19]\n"
     ]
    }
   ],
   "source": [
    "import random\n",
    "## numeric index for each household in county\n",
    "household = list(range(1000))\n",
    "print(household[:20])"
   ]
  },
  {
   "cell_type": "code",
   "execution_count": 63,
   "metadata": {
    "slideshow": {
     "slide_type": "fragment"
    }
   },
   "outputs": [
    {
     "name": "stdout",
     "output_type": "stream",
     "text": [
      "['municipal', 'municipal', 'private', 'municipal', 'municipal', 'municipal', 'municipal', 'municipal', 'municipal', 'municipal', 'municipal', 'private', 'private', 'private', 'municipal', 'municipal', 'municipal', 'private', 'municipal', 'private']\n"
     ]
    }
   ],
   "source": [
    "## water source for each household\n",
    "water = [random.choices(['municipal', 'private'], weights = [0.6, 0.4], k=1)[0] for h in household]\n",
    "print(water[:20])"
   ]
  },
  {
   "cell_type": "code",
   "execution_count": 64,
   "metadata": {
    "slideshow": {
     "slide_type": "fragment"
    }
   },
   "outputs": [
    {
     "name": "stdout",
     "output_type": "stream",
     "text": [
      "[62907.46, 24664.12, 41995.28, 40346.52, 27764.05, 26616.17, 44150.4, 54443.04, 34687.0, 45136.34, 28036.27, 17085.39, 40595.33, 37342.27, 41877.12, 39377.9, 41280.0, 47704.89, 51996.38, 43626.38]\n"
     ]
    }
   ],
   "source": [
    "## income for each household \n",
    "income = [round(random.gauss(40000, 10000),2) for h in household]\n",
    "print(income[:20])"
   ]
  },
  {
   "cell_type": "markdown",
   "metadata": {
    "slideshow": {
     "slide_type": "fragment"
    }
   },
   "source": [
    "Because each of these three lists is the same length, we can create a Pandas DataFrame as follows. Pandas is typically imported with the **alias** ``pd``."
   ]
  },
  {
   "cell_type": "code",
   "execution_count": 65,
   "metadata": {
    "slideshow": {
     "slide_type": "fragment"
    }
   },
   "outputs": [
    {
     "data": {
      "text/html": [
       "<div>\n",
       "<style scoped>\n",
       "    .dataframe tbody tr th:only-of-type {\n",
       "        vertical-align: middle;\n",
       "    }\n",
       "\n",
       "    .dataframe tbody tr th {\n",
       "        vertical-align: top;\n",
       "    }\n",
       "\n",
       "    .dataframe thead th {\n",
       "        text-align: right;\n",
       "    }\n",
       "</style>\n",
       "<table border=\"1\" class=\"dataframe\">\n",
       "  <thead>\n",
       "    <tr style=\"text-align: right;\">\n",
       "      <th></th>\n",
       "      <th>household</th>\n",
       "      <th>water</th>\n",
       "      <th>income</th>\n",
       "    </tr>\n",
       "  </thead>\n",
       "  <tbody>\n",
       "    <tr>\n",
       "      <th>0</th>\n",
       "      <td>0</td>\n",
       "      <td>municipal</td>\n",
       "      <td>62907.46</td>\n",
       "    </tr>\n",
       "    <tr>\n",
       "      <th>1</th>\n",
       "      <td>1</td>\n",
       "      <td>municipal</td>\n",
       "      <td>24664.12</td>\n",
       "    </tr>\n",
       "    <tr>\n",
       "      <th>2</th>\n",
       "      <td>2</td>\n",
       "      <td>private</td>\n",
       "      <td>41995.28</td>\n",
       "    </tr>\n",
       "    <tr>\n",
       "      <th>3</th>\n",
       "      <td>3</td>\n",
       "      <td>municipal</td>\n",
       "      <td>40346.52</td>\n",
       "    </tr>\n",
       "    <tr>\n",
       "      <th>4</th>\n",
       "      <td>4</td>\n",
       "      <td>municipal</td>\n",
       "      <td>27764.05</td>\n",
       "    </tr>\n",
       "    <tr>\n",
       "      <th>...</th>\n",
       "      <td>...</td>\n",
       "      <td>...</td>\n",
       "      <td>...</td>\n",
       "    </tr>\n",
       "    <tr>\n",
       "      <th>995</th>\n",
       "      <td>995</td>\n",
       "      <td>municipal</td>\n",
       "      <td>45604.64</td>\n",
       "    </tr>\n",
       "    <tr>\n",
       "      <th>996</th>\n",
       "      <td>996</td>\n",
       "      <td>private</td>\n",
       "      <td>40729.71</td>\n",
       "    </tr>\n",
       "    <tr>\n",
       "      <th>997</th>\n",
       "      <td>997</td>\n",
       "      <td>municipal</td>\n",
       "      <td>43786.87</td>\n",
       "    </tr>\n",
       "    <tr>\n",
       "      <th>998</th>\n",
       "      <td>998</td>\n",
       "      <td>private</td>\n",
       "      <td>38535.18</td>\n",
       "    </tr>\n",
       "    <tr>\n",
       "      <th>999</th>\n",
       "      <td>999</td>\n",
       "      <td>municipal</td>\n",
       "      <td>44110.41</td>\n",
       "    </tr>\n",
       "  </tbody>\n",
       "</table>\n",
       "<p>1000 rows × 3 columns</p>\n",
       "</div>"
      ],
      "text/plain": [
       "     household      water    income\n",
       "0            0  municipal  62907.46\n",
       "1            1  municipal  24664.12\n",
       "2            2    private  41995.28\n",
       "3            3  municipal  40346.52\n",
       "4            4  municipal  27764.05\n",
       "..         ...        ...       ...\n",
       "995        995  municipal  45604.64\n",
       "996        996    private  40729.71\n",
       "997        997  municipal  43786.87\n",
       "998        998    private  38535.18\n",
       "999        999  municipal  44110.41\n",
       "\n",
       "[1000 rows x 3 columns]"
      ]
     },
     "execution_count": 65,
     "metadata": {},
     "output_type": "execute_result"
    }
   ],
   "source": [
    "import pandas as pd\n",
    "\n",
    "county = pd.DataFrame({'household': household, 'water': water, 'income': income})\n",
    "county"
   ]
  },
  {
   "cell_type": "markdown",
   "metadata": {
    "slideshow": {
     "slide_type": "fragment"
    }
   },
   "source": [
    "Notice that the argument used to create the DataFrame is a dictionary. Also notice that, unlike NumPy arrays, a Pandas DataFrame can be **mixed type**, but the values in each column must be the same type.\n",
    "\n",
    "Each Pandas DataFrame has an **index**, given by the column on the far left with no name. If we don't specify the index, it is assumed to be the integers from 0 to the length of the lists in the dictionary (so that, in this case, it matches the household list). We can also specify the index directly:"
   ]
  },
  {
   "cell_type": "code",
   "execution_count": 66,
   "metadata": {
    "slideshow": {
     "slide_type": "fragment"
    }
   },
   "outputs": [
    {
     "name": "stdout",
     "output_type": "stream",
     "text": [
      "         water    income\n",
      "0    municipal  62907.46\n",
      "1    municipal  24664.12\n",
      "2      private  41995.28\n",
      "3    municipal  40346.52\n",
      "4    municipal  27764.05\n",
      "..         ...       ...\n",
      "995  municipal  45604.64\n",
      "996    private  40729.71\n",
      "997  municipal  43786.87\n",
      "998    private  38535.18\n",
      "999  municipal  44110.41\n",
      "\n",
      "[1000 rows x 2 columns]\n"
     ]
    }
   ],
   "source": [
    "county = pd.DataFrame({'water': water, 'income': income}, index = household)\n",
    "print(county)"
   ]
  },
  {
   "cell_type": "markdown",
   "metadata": {
    "slideshow": {
     "slide_type": "fragment"
    }
   },
   "source": [
    "The ``head()`` and ``tail()`` functions can be used to retrieve just the first and last 5 rows:"
   ]
  },
  {
   "cell_type": "code",
   "execution_count": 67,
   "metadata": {
    "slideshow": {
     "slide_type": "fragment"
    }
   },
   "outputs": [
    {
     "data": {
      "text/html": [
       "<div>\n",
       "<style scoped>\n",
       "    .dataframe tbody tr th:only-of-type {\n",
       "        vertical-align: middle;\n",
       "    }\n",
       "\n",
       "    .dataframe tbody tr th {\n",
       "        vertical-align: top;\n",
       "    }\n",
       "\n",
       "    .dataframe thead th {\n",
       "        text-align: right;\n",
       "    }\n",
       "</style>\n",
       "<table border=\"1\" class=\"dataframe\">\n",
       "  <thead>\n",
       "    <tr style=\"text-align: right;\">\n",
       "      <th></th>\n",
       "      <th>water</th>\n",
       "      <th>income</th>\n",
       "    </tr>\n",
       "  </thead>\n",
       "  <tbody>\n",
       "    <tr>\n",
       "      <th>0</th>\n",
       "      <td>municipal</td>\n",
       "      <td>62907.46</td>\n",
       "    </tr>\n",
       "    <tr>\n",
       "      <th>1</th>\n",
       "      <td>municipal</td>\n",
       "      <td>24664.12</td>\n",
       "    </tr>\n",
       "    <tr>\n",
       "      <th>2</th>\n",
       "      <td>private</td>\n",
       "      <td>41995.28</td>\n",
       "    </tr>\n",
       "    <tr>\n",
       "      <th>3</th>\n",
       "      <td>municipal</td>\n",
       "      <td>40346.52</td>\n",
       "    </tr>\n",
       "    <tr>\n",
       "      <th>4</th>\n",
       "      <td>municipal</td>\n",
       "      <td>27764.05</td>\n",
       "    </tr>\n",
       "  </tbody>\n",
       "</table>\n",
       "</div>"
      ],
      "text/plain": [
       "       water    income\n",
       "0  municipal  62907.46\n",
       "1  municipal  24664.12\n",
       "2    private  41995.28\n",
       "3  municipal  40346.52\n",
       "4  municipal  27764.05"
      ]
     },
     "execution_count": 67,
     "metadata": {},
     "output_type": "execute_result"
    }
   ],
   "source": [
    "county.head()"
   ]
  },
  {
   "cell_type": "code",
   "execution_count": 68,
   "metadata": {
    "slideshow": {
     "slide_type": "fragment"
    }
   },
   "outputs": [
    {
     "data": {
      "text/html": [
       "<div>\n",
       "<style scoped>\n",
       "    .dataframe tbody tr th:only-of-type {\n",
       "        vertical-align: middle;\n",
       "    }\n",
       "\n",
       "    .dataframe tbody tr th {\n",
       "        vertical-align: top;\n",
       "    }\n",
       "\n",
       "    .dataframe thead th {\n",
       "        text-align: right;\n",
       "    }\n",
       "</style>\n",
       "<table border=\"1\" class=\"dataframe\">\n",
       "  <thead>\n",
       "    <tr style=\"text-align: right;\">\n",
       "      <th></th>\n",
       "      <th>water</th>\n",
       "      <th>income</th>\n",
       "    </tr>\n",
       "  </thead>\n",
       "  <tbody>\n",
       "    <tr>\n",
       "      <th>995</th>\n",
       "      <td>municipal</td>\n",
       "      <td>45604.64</td>\n",
       "    </tr>\n",
       "    <tr>\n",
       "      <th>996</th>\n",
       "      <td>private</td>\n",
       "      <td>40729.71</td>\n",
       "    </tr>\n",
       "    <tr>\n",
       "      <th>997</th>\n",
       "      <td>municipal</td>\n",
       "      <td>43786.87</td>\n",
       "    </tr>\n",
       "    <tr>\n",
       "      <th>998</th>\n",
       "      <td>private</td>\n",
       "      <td>38535.18</td>\n",
       "    </tr>\n",
       "    <tr>\n",
       "      <th>999</th>\n",
       "      <td>municipal</td>\n",
       "      <td>44110.41</td>\n",
       "    </tr>\n",
       "  </tbody>\n",
       "</table>\n",
       "</div>"
      ],
      "text/plain": [
       "         water    income\n",
       "995  municipal  45604.64\n",
       "996    private  40729.71\n",
       "997  municipal  43786.87\n",
       "998    private  38535.18\n",
       "999  municipal  44110.41"
      ]
     },
     "execution_count": 68,
     "metadata": {},
     "output_type": "execute_result"
    }
   ],
   "source": [
    "county.tail()"
   ]
  },
  {
   "cell_type": "markdown",
   "metadata": {
    "slideshow": {
     "slide_type": "fragment"
    }
   },
   "source": [
    "We can retrieve the column names (keys) using ``columns``"
   ]
  },
  {
   "cell_type": "code",
   "execution_count": 69,
   "metadata": {
    "slideshow": {
     "slide_type": "fragment"
    }
   },
   "outputs": [
    {
     "data": {
      "text/plain": [
       "Index(['water', 'income'], dtype='object')"
      ]
     },
     "execution_count": 69,
     "metadata": {},
     "output_type": "execute_result"
    }
   ],
   "source": [
    "county.columns"
   ]
  },
  {
   "cell_type": "markdown",
   "metadata": {
    "slideshow": {
     "slide_type": "fragment"
    }
   },
   "source": [
    "And access the data in a particular column using 2 different syntaxes:"
   ]
  },
  {
   "cell_type": "code",
   "execution_count": 70,
   "metadata": {
    "slideshow": {
     "slide_type": "fragment"
    }
   },
   "outputs": [
    {
     "data": {
      "text/plain": [
       "0    municipal\n",
       "1    municipal\n",
       "2      private\n",
       "3    municipal\n",
       "4    municipal\n",
       "Name: water, dtype: object"
      ]
     },
     "execution_count": 70,
     "metadata": {},
     "output_type": "execute_result"
    }
   ],
   "source": [
    "county['water'].head()"
   ]
  },
  {
   "cell_type": "code",
   "execution_count": 71,
   "metadata": {
    "slideshow": {
     "slide_type": "fragment"
    }
   },
   "outputs": [
    {
     "data": {
      "text/plain": [
       "0    municipal\n",
       "1    municipal\n",
       "2      private\n",
       "3    municipal\n",
       "4    municipal\n",
       "Name: water, dtype: object"
      ]
     },
     "execution_count": 71,
     "metadata": {},
     "output_type": "execute_result"
    }
   ],
   "source": [
    "county.water.head()"
   ]
  },
  {
   "cell_type": "markdown",
   "metadata": {
    "slideshow": {
     "slide_type": "fragment"
    }
   },
   "source": [
    "We create new columns in a similar manner to dictionaries:"
   ]
  },
  {
   "cell_type": "code",
   "execution_count": 72,
   "metadata": {
    "slideshow": {
     "slide_type": "fragment"
    }
   },
   "outputs": [
    {
     "data": {
      "text/plain": [
       "(1000, 2)"
      ]
     },
     "execution_count": 72,
     "metadata": {},
     "output_type": "execute_result"
    }
   ],
   "source": [
    "## create another column for number of residents in household (again by random sampling)\n",
    "county.shape"
   ]
  },
  {
   "cell_type": "code",
   "execution_count": 73,
   "metadata": {
    "slideshow": {
     "slide_type": "fragment"
    }
   },
   "outputs": [
    {
     "data": {
      "text/plain": [
       "array([2, 6, 4, 2, 2, 4, 4, 5, 4, 2, 1, 1, 1, 4, 3, 1, 3, 2, 2, 1, 3, 2,\n",
       "       1, 2, 6, 4, 1, 4, 1, 2, 1, 1, 2, 6, 2, 1, 1, 2, 2, 4, 4, 2, 4, 1,\n",
       "       2, 1, 3, 2, 5, 3, 6, 6, 4, 6, 3, 1, 2, 5, 3, 5, 6, 1, 4, 1, 1, 1,\n",
       "       3, 3, 1, 2, 4, 1, 1, 3, 4, 1, 6, 4, 2, 4, 3, 2, 1, 3, 5, 1, 3, 3,\n",
       "       1, 6, 2, 5, 2, 1, 1, 3, 2, 1, 4, 2, 4, 4, 1, 1, 4, 2, 6, 1, 4, 1,\n",
       "       2, 1, 3, 6, 3, 2, 1, 5, 1, 6, 2, 6, 1, 1, 3, 6, 4, 4, 1, 6, 5, 6,\n",
       "       1, 1, 5, 3, 1, 3, 2, 4, 3, 2, 4, 4, 1, 1, 1, 6, 2, 4, 1, 1, 3, 1,\n",
       "       3, 1, 2, 2, 1, 3, 3, 4, 4, 5, 2, 1, 4, 1, 2, 2, 5, 1, 1, 1, 4, 3,\n",
       "       4, 1, 1, 4, 4, 3, 1, 6, 2, 1, 6, 6, 1, 2, 1, 1, 2, 2, 6, 2, 3, 2,\n",
       "       1, 1, 2, 3, 1, 6, 4, 1, 2, 2, 1, 2, 2, 2, 6, 1, 4, 1, 1, 2, 2, 6,\n",
       "       3, 3, 3, 6, 2, 3, 2, 1, 4, 1, 1, 1, 3, 2, 6, 6, 2, 3, 1, 2, 3, 1,\n",
       "       3, 6, 2, 2, 2, 3, 5, 2, 2, 4, 1, 2, 2, 5, 1, 4, 2, 1, 4, 3, 5, 1,\n",
       "       1, 6, 1, 2, 1, 1, 1, 3, 1, 4, 4, 4, 3, 1, 1, 4, 2, 6, 3, 2, 3, 2,\n",
       "       6, 2, 3, 1, 2, 5, 1, 1, 5, 2, 3, 4, 1, 2, 5, 2, 2, 2, 2, 1, 4, 6,\n",
       "       5, 3, 2, 4, 2, 4, 2, 3, 2, 4, 2, 6, 2, 4, 5, 2, 1, 1, 5, 4, 3, 1,\n",
       "       1, 6, 2, 2, 2, 2, 2, 3, 2, 1, 5, 1, 3, 4, 3, 6, 2, 1, 6, 1, 4, 4,\n",
       "       1, 1, 4, 2, 1, 2, 1, 2, 1, 4, 3, 4, 1, 3, 5, 2, 1, 4, 1, 4, 2, 1,\n",
       "       2, 1, 1, 2, 1, 2, 1, 1, 1, 4, 2, 6, 1, 6, 2, 6, 4, 2, 1, 2, 5, 4,\n",
       "       2, 4, 1, 1, 1, 1, 1, 2, 1, 5, 2, 4, 2, 4, 1, 3, 3, 5, 3, 1, 3, 1,\n",
       "       4, 6, 3, 2, 4, 5, 1, 5, 5, 4, 6, 2, 3, 4, 3, 2, 2, 2, 4, 2, 1, 3,\n",
       "       2, 2, 3, 5, 2, 4, 4, 2, 1, 2, 6, 3, 1, 1, 5, 5, 6, 1, 2, 1, 3, 4,\n",
       "       1, 2, 6, 2, 3, 3, 1, 1, 1, 3, 1, 1, 1, 2, 1, 1, 1, 4, 4, 4, 5, 2,\n",
       "       2, 2, 3, 6, 1, 6, 1, 5, 5, 2, 6, 3, 4, 4, 1, 1, 6, 3, 4, 1, 2, 2,\n",
       "       2, 1, 6, 1, 2, 1, 2, 1, 3, 4, 5, 4, 2, 1, 1, 1, 2, 1, 2, 4, 5, 2,\n",
       "       2, 1, 3, 1, 4, 2, 4, 1, 6, 4, 1, 2, 2, 4, 1, 5, 4, 3, 1, 3, 3, 2,\n",
       "       4, 3, 2, 5, 4, 4, 1, 2, 2, 2, 2, 1, 4, 1, 2, 2, 1, 2, 2, 1, 1, 2,\n",
       "       2, 4, 1, 2, 4, 3, 6, 2, 2, 5, 4, 1, 3, 5, 1, 1, 1, 1, 1, 6, 2, 1,\n",
       "       2, 6, 4, 3, 1, 5, 1, 5, 3, 6, 2, 5, 4, 3, 2, 5, 2, 2, 1, 2, 1, 2,\n",
       "       3, 1, 2, 1, 5, 2, 1, 4, 1, 6, 2, 1, 1, 2, 2, 1, 2, 4, 2, 5, 3, 1,\n",
       "       2, 6, 2, 5, 4, 1, 1, 2, 5, 3, 2, 1, 2, 2, 1, 2, 4, 2, 1, 1, 2, 2,\n",
       "       5, 1, 5, 3, 1, 2, 1, 1, 6, 3, 2, 2, 1, 4, 4, 1, 4, 1, 4, 2, 4, 1,\n",
       "       5, 1, 2, 1, 5, 3, 1, 2, 2, 1, 2, 2, 2, 2, 2, 1, 1, 4, 5, 2, 2, 1,\n",
       "       2, 2, 5, 4, 1, 2, 2, 2, 2, 3, 2, 2, 1, 6, 4, 2, 2, 1, 2, 1, 2, 1,\n",
       "       1, 5, 3, 4, 3, 4, 1, 6, 1, 2, 2, 4, 1, 3, 4, 2, 6, 6, 6, 4, 4, 3,\n",
       "       1, 5, 1, 2, 1, 5, 3, 2, 2, 6, 1, 1, 1, 4, 1, 1, 5, 4, 2, 1, 2, 5,\n",
       "       4, 3, 4, 4, 3, 4, 3, 1, 1, 4, 2, 3, 2, 3, 4, 6, 5, 1, 1, 1, 1, 2,\n",
       "       1, 4, 1, 4, 3, 4, 1, 1, 4, 4, 3, 5, 4, 1, 1, 4, 1, 2, 1, 5, 1, 1,\n",
       "       3, 1, 6, 3, 4, 4, 2, 5, 3, 5, 2, 1, 1, 6, 2, 5, 2, 1, 1, 2, 4, 1,\n",
       "       4, 1, 6, 2, 3, 3, 2, 3, 2, 1, 4, 6, 4, 4, 2, 2, 1, 1, 3, 2, 4, 2,\n",
       "       1, 2, 5, 3, 2, 3, 6, 3, 3, 1, 5, 1, 1, 1, 2, 3, 1, 4, 1, 5, 6, 2,\n",
       "       4, 2, 4, 1, 1, 3, 2, 4, 1, 4, 2, 2, 4, 3, 5, 5, 1, 4, 5, 3, 2, 1,\n",
       "       1, 1, 4, 1, 2, 3, 1, 2, 3, 1, 1, 1, 2, 1, 1, 5, 5, 2, 2, 5, 3, 2,\n",
       "       3, 4, 2, 4, 3, 1, 1, 1, 3, 1, 3, 3, 1, 3, 2, 1, 2, 1, 1, 5, 2, 6,\n",
       "       2, 6, 2, 1, 3, 3, 1, 2, 1, 3, 5, 5, 6, 1, 2, 1, 2, 3, 4, 1, 3, 1,\n",
       "       4, 1, 2, 5, 4, 1, 4, 4, 4, 4, 3, 1, 3, 1, 2, 3, 1, 2, 4, 4, 1, 2,\n",
       "       2, 1, 3, 4, 2, 5, 2, 3, 1, 2])"
      ]
     },
     "execution_count": 73,
     "metadata": {},
     "output_type": "execute_result"
    }
   ],
   "source": [
    "import numpy as np\n",
    "nrow = county.shape[0]\n",
    "residents = np.random.choice([1, 2, 3, 4, 5, 6], size = nrow, p = [0.3, 0.25, 0.15, 0.15, 0.075, 0.075])\n",
    "residents"
   ]
  },
  {
   "cell_type": "code",
   "execution_count": 74,
   "metadata": {
    "slideshow": {
     "slide_type": "fragment"
    }
   },
   "outputs": [
    {
     "data": {
      "text/html": [
       "<div>\n",
       "<style scoped>\n",
       "    .dataframe tbody tr th:only-of-type {\n",
       "        vertical-align: middle;\n",
       "    }\n",
       "\n",
       "    .dataframe tbody tr th {\n",
       "        vertical-align: top;\n",
       "    }\n",
       "\n",
       "    .dataframe thead th {\n",
       "        text-align: right;\n",
       "    }\n",
       "</style>\n",
       "<table border=\"1\" class=\"dataframe\">\n",
       "  <thead>\n",
       "    <tr style=\"text-align: right;\">\n",
       "      <th></th>\n",
       "      <th>water</th>\n",
       "      <th>income</th>\n",
       "      <th>residents</th>\n",
       "    </tr>\n",
       "  </thead>\n",
       "  <tbody>\n",
       "    <tr>\n",
       "      <th>0</th>\n",
       "      <td>municipal</td>\n",
       "      <td>62907.46</td>\n",
       "      <td>2</td>\n",
       "    </tr>\n",
       "    <tr>\n",
       "      <th>1</th>\n",
       "      <td>municipal</td>\n",
       "      <td>24664.12</td>\n",
       "      <td>6</td>\n",
       "    </tr>\n",
       "    <tr>\n",
       "      <th>2</th>\n",
       "      <td>private</td>\n",
       "      <td>41995.28</td>\n",
       "      <td>4</td>\n",
       "    </tr>\n",
       "    <tr>\n",
       "      <th>3</th>\n",
       "      <td>municipal</td>\n",
       "      <td>40346.52</td>\n",
       "      <td>2</td>\n",
       "    </tr>\n",
       "    <tr>\n",
       "      <th>4</th>\n",
       "      <td>municipal</td>\n",
       "      <td>27764.05</td>\n",
       "      <td>2</td>\n",
       "    </tr>\n",
       "  </tbody>\n",
       "</table>\n",
       "</div>"
      ],
      "text/plain": [
       "       water    income  residents\n",
       "0  municipal  62907.46          2\n",
       "1  municipal  24664.12          6\n",
       "2    private  41995.28          4\n",
       "3  municipal  40346.52          2\n",
       "4  municipal  27764.05          2"
      ]
     },
     "execution_count": 74,
     "metadata": {},
     "output_type": "execute_result"
    }
   ],
   "source": [
    "county['residents'] = residents\n",
    "county.head()"
   ]
  },
  {
   "cell_type": "markdown",
   "metadata": {
    "slideshow": {
     "slide_type": "slide"
    }
   },
   "source": [
    "### Importing data\n",
    "Pandas has a number of useful functions for importing data, such as ``pd.read_csv()`` and ``pd.read_excel()``. We will go into more detail about reading and manipulating datasets next week. But for now, a simple example using 5 years of historical stock prices for 5 large tech companies:"
   ]
  },
  {
   "cell_type": "code",
   "execution_count": 75,
   "metadata": {
    "slideshow": {
     "slide_type": "fragment"
    }
   },
   "outputs": [
    {
     "data": {
      "text/html": [
       "<div>\n",
       "<style scoped>\n",
       "    .dataframe tbody tr th:only-of-type {\n",
       "        vertical-align: middle;\n",
       "    }\n",
       "\n",
       "    .dataframe tbody tr th {\n",
       "        vertical-align: top;\n",
       "    }\n",
       "\n",
       "    .dataframe thead th {\n",
       "        text-align: right;\n",
       "    }\n",
       "</style>\n",
       "<table border=\"1\" class=\"dataframe\">\n",
       "  <thead>\n",
       "    <tr style=\"text-align: right;\">\n",
       "      <th></th>\n",
       "      <th>Date</th>\n",
       "      <th>Apple</th>\n",
       "      <th>Microsoft</th>\n",
       "      <th>Facebook</th>\n",
       "      <th>Amazon</th>\n",
       "      <th>Tesla</th>\n",
       "    </tr>\n",
       "  </thead>\n",
       "  <tbody>\n",
       "    <tr>\n",
       "      <th>0</th>\n",
       "      <td>2020-08-11</td>\n",
       "      <td>437.50</td>\n",
       "      <td>203.38</td>\n",
       "      <td>256.13</td>\n",
       "      <td>3080.67</td>\n",
       "      <td>1374.39</td>\n",
       "    </tr>\n",
       "    <tr>\n",
       "      <th>1</th>\n",
       "      <td>2020-08-10</td>\n",
       "      <td>450.91</td>\n",
       "      <td>208.25</td>\n",
       "      <td>263.00</td>\n",
       "      <td>3148.16</td>\n",
       "      <td>1418.57</td>\n",
       "    </tr>\n",
       "    <tr>\n",
       "      <th>2</th>\n",
       "      <td>2020-08-07</td>\n",
       "      <td>444.45</td>\n",
       "      <td>212.48</td>\n",
       "      <td>268.44</td>\n",
       "      <td>3167.46</td>\n",
       "      <td>1452.71</td>\n",
       "    </tr>\n",
       "    <tr>\n",
       "      <th>3</th>\n",
       "      <td>2020-08-06</td>\n",
       "      <td>455.61</td>\n",
       "      <td>216.35</td>\n",
       "      <td>265.28</td>\n",
       "      <td>3225.00</td>\n",
       "      <td>1489.58</td>\n",
       "    </tr>\n",
       "    <tr>\n",
       "      <th>4</th>\n",
       "      <td>2020-08-05</td>\n",
       "      <td>440.25</td>\n",
       "      <td>212.94</td>\n",
       "      <td>249.12</td>\n",
       "      <td>3205.03</td>\n",
       "      <td>1485.02</td>\n",
       "    </tr>\n",
       "  </tbody>\n",
       "</table>\n",
       "</div>"
      ],
      "text/plain": [
       "        Date   Apple  Microsoft  Facebook   Amazon    Tesla\n",
       "0 2020-08-11  437.50     203.38    256.13  3080.67  1374.39\n",
       "1 2020-08-10  450.91     208.25    263.00  3148.16  1418.57\n",
       "2 2020-08-07  444.45     212.48    268.44  3167.46  1452.71\n",
       "3 2020-08-06  455.61     216.35    265.28  3225.00  1489.58\n",
       "4 2020-08-05  440.25     212.94    249.12  3205.03  1485.02"
      ]
     },
     "execution_count": 75,
     "metadata": {},
     "output_type": "execute_result"
    }
   ],
   "source": [
    "## import data. \"header=2\" tells it to ignore the first two lines and use the 3rd line as the column names.\n",
    "stocks = pd.read_excel('HistoricalStockPrices.xlsx', sheet_name = 'Combined', header = 2)\n",
    "stocks.head()"
   ]
  },
  {
   "cell_type": "markdown",
   "metadata": {
    "slideshow": {
     "slide_type": "fragment"
    }
   },
   "source": [
    "Notice the type for the \"Date\" column is automatically assumed to be **datetime64** when it is read in. "
   ]
  },
  {
   "cell_type": "code",
   "execution_count": 76,
   "metadata": {
    "slideshow": {
     "slide_type": "fragment"
    }
   },
   "outputs": [
    {
     "data": {
      "text/plain": [
       "0   2020-08-11\n",
       "1   2020-08-10\n",
       "2   2020-08-07\n",
       "3   2020-08-06\n",
       "4   2020-08-05\n",
       "Name: Date, dtype: datetime64[ns]"
      ]
     },
     "execution_count": 76,
     "metadata": {},
     "output_type": "execute_result"
    }
   ],
   "source": [
    "stocks.Date.head()"
   ]
  },
  {
   "cell_type": "markdown",
   "metadata": {
    "slideshow": {
     "slide_type": "fragment"
    }
   },
   "source": [
    "In Pandas, datetimes can also be used directly as the index."
   ]
  },
  {
   "cell_type": "code",
   "execution_count": 77,
   "metadata": {
    "slideshow": {
     "slide_type": "fragment"
    }
   },
   "outputs": [
    {
     "data": {
      "text/html": [
       "<div>\n",
       "<style scoped>\n",
       "    .dataframe tbody tr th:only-of-type {\n",
       "        vertical-align: middle;\n",
       "    }\n",
       "\n",
       "    .dataframe tbody tr th {\n",
       "        vertical-align: top;\n",
       "    }\n",
       "\n",
       "    .dataframe thead th {\n",
       "        text-align: right;\n",
       "    }\n",
       "</style>\n",
       "<table border=\"1\" class=\"dataframe\">\n",
       "  <thead>\n",
       "    <tr style=\"text-align: right;\">\n",
       "      <th></th>\n",
       "      <th>Apple</th>\n",
       "      <th>Microsoft</th>\n",
       "      <th>Facebook</th>\n",
       "      <th>Amazon</th>\n",
       "      <th>Tesla</th>\n",
       "    </tr>\n",
       "    <tr>\n",
       "      <th>Date</th>\n",
       "      <th></th>\n",
       "      <th></th>\n",
       "      <th></th>\n",
       "      <th></th>\n",
       "      <th></th>\n",
       "    </tr>\n",
       "  </thead>\n",
       "  <tbody>\n",
       "    <tr>\n",
       "      <th>2020-08-11</th>\n",
       "      <td>437.50</td>\n",
       "      <td>203.38</td>\n",
       "      <td>256.13</td>\n",
       "      <td>3080.67</td>\n",
       "      <td>1374.39</td>\n",
       "    </tr>\n",
       "    <tr>\n",
       "      <th>2020-08-10</th>\n",
       "      <td>450.91</td>\n",
       "      <td>208.25</td>\n",
       "      <td>263.00</td>\n",
       "      <td>3148.16</td>\n",
       "      <td>1418.57</td>\n",
       "    </tr>\n",
       "    <tr>\n",
       "      <th>2020-08-07</th>\n",
       "      <td>444.45</td>\n",
       "      <td>212.48</td>\n",
       "      <td>268.44</td>\n",
       "      <td>3167.46</td>\n",
       "      <td>1452.71</td>\n",
       "    </tr>\n",
       "    <tr>\n",
       "      <th>2020-08-06</th>\n",
       "      <td>455.61</td>\n",
       "      <td>216.35</td>\n",
       "      <td>265.28</td>\n",
       "      <td>3225.00</td>\n",
       "      <td>1489.58</td>\n",
       "    </tr>\n",
       "    <tr>\n",
       "      <th>2020-08-05</th>\n",
       "      <td>440.25</td>\n",
       "      <td>212.94</td>\n",
       "      <td>249.12</td>\n",
       "      <td>3205.03</td>\n",
       "      <td>1485.02</td>\n",
       "    </tr>\n",
       "  </tbody>\n",
       "</table>\n",
       "</div>"
      ],
      "text/plain": [
       "             Apple  Microsoft  Facebook   Amazon    Tesla\n",
       "Date                                                     \n",
       "2020-08-11  437.50     203.38    256.13  3080.67  1374.39\n",
       "2020-08-10  450.91     208.25    263.00  3148.16  1418.57\n",
       "2020-08-07  444.45     212.48    268.44  3167.46  1452.71\n",
       "2020-08-06  455.61     216.35    265.28  3225.00  1489.58\n",
       "2020-08-05  440.25     212.94    249.12  3205.03  1485.02"
      ]
     },
     "execution_count": 77,
     "metadata": {},
     "output_type": "execute_result"
    }
   ],
   "source": [
    "stocks = pd.read_excel('HistoricalStockPrices.xlsx', sheet_name = 'Combined', header = 2, index_col = 0)\n",
    "stocks.head()"
   ]
  },
  {
   "cell_type": "markdown",
   "metadata": {
    "slideshow": {
     "slide_type": "fragment"
    }
   },
   "source": [
    "The index is now a special type of object, **DatetimeIndex**, which has a number of useful properties when manipulating time series data, as we will see next week."
   ]
  },
  {
   "cell_type": "code",
   "execution_count": 78,
   "metadata": {
    "slideshow": {
     "slide_type": "fragment"
    }
   },
   "outputs": [
    {
     "name": "stdout",
     "output_type": "stream",
     "text": [
      "DatetimeIndex(['2020-08-11', '2020-08-10', '2020-08-07', '2020-08-06',\n",
      "               '2020-08-05', '2020-08-04', '2020-08-03', '2020-07-31',\n",
      "               '2020-07-30', '2020-07-29',\n",
      "               ...\n",
      "               '2015-08-25', '2015-08-24', '2015-08-21', '2015-08-20',\n",
      "               '2015-08-19', '2015-08-18', '2015-08-17', '2015-08-14',\n",
      "               '2015-08-13', '2015-08-12'],\n",
      "              dtype='datetime64[ns]', name='Date', length=1259, freq=None)\n"
     ]
    }
   ],
   "source": [
    "print(stocks.index)"
   ]
  },
  {
   "cell_type": "markdown",
   "metadata": {
    "slideshow": {
     "slide_type": "fragment"
    }
   },
   "source": [
    "It also makes it very convenient for plotting time series, which we will cover in more detail in a couple of weeks."
   ]
  },
  {
   "cell_type": "code",
   "execution_count": 79,
   "metadata": {
    "slideshow": {
     "slide_type": "fragment"
    }
   },
   "outputs": [
    {
     "data": {
      "text/plain": [
       "<matplotlib.legend.Legend at 0x7f4ca3167518>"
      ]
     },
     "execution_count": 79,
     "metadata": {},
     "output_type": "execute_result"
    },
    {
     "data": {
      "image/png": "[encoded data removed]",
      "text/plain": [
       "<Figure size 432x288 with 1 Axes>"
      ]
     },
     "metadata": {
      "needs_background": "light"
     },
     "output_type": "display_data"
    }
   ],
   "source": [
    "import matplotlib.pyplot as plt\n",
    "plt.plot(stocks)\n",
    "plt.legend(stocks.columns)"
   ]
  },
  {
   "cell_type": "markdown",
   "metadata": {
    "slideshow": {
     "slide_type": "slide"
    }
   },
   "source": [
    "### Manipulating data \n",
    "The developers of Pandas were influenced by the NumPy package, and much of NumPy's functionality is also available for Pandas DataFrames. For example, we can perform element-wise arithmetic on whole columns at a time:"
   ]
  },
  {
   "cell_type": "code",
   "execution_count": 80,
   "metadata": {
    "slideshow": {
     "slide_type": "fragment"
    }
   },
   "outputs": [
    {
     "name": "stdout",
     "output_type": "stream",
     "text": [
      "115.96\n"
     ]
    },
    {
     "data": {
      "text/html": [
       "<div>\n",
       "<style scoped>\n",
       "    .dataframe tbody tr th:only-of-type {\n",
       "        vertical-align: middle;\n",
       "    }\n",
       "\n",
       "    .dataframe tbody tr th {\n",
       "        vertical-align: top;\n",
       "    }\n",
       "\n",
       "    .dataframe thead th {\n",
       "        text-align: right;\n",
       "    }\n",
       "</style>\n",
       "<table border=\"1\" class=\"dataframe\">\n",
       "  <thead>\n",
       "    <tr style=\"text-align: right;\">\n",
       "      <th></th>\n",
       "      <th>Apple</th>\n",
       "      <th>Microsoft</th>\n",
       "      <th>Facebook</th>\n",
       "      <th>Amazon</th>\n",
       "      <th>Tesla</th>\n",
       "    </tr>\n",
       "    <tr>\n",
       "      <th>Date</th>\n",
       "      <th></th>\n",
       "      <th></th>\n",
       "      <th></th>\n",
       "      <th></th>\n",
       "      <th></th>\n",
       "    </tr>\n",
       "  </thead>\n",
       "  <tbody>\n",
       "    <tr>\n",
       "      <th>2015-08-18</th>\n",
       "      <td>116.50</td>\n",
       "      <td>47.27</td>\n",
       "      <td>95.17</td>\n",
       "      <td>535.02</td>\n",
       "      <td>260.72</td>\n",
       "    </tr>\n",
       "    <tr>\n",
       "      <th>2015-08-17</th>\n",
       "      <td>117.16</td>\n",
       "      <td>47.32</td>\n",
       "      <td>93.93</td>\n",
       "      <td>535.22</td>\n",
       "      <td>254.99</td>\n",
       "    </tr>\n",
       "    <tr>\n",
       "      <th>2015-08-14</th>\n",
       "      <td>115.96</td>\n",
       "      <td>47.00</td>\n",
       "      <td>94.42</td>\n",
       "      <td>531.52</td>\n",
       "      <td>243.15</td>\n",
       "    </tr>\n",
       "    <tr>\n",
       "      <th>2015-08-13</th>\n",
       "      <td>115.15</td>\n",
       "      <td>46.73</td>\n",
       "      <td>93.43</td>\n",
       "      <td>529.66</td>\n",
       "      <td>242.51</td>\n",
       "    </tr>\n",
       "    <tr>\n",
       "      <th>2015-08-12</th>\n",
       "      <td>115.24</td>\n",
       "      <td>46.74</td>\n",
       "      <td>94.19</td>\n",
       "      <td>525.91</td>\n",
       "      <td>238.17</td>\n",
       "    </tr>\n",
       "  </tbody>\n",
       "</table>\n",
       "</div>"
      ],
      "text/plain": [
       "             Apple  Microsoft  Facebook  Amazon   Tesla\n",
       "Date                                                   \n",
       "2015-08-18  116.50      47.27     95.17  535.02  260.72\n",
       "2015-08-17  117.16      47.32     93.93  535.22  254.99\n",
       "2015-08-14  115.96      47.00     94.42  531.52  243.15\n",
       "2015-08-13  115.15      46.73     93.43  529.66  242.51\n",
       "2015-08-12  115.24      46.74     94.19  525.91  238.17"
      ]
     },
     "execution_count": 80,
     "metadata": {},
     "output_type": "execute_result"
    }
   ],
   "source": [
    "## calculate relative growth of each stock\n",
    "print(stocks['Apple'][-3])\n",
    "stocks.tail()"
   ]
  },
  {
   "cell_type": "code",
   "execution_count": 81,
   "metadata": {
    "slideshow": {
     "slide_type": "fragment"
    }
   },
   "outputs": [
    {
     "name": "stdout",
     "output_type": "stream",
     "text": [
      "['Apple', 'Microsoft', 'Facebook', 'Amazon', 'Tesla']\n",
      "\n",
      "['Apple_growth', 'Microsoft_growth', 'Facebook_growth', 'Amazon_growth', 'Tesla_growth']\n",
      "\n"
     ]
    },
    {
     "data": {
      "text/html": [
       "<div>\n",
       "<style scoped>\n",
       "    .dataframe tbody tr th:only-of-type {\n",
       "        vertical-align: middle;\n",
       "    }\n",
       "\n",
       "    .dataframe tbody tr th {\n",
       "        vertical-align: top;\n",
       "    }\n",
       "\n",
       "    .dataframe thead th {\n",
       "        text-align: right;\n",
       "    }\n",
       "</style>\n",
       "<table border=\"1\" class=\"dataframe\">\n",
       "  <thead>\n",
       "    <tr style=\"text-align: right;\">\n",
       "      <th></th>\n",
       "      <th>Apple</th>\n",
       "      <th>Microsoft</th>\n",
       "      <th>Facebook</th>\n",
       "      <th>Amazon</th>\n",
       "      <th>Tesla</th>\n",
       "      <th>Apple_growth</th>\n",
       "      <th>Microsoft_growth</th>\n",
       "      <th>Facebook_growth</th>\n",
       "      <th>Amazon_growth</th>\n",
       "      <th>Tesla_growth</th>\n",
       "    </tr>\n",
       "    <tr>\n",
       "      <th>Date</th>\n",
       "      <th></th>\n",
       "      <th></th>\n",
       "      <th></th>\n",
       "      <th></th>\n",
       "      <th></th>\n",
       "      <th></th>\n",
       "      <th></th>\n",
       "      <th></th>\n",
       "      <th></th>\n",
       "      <th></th>\n",
       "    </tr>\n",
       "  </thead>\n",
       "  <tbody>\n",
       "    <tr>\n",
       "      <th>2020-08-11</th>\n",
       "      <td>437.50</td>\n",
       "      <td>203.38</td>\n",
       "      <td>256.13</td>\n",
       "      <td>3080.67</td>\n",
       "      <td>1374.39</td>\n",
       "      <td>3.796425</td>\n",
       "      <td>4.351305</td>\n",
       "      <td>2.719291</td>\n",
       "      <td>5.857789</td>\n",
       "      <td>5.770626</td>\n",
       "    </tr>\n",
       "    <tr>\n",
       "      <th>2020-08-10</th>\n",
       "      <td>450.91</td>\n",
       "      <td>208.25</td>\n",
       "      <td>263.00</td>\n",
       "      <td>3148.16</td>\n",
       "      <td>1418.57</td>\n",
       "      <td>3.912791</td>\n",
       "      <td>4.455499</td>\n",
       "      <td>2.792228</td>\n",
       "      <td>5.986119</td>\n",
       "      <td>5.956124</td>\n",
       "    </tr>\n",
       "    <tr>\n",
       "      <th>2020-08-07</th>\n",
       "      <td>444.45</td>\n",
       "      <td>212.48</td>\n",
       "      <td>268.44</td>\n",
       "      <td>3167.46</td>\n",
       "      <td>1452.71</td>\n",
       "      <td>3.856734</td>\n",
       "      <td>4.545999</td>\n",
       "      <td>2.849984</td>\n",
       "      <td>6.022818</td>\n",
       "      <td>6.099467</td>\n",
       "    </tr>\n",
       "    <tr>\n",
       "      <th>2020-08-06</th>\n",
       "      <td>455.61</td>\n",
       "      <td>216.35</td>\n",
       "      <td>265.28</td>\n",
       "      <td>3225.00</td>\n",
       "      <td>1489.58</td>\n",
       "      <td>3.953575</td>\n",
       "      <td>4.628798</td>\n",
       "      <td>2.816435</td>\n",
       "      <td>6.132228</td>\n",
       "      <td>6.254272</td>\n",
       "    </tr>\n",
       "    <tr>\n",
       "      <th>2020-08-05</th>\n",
       "      <td>440.25</td>\n",
       "      <td>212.94</td>\n",
       "      <td>249.12</td>\n",
       "      <td>3205.03</td>\n",
       "      <td>1485.02</td>\n",
       "      <td>3.820288</td>\n",
       "      <td>4.555841</td>\n",
       "      <td>2.644867</td>\n",
       "      <td>6.094256</td>\n",
       "      <td>6.235126</td>\n",
       "    </tr>\n",
       "  </tbody>\n",
       "</table>\n",
       "</div>"
      ],
      "text/plain": [
       "             Apple  Microsoft  Facebook   Amazon    Tesla  Apple_growth  \\\n",
       "Date                                                                      \n",
       "2020-08-11  437.50     203.38    256.13  3080.67  1374.39      3.796425   \n",
       "2020-08-10  450.91     208.25    263.00  3148.16  1418.57      3.912791   \n",
       "2020-08-07  444.45     212.48    268.44  3167.46  1452.71      3.856734   \n",
       "2020-08-06  455.61     216.35    265.28  3225.00  1489.58      3.953575   \n",
       "2020-08-05  440.25     212.94    249.12  3205.03  1485.02      3.820288   \n",
       "\n",
       "            Microsoft_growth  Facebook_growth  Amazon_growth  Tesla_growth  \n",
       "Date                                                                        \n",
       "2020-08-11          4.351305         2.719291       5.857789      5.770626  \n",
       "2020-08-10          4.455499         2.792228       5.986119      5.956124  \n",
       "2020-08-07          4.545999         2.849984       6.022818      6.099467  \n",
       "2020-08-06          4.628798         2.816435       6.132228      6.254272  \n",
       "2020-08-05          4.555841         2.644867       6.094256      6.235126  "
      ]
     },
     "execution_count": 81,
     "metadata": {},
     "output_type": "execute_result"
    }
   ],
   "source": [
    "companies = []\n",
    "growth = []\n",
    "for c in stocks.columns:\n",
    "    companies.append(c)\n",
    "    growth.append(c + '_growth')\n",
    "    stocks[c + '_growth'] = stocks[c] / stocks[c][-1]\n",
    "\n",
    "print(companies)\n",
    "print()\n",
    "print(growth)\n",
    "print()\n",
    "stocks.head()"
   ]
  },
  {
   "cell_type": "code",
   "execution_count": 82,
   "metadata": {
    "slideshow": {
     "slide_type": "fragment"
    }
   },
   "outputs": [
    {
     "data": {
      "text/plain": [
       "Text(0, 0.5, 'Growth')"
      ]
     },
     "execution_count": 82,
     "metadata": {},
     "output_type": "execute_result"
    },
    {
     "data": {
      "image/png": "[encoded data removed]",
      "text/plain": [
       "<Figure size 432x288 with 1 Axes>"
      ]
     },
     "metadata": {
      "needs_background": "light"
     },
     "output_type": "display_data"
    }
   ],
   "source": [
    "## plot growth\n",
    "for i, c in enumerate(growth):\n",
    "    plt.plot(stocks[c], label = companies[i])\n",
    "    plt.legend()\n",
    "plt.ylabel('Growth')"
   ]
  },
  {
   "cell_type": "code",
   "execution_count": 83,
   "metadata": {
    "slideshow": {
     "slide_type": "fragment"
    }
   },
   "outputs": [
    {
     "data": {
      "text/plain": [
       "[<matplotlib.lines.Line2D at 0x7f4ca2da29e8>]"
      ]
     },
     "execution_count": 83,
     "metadata": {},
     "output_type": "execute_result"
    },
    {
     "data": {
      "image/png": "[encoded data removed]",
      "text/plain": [
       "<Figure size 432x288 with 1 Axes>"
      ]
     },
     "metadata": {
      "needs_background": "light"
     },
     "output_type": "display_data"
    }
   ],
   "source": [
    "## How would you have done if you had bought 1 share each of Facebook and Apple stock in August 2015?\n",
    "stocks['Facebook_Apple'] = stocks['Facebook'] + stocks['Apple']\n",
    "stocks['Facebook_Apple_growth'] = stocks['Facebook_Apple'] / stocks['Facebook_Apple'][-1]\n",
    "plt.plot(stocks['Facebook_Apple_growth'])"
   ]
  },
  {
   "cell_type": "markdown",
   "metadata": {
    "slideshow": {
     "slide_type": "fragment"
    }
   },
   "source": [
    "We can also use many NumPy functions directly on Pandas DataFrames. For example, we can create a new DataFrame to hold the statistics of the data."
   ]
  },
  {
   "cell_type": "code",
   "execution_count": 84,
   "metadata": {
    "slideshow": {
     "slide_type": "fragment"
    }
   },
   "outputs": [
    {
     "data": {
      "text/html": [
       "<div>\n",
       "<style scoped>\n",
       "    .dataframe tbody tr th:only-of-type {\n",
       "        vertical-align: middle;\n",
       "    }\n",
       "\n",
       "    .dataframe tbody tr th {\n",
       "        vertical-align: top;\n",
       "    }\n",
       "\n",
       "    .dataframe thead th {\n",
       "        text-align: right;\n",
       "    }\n",
       "</style>\n",
       "<table border=\"1\" class=\"dataframe\">\n",
       "  <thead>\n",
       "    <tr style=\"text-align: right;\">\n",
       "      <th></th>\n",
       "      <th>mean</th>\n",
       "      <th>std</th>\n",
       "      <th>min</th>\n",
       "      <th>max</th>\n",
       "      <th>q05</th>\n",
       "      <th>q95</th>\n",
       "    </tr>\n",
       "  </thead>\n",
       "  <tbody>\n",
       "    <tr>\n",
       "      <th>Apple</th>\n",
       "      <td>178.405620</td>\n",
       "      <td>69.985242</td>\n",
       "      <td>90.340000</td>\n",
       "      <td>455.610000</td>\n",
       "      <td>97.139000</td>\n",
       "      <td>319.268000</td>\n",
       "    </tr>\n",
       "    <tr>\n",
       "      <th>Microsoft</th>\n",
       "      <td>97.529210</td>\n",
       "      <td>42.799750</td>\n",
       "      <td>40.470000</td>\n",
       "      <td>216.540000</td>\n",
       "      <td>49.897000</td>\n",
       "      <td>183.630000</td>\n",
       "    </tr>\n",
       "    <tr>\n",
       "      <th>Facebook</th>\n",
       "      <td>158.644774</td>\n",
       "      <td>37.500433</td>\n",
       "      <td>82.090000</td>\n",
       "      <td>268.440000</td>\n",
       "      <td>99.280000</td>\n",
       "      <td>220.691000</td>\n",
       "    </tr>\n",
       "    <tr>\n",
       "      <th>Amazon</th>\n",
       "      <td>1352.001164</td>\n",
       "      <td>611.957225</td>\n",
       "      <td>463.370000</td>\n",
       "      <td>3225.000000</td>\n",
       "      <td>555.039000</td>\n",
       "      <td>2408.271000</td>\n",
       "    </tr>\n",
       "    <tr>\n",
       "      <th>Tesla</th>\n",
       "      <td>345.804722</td>\n",
       "      <td>229.829204</td>\n",
       "      <td>143.670000</td>\n",
       "      <td>1643.000000</td>\n",
       "      <td>195.435000</td>\n",
       "      <td>815.692000</td>\n",
       "    </tr>\n",
       "    <tr>\n",
       "      <th>Apple_growth</th>\n",
       "      <td>1.548122</td>\n",
       "      <td>0.607300</td>\n",
       "      <td>0.783929</td>\n",
       "      <td>3.953575</td>\n",
       "      <td>0.842928</td>\n",
       "      <td>2.770462</td>\n",
       "    </tr>\n",
       "    <tr>\n",
       "      <th>Microsoft_growth</th>\n",
       "      <td>2.086633</td>\n",
       "      <td>0.915699</td>\n",
       "      <td>0.865854</td>\n",
       "      <td>4.632863</td>\n",
       "      <td>1.067544</td>\n",
       "      <td>3.928755</td>\n",
       "    </tr>\n",
       "    <tr>\n",
       "      <th>Facebook_growth</th>\n",
       "      <td>1.684306</td>\n",
       "      <td>0.398136</td>\n",
       "      <td>0.871536</td>\n",
       "      <td>2.849984</td>\n",
       "      <td>1.054040</td>\n",
       "      <td>2.343041</td>\n",
       "    </tr>\n",
       "    <tr>\n",
       "      <th>Amazon_growth</th>\n",
       "      <td>2.570784</td>\n",
       "      <td>1.163616</td>\n",
       "      <td>0.881082</td>\n",
       "      <td>6.132228</td>\n",
       "      <td>1.055388</td>\n",
       "      <td>4.579245</td>\n",
       "    </tr>\n",
       "    <tr>\n",
       "      <th>Tesla_growth</th>\n",
       "      <td>1.451924</td>\n",
       "      <td>0.964980</td>\n",
       "      <td>0.603225</td>\n",
       "      <td>6.898434</td>\n",
       "      <td>0.820569</td>\n",
       "      <td>3.424831</td>\n",
       "    </tr>\n",
       "    <tr>\n",
       "      <th>Facebook_Apple</th>\n",
       "      <td>337.050393</td>\n",
       "      <td>104.314165</td>\n",
       "      <td>185.210000</td>\n",
       "      <td>720.890000</td>\n",
       "      <td>206.225000</td>\n",
       "      <td>538.993000</td>\n",
       "    </tr>\n",
       "    <tr>\n",
       "      <th>Facebook_Apple_growth</th>\n",
       "      <td>1.609370</td>\n",
       "      <td>0.498086</td>\n",
       "      <td>0.884353</td>\n",
       "      <td>3.442153</td>\n",
       "      <td>0.984697</td>\n",
       "      <td>2.573619</td>\n",
       "    </tr>\n",
       "  </tbody>\n",
       "</table>\n",
       "</div>"
      ],
      "text/plain": [
       "                              mean         std         min          max  \\\n",
       "Apple                   178.405620   69.985242   90.340000   455.610000   \n",
       "Microsoft                97.529210   42.799750   40.470000   216.540000   \n",
       "Facebook                158.644774   37.500433   82.090000   268.440000   \n",
       "Amazon                 1352.001164  611.957225  463.370000  3225.000000   \n",
       "Tesla                   345.804722  229.829204  143.670000  1643.000000   \n",
       "Apple_growth              1.548122    0.607300    0.783929     3.953575   \n",
       "Microsoft_growth          2.086633    0.915699    0.865854     4.632863   \n",
       "Facebook_growth           1.684306    0.398136    0.871536     2.849984   \n",
       "Amazon_growth             2.570784    1.163616    0.881082     6.132228   \n",
       "Tesla_growth              1.451924    0.964980    0.603225     6.898434   \n",
       "Facebook_Apple          337.050393  104.314165  185.210000   720.890000   \n",
       "Facebook_Apple_growth     1.609370    0.498086    0.884353     3.442153   \n",
       "\n",
       "                              q05          q95  \n",
       "Apple                   97.139000   319.268000  \n",
       "Microsoft               49.897000   183.630000  \n",
       "Facebook                99.280000   220.691000  \n",
       "Amazon                 555.039000  2408.271000  \n",
       "Tesla                  195.435000   815.692000  \n",
       "Apple_growth             0.842928     2.770462  \n",
       "Microsoft_growth         1.067544     3.928755  \n",
       "Facebook_growth          1.054040     2.343041  \n",
       "Amazon_growth            1.055388     4.579245  \n",
       "Tesla_growth             0.820569     3.424831  \n",
       "Facebook_Apple         206.225000   538.993000  \n",
       "Facebook_Apple_growth    0.984697     2.573619  "
      ]
     },
     "execution_count": 84,
     "metadata": {},
     "output_type": "execute_result"
    }
   ],
   "source": [
    "stocks_stats = pd.DataFrame({'mean': stocks.mean(),\n",
    "                             'std': stocks.std(),\n",
    "                             'min': stocks.min(),\n",
    "                             'max': stocks.max(),\n",
    "                             'q05': stocks.quantile(0.05),\n",
    "                             'q95': stocks.quantile(0.95)})\n",
    "stocks_stats"
   ]
  },
  {
   "cell_type": "markdown",
   "metadata": {
    "slideshow": {
     "slide_type": "fragment"
    }
   },
   "source": [
    "Notice that the index is now a string: the columns of the original dataframe."
   ]
  },
  {
   "cell_type": "markdown",
   "metadata": {
    "slideshow": {
     "slide_type": "slide"
    }
   },
   "source": [
    "### Indexing in Pandas\n",
    "Indexing in Pandas is a bit trickier than other data structures like NumPy arrays or lists. There are three main ways to retrieve data. \n",
    "\n",
    "First, as seen above, we can select a particular column at a time. This converts the object from a Pandas DataFrame to a **Pandas Series**, which is similar except one dimensional."
   ]
  },
  {
   "cell_type": "code",
   "execution_count": 85,
   "metadata": {
    "slideshow": {
     "slide_type": "fragment"
    }
   },
   "outputs": [
    {
     "data": {
      "text/plain": [
       "Apple                     178.405620\n",
       "Microsoft                  97.529210\n",
       "Facebook                  158.644774\n",
       "Amazon                   1352.001164\n",
       "Tesla                     345.804722\n",
       "Apple_growth                1.548122\n",
       "Microsoft_growth            2.086633\n",
       "Facebook_growth             1.684306\n",
       "Amazon_growth               2.570784\n",
       "Tesla_growth                1.451924\n",
       "Facebook_Apple            337.050393\n",
       "Facebook_Apple_growth       1.609370\n",
       "Name: mean, dtype: float64"
      ]
     },
     "execution_count": 85,
     "metadata": {},
     "output_type": "execute_result"
    }
   ],
   "source": [
    "s = stocks_stats['mean']\n",
    "s"
   ]
  },
  {
   "cell_type": "markdown",
   "metadata": {
    "slideshow": {
     "slide_type": "fragment"
    }
   },
   "source": [
    "Once you have a series, you can index it similar to a NumPy array or list, using the integer position of the row of interest rather than the label index."
   ]
  },
  {
   "cell_type": "code",
   "execution_count": 86,
   "metadata": {
    "slideshow": {
     "slide_type": "fragment"
    }
   },
   "outputs": [
    {
     "data": {
      "text/plain": [
       "Apple         178.405620\n",
       "Microsoft      97.529210\n",
       "Facebook      158.644774\n",
       "Amazon       1352.001164\n",
       "Tesla         345.804722\n",
       "Name: mean, dtype: float64"
      ]
     },
     "execution_count": 86,
     "metadata": {},
     "output_type": "execute_result"
    }
   ],
   "source": [
    "s[:5]"
   ]
  },
  {
   "cell_type": "markdown",
   "metadata": {
    "slideshow": {
     "slide_type": "fragment"
    }
   },
   "source": [
    "To convert into an unnamed NumPy array, use the ``values`` attribute."
   ]
  },
  {
   "cell_type": "code",
   "execution_count": 87,
   "metadata": {
    "slideshow": {
     "slide_type": "fragment"
    }
   },
   "outputs": [
    {
     "data": {
      "text/plain": [
       "array([ 178.40561954,   97.52920969,  158.64477363, 1352.00116362,\n",
       "        345.804722  ,    1.54812235,    2.08663264,    1.68430591,\n",
       "          2.57078429,    1.45192393,  337.05039317,    1.60937016])"
      ]
     },
     "execution_count": 87,
     "metadata": {},
     "output_type": "execute_result"
    }
   ],
   "source": [
    "a = s.values\n",
    "a"
   ]
  },
  {
   "cell_type": "markdown",
   "metadata": {
    "slideshow": {
     "slide_type": "slide"
    }
   },
   "source": [
    "The second way to access (and alter) data in Pandas is ``iloc``, which can be used to retrive information based on the **integer position** within the array, much like you would with a NumPy array. For example, to get the standard deviation of Amazon stock, I would use:"
   ]
  },
  {
   "cell_type": "code",
   "execution_count": 88,
   "metadata": {
    "slideshow": {
     "slide_type": "fragment"
    }
   },
   "outputs": [
    {
     "name": "stdout",
     "output_type": "stream",
     "text": [
      "                              mean         std         min          max  \\\n",
      "Apple                   178.405620   69.985242   90.340000   455.610000   \n",
      "Microsoft                97.529210   42.799750   40.470000   216.540000   \n",
      "Facebook                158.644774   37.500433   82.090000   268.440000   \n",
      "Amazon                 1352.001164  611.957225  463.370000  3225.000000   \n",
      "Tesla                   345.804722  229.829204  143.670000  1643.000000   \n",
      "Apple_growth              1.548122    0.607300    0.783929     3.953575   \n",
      "Microsoft_growth          2.086633    0.915699    0.865854     4.632863   \n",
      "Facebook_growth           1.684306    0.398136    0.871536     2.849984   \n",
      "Amazon_growth             2.570784    1.163616    0.881082     6.132228   \n",
      "Tesla_growth              1.451924    0.964980    0.603225     6.898434   \n",
      "Facebook_Apple          337.050393  104.314165  185.210000   720.890000   \n",
      "Facebook_Apple_growth     1.609370    0.498086    0.884353     3.442153   \n",
      "\n",
      "                              q05          q95  \n",
      "Apple                   97.139000   319.268000  \n",
      "Microsoft               49.897000   183.630000  \n",
      "Facebook                99.280000   220.691000  \n",
      "Amazon                 555.039000  2408.271000  \n",
      "Tesla                  195.435000   815.692000  \n",
      "Apple_growth             0.842928     2.770462  \n",
      "Microsoft_growth         1.067544     3.928755  \n",
      "Facebook_growth          1.054040     2.343041  \n",
      "Amazon_growth            1.055388     4.579245  \n",
      "Tesla_growth             0.820569     3.424831  \n",
      "Facebook_Apple         206.225000   538.993000  \n",
      "Facebook_Apple_growth    0.984697     2.573619  \n",
      "\n",
      "611.9572253632282\n"
     ]
    }
   ],
   "source": [
    "print(stocks_stats)\n",
    "print()\n",
    "print(stocks_stats.iloc[3, 1])"
   ]
  },
  {
   "cell_type": "markdown",
   "metadata": {
    "slideshow": {
     "slide_type": "fragment"
    }
   },
   "source": [
    "We can also retrieve **slices** of data using ``iloc``, similar to NumPy."
   ]
  },
  {
   "cell_type": "code",
   "execution_count": 89,
   "metadata": {
    "slideshow": {
     "slide_type": "fragment"
    }
   },
   "outputs": [
    {
     "data": {
      "text/plain": [
       "mean    1352.001164\n",
       "std      611.957225\n",
       "min      463.370000\n",
       "max     3225.000000\n",
       "q05      555.039000\n",
       "q95     2408.271000\n",
       "Name: Amazon, dtype: float64"
      ]
     },
     "execution_count": 89,
     "metadata": {},
     "output_type": "execute_result"
    }
   ],
   "source": [
    "stocks_stats.iloc[3, :] "
   ]
  },
  {
   "cell_type": "code",
   "execution_count": 90,
   "metadata": {
    "slideshow": {
     "slide_type": "fragment"
    }
   },
   "outputs": [
    {
     "data": {
      "text/plain": [
       "Apple                     319.268000\n",
       "Microsoft                 183.630000\n",
       "Facebook                  220.691000\n",
       "Amazon                   2408.271000\n",
       "Tesla                     815.692000\n",
       "Apple_growth                2.770462\n",
       "Microsoft_growth            3.928755\n",
       "Facebook_growth             2.343041\n",
       "Amazon_growth               4.579245\n",
       "Tesla_growth                3.424831\n",
       "Facebook_Apple            538.993000\n",
       "Facebook_Apple_growth       2.573619\n",
       "Name: q95, dtype: float64"
      ]
     },
     "execution_count": 90,
     "metadata": {},
     "output_type": "execute_result"
    }
   ],
   "source": [
    "stocks_stats.iloc[:,-1] "
   ]
  },
  {
   "cell_type": "code",
   "execution_count": 91,
   "metadata": {
    "slideshow": {
     "slide_type": "fragment"
    }
   },
   "outputs": [
    {
     "data": {
      "text/html": [
       "<div>\n",
       "<style scoped>\n",
       "    .dataframe tbody tr th:only-of-type {\n",
       "        vertical-align: middle;\n",
       "    }\n",
       "\n",
       "    .dataframe tbody tr th {\n",
       "        vertical-align: top;\n",
       "    }\n",
       "\n",
       "    .dataframe thead th {\n",
       "        text-align: right;\n",
       "    }\n",
       "</style>\n",
       "<table border=\"1\" class=\"dataframe\">\n",
       "  <thead>\n",
       "    <tr style=\"text-align: right;\">\n",
       "      <th></th>\n",
       "      <th>min</th>\n",
       "      <th>max</th>\n",
       "    </tr>\n",
       "  </thead>\n",
       "  <tbody>\n",
       "    <tr>\n",
       "      <th>Microsoft</th>\n",
       "      <td>40.47</td>\n",
       "      <td>216.54</td>\n",
       "    </tr>\n",
       "    <tr>\n",
       "      <th>Facebook</th>\n",
       "      <td>82.09</td>\n",
       "      <td>268.44</td>\n",
       "    </tr>\n",
       "    <tr>\n",
       "      <th>Amazon</th>\n",
       "      <td>463.37</td>\n",
       "      <td>3225.00</td>\n",
       "    </tr>\n",
       "    <tr>\n",
       "      <th>Tesla</th>\n",
       "      <td>143.67</td>\n",
       "      <td>1643.00</td>\n",
       "    </tr>\n",
       "  </tbody>\n",
       "</table>\n",
       "</div>"
      ],
      "text/plain": [
       "              min      max\n",
       "Microsoft   40.47   216.54\n",
       "Facebook    82.09   268.44\n",
       "Amazon     463.37  3225.00\n",
       "Tesla      143.67  1643.00"
      ]
     },
     "execution_count": 91,
     "metadata": {},
     "output_type": "execute_result"
    }
   ],
   "source": [
    "stocks_stats.iloc[1:5,2:4]"
   ]
  },
  {
   "cell_type": "markdown",
   "metadata": {
    "slideshow": {
     "slide_type": "fragment"
    }
   },
   "source": [
    "Notice that the first two 1D slices create a Series, while the third slice creates another 2D DataFrame."
   ]
  },
  {
   "cell_type": "markdown",
   "metadata": {
    "slideshow": {
     "slide_type": "slide"
    }
   },
   "source": [
    "Lastly, we can use the ``loc`` method to access data based on **label indexes**. For example, I can again get the standard deviation of Amazon stock using:"
   ]
  },
  {
   "cell_type": "code",
   "execution_count": 92,
   "metadata": {
    "slideshow": {
     "slide_type": "fragment"
    }
   },
   "outputs": [
    {
     "data": {
      "text/plain": [
       "611.9572253632282"
      ]
     },
     "execution_count": 92,
     "metadata": {},
     "output_type": "execute_result"
    }
   ],
   "source": [
    "stocks_stats.loc['Amazon', 'std']"
   ]
  },
  {
   "cell_type": "markdown",
   "metadata": {
    "slideshow": {
     "slide_type": "fragment"
    }
   },
   "source": [
    "I can also get non-contiguous slices using lists of labels:"
   ]
  },
  {
   "cell_type": "code",
   "execution_count": 93,
   "metadata": {
    "slideshow": {
     "slide_type": "fragment"
    }
   },
   "outputs": [
    {
     "data": {
      "text/html": [
       "<div>\n",
       "<style scoped>\n",
       "    .dataframe tbody tr th:only-of-type {\n",
       "        vertical-align: middle;\n",
       "    }\n",
       "\n",
       "    .dataframe tbody tr th {\n",
       "        vertical-align: top;\n",
       "    }\n",
       "\n",
       "    .dataframe thead th {\n",
       "        text-align: right;\n",
       "    }\n",
       "</style>\n",
       "<table border=\"1\" class=\"dataframe\">\n",
       "  <thead>\n",
       "    <tr style=\"text-align: right;\">\n",
       "      <th></th>\n",
       "      <th>mean</th>\n",
       "      <th>min</th>\n",
       "      <th>max</th>\n",
       "    </tr>\n",
       "  </thead>\n",
       "  <tbody>\n",
       "    <tr>\n",
       "      <th>Apple</th>\n",
       "      <td>178.405620</td>\n",
       "      <td>90.34</td>\n",
       "      <td>455.61</td>\n",
       "    </tr>\n",
       "    <tr>\n",
       "      <th>Facebook</th>\n",
       "      <td>158.644774</td>\n",
       "      <td>82.09</td>\n",
       "      <td>268.44</td>\n",
       "    </tr>\n",
       "    <tr>\n",
       "      <th>Facebook_Apple</th>\n",
       "      <td>337.050393</td>\n",
       "      <td>185.21</td>\n",
       "      <td>720.89</td>\n",
       "    </tr>\n",
       "  </tbody>\n",
       "</table>\n",
       "</div>"
      ],
      "text/plain": [
       "                      mean     min     max\n",
       "Apple           178.405620   90.34  455.61\n",
       "Facebook        158.644774   82.09  268.44\n",
       "Facebook_Apple  337.050393  185.21  720.89"
      ]
     },
     "execution_count": 93,
     "metadata": {},
     "output_type": "execute_result"
    }
   ],
   "source": [
    "stocks_stats.loc[['Apple', 'Facebook', 'Facebook_Apple'], ['mean', 'min', 'max']]"
   ]
  },
  {
   "cell_type": "markdown",
   "metadata": {
    "slideshow": {
     "slide_type": "slide"
    }
   },
   "source": [
    "Be careful using ``loc/iloc`` with integer index labels, as this can get confusing! For example, consider again the county dataset, which has rows labeled 0-999."
   ]
  },
  {
   "cell_type": "code",
   "execution_count": 94,
   "metadata": {
    "slideshow": {
     "slide_type": "fragment"
    }
   },
   "outputs": [
    {
     "data": {
      "text/html": [
       "<div>\n",
       "<style scoped>\n",
       "    .dataframe tbody tr th:only-of-type {\n",
       "        vertical-align: middle;\n",
       "    }\n",
       "\n",
       "    .dataframe tbody tr th {\n",
       "        vertical-align: top;\n",
       "    }\n",
       "\n",
       "    .dataframe thead th {\n",
       "        text-align: right;\n",
       "    }\n",
       "</style>\n",
       "<table border=\"1\" class=\"dataframe\">\n",
       "  <thead>\n",
       "    <tr style=\"text-align: right;\">\n",
       "      <th></th>\n",
       "      <th>water</th>\n",
       "      <th>income</th>\n",
       "      <th>residents</th>\n",
       "    </tr>\n",
       "  </thead>\n",
       "  <tbody>\n",
       "    <tr>\n",
       "      <th>0</th>\n",
       "      <td>municipal</td>\n",
       "      <td>62907.46</td>\n",
       "      <td>2</td>\n",
       "    </tr>\n",
       "    <tr>\n",
       "      <th>1</th>\n",
       "      <td>municipal</td>\n",
       "      <td>24664.12</td>\n",
       "      <td>6</td>\n",
       "    </tr>\n",
       "    <tr>\n",
       "      <th>2</th>\n",
       "      <td>private</td>\n",
       "      <td>41995.28</td>\n",
       "      <td>4</td>\n",
       "    </tr>\n",
       "    <tr>\n",
       "      <th>3</th>\n",
       "      <td>municipal</td>\n",
       "      <td>40346.52</td>\n",
       "      <td>2</td>\n",
       "    </tr>\n",
       "    <tr>\n",
       "      <th>4</th>\n",
       "      <td>municipal</td>\n",
       "      <td>27764.05</td>\n",
       "      <td>2</td>\n",
       "    </tr>\n",
       "    <tr>\n",
       "      <th>...</th>\n",
       "      <td>...</td>\n",
       "      <td>...</td>\n",
       "      <td>...</td>\n",
       "    </tr>\n",
       "    <tr>\n",
       "      <th>995</th>\n",
       "      <td>municipal</td>\n",
       "      <td>45604.64</td>\n",
       "      <td>5</td>\n",
       "    </tr>\n",
       "    <tr>\n",
       "      <th>996</th>\n",
       "      <td>private</td>\n",
       "      <td>40729.71</td>\n",
       "      <td>2</td>\n",
       "    </tr>\n",
       "    <tr>\n",
       "      <th>997</th>\n",
       "      <td>municipal</td>\n",
       "      <td>43786.87</td>\n",
       "      <td>3</td>\n",
       "    </tr>\n",
       "    <tr>\n",
       "      <th>998</th>\n",
       "      <td>private</td>\n",
       "      <td>38535.18</td>\n",
       "      <td>1</td>\n",
       "    </tr>\n",
       "    <tr>\n",
       "      <th>999</th>\n",
       "      <td>municipal</td>\n",
       "      <td>44110.41</td>\n",
       "      <td>2</td>\n",
       "    </tr>\n",
       "  </tbody>\n",
       "</table>\n",
       "<p>1000 rows × 3 columns</p>\n",
       "</div>"
      ],
      "text/plain": [
       "         water    income  residents\n",
       "0    municipal  62907.46          2\n",
       "1    municipal  24664.12          6\n",
       "2      private  41995.28          4\n",
       "3    municipal  40346.52          2\n",
       "4    municipal  27764.05          2\n",
       "..         ...       ...        ...\n",
       "995  municipal  45604.64          5\n",
       "996    private  40729.71          2\n",
       "997  municipal  43786.87          3\n",
       "998    private  38535.18          1\n",
       "999  municipal  44110.41          2\n",
       "\n",
       "[1000 rows x 3 columns]"
      ]
     },
     "execution_count": 94,
     "metadata": {},
     "output_type": "execute_result"
    }
   ],
   "source": [
    "county"
   ]
  },
  {
   "cell_type": "markdown",
   "metadata": {
    "slideshow": {
     "slide_type": "fragment"
    }
   },
   "source": [
    "Let's say the supervisor decides to split the work between two employees, Juan and Emily. Because Juan is a new employee who is still learning, he will take only the first 300 households, and Emily will take the last 700."
   ]
  },
  {
   "cell_type": "code",
   "execution_count": 95,
   "metadata": {
    "slideshow": {
     "slide_type": "fragment"
    }
   },
   "outputs": [
    {
     "data": {
      "text/html": [
       "<div>\n",
       "<style scoped>\n",
       "    .dataframe tbody tr th:only-of-type {\n",
       "        vertical-align: middle;\n",
       "    }\n",
       "\n",
       "    .dataframe tbody tr th {\n",
       "        vertical-align: top;\n",
       "    }\n",
       "\n",
       "    .dataframe thead th {\n",
       "        text-align: right;\n",
       "    }\n",
       "</style>\n",
       "<table border=\"1\" class=\"dataframe\">\n",
       "  <thead>\n",
       "    <tr style=\"text-align: right;\">\n",
       "      <th></th>\n",
       "      <th>water</th>\n",
       "      <th>income</th>\n",
       "      <th>residents</th>\n",
       "    </tr>\n",
       "  </thead>\n",
       "  <tbody>\n",
       "    <tr>\n",
       "      <th>300</th>\n",
       "      <td>private</td>\n",
       "      <td>35872.03</td>\n",
       "      <td>5</td>\n",
       "    </tr>\n",
       "    <tr>\n",
       "      <th>301</th>\n",
       "      <td>private</td>\n",
       "      <td>19822.86</td>\n",
       "      <td>2</td>\n",
       "    </tr>\n",
       "    <tr>\n",
       "      <th>302</th>\n",
       "      <td>private</td>\n",
       "      <td>18914.82</td>\n",
       "      <td>2</td>\n",
       "    </tr>\n",
       "    <tr>\n",
       "      <th>303</th>\n",
       "      <td>municipal</td>\n",
       "      <td>52745.38</td>\n",
       "      <td>2</td>\n",
       "    </tr>\n",
       "    <tr>\n",
       "      <th>304</th>\n",
       "      <td>municipal</td>\n",
       "      <td>53665.05</td>\n",
       "      <td>2</td>\n",
       "    </tr>\n",
       "    <tr>\n",
       "      <th>...</th>\n",
       "      <td>...</td>\n",
       "      <td>...</td>\n",
       "      <td>...</td>\n",
       "    </tr>\n",
       "    <tr>\n",
       "      <th>995</th>\n",
       "      <td>municipal</td>\n",
       "      <td>45604.64</td>\n",
       "      <td>5</td>\n",
       "    </tr>\n",
       "    <tr>\n",
       "      <th>996</th>\n",
       "      <td>private</td>\n",
       "      <td>40729.71</td>\n",
       "      <td>2</td>\n",
       "    </tr>\n",
       "    <tr>\n",
       "      <th>997</th>\n",
       "      <td>municipal</td>\n",
       "      <td>43786.87</td>\n",
       "      <td>3</td>\n",
       "    </tr>\n",
       "    <tr>\n",
       "      <th>998</th>\n",
       "      <td>private</td>\n",
       "      <td>38535.18</td>\n",
       "      <td>1</td>\n",
       "    </tr>\n",
       "    <tr>\n",
       "      <th>999</th>\n",
       "      <td>municipal</td>\n",
       "      <td>44110.41</td>\n",
       "      <td>2</td>\n",
       "    </tr>\n",
       "  </tbody>\n",
       "</table>\n",
       "<p>700 rows × 3 columns</p>\n",
       "</div>"
      ],
      "text/plain": [
       "         water    income  residents\n",
       "300    private  35872.03          5\n",
       "301    private  19822.86          2\n",
       "302    private  18914.82          2\n",
       "303  municipal  52745.38          2\n",
       "304  municipal  53665.05          2\n",
       "..         ...       ...        ...\n",
       "995  municipal  45604.64          5\n",
       "996    private  40729.71          2\n",
       "997  municipal  43786.87          3\n",
       "998    private  38535.18          1\n",
       "999  municipal  44110.41          2\n",
       "\n",
       "[700 rows x 3 columns]"
      ]
     },
     "execution_count": 95,
     "metadata": {},
     "output_type": "execute_result"
    }
   ],
   "source": [
    "county_juan = county.iloc[:300]\n",
    "county_emily = county.iloc[300:]\n",
    "county_emily"
   ]
  },
  {
   "cell_type": "markdown",
   "metadata": {
    "slideshow": {
     "slide_type": "fragment"
    }
   },
   "source": [
    "Now Emily's DataFrame has 700 rows. The integer positions of the rows go from 0-699, while the labeled indexes go from 300-999. Thus, she will get different entries for row 500 depending on whether she means the position or the label."
   ]
  },
  {
   "cell_type": "code",
   "execution_count": 96,
   "metadata": {
    "slideshow": {
     "slide_type": "fragment"
    }
   },
   "outputs": [
    {
     "name": "stdout",
     "output_type": "stream",
     "text": [
      "water        municipal\n",
      "income         41275.9\n",
      "residents            4\n",
      "Name: 800, dtype: object\n",
      "\n",
      "water        private\n",
      "income       39832.2\n",
      "residents          6\n",
      "Name: 500, dtype: object\n"
     ]
    }
   ],
   "source": [
    "print( county_emily.iloc[500, :] )\n",
    "print()\n",
    "print( county_emily.loc[500, :] )"
   ]
  },
  {
   "cell_type": "markdown",
   "metadata": {
    "slideshow": {
     "slide_type": "fragment"
    }
   },
   "source": [
    "This is a **very easy way to introduce bugs** in your code if you are not careful, so always be aware of whether you are using ``iloc`` or ``loc``. \n",
    "\n",
    "Sometimes it is helpful to reset the labeled index so that it matches the integer position."
   ]
  },
  {
   "cell_type": "code",
   "execution_count": 97,
   "metadata": {
    "slideshow": {
     "slide_type": "fragment"
    }
   },
   "outputs": [
    {
     "data": {
      "text/html": [
       "<div>\n",
       "<style scoped>\n",
       "    .dataframe tbody tr th:only-of-type {\n",
       "        vertical-align: middle;\n",
       "    }\n",
       "\n",
       "    .dataframe tbody tr th {\n",
       "        vertical-align: top;\n",
       "    }\n",
       "\n",
       "    .dataframe thead th {\n",
       "        text-align: right;\n",
       "    }\n",
       "</style>\n",
       "<table border=\"1\" class=\"dataframe\">\n",
       "  <thead>\n",
       "    <tr style=\"text-align: right;\">\n",
       "      <th></th>\n",
       "      <th>water</th>\n",
       "      <th>income</th>\n",
       "      <th>residents</th>\n",
       "    </tr>\n",
       "  </thead>\n",
       "  <tbody>\n",
       "    <tr>\n",
       "      <th>0</th>\n",
       "      <td>private</td>\n",
       "      <td>35872.03</td>\n",
       "      <td>5</td>\n",
       "    </tr>\n",
       "    <tr>\n",
       "      <th>1</th>\n",
       "      <td>private</td>\n",
       "      <td>19822.86</td>\n",
       "      <td>2</td>\n",
       "    </tr>\n",
       "    <tr>\n",
       "      <th>2</th>\n",
       "      <td>private</td>\n",
       "      <td>18914.82</td>\n",
       "      <td>2</td>\n",
       "    </tr>\n",
       "    <tr>\n",
       "      <th>3</th>\n",
       "      <td>municipal</td>\n",
       "      <td>52745.38</td>\n",
       "      <td>2</td>\n",
       "    </tr>\n",
       "    <tr>\n",
       "      <th>4</th>\n",
       "      <td>municipal</td>\n",
       "      <td>53665.05</td>\n",
       "      <td>2</td>\n",
       "    </tr>\n",
       "    <tr>\n",
       "      <th>...</th>\n",
       "      <td>...</td>\n",
       "      <td>...</td>\n",
       "      <td>...</td>\n",
       "    </tr>\n",
       "    <tr>\n",
       "      <th>695</th>\n",
       "      <td>municipal</td>\n",
       "      <td>45604.64</td>\n",
       "      <td>5</td>\n",
       "    </tr>\n",
       "    <tr>\n",
       "      <th>696</th>\n",
       "      <td>private</td>\n",
       "      <td>40729.71</td>\n",
       "      <td>2</td>\n",
       "    </tr>\n",
       "    <tr>\n",
       "      <th>697</th>\n",
       "      <td>municipal</td>\n",
       "      <td>43786.87</td>\n",
       "      <td>3</td>\n",
       "    </tr>\n",
       "    <tr>\n",
       "      <th>698</th>\n",
       "      <td>private</td>\n",
       "      <td>38535.18</td>\n",
       "      <td>1</td>\n",
       "    </tr>\n",
       "    <tr>\n",
       "      <th>699</th>\n",
       "      <td>municipal</td>\n",
       "      <td>44110.41</td>\n",
       "      <td>2</td>\n",
       "    </tr>\n",
       "  </tbody>\n",
       "</table>\n",
       "<p>700 rows × 3 columns</p>\n",
       "</div>"
      ],
      "text/plain": [
       "         water    income  residents\n",
       "0      private  35872.03          5\n",
       "1      private  19822.86          2\n",
       "2      private  18914.82          2\n",
       "3    municipal  52745.38          2\n",
       "4    municipal  53665.05          2\n",
       "..         ...       ...        ...\n",
       "695  municipal  45604.64          5\n",
       "696    private  40729.71          2\n",
       "697  municipal  43786.87          3\n",
       "698    private  38535.18          1\n",
       "699  municipal  44110.41          2\n",
       "\n",
       "[700 rows x 3 columns]"
      ]
     },
     "execution_count": 97,
     "metadata": {},
     "output_type": "execute_result"
    }
   ],
   "source": [
    "county_emily_reset = county_emily.reset_index(drop = True, inplace = False)\n",
    "county_emily_reset"
   ]
  },
  {
   "cell_type": "code",
   "execution_count": 98,
   "metadata": {
    "slideshow": {
     "slide_type": "fragment"
    }
   },
   "outputs": [
    {
     "data": {
      "text/html": [
       "<div>\n",
       "<style scoped>\n",
       "    .dataframe tbody tr th:only-of-type {\n",
       "        vertical-align: middle;\n",
       "    }\n",
       "\n",
       "    .dataframe tbody tr th {\n",
       "        vertical-align: top;\n",
       "    }\n",
       "\n",
       "    .dataframe thead th {\n",
       "        text-align: right;\n",
       "    }\n",
       "</style>\n",
       "<table border=\"1\" class=\"dataframe\">\n",
       "  <thead>\n",
       "    <tr style=\"text-align: right;\">\n",
       "      <th></th>\n",
       "      <th>index</th>\n",
       "      <th>water</th>\n",
       "      <th>income</th>\n",
       "      <th>residents</th>\n",
       "    </tr>\n",
       "  </thead>\n",
       "  <tbody>\n",
       "    <tr>\n",
       "      <th>0</th>\n",
       "      <td>300</td>\n",
       "      <td>private</td>\n",
       "      <td>35872.03</td>\n",
       "      <td>5</td>\n",
       "    </tr>\n",
       "    <tr>\n",
       "      <th>1</th>\n",
       "      <td>301</td>\n",
       "      <td>private</td>\n",
       "      <td>19822.86</td>\n",
       "      <td>2</td>\n",
       "    </tr>\n",
       "    <tr>\n",
       "      <th>2</th>\n",
       "      <td>302</td>\n",
       "      <td>private</td>\n",
       "      <td>18914.82</td>\n",
       "      <td>2</td>\n",
       "    </tr>\n",
       "    <tr>\n",
       "      <th>3</th>\n",
       "      <td>303</td>\n",
       "      <td>municipal</td>\n",
       "      <td>52745.38</td>\n",
       "      <td>2</td>\n",
       "    </tr>\n",
       "    <tr>\n",
       "      <th>4</th>\n",
       "      <td>304</td>\n",
       "      <td>municipal</td>\n",
       "      <td>53665.05</td>\n",
       "      <td>2</td>\n",
       "    </tr>\n",
       "    <tr>\n",
       "      <th>...</th>\n",
       "      <td>...</td>\n",
       "      <td>...</td>\n",
       "      <td>...</td>\n",
       "      <td>...</td>\n",
       "    </tr>\n",
       "    <tr>\n",
       "      <th>695</th>\n",
       "      <td>995</td>\n",
       "      <td>municipal</td>\n",
       "      <td>45604.64</td>\n",
       "      <td>5</td>\n",
       "    </tr>\n",
       "    <tr>\n",
       "      <th>696</th>\n",
       "      <td>996</td>\n",
       "      <td>private</td>\n",
       "      <td>40729.71</td>\n",
       "      <td>2</td>\n",
       "    </tr>\n",
       "    <tr>\n",
       "      <th>697</th>\n",
       "      <td>997</td>\n",
       "      <td>municipal</td>\n",
       "      <td>43786.87</td>\n",
       "      <td>3</td>\n",
       "    </tr>\n",
       "    <tr>\n",
       "      <th>698</th>\n",
       "      <td>998</td>\n",
       "      <td>private</td>\n",
       "      <td>38535.18</td>\n",
       "      <td>1</td>\n",
       "    </tr>\n",
       "    <tr>\n",
       "      <th>699</th>\n",
       "      <td>999</td>\n",
       "      <td>municipal</td>\n",
       "      <td>44110.41</td>\n",
       "      <td>2</td>\n",
       "    </tr>\n",
       "  </tbody>\n",
       "</table>\n",
       "<p>700 rows × 4 columns</p>\n",
       "</div>"
      ],
      "text/plain": [
       "     index      water    income  residents\n",
       "0      300    private  35872.03          5\n",
       "1      301    private  19822.86          2\n",
       "2      302    private  18914.82          2\n",
       "3      303  municipal  52745.38          2\n",
       "4      304  municipal  53665.05          2\n",
       "..     ...        ...       ...        ...\n",
       "695    995  municipal  45604.64          5\n",
       "696    996    private  40729.71          2\n",
       "697    997  municipal  43786.87          3\n",
       "698    998    private  38535.18          1\n",
       "699    999  municipal  44110.41          2\n",
       "\n",
       "[700 rows x 4 columns]"
      ]
     },
     "execution_count": 98,
     "metadata": {},
     "output_type": "execute_result"
    }
   ],
   "source": [
    "county_emily.reset_index(drop = False, inplace = True)\n",
    "county_emily"
   ]
  },
  {
   "cell_type": "markdown",
   "metadata": {
    "slideshow": {
     "slide_type": "slide"
    }
   },
   "source": [
    "### Logical indexing in Pandas\n",
    "Similar to NumPy, we can use **logical indexing** to access and manipulate portions of our data that meet certain conditions. To do so, we use ``loc`` again. For example, I can grab the subset of households with private water access:"
   ]
  },
  {
   "cell_type": "code",
   "execution_count": 99,
   "metadata": {
    "slideshow": {
     "slide_type": "fragment"
    }
   },
   "outputs": [
    {
     "name": "stdout",
     "output_type": "stream",
     "text": [
      "0      False\n",
      "1      False\n",
      "2       True\n",
      "3      False\n",
      "4      False\n",
      "       ...  \n",
      "995    False\n",
      "996     True\n",
      "997    False\n",
      "998     True\n",
      "999    False\n",
      "Name: water, Length: 1000, dtype: bool\n",
      "\n"
     ]
    }
   ],
   "source": [
    "private = county['water'] == 'private'\n",
    "print(private)\n",
    "print()"
   ]
  },
  {
   "cell_type": "code",
   "execution_count": 100,
   "metadata": {
    "slideshow": {
     "slide_type": "fragment"
    }
   },
   "outputs": [
    {
     "data": {
      "text/html": [
       "<div>\n",
       "<style scoped>\n",
       "    .dataframe tbody tr th:only-of-type {\n",
       "        vertical-align: middle;\n",
       "    }\n",
       "\n",
       "    .dataframe tbody tr th {\n",
       "        vertical-align: top;\n",
       "    }\n",
       "\n",
       "    .dataframe thead th {\n",
       "        text-align: right;\n",
       "    }\n",
       "</style>\n",
       "<table border=\"1\" class=\"dataframe\">\n",
       "  <thead>\n",
       "    <tr style=\"text-align: right;\">\n",
       "      <th></th>\n",
       "      <th>water</th>\n",
       "      <th>income</th>\n",
       "      <th>residents</th>\n",
       "    </tr>\n",
       "  </thead>\n",
       "  <tbody>\n",
       "    <tr>\n",
       "      <th>2</th>\n",
       "      <td>private</td>\n",
       "      <td>41995.28</td>\n",
       "      <td>4</td>\n",
       "    </tr>\n",
       "    <tr>\n",
       "      <th>11</th>\n",
       "      <td>private</td>\n",
       "      <td>17085.39</td>\n",
       "      <td>1</td>\n",
       "    </tr>\n",
       "    <tr>\n",
       "      <th>12</th>\n",
       "      <td>private</td>\n",
       "      <td>40595.33</td>\n",
       "      <td>1</td>\n",
       "    </tr>\n",
       "    <tr>\n",
       "      <th>13</th>\n",
       "      <td>private</td>\n",
       "      <td>37342.27</td>\n",
       "      <td>4</td>\n",
       "    </tr>\n",
       "    <tr>\n",
       "      <th>17</th>\n",
       "      <td>private</td>\n",
       "      <td>47704.89</td>\n",
       "      <td>2</td>\n",
       "    </tr>\n",
       "    <tr>\n",
       "      <th>...</th>\n",
       "      <td>...</td>\n",
       "      <td>...</td>\n",
       "      <td>...</td>\n",
       "    </tr>\n",
       "    <tr>\n",
       "      <th>988</th>\n",
       "      <td>private</td>\n",
       "      <td>43593.99</td>\n",
       "      <td>1</td>\n",
       "    </tr>\n",
       "    <tr>\n",
       "      <th>989</th>\n",
       "      <td>private</td>\n",
       "      <td>28785.74</td>\n",
       "      <td>2</td>\n",
       "    </tr>\n",
       "    <tr>\n",
       "      <th>992</th>\n",
       "      <td>private</td>\n",
       "      <td>52947.41</td>\n",
       "      <td>3</td>\n",
       "    </tr>\n",
       "    <tr>\n",
       "      <th>996</th>\n",
       "      <td>private</td>\n",
       "      <td>40729.71</td>\n",
       "      <td>2</td>\n",
       "    </tr>\n",
       "    <tr>\n",
       "      <th>998</th>\n",
       "      <td>private</td>\n",
       "      <td>38535.18</td>\n",
       "      <td>1</td>\n",
       "    </tr>\n",
       "  </tbody>\n",
       "</table>\n",
       "<p>391 rows × 3 columns</p>\n",
       "</div>"
      ],
      "text/plain": [
       "       water    income  residents\n",
       "2    private  41995.28          4\n",
       "11   private  17085.39          1\n",
       "12   private  40595.33          1\n",
       "13   private  37342.27          4\n",
       "17   private  47704.89          2\n",
       "..       ...       ...        ...\n",
       "988  private  43593.99          1\n",
       "989  private  28785.74          2\n",
       "992  private  52947.41          3\n",
       "996  private  40729.71          2\n",
       "998  private  38535.18          1\n",
       "\n",
       "[391 rows x 3 columns]"
      ]
     },
     "execution_count": 100,
     "metadata": {},
     "output_type": "execute_result"
    }
   ],
   "source": [
    "county_private = county.loc[private, :]\n",
    "county_private"
   ]
  },
  {
   "cell_type": "markdown",
   "metadata": {
    "slideshow": {
     "slide_type": "fragment"
    }
   },
   "source": [
    "Like NumPy, we use the **bitwise comparison operators** ``&`` and ``|`` for multiple-comparison selections. "
   ]
  },
  {
   "cell_type": "markdown",
   "metadata": {
    "slideshow": {
     "slide_type": "slide"
    }
   },
   "source": [
    "### In class exercises\n",
    "1. Find the households eligible for subsidized groundwater testing"
   ]
  },
  {
   "cell_type": "code",
   "execution_count": null,
   "metadata": {},
   "outputs": [],
   "source": []
  },
  {
   "cell_type": "markdown",
   "metadata": {
    "slideshow": {
     "slide_type": "fragment"
    }
   },
   "source": [
    "2. How many of these households are there?"
   ]
  },
  {
   "cell_type": "code",
   "execution_count": null,
   "metadata": {},
   "outputs": [],
   "source": []
  },
  {
   "cell_type": "markdown",
   "metadata": {
    "slideshow": {
     "slide_type": "fragment"
    }
   },
   "source": [
    "3. What is the total number of residents that would be served by this program?"
   ]
  },
  {
   "cell_type": "code",
   "execution_count": null,
   "metadata": {},
   "outputs": [],
   "source": []
  },
  {
   "cell_type": "markdown",
   "metadata": {
    "slideshow": {
     "slide_type": "fragment"
    }
   },
   "source": [
    "4. Assume the county wants to finance this testing using a fee on its municipal water users. Municipal households with incomes below \\$30,000 will be exempt from the fee. How many households will have to pay this new fee?"
   ]
  },
  {
   "cell_type": "code",
   "execution_count": null,
   "metadata": {},
   "outputs": [],
   "source": []
  },
  {
   "cell_type": "markdown",
   "metadata": {
    "slideshow": {
     "slide_type": "fragment"
    }
   },
   "source": [
    "5. If each eligible private water household signs up for the program, and each subsidized test costs the county \\$100, how large is the fee that will be charged to municipal water households?"
   ]
  },
  {
   "cell_type": "code",
   "execution_count": null,
   "metadata": {},
   "outputs": [],
   "source": []
  }
 ],
 "metadata": {
  "celltoolbar": "Slideshow",
  "kernelspec": {
   "display_name": "Python 3",
   "language": "python",
   "name": "python3"
  },
  "language_info": {
   "codemirror_mode": {
    "name": "ipython",
    "version": 3
   },
   "file_extension": ".py",
   "mimetype": "text/x-python",
   "name": "python",
   "nbconvert_exporter": "python",
   "pygments_lexer": "ipython3",
   "version": "3.6.9"
  }
 },
 "nbformat": 4,
 "nbformat_minor": 4
}
