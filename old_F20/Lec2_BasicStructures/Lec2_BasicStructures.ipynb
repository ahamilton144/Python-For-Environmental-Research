{
 "cells": [
  {
   "cell_type": "markdown",
   "metadata": {
    "slideshow": {
     "slide_type": "slide"
    }
   },
   "source": [
    "# Lecture 2: Variable types and basic data structures\n",
    "ENVR 890-001: Python for Environmental Research, Fall 2020\n",
    "\n",
    "August 21, 2020\n",
    "\n",
    "By Andrew Hamilton. Some material adapted from Greg Characklis, David Gorelick and H.B. Zeff."
   ]
  },
  {
   "cell_type": "markdown",
   "metadata": {
    "slideshow": {
     "slide_type": "fragment"
    }
   },
   "source": [
    "## Summary\n",
    "In this lecture, we will learn about how computers store different kinds of information, and what types of operations we can do with different **types** of data. We will then find out how different **data structures** can be used to store, access, and manipulate collections of data."
   ]
  },
  {
   "cell_type": "markdown",
   "metadata": {
    "slideshow": {
     "slide_type": "slide"
    }
   },
   "source": [
    "## Variable types\n",
    "Many types of information can be assigned to a Python variable. Python will dynamically try to figure out what kind of information you are dealing with, and classify the variable with the appropriate **type**. Each type has different memory requirements and allowable operations. "
   ]
  },
  {
   "cell_type": "markdown",
   "metadata": {
    "slideshow": {
     "slide_type": "slide"
    }
   },
   "source": [
    "### Floating point numbers (``float``)\n",
    "The first variable type to understand is the floating point number. This is a computer's representation of a numeric value with a decimal point (e.g., 1.2345). "
   ]
  },
  {
   "cell_type": "code",
   "execution_count": 1,
   "metadata": {
    "slideshow": {
     "slide_type": "fragment"
    }
   },
   "outputs": [
    {
     "name": "stdout",
     "output_type": "stream",
     "text": [
      "<class 'float'>\n"
     ]
    }
   ],
   "source": [
    "x = 1.2345\n",
    "print(type(x))"
   ]
  },
  {
   "cell_type": "markdown",
   "metadata": {
    "slideshow": {
     "slide_type": "slide"
    }
   },
   "source": [
    "One important fact to remember is that computers generally do not represent floating point numbers exactly. Rather, since computers simply manipulate 1's and 0's on the machine code level, Python represents floating point numbers as \"binary fractions\". This representation is always extremely close, but not guaranteed to be perfectly precise. This logic of how this works is somewhat complicated (but cool! check out the explanations [here](https://realpython.com/python-data-types/) and [here](https://docs.python.org/3/tutorial/floatingpoint.html) for more detail), but the important things to remember are:"
   ]
  },
  {
   "cell_type": "markdown",
   "metadata": {
    "slideshow": {
     "slide_type": "fragment"
    }
   },
   "source": [
    "1. Floating point numbers can only be trusted out to about 15 significant digits. This is not a problem under most circumstances, but can cause problems if you are working with very large or very small numbers. It can also cause problems if a program includes massive numbers of computations, as the rounding errors will accumulate throughout the program."
   ]
  },
  {
   "cell_type": "markdown",
   "metadata": {
    "slideshow": {
     "slide_type": "fragment"
    }
   },
   "source": [
    "2. The value of a variable printed to the screen is not the exact representation stored by the computer - Python will generally round the output for visual convenience. So 1.2345 may actually be stored as 1.234500000000001 or 1.234499999999998."
   ]
  },
  {
   "cell_type": "markdown",
   "metadata": {
    "slideshow": {
     "slide_type": "fragment"
    }
   },
   "source": [
    "3. The largest number you can represent as a float is approximately $1.79 * 10^{308}$. Anything larger will be designated ``inf``. The closest a non-zero number can be to zero is approximately $5.0 * 10^{-324}$. The next \"step\" is zero."
   ]
  },
  {
   "cell_type": "code",
   "execution_count": 2,
   "metadata": {
    "slideshow": {
     "slide_type": "fragment"
    }
   },
   "outputs": [
    {
     "data": {
      "text/plain": [
       "1.79e+308"
      ]
     },
     "execution_count": 2,
     "metadata": {},
     "output_type": "execute_result"
    }
   ],
   "source": [
    "1.79 * 10**308"
   ]
  },
  {
   "cell_type": "code",
   "execution_count": 3,
   "metadata": {
    "slideshow": {
     "slide_type": "fragment"
    }
   },
   "outputs": [
    {
     "data": {
      "text/plain": [
       "inf"
      ]
     },
     "execution_count": 3,
     "metadata": {},
     "output_type": "execute_result"
    }
   ],
   "source": [
    "1.8 * 10e308"
   ]
  },
  {
   "cell_type": "code",
   "execution_count": 4,
   "metadata": {
    "slideshow": {
     "slide_type": "fragment"
    }
   },
   "outputs": [
    {
     "data": {
      "text/plain": [
       "5e-324"
      ]
     },
     "execution_count": 4,
     "metadata": {},
     "output_type": "execute_result"
    }
   ],
   "source": [
    "5e-324"
   ]
  },
  {
   "cell_type": "code",
   "execution_count": 5,
   "metadata": {
    "slideshow": {
     "slide_type": "fragment"
    }
   },
   "outputs": [
    {
     "data": {
      "text/plain": [
       "5e-324"
      ]
     },
     "execution_count": 5,
     "metadata": {},
     "output_type": "execute_result"
    }
   ],
   "source": [
    "4e-324"
   ]
  },
  {
   "cell_type": "code",
   "execution_count": 6,
   "metadata": {
    "slideshow": {
     "slide_type": "fragment"
    }
   },
   "outputs": [
    {
     "data": {
      "text/plain": [
       "0.0"
      ]
     },
     "execution_count": 6,
     "metadata": {},
     "output_type": "execute_result"
    }
   ],
   "source": [
    "1e-324"
   ]
  },
  {
   "cell_type": "markdown",
   "metadata": {
    "slideshow": {
     "slide_type": "slide"
    }
   },
   "source": [
    "### Integers (``int``)\n",
    "The other major numeric variable type is the integer. If you don't include a decimal when assigning a variable, Python will default to an integer type."
   ]
  },
  {
   "cell_type": "code",
   "execution_count": 7,
   "metadata": {
    "slideshow": {
     "slide_type": "fragment"
    }
   },
   "outputs": [
    {
     "name": "stdout",
     "output_type": "stream",
     "text": [
      "<class 'int'>\n"
     ]
    }
   ],
   "source": [
    "x = 101\n",
    "print(type(x))"
   ]
  },
  {
   "cell_type": "markdown",
   "metadata": {
    "slideshow": {
     "slide_type": "fragment"
    }
   },
   "source": [
    "Integers are the default because they use less memory than floats (consider storing 2 vs 2.000000000000000). In Python 3, there is no limit on the size of the integer that can be stored (assuming your computer has enough memory)."
   ]
  },
  {
   "cell_type": "markdown",
   "metadata": {
    "slideshow": {
     "slide_type": "slide"
    }
   },
   "source": [
    "Unlike \"lower level\" programming languages like C, Python will automatically update the variable type if a calculation demands it. For example:"
   ]
  },
  {
   "cell_type": "code",
   "execution_count": 8,
   "metadata": {
    "slideshow": {
     "slide_type": "fragment"
    }
   },
   "outputs": [
    {
     "name": "stdout",
     "output_type": "stream",
     "text": [
      "2 <class 'int'>\n"
     ]
    }
   ],
   "source": [
    "x = 2\n",
    "y = 3\n",
    "z = x + y\n",
    "print(x, type(x))"
   ]
  },
  {
   "cell_type": "code",
   "execution_count": 9,
   "metadata": {
    "slideshow": {
     "slide_type": "fragment"
    }
   },
   "outputs": [
    {
     "name": "stdout",
     "output_type": "stream",
     "text": [
      "3 <class 'int'>\n",
      "5 <class 'int'>\n"
     ]
    }
   ],
   "source": [
    "print(y, type(y))\n",
    "print(z, type(z))"
   ]
  },
  {
   "cell_type": "code",
   "execution_count": 10,
   "metadata": {
    "slideshow": {
     "slide_type": "fragment"
    }
   },
   "outputs": [
    {
     "name": "stdout",
     "output_type": "stream",
     "text": [
      "2 <class 'int'>\n",
      "3 <class 'int'>\n",
      "0.6666666666666666 <class 'float'>\n"
     ]
    }
   ],
   "source": [
    "z = x / y\n",
    "print(x, type(x))\n",
    "print(y, type(y))\n",
    "print(z, type(z))"
   ]
  },
  {
   "cell_type": "code",
   "execution_count": 11,
   "metadata": {
    "slideshow": {
     "slide_type": "fragment"
    }
   },
   "outputs": [
    {
     "name": "stdout",
     "output_type": "stream",
     "text": [
      "2 <class 'int'>\n",
      "3.3 <class 'float'>\n",
      "5.3 <class 'float'>\n"
     ]
    }
   ],
   "source": [
    "y = 3.3\n",
    "z = x + y\n",
    "print(x, type(x))\n",
    "print(y, type(y))\n",
    "print(z, type(z))"
   ]
  },
  {
   "cell_type": "markdown",
   "metadata": {
    "slideshow": {
     "slide_type": "slide"
    }
   },
   "source": [
    "### Complex numbers (``complex``)\n",
    "Python also allows for complex variables by denoting the imaginary part \"j\"."
   ]
  },
  {
   "cell_type": "code",
   "execution_count": 12,
   "metadata": {
    "slideshow": {
     "slide_type": "fragment"
    }
   },
   "outputs": [
    {
     "name": "stdout",
     "output_type": "stream",
     "text": [
      "(4+2.3j) <class 'complex'>\n"
     ]
    }
   ],
   "source": [
    "x = 4+2.3j\n",
    "print(x, type(x))"
   ]
  },
  {
   "cell_type": "code",
   "execution_count": 13,
   "metadata": {
    "slideshow": {
     "slide_type": "fragment"
    }
   },
   "outputs": [
    {
     "name": "stdout",
     "output_type": "stream",
     "text": [
      "(7.1+2.3j) <class 'complex'>\n"
     ]
    }
   ],
   "source": [
    "y = 3.1\n",
    "z = x + y \n",
    "\n",
    "print(z, type(z))"
   ]
  },
  {
   "cell_type": "markdown",
   "metadata": {
    "slideshow": {
     "slide_type": "slide"
    }
   },
   "source": [
    "### Logical/Boolean variables (``bool``)\n",
    "Logical (Boolean) variables can only take the value of True or False. This will be useful for \"if statements\" and \"logical indexing\", which we will discuss in the next  two lectures."
   ]
  },
  {
   "cell_type": "code",
   "execution_count": 14,
   "metadata": {
    "slideshow": {
     "slide_type": "fragment"
    }
   },
   "outputs": [
    {
     "name": "stdout",
     "output_type": "stream",
     "text": [
      "True <class 'bool'>\n"
     ]
    }
   ],
   "source": [
    "x = True\n",
    "print(x, type(x))"
   ]
  },
  {
   "cell_type": "markdown",
   "metadata": {
    "slideshow": {
     "slide_type": "fragment"
    }
   },
   "source": [
    "Note that Boolean variables are actually a \"subclass\" of int, with True being equal to 1 and False being equal to 0. Some arithmetic operations will revert Boolean variables to int. This should probably be avoided, as it can be confusing."
   ]
  },
  {
   "cell_type": "code",
   "execution_count": 15,
   "metadata": {
    "slideshow": {
     "slide_type": "fragment"
    }
   },
   "outputs": [
    {
     "name": "stdout",
     "output_type": "stream",
     "text": [
      "2\n",
      "0\n",
      "0\n"
     ]
    }
   ],
   "source": [
    "y = False\n",
    "z = 1\n",
    "print(x + x)\n",
    "print(x * y)\n",
    "print(x - z)"
   ]
  },
  {
   "cell_type": "markdown",
   "metadata": {
    "slideshow": {
     "slide_type": "slide"
    }
   },
   "source": [
    "### Strings (``str``)\n",
    "The last major type of variable is the string, a sequence of characters. Strings are surrounded on either side by single or double quotes. They can be any length, or empty."
   ]
  },
  {
   "cell_type": "code",
   "execution_count": 16,
   "metadata": {
    "slideshow": {
     "slide_type": "slide"
    }
   },
   "outputs": [
    {
     "name": "stdout",
     "output_type": "stream",
     "text": [
      "<class 'str'> <class 'str'> <class 'str'> <class 'str'> <class 'str'> <class 'str'>\n"
     ]
    }
   ],
   "source": [
    "a = 'This is a string.'\n",
    "b = \"Another string.\"\n",
    "c = ''\n",
    "d = '2.03'\n",
    "e = '*$%^'\n",
    "f = ' '\n",
    "print(type(a), type(b), type(c), type(d), type(e), type(f))"
   ]
  },
  {
   "cell_type": "markdown",
   "metadata": {
    "slideshow": {
     "slide_type": "fragment"
    }
   },
   "source": [
    "Whichever type of quotation mark you use (``''`` or ``\"\"``), the other can be included in the string. And the same type of quotation can be included without ending the string by using the backslash."
   ]
  },
  {
   "cell_type": "code",
   "execution_count": 17,
   "metadata": {
    "slideshow": {
     "slide_type": "fragment"
    }
   },
   "outputs": [
    {
     "name": "stdout",
     "output_type": "stream",
     "text": [
      "This is a \"string\".\n",
      "Also a 'string'.\n",
      "Another 'string'.\n",
      "Fourth \"string\".\n"
     ]
    }
   ],
   "source": [
    "g = 'This is a \"string\".'\n",
    "print(g)\n",
    "g = \"Also a 'string'.\"\n",
    "print(g)\n",
    "g = 'Another \\'string\\'.'\n",
    "print(g)\n",
    "g = \"Fourth \\\"string\\\".\"\n",
    "print(g)"
   ]
  },
  {
   "cell_type": "code",
   "execution_count": 18,
   "metadata": {},
   "outputs": [
    {
     "name": "stdout",
     "output_type": "stream",
     "text": [
      "This is a \"string\". It is Andrew's string\n"
     ]
    }
   ],
   "source": [
    "g = 'This is a \"string\". It is Andrew\\'s string'\n",
    "print(g)"
   ]
  },
  {
   "cell_type": "markdown",
   "metadata": {
    "slideshow": {
     "slide_type": "fragment"
    }
   },
   "source": [
    "Strings can be concatonated using the ``+`` operator"
   ]
  },
  {
   "cell_type": "code",
   "execution_count": 19,
   "metadata": {
    "slideshow": {
     "slide_type": "fragment"
    }
   },
   "outputs": [
    {
     "name": "stdout",
     "output_type": "stream",
     "text": [
      "This is a string. Another string. Here are some symbols. _*$%^\n"
     ]
    }
   ],
   "source": [
    "g = a + f + b + c + f + 'Here are some symbols.' + f  + '_' + e\n",
    "print(g)"
   ]
  },
  {
   "cell_type": "markdown",
   "metadata": {
    "slideshow": {
     "slide_type": "slide"
    }
   },
   "source": [
    "We cannot add together strings and numeric types."
   ]
  },
  {
   "cell_type": "code",
   "execution_count": 20,
   "metadata": {
    "slideshow": {
     "slide_type": "fragment"
    }
   },
   "outputs": [],
   "source": [
    "# # this should cause an error, can't add str to float\n",
    "# x = -1.1\n",
    "# z = x + d"
   ]
  },
  {
   "cell_type": "code",
   "execution_count": 21,
   "metadata": {
    "slideshow": {
     "slide_type": "fragment"
    }
   },
   "outputs": [],
   "source": [
    "# # this should cause an error, can't add str to int\n",
    "# y = 45\n",
    "# z = y + d"
   ]
  },
  {
   "cell_type": "markdown",
   "metadata": {
    "slideshow": {
     "slide_type": "fragment"
    }
   },
   "source": [
    "But we can convert the string d into a float, then add it to either a float (x) or int (y)"
   ]
  },
  {
   "cell_type": "code",
   "execution_count": 22,
   "metadata": {
    "slideshow": {
     "slide_type": "fragment"
    }
   },
   "outputs": [
    {
     "name": "stdout",
     "output_type": "stream",
     "text": [
      "2.03 <class 'str'>\n"
     ]
    }
   ],
   "source": [
    "print(d, type(d))"
   ]
  },
  {
   "cell_type": "code",
   "execution_count": 23,
   "metadata": {
    "slideshow": {
     "slide_type": "fragment"
    }
   },
   "outputs": [
    {
     "name": "stdout",
     "output_type": "stream",
     "text": [
      "2.03 <class 'float'>\n"
     ]
    }
   ],
   "source": [
    "d_float = float(d)\n",
    "print(d_float, type(d_float))"
   ]
  },
  {
   "cell_type": "code",
   "execution_count": 24,
   "metadata": {
    "slideshow": {
     "slide_type": "fragment"
    }
   },
   "outputs": [
    {
     "name": "stdout",
     "output_type": "stream",
     "text": [
      "3.03 2.03\n"
     ]
    }
   ],
   "source": [
    "z1 = d_float + x\n",
    "z2 = d_float + y\n",
    "print(z1, z2)"
   ]
  },
  {
   "cell_type": "markdown",
   "metadata": {
    "slideshow": {
     "slide_type": "fragment"
    }
   },
   "source": [
    "We can also go the other direction and convert numeric types to strings."
   ]
  },
  {
   "cell_type": "code",
   "execution_count": 25,
   "metadata": {
    "slideshow": {
     "slide_type": "fragment"
    }
   },
   "outputs": [
    {
     "name": "stdout",
     "output_type": "stream",
     "text": [
      "True <class 'bool'>\n",
      "True <class 'str'>\n"
     ]
    }
   ],
   "source": [
    "print(x, type(x))\n",
    "x_str = str(x)\n",
    "print(x_str, type(x_str))\n",
    "y_str = str(y)"
   ]
  },
  {
   "cell_type": "code",
   "execution_count": 26,
   "metadata": {
    "slideshow": {
     "slide_type": "fragment"
    }
   },
   "outputs": [
    {
     "name": "stdout",
     "output_type": "stream",
     "text": [
      "Start with the number 2.03 and add True to get 3.03\n"
     ]
    }
   ],
   "source": [
    "z1_str = str(z1)\n",
    "\n",
    "z3 = 'Start with the number ' + d + ' and add ' + x_str + ' to get ' + z1_str\n",
    "print(z3)"
   ]
  },
  {
   "cell_type": "markdown",
   "metadata": {
    "slideshow": {
     "slide_type": "slide"
    }
   },
   "source": [
    "There are a few different ways to print variables into strings, which you should be familiar with because you will see all of them in online help forums. \n",
    "\n",
    "1. first\n",
    "1. second\n",
    "\n",
    "    1.third"
   ]
  },
  {
   "cell_type": "code",
   "execution_count": 27,
   "metadata": {
    "slideshow": {
     "slide_type": "fragment"
    }
   },
   "outputs": [
    {
     "name": "stdout",
     "output_type": "stream",
     "text": [
      "1. Kim is 24 years old, and is 1.52438 m (1524.38 mm) tall.\n"
     ]
    }
   ],
   "source": [
    "name = 'Kim'\n",
    "age = 24\n",
    "meters = 1.52438\n",
    "mms = meters * 1000\n",
    "\n",
    "# Using + operator\n",
    "sentence = '1. ' + name + ' is ' + str(age) + ' years old, and is ' + str(meters) + ' m (' + str(mms) +' mm) tall.'\n",
    "print(sentence)"
   ]
  },
  {
   "cell_type": "code",
   "execution_count": 28,
   "metadata": {
    "slideshow": {
     "slide_type": "fragment"
    }
   },
   "outputs": [
    {
     "name": "stdout",
     "output_type": "stream",
     "text": [
      "2. Kim is 24 years old, and is 1.52 m (1524.38 mm) tall.\n"
     ]
    }
   ],
   "source": [
    "# We can round the number of digits printed after the decimal as follows (note this will not change the actual value of \"meters\")\n",
    "sentence = '2. ' + name + ' is ' + str(age) + ' years old, and is ' + str(round(meters, 2)) + ' m (' + str(mms) +' mm) tall.'\n",
    "print(sentence)"
   ]
  },
  {
   "cell_type": "code",
   "execution_count": 29,
   "metadata": {
    "slideshow": {
     "slide_type": "fragment"
    }
   },
   "outputs": [
    {
     "name": "stdout",
     "output_type": "stream",
     "text": [
      "3. Kim is 24 years old, and is 1.524380 m (1524.380000 mm) tall.\n"
     ]
    }
   ],
   "source": [
    "# Using %s, %d, %f for str, int, float variables\n",
    "sentence = '3. %s is %i years old, and is %f m (%f mm) tall.' % (name, age, meters, mms)\n",
    "print(sentence)"
   ]
  },
  {
   "cell_type": "code",
   "execution_count": 30,
   "metadata": {
    "slideshow": {
     "slide_type": "fragment"
    }
   },
   "outputs": [
    {
     "name": "stdout",
     "output_type": "stream",
     "text": [
      "4. Kim is 24 years old, and is 1.52 m (1524.38 mm) tall.\n"
     ]
    }
   ],
   "source": [
    "# We can also round the number of digits printed after the decimal using this method\n",
    "sentence = '4. %s is %i years old, and is %.2f m (%.2f mm) tall.' % (name, age, meters, mms)\n",
    "print(sentence)"
   ]
  },
  {
   "cell_type": "code",
   "execution_count": 31,
   "metadata": {
    "slideshow": {
     "slide_type": "fragment"
    }
   },
   "outputs": [
    {
     "name": "stdout",
     "output_type": "stream",
     "text": [
      "5. Kim is 24 years old, and is 1.52 m (1524.38 mm) tall\n"
     ]
    }
   ],
   "source": [
    "# Another method, using \"format\" function of string class\n",
    "sentence = '5. {} is {} years old, and is {:.2f} m ({:.2f} mm) tall'.format(name, age, meters, mms)\n",
    "print(sentence)"
   ]
  },
  {
   "cell_type": "code",
   "execution_count": 32,
   "metadata": {
    "slideshow": {
     "slide_type": "fragment"
    }
   },
   "outputs": [
    {
     "name": "stdout",
     "output_type": "stream",
     "text": [
      "6. Kim is 24 years old, and is 1.52 m (1,524.38 mm) tall\n"
     ]
    }
   ],
   "source": [
    "# We can also print with commas for large numbers using this method\n",
    "sentence = '6. {} is {} years old, and is {:.2f} m ({:,.2f} mm) tall'.format(name, age, meters, mms)\n",
    "print(sentence)"
   ]
  },
  {
   "cell_type": "code",
   "execution_count": 33,
   "metadata": {
    "slideshow": {
     "slide_type": "fragment"
    }
   },
   "outputs": [
    {
     "name": "stdout",
     "output_type": "stream",
     "text": [
      "7. Kim is 24 years old, and is 1.52 m (1,524.38 mm) tall\n"
     ]
    }
   ],
   "source": [
    "# lastly, f-strings are a new way to format after Python 3.6\n",
    "sentence = f'7. {name} is {age} years old, and is {meters:.2f} m ({mms:,.2f} mm) tall'\n",
    "print(sentence)"
   ]
  },
  {
   "cell_type": "code",
   "execution_count": 34,
   "metadata": {
    "slideshow": {
     "slide_type": "fragment"
    }
   },
   "outputs": [
    {
     "name": "stdout",
     "output_type": "stream",
     "text": [
      "7. Kim is 24 years old, and is 1.52 m (1.5e+03 mm) tall\n"
     ]
    }
   ],
   "source": [
    "# I can also leave the \"f\" out of \".2f\" and give the number of significant digits\n",
    "sentence = f'7. {name} is {age} years old, and is {meters:.3} m ({mms:,.2} mm) tall'\n",
    "print(sentence)"
   ]
  },
  {
   "cell_type": "markdown",
   "metadata": {
    "slideshow": {
     "slide_type": "slide"
    }
   },
   "source": [
    "### In-class exercises\n",
    "Python will dynamically choose the type when you create a new variable. What will the type be for each of the following? (Feel free to create a code cell to try them out and make sure you are right!)\n",
    "1. 3.14\n",
    "1. 3\n",
    "1. \"3\"\n",
    "1. 3 + 14\n",
    "1. 3.14 - 14.14\n",
    "1. 3 * 14\n",
    "1. 3 / 14\n",
    "1. 3+2j\n",
    "1. False\n",
    "1. 'False'"
   ]
  },
  {
   "cell_type": "markdown",
   "metadata": {
    "slideshow": {
     "slide_type": "slide"
    }
   },
   "source": [
    "## Data structures\n",
    "Often in computer programming we want to store many values at once, rather than a single value. To do this, there are a variety of different **data structures** we can use in Python. Choosing the best data structure depends on the context of what you are trying to do."
   ]
  },
  {
   "cell_type": "markdown",
   "metadata": {
    "slideshow": {
     "slide_type": "slide"
    }
   },
   "source": [
    "### Lists\n",
    "The simplest structure is the list, denoted by brackets ``[]``. A list is just want it sounds like, a list of different values. Values are separated by commas. The objects within a list can be of any type."
   ]
  },
  {
   "cell_type": "code",
   "execution_count": 35,
   "metadata": {
    "slideshow": {
     "slide_type": "fragment"
    }
   },
   "outputs": [
    {
     "name": "stdout",
     "output_type": "stream",
     "text": [
      "[1, 2, 3, 4, 5]\n",
      "<class 'list'>\n"
     ]
    }
   ],
   "source": [
    "X = [1, 2, 3, 4, 5]\n",
    "print(X)\n",
    "print(type(X))"
   ]
  },
  {
   "cell_type": "code",
   "execution_count": 36,
   "metadata": {
    "slideshow": {
     "slide_type": "fragment"
    }
   },
   "outputs": [],
   "source": [
    "Y = ['a', 'b', 'c']\n",
    "Z = [0, 1.3, 'two']"
   ]
  },
  {
   "cell_type": "markdown",
   "metadata": {
    "slideshow": {
     "slide_type": "fragment"
    }
   },
   "source": [
    "The objects in a list can even be lists!"
   ]
  },
  {
   "cell_type": "code",
   "execution_count": 37,
   "metadata": {
    "slideshow": {
     "slide_type": "fragment"
    }
   },
   "outputs": [
    {
     "name": "stdout",
     "output_type": "stream",
     "text": [
      "[[1, 2, 3, 4, 5], ['a', 'b', 'c'], [0, 1.3, 'two'], 'hello', 3]\n"
     ]
    }
   ],
   "source": [
    "A = [X, Y, Z, 'hello', 3]\n",
    "print(A)"
   ]
  },
  {
   "cell_type": "markdown",
   "metadata": {
    "slideshow": {
     "slide_type": "slide"
    }
   },
   "source": [
    "We can contatonate lists with ``+``"
   ]
  },
  {
   "cell_type": "code",
   "execution_count": 38,
   "metadata": {
    "slideshow": {
     "slide_type": "fragment"
    }
   },
   "outputs": [
    {
     "name": "stdout",
     "output_type": "stream",
     "text": [
      "[1, 2, 3, 4, 5, 'a', 'b', 'c']\n"
     ]
    }
   ],
   "source": [
    "B = X + Y\n",
    "print(B)"
   ]
  },
  {
   "cell_type": "markdown",
   "metadata": {
    "slideshow": {
     "slide_type": "fragment"
    }
   },
   "source": [
    "And we can repeat lists with ``*``"
   ]
  },
  {
   "cell_type": "code",
   "execution_count": 39,
   "metadata": {
    "slideshow": {
     "slide_type": "fragment"
    }
   },
   "outputs": [
    {
     "name": "stdout",
     "output_type": "stream",
     "text": [
      "[1, 2, 3, 4, 5, 1, 2, 3, 4, 5, 1, 2, 3, 4, 5, 1, 2, 3, 4, 5, 1, 2, 3, 4, 5, 1, 2, 3, 4, 5, 1, 2, 3, 4, 5, 1, 2, 3, 4, 5, 1, 2, 3, 4, 5, 1, 2, 3, 4, 5]\n"
     ]
    }
   ],
   "source": [
    "C = X * 10\n",
    "print(C)"
   ]
  },
  {
   "cell_type": "markdown",
   "metadata": {
    "slideshow": {
     "slide_type": "slide"
    }
   },
   "source": [
    "Sequences of numbers can be created using the ``list`` and ``range`` functions:"
   ]
  },
  {
   "cell_type": "code",
   "execution_count": 40,
   "metadata": {
    "slideshow": {
     "slide_type": "fragment"
    }
   },
   "outputs": [
    {
     "name": "stdout",
     "output_type": "stream",
     "text": [
      "range(0, 10)\n"
     ]
    }
   ],
   "source": [
    "R = range(10)\n",
    "print(R)"
   ]
  },
  {
   "cell_type": "code",
   "execution_count": 41,
   "metadata": {
    "slideshow": {
     "slide_type": "fragment"
    }
   },
   "outputs": [
    {
     "name": "stdout",
     "output_type": "stream",
     "text": [
      "[0, 1, 2, 3, 4, 5, 6, 7, 8, 9]\n"
     ]
    }
   ],
   "source": [
    "D1 = list(range(10))\n",
    "print(D1)"
   ]
  },
  {
   "cell_type": "code",
   "execution_count": 42,
   "metadata": {
    "slideshow": {
     "slide_type": "fragment"
    }
   },
   "outputs": [
    {
     "name": "stdout",
     "output_type": "stream",
     "text": [
      "[3, 4, 5, 6, 7, 8, 9]\n"
     ]
    }
   ],
   "source": [
    "D2 = list(range(3, 10))\n",
    "print(D2)"
   ]
  },
  {
   "cell_type": "code",
   "execution_count": 43,
   "metadata": {
    "slideshow": {
     "slide_type": "fragment"
    }
   },
   "outputs": [
    {
     "name": "stdout",
     "output_type": "stream",
     "text": [
      "[10, 7, 4, 1, -2, -5, -8]\n"
     ]
    }
   ],
   "source": [
    "D3 = list(range(10, -10, -3))\n",
    "print(D3)"
   ]
  },
  {
   "cell_type": "markdown",
   "metadata": {
    "slideshow": {
     "slide_type": "slide"
    }
   },
   "source": [
    "We can access particular elements of the list through **indexing** with brackets ``[]``. Note that the **index starts with 0, not 1**. so the first element is index 0, the fourth element is index 3, etc."
   ]
  },
  {
   "cell_type": "code",
   "execution_count": 44,
   "metadata": {
    "slideshow": {
     "slide_type": "fragment"
    }
   },
   "outputs": [
    {
     "name": "stdout",
     "output_type": "stream",
     "text": [
      "[0, 1, 2, 3, 4]\n",
      "\n",
      "0\n",
      "1\n"
     ]
    }
   ],
   "source": [
    "X = list(range(5))\n",
    "print(X)\n",
    "print()\n",
    "print(X[0])\n",
    "print(X[1])"
   ]
  },
  {
   "cell_type": "markdown",
   "metadata": {
    "slideshow": {
     "slide_type": "fragment"
    }
   },
   "source": [
    "We can access a **slice** of values with the colon ``:``. Note that the value on the right hand side of colon is a hard boundary, not included."
   ]
  },
  {
   "cell_type": "code",
   "execution_count": 45,
   "metadata": {
    "slideshow": {
     "slide_type": "fragment"
    }
   },
   "outputs": [
    {
     "name": "stdout",
     "output_type": "stream",
     "text": [
      "[0, 1]\n"
     ]
    }
   ],
   "source": [
    "# Get first and second element. \n",
    "print(X[0:2])"
   ]
  },
  {
   "cell_type": "code",
   "execution_count": 46,
   "metadata": {
    "slideshow": {
     "slide_type": "fragment"
    }
   },
   "outputs": [
    {
     "name": "stdout",
     "output_type": "stream",
     "text": [
      "[0, 1]\n"
     ]
    }
   ],
   "source": [
    "# can also leave out the 0\n",
    "print(X[:2])"
   ]
  },
  {
   "cell_type": "code",
   "execution_count": 47,
   "metadata": {
    "slideshow": {
     "slide_type": "fragment"
    }
   },
   "outputs": [
    {
     "name": "stdout",
     "output_type": "stream",
     "text": [
      "[2, 3, 4]\n"
     ]
    }
   ],
   "source": [
    "# Get 3rd element to end\n",
    "print(X[2:])"
   ]
  },
  {
   "cell_type": "code",
   "execution_count": 48,
   "metadata": {
    "slideshow": {
     "slide_type": "fragment"
    }
   },
   "outputs": [
    {
     "name": "stdout",
     "output_type": "stream",
     "text": [
      "[2, 3]\n"
     ]
    }
   ],
   "source": [
    "# 3rd to 4th element\n",
    "print(X[2:4])"
   ]
  },
  {
   "cell_type": "code",
   "execution_count": 49,
   "metadata": {
    "slideshow": {
     "slide_type": "fragment"
    }
   },
   "outputs": [
    {
     "name": "stdout",
     "output_type": "stream",
     "text": [
      "[2]\n"
     ]
    }
   ],
   "source": [
    "# 3rd to 4th another way. Minus values count backward from end.\n",
    "print(X[2:-2])"
   ]
  },
  {
   "cell_type": "markdown",
   "metadata": {
    "slideshow": {
     "slide_type": "slide"
    }
   },
   "source": [
    "We can also reset particular elements based on the index"
   ]
  },
  {
   "cell_type": "code",
   "execution_count": 50,
   "metadata": {
    "slideshow": {
     "slide_type": "fragment"
    }
   },
   "outputs": [
    {
     "name": "stdout",
     "output_type": "stream",
     "text": [
      "[0, 1, 2, 3, 4]\n",
      "\n",
      "[10, 1, 2, 3, 4]\n"
     ]
    }
   ],
   "source": [
    "print(X)\n",
    "print()\n",
    "\n",
    "X[0] = 10\n",
    "print(X)"
   ]
  },
  {
   "cell_type": "code",
   "execution_count": 51,
   "metadata": {
    "slideshow": {
     "slide_type": "fragment"
    }
   },
   "outputs": [
    {
     "name": "stdout",
     "output_type": "stream",
     "text": [
      "[100, 200, 2, 3, 4]\n"
     ]
    }
   ],
   "source": [
    "X[:2] = [100, 200]\n",
    "print(X)"
   ]
  },
  {
   "cell_type": "code",
   "execution_count": 52,
   "metadata": {
    "slideshow": {
     "slide_type": "fragment"
    }
   },
   "outputs": [
    {
     "name": "stdout",
     "output_type": "stream",
     "text": [
      "['a', 'b', 'c', 'd', 'e']\n",
      "\n",
      "[100, 200, 2, 'd', 'e']\n"
     ]
    }
   ],
   "source": [
    "Y = ['a', 'b', 'c', 'd', 'e']\n",
    "print(Y)\n",
    "print()\n",
    "\n",
    "Y[:3] = X[:3]\n",
    "print(Y)"
   ]
  },
  {
   "cell_type": "markdown",
   "metadata": {
    "slideshow": {
     "slide_type": "slide"
    }
   },
   "source": [
    "With lists of lists, we index from the outermost list to the innermost"
   ]
  },
  {
   "cell_type": "code",
   "execution_count": 53,
   "metadata": {
    "slideshow": {
     "slide_type": "fragment"
    }
   },
   "outputs": [
    {
     "name": "stdout",
     "output_type": "stream",
     "text": [
      "[[[1, 2, 3], [4, 5, 6]], [[7, 8, 9], [10, 11, 12]]]\n"
     ]
    }
   ],
   "source": [
    "X = [[[1, 2, 3], [4, 5, 6]],\n",
    "     [[7, 8, 9], [10, 11, 12]]]\n",
    "print(X)"
   ]
  },
  {
   "cell_type": "code",
   "execution_count": 54,
   "metadata": {
    "slideshow": {
     "slide_type": "fragment"
    }
   },
   "outputs": [
    {
     "name": "stdout",
     "output_type": "stream",
     "text": [
      "[[1, 2, 3], [4, 5, 6]]\n"
     ]
    }
   ],
   "source": [
    "print(X[0])"
   ]
  },
  {
   "cell_type": "code",
   "execution_count": 55,
   "metadata": {
    "slideshow": {
     "slide_type": "fragment"
    }
   },
   "outputs": [
    {
     "name": "stdout",
     "output_type": "stream",
     "text": [
      "[1, 2, 3]\n"
     ]
    }
   ],
   "source": [
    "print(X[0][0])"
   ]
  },
  {
   "cell_type": "code",
   "execution_count": 56,
   "metadata": {
    "slideshow": {
     "slide_type": "fragment"
    }
   },
   "outputs": [
    {
     "name": "stdout",
     "output_type": "stream",
     "text": [
      "1\n"
     ]
    }
   ],
   "source": [
    "print(X[0][0][0])"
   ]
  },
  {
   "cell_type": "code",
   "execution_count": 57,
   "metadata": {
    "slideshow": {
     "slide_type": "fragment"
    }
   },
   "outputs": [
    {
     "name": "stdout",
     "output_type": "stream",
     "text": [
      "[[[4, 5, 6], [4, 5, 6]], [[7, 8, 9], [10, 11, 12]]]\n"
     ]
    }
   ],
   "source": [
    "X[0][0] = X[0][1]\n",
    "print(X)"
   ]
  },
  {
   "cell_type": "markdown",
   "metadata": {
    "slideshow": {
     "slide_type": "slide"
    }
   },
   "source": [
    "We can get the **length** of a list (or any other data structure) as follows. Note that the command refers to the outermost level of a list of lists."
   ]
  },
  {
   "cell_type": "code",
   "execution_count": 58,
   "metadata": {
    "slideshow": {
     "slide_type": "fragment"
    }
   },
   "outputs": [
    {
     "name": "stdout",
     "output_type": "stream",
     "text": [
      "[[[4, 5, 6], [4, 5, 6]], [[7, 8, 9], [10, 11, 12]]]\n",
      "\n",
      "2\n"
     ]
    }
   ],
   "source": [
    "print(X)\n",
    "print()\n",
    "print(len(X))"
   ]
  },
  {
   "cell_type": "code",
   "execution_count": 59,
   "metadata": {
    "slideshow": {
     "slide_type": "fragment"
    }
   },
   "outputs": [
    {
     "name": "stdout",
     "output_type": "stream",
     "text": [
      "2\n"
     ]
    }
   ],
   "source": [
    "print(len(X[0]))"
   ]
  },
  {
   "cell_type": "code",
   "execution_count": 60,
   "metadata": {
    "slideshow": {
     "slide_type": "fragment"
    }
   },
   "outputs": [
    {
     "name": "stdout",
     "output_type": "stream",
     "text": [
      "3\n"
     ]
    }
   ],
   "source": [
    "print(len(X[0][0]))"
   ]
  },
  {
   "cell_type": "markdown",
   "metadata": {
    "slideshow": {
     "slide_type": "slide"
    }
   },
   "source": [
    "### Tuples\n",
    "A tuple is a data structure in Python that is similar to a list, but enclosed within parentheses ``()`` rather than brackets. Variable access still uses brackets though."
   ]
  },
  {
   "cell_type": "code",
   "execution_count": 61,
   "metadata": {
    "slideshow": {
     "slide_type": "fragment"
    }
   },
   "outputs": [
    {
     "name": "stdout",
     "output_type": "stream",
     "text": [
      "(1, 2, 3, 'dog')\n",
      "(1, 2)\n"
     ]
    }
   ],
   "source": [
    "T = (1, 2, 3, 'dog')\n",
    "print(T)\n",
    "print(T[0:2])"
   ]
  },
  {
   "cell_type": "markdown",
   "metadata": {
    "slideshow": {
     "slide_type": "fragment"
    }
   },
   "source": [
    "The main difference is that tuples are **immutable**, meaning the elements cannot be changed once they have been declared for the first time. This can be useful for storing values that should never change, and you don't want to accidentally overwrite."
   ]
  },
  {
   "cell_type": "code",
   "execution_count": 62,
   "metadata": {
    "slideshow": {
     "slide_type": "fragment"
    }
   },
   "outputs": [],
   "source": [
    "# # this should cause an error, can't overwrite a tuple element\n",
    "# T[0] = 10"
   ]
  },
  {
   "cell_type": "markdown",
   "metadata": {
    "slideshow": {
     "slide_type": "fragment"
    }
   },
   "source": [
    "However, note that the entire tuple can be overwritten using a new value. It's just individual elements that cannot be altered."
   ]
  },
  {
   "cell_type": "code",
   "execution_count": 63,
   "metadata": {
    "slideshow": {
     "slide_type": "fragment"
    }
   },
   "outputs": [
    {
     "name": "stdout",
     "output_type": "stream",
     "text": [
      "(5, 8, 'cat')\n",
      "5\n"
     ]
    }
   ],
   "source": [
    "# can overwrite tuple with another whole tuple\n",
    "T = (1, 2, 3, 'dog')\n",
    "T = (5, 8, 'cat')\n",
    "print(T)\n",
    "\n",
    "# or with a non-tuple\n",
    "T = (1, 2, 3, 'dog')\n",
    "T = 5  \n",
    "print(T)"
   ]
  },
  {
   "cell_type": "markdown",
   "metadata": {
    "slideshow": {
     "slide_type": "slide"
    }
   },
   "source": [
    "### Dictionaries\n",
    "Another very useful data structure in Python is the dictionary, enclosed within curly brackets ``{}``. A dictionary consists of a collection of **key-value pairs**, separated by commas. For each pair, the key and value are separated by a colon. Both the key and the value can be any variable type or data structure. An example will make this more clear. "
   ]
  },
  {
   "cell_type": "code",
   "execution_count": 64,
   "metadata": {
    "slideshow": {
     "slide_type": "slide"
    }
   },
   "outputs": [
    {
     "name": "stdout",
     "output_type": "stream",
     "text": [
      "{'first_name': 'Jamal', 'last_name': 'Doe', 'age': 23, 'department': 'ESE'}\n",
      "dict_keys(['first_name', 'last_name', 'age', 'department'])\n",
      "dict_values(['Jamal', 'Doe', 23, 'ESE'])\n"
     ]
    }
   ],
   "source": [
    "student1 = {'first_name': 'Jamal', 'last_name': 'Doe', 'age': 23, 'department': 'ESE'}\n",
    "print(student1)\n",
    "print(student1.keys())\n",
    "print(student1.values())"
   ]
  },
  {
   "cell_type": "markdown",
   "metadata": {
    "slideshow": {
     "slide_type": "fragment"
    }
   },
   "source": [
    "We can access and change the value associated with any key as follows:"
   ]
  },
  {
   "cell_type": "code",
   "execution_count": 65,
   "metadata": {
    "slideshow": {
     "slide_type": "fragment"
    }
   },
   "outputs": [
    {
     "name": "stdout",
     "output_type": "stream",
     "text": [
      "23\n",
      "24\n"
     ]
    }
   ],
   "source": [
    "print(student1['age'])\n",
    "student1['age'] += 1\n",
    "print(student1['age'])"
   ]
  },
  {
   "cell_type": "markdown",
   "metadata": {
    "slideshow": {
     "slide_type": "fragment"
    }
   },
   "source": [
    "We can also add new key-value pairs after declaration:"
   ]
  },
  {
   "cell_type": "code",
   "execution_count": 66,
   "metadata": {
    "slideshow": {
     "slide_type": "fragment"
    }
   },
   "outputs": [
    {
     "name": "stdout",
     "output_type": "stream",
     "text": [
      "{'first_name': 'Jamal', 'last_name': 'Doe', 'age': 24, 'department': 'ESE', 'email': 'jamal.doe@unc.edu'}\n"
     ]
    }
   ],
   "source": [
    "student1['email'] = 'jamal.doe@unc.edu'\n",
    "print(student1)"
   ]
  },
  {
   "cell_type": "markdown",
   "metadata": {
    "slideshow": {
     "slide_type": "fragment"
    }
   },
   "source": [
    "It can sometimes be helpful to create a list out of either the keys or values:"
   ]
  },
  {
   "cell_type": "code",
   "execution_count": 67,
   "metadata": {
    "slideshow": {
     "slide_type": "fragment"
    }
   },
   "outputs": [
    {
     "name": "stdout",
     "output_type": "stream",
     "text": [
      "['first_name', 'last_name', 'age', 'department', 'email']\n",
      "['Jamal', 'Doe', 24, 'ESE', 'jamal.doe@unc.edu']\n"
     ]
    }
   ],
   "source": [
    "print( list(student1.keys()) )\n",
    "print( list(student1.values()) )"
   ]
  },
  {
   "cell_type": "markdown",
   "metadata": {
    "slideshow": {
     "slide_type": "slide"
    }
   },
   "source": [
    "Dictionaries can be added to lists"
   ]
  },
  {
   "cell_type": "code",
   "execution_count": 68,
   "metadata": {
    "slideshow": {
     "slide_type": "fragment"
    }
   },
   "outputs": [
    {
     "name": "stdout",
     "output_type": "stream",
     "text": [
      "[{'first_name': 'Jamal', 'last_name': 'Doe', 'age': 24, 'department': 'ESE', 'email': 'jamal.doe@unc.edu'}, {'first_name': 'Jane', 'last_name': 'Doer', 'age': 26, 'department': 'EPI', 'email': 'jane.doer@unc.edu'}]\n"
     ]
    }
   ],
   "source": [
    "student2 = {'first_name': 'Jane', \n",
    "            'last_name': 'Doer', \n",
    "            'age': 26, \n",
    "            'department': 'EPI', \n",
    "            'email':'jane.doer@unc.edu'}\n",
    "students = [student1, student2]\n",
    "print(students)"
   ]
  },
  {
   "cell_type": "markdown",
   "metadata": {
    "slideshow": {
     "slide_type": "fragment"
    }
   },
   "source": [
    "And vice versa"
   ]
  },
  {
   "cell_type": "code",
   "execution_count": 69,
   "metadata": {
    "slideshow": {
     "slide_type": "fragment"
    }
   },
   "outputs": [
    {
     "name": "stdout",
     "output_type": "stream",
     "text": [
      "{'first_name': 'Jamal', 'last_name': 'Doe', 'age': 24, 'department': 'ESE', 'email': 'jamal.doe@unc.edu', 'course_load': ['ENVR 890-001', 'ENVR 755', 'SPGH 600']}\n"
     ]
    }
   ],
   "source": [
    "student1['course_load'] = ['ENVR 890-001', 'ENVR 755', 'SPGH 600']\n",
    "print(student1)"
   ]
  },
  {
   "cell_type": "markdown",
   "metadata": {
    "slideshow": {
     "slide_type": "fragment"
    }
   },
   "source": [
    "And we can even create a dictionary with dictionary values:"
   ]
  },
  {
   "cell_type": "code",
   "execution_count": 70,
   "metadata": {
    "slideshow": {
     "slide_type": "fragment"
    }
   },
   "outputs": [
    {
     "name": "stdout",
     "output_type": "stream",
     "text": [
      "{'0000-00001': {'first_name': 'Jamal', 'last_name': 'Doe', 'age': 24, 'department': 'ESE', 'email': 'jamal.doe@unc.edu', 'course_load': ['ENVR 890-001', 'ENVR 755', 'SPGH 600']}, '0000-00002': {'first_name': 'Jane', 'last_name': 'Doer', 'age': 26, 'department': 'EPI', 'email': 'jane.doer@unc.edu'}}\n"
     ]
    }
   ],
   "source": [
    "PID_dict = {'0000-00001': student1, '0000-00002': student2}\n",
    "print(PID_dict)"
   ]
  },
  {
   "cell_type": "code",
   "execution_count": 71,
   "metadata": {
    "slideshow": {
     "slide_type": "fragment"
    }
   },
   "outputs": [
    {
     "name": "stdout",
     "output_type": "stream",
     "text": [
      "{'first_name': 'Jamal', 'last_name': 'Doe', 'age': 24, 'department': 'ESE', 'email': 'jamal.doe@unc.edu', 'course_load': ['ENVR 890-001', 'ENVR 755', 'SPGH 600']}\n"
     ]
    }
   ],
   "source": [
    "print( PID_dict['0000-00001'])"
   ]
  },
  {
   "cell_type": "code",
   "execution_count": 72,
   "metadata": {
    "slideshow": {
     "slide_type": "fragment"
    }
   },
   "outputs": [
    {
     "name": "stdout",
     "output_type": "stream",
     "text": [
      "jamal.doe@unc.edu\n"
     ]
    }
   ],
   "source": [
    "print(PID_dict['0000-00001']['email'])"
   ]
  },
  {
   "cell_type": "markdown",
   "metadata": {
    "slideshow": {
     "slide_type": "slide"
    }
   },
   "source": [
    "### In-class exercises\n",
    "Create and print the following objects, each in their own code cell:\n",
    "1. \"l1\": a list with elements 1, 4, and -2.3\n",
    "1. \"l2\": a list with elements \"cat\", \"dog\", \"fish\", \"cat\", \"dog\", \"fish\", \"cat\", \"dog\", \"fish\". Try to do this without typing everything three times (hint: ``*`` operator).\n",
    "1. \"l3\": a list with the integers from -2 to 8. Try to do this without typing everything (hint: ``list/range``).\n",
    "1. \"i1\": an integer with the length of l3\n",
    "1. \"l4\": a list containing the first two elements of l1, the second, third, and fourth element of l2, and the last three elements of l3. Try to do this without typing everything (hint: retrieve values with indexes/slices, and combine them with the ``+`` operator).\n",
    "1. \"t1\": a tuple with a single element, \"0\"\n",
    "1. \"t2\": a tuple with the elements 5, 1, -3, -7, -11. Try to do this without typing everything (hint: ``tuple/range``).\n",
    "1. \"d1\": a dictionary with two keys, \"Fact\" and \"Fiction\". The values for these keys are True and False, respectively.\n",
    "1. \"d2\": a dictionary with five keys, \"l1\", \"l2\", \"t1\", \"t2\", \"d1\". The value for each key is the corresponding object."
   ]
  }
 ],
 "metadata": {
  "celltoolbar": "Slideshow",
  "kernelspec": {
   "display_name": "Python 3",
   "language": "python",
   "name": "python3"
  },
  "language_info": {
   "codemirror_mode": {
    "name": "ipython",
    "version": 3
   },
   "file_extension": ".py",
   "mimetype": "text/x-python",
   "name": "python",
   "nbconvert_exporter": "python",
   "pygments_lexer": "ipython3",
   "version": "3.6.9"
  }
 },
 "nbformat": 4,
 "nbformat_minor": 4
}
