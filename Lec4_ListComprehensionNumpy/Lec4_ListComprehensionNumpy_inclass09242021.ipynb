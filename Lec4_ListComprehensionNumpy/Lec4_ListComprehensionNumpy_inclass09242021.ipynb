{
 "cells": [
  {
   "cell_type": "markdown",
   "metadata": {
    "slideshow": {
     "slide_type": "slide"
    }
   },
   "source": [
    "# Lecture 4: List comprehension & NumPy\n",
    "ENVR 890-010: Python for Environmental Research, Fall 2021\n",
    "\n",
    "September 10, 2021\n",
    "\n",
    "By Andrew Hamilton. Some material adapted from Greg Characklis, David Gorelick and H.B. Zeff."
   ]
  },
  {
   "cell_type": "markdown",
   "metadata": {
    "slideshow": {
     "slide_type": "fragment"
    }
   },
   "source": [
    "## Summary\n",
    "In this lecture, we will first learn about using **list comprehensions** to write for loops in a more efficient and compact way. We will then move beyond the standard data structures (list, tuple, dictionary) to a more advanced data structure called a **NumPy array**. Along the way, we will learn how **logical indexing** can be used with NumPy as a powerful tool to retrieve and manipulate particular subsets of data."
   ]
  },
  {
   "cell_type": "markdown",
   "metadata": {
    "slideshow": {
     "slide_type": "slide"
    }
   },
   "source": [
    "## List comprehensions\n",
    "As we learned last week, **loops** can be used to execute a code block for every item in a list. For example, to a list of all integer degrees between 0 and 90 converted to radians, we can write:"
   ]
  },
  {
   "cell_type": "code",
   "execution_count": 1,
   "metadata": {
    "slideshow": {
     "slide_type": "fragment"
    }
   },
   "outputs": [],
   "source": [
    "import math\n",
    "\n",
    "def degrees_to_radians(degrees):\n",
    "    return degrees * (2 * math.pi / 360)"
   ]
  },
  {
   "cell_type": "code",
   "execution_count": null,
   "metadata": {
    "slideshow": {
     "slide_type": "fragment"
    }
   },
   "outputs": [],
   "source": [
    "### create list of degrees\n",
    "degrees = list(range(0, 91))\n",
    "\n",
    "### use for loop to create list of radians\n",
    "radians = []\n",
    "for d in range(0, 91):\n",
    "    radians.append( degrees_to_radians(d) )\n",
    "    \n",
    "print(degrees)\n",
    "print()\n",
    "print(radians)\n",
    "print()\n",
    "print( len(radians) )"
   ]
  },
  {
   "cell_type": "markdown",
   "metadata": {
    "slideshow": {
     "slide_type": "fragment"
    }
   },
   "source": [
    "[**List comprehensions**](https://docs.python.org/3/tutorial/datastructures.html) are a way to write for loops in a more compact and computationally efficient way:"
   ]
  },
  {
   "cell_type": "code",
   "execution_count": null,
   "metadata": {
    "slideshow": {
     "slide_type": "fragment"
    }
   },
   "outputs": [],
   "source": [
    "### do the same thing with list comprehension instead of for loop\n",
    "radians_lc = [degrees_to_radians(d) for d in degrees]\n",
    "\n",
    "print(radians_lc)\n",
    "print()\n",
    "### check that the two lists are equivalent\n",
    "print(radians == radians_lc)"
   ]
  },
  {
   "cell_type": "markdown",
   "metadata": {
    "slideshow": {
     "slide_type": "fragment"
    }
   },
   "source": [
    "The list comprehension syntax can be thought of as an **expression** (e.g., what to do to each element) followed by a **for clause**, all surrounded by brackets. \n",
    "\n",
    "We can include an **if clause** to include only certain elements (for example, those whose degrees are divisible by 10) in the final list:"
   ]
  },
  {
   "cell_type": "code",
   "execution_count": null,
   "metadata": {
    "slideshow": {
     "slide_type": "fragment"
    }
   },
   "outputs": [],
   "source": [
    "### first use for loop combined with if statement\n",
    "radians_divisible10 = []\n",
    "for d in degrees:\n",
    "    if d % 10 == 0:\n",
    "        radians_divisible10.append( degrees_to_radians(d) )\n",
    "print(radians_divisible10)\n",
    "print()\n",
    "print(len(radians_divisible10))"
   ]
  },
  {
   "cell_type": "code",
   "execution_count": null,
   "metadata": {
    "slideshow": {
     "slide_type": "fragment"
    }
   },
   "outputs": [],
   "source": [
    "### now repeat with list comprehension\n",
    "radians_divisible10_lc = [degrees_to_radians(d) for d in degrees if d % 10 == 0]\n",
    "\n",
    "print(radians_divisible10_lc)\n",
    "print()\n",
    "\n",
    "print(radians_divisible10 == radians_divisible10_lc)"
   ]
  },
  {
   "cell_type": "markdown",
   "metadata": {
    "slideshow": {
     "slide_type": "slide"
    }
   },
   "source": [
    "### In class exercise\n",
    "Assume we work for the county office of environmental quality, and are administering a program that will provide subsidized water quality assessments for all households that rely on private groundwater wells and have incomes less than \\$30,000 per year. \n",
    "\n",
    "First we will create random demographic data for 1000 households (but pretend for the exercise that this was retrieved from a county database)."
   ]
  },
  {
   "cell_type": "code",
   "execution_count": null,
   "metadata": {
    "slideshow": {
     "slide_type": "fragment"
    }
   },
   "outputs": [],
   "source": [
    "import random\n",
    "## numeric index for each household in county\n",
    "household = ['H' + str(i) for i in list(range(1000))]\n",
    "# print(household)"
   ]
  },
  {
   "cell_type": "code",
   "execution_count": null,
   "metadata": {
    "slideshow": {
     "slide_type": "fragment"
    }
   },
   "outputs": [],
   "source": [
    "## randomly assign water source for each household\n",
    "water = [random.choices(['municipal', 'private'], weights = [0.6, 0.4], k=1)[0] for h in household]\n",
    "# print(water)"
   ]
  },
  {
   "cell_type": "code",
   "execution_count": null,
   "metadata": {
    "slideshow": {
     "slide_type": "fragment"
    }
   },
   "outputs": [],
   "source": [
    "## randomly assign income for each household from Normal/Gaussian distribution\n",
    "income = [max(random.gauss(50000, 20000), 0) for h in household]\n",
    "# print(income)"
   ]
  },
  {
   "cell_type": "markdown",
   "metadata": {},
   "source": [
    "1. Use list comprehension to find the list of households with a private water source? How many are there?"
   ]
  },
  {
   "cell_type": "code",
   "execution_count": null,
   "metadata": {},
   "outputs": [],
   "source": [
    "private_hh = [household[i] for i in range(1000) if water[i] == 'private']\n",
    "len(private_hh)"
   ]
  },
  {
   "cell_type": "code",
   "execution_count": null,
   "metadata": {},
   "outputs": [],
   "source": [
    "# private_hh = []\n",
    "# for i,hh in enumerate(household):\n",
    "#     if water[i] == 'private':\n",
    "#         private_hh.append(hh)\n",
    "# print(private_hh)"
   ]
  },
  {
   "cell_type": "code",
   "execution_count": null,
   "metadata": {},
   "outputs": [],
   "source": [
    "### enumerate example\n",
    "l = ['r','g']\n",
    "# for e in l:\n",
    "#     print(e)\n",
    "    \n",
    "# for i in range(len(l)):\n",
    "#     print(i)\n",
    "    \n",
    "# for i in range(len(l)):\n",
    "#     print(l[i])\n",
    "\n",
    "# for i,e in enumerate(l):\n",
    "#     print(i, e)\n",
    "\n",
    "for i in range(len(l)):\n",
    "    print(i, l[i])"
   ]
  },
  {
   "cell_type": "markdown",
   "metadata": {
    "slideshow": {
     "slide_type": "fragment"
    }
   },
   "source": [
    "2. How many households meet both criteria for testing?"
   ]
  },
  {
   "cell_type": "code",
   "execution_count": null,
   "metadata": {},
   "outputs": [],
   "source": [
    "# eligible = [household[i] for i in range(len(household)) if (water[i] == 'private') and (income[i] < 30000) ]\n",
    "# print(len(eligible))\n",
    "\n",
    "# eligible = [private_hh[i] for i in range(len(private_hh)) if (income[i] < 30000) ]\n",
    "# print(len(eligible))"
   ]
  },
  {
   "cell_type": "markdown",
   "metadata": {},
   "source": [
    "3. What are the average incomes for households with municipal and private water, respectively? Use the statistics.mean() function."
   ]
  },
  {
   "cell_type": "code",
   "execution_count": null,
   "metadata": {},
   "outputs": [],
   "source": [
    "import statistics\n",
    "muni_income = [income[i] for i in range(len(household)) if (water[i] == 'municipal') ]\n",
    "print(statistics.mean(muni_income))"
   ]
  },
  {
   "cell_type": "code",
   "execution_count": null,
   "metadata": {},
   "outputs": [],
   "source": [
    "### import statistics library\n",
    "import statistics\n",
    "\n",
    "### test example to show how to use mean function\n",
    "test_mean = statistics.mean([1,2,3])\n",
    "print(test_mean)"
   ]
  },
  {
   "cell_type": "markdown",
   "metadata": {
    "slideshow": {
     "slide_type": "slide"
    }
   },
   "source": [
    "## NumPy\n",
    "[NumPy](https://numpy.org/doc/stable/) is one of the most popular packages for scientific computing and data science, and is included in the standard Anaconda installation. It is commonly imported with the **alias** ``np``. "
   ]
  },
  {
   "cell_type": "code",
   "execution_count": 2,
   "metadata": {
    "slideshow": {
     "slide_type": "fragment"
    }
   },
   "outputs": [],
   "source": [
    "import numpy as np"
   ]
  },
  {
   "cell_type": "markdown",
   "metadata": {
    "slideshow": {
     "slide_type": "slide"
    }
   },
   "source": [
    "### Creating NumPy arrays\n",
    "NumPy supports a new type of data structure: the **NumPy array**. NumPy arrays are designed to handle large, multi-dimensional arrays of numbers much more easily and efficiently than standard lists."
   ]
  },
  {
   "cell_type": "code",
   "execution_count": null,
   "metadata": {
    "slideshow": {
     "slide_type": "fragment"
    }
   },
   "outputs": [],
   "source": [
    "# here is a standard list with two dimensions\n",
    "l = [[1, 2, 3, 4, 5], [10, 9, 8, 7, 6]]\n",
    "print(l, type(l))"
   ]
  },
  {
   "cell_type": "code",
   "execution_count": null,
   "metadata": {
    "slideshow": {
     "slide_type": "fragment"
    }
   },
   "outputs": [],
   "source": [
    "# create a 2D numpy array from l\n",
    "a = np.array(l)\n",
    "print(a, type(a))"
   ]
  },
  {
   "cell_type": "markdown",
   "metadata": {
    "slideshow": {
     "slide_type": "fragment"
    }
   },
   "source": [
    "Note that, unlike the basic data structures such as lists, **all elements in a NumPy array must be the same type**. Although string types are allowed, NumPy is most commonly used with numeric types such as int and float."
   ]
  },
  {
   "cell_type": "markdown",
   "metadata": {
    "slideshow": {
     "slide_type": "fragment"
    }
   },
   "source": [
    "We access the elements the same way as lists:"
   ]
  },
  {
   "cell_type": "code",
   "execution_count": null,
   "metadata": {
    "slideshow": {
     "slide_type": "fragment"
    }
   },
   "outputs": [],
   "source": [
    "print(l[1][0])\n",
    "print(a[1][0])"
   ]
  },
  {
   "cell_type": "markdown",
   "metadata": {
    "slideshow": {
     "slide_type": "fragment"
    }
   },
   "source": [
    "Or, alternatively, in a single brackets and separated by a comma:"
   ]
  },
  {
   "cell_type": "code",
   "execution_count": null,
   "metadata": {
    "slideshow": {
     "slide_type": "fragment"
    }
   },
   "outputs": [],
   "source": [
    "print(a[0, 2])"
   ]
  },
  {
   "cell_type": "markdown",
   "metadata": {
    "slideshow": {
     "slide_type": "fragment"
    }
   },
   "source": [
    "We can get the number of dimensions and the shape of an array using its ``ndim`` and ``shape`` **properties**. For a 2D array, the shape is (number of rows, number of columns). For larger arrays, it always goes from the innermost set of brackets to the outermost set of brackets."
   ]
  },
  {
   "cell_type": "code",
   "execution_count": null,
   "metadata": {
    "slideshow": {
     "slide_type": "fragment"
    }
   },
   "outputs": [],
   "source": [
    "print( a.ndim )\n",
    "print( a.shape )\n",
    "print()\n",
    "\n",
    "### loop over rows\n",
    "for i in range(a.shape[0]):\n",
    "    ### loop over columns\n",
    "    for j in range(a.shape[1]):\n",
    "        print( a[i, j])\n",
    "    print()"
   ]
  },
  {
   "cell_type": "markdown",
   "metadata": {
    "slideshow": {
     "slide_type": "fragment"
    }
   },
   "source": [
    "We can also do multi-dimensional **slices**"
   ]
  },
  {
   "cell_type": "code",
   "execution_count": null,
   "metadata": {
    "slideshow": {
     "slide_type": "fragment"
    }
   },
   "outputs": [],
   "source": [
    "print(a[:, 1:4])"
   ]
  },
  {
   "cell_type": "markdown",
   "metadata": {
    "slideshow": {
     "slide_type": "slide"
    }
   },
   "source": [
    "NumPy also has handy **functions** for creating different types of arrays. For example, we can create a new array filled with ones or zeros:"
   ]
  },
  {
   "cell_type": "code",
   "execution_count": null,
   "metadata": {
    "slideshow": {
     "slide_type": "fragment"
    }
   },
   "outputs": [],
   "source": [
    "# with a single argument, we will get a 1D array of that length\n",
    "a = np.ones(3)\n",
    "print(a, a.shape)"
   ]
  },
  {
   "cell_type": "code",
   "execution_count": null,
   "metadata": {
    "scrolled": false,
    "slideshow": {
     "slide_type": "fragment"
    }
   },
   "outputs": [],
   "source": [
    "# alternatively, we can give a tuple or list for multi-dimensional arrays\n",
    "a = np.zeros((3, 10, 20))\n",
    "print(a, a.shape)"
   ]
  },
  {
   "cell_type": "markdown",
   "metadata": {
    "slideshow": {
     "slide_type": "slide"
    }
   },
   "source": [
    "We can also create **sequences** of numbers easily (similar to list(range()) for lists):"
   ]
  },
  {
   "cell_type": "code",
   "execution_count": null,
   "metadata": {
    "slideshow": {
     "slide_type": "fragment"
    }
   },
   "outputs": [],
   "source": [
    "# with one argument, it is assumed to start at zero and count up by one until it reaches your number (not inclusive, it will stop before your number)\n",
    "a = np.arange(10)\n",
    "print(a, type(a))"
   ]
  },
  {
   "cell_type": "code",
   "execution_count": null,
   "metadata": {
    "slideshow": {
     "slide_type": "fragment"
    }
   },
   "outputs": [],
   "source": [
    "# with two arguments, it will start at the 1st number and count up by 1 until reaching the 2nd number\n",
    "a = np.arange(100, 120)\n",
    "print(a)"
   ]
  },
  {
   "cell_type": "code",
   "execution_count": null,
   "metadata": {
    "slideshow": {
     "slide_type": "fragment"
    }
   },
   "outputs": [],
   "source": [
    "# with three arguments, it will start at the 1st and count by increments of the 3rd number until it reaches the 2rd number (again not inclusive)\n",
    "a = np.arange(10, -21, -2.5)\n",
    "print(a)"
   ]
  },
  {
   "cell_type": "markdown",
   "metadata": {
    "slideshow": {
     "slide_type": "slide"
    }
   },
   "source": [
    "We can draw **random samples** from a normal distribution (or many other distributions). NumPy has functions for creating whole arrays at a time, rather than the one-by-one approach needed for the ``random`` module."
   ]
  },
  {
   "cell_type": "code",
   "execution_count": null,
   "metadata": {
    "slideshow": {
     "slide_type": "fragment"
    }
   },
   "outputs": [],
   "source": [
    "a = np.random.normal(loc = 10, scale = 8, size = (10, 10))\n",
    "print(a)"
   ]
  },
  {
   "cell_type": "markdown",
   "metadata": {
    "slideshow": {
     "slide_type": "slide"
    }
   },
   "source": [
    "### Doing math with NumPy\n",
    "NumPy makes it very easy to do **element-wise** arithmetic within and between arrays. "
   ]
  },
  {
   "cell_type": "code",
   "execution_count": null,
   "metadata": {
    "slideshow": {
     "slide_type": "fragment"
    }
   },
   "outputs": [],
   "source": [
    "a = np.array([1, 2, 3])\n",
    "b = a + 3\n",
    "print(a)\n",
    "print(b)"
   ]
  },
  {
   "cell_type": "code",
   "execution_count": null,
   "metadata": {
    "slideshow": {
     "slide_type": "fragment"
    }
   },
   "outputs": [],
   "source": [
    "c = a * 2\n",
    "print(c)"
   ]
  },
  {
   "cell_type": "markdown",
   "metadata": {},
   "source": [
    "Note this behavior is different than for lists, where \"+\" means append and \"*\" means replicate. For NumPy, the operations are simply applied to each element."
   ]
  },
  {
   "cell_type": "code",
   "execution_count": null,
   "metadata": {
    "slideshow": {
     "slide_type": "fragment"
    }
   },
   "outputs": [],
   "source": [
    "d = a ** 2\n",
    "print(d)"
   ]
  },
  {
   "cell_type": "code",
   "execution_count": null,
   "metadata": {
    "slideshow": {
     "slide_type": "fragment"
    }
   },
   "outputs": [],
   "source": [
    "e = a + d\n",
    "print(e)"
   ]
  },
  {
   "cell_type": "code",
   "execution_count": null,
   "metadata": {
    "slideshow": {
     "slide_type": "fragment"
    }
   },
   "outputs": [],
   "source": [
    "f = a ** a\n",
    "print(f)"
   ]
  },
  {
   "cell_type": "markdown",
   "metadata": {
    "slideshow": {
     "slide_type": "slide"
    }
   },
   "source": [
    "NumPy also has many useful functions that perform more complex **mathematical operations** on these arrays. Below are some examples, and many more can be found [here](https://www.geeksforgeeks.org/numpy-mathematical-function/)"
   ]
  },
  {
   "cell_type": "code",
   "execution_count": null,
   "metadata": {
    "slideshow": {
     "slide_type": "fragment"
    }
   },
   "outputs": [],
   "source": [
    "a = np.random.normal(loc = 10, scale = 8, size = (10, 10))\n",
    "print(a)\n",
    "print()\n",
    "\n",
    "# statistics\n",
    "print(f'Min: {a.min()}')\n",
    "print()"
   ]
  },
  {
   "cell_type": "code",
   "execution_count": null,
   "metadata": {
    "slideshow": {
     "slide_type": "fragment"
    }
   },
   "outputs": [],
   "source": [
    "print(f'Max of each row: {a.max(axis=1)}' )\n",
    "print()"
   ]
  },
  {
   "cell_type": "code",
   "execution_count": null,
   "metadata": {
    "slideshow": {
     "slide_type": "fragment"
    }
   },
   "outputs": [],
   "source": [
    "print(f'Mean of each column: {a.mean(axis=0)}' )\n",
    "print()"
   ]
  },
  {
   "cell_type": "code",
   "execution_count": null,
   "metadata": {
    "slideshow": {
     "slide_type": "fragment"
    }
   },
   "outputs": [],
   "source": [
    "print(f'Std: {a.std()}' )\n",
    "print()"
   ]
  },
  {
   "cell_type": "code",
   "execution_count": null,
   "metadata": {
    "slideshow": {
     "slide_type": "fragment"
    }
   },
   "outputs": [],
   "source": [
    "print(f'5th percentile: {np.quantile(a, 0.05)}' )\n",
    "print()"
   ]
  },
  {
   "cell_type": "code",
   "execution_count": null,
   "metadata": {
    "slideshow": {
     "slide_type": "fragment"
    }
   },
   "outputs": [],
   "source": [
    "print(f'Sum of each row: {a.sum(axis=1)}')"
   ]
  },
  {
   "cell_type": "code",
   "execution_count": null,
   "metadata": {
    "slideshow": {
     "slide_type": "fragment"
    }
   },
   "outputs": [],
   "source": [
    "# sort each row\n",
    "print( np.sort(a, axis=1) )"
   ]
  },
  {
   "cell_type": "code",
   "execution_count": null,
   "metadata": {
    "slideshow": {
     "slide_type": "fragment"
    }
   },
   "outputs": [],
   "source": [
    "# absolute value of each element\n",
    "print( np.abs(a) )"
   ]
  },
  {
   "cell_type": "code",
   "execution_count": null,
   "metadata": {
    "slideshow": {
     "slide_type": "fragment"
    }
   },
   "outputs": [],
   "source": [
    "# exponential\n",
    "print( np.exp(a) )"
   ]
  },
  {
   "cell_type": "code",
   "execution_count": null,
   "metadata": {
    "scrolled": false,
    "slideshow": {
     "slide_type": "fragment"
    }
   },
   "outputs": [],
   "source": [
    "# square root. \n",
    "print( np.sqrt(a) )"
   ]
  },
  {
   "cell_type": "markdown",
   "metadata": {
    "slideshow": {
     "slide_type": "fragment"
    }
   },
   "source": [
    "Don't be alarmed by the red \"RuntimeWarning\" here. Usually as long as it is a warning, not an error, you are ok. This warning relates to the special \"nan\" (Not A Number) values that you see above. These occur when we try to take the square root of a negative number. NumPy returns this special object (np.nan) when we try to do calculations that are undefined."
   ]
  },
  {
   "cell_type": "markdown",
   "metadata": {
    "slideshow": {
     "slide_type": "slide"
    }
   },
   "source": [
    "Rather than element-wise operations, we can also do **matrix operations**. (If your research involves linear algebra, see [here](https://www.geeksforgeeks.org/numpy-linear-algebra/?ref=lbp) for more examples.)"
   ]
  },
  {
   "cell_type": "code",
   "execution_count": null,
   "metadata": {
    "slideshow": {
     "slide_type": "fragment"
    }
   },
   "outputs": [],
   "source": [
    "A = a[:3, :3]\n",
    "print(A)\n",
    "print()"
   ]
  },
  {
   "cell_type": "code",
   "execution_count": null,
   "metadata": {
    "slideshow": {
     "slide_type": "fragment"
    }
   },
   "outputs": [],
   "source": [
    "B = a[-3:, -3:]\n",
    "print(B)"
   ]
  },
  {
   "cell_type": "code",
   "execution_count": null,
   "metadata": {
    "slideshow": {
     "slide_type": "fragment"
    }
   },
   "outputs": [],
   "source": [
    "# matrix multiplication\n",
    "print( np.matmul(A, B) )"
   ]
  },
  {
   "cell_type": "code",
   "execution_count": null,
   "metadata": {
    "slideshow": {
     "slide_type": "fragment"
    }
   },
   "outputs": [],
   "source": [
    "# determinant\n",
    "print( np.linalg.det(A) )"
   ]
  },
  {
   "cell_type": "markdown",
   "metadata": {
    "slideshow": {
     "slide_type": "slide"
    }
   },
   "source": [
    "### Logical indexing\n",
    "**Logical indexing** is a powerful way to manipulate parts of your data that meet certain conditions. The idea is to create a NumPy array of Boolean variables, and then use this array to index a new array. For example, we can change all undefined elements in the array to zero as follows:"
   ]
  },
  {
   "cell_type": "code",
   "execution_count": null,
   "metadata": {
    "slideshow": {
     "slide_type": "fragment"
    }
   },
   "outputs": [],
   "source": [
    "### create array of square roots, some of which are undefined\n",
    "a = np.random.normal(loc = 10, scale = 8, size = (10, 10))\n",
    "b = np.sqrt(a)\n",
    "print(b)"
   ]
  },
  {
   "cell_type": "code",
   "execution_count": null,
   "metadata": {
    "slideshow": {
     "slide_type": "fragment"
    }
   },
   "outputs": [],
   "source": [
    "### create boolean array with \"True\" everywhere there is an \"nan\" value, using np.isnan() function\n",
    "c = np.isnan(b)\n",
    "print(c)"
   ]
  },
  {
   "cell_type": "code",
   "execution_count": null,
   "metadata": {
    "slideshow": {
     "slide_type": "fragment"
    }
   },
   "outputs": [],
   "source": [
    "### create a copy of b, then reset all nan's to 0 using logical indexing\n",
    "d = b.copy()\n",
    "d[c] = 0\n",
    "# print(b)\n",
    "print(d)"
   ]
  },
  {
   "cell_type": "markdown",
   "metadata": {
    "slideshow": {
     "slide_type": "fragment"
    }
   },
   "source": [
    "This can be thought of as a compact representation of two for loops and and one if statement:"
   ]
  },
  {
   "cell_type": "code",
   "execution_count": null,
   "metadata": {
    "slideshow": {
     "slide_type": "fragment"
    }
   },
   "outputs": [],
   "source": [
    "### equivalent operations to logical indexing with for loops & if statement\n",
    "e = b.copy()\n",
    "for i in range(e.shape[0]):\n",
    "    for j in range(e.shape[1]):\n",
    "        if np.isnan(e[i,j]):\n",
    "            e[i,j] = 0\n",
    "print(e)\n",
    "print()"
   ]
  },
  {
   "cell_type": "code",
   "execution_count": null,
   "metadata": {
    "scrolled": true,
    "slideshow": {
     "slide_type": "fragment"
    }
   },
   "outputs": [],
   "source": [
    "### compare e & d, check if each element is equivalent\n",
    "print(e == d)\n",
    "print()\n",
    "\n",
    "### check if all elements are equivalent\n",
    "print(np.all(e == d))"
   ]
  },
  {
   "cell_type": "markdown",
   "metadata": {
    "slideshow": {
     "slide_type": "fragment"
    }
   },
   "source": [
    "We can also retrieve particular elements of the NumPy array using logical indexing, which is analagous to list comprehension. However, note that we lose the shape of the array when we pick out particular elements."
   ]
  },
  {
   "cell_type": "code",
   "execution_count": null,
   "metadata": {
    "slideshow": {
     "slide_type": "fragment"
    }
   },
   "outputs": [],
   "source": [
    "print(e)"
   ]
  },
  {
   "cell_type": "code",
   "execution_count": null,
   "metadata": {},
   "outputs": [],
   "source": [
    "### which elements are greater than 4?\n",
    "f = e > 4\n",
    "print(f)"
   ]
  },
  {
   "cell_type": "code",
   "execution_count": null,
   "metadata": {},
   "outputs": [],
   "source": [
    "### get new array with just these values\n",
    "g = e[f]\n",
    "print(g)\n",
    "print()\n",
    "print(g.shape)"
   ]
  },
  {
   "cell_type": "code",
   "execution_count": null,
   "metadata": {
    "slideshow": {
     "slide_type": "fragment"
    }
   },
   "outputs": [],
   "source": [
    "### often easier to put logical condition right inside brackets instead of defining as separate variable\n",
    "g = e[e > 4]\n",
    "print(g)"
   ]
  },
  {
   "cell_type": "markdown",
   "metadata": {
    "slideshow": {
     "slide_type": "fragment"
    }
   },
   "source": [
    "To apply multiple logical operations at once, we have to use the **bitwise comparison operators** (``&`` and ``|``) rather than the normal comparison operators (``and`` and ``or``). This is because we want the \"and/or\" to be applied to each element in the array individually, rather than for the entire array at once."
   ]
  },
  {
   "cell_type": "code",
   "execution_count": null,
   "metadata": {
    "slideshow": {
     "slide_type": "fragment"
    }
   },
   "outputs": [],
   "source": [
    "lt2 = e < 2\n",
    "print(lt2)"
   ]
  },
  {
   "cell_type": "code",
   "execution_count": null,
   "metadata": {
    "slideshow": {
     "slide_type": "fragment"
    }
   },
   "outputs": [],
   "source": [
    "gte4 = e >= 4\n",
    "print(gte4)"
   ]
  },
  {
   "cell_type": "code",
   "execution_count": null,
   "metadata": {
    "slideshow": {
     "slide_type": "fragment"
    }
   },
   "outputs": [],
   "source": [
    "lt2_or_gte4 = lt2 | gte4\n",
    "print(lt2_or_gte4)"
   ]
  },
  {
   "cell_type": "code",
   "execution_count": null,
   "metadata": {},
   "outputs": [],
   "source": [
    "### this will cause an error, unlike with individual boolean variables\n",
    "# lt2_or_gte4 = lt2 or gte4"
   ]
  },
  {
   "cell_type": "code",
   "execution_count": null,
   "metadata": {
    "slideshow": {
     "slide_type": "fragment"
    }
   },
   "outputs": [],
   "source": [
    "g = e[lt2_or_gte4]\n",
    "print(g)\n",
    "print(g.shape)"
   ]
  },
  {
   "cell_type": "markdown",
   "metadata": {
    "slideshow": {
     "slide_type": "slide"
    }
   },
   "source": [
    "### In class exercise\n",
    "Let's pretend you are an air quality specialist who is investigating the [effects of wildfire smoke on PM10 pollution](https://www.climacell.co/blog/pm10-how-wildfires-actually-affect-air-quality/). Assume there is a large wildfire burning in the Bozeman, MT, area (45.677, -111.043), and you have a map of PM10 over the larger region spanning from 40 to 48 degrees latitude and -120 to -102 degrees longitude, at a grid resolution of 1 degrees. "
   ]
  },
  {
   "cell_type": "markdown",
   "metadata": {
    "slideshow": {
     "slide_type": "fragment"
    }
   },
   "source": [
    "We will make up fake data using an assumed quadratic trend centered around Bozeman, plus random noise. But the same analysis could be performed using ground measurements or satellite observations of PM10."
   ]
  },
  {
   "cell_type": "code",
   "execution_count": 3,
   "metadata": {
    "slideshow": {
     "slide_type": "fragment"
    }
   },
   "outputs": [
    {
     "name": "stdout",
     "output_type": "stream",
     "text": [
      "[-120. -119. -118. -117. -116. -115. -114. -113. -112. -111. -110. -109.\n",
      " -108. -107. -106. -105. -104. -103. -102.]\n",
      "[48. 47. 46. 45. 44. 43. 42. 41. 40.]\n"
     ]
    }
   ],
   "source": [
    "## use np.arange to create a grid of coordinates\n",
    "res = 1\n",
    "long_box = (-120, -102)\n",
    "lat_box = (40, 48)\n",
    "long_grid = np.arange(long_box[0], long_box[1] + 0.01, res)\n",
    "lat_grid = np.arange(lat_box[1], lat_box[0] - 0.01, -res)\n",
    "long_n = len(long_grid)\n",
    "lat_n = len(lat_grid)\n",
    "print(long_grid) \n",
    "print(lat_grid)"
   ]
  },
  {
   "cell_type": "code",
   "execution_count": 4,
   "metadata": {
    "slideshow": {
     "slide_type": "fragment"
    }
   },
   "outputs": [
    {
     "name": "stdout",
     "output_type": "stream",
     "text": [
      "[(-120.0, 48.0), (-119.0, 48.0), (-118.0, 48.0), (-117.0, 48.0), (-116.0, 48.0), (-115.0, 48.0), (-114.0, 48.0), (-113.0, 48.0), (-112.0, 48.0), (-111.0, 48.0), (-110.0, 48.0), (-109.0, 48.0), (-108.0, 48.0), (-107.0, 48.0), (-106.0, 48.0), (-105.0, 48.0), (-104.0, 48.0), (-103.0, 48.0), (-102.0, 48.0), (-120.0, 47.0), (-119.0, 47.0), (-118.0, 47.0), (-117.0, 47.0), (-116.0, 47.0), (-115.0, 47.0), (-114.0, 47.0), (-113.0, 47.0), (-112.0, 47.0), (-111.0, 47.0), (-110.0, 47.0), (-109.0, 47.0), (-108.0, 47.0), (-107.0, 47.0), (-106.0, 47.0), (-105.0, 47.0), (-104.0, 47.0), (-103.0, 47.0), (-102.0, 47.0), (-120.0, 46.0), (-119.0, 46.0), (-118.0, 46.0), (-117.0, 46.0), (-116.0, 46.0), (-115.0, 46.0), (-114.0, 46.0), (-113.0, 46.0), (-112.0, 46.0), (-111.0, 46.0), (-110.0, 46.0), (-109.0, 46.0), (-108.0, 46.0), (-107.0, 46.0), (-106.0, 46.0), (-105.0, 46.0), (-104.0, 46.0), (-103.0, 46.0), (-102.0, 46.0), (-120.0, 45.0), (-119.0, 45.0), (-118.0, 45.0), (-117.0, 45.0), (-116.0, 45.0), (-115.0, 45.0), (-114.0, 45.0), (-113.0, 45.0), (-112.0, 45.0), (-111.0, 45.0), (-110.0, 45.0), (-109.0, 45.0), (-108.0, 45.0), (-107.0, 45.0), (-106.0, 45.0), (-105.0, 45.0), (-104.0, 45.0), (-103.0, 45.0), (-102.0, 45.0), (-120.0, 44.0), (-119.0, 44.0), (-118.0, 44.0), (-117.0, 44.0), (-116.0, 44.0), (-115.0, 44.0), (-114.0, 44.0), (-113.0, 44.0), (-112.0, 44.0), (-111.0, 44.0), (-110.0, 44.0), (-109.0, 44.0), (-108.0, 44.0), (-107.0, 44.0), (-106.0, 44.0), (-105.0, 44.0), (-104.0, 44.0), (-103.0, 44.0), (-102.0, 44.0), (-120.0, 43.0), (-119.0, 43.0), (-118.0, 43.0), (-117.0, 43.0), (-116.0, 43.0), (-115.0, 43.0), (-114.0, 43.0), (-113.0, 43.0), (-112.0, 43.0), (-111.0, 43.0), (-110.0, 43.0), (-109.0, 43.0), (-108.0, 43.0), (-107.0, 43.0), (-106.0, 43.0), (-105.0, 43.0), (-104.0, 43.0), (-103.0, 43.0), (-102.0, 43.0), (-120.0, 42.0), (-119.0, 42.0), (-118.0, 42.0), (-117.0, 42.0), (-116.0, 42.0), (-115.0, 42.0), (-114.0, 42.0), (-113.0, 42.0), (-112.0, 42.0), (-111.0, 42.0), (-110.0, 42.0), (-109.0, 42.0), (-108.0, 42.0), (-107.0, 42.0), (-106.0, 42.0), (-105.0, 42.0), (-104.0, 42.0), (-103.0, 42.0), (-102.0, 42.0), (-120.0, 41.0), (-119.0, 41.0), (-118.0, 41.0), (-117.0, 41.0), (-116.0, 41.0), (-115.0, 41.0), (-114.0, 41.0), (-113.0, 41.0), (-112.0, 41.0), (-111.0, 41.0), (-110.0, 41.0), (-109.0, 41.0), (-108.0, 41.0), (-107.0, 41.0), (-106.0, 41.0), (-105.0, 41.0), (-104.0, 41.0), (-103.0, 41.0), (-102.0, 41.0), (-120.0, 40.0), (-119.0, 40.0), (-118.0, 40.0), (-117.0, 40.0), (-116.0, 40.0), (-115.0, 40.0), (-114.0, 40.0), (-113.0, 40.0), (-112.0, 40.0), (-111.0, 40.0), (-110.0, 40.0), (-109.0, 40.0), (-108.0, 40.0), (-107.0, 40.0), (-106.0, 40.0), (-105.0, 40.0), (-104.0, 40.0), (-103.0, 40.0), (-102.0, 40.0)]\n",
      "\n",
      "True\n"
     ]
    }
   ],
   "source": [
    "## create list of coords, check orientations\n",
    "coords = [(long, lat) for lat in lat_grid for long in long_grid]\n",
    "print(coords)\n",
    "\n",
    "\n",
    "### for-loop version of the list comprehension above:\n",
    "coords2 = []\n",
    "for lat in lat_grid:\n",
    "    for long in long_grid:\n",
    "        coords2.append( (long, lat) )\n",
    "\n",
    "print()\n",
    "print(coords2 == coords)"
   ]
  },
  {
   "cell_type": "code",
   "execution_count": 7,
   "metadata": {
    "slideshow": {
     "slide_type": "fragment"
    }
   },
   "outputs": [],
   "source": [
    "## assume a quadratic spatial trend for pm10\n",
    "long_bozeman = -111.043\n",
    "lat_bozeman = 45.677\n",
    "def quadratic_trend(long, lat):\n",
    "    return -1.3*((long - long_bozeman) **2 + (lat - lat_bozeman) **2) + 160"
   ]
  },
  {
   "cell_type": "code",
   "execution_count": 9,
   "metadata": {
    "slideshow": {
     "slide_type": "fragment"
    }
   },
   "outputs": [
    {
     "name": "stdout",
     "output_type": "stream",
     "text": [
      "[48.68856860000014, 70.67676860000013, 90.06496860000011, 106.85316860000009, 121.04136860000008, 132.62956860000006, 141.61776860000003, 148.00596860000002, 151.7941686, 152.9823686, 151.57056859999997, 147.55876859999995, 140.94696859999993, 131.73516859999992, 119.92336859999992, 105.51156859999989, 88.49976859999988, 68.88796859999987, 46.67616859999984, 53.42836860000013, 75.41656860000013, 94.80476860000012, 111.59296860000009, 125.78116860000009, 137.36936860000006, 146.35756860000004, 152.74576860000002, 156.5339686, 157.7221686, 156.31036859999998, 152.29856859999995, 145.68676859999994, 136.47496859999993, 124.66316859999992, 110.25136859999989, 93.23956859999988, 73.62776859999984, 51.41596859999983, 55.56816860000012, 77.55636860000013, 96.94456860000011, 113.7327686000001, 127.92096860000008, 139.50916860000007, 148.49736860000004, 154.88556860000003, 158.67376860000002, 159.8619686, 158.45016859999998, 154.43836859999996, 147.82656859999994, 138.61476859999993, 126.80296859999991, 112.3911685999999, 95.37936859999988, 75.76756859999985, 53.55576859999982, 55.107968600000135, 77.09616860000013, 96.48436860000012, 113.2725686000001, 127.46076860000008, 139.04896860000008, 148.03716860000006, 154.42536860000004, 158.21356860000003, 159.4017686, 157.9899686, 153.97816859999998, 147.36636859999996, 138.15456859999995, 126.34276859999991, 111.9309685999999, 94.91916859999988, 75.30736859999985, 53.09556859999984, 52.047768600000126, 74.03596860000013, 93.42416860000012, 110.2123686000001, 124.40056860000008, 135.98876860000007, 144.97696860000005, 151.36516860000003, 155.15336860000002, 156.3415686, 154.9297686, 150.91796859999997, 144.30616859999995, 135.09436859999994, 123.28256859999992, 108.8707685999999, 91.85896859999988, 72.24716859999985, 50.03536859999983, 46.38756860000014, 68.37576860000013, 87.76396860000011, 104.5521686000001, 118.74036860000008, 130.32856860000007, 139.31676860000005, 145.70496860000003, 149.49316860000002, 150.6813686, 149.26956859999999, 145.25776859999996, 138.64596859999995, 129.43416859999994, 117.62236859999992, 103.2105685999999, 86.19876859999988, 66.58696859999985, 44.37516859999984, 38.12736860000015, 60.11556860000013, 79.50376860000011, 96.2919686000001, 110.48016860000008, 122.06836860000007, 131.05656860000005, 137.44476860000003, 141.23296860000002, 142.42116860000002, 141.0093686, 136.99756859999997, 130.38576859999995, 121.17396859999994, 109.36216859999992, 94.9503685999999, 77.93856859999988, 58.326768599999866, 36.114968599999855, 27.267168600000133, 49.25536860000014, 68.64356860000012, 85.4317686000001, 99.61996860000008, 111.20816860000008, 120.19636860000006, 126.58456860000004, 130.37276860000003, 131.5609686, 130.1491686, 126.13736859999997, 119.52556859999996, 110.31376859999995, 98.50196859999991, 84.0901685999999, 67.07836859999989, 47.466568599999846, 25.254768599999835, 13.806968600000147, 35.79516860000014, 55.18336860000012, 71.9715686000001, 86.15976860000009, 97.74796860000006, 106.73616860000006, 113.12436860000004, 116.91256860000001, 118.10076860000001, 116.68896859999998, 112.67716859999997, 106.06536859999996, 96.85356859999993, 85.04176859999993, 70.6299685999999, 53.61816859999989, 34.006368599999874, 11.794568599999849]\n",
      "\n",
      "True\n"
     ]
    }
   ],
   "source": [
    "### get list with the pm10 at each coordinate\n",
    "pm10_lc = [quadratic_trend(longlat[0], longlat[1]) for longlat in coords]\n",
    "print(pm10_lc)\n",
    "\n",
    "### for loop version of the list comprehension above\n",
    "pm10_lc2 = []\n",
    "for longlat in coords:\n",
    "    long = longlat[0]\n",
    "    lat = longlat[1]\n",
    "    pollution = quadratic_trend(long, lat)\n",
    "    pm10_lc2.append(pollution)\n",
    "    \n",
    "print()\n",
    "print(pm10_lc2 == pm10_lc)"
   ]
  },
  {
   "cell_type": "code",
   "execution_count": 10,
   "metadata": {
    "slideshow": {
     "slide_type": "fragment"
    }
   },
   "outputs": [
    {
     "name": "stdout",
     "output_type": "stream",
     "text": [
      "[ 48.6885686  70.6767686  90.0649686 106.8531686 121.0413686 132.6295686\n",
      " 141.6177686 148.0059686 151.7941686 152.9823686 151.5705686 147.5587686\n",
      " 140.9469686 131.7351686 119.9233686 105.5115686  88.4997686  68.8879686\n",
      "  46.6761686  53.4283686  75.4165686  94.8047686 111.5929686 125.7811686\n",
      " 137.3693686 146.3575686 152.7457686 156.5339686 157.7221686 156.3103686\n",
      " 152.2985686 145.6867686 136.4749686 124.6631686 110.2513686  93.2395686\n",
      "  73.6277686  51.4159686  55.5681686  77.5563686  96.9445686 113.7327686\n",
      " 127.9209686 139.5091686 148.4973686 154.8855686 158.6737686 159.8619686\n",
      " 158.4501686 154.4383686 147.8265686 138.6147686 126.8029686 112.3911686\n",
      "  95.3793686  75.7675686  53.5557686  55.1079686  77.0961686  96.4843686\n",
      " 113.2725686 127.4607686 139.0489686 148.0371686 154.4253686 158.2135686\n",
      " 159.4017686 157.9899686 153.9781686 147.3663686 138.1545686 126.3427686\n",
      " 111.9309686  94.9191686  75.3073686  53.0955686  52.0477686  74.0359686\n",
      "  93.4241686 110.2123686 124.4005686 135.9887686 144.9769686 151.3651686\n",
      " 155.1533686 156.3415686 154.9297686 150.9179686 144.3061686 135.0943686\n",
      " 123.2825686 108.8707686  91.8589686  72.2471686  50.0353686  46.3875686\n",
      "  68.3757686  87.7639686 104.5521686 118.7403686 130.3285686 139.3167686\n",
      " 145.7049686 149.4931686 150.6813686 149.2695686 145.2577686 138.6459686\n",
      " 129.4341686 117.6223686 103.2105686  86.1987686  66.5869686  44.3751686\n",
      "  38.1273686  60.1155686  79.5037686  96.2919686 110.4801686 122.0683686\n",
      " 131.0565686 137.4447686 141.2329686 142.4211686 141.0093686 136.9975686\n",
      " 130.3857686 121.1739686 109.3621686  94.9503686  77.9385686  58.3267686\n",
      "  36.1149686  27.2671686  49.2553686  68.6435686  85.4317686  99.6199686\n",
      " 111.2081686 120.1963686 126.5845686 130.3727686 131.5609686 130.1491686\n",
      " 126.1373686 119.5255686 110.3137686  98.5019686  84.0901686  67.0783686\n",
      "  47.4665686  25.2547686  13.8069686  35.7951686  55.1833686  71.9715686\n",
      "  86.1597686  97.7479686 106.7361686 113.1243686 116.9125686 118.1007686\n",
      " 116.6889686 112.6771686 106.0653686  96.8535686  85.0417686  70.6299686\n",
      "  53.6181686  34.0063686  11.7945686]\n",
      "(171,)\n"
     ]
    }
   ],
   "source": [
    "### now convert list to numpy array\n",
    "pm10 = np.array(pm10_lc)\n",
    "print(pm10)\n",
    "print(pm10.shape)"
   ]
  },
  {
   "cell_type": "code",
   "execution_count": 11,
   "metadata": {
    "slideshow": {
     "slide_type": "fragment"
    }
   },
   "outputs": [
    {
     "name": "stdout",
     "output_type": "stream",
     "text": [
      "[[ 48.6885686  70.6767686  90.0649686 106.8531686 121.0413686 132.6295686\n",
      "  141.6177686 148.0059686 151.7941686 152.9823686 151.5705686 147.5587686\n",
      "  140.9469686 131.7351686 119.9233686 105.5115686  88.4997686  68.8879686\n",
      "   46.6761686]\n",
      " [ 53.4283686  75.4165686  94.8047686 111.5929686 125.7811686 137.3693686\n",
      "  146.3575686 152.7457686 156.5339686 157.7221686 156.3103686 152.2985686\n",
      "  145.6867686 136.4749686 124.6631686 110.2513686  93.2395686  73.6277686\n",
      "   51.4159686]\n",
      " [ 55.5681686  77.5563686  96.9445686 113.7327686 127.9209686 139.5091686\n",
      "  148.4973686 154.8855686 158.6737686 159.8619686 158.4501686 154.4383686\n",
      "  147.8265686 138.6147686 126.8029686 112.3911686  95.3793686  75.7675686\n",
      "   53.5557686]\n",
      " [ 55.1079686  77.0961686  96.4843686 113.2725686 127.4607686 139.0489686\n",
      "  148.0371686 154.4253686 158.2135686 159.4017686 157.9899686 153.9781686\n",
      "  147.3663686 138.1545686 126.3427686 111.9309686  94.9191686  75.3073686\n",
      "   53.0955686]\n",
      " [ 52.0477686  74.0359686  93.4241686 110.2123686 124.4005686 135.9887686\n",
      "  144.9769686 151.3651686 155.1533686 156.3415686 154.9297686 150.9179686\n",
      "  144.3061686 135.0943686 123.2825686 108.8707686  91.8589686  72.2471686\n",
      "   50.0353686]\n",
      " [ 46.3875686  68.3757686  87.7639686 104.5521686 118.7403686 130.3285686\n",
      "  139.3167686 145.7049686 149.4931686 150.6813686 149.2695686 145.2577686\n",
      "  138.6459686 129.4341686 117.6223686 103.2105686  86.1987686  66.5869686\n",
      "   44.3751686]\n",
      " [ 38.1273686  60.1155686  79.5037686  96.2919686 110.4801686 122.0683686\n",
      "  131.0565686 137.4447686 141.2329686 142.4211686 141.0093686 136.9975686\n",
      "  130.3857686 121.1739686 109.3621686  94.9503686  77.9385686  58.3267686\n",
      "   36.1149686]\n",
      " [ 27.2671686  49.2553686  68.6435686  85.4317686  99.6199686 111.2081686\n",
      "  120.1963686 126.5845686 130.3727686 131.5609686 130.1491686 126.1373686\n",
      "  119.5255686 110.3137686  98.5019686  84.0901686  67.0783686  47.4665686\n",
      "   25.2547686]\n",
      " [ 13.8069686  35.7951686  55.1833686  71.9715686  86.1597686  97.7479686\n",
      "  106.7361686 113.1243686 116.9125686 118.1007686 116.6889686 112.6771686\n",
      "  106.0653686  96.8535686  85.0417686  70.6299686  53.6181686  34.0063686\n",
      "   11.7945686]]\n",
      "\n",
      "(9, 19)\n"
     ]
    }
   ],
   "source": [
    "## reshape pm10 observations to match the lat/long shape\n",
    "pm10 = pm10.reshape([lat_n, long_n])\n",
    "print(pm10)\n",
    "print()\n",
    "print(pm10.shape)"
   ]
  },
  {
   "cell_type": "code",
   "execution_count": 12,
   "metadata": {
    "slideshow": {
     "slide_type": "fragment"
    }
   },
   "outputs": [
    {
     "data": {
      "image/png": "[encoded data removed]",
      "text/plain": [
       "<Figure size 1008x576 with 2 Axes>"
      ]
     },
     "metadata": {
      "needs_background": "light"
     },
     "output_type": "display_data"
    }
   ],
   "source": [
    "## plot values on a grid. Don't worry too much about how this works yet - we will learn about plotting in a few weeks.\n",
    "import matplotlib.pyplot as plt\n",
    "\n",
    "def plot_grid(data, long_grid, lat_grid, label):\n",
    "    fig, ax = plt.subplots(1,1, figsize=(14,8))\n",
    "    plt.imshow(data)\n",
    "    plt.colorbar(label = label)\n",
    "    plt.xlabel('Longitude')\n",
    "    plt.ylabel('Latitude')\n",
    "    ax.set_xticks(list(range(0, len(long_grid), 3)))\n",
    "    ax.set_yticks(list(range(0, len(lat_grid), 2)))\n",
    "    ax.set_xticklabels(long_grid[::3])\n",
    "    ax.set_yticklabels(lat_grid[::2])\n",
    "    \n",
    "    \n",
    "plot_grid(pm10, long_grid, lat_grid, 'PM10 (ug/m3)')"
   ]
  },
  {
   "cell_type": "code",
   "execution_count": 13,
   "metadata": {},
   "outputs": [
    {
     "data": {
      "image/png": "[encoded data removed]",
      "text/plain": [
       "<Figure size 1008x576 with 2 Axes>"
      ]
     },
     "metadata": {
      "needs_background": "light"
     },
     "output_type": "display_data"
    }
   ],
   "source": [
    "### Now use np.random.normal() to add random noise to the data, with mean and standard distribution of 0 and 5 ug/m3\n",
    "noise = np.random.normal(0,5,(lat_n, long_n))\n",
    "pm10_noisy = pm10 + noise\n",
    "\n",
    "plot_grid(pm10_noisy, long_grid, lat_grid, 'PM10 (ug/m3)')"
   ]
  },
  {
   "cell_type": "markdown",
   "metadata": {
    "slideshow": {
     "slide_type": "fragment"
    }
   },
   "source": [
    "We will now assume that this \"synthetic\" dataset is our real data set and use it for analysis. The US EPS's national 24-hour daily standard for PM10 is 150 ug/m3 (for the max 24-hour concentration in one year, averaged over three years. But we will just treat it as a one-day standard for simplicity.)\n",
    "\n",
    "Use NumPy's built-in functions to answer the following questions:\n",
    "1. What are the mean and std of PM10 across this region today?"
   ]
  },
  {
   "cell_type": "code",
   "execution_count": 20,
   "metadata": {},
   "outputs": [
    {
     "data": {
      "text/plain": [
       "107.5073485150768"
      ]
     },
     "execution_count": 20,
     "metadata": {},
     "output_type": "execute_result"
    }
   ],
   "source": [
    "### mean of whole dataset\n",
    "pm10_noisy_mean = np.mean(pm10_noisy)\n",
    "pm10_noisy_mean\n"
   ]
  },
  {
   "cell_type": "code",
   "execution_count": 21,
   "metadata": {},
   "outputs": [
    {
     "data": {
      "text/plain": [
       "37.99265102736763"
      ]
     },
     "execution_count": 21,
     "metadata": {},
     "output_type": "execute_result"
    }
   ],
   "source": [
    "### std of whole dataset\n",
    "pm10_noisy_std = np.std(pm10_noisy)\n",
    "pm10_noisy_std"
   ]
  },
  {
   "cell_type": "markdown",
   "metadata": {
    "slideshow": {
     "slide_type": "fragment"
    }
   },
   "source": [
    "2. Find the mean PM10 for each longitude and latitude."
   ]
  },
  {
   "cell_type": "code",
   "execution_count": 33,
   "metadata": {},
   "outputs": [
    {
     "data": {
      "text/plain": [
       "array([ 39.27914147,  62.54092142,  80.83872594,  97.9370825 ,\n",
       "       115.6434824 , 125.46921618, 133.59217871, 141.15214525,\n",
       "       146.7587382 , 146.10557256, 146.72127348, 139.31358641,\n",
       "       136.99966535, 127.09481412, 116.71743971,  99.30095867,\n",
       "        84.17308018,  63.85695596,  39.14464327])"
      ]
     },
     "execution_count": 33,
     "metadata": {},
     "output_type": "execute_result"
    }
   ],
   "source": [
    "### get mean of each longitude (1 mean for each column) using \"axis=0\"\n",
    "pm10_noisy_mean_long = np.mean(pm10_noisy, axis=0)\n",
    "pm10_noisy_mean_long"
   ]
  },
  {
   "cell_type": "code",
   "execution_count": 34,
   "metadata": {},
   "outputs": [
    {
     "data": {
      "text/plain": [
       "array([111.09633012, 119.2946739 , 119.73291941, 119.40762566,\n",
       "       113.78030375, 110.80066789, 102.39378963,  90.91329306,\n",
       "        80.14653321])"
      ]
     },
     "execution_count": 34,
     "metadata": {},
     "output_type": "execute_result"
    }
   ],
   "source": [
    "### get mean of each latitude (1 mean for each row) using \"axis=1\"\n",
    "pm10_noisy_mean_lat = np.mean(pm10_noisy, axis=1)\n",
    "pm10_noisy_mean_lat"
   ]
  },
  {
   "cell_type": "markdown",
   "metadata": {},
   "source": [
    "3. Which longitude has the highest mean PM10? Which latitude has the lowest PM10?"
   ]
  },
  {
   "cell_type": "code",
   "execution_count": 35,
   "metadata": {},
   "outputs": [
    {
     "name": "stdout",
     "output_type": "stream",
     "text": [
      "146.758738204466 80.14653321264991\n"
     ]
    }
   ],
   "source": [
    "### get max mean longitude, and min mean latitude\n",
    "pm10_noisy_mean_long_max = np.max(pm10_noisy_mean_long)\n",
    "pm10_noisy_mean_lat_min = np.min(pm10_noisy_mean_lat)\n",
    "print(pm10_noisy_mean_long_max, pm10_noisy_mean_lat_min)"
   ]
  },
  {
   "cell_type": "code",
   "execution_count": 46,
   "metadata": {},
   "outputs": [
    {
     "name": "stdout",
     "output_type": "stream",
     "text": [
      "[False False False False False False False False  True False False False\n",
      " False False False False False False False]\n",
      "\n",
      "[False False False False False False False False  True]\n",
      "\n",
      "longitude with max pm10: -112.00 degrees has pm10 of 146.76\n",
      "longitude with max pm10: 40.00 degrees has pm10 of 80.15\n"
     ]
    }
   ],
   "source": [
    "### now use logical indexing to get lat and long corresponding to this value\n",
    "### first get boolean array, which should have 1 True value at the max/min value\n",
    "is_max_long = pm10_noisy_mean_long == pm10_noisy_mean_long_max\n",
    "print(is_max_long)\n",
    "print()\n",
    "\n",
    "is_min_lat = pm10_noisy_mean_lat == pm10_noisy_mean_lat_min\n",
    "print(is_min_lat)\n",
    "print()\n",
    "\n",
    "### logical indexing to extract the long/lat values corresponding to the max/min\n",
    "long_max_mean_pm10_noisy = long_grid[is_max_long][0]\n",
    "print(f'longitude with max pm10: {long_max_mean_pm10_noisy:.2f} degrees has pm10 of {pm10_noisy_mean_long_max:.2f}')\n",
    "\n",
    "lat_min_mean_pm10_noisy = lat_grid[is_min_lat][0]\n",
    "print(f'longitude with max pm10: {lat_min_mean_pm10_noisy:.2f} degrees has pm10 of {pm10_noisy_mean_lat_min:.2f}')\n"
   ]
  },
  {
   "cell_type": "markdown",
   "metadata": {
    "slideshow": {
     "slide_type": "fragment"
    }
   },
   "source": [
    "3. What fraction of grid points exceed the EPA daily standard?"
   ]
  },
  {
   "cell_type": "code",
   "execution_count": 49,
   "metadata": {},
   "outputs": [
    {
     "name": "stdout",
     "output_type": "stream",
     "text": [
      "[[False False False False False False False False False  True  True False\n",
      "  False False False False False False False]\n",
      " [False False False False False False False  True  True  True  True  True\n",
      "   True False False False False False False]\n",
      " [False False False False False False False  True  True  True  True  True\n",
      "   True False False False False False False]\n",
      " [False False False False False False  True  True  True  True  True  True\n",
      "   True False False False False False False]\n",
      " [False False False False False False False False  True  True False False\n",
      "  False False False False False False False]\n",
      " [False False False False False False False False  True False False False\n",
      "  False False False False False False False]\n",
      " [False False False False False False False False False False False False\n",
      "  False False False False False False False]\n",
      " [False False False False False False False False False False False False\n",
      "  False False False False False False False]\n",
      " [False False False False False False False False False False False False\n",
      "  False False False False False False False]]\n",
      "\n",
      "The fraction of coordinates violating standard is 0.1404, or 14.04%\n"
     ]
    }
   ],
   "source": [
    "### first get boolean array for violating standard (>150)\n",
    "is_violation = pm10_noisy > 150\n",
    "print(is_violation)\n",
    "print()\n",
    "\n",
    "### now np functions will treat True's as 1 and False's as 0 if we try to do arithmetic. So mean() will give fraction of True.\n",
    "frac_violation = np.mean(is_violation)\n",
    "print(f'The fraction of coordinates violating standard is {frac_violation:.4f}, or {frac_violation * 100:.2f}%')"
   ]
  },
  {
   "cell_type": "markdown",
   "metadata": {
    "slideshow": {
     "slide_type": "fragment"
    }
   },
   "source": [
    "4. Use logical indexing to create an array with 1's at locations violating the standard, and 0's at locations not violating the standard. Plot using ``plot_grid``."
   ]
  },
  {
   "cell_type": "code",
   "execution_count": 53,
   "metadata": {},
   "outputs": [
    {
     "name": "stdout",
     "output_type": "stream",
     "text": [
      "[[0 0 0 0 0 0 0 0 0 1 1 0 0 0 0 0 0 0 0]\n",
      " [0 0 0 0 0 0 0 1 1 1 1 1 1 0 0 0 0 0 0]\n",
      " [0 0 0 0 0 0 0 1 1 1 1 1 1 0 0 0 0 0 0]\n",
      " [0 0 0 0 0 0 1 1 1 1 1 1 1 0 0 0 0 0 0]\n",
      " [0 0 0 0 0 0 0 0 1 1 0 0 0 0 0 0 0 0 0]\n",
      " [0 0 0 0 0 0 0 0 1 0 0 0 0 0 0 0 0 0 0]\n",
      " [0 0 0 0 0 0 0 0 0 0 0 0 0 0 0 0 0 0 0]\n",
      " [0 0 0 0 0 0 0 0 0 0 0 0 0 0 0 0 0 0 0]\n",
      " [0 0 0 0 0 0 0 0 0 0 0 0 0 0 0 0 0 0 0]]\n"
     ]
    },
    {
     "data": {
      "image/png": "[encoded data removed]",
      "text/plain": [
       "<Figure size 1008x576 with 2 Axes>"
      ]
     },
     "metadata": {
      "needs_background": "light"
     },
     "output_type": "display_data"
    }
   ],
   "source": [
    "### similar to above, we can create grid of 1's and 1's by multiplying boolean by 1\n",
    "is_violation_numeric = is_violation * 1\n",
    "print(is_violation_numeric)\n",
    "\n",
    "### plot using function above\n",
    "plot_grid(is_violation_numeric, long_grid, lat_grid, 'Violation of EPA standard')"
   ]
  },
  {
   "cell_type": "markdown",
   "metadata": {
    "slideshow": {
     "slide_type": "fragment"
    }
   },
   "source": [
    "5. Assume the following  logistic function (*completely made up, not a real relationship*) for excess cardiovascular deaths per 1,000 people in the region, based on the daily PM10 concentration. \n",
    "\n",
    "$$deaths = \\frac{15}{1 + \\exp(-(PM10 - 80) / 35)}$$\n",
    "\n",
    "Create a function that uses NumPy to calculate the excess cardio deaths for a grid of pm10 observations, then calculate and plot the grid of excess deaths."
   ]
  },
  {
   "cell_type": "code",
   "execution_count": 55,
   "metadata": {},
   "outputs": [],
   "source": [
    "### first create a function that takes np array as input and returns an array of excess deaths from the function above\n",
    "def excess_deaths(pm10_data):\n",
    "    ### notice that numpy can do all of these math operations on the whole pm10_data array at once\n",
    "    deaths = 15 / (1 + np.exp(- (pm10_data - 80) / 35))\n",
    "    return deaths"
   ]
  },
  {
   "cell_type": "code",
   "execution_count": 56,
   "metadata": {},
   "outputs": [
    {
     "name": "stdout",
     "output_type": "stream",
     "text": [
      "[[ 3.64705717  6.44237688  8.26662461  9.5407252  11.76897514 12.24328263\n",
      "  12.34323249 12.98453759 12.86694658 13.27491936 13.23295301 12.78737459\n",
      "  12.579414   12.50601702 11.28414017 10.16329999  8.19855103  5.92108769\n",
      "   3.67886921]\n",
      " [ 5.43275523  5.83702228  8.60865741 11.02842816 12.20558011 12.34851232\n",
      "  13.05453104 13.38777617 13.61278231 13.40865725 13.48615163 13.4752635\n",
      "  13.51748982 11.86904535 11.77256621 11.03007792  8.69856451  6.65692162\n",
      "   4.84366862]\n",
      " [ 4.73393472  6.57927137  9.24888803 10.24534947 11.617564   12.80865017\n",
      "  12.85599497 13.28160874 13.68564628 13.37267733 13.64183355 13.26430616\n",
      "  13.30566482 12.80326692 11.58546727 10.55486183  8.99956877  6.90616367\n",
      "   5.89388699]\n",
      " [ 4.29067354  6.19647148  8.84193106 10.09915532 11.96467347 12.4625404\n",
      "  13.26740522 13.23140429 13.58178342 13.68341167 13.73474456 13.54219112\n",
      "  13.33710577 12.55782103 11.7552566  10.82179799  8.96844267  7.29439584\n",
      "   4.17788522]\n",
      " [ 3.07138592  7.37267615  8.67927022 10.28990689 11.7501703  12.52190822\n",
      "  12.59895955 12.78696589 13.34351497 13.38200484 13.10947098 12.60842099\n",
      "  12.99408062 12.00473743 12.31661523  9.62003764  8.88970474  6.71121525\n",
      "   4.00358143]\n",
      " [ 3.7139581   6.39544483  7.95273292  9.69070011 11.25452073 12.19773365\n",
      "  12.86294762 12.75550688 13.37450064 13.14788863 12.90343782 12.94064086\n",
      "  12.44798376 12.13509729 11.77297078  9.79482097  8.24352923  5.21153449\n",
      "   4.20314795]\n",
      " [ 3.47134578  4.81173084  6.99468944  9.25769056  9.98022985 10.94254555\n",
      "  11.98675323 12.49638492 12.75402938 12.97180096 12.9163361  12.37747524\n",
      "  12.10716316 12.04900786 10.12505423  9.03350908  7.89550165  5.99501203\n",
      "   2.61635385]\n",
      " [ 2.59015244  4.41483633  5.08270695  7.53480783  9.21846528 10.31621576\n",
      "  10.81060435 12.50435107 12.02448605 12.3255964  12.47834652 11.25727959\n",
      "  11.24297459 10.58039051 10.05678963  6.94561956  5.78104832  4.64002933\n",
      "   2.36253207]\n",
      " [ 2.04600039  3.46857438  4.78379157  6.28106335  8.44638806  9.0989895\n",
      "  10.13195101 10.89775781 11.40983969 10.73477472 11.21925904 10.67310044\n",
      "   9.93974775  9.86650674  8.50097259  7.13344167  5.83715915  3.38538694\n",
      "   1.68215723]]\n"
     ]
    }
   ],
   "source": [
    "### now run the function for our pm10 data and store results in new array\n",
    "deaths = excess_deaths(pm10_noisy)\n",
    "print(deaths)"
   ]
  },
  {
   "cell_type": "code",
   "execution_count": 58,
   "metadata": {},
   "outputs": [
    {
     "data": {
      "image/png": "[encoded data removed]",
      "text/plain": [
       "<Figure size 1008x576 with 2 Axes>"
      ]
     },
     "metadata": {
      "needs_background": "light"
     },
     "output_type": "display_data"
    }
   ],
   "source": [
    "### plot excess deaths\n",
    "plot_grid(deaths, long_grid, lat_grid, 'Excess deaths from pm10 per 100,000')"
   ]
  }
 ],
 "metadata": {
  "celltoolbar": "Slideshow",
  "kernelspec": {
   "display_name": "Python 3",
   "language": "python",
   "name": "python3"
  },
  "language_info": {
   "codemirror_mode": {
    "name": "ipython",
    "version": 3
   },
   "file_extension": ".py",
   "mimetype": "text/x-python",
   "name": "python",
   "nbconvert_exporter": "python",
   "pygments_lexer": "ipython3",
   "version": "3.7.6"
  }
 },
 "nbformat": 4,
 "nbformat_minor": 4
}
