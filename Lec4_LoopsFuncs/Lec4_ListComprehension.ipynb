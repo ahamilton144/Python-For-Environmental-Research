{
 "cells": [
  {
   "cell_type": "markdown",
   "metadata": {
    "slideshow": {
     "slide_type": "slide"
    }
   },
   "source": [
    "# Lecture 4: List comprehension & NumPy\n",
    "ENVR 890-010: Python for Environmental Research, Fall 2022\n",
    "\n",
    "September 10, 2022\n",
    "\n",
    "By Andrew Hamilton, modified by Rosa Cuppari. Some material adapted from Greg Characklis, David Gorelick and H.B. Zeff."
   ]
  },
  {
   "cell_type": "markdown",
   "metadata": {
    "slideshow": {
     "slide_type": "fragment"
    }
   },
   "source": [
    "## Summary\n",
    "In this lecture, we will first learn about using **list comprehensions** to write for loops in a more efficient and compact way. We will then move beyond the standard data structures (list, tuple, dictionary) to a more advanced data structure called a **NumPy array**. Along the way, we will learn how **logical indexing** can be used with NumPy as a powerful tool to retrieve and manipulate particular subsets of data."
   ]
  },
  {
   "cell_type": "markdown",
   "metadata": {
    "slideshow": {
     "slide_type": "slide"
    }
   },
   "source": [
    "## List comprehensions\n",
    "As we learned last week, **loops** can be used to execute a code block for every item in a list. For example, to a list of all integer degrees between 0 and 90 converted to radians, we can write:"
   ]
  },
  {
   "cell_type": "code",
   "execution_count": 1,
   "metadata": {
    "slideshow": {
     "slide_type": "fragment"
    }
   },
   "outputs": [],
   "source": [
    "import math\n",
    "\n",
    "def degrees_to_radians(degrees):\n",
    "    return degrees * (2 * math.pi / 360)"
   ]
  },
  {
   "cell_type": "code",
   "execution_count": null,
   "metadata": {
    "slideshow": {
     "slide_type": "fragment"
    }
   },
   "outputs": [],
   "source": [
    "### create list of degrees\n",
    "degrees = list(range(0, 91))\n",
    "\n",
    "### use for loop to create list of radians\n",
    "radians = []\n",
    "for d in range(0, 91):\n",
    "    radians.append( degrees_to_radians(d) )\n",
    "    \n",
    "print(degrees)\n",
    "print()\n",
    "print(radians)\n",
    "print()\n",
    "print( len(radians) )"
   ]
  },
  {
   "cell_type": "markdown",
   "metadata": {
    "slideshow": {
     "slide_type": "fragment"
    }
   },
   "source": [
    "[**List comprehensions**](https://docs.python.org/3/tutorial/datastructures.html) are a way to write for loops in a more compact and computationally efficient way:"
   ]
  },
  {
   "cell_type": "code",
   "execution_count": null,
   "metadata": {
    "slideshow": {
     "slide_type": "fragment"
    }
   },
   "outputs": [],
   "source": [
    "### do the same thing with list comprehension instead of for loop\n",
    "radians_lc = [degrees_to_radians(d) for d in degrees]\n",
    "\n",
    "print(radians_lc)\n",
    "print()\n",
    "### check that the two lists are equivalent\n",
    "print(radians == radians_lc)"
   ]
  },
  {
   "cell_type": "markdown",
   "metadata": {
    "slideshow": {
     "slide_type": "fragment"
    }
   },
   "source": [
    "The list comprehension syntax can be thought of as an **expression** (e.g., what to do to each element) followed by a **for clause**, all surrounded by brackets. \n",
    "\n",
    "We can include an **if clause** to include only certain elements (for example, those whose degrees are divisible by 10) in the final list:"
   ]
  },
  {
   "cell_type": "code",
   "execution_count": null,
   "metadata": {
    "slideshow": {
     "slide_type": "fragment"
    }
   },
   "outputs": [],
   "source": [
    "### first use for loop combined with if statement\n",
    "radians_divisible10 = []\n",
    "for d in degrees:\n",
    "    if d % 10 == 0:\n",
    "        radians_divisible10.append( degrees_to_radians(d) )\n",
    "print(radians_divisible10)\n",
    "print()\n",
    "print(len(radians_divisible10))"
   ]
  },
  {
   "cell_type": "code",
   "execution_count": null,
   "metadata": {
    "slideshow": {
     "slide_type": "fragment"
    }
   },
   "outputs": [],
   "source": [
    "### now repeat with list comprehension\n",
    "radians_divisible10_lc = [degrees_to_radians(d) for d in degrees if d % 10 == 0]\n",
    "\n",
    "print(radians_divisible10_lc)\n",
    "print()\n",
    "\n",
    "print(radians_divisible10 == radians_divisible10_lc)"
   ]
  },
  {
   "cell_type": "markdown",
   "metadata": {
    "slideshow": {
     "slide_type": "slide"
    }
   },
   "source": [
    "### In class exercise\n",
    "Assume we work for the county office of environmental quality, and are administering a program that will provide subsidized water quality assessments for all households that rely on private groundwater wells and have incomes less than \\$30,000 per year. \n",
    "\n",
    "First we will create random demographic data for 1000 households (but pretend for the exercise that this was retrieved from a county database)."
   ]
  },
  {
   "cell_type": "code",
   "execution_count": 2,
   "metadata": {
    "slideshow": {
     "slide_type": "fragment"
    }
   },
   "outputs": [],
   "source": [
    "import random\n",
    "## numeric index for each household in county\n",
    "household = ['H' + str(i) for i in list(range(1000))]\n",
    "# print(household)"
   ]
  },
  {
   "cell_type": "code",
   "execution_count": 3,
   "metadata": {
    "slideshow": {
     "slide_type": "fragment"
    }
   },
   "outputs": [],
   "source": [
    "## randomly assign water source for each household\n",
    "water = [random.choices(['municipal', 'private'], weights = [0.6, 0.4], k=1)[0] for h in household]\n",
    "# print(water)"
   ]
  },
  {
   "cell_type": "code",
   "execution_count": 4,
   "metadata": {
    "slideshow": {
     "slide_type": "fragment"
    }
   },
   "outputs": [],
   "source": [
    "## randomly assign income for each household from Normal/Gaussian distribution\n",
    "income = [max(random.gauss(50000, 20000), 0) for h in household]\n",
    "# print(income)"
   ]
  },
  {
   "cell_type": "markdown",
   "metadata": {},
   "source": [
    "1. Use list comprehension to find the list of households with a private water source? How many are there?"
   ]
  },
  {
   "cell_type": "code",
   "execution_count": 5,
   "metadata": {},
   "outputs": [
    {
     "data": {
      "text/plain": [
       "394"
      ]
     },
     "execution_count": 5,
     "metadata": {},
     "output_type": "execute_result"
    }
   ],
   "source": [
    "private_hh = [household[i] for i in range(1000) if water[i] == 'private']\n",
    "len(private_hh)"
   ]
  },
  {
   "cell_type": "code",
   "execution_count": null,
   "metadata": {},
   "outputs": [],
   "source": [
    "# private_hh = []\n",
    "# for i,hh in enumerate(household):\n",
    "#     if water[i] == 'private':\n",
    "#         private_hh.append(hh)\n",
    "# print(private_hh)"
   ]
  },
  {
   "cell_type": "code",
   "execution_count": null,
   "metadata": {},
   "outputs": [],
   "source": [
    "### enumerate example\n",
    "l = ['r','g']\n",
    "# for e in l:\n",
    "#     print(e)\n",
    "    \n",
    "# for i in range(len(l)):\n",
    "#     print(i)\n",
    "    \n",
    "# for i in range(len(l)):\n",
    "#     print(l[i])\n",
    "\n",
    "# for i,e in enumerate(l):\n",
    "#     print(i, e)\n",
    "\n",
    "for i in range(len(l)):\n",
    "    print(i, l[i])"
   ]
  },
  {
   "cell_type": "markdown",
   "metadata": {
    "slideshow": {
     "slide_type": "fragment"
    }
   },
   "source": [
    "2. How many households meet both criteria for testing?"
   ]
  },
  {
   "cell_type": "code",
   "execution_count": null,
   "metadata": {},
   "outputs": [],
   "source": [
    "# eligible = [household[i] for i in range(len(household)) if (water[i] == 'private') and (income[i] < 30000) ]\n",
    "# print(len(eligible))\n",
    "\n",
    "# eligible = [private_hh[i] for i in range(len(private_hh)) if (income[i] < 30000) ]\n",
    "# print(len(eligible))"
   ]
  },
  {
   "cell_type": "markdown",
   "metadata": {},
   "source": [
    "3. What are the average incomes for households with municipal and private water, respectively? Use the statistics.mean() function."
   ]
  },
  {
   "cell_type": "code",
   "execution_count": null,
   "metadata": {},
   "outputs": [],
   "source": [
    "import statistics\n",
    "muni_income = [income[i] for i in range(len(household)) if (water[i] == 'municipal') ]\n",
    "print(statistics.mean(muni_income))"
   ]
  }
 ],
 "metadata": {
  "celltoolbar": "Slideshow",
  "kernelspec": {
   "display_name": "Python 3 (ipykernel)",
   "language": "python",
   "name": "python3"
  },
  "language_info": {
   "codemirror_mode": {
    "name": "ipython",
    "version": 3
   },
   "file_extension": ".py",
   "mimetype": "text/x-python",
   "name": "python",
   "nbconvert_exporter": "python",
   "pygments_lexer": "ipython3",
   "version": "3.9.7"
  }
 },
 "nbformat": 4,
 "nbformat_minor": 4
}
