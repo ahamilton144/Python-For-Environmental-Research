{
 "cells": [
  {
   "cell_type": "markdown",
   "metadata": {
    "slideshow": {
     "slide_type": "slide"
    }
   },
   "source": [
    "# Lecture 8: Regression\n",
    "ENVR 890-001: Python for Environmental Research, Fall 2020\n",
    "\n",
    "October 16, 2020\n",
    "\n",
    "By Andrew Hamilton."
   ]
  },
  {
   "cell_type": "markdown",
   "metadata": {
    "slideshow": {
     "slide_type": "fragment"
    }
   },
   "source": [
    "### Summary\n",
    "Linear regression is ubiquitous across a wide range of science, engineering, and public health applications. This is not a statistics class, so we won't spend much time on the theory. Rather, we will focus on implementing linear regression and related concepts in Python. However, you should absolutely learn some statistics (or consult with an expert) before using these concepts in your research! "
   ]
  },
  {
   "cell_type": "markdown",
   "metadata": {
    "slideshow": {
     "slide_type": "slide"
    }
   },
   "source": [
    "### Read in our data\n",
    "\n",
    "I downloaded from the [EPA Acid Rain emissions reporting database](https://ampd.epa.gov/ampd/). This dataset contains statewide quarterly emissions of SO2, NOx, and CO2 from eligible coal plants in NC and SC from 1997-2020."
   ]
  },
  {
   "cell_type": "code",
   "execution_count": 1,
   "metadata": {
    "slideshow": {
     "slide_type": "fragment"
    }
   },
   "outputs": [
    {
     "data": {
      "text/html": [
       "<div>\n",
       "<style scoped>\n",
       "    .dataframe tbody tr th:only-of-type {\n",
       "        vertical-align: middle;\n",
       "    }\n",
       "\n",
       "    .dataframe tbody tr th {\n",
       "        vertical-align: top;\n",
       "    }\n",
       "\n",
       "    .dataframe thead th {\n",
       "        text-align: right;\n",
       "    }\n",
       "</style>\n",
       "<table border=\"1\" class=\"dataframe\">\n",
       "  <thead>\n",
       "    <tr style=\"text-align: right;\">\n",
       "      <th></th>\n",
       "      <th>state</th>\n",
       "      <th>year</th>\n",
       "      <th>quarter</th>\n",
       "      <th>program</th>\n",
       "      <th>so2</th>\n",
       "      <th>nox</th>\n",
       "      <th>co2</th>\n",
       "      <th>heatinput</th>\n",
       "    </tr>\n",
       "  </thead>\n",
       "  <tbody>\n",
       "    <tr>\n",
       "      <th>0</th>\n",
       "      <td>NC</td>\n",
       "      <td>2017</td>\n",
       "      <td>1</td>\n",
       "      <td>ARP</td>\n",
       "      <td>3088.057</td>\n",
       "      <td>6627.984</td>\n",
       "      <td>1.177807e+07</td>\n",
       "      <td>1.439023e+08</td>\n",
       "    </tr>\n",
       "    <tr>\n",
       "      <th>1</th>\n",
       "      <td>NC</td>\n",
       "      <td>2017</td>\n",
       "      <td>2</td>\n",
       "      <td>ARP</td>\n",
       "      <td>3771.224</td>\n",
       "      <td>7770.051</td>\n",
       "      <td>1.259458e+07</td>\n",
       "      <td>1.495152e+08</td>\n",
       "    </tr>\n",
       "    <tr>\n",
       "      <th>2</th>\n",
       "      <td>NC</td>\n",
       "      <td>2017</td>\n",
       "      <td>3</td>\n",
       "      <td>ARP</td>\n",
       "      <td>6054.505</td>\n",
       "      <td>10265.869</td>\n",
       "      <td>1.707442e+07</td>\n",
       "      <td>2.002756e+08</td>\n",
       "    </tr>\n",
       "    <tr>\n",
       "      <th>3</th>\n",
       "      <td>NC</td>\n",
       "      <td>2017</td>\n",
       "      <td>4</td>\n",
       "      <td>ARP</td>\n",
       "      <td>3307.317</td>\n",
       "      <td>7532.182</td>\n",
       "      <td>1.140865e+07</td>\n",
       "      <td>1.421079e+08</td>\n",
       "    </tr>\n",
       "    <tr>\n",
       "      <th>4</th>\n",
       "      <td>NC</td>\n",
       "      <td>2018</td>\n",
       "      <td>1</td>\n",
       "      <td>ARP</td>\n",
       "      <td>3930.952</td>\n",
       "      <td>8266.694</td>\n",
       "      <td>1.362151e+07</td>\n",
       "      <td>1.649823e+08</td>\n",
       "    </tr>\n",
       "    <tr>\n",
       "      <th>...</th>\n",
       "      <td>...</td>\n",
       "      <td>...</td>\n",
       "      <td>...</td>\n",
       "      <td>...</td>\n",
       "      <td>...</td>\n",
       "      <td>...</td>\n",
       "      <td>...</td>\n",
       "      <td>...</td>\n",
       "    </tr>\n",
       "    <tr>\n",
       "      <th>185</th>\n",
       "      <td>SC</td>\n",
       "      <td>2015</td>\n",
       "      <td>4</td>\n",
       "      <td>ARP</td>\n",
       "      <td>1274.022</td>\n",
       "      <td>2197.494</td>\n",
       "      <td>6.405202e+06</td>\n",
       "      <td>7.870638e+07</td>\n",
       "    </tr>\n",
       "    <tr>\n",
       "      <th>186</th>\n",
       "      <td>SC</td>\n",
       "      <td>2016</td>\n",
       "      <td>1</td>\n",
       "      <td>ARP</td>\n",
       "      <td>2079.528</td>\n",
       "      <td>2809.411</td>\n",
       "      <td>7.043278e+06</td>\n",
       "      <td>8.058031e+07</td>\n",
       "    </tr>\n",
       "    <tr>\n",
       "      <th>187</th>\n",
       "      <td>SC</td>\n",
       "      <td>2016</td>\n",
       "      <td>2</td>\n",
       "      <td>ARP</td>\n",
       "      <td>1954.405</td>\n",
       "      <td>2613.211</td>\n",
       "      <td>7.139541e+06</td>\n",
       "      <td>8.186110e+07</td>\n",
       "    </tr>\n",
       "    <tr>\n",
       "      <th>188</th>\n",
       "      <td>SC</td>\n",
       "      <td>2016</td>\n",
       "      <td>3</td>\n",
       "      <td>ARP</td>\n",
       "      <td>2521.992</td>\n",
       "      <td>3559.830</td>\n",
       "      <td>9.782372e+06</td>\n",
       "      <td>1.142828e+08</td>\n",
       "    </tr>\n",
       "    <tr>\n",
       "      <th>189</th>\n",
       "      <td>SC</td>\n",
       "      <td>2016</td>\n",
       "      <td>4</td>\n",
       "      <td>ARP</td>\n",
       "      <td>1422.015</td>\n",
       "      <td>2311.351</td>\n",
       "      <td>6.182728e+06</td>\n",
       "      <td>7.385218e+07</td>\n",
       "    </tr>\n",
       "  </tbody>\n",
       "</table>\n",
       "<p>190 rows × 8 columns</p>\n",
       "</div>"
      ],
      "text/plain": [
       "    state  year  quarter program       so2        nox           co2  \\\n",
       "0      NC  2017        1     ARP  3088.057   6627.984  1.177807e+07   \n",
       "1      NC  2017        2     ARP  3771.224   7770.051  1.259458e+07   \n",
       "2      NC  2017        3     ARP  6054.505  10265.869  1.707442e+07   \n",
       "3      NC  2017        4     ARP  3307.317   7532.182  1.140865e+07   \n",
       "4      NC  2018        1     ARP  3930.952   8266.694  1.362151e+07   \n",
       "..    ...   ...      ...     ...       ...        ...           ...   \n",
       "185    SC  2015        4     ARP  1274.022   2197.494  6.405202e+06   \n",
       "186    SC  2016        1     ARP  2079.528   2809.411  7.043278e+06   \n",
       "187    SC  2016        2     ARP  1954.405   2613.211  7.139541e+06   \n",
       "188    SC  2016        3     ARP  2521.992   3559.830  9.782372e+06   \n",
       "189    SC  2016        4     ARP  1422.015   2311.351  6.182728e+06   \n",
       "\n",
       "        heatinput  \n",
       "0    1.439023e+08  \n",
       "1    1.495152e+08  \n",
       "2    2.002756e+08  \n",
       "3    1.421079e+08  \n",
       "4    1.649823e+08  \n",
       "..            ...  \n",
       "185  7.870638e+07  \n",
       "186  8.058031e+07  \n",
       "187  8.186110e+07  \n",
       "188  1.142828e+08  \n",
       "189  7.385218e+07  \n",
       "\n",
       "[190 rows x 8 columns]"
      ]
     },
     "execution_count": 1,
     "metadata": {},
     "output_type": "execute_result"
    }
   ],
   "source": [
    "import pandas as pd\n",
    "import numpy as np\n",
    "import matplotlib.pyplot as plt\n",
    "import seaborn as sns\n",
    "import statsmodels.formula.api as sm\n",
    "\n",
    "df = pd.read_csv('NC_SC_acid_rain_emissions.csv', sep=',', header=1)\n",
    "df.columns = ['state', 'year', 'quarter', 'program', 'so2', 'nox', 'co2', 'heatinput']\n",
    "df"
   ]
  },
  {
   "cell_type": "markdown",
   "metadata": {
    "slideshow": {
     "slide_type": "slide"
    }
   },
   "source": [
    "**Scatterplot to look at data, NOx vs year**"
   ]
  },
  {
   "cell_type": "code",
   "execution_count": 2,
   "metadata": {
    "slideshow": {
     "slide_type": "fragment"
    }
   },
   "outputs": [
    {
     "data": {
      "text/plain": [
       "<matplotlib.axes._subplots.AxesSubplot at 0x24df8eb6da0>"
      ]
     },
     "execution_count": 2,
     "metadata": {},
     "output_type": "execute_result"
    },
    {
     "data": {
      "image/png": "[encoded data removed]",
      "text/plain": [
       "<Figure size 432x288 with 1 Axes>"
      ]
     },
     "metadata": {
      "needs_background": "light"
     },
     "output_type": "display_data"
    }
   ],
   "source": [
    "sns.scatterplot('year', 'nox', data=df)"
   ]
  },
  {
   "cell_type": "markdown",
   "metadata": {
    "slideshow": {
     "slide_type": "slide"
    }
   },
   "source": [
    "### Linear regression, NOx against year\n",
    "\n",
    "In general, we can write linear regression as:\n",
    "\n",
    "$$y_i = \\beta_0 + \\beta_1 x_{i1} + ... + \\beta_p x_{ip} + \\varepsilon_i$$\n",
    "\n",
    "for all data points $i$ with independent variables (regressors) $\\mathbf{x}$ and dependent variable $y$. Ordinary Least Squares (OLS) tries to find the coefficients $\\boldsymbol{\\beta}$ that minimize the sum of the squared errors, $\\boldsymbol{\\varepsilon}$.\n",
    "\n",
    "In the current context, we can simplify this as:\n",
    "\n",
    "$$NOx_i = \\beta_0 + \\beta_1 YEAR_{i} + \\varepsilon_i$$\n",
    "\n",
    "where $\\beta_0$ is the intercept and $\\beta_1$ is the slope of the regression line."
   ]
  },
  {
   "cell_type": "code",
   "execution_count": 3,
   "metadata": {
    "slideshow": {
     "slide_type": "fragment"
    }
   },
   "outputs": [
    {
     "data": {
      "text/plain": [
       "<statsmodels.regression.linear_model.OLS at 0x24df68fd5f8>"
      ]
     },
     "execution_count": 3,
     "metadata": {},
     "output_type": "execute_result"
    }
   ],
   "source": [
    "### Define linear regression object, with equation written in quotes (no need to write constant term)\n",
    "lm_nox_year = sm.ols('nox ~ year', data=df)\n",
    "lm_nox_year"
   ]
  },
  {
   "cell_type": "code",
   "execution_count": 4,
   "metadata": {
    "slideshow": {
     "slide_type": "fragment"
    }
   },
   "outputs": [
    {
     "data": {
      "text/plain": [
       "<statsmodels.regression.linear_model.RegressionResultsWrapper at 0x24df4111eb8>"
      ]
     },
     "execution_count": 4,
     "metadata": {},
     "output_type": "execute_result"
    }
   ],
   "source": [
    "### run regression\n",
    "lm_nox_year_fit = lm_nox_year.fit()\n",
    "lm_nox_year_fit"
   ]
  },
  {
   "cell_type": "code",
   "execution_count": 5,
   "metadata": {
    "slideshow": {
     "slide_type": "fragment"
    }
   },
   "outputs": [
    {
     "name": "stdout",
     "output_type": "stream",
     "text": [
      "                            OLS Regression Results                            \n",
      "==============================================================================\n",
      "Dep. Variable:                    nox   R-squared:                       0.601\n",
      "Model:                            OLS   Adj. R-squared:                  0.599\n",
      "Method:                 Least Squares   F-statistic:                     283.2\n",
      "Date:                Tue, 12 Oct 2021   Prob (F-statistic):           2.29e-39\n",
      "Time:                        10:18:38   Log-Likelihood:                -2017.0\n",
      "No. Observations:                 190   AIC:                             4038.\n",
      "Df Residuals:                     188   BIC:                             4045.\n",
      "Df Model:                           1                                         \n",
      "Covariance Type:            nonrobust                                         \n",
      "==============================================================================\n",
      "                 coef    std err          t      P>|t|      [0.025      0.975]\n",
      "------------------------------------------------------------------------------\n",
      "Intercept   3.564e+06   2.11e+05     16.910      0.000    3.15e+06    3.98e+06\n",
      "year       -1766.3185    104.952    -16.830      0.000   -1973.354   -1559.283\n",
      "==============================================================================\n",
      "Omnibus:                       57.876   Durbin-Watson:                   0.300\n",
      "Prob(Omnibus):                  0.000   Jarque-Bera (JB):              127.782\n",
      "Skew:                           1.392   Prob(JB):                     1.79e-28\n",
      "Kurtosis:                       5.896   Cond. No.                     5.88e+05\n",
      "==============================================================================\n",
      "\n",
      "Warnings:\n",
      "[1] Standard Errors assume that the covariance matrix of the errors is correctly specified.\n",
      "[2] The condition number is large, 5.88e+05. This might indicate that there are\n",
      "strong multicollinearity or other numerical problems.\n"
     ]
    }
   ],
   "source": [
    "### print regression summary statistics\n",
    "print(lm_nox_year_fit.summary())"
   ]
  },
  {
   "cell_type": "code",
   "execution_count": 6,
   "metadata": {
    "slideshow": {
     "slide_type": "fragment"
    }
   },
   "outputs": [
    {
     "name": "stdout",
     "output_type": "stream",
     "text": [
      "Intercept    3.564446e+06\n",
      "year        -1.766318e+03\n",
      "dtype: float64\n"
     ]
    }
   ],
   "source": [
    "### regression coefficients (betas)\n",
    "params = lm_nox_year_fit.params\n",
    "print(params)"
   ]
  },
  {
   "cell_type": "code",
   "execution_count": 11,
   "metadata": {
    "slideshow": {
     "slide_type": "fragment"
    }
   },
   "outputs": [
    {
     "name": "stdout",
     "output_type": "stream",
     "text": [
      "0    40640.435263\n",
      "1    38874.116793\n",
      "2    37107.798324\n",
      "3    35341.479855\n",
      "4    33575.161385\n",
      "dtype: float64\n"
     ]
    }
   ],
   "source": [
    "## get predicted nox as a function of year based on regression\n",
    "## you can also do this by defining a function and calling the individual parameters]\n",
    "years = pd.DataFrame(np.arange(1995, 2021),columns=['year'])\n",
    "prediction = lm_nox_year_fit.predict(years)\n",
    "print(prediction.head())"
   ]
  },
  {
   "cell_type": "code",
   "execution_count": 8,
   "metadata": {
    "slideshow": {
     "slide_type": "fragment"
    }
   },
   "outputs": [],
   "source": [
    "def predict_nox_year(params, years):\n",
    "    return params[0] + params[1] * years"
   ]
  },
  {
   "cell_type": "code",
   "execution_count": 10,
   "metadata": {},
   "outputs": [
    {
     "name": "stdout",
     "output_type": "stream",
     "text": [
      "           year\n",
      "0  40640.435263\n",
      "1  38874.116793\n",
      "2  37107.798324\n",
      "3  35341.479855\n",
      "4  33575.161385\n"
     ]
    }
   ],
   "source": [
    "predicted_nox = predict_nox_year(params, years)\n",
    "print(predicted_nox.head())"
   ]
  },
  {
   "cell_type": "code",
   "execution_count": 12,
   "metadata": {
    "slideshow": {
     "slide_type": "fragment"
    }
   },
   "outputs": [
    {
     "data": {
      "text/plain": [
       "Text(0.5, 0, 'Year')"
      ]
     },
     "execution_count": 12,
     "metadata": {},
     "output_type": "execute_result"
    },
    {
     "data": {
      "image/png": "[encoded data removed]",
      "text/plain": [
       "<Figure size 432x288 with 1 Axes>"
      ]
     },
     "metadata": {
      "needs_background": "light"
     },
     "output_type": "display_data"
    }
   ],
   "source": [
    "sns.scatterplot('year', 'nox', data=df)\n",
    "plt.plot(years, prediction, color='k')\n",
    "plt.ylabel('NOx emissions (tons)')\n",
    "plt.xlabel('Year')"
   ]
  },
  {
   "cell_type": "markdown",
   "metadata": {
    "slideshow": {
     "slide_type": "slide"
    }
   },
   "source": [
    "**Check if regression conditions are met - normality?**"
   ]
  },
  {
   "cell_type": "code",
   "execution_count": 13,
   "metadata": {
    "slideshow": {
     "slide_type": "fragment"
    }
   },
   "outputs": [
    {
     "data": {
      "text/plain": [
       "(array([67., 52., 29., 10., 12.,  8.,  4.,  2.,  3.,  3.]),\n",
       " array([  947.276 ,  8392.7264, 15838.1768, 23283.6272, 30729.0776,\n",
       "        38174.528 , 45619.9784, 53065.4288, 60510.8792, 67956.3296,\n",
       "        75401.78  ]),\n",
       " <a list of 10 Patch objects>)"
      ]
     },
     "execution_count": 13,
     "metadata": {},
     "output_type": "execute_result"
    },
    {
     "data": {
      "image/png": "[encoded data removed]",
      "text/plain": [
       "<Figure size 432x288 with 1 Axes>"
      ]
     },
     "metadata": {
      "needs_background": "light"
     },
     "output_type": "display_data"
    }
   ],
   "source": [
    "plt.hist(df['nox'])"
   ]
  },
  {
   "cell_type": "markdown",
   "metadata": {
    "slideshow": {
     "slide_type": "fragment"
    }
   },
   "source": [
    "**Try log transform of data**"
   ]
  },
  {
   "cell_type": "code",
   "execution_count": 14,
   "metadata": {
    "slideshow": {
     "slide_type": "fragment"
    }
   },
   "outputs": [
    {
     "data": {
      "text/html": [
       "<div>\n",
       "<style scoped>\n",
       "    .dataframe tbody tr th:only-of-type {\n",
       "        vertical-align: middle;\n",
       "    }\n",
       "\n",
       "    .dataframe tbody tr th {\n",
       "        vertical-align: top;\n",
       "    }\n",
       "\n",
       "    .dataframe thead th {\n",
       "        text-align: right;\n",
       "    }\n",
       "</style>\n",
       "<table border=\"1\" class=\"dataframe\">\n",
       "  <thead>\n",
       "    <tr style=\"text-align: right;\">\n",
       "      <th></th>\n",
       "      <th>state</th>\n",
       "      <th>year</th>\n",
       "      <th>quarter</th>\n",
       "      <th>program</th>\n",
       "      <th>so2</th>\n",
       "      <th>nox</th>\n",
       "      <th>co2</th>\n",
       "      <th>heatinput</th>\n",
       "      <th>nox_log</th>\n",
       "    </tr>\n",
       "  </thead>\n",
       "  <tbody>\n",
       "    <tr>\n",
       "      <th>0</th>\n",
       "      <td>NC</td>\n",
       "      <td>2017</td>\n",
       "      <td>1</td>\n",
       "      <td>ARP</td>\n",
       "      <td>3088.057</td>\n",
       "      <td>6627.984</td>\n",
       "      <td>11778066.24</td>\n",
       "      <td>143902340.0</td>\n",
       "      <td>8.799056</td>\n",
       "    </tr>\n",
       "    <tr>\n",
       "      <th>1</th>\n",
       "      <td>NC</td>\n",
       "      <td>2017</td>\n",
       "      <td>2</td>\n",
       "      <td>ARP</td>\n",
       "      <td>3771.224</td>\n",
       "      <td>7770.051</td>\n",
       "      <td>12594579.74</td>\n",
       "      <td>149515188.3</td>\n",
       "      <td>8.958032</td>\n",
       "    </tr>\n",
       "    <tr>\n",
       "      <th>2</th>\n",
       "      <td>NC</td>\n",
       "      <td>2017</td>\n",
       "      <td>3</td>\n",
       "      <td>ARP</td>\n",
       "      <td>6054.505</td>\n",
       "      <td>10265.869</td>\n",
       "      <td>17074422.27</td>\n",
       "      <td>200275610.8</td>\n",
       "      <td>9.236580</td>\n",
       "    </tr>\n",
       "    <tr>\n",
       "      <th>3</th>\n",
       "      <td>NC</td>\n",
       "      <td>2017</td>\n",
       "      <td>4</td>\n",
       "      <td>ARP</td>\n",
       "      <td>3307.317</td>\n",
       "      <td>7532.182</td>\n",
       "      <td>11408654.15</td>\n",
       "      <td>142107926.7</td>\n",
       "      <td>8.926940</td>\n",
       "    </tr>\n",
       "    <tr>\n",
       "      <th>4</th>\n",
       "      <td>NC</td>\n",
       "      <td>2018</td>\n",
       "      <td>1</td>\n",
       "      <td>ARP</td>\n",
       "      <td>3930.952</td>\n",
       "      <td>8266.694</td>\n",
       "      <td>13621514.75</td>\n",
       "      <td>164982269.3</td>\n",
       "      <td>9.019990</td>\n",
       "    </tr>\n",
       "  </tbody>\n",
       "</table>\n",
       "</div>"
      ],
      "text/plain": [
       "  state  year  quarter program       so2        nox          co2    heatinput  \\\n",
       "0    NC  2017        1     ARP  3088.057   6627.984  11778066.24  143902340.0   \n",
       "1    NC  2017        2     ARP  3771.224   7770.051  12594579.74  149515188.3   \n",
       "2    NC  2017        3     ARP  6054.505  10265.869  17074422.27  200275610.8   \n",
       "3    NC  2017        4     ARP  3307.317   7532.182  11408654.15  142107926.7   \n",
       "4    NC  2018        1     ARP  3930.952   8266.694  13621514.75  164982269.3   \n",
       "\n",
       "    nox_log  \n",
       "0  8.799056  \n",
       "1  8.958032  \n",
       "2  9.236580  \n",
       "3  8.926940  \n",
       "4  9.019990  "
      ]
     },
     "execution_count": 14,
     "metadata": {},
     "output_type": "execute_result"
    }
   ],
   "source": [
    "df['nox_log'] = np.log(df['nox'])\n",
    "df.head()"
   ]
  },
  {
   "cell_type": "code",
   "execution_count": 15,
   "metadata": {
    "slideshow": {
     "slide_type": "fragment"
    }
   },
   "outputs": [
    {
     "data": {
      "text/plain": [
       "(array([ 1.,  6., 21., 13., 26., 35., 33., 24., 21., 10.]),\n",
       " array([ 6.8535905 ,  7.29129006,  7.72898963,  8.1666892 ,  8.60438876,\n",
       "         9.04208833,  9.4797879 ,  9.91748746, 10.35518703, 10.79288659,\n",
       "        11.23058616]),\n",
       " <a list of 10 Patch objects>)"
      ]
     },
     "execution_count": 15,
     "metadata": {},
     "output_type": "execute_result"
    },
    {
     "data": {
      "image/png": "[encoded data removed]",
      "text/plain": [
       "<Figure size 432x288 with 1 Axes>"
      ]
     },
     "metadata": {
      "needs_background": "light"
     },
     "output_type": "display_data"
    },
    {
     "data": {
      "image/png": "[encoded data removed]",
      "text/plain": [
       "<Figure size 432x288 with 1 Axes>"
      ]
     },
     "metadata": {
      "needs_background": "light"
     },
     "output_type": "display_data"
    }
   ],
   "source": [
    "plt.figure()\n",
    "sns.scatterplot('year', 'nox_log', data=df)\n",
    "plt.ylabel('log(NOx emissions (tons))')\n",
    "plt.xlabel('Year')\n",
    "\n",
    "plt.figure()\n",
    "plt.hist(df['nox_log'])"
   ]
  },
  {
   "cell_type": "markdown",
   "metadata": {
    "slideshow": {
     "slide_type": "fragment"
    }
   },
   "source": [
    "**QQ-plot**"
   ]
  },
  {
   "cell_type": "code",
   "execution_count": 16,
   "metadata": {
    "slideshow": {
     "slide_type": "fragment"
    }
   },
   "outputs": [
    {
     "data": {
      "image/png": "[encoded data removed]",
      "text/plain": [
       "<Figure size 432x288 with 1 Axes>"
      ]
     },
     "metadata": {
      "needs_background": "light"
     },
     "output_type": "display_data"
    }
   ],
   "source": [
    "from statsmodels.graphics.gofplots import qqplot\n",
    "fig = qqplot(df['nox_log'], line='s')"
   ]
  },
  {
   "cell_type": "markdown",
   "metadata": {
    "slideshow": {
     "slide_type": "fragment"
    }
   },
   "source": [
    "**Test for normality with Shapiro-Wilk test**\n",
    "\n",
    "Refresher: the null hypothesis here is that the data are normally distributed. Given your appropriate p-value (using 0.05 here), if the p-value is less than 0.05 then the data are **not** normally distributed. If the p-value is greater, than they are. "
   ]
  },
  {
   "cell_type": "code",
   "execution_count": 17,
   "metadata": {
    "slideshow": {
     "slide_type": "fragment"
    }
   },
   "outputs": [
    {
     "name": "stdout",
     "output_type": "stream",
     "text": [
      "0.9855313897132874 0.048119135200977325\n"
     ]
    }
   ],
   "source": [
    "from scipy.stats import shapiro\n",
    "stat, p = shapiro(df['nox_log'])\n",
    "print(stat, p)"
   ]
  },
  {
   "cell_type": "markdown",
   "metadata": {
    "slideshow": {
     "slide_type": "slide"
    }
   },
   "source": [
    "**Try Box-Cox transformation**\n",
    "\n",
    "This will transform the input data into a (more) normal distribution using a value scipy can calculate for us automatically: lambda. Lambda is used in an equation which transforms the data ([see this Geeks for Geeks article for the equation](https://www.geeksforgeeks.org/box-cox-transformation-using-python/).) "
   ]
  },
  {
   "cell_type": "code",
   "execution_count": 23,
   "metadata": {
    "slideshow": {
     "slide_type": "fragment"
    }
   },
   "outputs": [
    {
     "data": {
      "text/plain": [
       "0.06979101291062871"
      ]
     },
     "execution_count": 23,
     "metadata": {},
     "output_type": "execute_result"
    }
   ],
   "source": [
    "from scipy.stats import boxcox\n",
    "df['nox_bc'], lam = boxcox(df['nox'])\n",
    "lam"
   ]
  },
  {
   "cell_type": "code",
   "execution_count": 19,
   "metadata": {
    "slideshow": {
     "slide_type": "fragment"
    }
   },
   "outputs": [
    {
     "data": {
      "image/png": "[encoded data removed]",
      "text/plain": [
       "<Figure size 432x288 with 1 Axes>"
      ]
     },
     "metadata": {
      "needs_background": "light"
     },
     "output_type": "display_data"
    },
    {
     "data": {
      "image/png": "[encoded data removed]",
      "text/plain": [
       "<Figure size 432x288 with 1 Axes>"
      ]
     },
     "metadata": {
      "needs_background": "light"
     },
     "output_type": "display_data"
    },
    {
     "data": {
      "text/plain": [
       "<Figure size 432x288 with 0 Axes>"
      ]
     },
     "metadata": {},
     "output_type": "display_data"
    },
    {
     "data": {
      "image/png": "[encoded data removed]",
      "text/plain": [
       "<Figure size 432x288 with 1 Axes>"
      ]
     },
     "metadata": {
      "needs_background": "light"
     },
     "output_type": "display_data"
    }
   ],
   "source": [
    "plt.figure()\n",
    "sns.scatterplot('year', 'nox_bc', data=df)\n",
    "plt.ylabel('NOx emissions (transformed, unitless)')\n",
    "plt.xlabel('Year')\n",
    "\n",
    "plt.figure()\n",
    "plt.hist(df['nox_bc'])\n",
    "\n",
    "plt.figure()\n",
    "fig = qqplot(df['nox_bc'], line='s')"
   ]
  },
  {
   "cell_type": "code",
   "execution_count": 24,
   "metadata": {
    "slideshow": {
     "slide_type": "fragment"
    }
   },
   "outputs": [
    {
     "name": "stdout",
     "output_type": "stream",
     "text": [
      "0.9870161414146423 0.07854940742254257\n"
     ]
    }
   ],
   "source": [
    "stat, p = shapiro(df['nox_bc'])\n",
    "print(stat, p)"
   ]
  },
  {
   "cell_type": "code",
   "execution_count": 25,
   "metadata": {
    "slideshow": {
     "slide_type": "fragment"
    }
   },
   "outputs": [
    {
     "name": "stdout",
     "output_type": "stream",
     "text": [
      "                            OLS Regression Results                            \n",
      "==============================================================================\n",
      "Dep. Variable:                 nox_bc   R-squared:                       0.753\n",
      "Model:                            OLS   Adj. R-squared:                  0.752\n",
      "Method:                 Least Squares   F-statistic:                     574.6\n",
      "Date:                Tue, 12 Oct 2021   Prob (F-statistic):           4.55e-59\n",
      "Time:                        10:36:34   Log-Likelihood:                -246.62\n",
      "No. Observations:                 190   AIC:                             497.2\n",
      "Df Residuals:                     188   BIC:                             503.7\n",
      "Df Model:                           1                                         \n",
      "Covariance Type:            nonrobust                                         \n",
      "==============================================================================\n",
      "                 coef    std err          t      P>|t|      [0.025      0.975]\n",
      "------------------------------------------------------------------------------\n",
      "Intercept    466.9815     18.929     24.670      0.000     429.641     504.322\n",
      "year          -0.2259      0.009    -23.972      0.000      -0.245      -0.207\n",
      "==============================================================================\n",
      "Omnibus:                       26.575   Durbin-Watson:                   0.399\n",
      "Prob(Omnibus):                  0.000   Jarque-Bera (JB):                7.850\n",
      "Skew:                           0.143   Prob(JB):                       0.0197\n",
      "Kurtosis:                       2.046   Cond. No.                     5.88e+05\n",
      "==============================================================================\n",
      "\n",
      "Warnings:\n",
      "[1] Standard Errors assume that the covariance matrix of the errors is correctly specified.\n",
      "[2] The condition number is large, 5.88e+05. This might indicate that there are\n",
      "strong multicollinearity or other numerical problems.\n"
     ]
    }
   ],
   "source": [
    "lm_nox_year = sm.ols('nox_bc ~ year', data=df)\n",
    "lm_nox_year_fit = lm_nox_year.fit()\n",
    "print(lm_nox_year_fit.summary())"
   ]
  },
  {
   "cell_type": "code",
   "execution_count": 26,
   "metadata": {
    "slideshow": {
     "slide_type": "fragment"
    }
   },
   "outputs": [
    {
     "data": {
      "text/plain": [
       "Text(0.5, 0, 'Year')"
      ]
     },
     "execution_count": 26,
     "metadata": {},
     "output_type": "execute_result"
    },
    {
     "data": {
      "image/png": "[encoded data removed]",
      "text/plain": [
       "<Figure size 432x288 with 1 Axes>"
      ]
     },
     "metadata": {
      "needs_background": "light"
     },
     "output_type": "display_data"
    }
   ],
   "source": [
    "prediction = lm_nox_year_fit.predict(years)\n",
    "sns.scatterplot('year', 'nox_bc', data=df)\n",
    "plt.plot(years, prediction, color='k')\n",
    "plt.ylabel('NOx emissions (transformed, unitless)')\n",
    "plt.xlabel('Year')"
   ]
  },
  {
   "cell_type": "markdown",
   "metadata": {
    "slideshow": {
     "slide_type": "slide"
    }
   },
   "source": [
    "**Transforming prediction back to original scale**"
   ]
  },
  {
   "cell_type": "code",
   "execution_count": 32,
   "metadata": {
    "slideshow": {
     "slide_type": "fragment"
    }
   },
   "outputs": [],
   "source": [
    "def box_cox_inverse(x, lam):\n",
    "    if lam > 0:\n",
    "        return (x * lam + 1) ** (1 / lam)\n",
    "    elif lam == 0:\n",
    "        return np.exp(x)\n",
    "    else:\n",
    "        print('Invalid lambda')"
   ]
  },
  {
   "cell_type": "code",
   "execution_count": 33,
   "metadata": {
    "slideshow": {
     "slide_type": "fragment"
    }
   },
   "outputs": [
    {
     "data": {
      "text/plain": [
       "0    52216.590779\n",
       "1    46953.245558\n",
       "2    42186.938255\n",
       "3    37873.940597\n",
       "4    33974.085019\n",
       "dtype: float64"
      ]
     },
     "execution_count": 33,
     "metadata": {},
     "output_type": "execute_result"
    }
   ],
   "source": [
    "prediction_tons = box_cox_inverse(prediction, lam)\n",
    "prediction_tons.head()"
   ]
  },
  {
   "cell_type": "code",
   "execution_count": 34,
   "metadata": {
    "slideshow": {
     "slide_type": "fragment"
    }
   },
   "outputs": [
    {
     "data": {
      "text/plain": [
       "Text(0.5, 0, 'Year')"
      ]
     },
     "execution_count": 34,
     "metadata": {},
     "output_type": "execute_result"
    },
    {
     "data": {
      "image/png": "[encoded data removed]",
      "text/plain": [
       "<Figure size 432x288 with 1 Axes>"
      ]
     },
     "metadata": {
      "needs_background": "light"
     },
     "output_type": "display_data"
    }
   ],
   "source": [
    "sns.scatterplot('year', 'nox', data=df)\n",
    "plt.plot(years, prediction_tons, color='k')\n",
    "plt.ylabel('NOx emissions (tons)')\n",
    "plt.xlabel('Year')"
   ]
  },
  {
   "cell_type": "markdown",
   "metadata": {
    "slideshow": {
     "slide_type": "slide"
    }
   },
   "source": [
    "**Check for homoskedasticity**\n",
    "\n",
    "Reminder: this just means checking for constant, finite variance - we can do this by plotting the residuals of the data. "
   ]
  },
  {
   "cell_type": "code",
   "execution_count": 36,
   "metadata": {
    "slideshow": {
     "slide_type": "fragment"
    }
   },
   "outputs": [
    {
     "data": {
      "text/plain": [
       "<matplotlib.axes._subplots.AxesSubplot at 0x24df9b6d320>"
      ]
     },
     "execution_count": 36,
     "metadata": {},
     "output_type": "execute_result"
    },
    {
     "data": {
      "image/png": "[encoded data removed]",
      "text/plain": [
       "<Figure size 432x288 with 1 Axes>"
      ]
     },
     "metadata": {
      "needs_background": "light"
     },
     "output_type": "display_data"
    }
   ],
   "source": [
    "resids = lm_nox_year_fit.resid\n",
    "sns.scatterplot(df['year'], resids)"
   ]
  },
  {
   "cell_type": "markdown",
   "metadata": {
    "slideshow": {
     "slide_type": "slide"
    }
   },
   "source": [
    "**Adding parameters: account for state differences**"
   ]
  },
  {
   "cell_type": "code",
   "execution_count": 38,
   "metadata": {
    "slideshow": {
     "slide_type": "fragment"
    }
   },
   "outputs": [
    {
     "data": {
      "text/plain": [
       "<matplotlib.axes._subplots.AxesSubplot at 0x24df9c71a58>"
      ]
     },
     "execution_count": 38,
     "metadata": {},
     "output_type": "execute_result"
    },
    {
     "data": {
      "image/png": "[encoded data removed]",
      "text/plain": [
       "<Figure size 432x288 with 1 Axes>"
      ]
     },
     "metadata": {
      "needs_background": "light"
     },
     "output_type": "display_data"
    }
   ],
   "source": [
    "sns.scatterplot('year', 'nox_bc', data=df, hue = 'state')"
   ]
  },
  {
   "cell_type": "markdown",
   "metadata": {
    "slideshow": {
     "slide_type": "slide"
    }
   },
   "source": [
    "Now we want to add an additional regressor, so that our regression reads:\n",
    "\n",
    "$$NOx_i = \\beta_0 + \\beta_1 YEAR_{i}  + \\beta_2 IS\\_SC_i + \\varepsilon_i$$\n",
    "\n",
    "where $\\beta_0$ is the intercept, $\\beta_1$ is the slope with respect to year, and $\\beta_2$ is a constant shift if the observation comes from SC."
   ]
  },
  {
   "cell_type": "code",
   "execution_count": 58,
   "metadata": {
    "slideshow": {
     "slide_type": "fragment"
    }
   },
   "outputs": [
    {
     "name": "stdout",
     "output_type": "stream",
     "text": [
      "                            OLS Regression Results                            \n",
      "==============================================================================\n",
      "Dep. Variable:                 nox_bc   R-squared:                       0.920\n",
      "Model:                            OLS   Adj. R-squared:                  0.919\n",
      "Method:                 Least Squares   F-statistic:                     1073.\n",
      "Date:                Tue, 12 Oct 2021   Prob (F-statistic):          3.36e-103\n",
      "Time:                        10:51:46   Log-Likelihood:                -139.91\n",
      "No. Observations:                 190   AIC:                             285.8\n",
      "Df Residuals:                     187   BIC:                             295.6\n",
      "Df Model:                           2                                         \n",
      "Covariance Type:            nonrobust                                         \n",
      "===============================================================================\n",
      "                  coef    std err          t      P>|t|      [0.025      0.975]\n",
      "-------------------------------------------------------------------------------\n",
      "Intercept     467.7094     10.824     43.212      0.000     446.357     489.062\n",
      "state[T.SC]    -1.4557      0.074    -19.698      0.000      -1.602      -1.310\n",
      "year           -0.2259      0.005    -41.923      0.000      -0.237      -0.215\n",
      "==============================================================================\n",
      "Omnibus:                       26.245   Durbin-Watson:                   1.208\n",
      "Prob(Omnibus):                  0.000   Jarque-Bera (JB):               63.314\n",
      "Skew:                          -0.589   Prob(JB):                     1.78e-14\n",
      "Kurtosis:                       5.571   Cond. No.                     5.88e+05\n",
      "==============================================================================\n",
      "\n",
      "Warnings:\n",
      "[1] Standard Errors assume that the covariance matrix of the errors is correctly specified.\n",
      "[2] The condition number is large, 5.88e+05. This might indicate that there are\n",
      "strong multicollinearity or other numerical problems.\n"
     ]
    }
   ],
   "source": [
    "lm_nox_year_state = sm.ols('nox_bc ~ year + state', data=df)\n",
    "lm_nox_year_state_fit = lm_nox_year_state.fit()\n",
    "print(lm_nox_year_state_fit.summary())"
   ]
  },
  {
   "cell_type": "code",
   "execution_count": 61,
   "metadata": {},
   "outputs": [],
   "source": [
    "## let's try doing this with a function and calling the parameters\n",
    "def predict_nox_year_state(params, years, SC_binary):\n",
    "    return params[0] + params[1] * SC_binary + params[2] * years\n"
   ]
  },
  {
   "cell_type": "code",
   "execution_count": 62,
   "metadata": {
    "slideshow": {
     "slide_type": "fragment"
    }
   },
   "outputs": [],
   "source": [
    "years = np.arange(1995, 2021)\n",
    "## since we just have two states, we can use a simple binary: SC will be 1 and NC will be 0 \n",
    "SC_isSC = np.ones(len(years))\n",
    "NC_isSC = np.zeros(len(years))\n",
    "prediction_SC = predict_nox_year_state(lm_nox_year_state_fit.params, years, SC_isSC)\n",
    "prediction_NC = predict_nox_year_state(lm_nox_year_state_fit.params, years, NC_isSC)"
   ]
  },
  {
   "cell_type": "markdown",
   "metadata": {},
   "source": [
    "## In-class exercise ##\n",
    "\n",
    "1. Run the regression using \".predict()\" (remember: we need out inputs in a single dataframe for this to work -- year and state). \n",
    "1. Create a seaborn scatterplot showing the actual data, with year on the x axis and NOx on the y axis. \n",
    "1. Overlay on that scatterplot (i.e. just add the lines on top of it) a blue line with predicted NOx in NC and an orange line with predicted NOx in SC\n"
   ]
  },
  {
   "cell_type": "code",
   "execution_count": 63,
   "metadata": {
    "slideshow": {
     "slide_type": "fragment"
    }
   },
   "outputs": [
    {
     "data": {
      "text/plain": [
       "Text(0.5, 0, 'Year')"
      ]
     },
     "execution_count": 63,
     "metadata": {},
     "output_type": "execute_result"
    },
    {
     "data": {
      "image/png": "[encoded data removed]",
      "text/plain": [
       "<Figure size 432x288 with 1 Axes>"
      ]
     },
     "metadata": {
      "needs_background": "light"
     },
     "output_type": "display_data"
    }
   ],
   "source": [
    "prediction_tons_SC = box_cox_inverse(prediction_SC, lam)\n",
    "prediction_tons_NC = box_cox_inverse(prediction_NC, lam)\n",
    "sns.scatterplot('year', 'nox', data=df, hue='state')\n",
    "plt.plot(years, prediction_tons_SC, color='orange')\n",
    "plt.plot(years, prediction_tons_NC, color='blue')\n",
    "plt.ylabel('NOx emissions (tons)')\n",
    "plt.xlabel('Year')"
   ]
  },
  {
   "cell_type": "markdown",
   "metadata": {
    "slideshow": {
     "slide_type": "slide"
    }
   },
   "source": [
    "**Interaction effects**"
   ]
  },
  {
   "cell_type": "code",
   "execution_count": 64,
   "metadata": {
    "slideshow": {
     "slide_type": "fragment"
    }
   },
   "outputs": [
    {
     "name": "stdout",
     "output_type": "stream",
     "text": [
      "                            OLS Regression Results                            \n",
      "==============================================================================\n",
      "Dep. Variable:                 nox_bc   R-squared:                       0.920\n",
      "Model:                            OLS   Adj. R-squared:                  0.919\n",
      "Method:                 Least Squares   F-statistic:                     715.8\n",
      "Date:                Tue, 12 Oct 2021   Prob (F-statistic):          7.27e-102\n",
      "Time:                        10:52:46   Log-Likelihood:                -139.36\n",
      "No. Observations:                 190   AIC:                             286.7\n",
      "Df Residuals:                     186   BIC:                             299.7\n",
      "Df Model:                           3                                         \n",
      "Covariance Type:            nonrobust                                         \n",
      "====================================================================================\n",
      "                       coef    std err          t      P>|t|      [0.025      0.975]\n",
      "------------------------------------------------------------------------------------\n",
      "Intercept          456.4890     15.304     29.828      0.000     426.298     486.680\n",
      "state[T.SC]         20.9851     21.643      0.970      0.334     -21.712      63.682\n",
      "year                -0.2203      0.008    -28.917      0.000      -0.235      -0.205\n",
      "year:state[T.SC]    -0.0112      0.011     -1.037      0.301      -0.032       0.010\n",
      "==============================================================================\n",
      "Omnibus:                       30.977   Durbin-Watson:                   1.227\n",
      "Prob(Omnibus):                  0.000   Jarque-Bera (JB):               80.473\n",
      "Skew:                          -0.677   Prob(JB):                     3.35e-18\n",
      "Kurtosis:                       5.887   Cond. No.                     1.54e+06\n",
      "==============================================================================\n",
      "\n",
      "Warnings:\n",
      "[1] Standard Errors assume that the covariance matrix of the errors is correctly specified.\n",
      "[2] The condition number is large, 1.54e+06. This might indicate that there are\n",
      "strong multicollinearity or other numerical problems.\n"
     ]
    }
   ],
   "source": [
    "lm_nox_year_state_int = sm.ols('nox_bc ~ year*state', data=df)\n",
    "lm_nox_year_state_int_fit = lm_nox_year_state_int.fit()\n",
    "print(lm_nox_year_state_int_fit.summary())"
   ]
  },
  {
   "cell_type": "markdown",
   "metadata": {},
   "source": [
    "**Interaction is not significant in this case, but let's visualize model anyway**"
   ]
  },
  {
   "cell_type": "code",
   "execution_count": 65,
   "metadata": {
    "slideshow": {
     "slide_type": "fragment"
    }
   },
   "outputs": [],
   "source": [
    "## let's try doing this with a function and calling the parameters\n",
    "## note, if were were to continue using ols_fit.predict(), \n",
    "## we would need to put the inputs in a single dataframe\n",
    "\n",
    "def predict_nox_year_state_int(params, years, SC_binary):\n",
    "    return params[0] + params[1] * SC_binary + params[2] * years + params[3] * SC_binary * years"
   ]
  },
  {
   "cell_type": "code",
   "execution_count": 66,
   "metadata": {
    "slideshow": {
     "slide_type": "fragment"
    }
   },
   "outputs": [],
   "source": [
    "prediction_SC = predict_nox_year_state_int(lm_nox_year_state_int_fit.params, years, SC_isSC)\n",
    "prediction_NC = predict_nox_year_state_int(lm_nox_year_state_int_fit.params, years, NC_isSC)"
   ]
  },
  {
   "cell_type": "code",
   "execution_count": 67,
   "metadata": {
    "slideshow": {
     "slide_type": "fragment"
    }
   },
   "outputs": [
    {
     "data": {
      "text/plain": [
       "[<matplotlib.lines.Line2D at 0x24dfafa5518>]"
      ]
     },
     "execution_count": 67,
     "metadata": {},
     "output_type": "execute_result"
    },
    {
     "data": {
      "image/png": "[encoded data removed]",
      "text/plain": [
       "<Figure size 432x288 with 1 Axes>"
      ]
     },
     "metadata": {
      "needs_background": "light"
     },
     "output_type": "display_data"
    }
   ],
   "source": [
    "sns.scatterplot('year', 'nox_bc', data=df, hue='state')\n",
    "plt.plot(years, prediction_SC, color='orange')\n",
    "plt.plot(years, prediction_NC, color='blue')"
   ]
  },
  {
   "cell_type": "markdown",
   "metadata": {
    "slideshow": {
     "slide_type": "slide"
    }
   },
   "source": [
    "**Check for quarterly effects?**"
   ]
  },
  {
   "cell_type": "code",
   "execution_count": 68,
   "metadata": {
    "slideshow": {
     "slide_type": "fragment"
    }
   },
   "outputs": [
    {
     "name": "stdout",
     "output_type": "stream",
     "text": [
      "                            OLS Regression Results                            \n",
      "==============================================================================\n",
      "Dep. Variable:                 nox_bc   R-squared:                       0.920\n",
      "Model:                            OLS   Adj. R-squared:                  0.919\n",
      "Method:                 Least Squares   F-statistic:                     716.8\n",
      "Date:                Tue, 12 Oct 2021   Prob (F-statistic):          6.50e-102\n",
      "Time:                        10:52:55   Log-Likelihood:                -139.25\n",
      "No. Observations:                 190   AIC:                             286.5\n",
      "Df Residuals:                     186   BIC:                             299.5\n",
      "Df Model:                           3                                         \n",
      "Covariance Type:            nonrobust                                         \n",
      "===============================================================================\n",
      "                  coef    std err          t      P>|t|      [0.025      0.975]\n",
      "-------------------------------------------------------------------------------\n",
      "Intercept     468.1001     10.820     43.261      0.000     446.754     489.446\n",
      "state[T.SC]    -1.4557      0.074    -19.713      0.000      -1.601      -1.310\n",
      "year           -0.2261      0.005    -41.972      0.000      -0.237      -0.215\n",
      "quarter        -0.0378      0.033     -1.141      0.255      -0.103       0.028\n",
      "==============================================================================\n",
      "Omnibus:                       24.609   Durbin-Watson:                   1.170\n",
      "Prob(Omnibus):                  0.000   Jarque-Bera (JB):               58.340\n",
      "Skew:                          -0.554   Prob(JB):                     2.15e-13\n",
      "Kurtosis:                       5.478   Cond. No.                     5.89e+05\n",
      "==============================================================================\n",
      "\n",
      "Warnings:\n",
      "[1] Standard Errors assume that the covariance matrix of the errors is correctly specified.\n",
      "[2] The condition number is large, 5.89e+05. This might indicate that there are\n",
      "strong multicollinearity or other numerical problems.\n"
     ]
    }
   ],
   "source": [
    "lm_nox_year_state_q = sm.ols('nox_bc ~ year + state + quarter', data=df)\n",
    "lm_nox_year_state_q_fit = lm_nox_year_state_q.fit()\n",
    "print(lm_nox_year_state_q_fit.summary())"
   ]
  },
  {
   "cell_type": "markdown",
   "metadata": {
    "slideshow": {
     "slide_type": "fragment"
    }
   },
   "source": [
    "**Probably don't want quarter as an integer (implies linear relationship between seasons). Let's redo as categorical.**"
   ]
  },
  {
   "cell_type": "code",
   "execution_count": 69,
   "metadata": {
    "slideshow": {
     "slide_type": "fragment"
    }
   },
   "outputs": [
    {
     "data": {
      "text/plain": [
       "str"
      ]
     },
     "execution_count": 69,
     "metadata": {},
     "output_type": "execute_result"
    }
   ],
   "source": [
    "df['quarter_cat'] = [str(q) for q in df['quarter']]\n",
    "type(df['quarter_cat'][0])"
   ]
  },
  {
   "cell_type": "code",
   "execution_count": 70,
   "metadata": {
    "slideshow": {
     "slide_type": "fragment"
    }
   },
   "outputs": [
    {
     "name": "stdout",
     "output_type": "stream",
     "text": [
      "                            OLS Regression Results                            \n",
      "==============================================================================\n",
      "Dep. Variable:                 nox_bc   R-squared:                       0.923\n",
      "Model:                            OLS   Adj. R-squared:                  0.921\n",
      "Method:                 Least Squares   F-statistic:                     439.1\n",
      "Date:                Tue, 12 Oct 2021   Prob (F-statistic):          3.18e-100\n",
      "Time:                        10:53:05   Log-Likelihood:                -136.47\n",
      "No. Observations:                 190   AIC:                             284.9\n",
      "Df Residuals:                     184   BIC:                             304.4\n",
      "Df Model:                           5                                         \n",
      "Covariance Type:            nonrobust                                         \n",
      "====================================================================================\n",
      "                       coef    std err          t      P>|t|      [0.025      0.975]\n",
      "------------------------------------------------------------------------------------\n",
      "Intercept          468.3186     10.722     43.679      0.000     447.165     489.472\n",
      "state[T.SC]         -1.4557      0.073    -19.896      0.000      -1.600      -1.311\n",
      "quarter_cat[T.2]    -0.1836      0.103     -1.784      0.076      -0.387       0.019\n",
      "quarter_cat[T.3]     0.0063      0.103      0.061      0.951      -0.197       0.209\n",
      "quarter_cat[T.4]    -0.1913      0.104     -1.838      0.068      -0.397       0.014\n",
      "year                -0.2262      0.005    -42.372      0.000      -0.237      -0.216\n",
      "==============================================================================\n",
      "Omnibus:                       35.056   Durbin-Watson:                   1.091\n",
      "Prob(Omnibus):                  0.000   Jarque-Bera (JB):               98.919\n",
      "Skew:                          -0.742   Prob(JB):                     3.31e-22\n",
      "Kurtosis:                       6.208   Cond. No.                     5.89e+05\n",
      "==============================================================================\n",
      "\n",
      "Warnings:\n",
      "[1] Standard Errors assume that the covariance matrix of the errors is correctly specified.\n",
      "[2] The condition number is large, 5.89e+05. This might indicate that there are\n",
      "strong multicollinearity or other numerical problems.\n"
     ]
    }
   ],
   "source": [
    "lm_nox_year_state_q = sm.ols('nox_bc ~ year + state + quarter_cat', data=df)\n",
    "lm_nox_year_state_q_fit = lm_nox_year_state_q.fit()\n",
    "print(lm_nox_year_state_q_fit.summary())"
   ]
  },
  {
   "cell_type": "markdown",
   "metadata": {
    "slideshow": {
     "slide_type": "slide"
    }
   },
   "source": [
    "**ANOVA test for difference in mean between NC vs SC**"
   ]
  },
  {
   "cell_type": "code",
   "execution_count": 72,
   "metadata": {
    "slideshow": {
     "slide_type": "fragment"
    }
   },
   "outputs": [
    {
     "data": {
      "text/plain": [
       "<matplotlib.axes._subplots.AxesSubplot at 0x24dfafc4320>"
      ]
     },
     "execution_count": 72,
     "metadata": {},
     "output_type": "execute_result"
    },
    {
     "data": {
      "image/png": "[encoded data removed]",
      "text/plain": [
       "<Figure size 432x288 with 1 Axes>"
      ]
     },
     "metadata": {
      "needs_background": "light"
     },
     "output_type": "display_data"
    },
    {
     "data": {
      "image/png": "[encoded data removed]",
      "text/plain": [
       "<Figure size 432x288 with 1 Axes>"
      ]
     },
     "metadata": {
      "needs_background": "light"
     },
     "output_type": "display_data"
    }
   ],
   "source": [
    "## For ANOVA test we need to separate samples\n",
    "df_nc = df.loc[df['state'] == 'NC', :]\n",
    "df_sc = df.loc[df['state'] == 'SC', :]\n",
    "plt.figure()\n",
    "sns.scatterplot(df_nc['year'], df_nc['nox_bc'])\n",
    "sns.scatterplot(df_sc['year'], df_sc['nox_bc'])\n",
    "plt.figure()\n",
    "sns.boxplot('state', 'nox_bc', data=df)"
   ]
  },
  {
   "cell_type": "code",
   "execution_count": 73,
   "metadata": {
    "slideshow": {
     "slide_type": "fragment"
    }
   },
   "outputs": [
    {
     "data": {
      "text/plain": [
       "F_onewayResult(statistic=37.51228177961964, pvalue=5.197934502526843e-09)"
      ]
     },
     "execution_count": 73,
     "metadata": {},
     "output_type": "execute_result"
    }
   ],
   "source": [
    "## ANOVA test\n",
    "## the test returns the F statistic of the test along with the p-value from the F distribution\n",
    "## p-value greater than what we set (say 0.05 for our purposes) means that the differences in mean are not statistically\n",
    "## significant, while a p-value less than or equal to means that they are statistically significant \n",
    "\n",
    "from scipy.stats import f_oneway\n",
    "\n",
    "f_oneway(df_nc['nox_bc'], df_sc['nox_bc'])"
   ]
  },
  {
   "cell_type": "markdown",
   "metadata": {
    "slideshow": {
     "slide_type": "fragment"
    }
   },
   "source": [
    "**Test for difference in mean between quarters in NC**"
   ]
  },
  {
   "cell_type": "code",
   "execution_count": 74,
   "metadata": {
    "slideshow": {
     "slide_type": "fragment"
    }
   },
   "outputs": [
    {
     "data": {
      "text/plain": [
       "<matplotlib.axes._subplots.AxesSubplot at 0x24dfafe6780>"
      ]
     },
     "execution_count": 74,
     "metadata": {},
     "output_type": "execute_result"
    },
    {
     "data": {
      "image/png": "[encoded data removed]",
      "text/plain": [
       "<Figure size 432x288 with 1 Axes>"
      ]
     },
     "metadata": {
      "needs_background": "light"
     },
     "output_type": "display_data"
    },
    {
     "data": {
      "image/png": "[encoded data removed]",
      "text/plain": [
       "<Figure size 432x288 with 1 Axes>"
      ]
     },
     "metadata": {
      "needs_background": "light"
     },
     "output_type": "display_data"
    }
   ],
   "source": [
    "plt.figure()\n",
    "sns.scatterplot('year', 'nox_bc', data=df_nc, hue='quarter')\n",
    "plt.figure()\n",
    "sns.boxplot('quarter', 'nox_bc', data=df_nc)"
   ]
  },
  {
   "cell_type": "code",
   "execution_count": 75,
   "metadata": {
    "slideshow": {
     "slide_type": "fragment"
    }
   },
   "outputs": [
    {
     "data": {
      "text/plain": [
       "F_onewayResult(statistic=0.09676903132215914, pvalue=0.9616321455374468)"
      ]
     },
     "execution_count": 75,
     "metadata": {},
     "output_type": "execute_result"
    }
   ],
   "source": [
    "df_nc_q1 = df_nc.loc[df_nc['quarter'] == 1, :]\n",
    "df_nc_q2 = df_nc.loc[df_nc['quarter'] == 2, :]\n",
    "df_nc_q3 = df_nc.loc[df_nc['quarter'] == 3, :]\n",
    "df_nc_q4 = df_nc.loc[df_nc['quarter'] == 4, :]\n",
    "\n",
    "f_oneway(df_nc_q1['nox_bc'], df_nc_q2['nox_bc'], df_nc_q3['nox_bc'], df_nc_q4['nox_bc'])"
   ]
  },
  {
   "cell_type": "markdown",
   "metadata": {
    "slideshow": {
     "slide_type": "slide"
    }
   },
   "source": [
    "### In-class exercise\n",
    "Run a regression to test whether there has been a statistically significant reduction in reported CO2 emissions in North Carolina (note: this only comes from a subset of coal plants, not a full picture of CO2 emissions). Perform any statistical checks & transformations if necessary."
   ]
  },
  {
   "cell_type": "markdown",
   "metadata": {
    "slideshow": {
     "slide_type": "slide"
    }
   },
   "source": [
    "### Data smoothing "
   ]
  },
  {
   "cell_type": "code",
   "execution_count": 76,
   "metadata": {
    "scrolled": true,
    "slideshow": {
     "slide_type": "fragment"
    }
   },
   "outputs": [
    {
     "data": {
      "text/plain": [
       "<matplotlib.axes._subplots.AxesSubplot at 0x24dfb0a4630>"
      ]
     },
     "execution_count": 76,
     "metadata": {},
     "output_type": "execute_result"
    },
    {
     "data": {
      "image/png": "[encoded data removed]",
      "text/plain": [
       "<Figure size 432x288 with 1 Axes>"
      ]
     },
     "metadata": {
      "needs_background": "light"
     },
     "output_type": "display_data"
    }
   ],
   "source": [
    "sns.scatterplot('year','so2', data=df_nc)"
   ]
  },
  {
   "cell_type": "markdown",
   "metadata": {
    "slideshow": {
     "slide_type": "fragment"
    }
   },
   "source": [
    "**Simple smoothing - line segments through means of each year**"
   ]
  },
  {
   "cell_type": "code",
   "execution_count": 77,
   "metadata": {
    "scrolled": false,
    "slideshow": {
     "slide_type": "fragment"
    }
   },
   "outputs": [
    {
     "data": {
      "text/html": [
       "<div>\n",
       "<style scoped>\n",
       "    .dataframe tbody tr th:only-of-type {\n",
       "        vertical-align: middle;\n",
       "    }\n",
       "\n",
       "    .dataframe tbody tr th {\n",
       "        vertical-align: top;\n",
       "    }\n",
       "\n",
       "    .dataframe thead th {\n",
       "        text-align: right;\n",
       "    }\n",
       "</style>\n",
       "<table border=\"1\" class=\"dataframe\">\n",
       "  <thead>\n",
       "    <tr style=\"text-align: right;\">\n",
       "      <th></th>\n",
       "      <th>quarter</th>\n",
       "      <th>so2</th>\n",
       "      <th>nox</th>\n",
       "      <th>co2</th>\n",
       "      <th>heatinput</th>\n",
       "      <th>nox_log</th>\n",
       "      <th>nox_bc</th>\n",
       "    </tr>\n",
       "    <tr>\n",
       "      <th>year</th>\n",
       "      <th></th>\n",
       "      <th></th>\n",
       "      <th></th>\n",
       "      <th></th>\n",
       "      <th></th>\n",
       "      <th></th>\n",
       "      <th></th>\n",
       "    </tr>\n",
       "  </thead>\n",
       "  <tbody>\n",
       "    <tr>\n",
       "      <th>1997</th>\n",
       "      <td>2.5</td>\n",
       "      <td>127989.569250</td>\n",
       "      <td>70669.34550</td>\n",
       "      <td>1.891000e+07</td>\n",
       "      <td>1.846805e+08</td>\n",
       "      <td>11.163785</td>\n",
       "      <td>16.901895</td>\n",
       "    </tr>\n",
       "    <tr>\n",
       "      <th>1998</th>\n",
       "      <td>2.5</td>\n",
       "      <td>122145.952750</td>\n",
       "      <td>62181.96625</td>\n",
       "      <td>1.840558e+07</td>\n",
       "      <td>1.803841e+08</td>\n",
       "      <td>11.028650</td>\n",
       "      <td>16.609806</td>\n",
       "    </tr>\n",
       "    <tr>\n",
       "      <th>1999</th>\n",
       "      <td>2.5</td>\n",
       "      <td>114485.645250</td>\n",
       "      <td>50356.93975</td>\n",
       "      <td>1.824346e+07</td>\n",
       "      <td>1.787225e+08</td>\n",
       "      <td>10.823826</td>\n",
       "      <td>16.169793</td>\n",
       "    </tr>\n",
       "    <tr>\n",
       "      <th>2000</th>\n",
       "      <td>2.5</td>\n",
       "      <td>113360.592750</td>\n",
       "      <td>40214.40225</td>\n",
       "      <td>1.851418e+07</td>\n",
       "      <td>1.817438e+08</td>\n",
       "      <td>10.599301</td>\n",
       "      <td>15.695576</td>\n",
       "    </tr>\n",
       "    <tr>\n",
       "      <th>2001</th>\n",
       "      <td>2.5</td>\n",
       "      <td>112621.635000</td>\n",
       "      <td>36084.66050</td>\n",
       "      <td>1.770498e+07</td>\n",
       "      <td>1.739513e+08</td>\n",
       "      <td>10.490887</td>\n",
       "      <td>15.469261</td>\n",
       "    </tr>\n",
       "    <tr>\n",
       "      <th>2002</th>\n",
       "      <td>2.5</td>\n",
       "      <td>115748.281250</td>\n",
       "      <td>36426.42525</td>\n",
       "      <td>1.821641e+07</td>\n",
       "      <td>1.807777e+08</td>\n",
       "      <td>10.500311</td>\n",
       "      <td>15.488872</td>\n",
       "    </tr>\n",
       "    <tr>\n",
       "      <th>2003</th>\n",
       "      <td>2.5</td>\n",
       "      <td>115510.188250</td>\n",
       "      <td>33165.90575</td>\n",
       "      <td>1.796947e+07</td>\n",
       "      <td>1.772706e+08</td>\n",
       "      <td>10.399083</td>\n",
       "      <td>15.280033</td>\n",
       "    </tr>\n",
       "    <tr>\n",
       "      <th>2004</th>\n",
       "      <td>2.5</td>\n",
       "      <td>118080.042000</td>\n",
       "      <td>29430.57625</td>\n",
       "      <td>1.822001e+07</td>\n",
       "      <td>1.798254e+08</td>\n",
       "      <td>10.242635</td>\n",
       "      <td>14.964076</td>\n",
       "    </tr>\n",
       "    <tr>\n",
       "      <th>2005</th>\n",
       "      <td>2.5</td>\n",
       "      <td>125233.896750</td>\n",
       "      <td>26937.31225</td>\n",
       "      <td>1.889529e+07</td>\n",
       "      <td>1.871322e+08</td>\n",
       "      <td>10.152503</td>\n",
       "      <td>14.780413</td>\n",
       "    </tr>\n",
       "    <tr>\n",
       "      <th>2006</th>\n",
       "      <td>2.5</td>\n",
       "      <td>115535.805250</td>\n",
       "      <td>25763.45125</td>\n",
       "      <td>1.849483e+07</td>\n",
       "      <td>1.832767e+08</td>\n",
       "      <td>10.107995</td>\n",
       "      <td>14.690208</td>\n",
       "    </tr>\n",
       "    <tr>\n",
       "      <th>2007</th>\n",
       "      <td>2.5</td>\n",
       "      <td>92706.619500</td>\n",
       "      <td>14854.43550</td>\n",
       "      <td>1.942336e+07</td>\n",
       "      <td>1.936955e+08</td>\n",
       "      <td>9.604678</td>\n",
       "      <td>13.681939</td>\n",
       "    </tr>\n",
       "    <tr>\n",
       "      <th>2008</th>\n",
       "      <td>2.5</td>\n",
       "      <td>56757.513500</td>\n",
       "      <td>13663.03800</td>\n",
       "      <td>1.899975e+07</td>\n",
       "      <td>1.891311e+08</td>\n",
       "      <td>9.521321</td>\n",
       "      <td>13.519425</td>\n",
       "    </tr>\n",
       "    <tr>\n",
       "      <th>2009</th>\n",
       "      <td>2.5</td>\n",
       "      <td>27737.030750</td>\n",
       "      <td>9695.69150</td>\n",
       "      <td>1.660579e+07</td>\n",
       "      <td>1.662373e+08</td>\n",
       "      <td>9.175735</td>\n",
       "      <td>12.856142</td>\n",
       "    </tr>\n",
       "    <tr>\n",
       "      <th>2010</th>\n",
       "      <td>2.5</td>\n",
       "      <td>29156.794500</td>\n",
       "      <td>12402.79050</td>\n",
       "      <td>1.857341e+07</td>\n",
       "      <td>1.888504e+08</td>\n",
       "      <td>9.419980</td>\n",
       "      <td>13.323796</td>\n",
       "    </tr>\n",
       "    <tr>\n",
       "      <th>2011</th>\n",
       "      <td>2.5</td>\n",
       "      <td>18376.713750</td>\n",
       "      <td>10335.92050</td>\n",
       "      <td>1.591590e+07</td>\n",
       "      <td>1.644430e+08</td>\n",
       "      <td>9.221948</td>\n",
       "      <td>12.946537</td>\n",
       "    </tr>\n",
       "    <tr>\n",
       "      <th>2012</th>\n",
       "      <td>2.5</td>\n",
       "      <td>13385.650000</td>\n",
       "      <td>11003.66425</td>\n",
       "      <td>1.498127e+07</td>\n",
       "      <td>1.621570e+08</td>\n",
       "      <td>9.289517</td>\n",
       "      <td>13.074610</td>\n",
       "    </tr>\n",
       "    <tr>\n",
       "      <th>2013</th>\n",
       "      <td>2.5</td>\n",
       "      <td>10564.165250</td>\n",
       "      <td>10449.11650</td>\n",
       "      <td>1.445974e+07</td>\n",
       "      <td>1.628024e+08</td>\n",
       "      <td>9.248840</td>\n",
       "      <td>12.995421</td>\n",
       "    </tr>\n",
       "    <tr>\n",
       "      <th>2014</th>\n",
       "      <td>2.5</td>\n",
       "      <td>9126.791000</td>\n",
       "      <td>9599.49275</td>\n",
       "      <td>1.525883e+07</td>\n",
       "      <td>1.714681e+08</td>\n",
       "      <td>9.147264</td>\n",
       "      <td>12.804471</td>\n",
       "    </tr>\n",
       "    <tr>\n",
       "      <th>2015</th>\n",
       "      <td>2.5</td>\n",
       "      <td>6872.400250</td>\n",
       "      <td>8871.41975</td>\n",
       "      <td>1.430315e+07</td>\n",
       "      <td>1.688474e+08</td>\n",
       "      <td>9.068997</td>\n",
       "      <td>12.656915</td>\n",
       "    </tr>\n",
       "    <tr>\n",
       "      <th>2016</th>\n",
       "      <td>2.5</td>\n",
       "      <td>5790.259250</td>\n",
       "      <td>8012.82800</td>\n",
       "      <td>1.414550e+07</td>\n",
       "      <td>1.696785e+08</td>\n",
       "      <td>8.964904</td>\n",
       "      <td>12.461561</td>\n",
       "    </tr>\n",
       "    <tr>\n",
       "      <th>2017</th>\n",
       "      <td>2.5</td>\n",
       "      <td>4055.275750</td>\n",
       "      <td>8049.02150</td>\n",
       "      <td>1.321393e+07</td>\n",
       "      <td>1.589503e+08</td>\n",
       "      <td>8.980152</td>\n",
       "      <td>12.488778</td>\n",
       "    </tr>\n",
       "    <tr>\n",
       "      <th>2018</th>\n",
       "      <td>2.5</td>\n",
       "      <td>3945.472750</td>\n",
       "      <td>8251.59225</td>\n",
       "      <td>1.340741e+07</td>\n",
       "      <td>1.661804e+08</td>\n",
       "      <td>9.010064</td>\n",
       "      <td>12.544199</td>\n",
       "    </tr>\n",
       "    <tr>\n",
       "      <th>2019</th>\n",
       "      <td>2.5</td>\n",
       "      <td>4108.766500</td>\n",
       "      <td>7324.56725</td>\n",
       "      <td>1.274872e+07</td>\n",
       "      <td>1.567650e+08</td>\n",
       "      <td>8.865978</td>\n",
       "      <td>12.278350</td>\n",
       "    </tr>\n",
       "    <tr>\n",
       "      <th>2020</th>\n",
       "      <td>2.0</td>\n",
       "      <td>1188.000333</td>\n",
       "      <td>3027.47500</td>\n",
       "      <td>6.364370e+06</td>\n",
       "      <td>8.615907e+07</td>\n",
       "      <td>7.824974</td>\n",
       "      <td>10.438184</td>\n",
       "    </tr>\n",
       "  </tbody>\n",
       "</table>\n",
       "</div>"
      ],
      "text/plain": [
       "      quarter            so2          nox           co2     heatinput  \\\n",
       "year                                                                    \n",
       "1997      2.5  127989.569250  70669.34550  1.891000e+07  1.846805e+08   \n",
       "1998      2.5  122145.952750  62181.96625  1.840558e+07  1.803841e+08   \n",
       "1999      2.5  114485.645250  50356.93975  1.824346e+07  1.787225e+08   \n",
       "2000      2.5  113360.592750  40214.40225  1.851418e+07  1.817438e+08   \n",
       "2001      2.5  112621.635000  36084.66050  1.770498e+07  1.739513e+08   \n",
       "2002      2.5  115748.281250  36426.42525  1.821641e+07  1.807777e+08   \n",
       "2003      2.5  115510.188250  33165.90575  1.796947e+07  1.772706e+08   \n",
       "2004      2.5  118080.042000  29430.57625  1.822001e+07  1.798254e+08   \n",
       "2005      2.5  125233.896750  26937.31225  1.889529e+07  1.871322e+08   \n",
       "2006      2.5  115535.805250  25763.45125  1.849483e+07  1.832767e+08   \n",
       "2007      2.5   92706.619500  14854.43550  1.942336e+07  1.936955e+08   \n",
       "2008      2.5   56757.513500  13663.03800  1.899975e+07  1.891311e+08   \n",
       "2009      2.5   27737.030750   9695.69150  1.660579e+07  1.662373e+08   \n",
       "2010      2.5   29156.794500  12402.79050  1.857341e+07  1.888504e+08   \n",
       "2011      2.5   18376.713750  10335.92050  1.591590e+07  1.644430e+08   \n",
       "2012      2.5   13385.650000  11003.66425  1.498127e+07  1.621570e+08   \n",
       "2013      2.5   10564.165250  10449.11650  1.445974e+07  1.628024e+08   \n",
       "2014      2.5    9126.791000   9599.49275  1.525883e+07  1.714681e+08   \n",
       "2015      2.5    6872.400250   8871.41975  1.430315e+07  1.688474e+08   \n",
       "2016      2.5    5790.259250   8012.82800  1.414550e+07  1.696785e+08   \n",
       "2017      2.5    4055.275750   8049.02150  1.321393e+07  1.589503e+08   \n",
       "2018      2.5    3945.472750   8251.59225  1.340741e+07  1.661804e+08   \n",
       "2019      2.5    4108.766500   7324.56725  1.274872e+07  1.567650e+08   \n",
       "2020      2.0    1188.000333   3027.47500  6.364370e+06  8.615907e+07   \n",
       "\n",
       "        nox_log     nox_bc  \n",
       "year                        \n",
       "1997  11.163785  16.901895  \n",
       "1998  11.028650  16.609806  \n",
       "1999  10.823826  16.169793  \n",
       "2000  10.599301  15.695576  \n",
       "2001  10.490887  15.469261  \n",
       "2002  10.500311  15.488872  \n",
       "2003  10.399083  15.280033  \n",
       "2004  10.242635  14.964076  \n",
       "2005  10.152503  14.780413  \n",
       "2006  10.107995  14.690208  \n",
       "2007   9.604678  13.681939  \n",
       "2008   9.521321  13.519425  \n",
       "2009   9.175735  12.856142  \n",
       "2010   9.419980  13.323796  \n",
       "2011   9.221948  12.946537  \n",
       "2012   9.289517  13.074610  \n",
       "2013   9.248840  12.995421  \n",
       "2014   9.147264  12.804471  \n",
       "2015   9.068997  12.656915  \n",
       "2016   8.964904  12.461561  \n",
       "2017   8.980152  12.488778  \n",
       "2018   9.010064  12.544199  \n",
       "2019   8.865978  12.278350  \n",
       "2020   7.824974  10.438184  "
      ]
     },
     "execution_count": 77,
     "metadata": {},
     "output_type": "execute_result"
    }
   ],
   "source": [
    "df_nc_yearly = df_nc.groupby('year').mean()\n",
    "df_nc_yearly"
   ]
  },
  {
   "cell_type": "code",
   "execution_count": 78,
   "metadata": {
    "scrolled": true,
    "slideshow": {
     "slide_type": "fragment"
    }
   },
   "outputs": [
    {
     "data": {
      "text/plain": [
       "[<matplotlib.lines.Line2D at 0x24dfb117748>]"
      ]
     },
     "execution_count": 78,
     "metadata": {},
     "output_type": "execute_result"
    },
    {
     "data": {
      "image/png": "[encoded data removed]",
      "text/plain": [
       "<Figure size 432x288 with 1 Axes>"
      ]
     },
     "metadata": {
      "needs_background": "light"
     },
     "output_type": "display_data"
    }
   ],
   "source": [
    "sns.scatterplot('year','so2', data=df_nc)\n",
    "plt.plot(df_nc_yearly.index, df_nc_yearly['so2'])"
   ]
  },
  {
   "cell_type": "markdown",
   "metadata": {
    "slideshow": {
     "slide_type": "slide"
    }
   },
   "source": [
    "**Lowess smoothing**"
   ]
  },
  {
   "cell_type": "code",
   "execution_count": 79,
   "metadata": {
    "slideshow": {
     "slide_type": "fragment"
    }
   },
   "outputs": [],
   "source": [
    "from statsmodels.nonparametric.smoothers_lowess import lowess\n",
    "\n",
    "## fraction of data to use for each smoothed value (b/w 0 and 1, default is 0.67)\n",
    "lowess_frac = 0.2\n",
    "\n",
    "## get smoothed points\n",
    "smooth = lowess(df_nc['so2'], df_nc['year'], frac=lowess_frac)\n",
    "index_smooth, so2_smooth = np.transpose(smooth)"
   ]
  },
  {
   "cell_type": "code",
   "execution_count": 80,
   "metadata": {
    "scrolled": true,
    "slideshow": {
     "slide_type": "fragment"
    }
   },
   "outputs": [
    {
     "data": {
      "text/plain": [
       "[<matplotlib.lines.Line2D at 0x24dfb0998d0>]"
      ]
     },
     "execution_count": 80,
     "metadata": {},
     "output_type": "execute_result"
    },
    {
     "data": {
      "image/png": "[encoded data removed]",
      "text/plain": [
       "<Figure size 432x288 with 1 Axes>"
      ]
     },
     "metadata": {
      "needs_background": "light"
     },
     "output_type": "display_data"
    }
   ],
   "source": [
    "sns.scatterplot('year','so2', data=df_nc)\n",
    "plt.plot(index_smooth, so2_smooth)"
   ]
  }
 ],
 "metadata": {
  "celltoolbar": "Slideshow",
  "kernelspec": {
   "display_name": "Python 3",
   "language": "python",
   "name": "python3"
  },
  "language_info": {
   "codemirror_mode": {
    "name": "ipython",
    "version": 3
   },
   "file_extension": ".py",
   "mimetype": "text/x-python",
   "name": "python",
   "nbconvert_exporter": "python",
   "pygments_lexer": "ipython3",
   "version": "3.6.10"
  }
 },
 "nbformat": 4,
 "nbformat_minor": 4
}
