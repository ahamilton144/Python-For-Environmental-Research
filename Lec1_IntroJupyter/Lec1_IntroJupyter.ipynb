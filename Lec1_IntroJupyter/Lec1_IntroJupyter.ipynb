{
 "cells": [
  {
   "cell_type": "markdown",
   "metadata": {
    "slideshow": {
     "slide_type": "slide"
    }
   },
   "source": [
    "\n",
    "# Lecture 1: Intro to Jupyter notebooks, Python, & GitHub\n",
    "ENVR 890-001: Python for Environmental Research, Fall 2020\n",
    "\n",
    "August 14, 2020\n",
    "\n",
    "By Andrew Hamilton. Some material adapted from Greg Characklis, David Gorelick and H.B. Zeff."
   ]
  },
  {
   "cell_type": "markdown",
   "metadata": {
    "slideshow": {
     "slide_type": "slide"
    }
   },
   "source": [
    "## Jupyter notebooks!\n",
    "Jupyter notebooks will be the primary tool used for instruction and exercises in this class. Jupyter allows us to seamlessly write \"mixed media\" documents that combine text, code, figures, tables, etc. This makes it a great learning and science communication tool. It is also a fast, easy way to analyze your data interactively. "
   ]
  },
  {
   "cell_type": "markdown",
   "metadata": {
    "slideshow": {
     "slide_type": "fragment"
    }
   },
   "source": [
    "Each **cell** in a Jupyter notebook is either a markdown cell (like this one) containing text, or a code cell (see below) that can be run interactively in a programming language such as Python. To **execute/run** a cell, whether markdown or code, press ``Shift`` + ``Enter``. "
   ]
  },
  {
   "cell_type": "markdown",
   "metadata": {
    "slideshow": {
     "slide_type": "slide"
    }
   },
   "source": [
    "Code cells will have open brackets to the left of the cell, if it has not yet been run. While it is running, the brackets will contain an ``*``, and after it completes, the brackets will contain a number designating the order that the cells are run in. "
   ]
  },
  {
   "cell_type": "markdown",
   "metadata": {
    "slideshow": {
     "slide_type": "fragment"
    }
   },
   "source": [
    "Order matters for code cells, because variables are shared across cells. This will make more sense soon. Markdown cells do not have any brackets or numbers, since their order of execution does not matter."
   ]
  },
  {
   "cell_type": "markdown",
   "metadata": {
    "slideshow": {
     "slide_type": "fragment"
    }
   },
   "source": [
    "To rerun the entire notebook at once, choose ``Restart & run all`` from the ``Kernel`` tab. "
   ]
  },
  {
   "cell_type": "markdown",
   "metadata": {
    "slideshow": {
     "slide_type": "slide"
    }
   },
   "source": [
    "If a cell is selected but **inactive**, it will be surrounded by a blue box. An **active** cell will be surrounded by a green box, meaning you can edit the cell by typing. You can activate an **inactive** cell  by double clicking, or pressing ``Enter``. You can make an active cell inactive by pressing ``Esc``. Here is an edit."
   ]
  },
  {
   "cell_type": "markdown",
   "metadata": {
    "slideshow": {
     "slide_type": "fragment"
    }
   },
   "source": [
    "When a cell is inactive, the following commands are useful:\n",
    "- To turn a markdown cell into a code cell, press ``y``. To turn a code cell into a markdown cell, press ``m``.\n",
    "- To create a new cell below the current cell, press ``b``. For a new cell above, press ``a``\n",
    "- To delete a cell, press ``d`` twice.\n",
    "- Up and down arrows can be used to move between cells.\n",
    "- To copy a cell, press ``c``.\n",
    "- To paste a cell, press ``v``.\n",
    "- To Find (and replace), press ``f``."
   ]
  },
  {
   "cell_type": "markdown",
   "metadata": {
    "slideshow": {
     "slide_type": "fragment"
    }
   },
   "source": [
    "- Split a cell in half at the curser using ``Ctrl`` + ``Shift`` + ``-``"
   ]
  },
  {
   "cell_type": "markdown",
   "metadata": {
    "slideshow": {
     "slide_type": "fragment"
    }
   },
   "source": [
    "Many more useful commands can be found [here](https://towardsdatascience.com/jypyter-notebook-shortcuts-bf0101a98330). **Also note small differences for MacOS users (often use ``Cmd`` instead of ``Ctrl``)**. I will default to the Windows commands throughout these notes."
   ]
  },
  {
   "cell_type": "markdown",
   "metadata": {
    "slideshow": {
     "slide_type": "slide"
    }
   },
   "source": [
    "## Markdown cells\n",
    "Markdown cells turn plain text into fancy rendered text using standard rules. For example, here are some different headers (compare to big ones at the top).\n",
    "\n",
    "### Smaller header\n",
    "#### Smaller still\n",
    "##### Even smaller\n",
    "Normal text with **bold** or *italics*"
   ]
  },
  {
   "cell_type": "markdown",
   "metadata": {
    "slideshow": {
     "slide_type": "slide"
    }
   },
   "source": [
    "I can also do enumerated lists \n",
    "1. first\n",
    "1. second\n",
    "    1. third"
   ]
  },
  {
   "cell_type": "markdown",
   "metadata": {
    "slideshow": {
     "slide_type": "fragment"
    }
   },
   "source": [
    "And non-enumerated lists\n",
    "- first\n",
    "- second\n",
    "    - third"
   ]
  },
  {
   "cell_type": "markdown",
   "metadata": {
    "slideshow": {
     "slide_type": "slide"
    }
   },
   "source": [
    "I can also write equations using Latex notation:\n",
    "\n",
    "$$a^2 + b^2 = c^2$$\n",
    "\n",
    "where $a=\\sqrt{\\text{python}}$, $b=\\sqrt{\\text{jupyter}}$, and $c=\\sqrt{\\text{so fun}}$."
   ]
  },
  {
   "cell_type": "markdown",
   "metadata": {
    "slideshow": {
     "slide_type": "fragment"
    }
   },
   "source": [
    "And hyperlinks, like this [Jupyter markdown documentation](https://jupyter-notebook.readthedocs.io/en/stable/examples/Notebook/Working%20With%20Markdown%20Cells.html) with more info."
   ]
  },
  {
   "cell_type": "markdown",
   "metadata": {
    "slideshow": {
     "slide_type": "slide"
    }
   },
   "source": [
    "And the moment you've all been waiting for: a table of cute animals eating\n",
    "\n",
    "| Animal    | Gif                                             | Cuteness score |\n",
    "| ------    | --------                                        | --------       |\n",
    "| Sloth     | <img src=\"sloth.gif\" style=\"width: 250px;\" />   | 99             |\n",
    "| Red panda | <img src=\"redpanda.gif\" style=\"width: 250px;\"/> | 97             |\n",
    "| Turtle    | <img src=\"turtle.gif\" style=\"width: 250px;\"/>   | 98             |"
   ]
  },
  {
   "cell_type": "markdown",
   "metadata": {
    "slideshow": {
     "slide_type": "slide"
    }
   },
   "source": [
    "## Code cells\n",
    "**Code cells** are the other type of cell, in addition to **Markdown cells**. These contain blocks of code that can be run interactively within the notebook."
   ]
  },
  {
   "cell_type": "markdown",
   "metadata": {
    "slideshow": {
     "slide_type": "fragment"
    }
   },
   "source": [
    "Note that this notebook has been set up to run Python 3, but it is also possible to run other \"Kernels\", such as Python 2, R, Julia, Ruby, Haskell, etc."
   ]
  },
  {
   "cell_type": "markdown",
   "metadata": {
    "slideshow": {
     "slide_type": "slide"
    }
   },
   "source": [
    "Within a code block, **comments** are preceded by one or more ``#``, and are not actually executed commands. All uncommented lines are executed by the computer and must be valid Python statements. A line (or selection of lines) can be commented or uncommented with ``Ctrl`` + ``/``."
   ]
  },
  {
   "cell_type": "code",
   "execution_count": 1,
   "metadata": {
    "slideshow": {
     "slide_type": "fragment"
    }
   },
   "outputs": [
    {
     "name": "stdout",
     "output_type": "stream",
     "text": [
      "11\n"
     ]
    }
   ],
   "source": [
    "## this is a python comment. below are python statements.\n",
    "x = 5\n",
    "y = 6\n",
    "print(x + y)"
   ]
  },
  {
   "cell_type": "code",
   "execution_count": 2,
   "metadata": {
    "slideshow": {
     "slide_type": "fragment"
    }
   },
   "outputs": [
    {
     "name": "stdout",
     "output_type": "stream",
     "text": [
      "12\n"
     ]
    }
   ],
   "source": [
    "y = 7\n",
    "print(x + y)"
   ]
  },
  {
   "cell_type": "markdown",
   "metadata": {
    "slideshow": {
     "slide_type": "slide"
    }
   },
   "source": [
    "Now we will go through some quick examples of running code cells. Don't worry about understanding the code yet. This is just a demo to show you the types of things we can do in Python + Jupyter."
   ]
  },
  {
   "cell_type": "markdown",
   "metadata": {
    "slideshow": {
     "slide_type": "fragment"
    }
   },
   "source": [
    "### import libraries"
   ]
  },
  {
   "cell_type": "code",
   "execution_count": 3,
   "metadata": {
    "slideshow": {
     "slide_type": "fragment"
    }
   },
   "outputs": [],
   "source": [
    "import numpy as np\n",
    "import pandas as pd\n",
    "import matplotlib.pyplot as plt\n",
    "import seaborn as sns"
   ]
  },
  {
   "cell_type": "markdown",
   "metadata": {
    "slideshow": {
     "slide_type": "slide"
    }
   },
   "source": [
    "### import data"
   ]
  },
  {
   "cell_type": "code",
   "execution_count": 4,
   "metadata": {
    "slideshow": {
     "slide_type": "fragment"
    }
   },
   "outputs": [
    {
     "name": "stdout",
     "output_type": "stream",
     "text": [
      "(29, 5)\n"
     ]
    }
   ],
   "source": [
    "# import data on February snow, April snow, annual hydropower generation, annual average power price, and annual revenue for a hydropower producing utility in California, from 1988-2016\n",
    "data = pd.read_csv('historical_data.csv', sep = ' ', index_col=0)\n",
    "data.columns = ['snowFeb','snowApr','hydropower','powerPrice','revenue']\n",
    "print(data.shape)"
   ]
  },
  {
   "cell_type": "code",
   "execution_count": 5,
   "metadata": {
    "slideshow": {
     "slide_type": "fragment"
    }
   },
   "outputs": [
    {
     "data": {
      "text/html": [
       "<div>\n",
       "<style scoped>\n",
       "    .dataframe tbody tr th:only-of-type {\n",
       "        vertical-align: middle;\n",
       "    }\n",
       "\n",
       "    .dataframe tbody tr th {\n",
       "        vertical-align: top;\n",
       "    }\n",
       "\n",
       "    .dataframe thead th {\n",
       "        text-align: right;\n",
       "    }\n",
       "</style>\n",
       "<table border=\"1\" class=\"dataframe\">\n",
       "  <thead>\n",
       "    <tr style=\"text-align: right;\">\n",
       "      <th></th>\n",
       "      <th>snowFeb</th>\n",
       "      <th>snowApr</th>\n",
       "      <th>hydropower</th>\n",
       "      <th>powerPrice</th>\n",
       "      <th>revenue</th>\n",
       "    </tr>\n",
       "  </thead>\n",
       "  <tbody>\n",
       "    <tr>\n",
       "      <th>1988</th>\n",
       "      <td>21.0</td>\n",
       "      <td>19.7</td>\n",
       "      <td>1.422674</td>\n",
       "      <td>37.483486</td>\n",
       "      <td>121.021019</td>\n",
       "    </tr>\n",
       "    <tr>\n",
       "      <th>1989</th>\n",
       "      <td>17.2</td>\n",
       "      <td>26.3</td>\n",
       "      <td>1.460064</td>\n",
       "      <td>46.623459</td>\n",
       "      <td>123.020829</td>\n",
       "    </tr>\n",
       "    <tr>\n",
       "      <th>1990</th>\n",
       "      <td>5.4</td>\n",
       "      <td>15.2</td>\n",
       "      <td>1.631492</td>\n",
       "      <td>37.981812</td>\n",
       "      <td>127.945880</td>\n",
       "    </tr>\n",
       "    <tr>\n",
       "      <th>1991</th>\n",
       "      <td>2.5</td>\n",
       "      <td>21.4</td>\n",
       "      <td>1.241667</td>\n",
       "      <td>29.341614</td>\n",
       "      <td>112.712158</td>\n",
       "    </tr>\n",
       "    <tr>\n",
       "      <th>1992</th>\n",
       "      <td>9.4</td>\n",
       "      <td>17.3</td>\n",
       "      <td>1.300621</td>\n",
       "      <td>46.140473</td>\n",
       "      <td>116.300901</td>\n",
       "    </tr>\n",
       "  </tbody>\n",
       "</table>\n",
       "</div>"
      ],
      "text/plain": [
       "      snowFeb  snowApr  hydropower  powerPrice     revenue\n",
       "1988     21.0     19.7    1.422674   37.483486  121.021019\n",
       "1989     17.2     26.3    1.460064   46.623459  123.020829\n",
       "1990      5.4     15.2    1.631492   37.981812  127.945880\n",
       "1991      2.5     21.4    1.241667   29.341614  112.712158\n",
       "1992      9.4     17.3    1.300621   46.140473  116.300901"
      ]
     },
     "execution_count": 5,
     "metadata": {},
     "output_type": "execute_result"
    }
   ],
   "source": [
    "data.head()"
   ]
  },
  {
   "cell_type": "code",
   "execution_count": 6,
   "metadata": {
    "slideshow": {
     "slide_type": "fragment"
    }
   },
   "outputs": [
    {
     "data": {
      "text/html": [
       "<div>\n",
       "<style scoped>\n",
       "    .dataframe tbody tr th:only-of-type {\n",
       "        vertical-align: middle;\n",
       "    }\n",
       "\n",
       "    .dataframe tbody tr th {\n",
       "        vertical-align: top;\n",
       "    }\n",
       "\n",
       "    .dataframe thead th {\n",
       "        text-align: right;\n",
       "    }\n",
       "</style>\n",
       "<table border=\"1\" class=\"dataframe\">\n",
       "  <thead>\n",
       "    <tr style=\"text-align: right;\">\n",
       "      <th></th>\n",
       "      <th>snowFeb</th>\n",
       "      <th>snowApr</th>\n",
       "      <th>hydropower</th>\n",
       "      <th>powerPrice</th>\n",
       "      <th>revenue</th>\n",
       "    </tr>\n",
       "  </thead>\n",
       "  <tbody>\n",
       "    <tr>\n",
       "      <th>2012</th>\n",
       "      <td>7.2</td>\n",
       "      <td>14.8</td>\n",
       "      <td>1.086853</td>\n",
       "      <td>42.563617</td>\n",
       "      <td>105.442917</td>\n",
       "    </tr>\n",
       "    <tr>\n",
       "      <th>2013</th>\n",
       "      <td>19.0</td>\n",
       "      <td>17.7</td>\n",
       "      <td>1.290264</td>\n",
       "      <td>38.226268</td>\n",
       "      <td>113.034683</td>\n",
       "    </tr>\n",
       "    <tr>\n",
       "      <th>2014</th>\n",
       "      <td>3.0</td>\n",
       "      <td>16.0</td>\n",
       "      <td>1.038833</td>\n",
       "      <td>45.803822</td>\n",
       "      <td>106.157363</td>\n",
       "    </tr>\n",
       "    <tr>\n",
       "      <th>2015</th>\n",
       "      <td>5.0</td>\n",
       "      <td>4.0</td>\n",
       "      <td>1.112580</td>\n",
       "      <td>32.431265</td>\n",
       "      <td>107.689465</td>\n",
       "    </tr>\n",
       "    <tr>\n",
       "      <th>2016</th>\n",
       "      <td>19.0</td>\n",
       "      <td>26.5</td>\n",
       "      <td>1.447377</td>\n",
       "      <td>45.154503</td>\n",
       "      <td>125.867679</td>\n",
       "    </tr>\n",
       "  </tbody>\n",
       "</table>\n",
       "</div>"
      ],
      "text/plain": [
       "      snowFeb  snowApr  hydropower  powerPrice     revenue\n",
       "2012      7.2     14.8    1.086853   42.563617  105.442917\n",
       "2013     19.0     17.7    1.290264   38.226268  113.034683\n",
       "2014      3.0     16.0    1.038833   45.803822  106.157363\n",
       "2015      5.0      4.0    1.112580   32.431265  107.689465\n",
       "2016     19.0     26.5    1.447377   45.154503  125.867679"
      ]
     },
     "execution_count": 6,
     "metadata": {},
     "output_type": "execute_result"
    }
   ],
   "source": [
    "data.tail()"
   ]
  },
  {
   "cell_type": "markdown",
   "metadata": {
    "slideshow": {
     "slide_type": "slide"
    }
   },
   "source": [
    "### plot data"
   ]
  },
  {
   "cell_type": "code",
   "execution_count": 7,
   "metadata": {
    "slideshow": {
     "slide_type": "fragment"
    }
   },
   "outputs": [
    {
     "data": {
      "image/png": "[encoded data removed]",
      "text/plain": [
       "<Figure size 432x288 with 1 Axes>"
      ]
     },
     "metadata": {
      "needs_background": "light"
     },
     "output_type": "display_data"
    },
    {
     "data": {
      "image/png": "[encoded data removed]",
      "text/plain": [
       "<Figure size 432x288 with 1 Axes>"
      ]
     },
     "metadata": {
      "needs_background": "light"
     },
     "output_type": "display_data"
    },
    {
     "data": {
      "image/png": "[encoded data removed]",
      "text/plain": [
       "<Figure size 432x288 with 1 Axes>"
      ]
     },
     "metadata": {
      "needs_background": "light"
     },
     "output_type": "display_data"
    },
    {
     "data": {
      "image/png": "[encoded data removed]",
      "text/plain": [
       "<Figure size 432x288 with 1 Axes>"
      ]
     },
     "metadata": {
      "needs_background": "light"
     },
     "output_type": "display_data"
    },
    {
     "data": {
      "image/png": "[encoded data removed]",
      "text/plain": [
       "<Figure size 432x288 with 1 Axes>"
      ]
     },
     "metadata": {
      "needs_background": "light"
     },
     "output_type": "display_data"
    }
   ],
   "source": [
    "#  See statewide drought years from [Wikipedia](https://en.wikipedia.org/wiki/Droughts_in_California)\n",
    "drought_start = [1986, 2007, 2011]\n",
    "drought_end = [1992, 2009, 2016]\n",
    "\n",
    "# function for plotting each time series. Drought years designated with red bands.\n",
    "def plot_time_series(time_series, ylabel):\n",
    "    fig = plt.figure()\n",
    "    plt.plot(time_series, color='k')\n",
    "    for i in range(len(drought_start)):\n",
    "        plt.axvspan(drought_start[i], drought_end[i], color='indianred', alpha=0.5)\n",
    "    plt.xlabel('Year')\n",
    "    plt.ylabel(ylabel)\n",
    "\n",
    "# y axis labels\n",
    "ylabels = ['Feb 1 snow (inch)', 'Apr 1 snow (inch)', 'Hydropower (TWh)', 'Power price ($/MWh)', 'Revenue ($M)']\n",
    "\n",
    "# plot each time series\n",
    "for i, d in enumerate(data.iteritems()):\n",
    "    plot_time_series(d[1], ylabels[i])\n"
   ]
  },
  {
   "cell_type": "code",
   "execution_count": 8,
   "metadata": {
    "slideshow": {
     "slide_type": "slide"
    }
   },
   "outputs": [
    {
     "data": {
      "text/plain": [
       "<seaborn.axisgrid.PairGrid at 0x7fe8c3d9b2e8>"
      ]
     },
     "execution_count": 8,
     "metadata": {},
     "output_type": "execute_result"
    },
    {
     "data": {
      "text/plain": [
       "<Figure size 432x288 with 0 Axes>"
      ]
     },
     "metadata": {},
     "output_type": "display_data"
    },
    {
     "data": {
      "image/png": "[encoded data removed]",
      "text/plain": [
       "<Figure size 900x900 with 20 Axes>"
      ]
     },
     "metadata": {
      "needs_background": "light"
     },
     "output_type": "display_data"
    }
   ],
   "source": [
    "# pairplot to see relationships\n",
    "fig = plt.figure()\n",
    "sns.pairplot(data, corner=True, kind='reg', diag_kind='kde')"
   ]
  },
  {
   "cell_type": "markdown",
   "metadata": {
    "slideshow": {
     "slide_type": "slide"
    }
   },
   "source": [
    "## Intro to Python\n",
    "### What is code? \n",
    "**A caveat: I am not a computer scientist.** My domain of expertise is water resources systems, and computer programming can be used to solve a lot of interesting problems in this field. A real computer scientist might quibble with some of my definitions in this section (and throughout the course). But what is important, in my opinion, is that these definitions provide a useful intuition that allows us to apply programming languages like Python to our research with relative ease."
   ]
  },
  {
   "cell_type": "markdown",
   "metadata": {
    "slideshow": {
     "slide_type": "slide"
    }
   },
   "source": [
    "Any computer code is simply a list of instructions for the computer to follow. At the most basic level (\"machine code\"), computing instructions tell the central processing unit (CPU) how to manipulate bits of information to produce new, useful bits of information. Other types of instructions tell the computer how to move bits of information from short term memory (RAM) or long term memory (e.g., your hard drive or \"the cloud\") to the CPU for processing, or else from the CPU to short or long term memory for storage. However, machine code is difficult, tedious, and slow to write by hand. "
   ]
  },
  {
   "cell_type": "markdown",
   "metadata": {
    "slideshow": {
     "slide_type": "fragment"
    }
   },
   "source": [
    "Enter programming languages. Programming languages like Python allow us to write simpler, more readable (\"higher-level\") computer code. The Python \"interpreter\" acts like a Rosetta Stone that translates the simpler Python code (written in the Python \"language\") into more detailed and complex machine code behind the scenes. "
   ]
  },
  {
   "cell_type": "markdown",
   "metadata": {
    "slideshow": {
     "slide_type": "slide"
    }
   },
   "source": [
    "### What is Python?\n",
    "[Python was created as a hobby/side project by Guido van Rossum](https://www.techrepublic.com/article/python-is-eating-the-world-how-one-developers-side-project-became-the-hottest-programming-language-on-the-planet/) and released in 1991. It is free and [open source](https://opensource.com/resources/what-open-source), meaning that the language's source code is openly available to all, and anyone can contribute to improve it. [According to van Rossum](http://neopythonic.blogspot.com/2016/04/kings-day-speech.html), this is one of the main reason's Python has been so successful:"
   ]
  },
  {
   "cell_type": "markdown",
   "metadata": {
    "slideshow": {
     "slide_type": "fragment"
    }
   },
   "source": [
    "> But what is the idea of Python? Why is it so successful? How does Python distinguish itself from other programming languages? (Why are you all staring at me like that?) I have many answers, some quite technical, some from my specific skills and experience at the time, some just about being in the right place at the right time. But I believe the most important idea is that Python is developed on the Internet, entirely in the open, by a community of volunteers (but not amateurs!) who feel passion and ownership."
   ]
  },
  {
   "cell_type": "markdown",
   "metadata": {
    "slideshow": {
     "slide_type": "slide"
    }
   },
   "source": [
    "Compared to \"lower-level\" programming languages like C, Python puts an emphasis on readability and simplicity (you will often read that \"Pythonic\" code should be \"beautiful\"). This helps to accelerate the pace of program development and improve the sharing of ideas. Again according to van Rossum,"
   ]
  },
  {
   "cell_type": "markdown",
   "metadata": {
    "slideshow": {
     "slide_type": "fragment"
    }
   },
   "source": [
    "> But I would like to say a few things about what programming languages mean to the people who use them — programmers. Typically when you ask a programmer to explain to a lay person what a programming language is, they will say that it is how you tell a computer what to do. But if that was all, why would they be so passionate about programming languages when they talk among themselves? In reality, programming languages are how programmers express and communicate ideas — and the audience for those ideas is other programmers, not computers. The reason: the computer can take care of itself, but programmers are always working with other programmers, and poorly communicated ideas can cause expensive flops. "
   ]
  },
  {
   "cell_type": "markdown",
   "metadata": {
    "slideshow": {
     "slide_type": "fragment"
    }
   },
   "source": [
    "Due to its simplicity and flexibility, Python has become one of the most [popular programming languages](https://towardsdatascience.com/top-10-in-demand-programming-languages-to-learn-in-2020-4462eb7d8d3e) in fields from data science and artificial intelligence to web and app development."
   ]
  },
  {
   "cell_type": "markdown",
   "metadata": {
    "slideshow": {
     "slide_type": "slide"
    }
   },
   "source": [
    "### Example program execution\n",
    "To make things concrete, consider the following Python snippet, which will perform a simple arithmetic calculation. "
   ]
  },
  {
   "cell_type": "code",
   "execution_count": 9,
   "metadata": {
    "slideshow": {
     "slide_type": "slide"
    }
   },
   "outputs": [
    {
     "name": "stdout",
     "output_type": "stream",
     "text": [
      "7\n"
     ]
    }
   ],
   "source": [
    "x = 5\n",
    "y = 2\n",
    "z = x + y\n",
    "print(z)"
   ]
  },
  {
   "cell_type": "markdown",
   "metadata": {
    "slideshow": {
     "slide_type": "fragment"
    }
   },
   "source": [
    "To execute this code, the Python \"interpreter\" is translating this code into machine code that does the following:\n",
    "1. Locate a free chunk of memory in RAM, and assign this chunk the label \"x\""
   ]
  },
  {
   "cell_type": "markdown",
   "metadata": {
    "slideshow": {
     "slide_type": "fragment"
    }
   },
   "source": [
    "2. Store the number 5 at the location labeled \"x\""
   ]
  },
  {
   "cell_type": "markdown",
   "metadata": {
    "slideshow": {
     "slide_type": "fragment"
    }
   },
   "source": [
    "3. Locate a free chunk of memory in RAM, and assign this chunk the label \"y\""
   ]
  },
  {
   "cell_type": "markdown",
   "metadata": {
    "slideshow": {
     "slide_type": "fragment"
    }
   },
   "source": [
    "4. Store the number 2 at the location labeled \"y\""
   ]
  },
  {
   "cell_type": "markdown",
   "metadata": {
    "slideshow": {
     "slide_type": "fragment"
    }
   },
   "source": [
    "5. Locate the numbers stored at \"x\" (5) and \"y\" (2) and move them from RAM to the CPU"
   ]
  },
  {
   "cell_type": "markdown",
   "metadata": {
    "slideshow": {
     "slide_type": "fragment"
    }
   },
   "source": [
    "6. Use the CPU to add together 5 and 2 and get 7"
   ]
  },
  {
   "cell_type": "markdown",
   "metadata": {
    "slideshow": {
     "slide_type": "fragment"
    }
   },
   "source": [
    "7. Locate a free chunk of memory in RAM, and assign this chunk the label \"z\""
   ]
  },
  {
   "cell_type": "markdown",
   "metadata": {
    "slideshow": {
     "slide_type": "fragment"
    }
   },
   "source": [
    "8. Move the number 7 from CPU to RAM and store it at the location labeled \"z\""
   ]
  },
  {
   "cell_type": "markdown",
   "metadata": {
    "slideshow": {
     "slide_type": "fragment"
    }
   },
   "source": [
    "9. Locate the number stored at \"z\" (7) and send it through a number of routines that result in it being printed in the Jupyter notebook."
   ]
  },
  {
   "cell_type": "markdown",
   "metadata": {
    "slideshow": {
     "slide_type": "fragment"
    }
   },
   "source": [
    "Each of these steps would be non-trivial to implement in machine code, and I have left out a number of intermediate steps for clarity. Thankfully, when we write code in Python, we rarely if ever have to concern ourselves with these details. The Python libraries allow us to write simple, readable code that hides the machine-level details from sight and mind."
   ]
  },
  {
   "cell_type": "markdown",
   "metadata": {
    "slideshow": {
     "slide_type": "slide"
    }
   },
   "source": [
    "### Variable assignment and arithmetic\n",
    "When we **declare** a variable, like ``x`` above, and **assign** it a value (5), this allows us to store the value for later. It will keep the same value even in new cells within the Jupyter notebook"
   ]
  },
  {
   "cell_type": "code",
   "execution_count": 10,
   "metadata": {
    "slideshow": {
     "slide_type": "fragment"
    }
   },
   "outputs": [
    {
     "name": "stdout",
     "output_type": "stream",
     "text": [
      "5\n"
     ]
    }
   ],
   "source": [
    "print(x)"
   ]
  },
  {
   "cell_type": "markdown",
   "metadata": {
    "slideshow": {
     "slide_type": "fragment"
    }
   },
   "source": [
    "However, this value can be over-written by **re-assigning** it a new value."
   ]
  },
  {
   "cell_type": "code",
   "execution_count": 11,
   "metadata": {
    "slideshow": {
     "slide_type": "fragment"
    }
   },
   "outputs": [
    {
     "name": "stdout",
     "output_type": "stream",
     "text": [
      "2\n"
     ]
    }
   ],
   "source": [
    "x = 2\n",
    "print(x)"
   ]
  },
  {
   "cell_type": "code",
   "execution_count": 12,
   "metadata": {
    "slideshow": {
     "slide_type": "fragment"
    }
   },
   "outputs": [
    {
     "name": "stdout",
     "output_type": "stream",
     "text": [
      "4\n"
     ]
    }
   ],
   "source": [
    "x = x + y\n",
    "print(x)"
   ]
  },
  {
   "cell_type": "markdown",
   "metadata": {
    "slideshow": {
     "slide_type": "slide"
    }
   },
   "source": [
    "With simple arithmetic operations, there is a shorthand way to write the operations:"
   ]
  },
  {
   "cell_type": "code",
   "execution_count": 13,
   "metadata": {
    "slideshow": {
     "slide_type": "fragment"
    }
   },
   "outputs": [
    {
     "name": "stdout",
     "output_type": "stream",
     "text": [
      "5\n"
     ]
    }
   ],
   "source": [
    "x = 2\n",
    "x += 3\n",
    "print(x)"
   ]
  },
  {
   "cell_type": "code",
   "execution_count": 14,
   "metadata": {
    "slideshow": {
     "slide_type": "fragment"
    }
   },
   "outputs": [
    {
     "name": "stdout",
     "output_type": "stream",
     "text": [
      "0.3333333333333333\n"
     ]
    }
   ],
   "source": [
    "y = 1\n",
    "y /= 3\n",
    "print(y)"
   ]
  },
  {
   "cell_type": "markdown",
   "metadata": {
    "slideshow": {
     "slide_type": "fragment"
    }
   },
   "source": [
    "which is equivalent to:"
   ]
  },
  {
   "cell_type": "code",
   "execution_count": 15,
   "metadata": {
    "slideshow": {
     "slide_type": "fragment"
    }
   },
   "outputs": [
    {
     "name": "stdout",
     "output_type": "stream",
     "text": [
      "5\n"
     ]
    }
   ],
   "source": [
    "x = 2\n",
    "x = x + 3\n",
    "print(x)"
   ]
  },
  {
   "cell_type": "code",
   "execution_count": 16,
   "metadata": {
    "slideshow": {
     "slide_type": "fragment"
    }
   },
   "outputs": [
    {
     "name": "stdout",
     "output_type": "stream",
     "text": [
      "0.3333333333333333\n"
     ]
    }
   ],
   "source": [
    "y = 1\n",
    "y = y / 3\n",
    "print(y)"
   ]
  },
  {
   "cell_type": "markdown",
   "metadata": {
    "slideshow": {
     "slide_type": "slide"
    }
   },
   "source": [
    "Most simple arithmetic operations use the symbols you expect (``+``, ``-``, ``*``, ``/``). However, exponentiation in Python uses the ``**`` symbol, not ``^``."
   ]
  },
  {
   "cell_type": "code",
   "execution_count": 17,
   "metadata": {
    "slideshow": {
     "slide_type": "fragment"
    }
   },
   "outputs": [
    {
     "data": {
      "text/plain": [
       "16"
      ]
     },
     "execution_count": 17,
     "metadata": {},
     "output_type": "execute_result"
    }
   ],
   "source": [
    "4**2"
   ]
  },
  {
   "cell_type": "markdown",
   "metadata": {
    "slideshow": {
     "slide_type": "fragment"
    }
   },
   "source": [
    "Python also follows the typical order of operations: Parentheses -> exponentiation -> multiplication -> division -> addition -> subtraction (PEMDAS)."
   ]
  },
  {
   "cell_type": "code",
   "execution_count": 18,
   "metadata": {
    "slideshow": {
     "slide_type": "fragment"
    }
   },
   "outputs": [
    {
     "data": {
      "text/plain": [
       "2.0"
      ]
     },
     "execution_count": 18,
     "metadata": {},
     "output_type": "execute_result"
    }
   ],
   "source": [
    "1 + 9 / 3 ** 2"
   ]
  },
  {
   "cell_type": "code",
   "execution_count": 19,
   "metadata": {
    "slideshow": {
     "slide_type": "fragment"
    }
   },
   "outputs": [
    {
     "data": {
      "text/plain": [
       "1.1111111111111112"
      ]
     },
     "execution_count": 19,
     "metadata": {},
     "output_type": "execute_result"
    }
   ],
   "source": [
    "(1 + 9) / 3 ** 2"
   ]
  },
  {
   "cell_type": "code",
   "execution_count": 20,
   "metadata": {
    "slideshow": {
     "slide_type": "fragment"
    }
   },
   "outputs": [
    {
     "data": {
      "text/plain": [
       "11.111111111111112"
      ]
     },
     "execution_count": 20,
     "metadata": {},
     "output_type": "execute_result"
    }
   ],
   "source": [
    "((1 + 9) / 3) ** 2"
   ]
  },
  {
   "cell_type": "markdown",
   "metadata": {
    "slideshow": {
     "slide_type": "slide"
    }
   },
   "source": [
    "Always be careful with your parentheses placement - it is *very* easy to introduce bugs by putting parentheses in the wrong place. For example:"
   ]
  },
  {
   "cell_type": "code",
   "execution_count": 21,
   "metadata": {
    "slideshow": {
     "slide_type": "fragment"
    }
   },
   "outputs": [
    {
     "name": "stdout",
     "output_type": "stream",
     "text": [
      "-16.149919149152137\n",
      "-15.546211595847266\n"
     ]
    }
   ],
   "source": [
    "print( (((1+3)/(-1.1))*(45/4.5)**(-0.5)-15) )\n",
    "print( (((1+3/(-1.1))*(45/4.5)**(-0.5))-15) )"
   ]
  },
  {
   "cell_type": "markdown",
   "metadata": {
    "slideshow": {
     "slide_type": "fragment"
    }
   },
   "source": [
    "It can be very difficult to identify this as the source of an error. And in this case, the results are similar enough that you might not even figure out that you have an error in the first place. "
   ]
  },
  {
   "cell_type": "markdown",
   "metadata": {
    "slideshow": {
     "slide_type": "slide"
    }
   },
   "source": [
    "### A few best practices for writing readable, understandable, bug-free code\n",
    "1. Make sure your **parentheses are in the right place**"
   ]
  },
  {
   "cell_type": "markdown",
   "metadata": {
    "slideshow": {
     "slide_type": "fragment"
    }
   },
   "source": [
    "1. Use of **parentheses can make code more readable**, even where not explicitly needed for order of operations. But there is a fine line - too many and it becomes difficult to read. See last point."
   ]
  },
  {
   "cell_type": "markdown",
   "metadata": {
    "slideshow": {
     "slide_type": "fragment"
    }
   },
   "source": [
    "2. Use **spacing** to make code more readable."
   ]
  },
  {
   "cell_type": "markdown",
   "metadata": {
    "slideshow": {
     "slide_type": "fragment"
    }
   },
   "source": [
    "3. **Check the values** of your variables often, and compare to expectation"
   ]
  },
  {
   "cell_type": "markdown",
   "metadata": {
    "slideshow": {
     "slide_type": "fragment"
    }
   },
   "source": [
    "4. **Comments, comments, comments**. Use many comments to explain what you are doing. Your collaborators as well as your future self will thank you."
   ]
  },
  {
   "cell_type": "markdown",
   "metadata": {
    "slideshow": {
     "slide_type": "fragment"
    }
   },
   "source": [
    "5. Don't be afraid to **use more lines and variables**. "
   ]
  },
  {
   "cell_type": "markdown",
   "metadata": {
    "slideshow": {
     "slide_type": "slide"
    }
   },
   "source": [
    "For example, compare the readability of the following two statements. Although the first is longer, it is much more readable and would be much more easily debugged in the event of an error."
   ]
  },
  {
   "cell_type": "code",
   "execution_count": 22,
   "metadata": {
    "slideshow": {
     "slide_type": "fragment"
    }
   },
   "outputs": [
    {
     "name": "stdout",
     "output_type": "stream",
     "text": [
      "-16.149919149152137\n"
     ]
    }
   ],
   "source": [
    "# longer but more clear\n",
    "x = (1 + 3) / -1.1\n",
    "y = (45 / 4.5) ** -0.5\n",
    "z = (x * y) - 15\n",
    "print(z)"
   ]
  },
  {
   "cell_type": "code",
   "execution_count": 23,
   "metadata": {
    "slideshow": {
     "slide_type": "fragment"
    }
   },
   "outputs": [
    {
     "name": "stdout",
     "output_type": "stream",
     "text": [
      "-16.149919149152137\n"
     ]
    }
   ],
   "source": [
    "# Shorter but an unreadable mess\n",
    "print( (((1+3)/(-1.1))*(45/4.5)**(-0.5)-15) )"
   ]
  },
  {
   "cell_type": "markdown",
   "metadata": {
    "slideshow": {
     "slide_type": "slide"
    }
   },
   "source": [
    "## Installing software\n",
    "We will need four major pieces of software for this class: Python 3, Jupyter Notebook, and GitHub Desktop. The first two are conveniently handled with an installation of Anaconda."
   ]
  },
  {
   "cell_type": "markdown",
   "metadata": {
    "slideshow": {
     "slide_type": "fragment"
    }
   },
   "source": [
    "### Installing Anaconda\n",
    "Anaconda (Individual Edition) is a free, open-sourced Python & R distribution platform, or ecosystem. Anaconda bundles together all of the most common packages in one download, and handles complicated dependency issues so that everything plays nicely together. It also makes it much easier to download non-standard packages that you might want to use. Besides the Python libraries themselves, the Anaconda distribution comes standard with Jupyter Notebook and Spyder. Jupyter Notebook is a program for running interactive Python documents (\"notebooks\") in a browser, while Spyder is an Integrated Development Environment (IDE) which can be used for developing larger and more complex Python programs. We will stick to Jupyter Notebook for a while, but may move to Spyder later on in the course depending on interest."
   ]
  },
  {
   "cell_type": "markdown",
   "metadata": {
    "slideshow": {
     "slide_type": "slide"
    }
   },
   "source": [
    "Follow the following steps to install and set up Anaconda:\n",
    "1. Download the proper installer for Python 3.7 (NOT Python 2.7) [here](https://www.anaconda.com/products/individual), based on the correct operating system for your computer. If you run Windows and don't know whether your computer is 64-bit or 32-bit, follow the instructions [here](https://support.microsoft.com/en-us/help/15056/windows-32-64-bit-faq) to find out. If you have a Mac, choose the Graphical Installer.\n",
    "1. Run the installer and follow the instructions.\n",
    "1. Open the Anaconda Navigator app. Note that the Navigator is different from the Anaconda Prompt, which is a command line interface. We will stick with the Navigator's graphical interface for now.\n",
    "1. Click the \"Environments\" tab on the lefthand side. This will list all of the different libraries that Anaconda has installed as default. Now click \"Channels\" at the top, then \"Add\". We want to add another set of libraries that has some helpful software - type \"conda-forge\" and hit Enter, then click \"Update channels\". This will install some new packages and may take a minute or two.\n",
    "1. Now back on the \"Home\" tab on the lefthand side, you will see a number of applications that have been installed. These should include \"Jupyter Notebook\" and \"Spyder\". For each of these three apps, click the settings button in the top righthand corner and click \"Update Application\" if possible. If the update option is greyed out, this means it is already up to date."
   ]
  },
  {
   "cell_type": "markdown",
   "metadata": {
    "slideshow": {
     "slide_type": "slide"
    }
   },
   "source": [
    "### Installing GitHub Desktop\n",
    "Git is a free, open-sourced software for version control, which allows you to track changes to any kind of files: Python scripts, data files, text files, Word documents, etc. This becomes especially powerful when multiple people are collaborating on a single project and need a robust method for integrating each other's changes into the project."
   ]
  },
  {
   "cell_type": "markdown",
   "metadata": {
    "slideshow": {
     "slide_type": "fragment"
    }
   },
   "source": [
    "GitHub is the most popular website for hosting git projects, and it will be used to host all material for this class. Putting your project in an online repository (repo) on GitHub has two major advantages: (1) This makes it easy to share code and collaborate with others, and (2) This allows you to use GitHub as free backup for your project. About a year ago my computer crashed and I had to take it to tech support for about a week. Luckily, I had recently \"pushed\" my local changes of my research to GitHub, which allowed me to download the project onto the loaner laptop I recieved from tech support, and get right back to work. Major nightmare averted. "
   ]
  },
  {
   "cell_type": "markdown",
   "metadata": {
    "slideshow": {
     "slide_type": "slide"
    }
   },
   "source": [
    "Follow the following steps to set up GitHub on your computer:\n",
    "1. Sign up for an account [here](https://github.com/join).\n",
    "1. GitHub has a basic plan that anyone can use for free, but as students we can get access to GitHub Pro by signing up [here](https://education.github.com/discount_requests/new). This is important because it gives you unlimited \"private\" repositories, rather than having to make everything open to the public. If you used a non-academic email to sign up for GitHub, then you will need to link your academic (.edu) email here.\n",
    "1. Download GitHub Desktop [here](https://desktop.github.com/). Again, be sure to choose the correct installer for your operating system.\n",
    "1. Follow the setup instructions from the installer. When prompted, add your username and email for GitHub."
   ]
  },
  {
   "cell_type": "markdown",
   "metadata": {
    "slideshow": {
     "slide_type": "slide"
    }
   },
   "source": [
    "### Setting up the course repository\n",
    "All course material can be found at the online GitHub repository [here](https://github.com/ahamilton144/Python-For-Environmental-Research). However, we would also like to create a local version of the repo (a \"clone\") on your computer, using GitHub Desktop. To do so, click \"Add\" -> \"Clone repository\" -> \"URL\". Enter \"https://github.com/ahamilton144/Python-For-Environmental-Research\" and hit \"Clone\". Be sure to note the \"Local Path\", which is the directory location where the new repo will be created on your machine - feel free to change this to somewhere more convenient if you don't like the default. Once you have completed this step, all the files from the online repo will have been copied to your local repo."
   ]
  },
  {
   "cell_type": "markdown",
   "metadata": {
    "slideshow": {
     "slide_type": "slide"
    }
   },
   "source": [
    "## Running this Jupyter Notebook (your first homework)\n",
    "**Your first homework** (the \"Hello World\" assignment on the course syllabus) is simply to run this notebook on your own computer and verify that it works, and answer the questions below. \n",
    "\n",
    "The Jupyter notebook file can be found in the local git repository that you \"cloned\" to your machine in the last step. Within that directory, the notebook can be found at \"Python-For-Environmental-Research/Lec1_IntroJupyter/Lec1_IntroJupyter.ipynb\". However, your computer won't know how to open it directly from the File Explorer. To open it and run it (or any Jupyter notebook), follow these steps:\n",
    "1. Open Anaconda Navigator\n",
    "1. Find the Jupyter Notebook app and click \"Launch\"\n",
    "1. Navigate to your local repository and click on the notebook\n",
    "1. If JupyterLab asks you to select a kernel, choose Python 3\n",
    "1. Click \"Save as\" (under \"File\" tab) and **save a copy** of the notebook as ``Lec1_IntroJupyter_<your_last_name>.ipynb``.\n",
    "1. Press ``Shift`` + ``Enter`` to run each cell one-by-one, or click \"Restart and run all\" under the \"Kernel\" tab to run the entire notebook sequentially."
   ]
  },
  {
   "cell_type": "markdown",
   "metadata": {
    "slideshow": {
     "slide_type": "slide"
    }
   },
   "source": [
    "**Now uncomment the second and third lines of the cell below and execute it**, so that \"Hello World!\" is output below the cell."
   ]
  },
  {
   "cell_type": "code",
   "execution_count": 1,
   "metadata": {
    "slideshow": {
     "slide_type": "fragment"
    }
   },
   "outputs": [],
   "source": [
    "# ### every beginner programming tutorial has to have a \"hello world\" statement. Here it is in Python 3!\n",
    "# a = \"Hello World!\"\n",
    "# print(a)"
   ]
  },
  {
   "cell_type": "markdown",
   "metadata": {
    "slideshow": {
     "slide_type": "slide"
    }
   },
   "source": [
    "**Finally, briefly answer the following questions (double click to make the cell \"active\", write your answers, and then hit ``Ctrl`` + ``Enter`` to \"execute\" the cell)**\n",
    "\n",
    "1) Your name, nickname if you have one, and preferred pronouns (you can use he/him/his pronouns for me).\n",
    "\n",
    "Answer question 1 here\n",
    "\n",
    "1) Do you have any experience with computer programming? (totally fine if not, that's why we're here!)\n",
    "\n",
    "Answer question 2 here\n",
    "\n",
    "2) Tell me a bit about your research interests.\n",
    "\n",
    "Answer question 3 here\n",
    "\n",
    "3) Do you have any ideas for how you might like to apply computer programming to your research interests?\n",
    "\n",
    "Answer question 4 here\n",
    "\n",
    "After you have answered the questions, run the notebook, and verified that all of the cells execute properly without errors, **save your notebook** (under \"File\" tab, or press ``Ctrl`` + ``s``)."
   ]
  }
 ],
 "metadata": {
  "celltoolbar": "Slideshow",
  "kernelspec": {
   "display_name": "Python 3",
   "language": "python",
   "name": "python3"
  },
  "language_info": {
   "codemirror_mode": {
    "name": "ipython",
    "version": 3
   },
   "file_extension": ".py",
   "mimetype": "text/x-python",
   "name": "python",
   "nbconvert_exporter": "python",
   "pygments_lexer": "ipython3",
   "version": "3.7.6"
  }
 },
 "nbformat": 4,
 "nbformat_minor": 4
}
