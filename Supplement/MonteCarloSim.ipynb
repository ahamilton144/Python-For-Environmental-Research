{
 "cells": [
  {
   "cell_type": "markdown",
   "metadata": {},
   "source": [
    "# Lecture 9: Intro to reservoir simulation and Monte Carlo methods\n",
    "ENVR 890-001: Python for Environmental Research, Fall 2020\n",
    "\n",
    "October 23, 2020\n",
    "\n",
    "By Andrew Hamilton. Some material adapted from Greg Characklis, David Gorelick and H.B. Zeff."
   ]
  },
  {
   "cell_type": "markdown",
   "metadata": {},
   "source": [
    "## Summary\n",
    "In this lecture, we will learn how to use **Monte Carlo methods** to account for uncertainty/probability in computer models. We will then build a model a **reservoir simulation model** and apply Monte Carlo to see how uncertainty propagates through the system."
   ]
  },
  {
   "cell_type": "markdown",
   "metadata": {},
   "source": [
    "## Monte Carlo (MC) methods\n",
    "### Intro\n",
    "***See hand-written notes pdf, Part 1, for introductory context***\n",
    "\n",
    "### Implementation\n",
    "Here we will implement the simple MC problem introduced in the notes.\n",
    "\n",
    "First, assume we have estimated that daily PM10 concentrations in a particular region is approximately normally distributed with a mean ($\\mu$) of 90 ug/m3 and a standard deviation ($\\sigma$) of 20 ug/m3. We saw in the notes how to estimate the probability of violating the 150 ug/m3 standard on any particular day, and how to calculate the 95 percentile of PM10. Here is how to do that with MC sampling."
   ]
  },
  {
   "cell_type": "code",
   "execution_count": 1,
   "metadata": {},
   "outputs": [],
   "source": [
    "import numpy as np\n",
    "import pandas as pd\n",
    "import matplotlib.pyplot as plt\n",
    "import seaborn as sns\n",
    "from numpy.random import normal, lognormal\n",
    "from scipy.stats import skew, kurtosis"
   ]
  },
  {
   "cell_type": "code",
   "execution_count": 2,
   "metadata": {},
   "outputs": [],
   "source": [
    "### define variables\n",
    "mu = 90\n",
    "sigma = 20\n",
    "standard = 150\n",
    "nsamples = 1000000"
   ]
  },
  {
   "cell_type": "code",
   "execution_count": 3,
   "metadata": {},
   "outputs": [
    {
     "data": {
      "text/plain": [
       "array([96.43473056, 74.89176564, 87.08563391, ..., 81.13149679,\n",
       "       96.85613204, 94.33673982])"
      ]
     },
     "execution_count": 3,
     "metadata": {},
     "output_type": "execute_result"
    }
   ],
   "source": [
    "### sample from normal distribution\n",
    "pm10 = normal(mu, sigma, size = nsamples)\n",
    "pm10"
   ]
  },
  {
   "cell_type": "code",
   "execution_count": 4,
   "metadata": {},
   "outputs": [
    {
     "name": "stdout",
     "output_type": "stream",
     "text": [
      "Mean: 89.9954\n",
      "Std: 20.0040\n",
      "Skew: -0.0052\n",
      "Excess Kurtosis: 0.0106\n"
     ]
    },
    {
     "data": {
      "text/plain": [
       "(array([1.20000e+01, 6.20000e+01, 4.69000e+02, 2.11600e+03, 7.56600e+03,\n",
       "        2.24740e+04, 5.40380e+04, 1.01802e+05, 1.55003e+05, 1.88053e+05,\n",
       "        1.81107e+05, 1.38477e+05, 8.50910e+04, 4.12530e+04, 1.60700e+04,\n",
       "        4.88900e+03, 1.21100e+03, 2.60000e+02, 3.60000e+01, 1.10000e+01]),\n",
       " array([ -4.60235481,   5.01678505,  14.6359249 ,  24.25506476,\n",
       "         33.87420462,  43.49334448,  53.11248433,  62.73162419,\n",
       "         72.35076405,  81.9699039 ,  91.58904376, 101.20818362,\n",
       "        110.82732348, 120.44646333, 130.06560319, 139.68474305,\n",
       "        149.3038829 , 158.92302276, 168.54216262, 178.16130248,\n",
       "        187.78044233]),\n",
       " <BarContainer object of 20 artists>)"
      ]
     },
     "execution_count": 4,
     "metadata": {},
     "output_type": "execute_result"
    },
    {
     "data": {
      "image/png": "[encoded data removed]",
      "text/plain": [
       "<Figure size 432x288 with 1 Axes>"
      ]
     },
     "metadata": {
      "needs_background": "light"
     },
     "output_type": "display_data"
    }
   ],
   "source": [
    "### get sample statistics & histogram. increase number of samples if necessary\n",
    "print(f'Mean: {pm10.mean():.4f}')\n",
    "print(f'Std: {pm10.std():.4f}')\n",
    "print(f'Skew: {skew(pm10):.4f}')\n",
    "print(f'Excess Kurtosis: {kurtosis(pm10):.4f}')\n",
    "plt.hist(pm10, bins=20)"
   ]
  },
  {
   "cell_type": "code",
   "execution_count": 5,
   "metadata": {},
   "outputs": [
    {
     "name": "stdout",
     "output_type": "stream",
     "text": [
      "[False False False ... False False False]\n",
      "\n"
     ]
    }
   ],
   "source": [
    "### probability of violating standard?\n",
    "violations = pm10 > standard\n",
    "print(violations)\n",
    "print()"
   ]
  },
  {
   "cell_type": "code",
   "execution_count": 6,
   "metadata": {},
   "outputs": [
    {
     "name": "stdout",
     "output_type": "stream",
     "text": [
      "Probability of violation: 0.0014\n"
     ]
    }
   ],
   "source": [
    "prob_violation = violations.mean()\n",
    "print(f'Probability of violation: {prob_violation:.4f}')"
   ]
  },
  {
   "cell_type": "code",
   "execution_count": 7,
   "metadata": {},
   "outputs": [
    {
     "name": "stdout",
     "output_type": "stream",
     "text": [
      "95th percentile: 122.8542 ug/m3\n"
     ]
    }
   ],
   "source": [
    "### 95th percentile of pm10?\n",
    "p95_pm10 = np.quantile(pm10, 0.95)\n",
    "print(f'95th percentile: {p95_pm10:.4f} ug/m3')"
   ]
  },
  {
   "cell_type": "markdown",
   "metadata": {},
   "source": [
    "Now consider the expected cardiovascular deaths based on pm10 from Lecture 4 (*note again that I made this up, not a real relationship*). \n",
    "\n",
    "$$deaths = \\frac{15}{1 + \\exp(-(PM10 - 80) / 35)}$$\n",
    "\n",
    "We can very easily calculate statistics of interest for this quantity using our MC samples. This would be much more difficult to do analytically with pen and paper."
   ]
  },
  {
   "cell_type": "code",
   "execution_count": 8,
   "metadata": {},
   "outputs": [
    {
     "data": {
      "text/plain": [
       "array([9.22920738, 6.95365865, 8.25659277, ..., 7.62122124, 9.27189766,\n",
       "       9.01495547])"
      ]
     },
     "execution_count": 8,
     "metadata": {},
     "output_type": "execute_result"
    }
   ],
   "source": [
    "### equation for cardiovascular deaths as a function of pm10 (numpy compatible)\n",
    "def get_deaths_pm10(pm10_array):\n",
    "    return 15 / (1 + np.exp(- ( pm10_array - 80 ) / 35))\n",
    "\n",
    "deaths = get_deaths_pm10(pm10)\n",
    "deaths"
   ]
  },
  {
   "cell_type": "code",
   "execution_count": 9,
   "metadata": {},
   "outputs": [
    {
     "name": "stdout",
     "output_type": "stream",
     "text": [
      "Mean: 8.4900\n",
      "Std: 1.9638\n",
      "Skew: -0.1811\n",
      "Excess Kurtosis: -0.3880\n"
     ]
    },
    {
     "data": {
      "text/plain": [
       "(array([   549.,   8752.,  42489., 111255., 193204., 244969., 222812.,\n",
       "        134103.,  39348.,   2519.]),\n",
       " array([ 1.22804575,  2.53929623,  3.85054671,  5.1617972 ,  6.47304768,\n",
       "         7.78429816,  9.09554864, 10.40679912, 11.7180496 , 13.02930008,\n",
       "        14.34055056]),\n",
       " <BarContainer object of 10 artists>)"
      ]
     },
     "execution_count": 9,
     "metadata": {},
     "output_type": "execute_result"
    },
    {
     "data": {
      "image/png": "[encoded data removed]",
      "text/plain": [
       "<Figure size 432x288 with 1 Axes>"
      ]
     },
     "metadata": {
      "needs_background": "light"
     },
     "output_type": "display_data"
    }
   ],
   "source": [
    "### look at distribution of deaths\n",
    "print(f'Mean: {deaths.mean():.4f}')\n",
    "print(f'Std: {deaths.std():.4f}')\n",
    "print(f'Skew: {skew(deaths):.4f}')\n",
    "print(f'Excess Kurtosis: {kurtosis(deaths):.4f}')\n",
    "plt.hist(deaths)"
   ]
  },
  {
   "cell_type": "code",
   "execution_count": 10,
   "metadata": {},
   "outputs": [
    {
     "name": "stdout",
     "output_type": "stream",
     "text": [
      "[False False False ... False False False]\n",
      "\n"
     ]
    }
   ],
   "source": [
    "### probability of more than 12 deaths?\n",
    "deaths_g12 = deaths > 12\n",
    "print(deaths_g12)\n",
    "print()"
   ]
  },
  {
   "cell_type": "code",
   "execution_count": 11,
   "metadata": {},
   "outputs": [
    {
     "name": "stdout",
     "output_type": "stream",
     "text": [
      "Probability of >12 deaths: 0.0268\n"
     ]
    }
   ],
   "source": [
    "prob_deaths_gt12 = deaths_g12.mean()\n",
    "print(f'Probability of >12 deaths: {prob_deaths_gt12:.4f}')"
   ]
  },
  {
   "cell_type": "code",
   "execution_count": 12,
   "metadata": {},
   "outputs": [
    {
     "name": "stdout",
     "output_type": "stream",
     "text": [
      "95th percentile: 11.5926 deaths\n"
     ]
    }
   ],
   "source": [
    "### 95th percentile of pm10?\n",
    "p95_deaths = np.quantile(deaths, 0.95)\n",
    "print(f'95th percentile: {p95_deaths:.4f} deaths')"
   ]
  },
  {
   "cell_type": "markdown",
   "metadata": {},
   "source": [
    "## Reservoir simulation\n",
    "### Intro\n",
    "***See hand-written notes pdf, Part 2, for introductory context***"
   ]
  },
  {
   "cell_type": "markdown",
   "metadata": {},
   "source": [
    "***Pick up here after notes Part 2 (sorry, my ipad died in the middle of writing the notes \"live\" in class)***\n",
    "\n",
    "(inflow + precip) - (release + evap) = change in storage\n",
    "\n",
    "change in storage = storage_t - storage_{t-1}\n",
    "\n",
    "assume precip = evap = 0\n",
    "\n",
    "storage_t - stoarge{t-1} = inflow - release\n",
    "\n",
    "storage_t = storage_{t-1} + inflow - release\n",
    "\n",
    "Assume storage_0 = 1 million acre-feet (MAF)\n",
    "       inflow = 0.2 MAF\n",
    "       demand = 0.4 MAF\n",
    "       \n",
    "       storage_1 = 0.8 MAF\n",
    "       \n",
    "Problems: negative storage.\n",
    "        release = demand\n",
    "        storage_t = storage_{t-1} + inflow - release\n",
    "        check if stoarage_t < 0, if so:\n",
    "            release = release + storage_t\n",
    "            storage_t = 0\n",
    "\n",
    "Assume storage_0 = 1 million acre-feet (MAF)\n",
    "       inflow = 0.6 MAF\n",
    "       demand = 0.4 MAF\n",
    "       \n",
    "       storage_1 = 1.2 MAF\n",
    "       \n",
    "Problem: define max storage as storage_max = 2 MAF\n",
    "        check if storage_t > storage_max, if so:\n",
    "            release += (storage_t - storage_max)\n",
    "            storage = storage_max\n",
    "            \n",
    "Other complications which we won't cover in this class: \n",
    "    Min storage (dead storage)\n",
    "    Min lake level (recreation)\n",
    "    Min outflow environmental\n",
    "            \n",
    "        "
   ]
  },
  {
   "cell_type": "markdown",
   "metadata": {},
   "source": [
    "### In-class exercises\n",
    "**Implementing a deterministic model**\n",
    "Consider, as in the notes, a reservoir with a maximum storage capacity of 2 MAF. "
   ]
  },
  {
   "cell_type": "markdown",
   "metadata": {},
   "source": [
    "**Exercise 1**: Write a function that will take as inputs the current storage, inflow, and demand, and return the reservoir release and the updated storage. Make sure that it works in both of the important edge cases: (1) when there is not enough water to meet demand, and (2) when the reservoir runs out of storage capacity."
   ]
  },
  {
   "cell_type": "code",
   "execution_count": null,
   "metadata": {},
   "outputs": [],
   "source": []
  },
  {
   "cell_type": "markdown",
   "metadata": {},
   "source": [
    "**Exercise 2**: Assume that current storage is 1 MAF and that demand each year is equal to 0.5 MAF per year. Use a while loop to answer the following two questions: (1) If inflows are equal to 0.3 MAF/year, in which year will we first be unable to meet our demand? (2) If inflows are 0.6 MAF/year, in which year will we first spill excess water?"
   ]
  },
  {
   "cell_type": "code",
   "execution_count": null,
   "metadata": {},
   "outputs": [],
   "source": []
  },
  {
   "cell_type": "markdown",
   "metadata": {},
   "source": [
    "**Exercise 3:** Use a for loop to simulate the reservoir system over 20 years, and store the inflow, demand, release, and storage at each time step. Store the results in a NumPy array, and then plot all 4 outputs on the same plot. Do this for both inflow scenarios."
   ]
  },
  {
   "cell_type": "code",
   "execution_count": null,
   "metadata": {},
   "outputs": [],
   "source": []
  },
  {
   "cell_type": "markdown",
   "metadata": {},
   "source": [
    "**Implementing an uncertain model with Monte Carlo sampling**"
   ]
  },
  {
   "cell_type": "markdown",
   "metadata": {},
   "source": [
    "**Exercise 4**: In reality, inflows will vary stochastically from year to year. Repeat exercise 3, but with inflows that are sampled from a lognormal distribution with a mean of -1 and a standard deviation of 0.7 (remember these parameters are in log space)."
   ]
  },
  {
   "cell_type": "code",
   "execution_count": null,
   "metadata": {},
   "outputs": [],
   "source": []
  },
  {
   "cell_type": "markdown",
   "metadata": {},
   "source": [
    "**Exercise 5**: Now suppose we are interested in a probabilistic assessment of possible outcomes over 20 years. We don't just want to run a single 20-year simulation, but rather to run a Monte Carlo analysis of the *entire simulation*.\n",
    "- Run 1000 simulations of 20-years each. Store the inflow, demand, release, and storage for each year in a 1000x20x4 NumPy array."
   ]
  },
  {
   "cell_type": "code",
   "execution_count": null,
   "metadata": {},
   "outputs": [],
   "source": []
  },
  {
   "cell_type": "markdown",
   "metadata": {},
   "source": [
    "- Calculate the final storage in year 20. What are the mean and std? Plot a histogram."
   ]
  },
  {
   "cell_type": "code",
   "execution_count": null,
   "metadata": {},
   "outputs": [],
   "source": []
  },
  {
   "cell_type": "markdown",
   "metadata": {},
   "source": [
    "- Calculate the distribution of water deficit fractions ((demand minus release)/demand). What are the mean and 95th percentile?"
   ]
  }
 ],
 "metadata": {
  "kernelspec": {
   "display_name": "Python 3",
   "language": "python",
   "name": "python3"
  },
  "language_info": {
   "codemirror_mode": {
    "name": "ipython",
    "version": 3
   },
   "file_extension": ".py",
   "mimetype": "text/x-python",
   "name": "python",
   "nbconvert_exporter": "python",
   "pygments_lexer": "ipython3",
   "version": "3.6.9"
  }
 },
 "nbformat": 4,
 "nbformat_minor": 4
}
