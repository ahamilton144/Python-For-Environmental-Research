{
 "cells": [
  {
   "cell_type": "markdown",
   "metadata": {},
   "source": [
    "# Homework 7: Time Series Analysis\n",
    "ENVR 890-010: Python for Environmental Research, Fall 2021\n",
    "\n",
    "By Rosa Cuppari. Some material adapted from Andrew Hamilton, Greg Characklis, David Gorelick and H.B. Zeff.\n",
    "\n",
    "### Summary\n",
    "In this assignment, we will build create a synthetic timeseries using a **daily** timeseries of your choice. We will then compare the distribution of the synthetic data with that of the historical data. Note: I would like you to choose a normal or log-normal dataset (e.g., temperature, rainfall...). I would encourage you to read in your own data and apply any transformations to obtain a normal distribution, but that will be a little extra work, in which case I suggest just using temperature or something already normally distributed.\n",
    "\n",
    "**Due November 11, 2021, by 10 am** "
   ]
  },
  {
   "cell_type": "code",
   "execution_count": 3,
   "metadata": {},
   "outputs": [],
   "source": [
    "### Import the necessary packages (pandas, numpy, matplotlib.pyplot, etc...). \n",
    "## hint: go back and look at what packages we usually import \n",
    "\n"
   ]
  },
  {
   "cell_type": "code",
   "execution_count": 4,
   "metadata": {},
   "outputs": [],
   "source": [
    "### Use pandas to import your timeseries from a csv OR read it in directly from a website \n"
   ]
  },
  {
   "cell_type": "code",
   "execution_count": 5,
   "metadata": {},
   "outputs": [],
   "source": [
    "### Plot your outcome of interest using a line plot, with the values on the y axis \n",
    "## hint: for timeseries analysis you need a consistent date format. Use of datetime objects makes this simple, and you  \n",
    "## can set them as your index like we did in class. \n",
    "\n",
    "\n",
    "### Also plot a histogram of the data. Is it normally distributed? \n"
   ]
  },
  {
   "cell_type": "code",
   "execution_count": 6,
   "metadata": {},
   "outputs": [],
   "source": [
    "### In general, if data is not normally distributed we need to transform it. Go ahead and do so. If unncessary, note this.\n"
   ]
  },
  {
   "cell_type": "code",
   "execution_count": 7,
   "metadata": {},
   "outputs": [],
   "source": [
    "### Generate a synthetic timeseries of length equal to your dataset\n"
   ]
  },
  {
   "cell_type": "code",
   "execution_count": 8,
   "metadata": {},
   "outputs": [],
   "source": [
    "### Group the synthetic and historical datasets by month and find the mean, min, and max\n",
    "## hint: you will need to extract the month from the date, and set it as a new column with the synthetic dataset\n",
    "## Then you will need to use the groupby function\n"
   ]
  },
  {
   "cell_type": "code",
   "execution_count": 9,
   "metadata": {},
   "outputs": [],
   "source": [
    "### Plot the mean, min, and max (different colors for synthetic v historical and different line types for each statistic). \n",
    "### Don't forget a legend!\n"
   ]
  },
  {
   "cell_type": "code",
   "execution_count": 10,
   "metadata": {},
   "outputs": [],
   "source": [
    "### BONUS! (but highly recommend)\n",
    "### Create a box plot showing, for each month, the interquartile range of the historic versus synthetic data. \n",
    "### Try to adjust the spacing so that the boxes are not overlapping. \n"
   ]
  }
 ],
 "metadata": {
  "kernelspec": {
   "display_name": "Python 3",
   "language": "python",
   "name": "python3"
  },
  "language_info": {
   "codemirror_mode": {
    "name": "ipython",
    "version": 3
   },
   "file_extension": ".py",
   "mimetype": "text/x-python",
   "name": "python",
   "nbconvert_exporter": "python",
   "pygments_lexer": "ipython3",
   "version": "3.6.10"
  }
 },
 "nbformat": 4,
 "nbformat_minor": 2
}
