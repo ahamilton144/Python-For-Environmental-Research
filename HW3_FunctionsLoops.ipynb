{
 "cells": [
  {
   "cell_type": "markdown",
   "metadata": {},
   "source": [
    "# Homework 3: Conditions, loops, and functions\n",
    "ENVR 890-010: Python for Environmental Research, Fall 2020\n",
    "\n",
    "By Rosa Cuppari. Material adapted from Andrew Hamilton and Greg Characklis. \n",
    "\n",
    "### Instructions\n",
    "For this assignment, we will build a model simulating the operation of a simple reservoir, building off the ideas presented in the decision tree in class. This time, we have a slightly more complex reservoir operations model. \n",
    "\n",
    "**Due date: Sep. 4, before class**\n",
    "\n",
    "Our simulation model will work as follows over the course of 365 days (see next cell for a visual representation):\n",
    "1. Measure the water stored in the reservoir at time t-1 ($S_{t-1}$) and forecast inflows at time t ($i_t$)\n",
    "1. If $S_{t-1}$+$i_t$ is greater than the maximum storage capacity, then spill the difference\n",
    "    1. Forecast demand for water at time t ($q_t$) based on the season \n",
    "    1. If $q_t$ is less than or equal to $S_t$ (which is equal to the lesser of maximum capacity or $S_{t-1}$+$i_t$), release $q_t$ and\n",
    "    1. Else, release $S_t$\n",
    "    1. Update $S_t$ to reflect any water released to meet demands\n",
    "1. Else, don't spill water \n",
    "    1. Forecast demand for water at time t ($q_t$) based on the season \n",
    "    1. If $q_t$ is less than or equal to $S_t$, release $q_t$ and\n",
    "    1. Else, release $S_t$\n",
    "    1. Update $S_t$ to reflect any water released to meet demands\n",
    "\n",
    "Assume our reservoir is full at the start of our for loop. At each iteration, storage ($S_t$) is equal to storage in the previous step ($S_(t-1)$) plus inflows ($i_t$) minus releases ($q_t$) and spill ($w_t$). We know that the reservoir has a maximum storage capacity of 10000 acre-feet. We also know that how much water is being demanded during each day. Demand will be a random number between 500 and 2500 acre-feet, and inflows will similarly vary. \n",
    "\n",
    "I will set the starting variables, import modules, and create a skeleton for the function. **Your job will be to create a function that can take the starting amount of storage, iterations (how many days to run the loop for), and inputs of inflow and demand and return a dataframe with each iteration's storage level, spills, and releases. The for loop should also print a statment whenever demand is greater than storage, indicating during which iteration this happens. All incomplete blocks are referenced with \"## TODO\".**\n",
    "\n",
    "**Don't forget to save a new copy of this notebook with your last name, and resave when you are finished.**"
   ]
  },
  {
   "cell_type": "markdown",
   "metadata": {},
   "source": [
    "<img src=\"lec3_reservoir.jpg\" style=\"width: 700px;\" />"
   ]
  },
  {
   "cell_type": "markdown",
   "metadata": {},
   "source": [
    "### Set up\n",
    "First we need to make sure our notebook is working from the proper \"working directory\", and create a folder to hold our output. We also need to import the modules we need: in this case, os so that we can change our working directory and pandas so that we can write our output csv file."
   ]
  },
  {
   "cell_type": "code",
   "execution_count": 6,
   "metadata": {},
   "outputs": [
    {
     "name": "stdout",
     "output_type": "stream",
     "text": [
      "C:\\Users\\rcuppari\\OneDrive - University of North Carolina at Chapel Hill\\Teaching\\Python-For-Environmental-Research\n"
     ]
    }
   ],
   "source": [
    "import os\n",
    "import pandas as pd\n",
    "\n",
    "wd = os.getcwd()\n",
    "print(wd) "
   ]
  },
  {
   "cell_type": "code",
   "execution_count": null,
   "metadata": {},
   "outputs": [],
   "source": [
    "# ##:  if wd is not where you want it to be (the location of this notebook), you can set it \n",
    "# wd = 'your_wd_here'\n",
    "# os.chdir(wd)"
   ]
  },
  {
   "cell_type": "code",
   "execution_count": null,
   "metadata": {},
   "outputs": [],
   "source": [
    "## Create a directory to hold your output file\n",
    "os.makedirs(wd + '/figs/', exist_ok = True)"
   ]
  },
  {
   "cell_type": "code",
   "execution_count": null,
   "metadata": {},
   "outputs": [],
   "source": [
    "# Now we set up the known parameters: storage maximum and storage at the start\n",
    "max_capacity = 5000\n",
    "S0=5000\n",
    "## set number of days\n",
    "\n",
    "# also read in our demand and inflow datasets"
   ]
  },
  {
   "cell_type": "code",
   "execution_count": null,
   "metadata": {},
   "outputs": [],
   "source": [
    "# create dataframes to hold information that we want our function to save \n",
    "storage_levels=pd.DataFrame(index=range(0,days),columns=['storage'])\n",
    "# ## set the first row of the storage levels dataframe = to starting storage\n",
    "# ## create a df called \"daily_releases\" and \"daily_spill\""
   ]
  },
  {
   "cell_type": "code",
   "execution_count": null,
   "metadata": {},
   "outputs": [],
   "source": [
    "# also read in our demand and inflow datasets\n",
    "demand=pd.read_csv(\"demand.csv\")\n",
    "print(demand.head())\n",
    "inflow=pd.read_csv('inflow.csv')\n",
    "print(inflow.head())"
   ]
  },
  {
   "cell_type": "code",
   "execution_count": 12,
   "metadata": {},
   "outputs": [],
   "source": [
    "# ## set up a function that will perform the for loop:\n",
    "# NOTE: instead of feeding your function simply the starting storage, \n",
    "# I would suggest that you start the for loop on day one, and then each day check storage at t-1\n",
    "# you can also set up a separate \"temporary\" St variable to document storage levels after any spill and before releases\n",
    "def reservoir_loop():\n",
    "    for ## complete this statement:\n",
    "#    ## check storage on previous day & demand\n",
    "#    ## decide whether to spill water or not \n",
    "#    ## decide whether to release water for demands \n",
    "#    ## print statement if water is insufficient to meet demands \n",
    "    return storage_levels, daily_releases"
   ]
  },
  {
   "cell_type": "code",
   "execution_count": 13,
   "metadata": {},
   "outputs": [],
   "source": [
    "## run your function "
   ]
  },
  {
   "cell_type": "code",
   "execution_count": null,
   "metadata": {},
   "outputs": [],
   "source": [
    "storage_df.to_csv(\"storage_df\") ##add your last name \n",
    "releases_df.to_csv(\"releases_df\") ##add your last name "
   ]
  },
  {
   "cell_type": "code",
   "execution_count": 14,
   "metadata": {},
   "outputs": [],
   "source": [
    "# bonus coding experiments: do your results change if you start with a lower storage level? \n",
    "# What about if the maximum capacity is lower?"
   ]
  }
 ],
 "metadata": {
  "kernelspec": {
   "display_name": "Python 3",
   "language": "python",
   "name": "python3"
  },
  "language_info": {
   "codemirror_mode": {
    "name": "ipython",
    "version": 3
   },
   "file_extension": ".py",
   "mimetype": "text/x-python",
   "name": "python",
   "nbconvert_exporter": "python",
   "pygments_lexer": "ipython3",
   "version": "3.6.10"
  }
 },
 "nbformat": 4,
 "nbformat_minor": 2
}
