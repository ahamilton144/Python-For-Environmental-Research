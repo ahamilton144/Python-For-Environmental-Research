{
 "cells": [
  {
   "cell_type": "markdown",
   "metadata": {
    "slideshow": {
     "slide_type": "fragment"
    }
   },
   "source": [
    "# Homework 5: Systems of equations and optimization\n",
    "ENVR 890-001: Python for Environmental Research, Fall 2020\n",
    "\n",
    "By Andrew Hamilton. \n",
    "\n",
    "### Problem context\n",
    "Consider an idealized power market, consisting of buyers and sellers of electricity. Assume the demand curve describing the behavior of buyers can be written as the following equation for marginal net benefits:\n",
    "\n",
    "$$MNB_d = 1000 - 20 q_d - p$$\n",
    "\n",
    "where the marginal net benefit $MNB_d$ (in \\\\$/MWh) gives the value to buyers of the $q_d$th MWh of electricity purchased at price $p$. Additionally, we have three supply curves, giving the aggregated marginal net benefits for sellers of power from coal ($MNB_c$), natural gas ($MNB_g$), and renewable ($MNB_r$) energy sources. Each source of power is assumed to sell into the same market, so they all recieve the price $p$.\n",
    "\n",
    "\\begin{align}\n",
    "MNB_c &= p - 20 - 0.2 q_c \\\\\n",
    "MNB_g &= p - 5 - q_g \\\\\n",
    "MNB_r &= p - 2 q_r\n",
    "\\end{align}"
   ]
  },
  {
   "cell_type": "code",
   "execution_count": 1,
   "metadata": {
    "slideshow": {
     "slide_type": "fragment"
    }
   },
   "outputs": [
    {
     "data": {
      "text/plain": [
       "(0, 120)"
      ]
     },
     "execution_count": 1,
     "metadata": {},
     "output_type": "execute_result"
    },
    {
     "data": {
      "image/png": "[encoded data removed]",
      "text/plain": [
       "<Figure size 432x288 with 1 Axes>"
      ]
     },
     "metadata": {
      "needs_background": "light"
     },
     "output_type": "display_data"
    }
   ],
   "source": [
    "### set up and plot demand and supply curves\n",
    "import numpy as np\n",
    "import matplotlib.pyplot as plt\n",
    "\n",
    "demand = (1000, -20)\n",
    "coal = (20, 0.2, 0)\n",
    "gas = (5, 1, 0)\n",
    "renew = (0, 2., 0)\n",
    "\n",
    "def mb_demand(q):\n",
    "    return demand[0] + demand[1] * q\n",
    "\n",
    "def mc_coal(q):\n",
    "    return coal[0]  + coal[1] * q\n",
    "\n",
    "def mc_gas(q):\n",
    "    return gas[0] + gas[1] * q\n",
    "\n",
    "def mc_renew(q):\n",
    "    return renew[0] + renew[1] * q\n",
    "\n",
    "q_grid = np.arange(0, 200)\n",
    "plt.plot(q_grid, [mb_demand(q) for q in q_grid])\n",
    "plt.plot(q_grid, [mc_coal(q) for q in q_grid])\n",
    "plt.plot(q_grid, [mc_gas(q) for q in q_grid])\n",
    "plt.plot(q_grid, [mc_renew(q) for q in q_grid])\n",
    "plt.legend(['MB Demand', 'MC Coal', 'MC Gas', 'MC Renewable'])\n",
    "plt.xlabel('Quantity (MW)')\n",
    "plt.ylabel('Price ($/MWh)')\n",
    "plt.xlim([0, 60])\n",
    "plt.ylim([0, 120])"
   ]
  },
  {
   "cell_type": "markdown",
   "metadata": {},
   "source": [
    "### Solving systems of equations\n",
    "We have five unknowns: the four quantities plus the price. We know that the marginal net benefits for each party should be zero. We also know that the total power demanded should be equal to the sum of the supplies. This gives us five unknowns and five equations:\n",
    "\n",
    "\\begin{align}\n",
    "MNB_d &= 0 \\\\\n",
    "MNB_c &= 0 \\\\\n",
    "MNB_g &= 0 \\\\\n",
    "MNB_r &= 0 \\\\\n",
    "q_d &= q_c + q_g + q_r\n",
    "\\end{align}\n",
    "\n",
    "Filling in the equations, we have:\n",
    "\n",
    "\\begin{align}\n",
    "1000 - 20 q_d - p &= 0 \\\\\n",
    "p - 20 - 0.2 q_c &= 0 \\\\\n",
    "p - 5 - q_g &= 0 \\\\\n",
    "p - 2 q_r &= 0 \\\\\n",
    "q_d &= q_c + q_g + q_r\n",
    "\\end{align}\n",
    "\n",
    "And now separating variables from constants, we get:\n",
    "\n",
    "\\begin{align}\n",
    "20 q_d + 0 q_c + 0 q_g + 0 q_r + 1 p &= 1000 \\\\\n",
    "0 q_d - 0.2 q_c + 0 q_g + 0 q_r + 1 p &= 20 \\\\\n",
    "0 q_d + 0 q_c - 1 q_g + 0 q_r + 1 p &= 5 \\\\\n",
    "0 q_d + 0 q_c + 0 q_g - 2 q_r + 1 p &= 0 \\\\\n",
    "1 q_d - 1 q_c - 1 q_g - 1 q_r + 0 p&= 0\n",
    "\\end{align}"
   ]
  },
  {
   "cell_type": "markdown",
   "metadata": {},
   "source": [
    "**1) Use the Numpy ``linalg`` solution method from class to find the 4 $q$'s.**"
   ]
  },
  {
   "cell_type": "markdown",
   "metadata": {
    "slideshow": {
     "slide_type": "fragment"
    }
   },
   "source": [
    "**2) What will the price of power be?**"
   ]
  },
  {
   "cell_type": "markdown",
   "metadata": {},
   "source": [
    "### Constrained optimization\n",
    "As an alternative solution method, we will now maximize total net benefits. First, we need to integrate each marginal net benefit function:\n",
    "\\begin{align}\n",
    "NB_d &= \\int_0^{q_d} (1000 - 20 q - p) dq = (1000 - p) q_d - 10 q_d^2 \\\\\n",
    "NB_c &= \\int_0^{q_c} (p - 20 - 0.2 q) dq = (p - 20) q_c - 0.1 q_c^2 \\\\\n",
    "NB_g &= \\int_0^{q_g} (p - 5 - q) dq = (p - 5) q_g - 0.5 q_g^2\\\\\n",
    "NB_r &= \\int_0^{q_r} (p - 2 q) dq = p q_r - q_r^2\\\\\n",
    "\\end{align}\n",
    "\n",
    "Now we want to maximize the total sum of net benefits across both buyers and sellers:\n",
    "\n",
    "\\begin{align}\n",
    "NB &= NB_d + NB_c + NB_g + NB_r \\\\\n",
    "   &= (1000 - p) q_d - 10 q_d^2 + (p - 20) q_c - 0.1 q_c^2 + (p - 5) q_g - 0.5 q_g^2 + p q_r - q_r^2 \\\\\n",
    "\\end{align}\n",
    "\n",
    "subject to two linear constraints (one to enforce that supply equals demand, one to enforce that the price is correct based on the demand function):\n",
    "\\begin{align}\n",
    "1 q_d - 1 q_c - 1 q_g - 1 q_r + 0 p&= 0 \\\\\n",
    "20 q_d + 0 q_c + 0 q_g + 0 q_r + 1 p &= 1000\n",
    "\\end{align}\n",
    "\n",
    "**3) Use the ``minimize`` function from ``scipy.optimize`` to find the $q$'s that maximize net benefits, and the resulting price. You should get the same answers (within rounding error) as problems 1-2.**"
   ]
  },
  {
   "cell_type": "code",
   "execution_count": null,
   "metadata": {},
   "outputs": [],
   "source": [
    "## Hint: this is how you write the equality constraint, q_d - q_c - q_g - q_r = 0.\n",
    "## You will need to add the second equality constraint to this function\n",
    "linear_constraint = LinearConstraint([1, -1, -1, -1], 0, 0)"
   ]
  },
  {
   "cell_type": "markdown",
   "metadata": {},
   "source": [
    "**4) Repeat again, but using the ``quad`` function from the ``scipy.integrate`` module to automate the integration of the marginal net benefits functions. You should again get the same answers.**"
   ]
  },
  {
   "cell_type": "markdown",
   "metadata": {},
   "source": [
    "### Reducing carbon emissions with different interventions\n",
    "Now we will make four simple alterations to model the effects of eletricity demand reductions, a carbon tax, a carbon cap, and a renewable portfolio standard. **For each of the three alterations below, answer the following questions. Perform each alteration independently, starting over from the benchline case of question (4)**.\n",
    "\n",
    "    a) How does this affect the amount of electricity produced using coal, gas, and renewables?\n",
    "\n",
    "    b) How does it affect total electricity demand? \n",
    "\n",
    "    c) How does it affect the price of electricity?"
   ]
  },
  {
   "cell_type": "markdown",
   "metadata": {},
   "source": [
    "**5) Assume a 10% leftward shift in the demand curve for electricity, due to higher efficiency consumer products.**\n",
    "This will affect the marginal net benefit function for demand:\n",
    "$$MNB_d = 900 - 20 q_d - p$$\n"
   ]
  },
  {
   "cell_type": "markdown",
   "metadata": {},
   "source": [
    "#### 6) Add a carbon tax that results in an increase of \\\\$10/MWh for coal-powered electricity and \\\\$5/MWh for natural gas-powered electricity. \n",
    "This will affect the marginal net benefit functions for the suppliers:\n",
    "\n",
    "\\begin{align}\n",
    "MNB_c &= p - 30 - 0.2 q_c \\\\\n",
    "MNB_g &= p - 10 - q_g \\\\\n",
    "MNB_r &= p - 2 q_r\n",
    "\\end{align}"
   ]
  },
  {
   "cell_type": "markdown",
   "metadata": {},
   "source": [
    "#### 7) Add a carbon cap of 10,000 lb CO2 for this system, assuming that coal-fired electricity produces 735 lb/MWh and gas-fired electricity produces 400 lb/MWh. \n",
    "This will add a new linear constraint:\n",
    "$$ 735 q_c + 400 q_g \\leq 10,000$$"
   ]
  },
  {
   "cell_type": "markdown",
   "metadata": {},
   "source": [
    "#### 8) Add a renewable portfolio standard which mandates that at least 20 MWh must come from renewables. \n",
    "This will change the Bounds that we use for $q_r$ (note: you could also do it with another LinearConstraint, but the Bounds are simpler):\n",
    "$$ 20 \\leq q_r$$"
   ]
  }
 ],
 "metadata": {
  "kernelspec": {
   "display_name": "Python 3",
   "language": "python",
   "name": "python3"
  },
  "language_info": {
   "codemirror_mode": {
    "name": "ipython",
    "version": 3
   },
   "file_extension": ".py",
   "mimetype": "text/x-python",
   "name": "python",
   "nbconvert_exporter": "python",
   "pygments_lexer": "ipython3",
   "version": "3.6.9"
  }
 },
 "nbformat": 4,
 "nbformat_minor": 4
}
