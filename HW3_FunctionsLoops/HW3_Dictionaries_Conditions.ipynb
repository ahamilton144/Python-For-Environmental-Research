{
 "cells": [
  {
   "cell_type": "markdown",
   "id": "8549fce4",
   "metadata": {},
   "source": [
    "# Homework 3: Strings, Dictionaries, and If-Statements\n",
    "ENVR 890-010: Python for Environmental Research, Fall 2022\n",
    "\n",
    "By Rosa Cuppari, adapted from Andrew Hamilton. Some material adapted from Greg Characklis, David Gorelick and H.B. Zeff. "
   ]
  },
  {
   "cell_type": "markdown",
   "id": "b6e9904e",
   "metadata": {},
   "source": [
    "## Instructions\n",
    "This homework will review the material from Lecture 2 and the material covered in Lecture 3. \n",
    "\n",
    "**Due September 9, 2022 before class**\n",
    "\n",
    "Instructions:\n",
    "1. Create a new Spyder file and **answer these questions in Spyder**. \n",
    "1. Type out your steps, *along with comments to explain what you are doing*. Include print statements as desired, but specifically where they are asked.\n",
    "1. After finishing, save the Spyder file as ``HW3_<lastname>``. Make sure it has saved as a ``.py`` file\n",
    "\n",
    "PS some of you accidentally already started this homework. Congrats! You should already have finished Q1"
   ]
  },
  {
   "cell_type": "markdown",
   "id": "1a02efca",
   "metadata": {},
   "source": [
    "### 1)\n",
    "1. Create a list named ``names_top5`` with the names of the 5 longest rivers in the United States, using [this list](https://en.wikipedia.org/wiki/List_of_longest_rivers_of_the_United_States_(by_main_stem)).\n",
    "1. Use indexing to create a shorter list of the top 3, ``names_top3``.\n",
    "1. Create a list of the lengths (in miles) of the top 3 rivers, ``lengths_top3``.\n",
    "1. Create a tuple of the latitudes of the mouths of the top 3 rivers, ``lats_top3``. (Click on the link for \"Mouth coordinates\" for each river to go to the \"GeoHack\" website, where you can find the \"Decimal\" coordinates near the top of the page. Use all given significant digits).\n",
    "1. Create a tuple of the latitudes of the mouths of the top 3 rivers, ``longs_top3``.\n",
    "1. Create a dictionary called ``rivers_top3`` with the following key-value pairs: 1) key is \"name\", value is the list ``names_top3``; 2) key is \"length\", value is the list ``lengths_top3``; 3) key is \"lat\", value is the tuple ``lats_top3``; and 4) key is \"long\", value is the tuple ``longs_top3``."
   ]
  },
  {
   "cell_type": "markdown",
   "id": "e38ece35",
   "metadata": {},
   "source": [
    "### 2)\n",
    "Using your dictionary ``rivers_top3``, print the following statement using the ``+`` method: \n",
    "\n",
    "**The Mississippi River is the number 2 river in the US in terms of length, at 2340 miles. Its mouth is located at (38.813611, -90.119722).**\n",
    "\n",
    "Now use the ``f-string`` method to format the statement as follows:\n",
    "\n",
    "**The Mississippi River is the number 2 river in the US in terms of length, at 2,340 miles. Its mouth is located at (38.81, -90.11).**"
   ]
  },
  {
   "cell_type": "markdown",
   "id": "75963eb0",
   "metadata": {},
   "source": [
    "## 3)\n",
    "1. Create a nested if statement to replicate the following decision tree for reservoir releases. The amount of water released, in cubic feet per second (cfs), will depend on the season (Winter, Spring, Summer, or Fall), the forecasted precipitation (wet or dry), and the existing storage level, or stage (flood, normal, drought). Hint: when checking for season, Winter **or** Spring have the same outcome and Summer **or** Fall have the same outcome. \n"
   ]
  },
  {
   "cell_type": "markdown",
   "id": "e53534b1",
   "metadata": {},
   "source": [
    "<img src=\"lec3_tree2.jpg\" style=\"width: 700px;\" />"
   ]
  },
  {
   "cell_type": "code",
   "execution_count": 9,
   "id": "f65e2af7",
   "metadata": {},
   "outputs": [
    {
     "name": "stdout",
     "output_type": "stream",
     "text": [
      "Please add more if-statements to determine release\n"
     ]
    }
   ],
   "source": [
    "## use the following variables: \n",
    "storage = 'drought'\n",
    "forecast = 'dry'\n",
    "season = 'winter'\n",
    "\n",
    "## hint: you should be thinking of a nested statement along these lines, \n",
    "## though you will need to account for the other possible conditions\n",
    "if storage == 'flood':\n",
    "    if forecast == 'wet':\n",
    "        release = 1000    \n",
    "        print(release)\n",
    "else: \n",
    "    print('Please add more if-statements to determine release')\n"
   ]
  },
  {
   "cell_type": "markdown",
   "id": "cf37f168",
   "metadata": {},
   "source": [
    "At the end of the if statement, print the amount of water released using three methods: \n",
    "1. f-strings\n",
    "1. using the + operator"
   ]
  }
 ],
 "metadata": {
  "kernelspec": {
   "display_name": "Python 3 (ipykernel)",
   "language": "python",
   "name": "python3"
  },
  "language_info": {
   "codemirror_mode": {
    "name": "ipython",
    "version": 3
   },
   "file_extension": ".py",
   "mimetype": "text/x-python",
   "name": "python",
   "nbconvert_exporter": "python",
   "pygments_lexer": "ipython3",
   "version": "3.9.7"
  }
 },
 "nbformat": 4,
 "nbformat_minor": 5
}
