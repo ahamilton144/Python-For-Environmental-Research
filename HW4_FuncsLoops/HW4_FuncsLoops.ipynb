{
 "cells": [
  {
   "cell_type": "markdown",
   "metadata": {},
   "source": [
    "# Homework 4: Conditions, loops, and functions\n",
    "ENVR 890-001: Python for Environmental Research, Fall 2022\n",
    "\n",
    "By Rosa Cuppari. Some material adapted from Andrew Hamilton. \n",
    "\n",
    "## Instructions \n",
    "In Homework 3, we created a large if-else statement for reservoir operations. Now we are going to operationalize it using a function and a for loop! \n",
    "\n",
    "**Due date: Sep. 16, before class**\n",
    "\n",
    "**Please use the instructions to guide your code *in Spyder* and submit a `.py` file (i.e., your Spyder script). Don't forget to save with your last name.**"
   ]
  },
  {
   "cell_type": "markdown",
   "metadata": {},
   "source": [
    "### Set up\n",
    "First we need to make sure our notebook is working from the proper \"working directory\", and create a folder to hold Results"
   ]
  },
  {
   "cell_type": "code",
   "execution_count": 1,
   "metadata": {},
   "outputs": [
    {
     "name": "stdout",
     "output_type": "stream",
     "text": [
      "C:\\Users\\rcuppari\\OneDrive - University of North Carolina at Chapel Hill\\Teaching\\Python-For-Environmental-Research\\HW4_FuncsLoops\n"
     ]
    }
   ],
   "source": [
    "## get current working directory\n",
    "import os\n",
    "wd = os.getcwd()\n",
    "print(wd)"
   ]
  },
  {
   "cell_type": "code",
   "execution_count": 3,
   "metadata": {},
   "outputs": [],
   "source": [
    "# ## if wd is not where you want it to be (the location of this notebook), you can set it \n",
    "# wd = 'your_wd_here'\n",
    "# os.chdir(wd)"
   ]
  },
  {
   "cell_type": "markdown",
   "metadata": {},
   "source": [
    "## Verify that your if-else statement is correct\n",
    "Yours does not need to be identical to mine below, but make sure it spits out the right answer, corresponding to our tree. Feel free to copy mine if it does not"
   ]
  },
  {
   "cell_type": "code",
   "execution_count": 24,
   "metadata": {},
   "outputs": [
    {
     "name": "stdout",
     "output_type": "stream",
     "text": [
      "release 100 cfs\n"
     ]
    }
   ],
   "source": [
    "from PIL import Image\n",
    "image = Image.open('lec3_tree2.jpg')\n",
    "image.show()\n",
    "\n",
    "storage = 'drought'\n",
    "forecast = 'dry'\n",
    "season = 'fall' \n",
    "\n",
    "if storage == 'flood': \n",
    "    if forecast == 'wet': \n",
    "        release = 1000 \n",
    "    else:\n",
    "        release = 700\n",
    "        \n",
    "elif storage == 'normal': \n",
    "    if forecast =='wet': \n",
    "        release = 600\n",
    "    else: \n",
    "        release = 350\n",
    "\n",
    "else: \n",
    "    if forecast == 'wet':\n",
    "        if (season == 'winter') or (season == 'spring'): \n",
    "            release = 300\n",
    "        else: \n",
    "            release = 200\n",
    "    else: \n",
    "        if (season == 'winter') or (season == 'spring'): \n",
    "            release = 300\n",
    "        else: \n",
    "            release = 100\n",
    "\n",
    "        \n",
    "print(f'release {release} cfs')\n"
   ]
  },
  {
   "cell_type": "markdown",
   "metadata": {},
   "source": [
    "## Next, create a function called 'res_releases' \n",
    "res_releases will use storage/forecast/season data as inputs and output a new variable, \"release\"\n",
    "\n",
    "*Hint 1: anything that will change will need to be an input. As in, storage, forecast, and season should all be arguments in your function whether or not you call them by those names*\n",
    "\n",
    "*Hint 2: this function should take a SINGLE instance of storage/forecast/season*"
   ]
  },
  {
   "cell_type": "markdown",
   "metadata": {},
   "source": [
    "## Now, the fun part: a for loop \n",
    "We want to do this over 100 combinations of seasons/forecasts/reservoir stages. I will make the random lists for you to iterate over (see next cell). "
   ]
  },
  {
   "cell_type": "code",
   "execution_count": 21,
   "metadata": {},
   "outputs": [
    {
     "name": "stdout",
     "output_type": "stream",
     "text": [
      "['fall', 'winter', 'winter', 'winter', 'spring', 'winter', 'summer', 'fall', 'spring', 'summer']\n",
      "['normal', 'normal', 'flood', 'normal', 'normal', 'drought', 'normal', 'normal', 'normal', 'flood']\n",
      "['dry', 'wet', 'dry', 'wet', 'dry', 'wet', 'dry', 'wet', 'wet', 'wet']\n"
     ]
    }
   ],
   "source": [
    "import random \n",
    "seasons = random.choices((['spring', 'summer', 'fall', 'winter']), weights = [0.25, 0.25, 0.25, 0.25], k = 100)\n",
    "print(seasons[:10])\n",
    "\n",
    "storage = random.choices((['normal', 'drought', 'flood']), weights = [0.5, 0.25, 0.25], k = 100)\n",
    "print(storage[:10])\n",
    "\n",
    "forecast = random.choices((['wet', 'dry']), weights = [0.7, 0.3], k = 100)\n",
    "print(forecast[:10])"
   ]
  },
  {
   "cell_type": "markdown",
   "metadata": {},
   "source": [
    "Now, you get to make the for loop so that we input all of our combinations into the function. **Create a new list (releases) to record each of the 100 releases in your for loop**\n",
    "\n",
    "*Hint 1: you want to iterate over all 100 combinations, and for each combination you want to call your function and input as arguments the nth item in each list. You will need to index (sorry)*\n",
    "\n",
    "*Hint 2: remember how we add things to a list -- the \"append\" function*"
   ]
  },
  {
   "cell_type": "markdown",
   "metadata": {},
   "source": [
    "## Quick qualitative Q! \n",
    "I won't make you do this, but we could have done the same thing differently, where we put the for loop INSIDE the function, instead of the function inside the for loop. At the end of your script, take a minute and write in the comments why/why not you would have done this and whether there are parts of the function/loop you would have to change to do that. "
   ]
  },
  {
   "cell_type": "markdown",
   "metadata": {},
   "source": [
    "## Bonus practice for while/for loops! \n",
    "Seriously, only do this if you really want to practice loops. But if you do, here is an example that I skipped from class. \n",
    "\n",
    "1. Create three lists 50 items long using a while loop: \"time\", \"day\", & \"accident\". I've already given you an example for the first two lists"
   ]
  },
  {
   "cell_type": "code",
   "execution_count": null,
   "metadata": {},
   "outputs": [],
   "source": [
    "time = []\n",
    "day = []\n",
    "accident = []\n",
    "while ## FILL IN \n",
    "# HINT!    count += 1 \n",
    "    new_time = random.choices(list(range(0,24)), weights = [(1/24)]*24)[0]\n",
    "    time.append(new_time)\n",
    "    \n",
    "    new_day = random.choices([\"weekend\", \"weekday\"], weights = [2/7, 5/7])[0]\n",
    "    day.append(day)\n",
    "    \n",
    "    ## add in accident list \n",
    "    "
   ]
  },
  {
   "cell_type": "markdown",
   "metadata": {},
   "source": [
    "2. Create a for loop that will iterate over your two lists and then print what sort of traffic to expect at each point given the attached traffic tree "
   ]
  },
  {
   "cell_type": "code",
   "execution_count": 22,
   "metadata": {},
   "outputs": [],
   "source": [
    "## remember to import Pil and Image above!\n",
    "image = Image.open('tree_traffic.jpg')\n",
    "image.show()"
   ]
  },
  {
   "cell_type": "code",
   "execution_count": null,
   "metadata": {},
   "outputs": [],
   "source": [
    "for i in : ## FILL IN!\n",
    "    if day == ## FILL: \n",
    "    \n",
    "        ## move to time of day \n",
    "        \n",
    "            ## move to accident or no accident\n",
    "    else: \n",
    "\n",
    "        ## move to time of day \n",
    "        \n",
    "            ## move to accident or no accident"
   ]
  }
 ],
 "metadata": {
  "kernelspec": {
   "display_name": "Python 3 (ipykernel)",
   "language": "python",
   "name": "python3"
  },
  "language_info": {
   "codemirror_mode": {
    "name": "ipython",
    "version": 3
   },
   "file_extension": ".py",
   "mimetype": "text/x-python",
   "name": "python",
   "nbconvert_exporter": "python",
   "pygments_lexer": "ipython3",
   "version": "3.9.7"
  }
 },
 "nbformat": 4,
 "nbformat_minor": 4
}
