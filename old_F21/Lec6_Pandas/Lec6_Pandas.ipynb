{
 "cells": [
  {
   "cell_type": "markdown",
   "metadata": {
    "slideshow": {
     "slide_type": "slide"
    }
   },
   "source": [
    "# Lecture 6: Working with Pandas DataFrames\n",
    "ENVR 890-010: Python for Environmental Research, Fall 2021\n",
    "\n",
    "September 29, 2021\n",
    "\n",
    "By Andrew Hamilton. Some material adapted from Greg Characklis, David Gorelick and H.B. Zeff."
   ]
  },
  {
   "cell_type": "markdown",
   "metadata": {
    "slideshow": {
     "slide_type": "fragment"
    }
   },
   "source": [
    "## Summary\n",
    "The final important data structure we will cover is the **Pandas DataFrame**, from the [Pandas package](https://pandas.pydata.org/docs/user_guide/index.html#user-guide). Pandas makes it easy to load and manipulate multi-variate datasets, which makes it great for data analysis and visualization. "
   ]
  },
  {
   "cell_type": "markdown",
   "metadata": {
    "slideshow": {
     "slide_type": "fragment"
    }
   },
   "source": [
    "### Creating Pandas DataFrames \n",
    "A Pandas DataFrame is similar to a dictionary, in that it is a collection of **keys** and **values**. However, it is more restrictive, in that all values must be lists with the same length and a shared index. This makes it ideal for multivariate datasets, in which we have many different observations of the same set of variables (the name \"Pandas\" derives from \"panel data\")."
   ]
  },
  {
   "cell_type": "markdown",
   "metadata": {
    "slideshow": {
     "slide_type": "slide"
    }
   },
   "source": [
    "An example will make this more clear. Consider again the county groundwater testing subsidization program that we introduced in the class exercise for list comprehensions (Lecture 4)."
   ]
  },
  {
   "cell_type": "code",
   "execution_count": 1,
   "metadata": {
    "slideshow": {
     "slide_type": "fragment"
    }
   },
   "outputs": [
    {
     "name": "stdout",
     "output_type": "stream",
     "text": [
      "['H0', 'H1', 'H2', 'H3', 'H4', 'H5', 'H6', 'H7', 'H8', 'H9', 'H10', 'H11', 'H12', 'H13', 'H14', 'H15', 'H16', 'H17', 'H18', 'H19']\n"
     ]
    }
   ],
   "source": [
    "import random\n",
    "## numeric index for each household in county\n",
    "household = ['H' + str(i) for i in list(range(1000))]\n",
    "print(household[:20])"
   ]
  },
  {
   "cell_type": "code",
   "execution_count": 2,
   "metadata": {
    "slideshow": {
     "slide_type": "fragment"
    }
   },
   "outputs": [
    {
     "name": "stdout",
     "output_type": "stream",
     "text": [
      "['private', 'municipal', 'municipal', 'municipal', 'private', 'municipal', 'private', 'municipal', 'private', 'municipal', 'municipal', 'municipal', 'private', 'municipal', 'private', 'private', 'private', 'private', 'municipal', 'municipal']\n"
     ]
    }
   ],
   "source": [
    "## water source for each household\n",
    "water = [random.choices(['municipal', 'private'], weights = [0.6, 0.4], k=1)[0] for h in household]\n",
    "print(water[:20])"
   ]
  },
  {
   "cell_type": "code",
   "execution_count": 3,
   "metadata": {
    "slideshow": {
     "slide_type": "fragment"
    }
   },
   "outputs": [
    {
     "name": "stdout",
     "output_type": "stream",
     "text": [
      "[32951.30879332786, 36513.18520458284, 27104.418446351312, 48580.72045649525, 56106.87021476578, 64985.76298728341, 23816.53866633158, 96233.5531314107, 63016.7681459389, 42838.467304314414, 10889.828243064512, 79361.30446569344, 57195.17232719519, 58168.92189412799, 62577.06195465189, 60436.0135102712, 45158.93726758766, 63068.13516544231, 70536.90288465167, 80574.29034428792]\n"
     ]
    }
   ],
   "source": [
    "## income for each household \n",
    "income = [max(random.gauss(50000, 20000), 0) for h in household]\n",
    "print(income[:20])"
   ]
  },
  {
   "cell_type": "markdown",
   "metadata": {
    "slideshow": {
     "slide_type": "fragment"
    }
   },
   "source": [
    "Because each of these three lists is the same length, we can create a Pandas DataFrame as follows. Pandas is typically imported with the **alias** ``pd``."
   ]
  },
  {
   "cell_type": "code",
   "execution_count": 6,
   "metadata": {
    "slideshow": {
     "slide_type": "fragment"
    }
   },
   "outputs": [
    {
     "data": {
      "text/html": [
       "<div>\n",
       "<style scoped>\n",
       "    .dataframe tbody tr th:only-of-type {\n",
       "        vertical-align: middle;\n",
       "    }\n",
       "\n",
       "    .dataframe tbody tr th {\n",
       "        vertical-align: top;\n",
       "    }\n",
       "\n",
       "    .dataframe thead th {\n",
       "        text-align: right;\n",
       "    }\n",
       "</style>\n",
       "<table border=\"1\" class=\"dataframe\">\n",
       "  <thead>\n",
       "    <tr style=\"text-align: right;\">\n",
       "      <th></th>\n",
       "      <th>household</th>\n",
       "      <th>water</th>\n",
       "      <th>income</th>\n",
       "    </tr>\n",
       "  </thead>\n",
       "  <tbody>\n",
       "    <tr>\n",
       "      <th>0</th>\n",
       "      <td>H0</td>\n",
       "      <td>private</td>\n",
       "      <td>32951.308793</td>\n",
       "    </tr>\n",
       "    <tr>\n",
       "      <th>1</th>\n",
       "      <td>H1</td>\n",
       "      <td>municipal</td>\n",
       "      <td>36513.185205</td>\n",
       "    </tr>\n",
       "    <tr>\n",
       "      <th>2</th>\n",
       "      <td>H2</td>\n",
       "      <td>municipal</td>\n",
       "      <td>27104.418446</td>\n",
       "    </tr>\n",
       "    <tr>\n",
       "      <th>3</th>\n",
       "      <td>H3</td>\n",
       "      <td>municipal</td>\n",
       "      <td>48580.720456</td>\n",
       "    </tr>\n",
       "    <tr>\n",
       "      <th>4</th>\n",
       "      <td>H4</td>\n",
       "      <td>private</td>\n",
       "      <td>56106.870215</td>\n",
       "    </tr>\n",
       "    <tr>\n",
       "      <th>...</th>\n",
       "      <td>...</td>\n",
       "      <td>...</td>\n",
       "      <td>...</td>\n",
       "    </tr>\n",
       "    <tr>\n",
       "      <th>995</th>\n",
       "      <td>H995</td>\n",
       "      <td>private</td>\n",
       "      <td>62819.162649</td>\n",
       "    </tr>\n",
       "    <tr>\n",
       "      <th>996</th>\n",
       "      <td>H996</td>\n",
       "      <td>municipal</td>\n",
       "      <td>59229.295988</td>\n",
       "    </tr>\n",
       "    <tr>\n",
       "      <th>997</th>\n",
       "      <td>H997</td>\n",
       "      <td>municipal</td>\n",
       "      <td>73440.294567</td>\n",
       "    </tr>\n",
       "    <tr>\n",
       "      <th>998</th>\n",
       "      <td>H998</td>\n",
       "      <td>municipal</td>\n",
       "      <td>66037.294924</td>\n",
       "    </tr>\n",
       "    <tr>\n",
       "      <th>999</th>\n",
       "      <td>H999</td>\n",
       "      <td>municipal</td>\n",
       "      <td>35233.764552</td>\n",
       "    </tr>\n",
       "  </tbody>\n",
       "</table>\n",
       "<p>1000 rows × 3 columns</p>\n",
       "</div>"
      ],
      "text/plain": [
       "    household      water        income\n",
       "0          H0    private  32951.308793\n",
       "1          H1  municipal  36513.185205\n",
       "2          H2  municipal  27104.418446\n",
       "3          H3  municipal  48580.720456\n",
       "4          H4    private  56106.870215\n",
       "..        ...        ...           ...\n",
       "995      H995    private  62819.162649\n",
       "996      H996  municipal  59229.295988\n",
       "997      H997  municipal  73440.294567\n",
       "998      H998  municipal  66037.294924\n",
       "999      H999  municipal  35233.764552\n",
       "\n",
       "[1000 rows x 3 columns]"
      ]
     },
     "execution_count": 6,
     "metadata": {},
     "output_type": "execute_result"
    }
   ],
   "source": [
    "import pandas as pd\n",
    "\n",
    "county = pd.DataFrame({'household': household, 'water': water, 'income': income})\n",
    "county"
   ]
  },
  {
   "cell_type": "markdown",
   "metadata": {
    "slideshow": {
     "slide_type": "fragment"
    }
   },
   "source": [
    "Notice that the argument used to create the DataFrame is a dictionary. Also notice that, unlike NumPy arrays, a Pandas DataFrame can be **mixed type**, but the values in each column must be the same type.\n",
    "\n",
    "Each Pandas DataFrame has an **index**, given by the column on the far left with no name. If we don't specify the index, it is assumed to be the integers from 0 to the length of the lists in the dictionary (so that, in this case, it matches the numeric part of household list). We can also specify the index directly, and it can be anything (i.e., non-numeric):"
   ]
  },
  {
   "cell_type": "code",
   "execution_count": 7,
   "metadata": {
    "slideshow": {
     "slide_type": "fragment"
    }
   },
   "outputs": [
    {
     "data": {
      "text/html": [
       "<div>\n",
       "<style scoped>\n",
       "    .dataframe tbody tr th:only-of-type {\n",
       "        vertical-align: middle;\n",
       "    }\n",
       "\n",
       "    .dataframe tbody tr th {\n",
       "        vertical-align: top;\n",
       "    }\n",
       "\n",
       "    .dataframe thead th {\n",
       "        text-align: right;\n",
       "    }\n",
       "</style>\n",
       "<table border=\"1\" class=\"dataframe\">\n",
       "  <thead>\n",
       "    <tr style=\"text-align: right;\">\n",
       "      <th></th>\n",
       "      <th>water</th>\n",
       "      <th>income</th>\n",
       "    </tr>\n",
       "  </thead>\n",
       "  <tbody>\n",
       "    <tr>\n",
       "      <th>H0</th>\n",
       "      <td>private</td>\n",
       "      <td>32951.308793</td>\n",
       "    </tr>\n",
       "    <tr>\n",
       "      <th>H1</th>\n",
       "      <td>municipal</td>\n",
       "      <td>36513.185205</td>\n",
       "    </tr>\n",
       "    <tr>\n",
       "      <th>H2</th>\n",
       "      <td>municipal</td>\n",
       "      <td>27104.418446</td>\n",
       "    </tr>\n",
       "    <tr>\n",
       "      <th>H3</th>\n",
       "      <td>municipal</td>\n",
       "      <td>48580.720456</td>\n",
       "    </tr>\n",
       "    <tr>\n",
       "      <th>H4</th>\n",
       "      <td>private</td>\n",
       "      <td>56106.870215</td>\n",
       "    </tr>\n",
       "    <tr>\n",
       "      <th>...</th>\n",
       "      <td>...</td>\n",
       "      <td>...</td>\n",
       "    </tr>\n",
       "    <tr>\n",
       "      <th>H995</th>\n",
       "      <td>private</td>\n",
       "      <td>62819.162649</td>\n",
       "    </tr>\n",
       "    <tr>\n",
       "      <th>H996</th>\n",
       "      <td>municipal</td>\n",
       "      <td>59229.295988</td>\n",
       "    </tr>\n",
       "    <tr>\n",
       "      <th>H997</th>\n",
       "      <td>municipal</td>\n",
       "      <td>73440.294567</td>\n",
       "    </tr>\n",
       "    <tr>\n",
       "      <th>H998</th>\n",
       "      <td>municipal</td>\n",
       "      <td>66037.294924</td>\n",
       "    </tr>\n",
       "    <tr>\n",
       "      <th>H999</th>\n",
       "      <td>municipal</td>\n",
       "      <td>35233.764552</td>\n",
       "    </tr>\n",
       "  </tbody>\n",
       "</table>\n",
       "<p>1000 rows × 2 columns</p>\n",
       "</div>"
      ],
      "text/plain": [
       "          water        income\n",
       "H0      private  32951.308793\n",
       "H1    municipal  36513.185205\n",
       "H2    municipal  27104.418446\n",
       "H3    municipal  48580.720456\n",
       "H4      private  56106.870215\n",
       "...         ...           ...\n",
       "H995    private  62819.162649\n",
       "H996  municipal  59229.295988\n",
       "H997  municipal  73440.294567\n",
       "H998  municipal  66037.294924\n",
       "H999  municipal  35233.764552\n",
       "\n",
       "[1000 rows x 2 columns]"
      ]
     },
     "execution_count": 7,
     "metadata": {},
     "output_type": "execute_result"
    }
   ],
   "source": [
    "county = pd.DataFrame({'water': water, 'income': income}, index = household)\n",
    "county"
   ]
  },
  {
   "cell_type": "markdown",
   "metadata": {},
   "source": [
    "But let's undo that for now, since it is convenient to have the index be consecutive integers."
   ]
  },
  {
   "cell_type": "code",
   "execution_count": 8,
   "metadata": {},
   "outputs": [
    {
     "data": {
      "text/html": [
       "<div>\n",
       "<style scoped>\n",
       "    .dataframe tbody tr th:only-of-type {\n",
       "        vertical-align: middle;\n",
       "    }\n",
       "\n",
       "    .dataframe tbody tr th {\n",
       "        vertical-align: top;\n",
       "    }\n",
       "\n",
       "    .dataframe thead th {\n",
       "        text-align: right;\n",
       "    }\n",
       "</style>\n",
       "<table border=\"1\" class=\"dataframe\">\n",
       "  <thead>\n",
       "    <tr style=\"text-align: right;\">\n",
       "      <th></th>\n",
       "      <th>household</th>\n",
       "      <th>water</th>\n",
       "      <th>income</th>\n",
       "    </tr>\n",
       "  </thead>\n",
       "  <tbody>\n",
       "    <tr>\n",
       "      <th>0</th>\n",
       "      <td>H0</td>\n",
       "      <td>private</td>\n",
       "      <td>32951.308793</td>\n",
       "    </tr>\n",
       "    <tr>\n",
       "      <th>1</th>\n",
       "      <td>H1</td>\n",
       "      <td>municipal</td>\n",
       "      <td>36513.185205</td>\n",
       "    </tr>\n",
       "    <tr>\n",
       "      <th>2</th>\n",
       "      <td>H2</td>\n",
       "      <td>municipal</td>\n",
       "      <td>27104.418446</td>\n",
       "    </tr>\n",
       "    <tr>\n",
       "      <th>3</th>\n",
       "      <td>H3</td>\n",
       "      <td>municipal</td>\n",
       "      <td>48580.720456</td>\n",
       "    </tr>\n",
       "    <tr>\n",
       "      <th>4</th>\n",
       "      <td>H4</td>\n",
       "      <td>private</td>\n",
       "      <td>56106.870215</td>\n",
       "    </tr>\n",
       "    <tr>\n",
       "      <th>...</th>\n",
       "      <td>...</td>\n",
       "      <td>...</td>\n",
       "      <td>...</td>\n",
       "    </tr>\n",
       "    <tr>\n",
       "      <th>995</th>\n",
       "      <td>H995</td>\n",
       "      <td>private</td>\n",
       "      <td>62819.162649</td>\n",
       "    </tr>\n",
       "    <tr>\n",
       "      <th>996</th>\n",
       "      <td>H996</td>\n",
       "      <td>municipal</td>\n",
       "      <td>59229.295988</td>\n",
       "    </tr>\n",
       "    <tr>\n",
       "      <th>997</th>\n",
       "      <td>H997</td>\n",
       "      <td>municipal</td>\n",
       "      <td>73440.294567</td>\n",
       "    </tr>\n",
       "    <tr>\n",
       "      <th>998</th>\n",
       "      <td>H998</td>\n",
       "      <td>municipal</td>\n",
       "      <td>66037.294924</td>\n",
       "    </tr>\n",
       "    <tr>\n",
       "      <th>999</th>\n",
       "      <td>H999</td>\n",
       "      <td>municipal</td>\n",
       "      <td>35233.764552</td>\n",
       "    </tr>\n",
       "  </tbody>\n",
       "</table>\n",
       "<p>1000 rows × 3 columns</p>\n",
       "</div>"
      ],
      "text/plain": [
       "    household      water        income\n",
       "0          H0    private  32951.308793\n",
       "1          H1  municipal  36513.185205\n",
       "2          H2  municipal  27104.418446\n",
       "3          H3  municipal  48580.720456\n",
       "4          H4    private  56106.870215\n",
       "..        ...        ...           ...\n",
       "995      H995    private  62819.162649\n",
       "996      H996  municipal  59229.295988\n",
       "997      H997  municipal  73440.294567\n",
       "998      H998  municipal  66037.294924\n",
       "999      H999  municipal  35233.764552\n",
       "\n",
       "[1000 rows x 3 columns]"
      ]
     },
     "execution_count": 8,
     "metadata": {},
     "output_type": "execute_result"
    }
   ],
   "source": [
    "county = pd.DataFrame({'household': household, 'water': water, 'income': income})\n",
    "county"
   ]
  },
  {
   "cell_type": "markdown",
   "metadata": {
    "slideshow": {
     "slide_type": "fragment"
    }
   },
   "source": [
    "The ``head()`` and ``tail()`` functions can be used to retrieve just the first and last 5 rows:"
   ]
  },
  {
   "cell_type": "code",
   "execution_count": 9,
   "metadata": {
    "slideshow": {
     "slide_type": "fragment"
    }
   },
   "outputs": [
    {
     "data": {
      "text/html": [
       "<div>\n",
       "<style scoped>\n",
       "    .dataframe tbody tr th:only-of-type {\n",
       "        vertical-align: middle;\n",
       "    }\n",
       "\n",
       "    .dataframe tbody tr th {\n",
       "        vertical-align: top;\n",
       "    }\n",
       "\n",
       "    .dataframe thead th {\n",
       "        text-align: right;\n",
       "    }\n",
       "</style>\n",
       "<table border=\"1\" class=\"dataframe\">\n",
       "  <thead>\n",
       "    <tr style=\"text-align: right;\">\n",
       "      <th></th>\n",
       "      <th>household</th>\n",
       "      <th>water</th>\n",
       "      <th>income</th>\n",
       "    </tr>\n",
       "  </thead>\n",
       "  <tbody>\n",
       "    <tr>\n",
       "      <th>0</th>\n",
       "      <td>H0</td>\n",
       "      <td>private</td>\n",
       "      <td>32951.308793</td>\n",
       "    </tr>\n",
       "    <tr>\n",
       "      <th>1</th>\n",
       "      <td>H1</td>\n",
       "      <td>municipal</td>\n",
       "      <td>36513.185205</td>\n",
       "    </tr>\n",
       "    <tr>\n",
       "      <th>2</th>\n",
       "      <td>H2</td>\n",
       "      <td>municipal</td>\n",
       "      <td>27104.418446</td>\n",
       "    </tr>\n",
       "    <tr>\n",
       "      <th>3</th>\n",
       "      <td>H3</td>\n",
       "      <td>municipal</td>\n",
       "      <td>48580.720456</td>\n",
       "    </tr>\n",
       "    <tr>\n",
       "      <th>4</th>\n",
       "      <td>H4</td>\n",
       "      <td>private</td>\n",
       "      <td>56106.870215</td>\n",
       "    </tr>\n",
       "  </tbody>\n",
       "</table>\n",
       "</div>"
      ],
      "text/plain": [
       "  household      water        income\n",
       "0        H0    private  32951.308793\n",
       "1        H1  municipal  36513.185205\n",
       "2        H2  municipal  27104.418446\n",
       "3        H3  municipal  48580.720456\n",
       "4        H4    private  56106.870215"
      ]
     },
     "execution_count": 9,
     "metadata": {},
     "output_type": "execute_result"
    }
   ],
   "source": [
    "county.head()"
   ]
  },
  {
   "cell_type": "code",
   "execution_count": 10,
   "metadata": {
    "slideshow": {
     "slide_type": "fragment"
    }
   },
   "outputs": [
    {
     "data": {
      "text/html": [
       "<div>\n",
       "<style scoped>\n",
       "    .dataframe tbody tr th:only-of-type {\n",
       "        vertical-align: middle;\n",
       "    }\n",
       "\n",
       "    .dataframe tbody tr th {\n",
       "        vertical-align: top;\n",
       "    }\n",
       "\n",
       "    .dataframe thead th {\n",
       "        text-align: right;\n",
       "    }\n",
       "</style>\n",
       "<table border=\"1\" class=\"dataframe\">\n",
       "  <thead>\n",
       "    <tr style=\"text-align: right;\">\n",
       "      <th></th>\n",
       "      <th>household</th>\n",
       "      <th>water</th>\n",
       "      <th>income</th>\n",
       "    </tr>\n",
       "  </thead>\n",
       "  <tbody>\n",
       "    <tr>\n",
       "      <th>995</th>\n",
       "      <td>H995</td>\n",
       "      <td>private</td>\n",
       "      <td>62819.162649</td>\n",
       "    </tr>\n",
       "    <tr>\n",
       "      <th>996</th>\n",
       "      <td>H996</td>\n",
       "      <td>municipal</td>\n",
       "      <td>59229.295988</td>\n",
       "    </tr>\n",
       "    <tr>\n",
       "      <th>997</th>\n",
       "      <td>H997</td>\n",
       "      <td>municipal</td>\n",
       "      <td>73440.294567</td>\n",
       "    </tr>\n",
       "    <tr>\n",
       "      <th>998</th>\n",
       "      <td>H998</td>\n",
       "      <td>municipal</td>\n",
       "      <td>66037.294924</td>\n",
       "    </tr>\n",
       "    <tr>\n",
       "      <th>999</th>\n",
       "      <td>H999</td>\n",
       "      <td>municipal</td>\n",
       "      <td>35233.764552</td>\n",
       "    </tr>\n",
       "  </tbody>\n",
       "</table>\n",
       "</div>"
      ],
      "text/plain": [
       "    household      water        income\n",
       "995      H995    private  62819.162649\n",
       "996      H996  municipal  59229.295988\n",
       "997      H997  municipal  73440.294567\n",
       "998      H998  municipal  66037.294924\n",
       "999      H999  municipal  35233.764552"
      ]
     },
     "execution_count": 10,
     "metadata": {},
     "output_type": "execute_result"
    }
   ],
   "source": [
    "county.tail()"
   ]
  },
  {
   "cell_type": "markdown",
   "metadata": {
    "slideshow": {
     "slide_type": "fragment"
    }
   },
   "source": [
    "We can retrieve the column names (keys) using ``columns``"
   ]
  },
  {
   "cell_type": "code",
   "execution_count": 11,
   "metadata": {
    "slideshow": {
     "slide_type": "fragment"
    }
   },
   "outputs": [
    {
     "data": {
      "text/plain": [
       "Index(['household', 'water', 'income'], dtype='object')"
      ]
     },
     "execution_count": 11,
     "metadata": {},
     "output_type": "execute_result"
    }
   ],
   "source": [
    "county.columns"
   ]
  },
  {
   "cell_type": "markdown",
   "metadata": {
    "slideshow": {
     "slide_type": "fragment"
    }
   },
   "source": [
    "And access the data in a particular column using 2 different syntaxes:"
   ]
  },
  {
   "cell_type": "code",
   "execution_count": 12,
   "metadata": {
    "slideshow": {
     "slide_type": "fragment"
    }
   },
   "outputs": [
    {
     "data": {
      "text/plain": [
       "0      private\n",
       "1    municipal\n",
       "2    municipal\n",
       "3    municipal\n",
       "4      private\n",
       "Name: water, dtype: object"
      ]
     },
     "execution_count": 12,
     "metadata": {},
     "output_type": "execute_result"
    }
   ],
   "source": [
    "county['water'].head()"
   ]
  },
  {
   "cell_type": "code",
   "execution_count": 13,
   "metadata": {
    "slideshow": {
     "slide_type": "fragment"
    }
   },
   "outputs": [
    {
     "data": {
      "text/plain": [
       "0      private\n",
       "1    municipal\n",
       "2    municipal\n",
       "3    municipal\n",
       "4      private\n",
       "Name: water, dtype: object"
      ]
     },
     "execution_count": 13,
     "metadata": {},
     "output_type": "execute_result"
    }
   ],
   "source": [
    "county.water.head()"
   ]
  },
  {
   "cell_type": "markdown",
   "metadata": {},
   "source": [
    "Get the shape of the dataframe in similar manner to NumPy"
   ]
  },
  {
   "cell_type": "code",
   "execution_count": 14,
   "metadata": {
    "slideshow": {
     "slide_type": "fragment"
    }
   },
   "outputs": [
    {
     "data": {
      "text/plain": [
       "(1000, 3)"
      ]
     },
     "execution_count": 14,
     "metadata": {},
     "output_type": "execute_result"
    }
   ],
   "source": [
    "county.shape"
   ]
  },
  {
   "cell_type": "markdown",
   "metadata": {
    "slideshow": {
     "slide_type": "fragment"
    }
   },
   "source": [
    "We create new columns in a similar manner to dictionaries:"
   ]
  },
  {
   "cell_type": "code",
   "execution_count": 15,
   "metadata": {
    "slideshow": {
     "slide_type": "fragment"
    }
   },
   "outputs": [
    {
     "name": "stdout",
     "output_type": "stream",
     "text": [
      "1000\n"
     ]
    }
   ],
   "source": [
    "## create another column for number of residents in household (again by random sampling)\n",
    "import numpy as np\n",
    "nrow = county.shape[0]\n",
    "print(nrow)"
   ]
  },
  {
   "cell_type": "code",
   "execution_count": 16,
   "metadata": {
    "slideshow": {
     "slide_type": "fragment"
    }
   },
   "outputs": [
    {
     "data": {
      "text/plain": [
       "array([4, 2, 5, 5, 1, 2, 2, 3, 2, 1, 1, 1, 3, 4, 4, 3, 3, 1, 1, 1, 2, 3,\n",
       "       6, 2, 1, 2, 1, 1, 2, 1, 1, 2, 2, 3, 4, 2, 1, 5, 1, 2, 6, 4, 1, 2,\n",
       "       4, 4, 1, 3, 3, 2, 3, 2, 5, 1, 2, 1, 4, 1, 1, 4, 4, 2, 1, 2, 3, 2,\n",
       "       4, 2, 1, 1, 4, 3, 5, 3, 3, 2, 1, 1, 6, 3, 2, 4, 3, 6, 2, 2, 2, 3,\n",
       "       5, 4, 1, 4, 2, 4, 3, 1, 3, 2, 2, 1, 1, 1, 4, 1, 6, 1, 5, 1, 1, 1,\n",
       "       1, 1, 6, 3, 3, 5, 3, 1, 5, 1, 3, 3, 4, 3, 2, 1, 1, 2, 2, 1, 6, 2,\n",
       "       2, 3, 4, 1, 6, 4, 4, 3, 6, 1, 6, 4, 3, 4, 2, 2, 2, 6, 2, 4, 4, 3,\n",
       "       1, 3, 3, 6, 3, 2, 3, 4, 4, 3, 2, 1, 2, 2, 4, 2, 1, 3, 1, 1, 1, 2,\n",
       "       1, 1, 6, 4, 2, 2, 1, 4, 1, 1, 2, 1, 3, 4, 1, 3, 1, 2, 1, 3, 5, 3,\n",
       "       1, 2, 2, 1, 3, 5, 1, 1, 6, 2, 1, 4, 4, 2, 1, 1, 3, 3, 2, 1, 1, 3,\n",
       "       1, 1, 3, 1, 1, 1, 4, 1, 1, 6, 3, 1, 2, 1, 1, 5, 6, 1, 4, 1, 1, 4,\n",
       "       3, 2, 3, 4, 2, 2, 1, 1, 2, 6, 1, 6, 4, 1, 1, 1, 1, 3, 2, 1, 3, 2,\n",
       "       6, 5, 1, 2, 1, 2, 5, 2, 1, 4, 4, 2, 1, 1, 3, 1, 4, 2, 2, 3, 4, 2,\n",
       "       5, 2, 6, 1, 5, 3, 1, 3, 3, 1, 2, 1, 6, 6, 4, 4, 5, 1, 1, 2, 3, 1,\n",
       "       1, 2, 1, 2, 1, 2, 1, 4, 1, 4, 4, 2, 4, 1, 4, 2, 6, 6, 2, 2, 6, 1,\n",
       "       1, 3, 2, 3, 2, 1, 1, 1, 3, 1, 6, 1, 6, 1, 2, 1, 4, 4, 6, 1, 4, 3,\n",
       "       3, 6, 1, 2, 3, 2, 3, 1, 2, 1, 1, 1, 4, 2, 6, 6, 2, 4, 4, 4, 1, 1,\n",
       "       1, 4, 4, 1, 3, 4, 2, 3, 3, 3, 1, 2, 1, 1, 5, 2, 1, 3, 1, 2, 2, 2,\n",
       "       4, 3, 1, 4, 3, 4, 4, 1, 3, 1, 2, 1, 5, 1, 3, 1, 1, 2, 2, 2, 5, 5,\n",
       "       5, 1, 4, 2, 3, 1, 1, 6, 3, 2, 4, 1, 6, 2, 6, 1, 5, 1, 5, 3, 3, 2,\n",
       "       4, 1, 6, 2, 1, 2, 6, 1, 4, 1, 5, 1, 4, 1, 1, 2, 2, 1, 4, 3, 2, 1,\n",
       "       1, 1, 4, 3, 4, 6, 4, 1, 1, 1, 2, 3, 4, 2, 5, 1, 6, 1, 1, 1, 3, 2,\n",
       "       6, 6, 4, 2, 1, 1, 1, 4, 6, 4, 4, 2, 4, 2, 1, 2, 6, 2, 5, 2, 6, 5,\n",
       "       1, 2, 2, 4, 2, 4, 2, 3, 2, 4, 6, 2, 4, 3, 2, 5, 2, 4, 1, 1, 6, 4,\n",
       "       2, 1, 4, 2, 1, 2, 6, 1, 5, 2, 3, 3, 2, 3, 2, 2, 2, 3, 4, 1, 6, 1,\n",
       "       2, 1, 1, 2, 3, 3, 3, 3, 3, 4, 1, 2, 1, 5, 1, 2, 1, 3, 2, 4, 6, 3,\n",
       "       4, 6, 1, 2, 3, 2, 1, 6, 3, 6, 4, 1, 4, 6, 1, 4, 4, 1, 2, 4, 1, 1,\n",
       "       4, 1, 4, 4, 1, 3, 4, 6, 1, 1, 6, 3, 2, 2, 3, 3, 2, 2, 3, 2, 2, 3,\n",
       "       3, 4, 3, 2, 1, 1, 4, 2, 1, 4, 3, 6, 1, 2, 2, 2, 2, 6, 4, 4, 3, 2,\n",
       "       1, 4, 1, 4, 1, 5, 5, 4, 1, 6, 3, 2, 3, 1, 3, 3, 4, 1, 2, 1, 2, 6,\n",
       "       6, 4, 4, 4, 4, 1, 1, 3, 1, 2, 2, 4, 4, 4, 1, 1, 3, 6, 2, 1, 1, 1,\n",
       "       1, 4, 2, 2, 6, 1, 1, 1, 1, 1, 1, 2, 4, 3, 4, 2, 3, 2, 3, 2, 2, 3,\n",
       "       2, 1, 3, 4, 3, 2, 4, 4, 1, 4, 5, 6, 2, 4, 2, 4, 4, 2, 4, 6, 1, 3,\n",
       "       5, 1, 3, 3, 2, 5, 4, 1, 5, 4, 6, 1, 2, 2, 4, 6, 1, 3, 6, 5, 3, 1,\n",
       "       3, 1, 5, 2, 6, 1, 2, 3, 2, 3, 1, 1, 1, 1, 1, 2, 2, 2, 4, 1, 4, 1,\n",
       "       3, 1, 3, 6, 5, 2, 3, 1, 2, 3, 6, 2, 2, 2, 3, 1, 2, 6, 1, 1, 2, 1,\n",
       "       2, 5, 4, 1, 1, 1, 3, 2, 3, 1, 5, 6, 3, 4, 2, 5, 6, 1, 3, 3, 4, 1,\n",
       "       4, 2, 3, 5, 3, 3, 2, 2, 4, 3, 1, 1, 3, 2, 4, 2, 2, 2, 1, 4, 6, 1,\n",
       "       1, 3, 1, 2, 3, 1, 6, 2, 4, 4, 4, 4, 3, 1, 5, 3, 2, 2, 1, 2, 4, 1,\n",
       "       3, 4, 2, 2, 6, 1, 3, 4, 1, 2, 5, 2, 1, 1, 1, 2, 2, 3, 3, 2, 1, 1,\n",
       "       2, 4, 4, 3, 3, 2, 1, 6, 1, 1, 2, 1, 6, 1, 4, 2, 2, 2, 3, 1, 1, 2,\n",
       "       2, 1, 4, 2, 4, 4, 4, 2, 2, 5, 2, 4, 1, 2, 4, 4, 2, 2, 2, 1, 6, 3,\n",
       "       2, 3, 1, 3, 1, 2, 1, 4, 2, 2, 4, 4, 2, 1, 2, 3, 1, 1, 4, 1, 6, 3,\n",
       "       5, 2, 5, 5, 4, 3, 2, 1, 1, 2, 2, 5, 1, 1, 5, 5, 1, 2, 5, 3, 6, 5,\n",
       "       2, 2, 2, 1, 1, 5, 2, 2, 2, 1, 5, 2, 1, 3, 1, 4, 3, 1, 4, 3, 1, 4,\n",
       "       1, 1, 3, 6, 4, 6, 5, 2, 4, 3])"
      ]
     },
     "execution_count": 16,
     "metadata": {},
     "output_type": "execute_result"
    }
   ],
   "source": [
    "residents = np.random.choice([1, 2, 3, 4, 5, 6], size = nrow, p = [0.3, 0.25, 0.15, 0.15, 0.075, 0.075])\n",
    "residents"
   ]
  },
  {
   "cell_type": "code",
   "execution_count": 17,
   "metadata": {
    "slideshow": {
     "slide_type": "fragment"
    }
   },
   "outputs": [
    {
     "data": {
      "text/html": [
       "<div>\n",
       "<style scoped>\n",
       "    .dataframe tbody tr th:only-of-type {\n",
       "        vertical-align: middle;\n",
       "    }\n",
       "\n",
       "    .dataframe tbody tr th {\n",
       "        vertical-align: top;\n",
       "    }\n",
       "\n",
       "    .dataframe thead th {\n",
       "        text-align: right;\n",
       "    }\n",
       "</style>\n",
       "<table border=\"1\" class=\"dataframe\">\n",
       "  <thead>\n",
       "    <tr style=\"text-align: right;\">\n",
       "      <th></th>\n",
       "      <th>household</th>\n",
       "      <th>water</th>\n",
       "      <th>income</th>\n",
       "      <th>residents</th>\n",
       "    </tr>\n",
       "  </thead>\n",
       "  <tbody>\n",
       "    <tr>\n",
       "      <th>0</th>\n",
       "      <td>H0</td>\n",
       "      <td>private</td>\n",
       "      <td>32951.308793</td>\n",
       "      <td>4</td>\n",
       "    </tr>\n",
       "    <tr>\n",
       "      <th>1</th>\n",
       "      <td>H1</td>\n",
       "      <td>municipal</td>\n",
       "      <td>36513.185205</td>\n",
       "      <td>2</td>\n",
       "    </tr>\n",
       "    <tr>\n",
       "      <th>2</th>\n",
       "      <td>H2</td>\n",
       "      <td>municipal</td>\n",
       "      <td>27104.418446</td>\n",
       "      <td>5</td>\n",
       "    </tr>\n",
       "    <tr>\n",
       "      <th>3</th>\n",
       "      <td>H3</td>\n",
       "      <td>municipal</td>\n",
       "      <td>48580.720456</td>\n",
       "      <td>5</td>\n",
       "    </tr>\n",
       "    <tr>\n",
       "      <th>4</th>\n",
       "      <td>H4</td>\n",
       "      <td>private</td>\n",
       "      <td>56106.870215</td>\n",
       "      <td>1</td>\n",
       "    </tr>\n",
       "  </tbody>\n",
       "</table>\n",
       "</div>"
      ],
      "text/plain": [
       "  household      water        income  residents\n",
       "0        H0    private  32951.308793          4\n",
       "1        H1  municipal  36513.185205          2\n",
       "2        H2  municipal  27104.418446          5\n",
       "3        H3  municipal  48580.720456          5\n",
       "4        H4    private  56106.870215          1"
      ]
     },
     "execution_count": 17,
     "metadata": {},
     "output_type": "execute_result"
    }
   ],
   "source": [
    "county['residents'] = residents\n",
    "county.head()"
   ]
  },
  {
   "cell_type": "markdown",
   "metadata": {
    "slideshow": {
     "slide_type": "slide"
    }
   },
   "source": [
    "### Importing data\n",
    "Pandas has a number of useful functions for importing data, such as ``pd.read_csv()`` and ``pd.read_excel()``. We will go into more detail about reading and manipulating datasets soon. But for now, a simple example using 5 years of historical stock prices for 5 large tech companies:"
   ]
  },
  {
   "cell_type": "code",
   "execution_count": 18,
   "metadata": {
    "slideshow": {
     "slide_type": "fragment"
    }
   },
   "outputs": [
    {
     "data": {
      "text/html": [
       "<div>\n",
       "<style scoped>\n",
       "    .dataframe tbody tr th:only-of-type {\n",
       "        vertical-align: middle;\n",
       "    }\n",
       "\n",
       "    .dataframe tbody tr th {\n",
       "        vertical-align: top;\n",
       "    }\n",
       "\n",
       "    .dataframe thead th {\n",
       "        text-align: right;\n",
       "    }\n",
       "</style>\n",
       "<table border=\"1\" class=\"dataframe\">\n",
       "  <thead>\n",
       "    <tr style=\"text-align: right;\">\n",
       "      <th></th>\n",
       "      <th>Date</th>\n",
       "      <th>Apple</th>\n",
       "      <th>Microsoft</th>\n",
       "      <th>Facebook</th>\n",
       "      <th>Amazon</th>\n",
       "      <th>Tesla</th>\n",
       "    </tr>\n",
       "  </thead>\n",
       "  <tbody>\n",
       "    <tr>\n",
       "      <th>0</th>\n",
       "      <td>2020-08-11</td>\n",
       "      <td>437.50</td>\n",
       "      <td>203.38</td>\n",
       "      <td>256.13</td>\n",
       "      <td>3080.67</td>\n",
       "      <td>1374.39</td>\n",
       "    </tr>\n",
       "    <tr>\n",
       "      <th>1</th>\n",
       "      <td>2020-08-10</td>\n",
       "      <td>450.91</td>\n",
       "      <td>208.25</td>\n",
       "      <td>263.00</td>\n",
       "      <td>3148.16</td>\n",
       "      <td>1418.57</td>\n",
       "    </tr>\n",
       "    <tr>\n",
       "      <th>2</th>\n",
       "      <td>2020-08-07</td>\n",
       "      <td>444.45</td>\n",
       "      <td>212.48</td>\n",
       "      <td>268.44</td>\n",
       "      <td>3167.46</td>\n",
       "      <td>1452.71</td>\n",
       "    </tr>\n",
       "    <tr>\n",
       "      <th>3</th>\n",
       "      <td>2020-08-06</td>\n",
       "      <td>455.61</td>\n",
       "      <td>216.35</td>\n",
       "      <td>265.28</td>\n",
       "      <td>3225.00</td>\n",
       "      <td>1489.58</td>\n",
       "    </tr>\n",
       "    <tr>\n",
       "      <th>4</th>\n",
       "      <td>2020-08-05</td>\n",
       "      <td>440.25</td>\n",
       "      <td>212.94</td>\n",
       "      <td>249.12</td>\n",
       "      <td>3205.03</td>\n",
       "      <td>1485.02</td>\n",
       "    </tr>\n",
       "  </tbody>\n",
       "</table>\n",
       "</div>"
      ],
      "text/plain": [
       "        Date   Apple  Microsoft  Facebook   Amazon    Tesla\n",
       "0 2020-08-11  437.50     203.38    256.13  3080.67  1374.39\n",
       "1 2020-08-10  450.91     208.25    263.00  3148.16  1418.57\n",
       "2 2020-08-07  444.45     212.48    268.44  3167.46  1452.71\n",
       "3 2020-08-06  455.61     216.35    265.28  3225.00  1489.58\n",
       "4 2020-08-05  440.25     212.94    249.12  3205.03  1485.02"
      ]
     },
     "execution_count": 18,
     "metadata": {},
     "output_type": "execute_result"
    }
   ],
   "source": [
    "## import data. \"header=2\" tells it to ignore the first two lines and use the 3rd line as the column names.\n",
    "stocks = pd.read_excel('HistoricalStockPrices.xlsx', sheet_name = 'Combined', header = 2)\n",
    "stocks.head()"
   ]
  },
  {
   "cell_type": "markdown",
   "metadata": {
    "slideshow": {
     "slide_type": "fragment"
    }
   },
   "source": [
    "Notice the type for the \"Date\" column is automatically assumed to be **datetime64** when it is read in. "
   ]
  },
  {
   "cell_type": "code",
   "execution_count": 19,
   "metadata": {
    "slideshow": {
     "slide_type": "fragment"
    }
   },
   "outputs": [
    {
     "data": {
      "text/plain": [
       "0   2020-08-11\n",
       "1   2020-08-10\n",
       "2   2020-08-07\n",
       "3   2020-08-06\n",
       "4   2020-08-05\n",
       "Name: Date, dtype: datetime64[ns]"
      ]
     },
     "execution_count": 19,
     "metadata": {},
     "output_type": "execute_result"
    }
   ],
   "source": [
    "stocks.Date.head()"
   ]
  },
  {
   "cell_type": "markdown",
   "metadata": {
    "slideshow": {
     "slide_type": "fragment"
    }
   },
   "source": [
    "In Pandas, datetimes can also be used directly as the index."
   ]
  },
  {
   "cell_type": "code",
   "execution_count": 22,
   "metadata": {
    "slideshow": {
     "slide_type": "fragment"
    }
   },
   "outputs": [
    {
     "data": {
      "text/html": [
       "<div>\n",
       "<style scoped>\n",
       "    .dataframe tbody tr th:only-of-type {\n",
       "        vertical-align: middle;\n",
       "    }\n",
       "\n",
       "    .dataframe tbody tr th {\n",
       "        vertical-align: top;\n",
       "    }\n",
       "\n",
       "    .dataframe thead th {\n",
       "        text-align: right;\n",
       "    }\n",
       "</style>\n",
       "<table border=\"1\" class=\"dataframe\">\n",
       "  <thead>\n",
       "    <tr style=\"text-align: right;\">\n",
       "      <th></th>\n",
       "      <th>Apple</th>\n",
       "      <th>Microsoft</th>\n",
       "      <th>Facebook</th>\n",
       "      <th>Amazon</th>\n",
       "      <th>Tesla</th>\n",
       "    </tr>\n",
       "    <tr>\n",
       "      <th>Date</th>\n",
       "      <th></th>\n",
       "      <th></th>\n",
       "      <th></th>\n",
       "      <th></th>\n",
       "      <th></th>\n",
       "    </tr>\n",
       "  </thead>\n",
       "  <tbody>\n",
       "    <tr>\n",
       "      <th>2020-08-11</th>\n",
       "      <td>437.50</td>\n",
       "      <td>203.38</td>\n",
       "      <td>256.13</td>\n",
       "      <td>3080.67</td>\n",
       "      <td>1374.39</td>\n",
       "    </tr>\n",
       "    <tr>\n",
       "      <th>2020-08-10</th>\n",
       "      <td>450.91</td>\n",
       "      <td>208.25</td>\n",
       "      <td>263.00</td>\n",
       "      <td>3148.16</td>\n",
       "      <td>1418.57</td>\n",
       "    </tr>\n",
       "    <tr>\n",
       "      <th>2020-08-07</th>\n",
       "      <td>444.45</td>\n",
       "      <td>212.48</td>\n",
       "      <td>268.44</td>\n",
       "      <td>3167.46</td>\n",
       "      <td>1452.71</td>\n",
       "    </tr>\n",
       "    <tr>\n",
       "      <th>2020-08-06</th>\n",
       "      <td>455.61</td>\n",
       "      <td>216.35</td>\n",
       "      <td>265.28</td>\n",
       "      <td>3225.00</td>\n",
       "      <td>1489.58</td>\n",
       "    </tr>\n",
       "    <tr>\n",
       "      <th>2020-08-05</th>\n",
       "      <td>440.25</td>\n",
       "      <td>212.94</td>\n",
       "      <td>249.12</td>\n",
       "      <td>3205.03</td>\n",
       "      <td>1485.02</td>\n",
       "    </tr>\n",
       "  </tbody>\n",
       "</table>\n",
       "</div>"
      ],
      "text/plain": [
       "             Apple  Microsoft  Facebook   Amazon    Tesla\n",
       "Date                                                     \n",
       "2020-08-11  437.50     203.38    256.13  3080.67  1374.39\n",
       "2020-08-10  450.91     208.25    263.00  3148.16  1418.57\n",
       "2020-08-07  444.45     212.48    268.44  3167.46  1452.71\n",
       "2020-08-06  455.61     216.35    265.28  3225.00  1489.58\n",
       "2020-08-05  440.25     212.94    249.12  3205.03  1485.02"
      ]
     },
     "execution_count": 22,
     "metadata": {},
     "output_type": "execute_result"
    }
   ],
   "source": [
    "stocks = pd.read_excel('HistoricalStockPrices.xlsx', sheet_name = 'Combined', header = 2, index_col = 0)\n",
    "stocks.head()"
   ]
  },
  {
   "cell_type": "markdown",
   "metadata": {
    "slideshow": {
     "slide_type": "fragment"
    }
   },
   "source": [
    "The index is now a special type of object, **DatetimeIndex**, which has a number of useful properties when manipulating and plotting time series data, as we will see in two weeks (Visualization lecture)."
   ]
  },
  {
   "cell_type": "code",
   "execution_count": 23,
   "metadata": {
    "slideshow": {
     "slide_type": "fragment"
    }
   },
   "outputs": [
    {
     "name": "stdout",
     "output_type": "stream",
     "text": [
      "DatetimeIndex(['2020-08-11', '2020-08-10', '2020-08-07', '2020-08-06',\n",
      "               '2020-08-05', '2020-08-04', '2020-08-03', '2020-07-31',\n",
      "               '2020-07-30', '2020-07-29',\n",
      "               ...\n",
      "               '2015-08-25', '2015-08-24', '2015-08-21', '2015-08-20',\n",
      "               '2015-08-19', '2015-08-18', '2015-08-17', '2015-08-14',\n",
      "               '2015-08-13', '2015-08-12'],\n",
      "              dtype='datetime64[ns]', name='Date', length=1259, freq=None)\n"
     ]
    }
   ],
   "source": [
    "print(stocks.index)"
   ]
  },
  {
   "cell_type": "code",
   "execution_count": 24,
   "metadata": {
    "slideshow": {
     "slide_type": "fragment"
    }
   },
   "outputs": [
    {
     "data": {
      "text/plain": [
       "Text(0, 0.5, 'Price ($/share)')"
      ]
     },
     "execution_count": 24,
     "metadata": {},
     "output_type": "execute_result"
    },
    {
     "data": {
      "image/png": "[encoded data removed]",
      "text/plain": [
       "<Figure size 432x288 with 1 Axes>"
      ]
     },
     "metadata": {
      "needs_background": "light"
     },
     "output_type": "display_data"
    }
   ],
   "source": [
    "import matplotlib.pyplot as plt\n",
    "plt.plot(stocks)\n",
    "plt.legend(stocks.columns)\n",
    "plt.xlabel('Year')\n",
    "plt.ylabel('Price ($/share)')"
   ]
  },
  {
   "cell_type": "markdown",
   "metadata": {
    "slideshow": {
     "slide_type": "slide"
    }
   },
   "source": [
    "### Manipulating data \n",
    "The developers of Pandas were influenced by the NumPy package, and much of NumPy's functionality is also available for Pandas DataFrames. For example, we can perform element-wise arithmetic on whole columns at a time:"
   ]
  },
  {
   "cell_type": "code",
   "execution_count": 25,
   "metadata": {},
   "outputs": [
    {
     "data": {
      "text/plain": [
       "Index(['Apple', 'Microsoft', 'Facebook', 'Amazon', 'Tesla'], dtype='object')"
      ]
     },
     "execution_count": 25,
     "metadata": {},
     "output_type": "execute_result"
    }
   ],
   "source": [
    "stocks.columns"
   ]
  },
  {
   "cell_type": "code",
   "execution_count": 26,
   "metadata": {
    "slideshow": {
     "slide_type": "fragment"
    }
   },
   "outputs": [
    {
     "name": "stdout",
     "output_type": "stream",
     "text": [
      "['Apple', 'Microsoft', 'Facebook', 'Amazon', 'Tesla']\n",
      "\n",
      "['Apple_growth', 'Microsoft_growth', 'Facebook_growth', 'Amazon_growth', 'Tesla_growth']\n",
      "\n"
     ]
    },
    {
     "data": {
      "text/html": [
       "<div>\n",
       "<style scoped>\n",
       "    .dataframe tbody tr th:only-of-type {\n",
       "        vertical-align: middle;\n",
       "    }\n",
       "\n",
       "    .dataframe tbody tr th {\n",
       "        vertical-align: top;\n",
       "    }\n",
       "\n",
       "    .dataframe thead th {\n",
       "        text-align: right;\n",
       "    }\n",
       "</style>\n",
       "<table border=\"1\" class=\"dataframe\">\n",
       "  <thead>\n",
       "    <tr style=\"text-align: right;\">\n",
       "      <th></th>\n",
       "      <th>Apple</th>\n",
       "      <th>Microsoft</th>\n",
       "      <th>Facebook</th>\n",
       "      <th>Amazon</th>\n",
       "      <th>Tesla</th>\n",
       "      <th>Apple_growth</th>\n",
       "      <th>Microsoft_growth</th>\n",
       "      <th>Facebook_growth</th>\n",
       "      <th>Amazon_growth</th>\n",
       "      <th>Tesla_growth</th>\n",
       "    </tr>\n",
       "    <tr>\n",
       "      <th>Date</th>\n",
       "      <th></th>\n",
       "      <th></th>\n",
       "      <th></th>\n",
       "      <th></th>\n",
       "      <th></th>\n",
       "      <th></th>\n",
       "      <th></th>\n",
       "      <th></th>\n",
       "      <th></th>\n",
       "      <th></th>\n",
       "    </tr>\n",
       "  </thead>\n",
       "  <tbody>\n",
       "    <tr>\n",
       "      <th>2020-08-11</th>\n",
       "      <td>437.50</td>\n",
       "      <td>203.38</td>\n",
       "      <td>256.13</td>\n",
       "      <td>3080.67</td>\n",
       "      <td>1374.39</td>\n",
       "      <td>3.796425</td>\n",
       "      <td>4.351305</td>\n",
       "      <td>2.719291</td>\n",
       "      <td>5.857789</td>\n",
       "      <td>5.770626</td>\n",
       "    </tr>\n",
       "    <tr>\n",
       "      <th>2020-08-10</th>\n",
       "      <td>450.91</td>\n",
       "      <td>208.25</td>\n",
       "      <td>263.00</td>\n",
       "      <td>3148.16</td>\n",
       "      <td>1418.57</td>\n",
       "      <td>3.912791</td>\n",
       "      <td>4.455499</td>\n",
       "      <td>2.792228</td>\n",
       "      <td>5.986119</td>\n",
       "      <td>5.956124</td>\n",
       "    </tr>\n",
       "    <tr>\n",
       "      <th>2020-08-07</th>\n",
       "      <td>444.45</td>\n",
       "      <td>212.48</td>\n",
       "      <td>268.44</td>\n",
       "      <td>3167.46</td>\n",
       "      <td>1452.71</td>\n",
       "      <td>3.856734</td>\n",
       "      <td>4.545999</td>\n",
       "      <td>2.849984</td>\n",
       "      <td>6.022818</td>\n",
       "      <td>6.099467</td>\n",
       "    </tr>\n",
       "    <tr>\n",
       "      <th>2020-08-06</th>\n",
       "      <td>455.61</td>\n",
       "      <td>216.35</td>\n",
       "      <td>265.28</td>\n",
       "      <td>3225.00</td>\n",
       "      <td>1489.58</td>\n",
       "      <td>3.953575</td>\n",
       "      <td>4.628798</td>\n",
       "      <td>2.816435</td>\n",
       "      <td>6.132228</td>\n",
       "      <td>6.254272</td>\n",
       "    </tr>\n",
       "    <tr>\n",
       "      <th>2020-08-05</th>\n",
       "      <td>440.25</td>\n",
       "      <td>212.94</td>\n",
       "      <td>249.12</td>\n",
       "      <td>3205.03</td>\n",
       "      <td>1485.02</td>\n",
       "      <td>3.820288</td>\n",
       "      <td>4.555841</td>\n",
       "      <td>2.644867</td>\n",
       "      <td>6.094256</td>\n",
       "      <td>6.235126</td>\n",
       "    </tr>\n",
       "  </tbody>\n",
       "</table>\n",
       "</div>"
      ],
      "text/plain": [
       "             Apple  Microsoft  Facebook   Amazon    Tesla  Apple_growth  \\\n",
       "Date                                                                      \n",
       "2020-08-11  437.50     203.38    256.13  3080.67  1374.39      3.796425   \n",
       "2020-08-10  450.91     208.25    263.00  3148.16  1418.57      3.912791   \n",
       "2020-08-07  444.45     212.48    268.44  3167.46  1452.71      3.856734   \n",
       "2020-08-06  455.61     216.35    265.28  3225.00  1489.58      3.953575   \n",
       "2020-08-05  440.25     212.94    249.12  3205.03  1485.02      3.820288   \n",
       "\n",
       "            Microsoft_growth  Facebook_growth  Amazon_growth  Tesla_growth  \n",
       "Date                                                                        \n",
       "2020-08-11          4.351305         2.719291       5.857789      5.770626  \n",
       "2020-08-10          4.455499         2.792228       5.986119      5.956124  \n",
       "2020-08-07          4.545999         2.849984       6.022818      6.099467  \n",
       "2020-08-06          4.628798         2.816435       6.132228      6.254272  \n",
       "2020-08-05          4.555841         2.644867       6.094256      6.235126  "
      ]
     },
     "execution_count": 26,
     "metadata": {},
     "output_type": "execute_result"
    }
   ],
   "source": [
    "## calculate relative growth of each stock\n",
    "companies = []\n",
    "growth = []\n",
    "for c in stocks.columns:\n",
    "    companies.append(c)\n",
    "    growth.append(c + '_growth')\n",
    "    stocks[c + '_growth'] = stocks[c] / stocks[c][-1]\n",
    "\n",
    "print(companies)\n",
    "print()\n",
    "print(growth)\n",
    "print()\n",
    "stocks.head()"
   ]
  },
  {
   "cell_type": "code",
   "execution_count": 27,
   "metadata": {
    "slideshow": {
     "slide_type": "fragment"
    }
   },
   "outputs": [
    {
     "data": {
      "text/plain": [
       "Text(0, 0.5, 'Growth')"
      ]
     },
     "execution_count": 27,
     "metadata": {},
     "output_type": "execute_result"
    },
    {
     "data": {
      "image/png": "[encoded data removed]",
      "text/plain": [
       "<Figure size 432x288 with 1 Axes>"
      ]
     },
     "metadata": {
      "needs_background": "light"
     },
     "output_type": "display_data"
    }
   ],
   "source": [
    "## plot growth\n",
    "for i, c in enumerate(growth):\n",
    "    plt.plot(stocks[c], label = companies[i])\n",
    "plt.legend()\n",
    "plt.xlabel('Year')\n",
    "plt.ylabel('Growth')"
   ]
  },
  {
   "cell_type": "code",
   "execution_count": 28,
   "metadata": {
    "slideshow": {
     "slide_type": "fragment"
    }
   },
   "outputs": [
    {
     "data": {
      "text/plain": [
       "[<matplotlib.lines.Line2D at 0x21da2408f08>]"
      ]
     },
     "execution_count": 28,
     "metadata": {},
     "output_type": "execute_result"
    },
    {
     "data": {
      "image/png": "[encoded data removed]",
      "text/plain": [
       "<Figure size 432x288 with 1 Axes>"
      ]
     },
     "metadata": {
      "needs_background": "light"
     },
     "output_type": "display_data"
    }
   ],
   "source": [
    "## How would you have done if you had bought 1 share each of Facebook and Apple stock in August 2015?\n",
    "stocks['Facebook_Apple'] = stocks['Facebook'] + stocks['Apple']\n",
    "stocks['Facebook_Apple_growth'] = stocks['Facebook_Apple'] / stocks['Facebook_Apple'][-1]\n",
    "plt.plot(stocks['Facebook_Apple_growth'])"
   ]
  },
  {
   "cell_type": "markdown",
   "metadata": {
    "slideshow": {
     "slide_type": "fragment"
    }
   },
   "source": [
    "We can also use many NumPy functions directly on Pandas DataFrames. For example, we can create a new DataFrame to hold the statistics of the data."
   ]
  },
  {
   "cell_type": "code",
   "execution_count": 29,
   "metadata": {},
   "outputs": [
    {
     "data": {
      "text/plain": [
       "Apple                     178.405620\n",
       "Microsoft                  97.529210\n",
       "Facebook                  158.644774\n",
       "Amazon                   1352.001164\n",
       "Tesla                     345.804722\n",
       "Apple_growth                1.548122\n",
       "Microsoft_growth            2.086633\n",
       "Facebook_growth             1.684306\n",
       "Amazon_growth               2.570784\n",
       "Tesla_growth                1.451924\n",
       "Facebook_Apple            337.050393\n",
       "Facebook_Apple_growth       1.609370\n",
       "dtype: float64"
      ]
     },
     "execution_count": 29,
     "metadata": {},
     "output_type": "execute_result"
    }
   ],
   "source": [
    "stocks.mean()"
   ]
  },
  {
   "cell_type": "code",
   "execution_count": 30,
   "metadata": {
    "slideshow": {
     "slide_type": "fragment"
    }
   },
   "outputs": [
    {
     "data": {
      "text/html": [
       "<div>\n",
       "<style scoped>\n",
       "    .dataframe tbody tr th:only-of-type {\n",
       "        vertical-align: middle;\n",
       "    }\n",
       "\n",
       "    .dataframe tbody tr th {\n",
       "        vertical-align: top;\n",
       "    }\n",
       "\n",
       "    .dataframe thead th {\n",
       "        text-align: right;\n",
       "    }\n",
       "</style>\n",
       "<table border=\"1\" class=\"dataframe\">\n",
       "  <thead>\n",
       "    <tr style=\"text-align: right;\">\n",
       "      <th></th>\n",
       "      <th>mean</th>\n",
       "      <th>std</th>\n",
       "      <th>min</th>\n",
       "      <th>max</th>\n",
       "      <th>q05</th>\n",
       "      <th>q95</th>\n",
       "    </tr>\n",
       "  </thead>\n",
       "  <tbody>\n",
       "    <tr>\n",
       "      <th>Apple</th>\n",
       "      <td>178.405620</td>\n",
       "      <td>69.985242</td>\n",
       "      <td>90.340000</td>\n",
       "      <td>455.610000</td>\n",
       "      <td>97.139000</td>\n",
       "      <td>319.268000</td>\n",
       "    </tr>\n",
       "    <tr>\n",
       "      <th>Microsoft</th>\n",
       "      <td>97.529210</td>\n",
       "      <td>42.799750</td>\n",
       "      <td>40.470000</td>\n",
       "      <td>216.540000</td>\n",
       "      <td>49.897000</td>\n",
       "      <td>183.630000</td>\n",
       "    </tr>\n",
       "    <tr>\n",
       "      <th>Facebook</th>\n",
       "      <td>158.644774</td>\n",
       "      <td>37.500433</td>\n",
       "      <td>82.090000</td>\n",
       "      <td>268.440000</td>\n",
       "      <td>99.280000</td>\n",
       "      <td>220.691000</td>\n",
       "    </tr>\n",
       "    <tr>\n",
       "      <th>Amazon</th>\n",
       "      <td>1352.001164</td>\n",
       "      <td>611.957225</td>\n",
       "      <td>463.370000</td>\n",
       "      <td>3225.000000</td>\n",
       "      <td>555.039000</td>\n",
       "      <td>2408.271000</td>\n",
       "    </tr>\n",
       "    <tr>\n",
       "      <th>Tesla</th>\n",
       "      <td>345.804722</td>\n",
       "      <td>229.829204</td>\n",
       "      <td>143.670000</td>\n",
       "      <td>1643.000000</td>\n",
       "      <td>195.435000</td>\n",
       "      <td>815.692000</td>\n",
       "    </tr>\n",
       "    <tr>\n",
       "      <th>Apple_growth</th>\n",
       "      <td>1.548122</td>\n",
       "      <td>0.607300</td>\n",
       "      <td>0.783929</td>\n",
       "      <td>3.953575</td>\n",
       "      <td>0.842928</td>\n",
       "      <td>2.770462</td>\n",
       "    </tr>\n",
       "    <tr>\n",
       "      <th>Microsoft_growth</th>\n",
       "      <td>2.086633</td>\n",
       "      <td>0.915699</td>\n",
       "      <td>0.865854</td>\n",
       "      <td>4.632863</td>\n",
       "      <td>1.067544</td>\n",
       "      <td>3.928755</td>\n",
       "    </tr>\n",
       "    <tr>\n",
       "      <th>Facebook_growth</th>\n",
       "      <td>1.684306</td>\n",
       "      <td>0.398136</td>\n",
       "      <td>0.871536</td>\n",
       "      <td>2.849984</td>\n",
       "      <td>1.054040</td>\n",
       "      <td>2.343041</td>\n",
       "    </tr>\n",
       "    <tr>\n",
       "      <th>Amazon_growth</th>\n",
       "      <td>2.570784</td>\n",
       "      <td>1.163616</td>\n",
       "      <td>0.881082</td>\n",
       "      <td>6.132228</td>\n",
       "      <td>1.055388</td>\n",
       "      <td>4.579245</td>\n",
       "    </tr>\n",
       "    <tr>\n",
       "      <th>Tesla_growth</th>\n",
       "      <td>1.451924</td>\n",
       "      <td>0.964980</td>\n",
       "      <td>0.603225</td>\n",
       "      <td>6.898434</td>\n",
       "      <td>0.820569</td>\n",
       "      <td>3.424831</td>\n",
       "    </tr>\n",
       "    <tr>\n",
       "      <th>Facebook_Apple</th>\n",
       "      <td>337.050393</td>\n",
       "      <td>104.314165</td>\n",
       "      <td>185.210000</td>\n",
       "      <td>720.890000</td>\n",
       "      <td>206.225000</td>\n",
       "      <td>538.993000</td>\n",
       "    </tr>\n",
       "    <tr>\n",
       "      <th>Facebook_Apple_growth</th>\n",
       "      <td>1.609370</td>\n",
       "      <td>0.498086</td>\n",
       "      <td>0.884353</td>\n",
       "      <td>3.442153</td>\n",
       "      <td>0.984697</td>\n",
       "      <td>2.573619</td>\n",
       "    </tr>\n",
       "  </tbody>\n",
       "</table>\n",
       "</div>"
      ],
      "text/plain": [
       "                              mean         std         min          max  \\\n",
       "Apple                   178.405620   69.985242   90.340000   455.610000   \n",
       "Microsoft                97.529210   42.799750   40.470000   216.540000   \n",
       "Facebook                158.644774   37.500433   82.090000   268.440000   \n",
       "Amazon                 1352.001164  611.957225  463.370000  3225.000000   \n",
       "Tesla                   345.804722  229.829204  143.670000  1643.000000   \n",
       "Apple_growth              1.548122    0.607300    0.783929     3.953575   \n",
       "Microsoft_growth          2.086633    0.915699    0.865854     4.632863   \n",
       "Facebook_growth           1.684306    0.398136    0.871536     2.849984   \n",
       "Amazon_growth             2.570784    1.163616    0.881082     6.132228   \n",
       "Tesla_growth              1.451924    0.964980    0.603225     6.898434   \n",
       "Facebook_Apple          337.050393  104.314165  185.210000   720.890000   \n",
       "Facebook_Apple_growth     1.609370    0.498086    0.884353     3.442153   \n",
       "\n",
       "                              q05          q95  \n",
       "Apple                   97.139000   319.268000  \n",
       "Microsoft               49.897000   183.630000  \n",
       "Facebook                99.280000   220.691000  \n",
       "Amazon                 555.039000  2408.271000  \n",
       "Tesla                  195.435000   815.692000  \n",
       "Apple_growth             0.842928     2.770462  \n",
       "Microsoft_growth         1.067544     3.928755  \n",
       "Facebook_growth          1.054040     2.343041  \n",
       "Amazon_growth            1.055388     4.579245  \n",
       "Tesla_growth             0.820569     3.424831  \n",
       "Facebook_Apple         206.225000   538.993000  \n",
       "Facebook_Apple_growth    0.984697     2.573619  "
      ]
     },
     "execution_count": 30,
     "metadata": {},
     "output_type": "execute_result"
    }
   ],
   "source": [
    "stocks_stats = pd.DataFrame({'mean': stocks.mean(),\n",
    "                             'std': stocks.std(),\n",
    "                             'min': stocks.min(),\n",
    "                             'max': stocks.max(),\n",
    "                             'q05': stocks.quantile(0.05),\n",
    "                             'q95': stocks.quantile(0.95)})\n",
    "stocks_stats"
   ]
  },
  {
   "cell_type": "markdown",
   "metadata": {
    "slideshow": {
     "slide_type": "fragment"
    }
   },
   "source": [
    "Notice that the index is now a string: the columns of the original dataframe."
   ]
  },
  {
   "cell_type": "markdown",
   "metadata": {
    "slideshow": {
     "slide_type": "slide"
    }
   },
   "source": [
    "### Indexing in Pandas\n",
    "Indexing in Pandas is a bit trickier than other data structures like NumPy arrays or lists. There are three main ways to retrieve data. \n",
    "\n",
    "First, as seen above, we can select a particular column at a time. This converts the object from a Pandas DataFrame to a **Pandas Series**, which is similar except one dimensional."
   ]
  },
  {
   "cell_type": "code",
   "execution_count": 31,
   "metadata": {
    "slideshow": {
     "slide_type": "fragment"
    }
   },
   "outputs": [
    {
     "data": {
      "text/plain": [
       "Apple                     178.405620\n",
       "Microsoft                  97.529210\n",
       "Facebook                  158.644774\n",
       "Amazon                   1352.001164\n",
       "Tesla                     345.804722\n",
       "Apple_growth                1.548122\n",
       "Microsoft_growth            2.086633\n",
       "Facebook_growth             1.684306\n",
       "Amazon_growth               2.570784\n",
       "Tesla_growth                1.451924\n",
       "Facebook_Apple            337.050393\n",
       "Facebook_Apple_growth       1.609370\n",
       "Name: mean, dtype: float64"
      ]
     },
     "execution_count": 31,
     "metadata": {},
     "output_type": "execute_result"
    }
   ],
   "source": [
    "s = stocks_stats['mean']\n",
    "s"
   ]
  },
  {
   "cell_type": "markdown",
   "metadata": {
    "slideshow": {
     "slide_type": "fragment"
    }
   },
   "source": [
    "Once you have a series, you can index it similar to a NumPy array or list, using the integer position of the row of interest rather than the label index."
   ]
  },
  {
   "cell_type": "code",
   "execution_count": 32,
   "metadata": {
    "slideshow": {
     "slide_type": "fragment"
    }
   },
   "outputs": [
    {
     "data": {
      "text/plain": [
       "Apple         178.405620\n",
       "Microsoft      97.529210\n",
       "Facebook      158.644774\n",
       "Amazon       1352.001164\n",
       "Tesla         345.804722\n",
       "Name: mean, dtype: float64"
      ]
     },
     "execution_count": 32,
     "metadata": {},
     "output_type": "execute_result"
    }
   ],
   "source": [
    "s[:5]"
   ]
  },
  {
   "cell_type": "markdown",
   "metadata": {
    "slideshow": {
     "slide_type": "fragment"
    }
   },
   "source": [
    "To convert into an unnamed NumPy array, use the ``values`` attribute."
   ]
  },
  {
   "cell_type": "code",
   "execution_count": 33,
   "metadata": {
    "slideshow": {
     "slide_type": "fragment"
    }
   },
   "outputs": [
    {
     "data": {
      "text/plain": [
       "array([ 178.40561954,   97.52920969,  158.64477363, 1352.00116362,\n",
       "        345.804722  ,    1.54812235,    2.08663264,    1.68430591,\n",
       "          2.57078429,    1.45192393,  337.05039317,    1.60937016])"
      ]
     },
     "execution_count": 33,
     "metadata": {},
     "output_type": "execute_result"
    }
   ],
   "source": [
    "a = s.values\n",
    "a"
   ]
  },
  {
   "cell_type": "markdown",
   "metadata": {
    "slideshow": {
     "slide_type": "slide"
    }
   },
   "source": [
    "The second way to access (and alter) data in Pandas is ``iloc``, which can be used to retrive information based on the **integer position** within the array, much like you would with a NumPy array. For example, to get the standard deviation of Amazon stock, I would use:"
   ]
  },
  {
   "cell_type": "code",
   "execution_count": 34,
   "metadata": {
    "slideshow": {
     "slide_type": "fragment"
    }
   },
   "outputs": [
    {
     "name": "stdout",
     "output_type": "stream",
     "text": [
      "                              mean         std         min          max  \\\n",
      "Apple                   178.405620   69.985242   90.340000   455.610000   \n",
      "Microsoft                97.529210   42.799750   40.470000   216.540000   \n",
      "Facebook                158.644774   37.500433   82.090000   268.440000   \n",
      "Amazon                 1352.001164  611.957225  463.370000  3225.000000   \n",
      "Tesla                   345.804722  229.829204  143.670000  1643.000000   \n",
      "Apple_growth              1.548122    0.607300    0.783929     3.953575   \n",
      "Microsoft_growth          2.086633    0.915699    0.865854     4.632863   \n",
      "Facebook_growth           1.684306    0.398136    0.871536     2.849984   \n",
      "Amazon_growth             2.570784    1.163616    0.881082     6.132228   \n",
      "Tesla_growth              1.451924    0.964980    0.603225     6.898434   \n",
      "Facebook_Apple          337.050393  104.314165  185.210000   720.890000   \n",
      "Facebook_Apple_growth     1.609370    0.498086    0.884353     3.442153   \n",
      "\n",
      "                              q05          q95  \n",
      "Apple                   97.139000   319.268000  \n",
      "Microsoft               49.897000   183.630000  \n",
      "Facebook                99.280000   220.691000  \n",
      "Amazon                 555.039000  2408.271000  \n",
      "Tesla                  195.435000   815.692000  \n",
      "Apple_growth             0.842928     2.770462  \n",
      "Microsoft_growth         1.067544     3.928755  \n",
      "Facebook_growth          1.054040     2.343041  \n",
      "Amazon_growth            1.055388     4.579245  \n",
      "Tesla_growth             0.820569     3.424831  \n",
      "Facebook_Apple         206.225000   538.993000  \n",
      "Facebook_Apple_growth    0.984697     2.573619  \n",
      "\n",
      "611.9572253632282\n"
     ]
    }
   ],
   "source": [
    "print(stocks_stats)\n",
    "print()\n",
    "print(stocks_stats.iloc[3, 1])"
   ]
  },
  {
   "cell_type": "markdown",
   "metadata": {
    "slideshow": {
     "slide_type": "fragment"
    }
   },
   "source": [
    "We can also retrieve **slices** of data using ``iloc``, similar to NumPy."
   ]
  },
  {
   "cell_type": "code",
   "execution_count": 35,
   "metadata": {
    "slideshow": {
     "slide_type": "fragment"
    }
   },
   "outputs": [
    {
     "data": {
      "text/plain": [
       "mean    1352.001164\n",
       "std      611.957225\n",
       "min      463.370000\n",
       "max     3225.000000\n",
       "q05      555.039000\n",
       "q95     2408.271000\n",
       "Name: Amazon, dtype: float64"
      ]
     },
     "execution_count": 35,
     "metadata": {},
     "output_type": "execute_result"
    }
   ],
   "source": [
    "stocks_stats.iloc[3, :] "
   ]
  },
  {
   "cell_type": "code",
   "execution_count": 36,
   "metadata": {
    "slideshow": {
     "slide_type": "fragment"
    }
   },
   "outputs": [
    {
     "data": {
      "text/plain": [
       "Apple                     319.268000\n",
       "Microsoft                 183.630000\n",
       "Facebook                  220.691000\n",
       "Amazon                   2408.271000\n",
       "Tesla                     815.692000\n",
       "Apple_growth                2.770462\n",
       "Microsoft_growth            3.928755\n",
       "Facebook_growth             2.343041\n",
       "Amazon_growth               4.579245\n",
       "Tesla_growth                3.424831\n",
       "Facebook_Apple            538.993000\n",
       "Facebook_Apple_growth       2.573619\n",
       "Name: q95, dtype: float64"
      ]
     },
     "execution_count": 36,
     "metadata": {},
     "output_type": "execute_result"
    }
   ],
   "source": [
    "stocks_stats.iloc[:,-1] "
   ]
  },
  {
   "cell_type": "code",
   "execution_count": 37,
   "metadata": {
    "slideshow": {
     "slide_type": "fragment"
    }
   },
   "outputs": [
    {
     "data": {
      "text/html": [
       "<div>\n",
       "<style scoped>\n",
       "    .dataframe tbody tr th:only-of-type {\n",
       "        vertical-align: middle;\n",
       "    }\n",
       "\n",
       "    .dataframe tbody tr th {\n",
       "        vertical-align: top;\n",
       "    }\n",
       "\n",
       "    .dataframe thead th {\n",
       "        text-align: right;\n",
       "    }\n",
       "</style>\n",
       "<table border=\"1\" class=\"dataframe\">\n",
       "  <thead>\n",
       "    <tr style=\"text-align: right;\">\n",
       "      <th></th>\n",
       "      <th>min</th>\n",
       "      <th>max</th>\n",
       "    </tr>\n",
       "  </thead>\n",
       "  <tbody>\n",
       "    <tr>\n",
       "      <th>Microsoft</th>\n",
       "      <td>40.47</td>\n",
       "      <td>216.54</td>\n",
       "    </tr>\n",
       "    <tr>\n",
       "      <th>Facebook</th>\n",
       "      <td>82.09</td>\n",
       "      <td>268.44</td>\n",
       "    </tr>\n",
       "    <tr>\n",
       "      <th>Amazon</th>\n",
       "      <td>463.37</td>\n",
       "      <td>3225.00</td>\n",
       "    </tr>\n",
       "    <tr>\n",
       "      <th>Tesla</th>\n",
       "      <td>143.67</td>\n",
       "      <td>1643.00</td>\n",
       "    </tr>\n",
       "  </tbody>\n",
       "</table>\n",
       "</div>"
      ],
      "text/plain": [
       "              min      max\n",
       "Microsoft   40.47   216.54\n",
       "Facebook    82.09   268.44\n",
       "Amazon     463.37  3225.00\n",
       "Tesla      143.67  1643.00"
      ]
     },
     "execution_count": 37,
     "metadata": {},
     "output_type": "execute_result"
    }
   ],
   "source": [
    "stocks_stats.iloc[1:5,2:4]"
   ]
  },
  {
   "cell_type": "markdown",
   "metadata": {
    "slideshow": {
     "slide_type": "fragment"
    }
   },
   "source": [
    "Notice that the first two 1D slices create a Series, while the third slice creates another 2D DataFrame."
   ]
  },
  {
   "cell_type": "markdown",
   "metadata": {
    "slideshow": {
     "slide_type": "slide"
    }
   },
   "source": [
    "Lastly, we can use the ``loc`` method to access data based on **label indexes**. For example, I can again get the standard deviation of Amazon stock using:"
   ]
  },
  {
   "cell_type": "code",
   "execution_count": 38,
   "metadata": {
    "slideshow": {
     "slide_type": "fragment"
    }
   },
   "outputs": [
    {
     "data": {
      "text/plain": [
       "611.9572253632282"
      ]
     },
     "execution_count": 38,
     "metadata": {},
     "output_type": "execute_result"
    }
   ],
   "source": [
    "stocks_stats.loc['Amazon', 'std']"
   ]
  },
  {
   "cell_type": "markdown",
   "metadata": {
    "slideshow": {
     "slide_type": "fragment"
    }
   },
   "source": [
    "I can also get non-contiguous slices using lists of labels:"
   ]
  },
  {
   "cell_type": "code",
   "execution_count": 39,
   "metadata": {
    "slideshow": {
     "slide_type": "fragment"
    }
   },
   "outputs": [
    {
     "data": {
      "text/html": [
       "<div>\n",
       "<style scoped>\n",
       "    .dataframe tbody tr th:only-of-type {\n",
       "        vertical-align: middle;\n",
       "    }\n",
       "\n",
       "    .dataframe tbody tr th {\n",
       "        vertical-align: top;\n",
       "    }\n",
       "\n",
       "    .dataframe thead th {\n",
       "        text-align: right;\n",
       "    }\n",
       "</style>\n",
       "<table border=\"1\" class=\"dataframe\">\n",
       "  <thead>\n",
       "    <tr style=\"text-align: right;\">\n",
       "      <th></th>\n",
       "      <th>mean</th>\n",
       "      <th>min</th>\n",
       "      <th>max</th>\n",
       "    </tr>\n",
       "  </thead>\n",
       "  <tbody>\n",
       "    <tr>\n",
       "      <th>Apple</th>\n",
       "      <td>178.405620</td>\n",
       "      <td>90.34</td>\n",
       "      <td>455.61</td>\n",
       "    </tr>\n",
       "    <tr>\n",
       "      <th>Facebook</th>\n",
       "      <td>158.644774</td>\n",
       "      <td>82.09</td>\n",
       "      <td>268.44</td>\n",
       "    </tr>\n",
       "    <tr>\n",
       "      <th>Facebook_Apple</th>\n",
       "      <td>337.050393</td>\n",
       "      <td>185.21</td>\n",
       "      <td>720.89</td>\n",
       "    </tr>\n",
       "  </tbody>\n",
       "</table>\n",
       "</div>"
      ],
      "text/plain": [
       "                      mean     min     max\n",
       "Apple           178.405620   90.34  455.61\n",
       "Facebook        158.644774   82.09  268.44\n",
       "Facebook_Apple  337.050393  185.21  720.89"
      ]
     },
     "execution_count": 39,
     "metadata": {},
     "output_type": "execute_result"
    }
   ],
   "source": [
    "stocks_stats.loc[['Apple', 'Facebook', 'Facebook_Apple'], ['mean', 'min', 'max']]"
   ]
  },
  {
   "cell_type": "markdown",
   "metadata": {
    "slideshow": {
     "slide_type": "slide"
    }
   },
   "source": [
    "Be careful using ``loc/iloc`` with integer index labels, as this can get confusing! For example, consider again the county dataset, which has rows labeled 0-999."
   ]
  },
  {
   "cell_type": "code",
   "execution_count": 40,
   "metadata": {
    "slideshow": {
     "slide_type": "fragment"
    }
   },
   "outputs": [
    {
     "data": {
      "text/html": [
       "<div>\n",
       "<style scoped>\n",
       "    .dataframe tbody tr th:only-of-type {\n",
       "        vertical-align: middle;\n",
       "    }\n",
       "\n",
       "    .dataframe tbody tr th {\n",
       "        vertical-align: top;\n",
       "    }\n",
       "\n",
       "    .dataframe thead th {\n",
       "        text-align: right;\n",
       "    }\n",
       "</style>\n",
       "<table border=\"1\" class=\"dataframe\">\n",
       "  <thead>\n",
       "    <tr style=\"text-align: right;\">\n",
       "      <th></th>\n",
       "      <th>household</th>\n",
       "      <th>water</th>\n",
       "      <th>income</th>\n",
       "      <th>residents</th>\n",
       "    </tr>\n",
       "  </thead>\n",
       "  <tbody>\n",
       "    <tr>\n",
       "      <th>0</th>\n",
       "      <td>H0</td>\n",
       "      <td>private</td>\n",
       "      <td>32951.308793</td>\n",
       "      <td>4</td>\n",
       "    </tr>\n",
       "    <tr>\n",
       "      <th>1</th>\n",
       "      <td>H1</td>\n",
       "      <td>municipal</td>\n",
       "      <td>36513.185205</td>\n",
       "      <td>2</td>\n",
       "    </tr>\n",
       "    <tr>\n",
       "      <th>2</th>\n",
       "      <td>H2</td>\n",
       "      <td>municipal</td>\n",
       "      <td>27104.418446</td>\n",
       "      <td>5</td>\n",
       "    </tr>\n",
       "    <tr>\n",
       "      <th>3</th>\n",
       "      <td>H3</td>\n",
       "      <td>municipal</td>\n",
       "      <td>48580.720456</td>\n",
       "      <td>5</td>\n",
       "    </tr>\n",
       "    <tr>\n",
       "      <th>4</th>\n",
       "      <td>H4</td>\n",
       "      <td>private</td>\n",
       "      <td>56106.870215</td>\n",
       "      <td>1</td>\n",
       "    </tr>\n",
       "    <tr>\n",
       "      <th>...</th>\n",
       "      <td>...</td>\n",
       "      <td>...</td>\n",
       "      <td>...</td>\n",
       "      <td>...</td>\n",
       "    </tr>\n",
       "    <tr>\n",
       "      <th>995</th>\n",
       "      <td>H995</td>\n",
       "      <td>private</td>\n",
       "      <td>62819.162649</td>\n",
       "      <td>6</td>\n",
       "    </tr>\n",
       "    <tr>\n",
       "      <th>996</th>\n",
       "      <td>H996</td>\n",
       "      <td>municipal</td>\n",
       "      <td>59229.295988</td>\n",
       "      <td>5</td>\n",
       "    </tr>\n",
       "    <tr>\n",
       "      <th>997</th>\n",
       "      <td>H997</td>\n",
       "      <td>municipal</td>\n",
       "      <td>73440.294567</td>\n",
       "      <td>2</td>\n",
       "    </tr>\n",
       "    <tr>\n",
       "      <th>998</th>\n",
       "      <td>H998</td>\n",
       "      <td>municipal</td>\n",
       "      <td>66037.294924</td>\n",
       "      <td>4</td>\n",
       "    </tr>\n",
       "    <tr>\n",
       "      <th>999</th>\n",
       "      <td>H999</td>\n",
       "      <td>municipal</td>\n",
       "      <td>35233.764552</td>\n",
       "      <td>3</td>\n",
       "    </tr>\n",
       "  </tbody>\n",
       "</table>\n",
       "<p>1000 rows × 4 columns</p>\n",
       "</div>"
      ],
      "text/plain": [
       "    household      water        income  residents\n",
       "0          H0    private  32951.308793          4\n",
       "1          H1  municipal  36513.185205          2\n",
       "2          H2  municipal  27104.418446          5\n",
       "3          H3  municipal  48580.720456          5\n",
       "4          H4    private  56106.870215          1\n",
       "..        ...        ...           ...        ...\n",
       "995      H995    private  62819.162649          6\n",
       "996      H996  municipal  59229.295988          5\n",
       "997      H997  municipal  73440.294567          2\n",
       "998      H998  municipal  66037.294924          4\n",
       "999      H999  municipal  35233.764552          3\n",
       "\n",
       "[1000 rows x 4 columns]"
      ]
     },
     "execution_count": 40,
     "metadata": {},
     "output_type": "execute_result"
    }
   ],
   "source": [
    "county"
   ]
  },
  {
   "cell_type": "markdown",
   "metadata": {
    "slideshow": {
     "slide_type": "fragment"
    }
   },
   "source": [
    "Let's say the supervisor decides to split the work between two employees, Juan and Emily. Because Juan is a new employee who is still learning, he will take only the first 300 households, and Emily will take the last 700."
   ]
  },
  {
   "cell_type": "code",
   "execution_count": 41,
   "metadata": {
    "slideshow": {
     "slide_type": "fragment"
    }
   },
   "outputs": [
    {
     "data": {
      "text/html": [
       "<div>\n",
       "<style scoped>\n",
       "    .dataframe tbody tr th:only-of-type {\n",
       "        vertical-align: middle;\n",
       "    }\n",
       "\n",
       "    .dataframe tbody tr th {\n",
       "        vertical-align: top;\n",
       "    }\n",
       "\n",
       "    .dataframe thead th {\n",
       "        text-align: right;\n",
       "    }\n",
       "</style>\n",
       "<table border=\"1\" class=\"dataframe\">\n",
       "  <thead>\n",
       "    <tr style=\"text-align: right;\">\n",
       "      <th></th>\n",
       "      <th>household</th>\n",
       "      <th>water</th>\n",
       "      <th>income</th>\n",
       "      <th>residents</th>\n",
       "    </tr>\n",
       "  </thead>\n",
       "  <tbody>\n",
       "    <tr>\n",
       "      <th>300</th>\n",
       "      <td>H300</td>\n",
       "      <td>municipal</td>\n",
       "      <td>27000.648033</td>\n",
       "      <td>4</td>\n",
       "    </tr>\n",
       "    <tr>\n",
       "      <th>301</th>\n",
       "      <td>H301</td>\n",
       "      <td>private</td>\n",
       "      <td>56346.607424</td>\n",
       "      <td>4</td>\n",
       "    </tr>\n",
       "    <tr>\n",
       "      <th>302</th>\n",
       "      <td>H302</td>\n",
       "      <td>municipal</td>\n",
       "      <td>35352.490267</td>\n",
       "      <td>5</td>\n",
       "    </tr>\n",
       "    <tr>\n",
       "      <th>303</th>\n",
       "      <td>H303</td>\n",
       "      <td>private</td>\n",
       "      <td>77692.178952</td>\n",
       "      <td>1</td>\n",
       "    </tr>\n",
       "    <tr>\n",
       "      <th>304</th>\n",
       "      <td>H304</td>\n",
       "      <td>municipal</td>\n",
       "      <td>46297.857971</td>\n",
       "      <td>1</td>\n",
       "    </tr>\n",
       "    <tr>\n",
       "      <th>...</th>\n",
       "      <td>...</td>\n",
       "      <td>...</td>\n",
       "      <td>...</td>\n",
       "      <td>...</td>\n",
       "    </tr>\n",
       "    <tr>\n",
       "      <th>995</th>\n",
       "      <td>H995</td>\n",
       "      <td>private</td>\n",
       "      <td>62819.162649</td>\n",
       "      <td>6</td>\n",
       "    </tr>\n",
       "    <tr>\n",
       "      <th>996</th>\n",
       "      <td>H996</td>\n",
       "      <td>municipal</td>\n",
       "      <td>59229.295988</td>\n",
       "      <td>5</td>\n",
       "    </tr>\n",
       "    <tr>\n",
       "      <th>997</th>\n",
       "      <td>H997</td>\n",
       "      <td>municipal</td>\n",
       "      <td>73440.294567</td>\n",
       "      <td>2</td>\n",
       "    </tr>\n",
       "    <tr>\n",
       "      <th>998</th>\n",
       "      <td>H998</td>\n",
       "      <td>municipal</td>\n",
       "      <td>66037.294924</td>\n",
       "      <td>4</td>\n",
       "    </tr>\n",
       "    <tr>\n",
       "      <th>999</th>\n",
       "      <td>H999</td>\n",
       "      <td>municipal</td>\n",
       "      <td>35233.764552</td>\n",
       "      <td>3</td>\n",
       "    </tr>\n",
       "  </tbody>\n",
       "</table>\n",
       "<p>700 rows × 4 columns</p>\n",
       "</div>"
      ],
      "text/plain": [
       "    household      water        income  residents\n",
       "300      H300  municipal  27000.648033          4\n",
       "301      H301    private  56346.607424          4\n",
       "302      H302  municipal  35352.490267          5\n",
       "303      H303    private  77692.178952          1\n",
       "304      H304  municipal  46297.857971          1\n",
       "..        ...        ...           ...        ...\n",
       "995      H995    private  62819.162649          6\n",
       "996      H996  municipal  59229.295988          5\n",
       "997      H997  municipal  73440.294567          2\n",
       "998      H998  municipal  66037.294924          4\n",
       "999      H999  municipal  35233.764552          3\n",
       "\n",
       "[700 rows x 4 columns]"
      ]
     },
     "execution_count": 41,
     "metadata": {},
     "output_type": "execute_result"
    }
   ],
   "source": [
    "county_juan = county.iloc[:300]\n",
    "county_emily = county.iloc[300:]\n",
    "county_emily"
   ]
  },
  {
   "cell_type": "markdown",
   "metadata": {
    "slideshow": {
     "slide_type": "fragment"
    }
   },
   "source": [
    "Now Emily's DataFrame has 700 rows. The integer positions of the rows go from 0-699, while the labeled indexes go from 300-999. Thus, she will get different entries for row 500 depending on whether she means the position or the label."
   ]
  },
  {
   "cell_type": "code",
   "execution_count": 42,
   "metadata": {
    "slideshow": {
     "slide_type": "fragment"
    }
   },
   "outputs": [
    {
     "name": "stdout",
     "output_type": "stream",
     "text": [
      "household         H800\n",
      "water        municipal\n",
      "income           59122\n",
      "residents            3\n",
      "Name: 800, dtype: object\n"
     ]
    }
   ],
   "source": [
    "### iloc returns *position* 500, regardless of actual index label\n",
    "print( county_emily.iloc[500, :] )"
   ]
  },
  {
   "cell_type": "code",
   "execution_count": 43,
   "metadata": {
    "slideshow": {
     "slide_type": "fragment"
    }
   },
   "outputs": [
    {
     "name": "stdout",
     "output_type": "stream",
     "text": [
      "household         H500\n",
      "water        municipal\n",
      "income         63758.2\n",
      "residents            6\n",
      "Name: 500, dtype: object\n"
     ]
    }
   ],
   "source": [
    "### loc returns row labeled 500, regardless of its position\n",
    "print( county_emily.loc[500, :] )"
   ]
  },
  {
   "cell_type": "markdown",
   "metadata": {
    "slideshow": {
     "slide_type": "fragment"
    }
   },
   "source": [
    "This is a **very easy way to introduce bugs** in your code if you are not careful, so always be aware of whether you are using ``iloc`` or ``loc``. \n",
    "\n",
    "Sometimes it is helpful to reset the labeled index so that it matches the integer position."
   ]
  },
  {
   "cell_type": "code",
   "execution_count": 47,
   "metadata": {
    "slideshow": {
     "slide_type": "fragment"
    }
   },
   "outputs": [
    {
     "data": {
      "text/html": [
       "<div>\n",
       "<style scoped>\n",
       "    .dataframe tbody tr th:only-of-type {\n",
       "        vertical-align: middle;\n",
       "    }\n",
       "\n",
       "    .dataframe tbody tr th {\n",
       "        vertical-align: top;\n",
       "    }\n",
       "\n",
       "    .dataframe thead th {\n",
       "        text-align: right;\n",
       "    }\n",
       "</style>\n",
       "<table border=\"1\" class=\"dataframe\">\n",
       "  <thead>\n",
       "    <tr style=\"text-align: right;\">\n",
       "      <th></th>\n",
       "      <th>household</th>\n",
       "      <th>water</th>\n",
       "      <th>income</th>\n",
       "      <th>residents</th>\n",
       "    </tr>\n",
       "  </thead>\n",
       "  <tbody>\n",
       "    <tr>\n",
       "      <th>0</th>\n",
       "      <td>H300</td>\n",
       "      <td>municipal</td>\n",
       "      <td>27000.648033</td>\n",
       "      <td>4</td>\n",
       "    </tr>\n",
       "    <tr>\n",
       "      <th>1</th>\n",
       "      <td>H301</td>\n",
       "      <td>private</td>\n",
       "      <td>56346.607424</td>\n",
       "      <td>4</td>\n",
       "    </tr>\n",
       "    <tr>\n",
       "      <th>2</th>\n",
       "      <td>H302</td>\n",
       "      <td>municipal</td>\n",
       "      <td>35352.490267</td>\n",
       "      <td>5</td>\n",
       "    </tr>\n",
       "    <tr>\n",
       "      <th>3</th>\n",
       "      <td>H303</td>\n",
       "      <td>private</td>\n",
       "      <td>77692.178952</td>\n",
       "      <td>1</td>\n",
       "    </tr>\n",
       "    <tr>\n",
       "      <th>4</th>\n",
       "      <td>H304</td>\n",
       "      <td>municipal</td>\n",
       "      <td>46297.857971</td>\n",
       "      <td>1</td>\n",
       "    </tr>\n",
       "    <tr>\n",
       "      <th>...</th>\n",
       "      <td>...</td>\n",
       "      <td>...</td>\n",
       "      <td>...</td>\n",
       "      <td>...</td>\n",
       "    </tr>\n",
       "    <tr>\n",
       "      <th>695</th>\n",
       "      <td>H995</td>\n",
       "      <td>private</td>\n",
       "      <td>62819.162649</td>\n",
       "      <td>6</td>\n",
       "    </tr>\n",
       "    <tr>\n",
       "      <th>696</th>\n",
       "      <td>H996</td>\n",
       "      <td>municipal</td>\n",
       "      <td>59229.295988</td>\n",
       "      <td>5</td>\n",
       "    </tr>\n",
       "    <tr>\n",
       "      <th>697</th>\n",
       "      <td>H997</td>\n",
       "      <td>municipal</td>\n",
       "      <td>73440.294567</td>\n",
       "      <td>2</td>\n",
       "    </tr>\n",
       "    <tr>\n",
       "      <th>698</th>\n",
       "      <td>H998</td>\n",
       "      <td>municipal</td>\n",
       "      <td>66037.294924</td>\n",
       "      <td>4</td>\n",
       "    </tr>\n",
       "    <tr>\n",
       "      <th>699</th>\n",
       "      <td>H999</td>\n",
       "      <td>municipal</td>\n",
       "      <td>35233.764552</td>\n",
       "      <td>3</td>\n",
       "    </tr>\n",
       "  </tbody>\n",
       "</table>\n",
       "<p>700 rows × 4 columns</p>\n",
       "</div>"
      ],
      "text/plain": [
       "    household      water        income  residents\n",
       "0        H300  municipal  27000.648033          4\n",
       "1        H301    private  56346.607424          4\n",
       "2        H302  municipal  35352.490267          5\n",
       "3        H303    private  77692.178952          1\n",
       "4        H304  municipal  46297.857971          1\n",
       "..        ...        ...           ...        ...\n",
       "695      H995    private  62819.162649          6\n",
       "696      H996  municipal  59229.295988          5\n",
       "697      H997  municipal  73440.294567          2\n",
       "698      H998  municipal  66037.294924          4\n",
       "699      H999  municipal  35233.764552          3\n",
       "\n",
       "[700 rows x 4 columns]"
      ]
     },
     "execution_count": 47,
     "metadata": {},
     "output_type": "execute_result"
    }
   ],
   "source": [
    "county_emily_reset = county_emily.reset_index(drop = True, inplace = False)\n",
    "county_emily_reset\n",
    "\n",
    "# county_emily.reset_index(drop = True, inplace = True)\n"
   ]
  },
  {
   "cell_type": "markdown",
   "metadata": {
    "slideshow": {
     "slide_type": "slide"
    }
   },
   "source": [
    "### Logical indexing in Pandas\n",
    "Similar to NumPy, we can use **logical indexing** to access and manipulate portions of our data that meet certain conditions. To do so, we use ``loc`` again. For example, I can grab the subset of households with private water access:"
   ]
  },
  {
   "cell_type": "code",
   "execution_count": 48,
   "metadata": {
    "slideshow": {
     "slide_type": "fragment"
    }
   },
   "outputs": [
    {
     "name": "stdout",
     "output_type": "stream",
     "text": [
      "0       True\n",
      "1      False\n",
      "2      False\n",
      "3      False\n",
      "4       True\n",
      "       ...  \n",
      "995     True\n",
      "996    False\n",
      "997    False\n",
      "998    False\n",
      "999    False\n",
      "Name: water, Length: 1000, dtype: bool\n",
      "\n"
     ]
    }
   ],
   "source": [
    "is_private = county['water'] == 'private'\n",
    "print(is_private)\n",
    "print()"
   ]
  },
  {
   "cell_type": "code",
   "execution_count": 49,
   "metadata": {
    "slideshow": {
     "slide_type": "fragment"
    }
   },
   "outputs": [
    {
     "data": {
      "text/html": [
       "<div>\n",
       "<style scoped>\n",
       "    .dataframe tbody tr th:only-of-type {\n",
       "        vertical-align: middle;\n",
       "    }\n",
       "\n",
       "    .dataframe tbody tr th {\n",
       "        vertical-align: top;\n",
       "    }\n",
       "\n",
       "    .dataframe thead th {\n",
       "        text-align: right;\n",
       "    }\n",
       "</style>\n",
       "<table border=\"1\" class=\"dataframe\">\n",
       "  <thead>\n",
       "    <tr style=\"text-align: right;\">\n",
       "      <th></th>\n",
       "      <th>household</th>\n",
       "      <th>water</th>\n",
       "      <th>income</th>\n",
       "      <th>residents</th>\n",
       "    </tr>\n",
       "  </thead>\n",
       "  <tbody>\n",
       "    <tr>\n",
       "      <th>0</th>\n",
       "      <td>H0</td>\n",
       "      <td>private</td>\n",
       "      <td>32951.308793</td>\n",
       "      <td>4</td>\n",
       "    </tr>\n",
       "    <tr>\n",
       "      <th>4</th>\n",
       "      <td>H4</td>\n",
       "      <td>private</td>\n",
       "      <td>56106.870215</td>\n",
       "      <td>1</td>\n",
       "    </tr>\n",
       "    <tr>\n",
       "      <th>6</th>\n",
       "      <td>H6</td>\n",
       "      <td>private</td>\n",
       "      <td>23816.538666</td>\n",
       "      <td>2</td>\n",
       "    </tr>\n",
       "    <tr>\n",
       "      <th>8</th>\n",
       "      <td>H8</td>\n",
       "      <td>private</td>\n",
       "      <td>63016.768146</td>\n",
       "      <td>2</td>\n",
       "    </tr>\n",
       "    <tr>\n",
       "      <th>12</th>\n",
       "      <td>H12</td>\n",
       "      <td>private</td>\n",
       "      <td>57195.172327</td>\n",
       "      <td>3</td>\n",
       "    </tr>\n",
       "    <tr>\n",
       "      <th>...</th>\n",
       "      <td>...</td>\n",
       "      <td>...</td>\n",
       "      <td>...</td>\n",
       "      <td>...</td>\n",
       "    </tr>\n",
       "    <tr>\n",
       "      <th>982</th>\n",
       "      <td>H982</td>\n",
       "      <td>private</td>\n",
       "      <td>52629.683193</td>\n",
       "      <td>1</td>\n",
       "    </tr>\n",
       "    <tr>\n",
       "      <th>984</th>\n",
       "      <td>H984</td>\n",
       "      <td>private</td>\n",
       "      <td>58816.309076</td>\n",
       "      <td>3</td>\n",
       "    </tr>\n",
       "    <tr>\n",
       "      <th>992</th>\n",
       "      <td>H992</td>\n",
       "      <td>private</td>\n",
       "      <td>49591.235529</td>\n",
       "      <td>3</td>\n",
       "    </tr>\n",
       "    <tr>\n",
       "      <th>994</th>\n",
       "      <td>H994</td>\n",
       "      <td>private</td>\n",
       "      <td>38985.824306</td>\n",
       "      <td>4</td>\n",
       "    </tr>\n",
       "    <tr>\n",
       "      <th>995</th>\n",
       "      <td>H995</td>\n",
       "      <td>private</td>\n",
       "      <td>62819.162649</td>\n",
       "      <td>6</td>\n",
       "    </tr>\n",
       "  </tbody>\n",
       "</table>\n",
       "<p>437 rows × 4 columns</p>\n",
       "</div>"
      ],
      "text/plain": [
       "    household    water        income  residents\n",
       "0          H0  private  32951.308793          4\n",
       "4          H4  private  56106.870215          1\n",
       "6          H6  private  23816.538666          2\n",
       "8          H8  private  63016.768146          2\n",
       "12        H12  private  57195.172327          3\n",
       "..        ...      ...           ...        ...\n",
       "982      H982  private  52629.683193          1\n",
       "984      H984  private  58816.309076          3\n",
       "992      H992  private  49591.235529          3\n",
       "994      H994  private  38985.824306          4\n",
       "995      H995  private  62819.162649          6\n",
       "\n",
       "[437 rows x 4 columns]"
      ]
     },
     "execution_count": 49,
     "metadata": {},
     "output_type": "execute_result"
    }
   ],
   "source": [
    "county_private = county.loc[is_private, :]\n",
    "county_private"
   ]
  },
  {
   "cell_type": "markdown",
   "metadata": {
    "slideshow": {
     "slide_type": "fragment"
    }
   },
   "source": [
    "Like NumPy, we use the **bitwise comparison operators** ``&`` and ``|`` for multiple-comparison selections. "
   ]
  },
  {
   "cell_type": "code",
   "execution_count": 50,
   "metadata": {},
   "outputs": [
    {
     "data": {
      "text/plain": [
       "False"
      ]
     },
     "execution_count": 50,
     "metadata": {},
     "output_type": "execute_result"
    }
   ],
   "source": [
    "a = 2\n",
    "b = 3\n",
    "a == b"
   ]
  },
  {
   "cell_type": "code",
   "execution_count": 51,
   "metadata": {},
   "outputs": [
    {
     "data": {
      "text/plain": [
       "0      False\n",
       "1      False\n",
       "2       True\n",
       "3      False\n",
       "4      False\n",
       "       ...  \n",
       "995    False\n",
       "996    False\n",
       "997    False\n",
       "998    False\n",
       "999    False\n",
       "Name: income, Length: 1000, dtype: bool"
      ]
     },
     "execution_count": 51,
     "metadata": {},
     "output_type": "execute_result"
    }
   ],
   "source": [
    "### get second boolean series for low income households\n",
    "is_lowincome = county['income'] < 30000\n",
    "is_lowincome"
   ]
  },
  {
   "cell_type": "code",
   "execution_count": 55,
   "metadata": {},
   "outputs": [
    {
     "data": {
      "text/plain": [
       "0      False\n",
       "1      False\n",
       "2      False\n",
       "3      False\n",
       "4      False\n",
       "       ...  \n",
       "995    False\n",
       "996    False\n",
       "997    False\n",
       "998    False\n",
       "999    False\n",
       "Length: 1000, dtype: bool"
      ]
     },
     "execution_count": 55,
     "metadata": {},
     "output_type": "execute_result"
    }
   ],
   "source": [
    "### now get new series for households that are both private water and low income\n",
    "is_private_and_lowincome = is_private & is_lowincome\n",
    "is_private_and_lowincome"
   ]
  },
  {
   "cell_type": "code",
   "execution_count": 56,
   "metadata": {},
   "outputs": [
    {
     "data": {
      "text/plain": [
       "0       True\n",
       "1      False\n",
       "2       True\n",
       "3      False\n",
       "4       True\n",
       "       ...  \n",
       "995     True\n",
       "996    False\n",
       "997    False\n",
       "998    False\n",
       "999    False\n",
       "Length: 1000, dtype: bool"
      ]
     },
     "execution_count": 56,
     "metadata": {},
     "output_type": "execute_result"
    }
   ],
   "source": [
    "### now get new series for households that are either private water or low income\n",
    "is_private_or_lowincome = is_private | is_lowincome\n",
    "is_private_or_lowincome"
   ]
  },
  {
   "cell_type": "markdown",
   "metadata": {},
   "source": [
    "Alternatively, we can use the NumPy functions np.logical_and() and np.logical_or(). "
   ]
  },
  {
   "cell_type": "code",
   "execution_count": 57,
   "metadata": {},
   "outputs": [
    {
     "data": {
      "text/plain": [
       "0      False\n",
       "1      False\n",
       "2      False\n",
       "3      False\n",
       "4      False\n",
       "       ...  \n",
       "995    False\n",
       "996    False\n",
       "997    False\n",
       "998    False\n",
       "999    False\n",
       "Length: 1000, dtype: bool"
      ]
     },
     "execution_count": 57,
     "metadata": {},
     "output_type": "execute_result"
    }
   ],
   "source": [
    "### this does the same as \"&\" above\n",
    "is_private_and_lowincome = np.logical_and(is_private, is_lowincome)\n",
    "is_private_and_lowincome\n"
   ]
  },
  {
   "cell_type": "markdown",
   "metadata": {},
   "source": [
    "Another useful one is np.logical_not, which switches all True's to False and vice versa."
   ]
  },
  {
   "cell_type": "code",
   "execution_count": 58,
   "metadata": {},
   "outputs": [
    {
     "data": {
      "text/plain": [
       "0      True\n",
       "1      True\n",
       "2      True\n",
       "3      True\n",
       "4      True\n",
       "       ... \n",
       "995    True\n",
       "996    True\n",
       "997    True\n",
       "998    True\n",
       "999    True\n",
       "Length: 1000, dtype: bool"
      ]
     },
     "execution_count": 58,
     "metadata": {},
     "output_type": "execute_result"
    }
   ],
   "source": [
    "is_not_private_and_lowincome = np.logical_not(is_private_and_lowincome)\n",
    "is_not_private_and_lowincome"
   ]
  },
  {
   "cell_type": "markdown",
   "metadata": {
    "slideshow": {
     "slide_type": "slide"
    }
   },
   "source": [
    "### In class exercises\n",
    "1. Find the households eligible for subsidized groundwater testing"
   ]
  },
  {
   "cell_type": "markdown",
   "metadata": {
    "slideshow": {
     "slide_type": "fragment"
    }
   },
   "source": [
    "2. How many of these households are there?"
   ]
  },
  {
   "cell_type": "markdown",
   "metadata": {
    "slideshow": {
     "slide_type": "fragment"
    }
   },
   "source": [
    "3. What is the total number of residents that would be served by this program?"
   ]
  },
  {
   "cell_type": "markdown",
   "metadata": {
    "slideshow": {
     "slide_type": "fragment"
    }
   },
   "source": [
    "4. Assume the county wants to finance this testing using a fee on its municipal water users. Municipal households with incomes below \\$30,000 will be exempt from the fee. How many households will have to pay this new fee?"
   ]
  },
  {
   "cell_type": "markdown",
   "metadata": {
    "slideshow": {
     "slide_type": "fragment"
    }
   },
   "source": [
    "5. If each eligible private water household signs up for the program, and each subsidized test costs the county \\$100, how large is the fee that will be charged to municipal water households?"
   ]
  }
 ],
 "metadata": {
  "celltoolbar": "Slideshow",
  "kernelspec": {
   "display_name": "Python 3",
   "language": "python",
   "name": "python3"
  },
  "language_info": {
   "codemirror_mode": {
    "name": "ipython",
    "version": 3
   },
   "file_extension": ".py",
   "mimetype": "text/x-python",
   "name": "python",
   "nbconvert_exporter": "python",
   "pygments_lexer": "ipython3",
   "version": "3.6.10"
  }
 },
 "nbformat": 4,
 "nbformat_minor": 4
}
