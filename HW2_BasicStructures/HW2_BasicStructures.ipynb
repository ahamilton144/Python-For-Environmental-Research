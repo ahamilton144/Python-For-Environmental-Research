{
 "cells": [
  {
   "cell_type": "markdown",
   "metadata": {},
   "source": [
    "# Homework 2: Variable types and basic data structures\n",
    "ENVR 890-010: Python for Environmental Research, Fall 2021\n",
    "\n",
    "By Andrew Hamilton. Some material adapted from Greg Characklis, David Gorelick and H.B. Zeff."
   ]
  },
  {
   "cell_type": "markdown",
   "metadata": {},
   "source": [
    "## Instructions\n",
    "This homework will review the material from Lecture 2 (of the same name). \n",
    "\n",
    "**Due date: Aug. 28, before class**\n",
    "\n",
    "Instructions:\n",
    "1. \"Save as\" (under \"File\" tab) and save a copy of the notebook as ``HW2_BasicStructures_<your_last_name>.ipynb``.\n",
    "1. Fill in the answers to each question using one or more new cells. Feel free to use markdown cells, code cells, or a mix of the two, depending on the nature of the question. Refer to the top of Lecture 1 (and the cited reference) for some tips on how to create and alter different types of cells.\n",
    "1. After finishing, save the notebook (``Ctrl`` + ``s``, so that it says \"Last Checkpoint: a few seconds ago (autosaved)\" rather than \"...(unsaved changes)\" at the top of the page next to the Notebook's name)"
   ]
  },
  {
   "cell_type": "markdown",
   "metadata": {},
   "source": [
    "## 0) Your name here"
   ]
  },
  {
   "cell_type": "markdown",
   "metadata": {},
   "source": [
    "### 1)\n",
    "Why are computer programming, and languages like Python useful for researchers? (Don't need to write much here, just a couple of sentences)."
   ]
  },
  {
   "cell_type": "markdown",
   "metadata": {},
   "source": [
    "### 2)\n",
    "Though computers allow us to do difficult calculations much more efficiently, they do have some shortcomings. Identify and discuss two ways that calculations might be incorrect due to the limitations of computers. (hint: think precision and memory)."
   ]
  },
  {
   "cell_type": "markdown",
   "metadata": {},
   "source": [
    "### 3)\n",
    "Python will dynamically choose the type when you create a new variable. What will the type be for each of the following? (Feel free to create a code cell to try them out and make sure you are right!)\n",
    "1. 6.022\n",
    "1. 6.022e23\n",
    "1. 6022\n",
    "1. 6022.\n",
    "1. '6.022e23'\n",
    "1. \"Avogadro's constant\"\n",
    "1. 6022 - 21\n",
    "1. 6022 - 21.\n",
    "1. 10 ** 23\n",
    "1. 6.022 * 10 ** 23\n",
    "1. 6022 * 10 ** 19\n",
    "1. 6022 * 10e19\n",
    "1. 6022 / 10 ** -20\n",
    "1. 6.022 + 10e23j\n",
    "1. \"True\"\n",
    "1. False"
   ]
  },
  {
   "cell_type": "markdown",
   "metadata": {},
   "source": [
    "### 4)\n",
    "What are some differences between lists, tuples, and dictionaries? Give an example of something you might store in each."
   ]
  },
  {
   "cell_type": "markdown",
   "metadata": {},
   "source": [
    "### 5)\n",
    "1. Create a list named ``names_top10`` with the names of the 10 longest rivers in the United States, using [this list](https://en.wikipedia.org/wiki/List_of_longest_rivers_of_the_United_States_(by_main_stem)).\n",
    "1. Use indexing to create a shorter list of the top 5, ``names_top5``.\n",
    "1. Create a list of the lengths (in miles) of the top 5 rivers, ``lengths_top5``.\n",
    "1. Create a tuple of the latitudes of the mouths of the top 5 rivers, ``lats_top5``. (Click on the link for \"Mouth coordinates\" for each river to go to the \"GeoHack\" website, where you can find the \"Decimal\" coordinates near the top of the page. Use all given significant digits).\n",
    "1. Create a tuple of the latitudes of the mouths of the top 5 rivers, ``longs_top5``.\n",
    "1. Create a dictionary called ``rivers_top5`` with the following key-value pairs: 1) key is \"name\", value is the list ``names_top5``; 2) key is \"length\", value is the list ``lengths_top5``; 3) key is \"lat\", value is the tuple ``lats_top5``; and 4) key is \"long\", value is the tuple ``longs_top5``."
   ]
  },
  {
   "cell_type": "markdown",
   "metadata": {},
   "source": [
    "### 6)\n",
    "Using your dictionary ``rivers_top5``, print the following statement using the ``+`` method: \n",
    "\n",
    "**The Rio Grande is the number 4 river in the US in terms of length, at 1759 miles. Its mouth is located at (25.956111, -97.145278).**\n",
    "\n",
    "Now use the ``f-string`` method to format the statement as follows:\n",
    "\n",
    "**The Rio Grande is the number 4 river in the US in terms of length, at 1,759 miles. Its mouth is located at (25.956, -97.145).**"
   ]
  }
 ],
 "metadata": {
  "kernelspec": {
   "display_name": "Python 3",
   "language": "python",
   "name": "python3"
  },
  "language_info": {
   "codemirror_mode": {
    "name": "ipython",
    "version": 3
   },
   "file_extension": ".py",
   "mimetype": "text/x-python",
   "name": "python",
   "nbconvert_exporter": "python",
   "pygments_lexer": "ipython3",
   "version": "3.7.6"
  }
 },
 "nbformat": 4,
 "nbformat_minor": 4
}
