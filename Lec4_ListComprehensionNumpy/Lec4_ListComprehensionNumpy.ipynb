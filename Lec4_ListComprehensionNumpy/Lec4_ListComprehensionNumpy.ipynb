{
 "cells": [
  {
   "cell_type": "markdown",
   "metadata": {
    "slideshow": {
     "slide_type": "slide"
    }
   },
   "source": [
    "# Lecture 4: List comprehension & NumPy\n",
    "ENVR 890-010: Python for Environmental Research, Fall 2021\n",
    "\n",
    "September 10, 2021\n",
    "\n",
    "By Andrew Hamilton. Some material adapted from Greg Characklis, David Gorelick and H.B. Zeff."
   ]
  },
  {
   "cell_type": "markdown",
   "metadata": {
    "slideshow": {
     "slide_type": "fragment"
    }
   },
   "source": [
    "## Summary\n",
    "In this lecture, we will first learn about using **list comprehensions** to write for loops in a more efficient and compact way. We will then move beyond the standard data structures (list, tuple, dictionary) to a more advanced data structure called a **NumPy array**. Along the way, we will learn how **logical indexing** can be used with NumPy as a powerful tool to retrieve and manipulate particular subsets of data."
   ]
  },
  {
   "cell_type": "markdown",
   "metadata": {
    "slideshow": {
     "slide_type": "slide"
    }
   },
   "source": [
    "## List comprehensions\n",
    "As we learned last week, **loops** can be used to execute a code block for every item in a list. For example, to a list of all integer degrees between 0 and 90 converted to radians, we can write:"
   ]
  },
  {
   "cell_type": "code",
   "execution_count": 1,
   "metadata": {
    "slideshow": {
     "slide_type": "fragment"
    }
   },
   "outputs": [],
   "source": [
    "import math\n",
    "\n",
    "def degrees_to_radians(degrees):\n",
    "    return degrees * (2 * math.pi / 360)"
   ]
  },
  {
   "cell_type": "code",
   "execution_count": 2,
   "metadata": {
    "slideshow": {
     "slide_type": "fragment"
    }
   },
   "outputs": [
    {
     "name": "stdout",
     "output_type": "stream",
     "text": [
      "[0, 1, 2, 3, 4, 5, 6, 7, 8, 9, 10, 11, 12, 13, 14, 15, 16, 17, 18, 19, 20, 21, 22, 23, 24, 25, 26, 27, 28, 29, 30, 31, 32, 33, 34, 35, 36, 37, 38, 39, 40, 41, 42, 43, 44, 45, 46, 47, 48, 49, 50, 51, 52, 53, 54, 55, 56, 57, 58, 59, 60, 61, 62, 63, 64, 65, 66, 67, 68, 69, 70, 71, 72, 73, 74, 75, 76, 77, 78, 79, 80, 81, 82, 83, 84, 85, 86, 87, 88, 89, 90]\n",
      "\n",
      "[0.0, 0.017453292519943295, 0.03490658503988659, 0.05235987755982989, 0.06981317007977318, 0.08726646259971647, 0.10471975511965978, 0.12217304763960307, 0.13962634015954636, 0.15707963267948966, 0.17453292519943295, 0.19198621771937624, 0.20943951023931956, 0.22689280275926285, 0.24434609527920614, 0.2617993877991494, 0.2792526803190927, 0.29670597283903605, 0.3141592653589793, 0.33161255787892263, 0.3490658503988659, 0.3665191429188092, 0.3839724354387525, 0.4014257279586958, 0.4188790204786391, 0.4363323129985824, 0.4537856055185257, 0.47123889803846897, 0.4886921905584123, 0.5061454830783556, 0.5235987755982988, 0.5410520681182421, 0.5585053606381855, 0.5759586531581288, 0.5934119456780721, 0.6108652381980153, 0.6283185307179586, 0.6457718232379019, 0.6632251157578453, 0.6806784082777885, 0.6981317007977318, 0.7155849933176751, 0.7330382858376184, 0.7504915783575618, 0.767944870877505, 0.7853981633974483, 0.8028514559173916, 0.8203047484373349, 0.8377580409572782, 0.8552113334772214, 0.8726646259971648, 0.8901179185171081, 0.9075712110370514, 0.9250245035569946, 0.9424777960769379, 0.9599310885968813, 0.9773843811168246, 0.9948376736367679, 1.0122909661567112, 1.0297442586766545, 1.0471975511965976, 1.064650843716541, 1.0821041362364843, 1.0995574287564276, 1.117010721276371, 1.1344640137963142, 1.1519173063162575, 1.1693705988362009, 1.1868238913561442, 1.2042771838760873, 1.2217304763960306, 1.239183768915974, 1.2566370614359172, 1.2740903539558606, 1.2915436464758039, 1.3089969389957472, 1.3264502315156905, 1.3439035240356338, 1.361356816555577, 1.3788101090755203, 1.3962634015954636, 1.413716694115407, 1.4311699866353502, 1.4486232791552935, 1.4660765716752369, 1.4835298641951802, 1.5009831567151235, 1.5184364492350666, 1.53588974175501, 1.5533430342749532, 1.5707963267948966]\n",
      "\n",
      "91\n"
     ]
    }
   ],
   "source": [
    "### create list of degrees\n",
    "degrees = list(range(0, 91))\n",
    "\n",
    "### use for loop to create list of radians\n",
    "radians = []\n",
    "for d in range(0, 91):\n",
    "    radians.append( degrees_to_radians(d) )\n",
    "    \n",
    "print(degrees)\n",
    "print()\n",
    "print(radians)\n",
    "print()\n",
    "print( len(radians) )"
   ]
  },
  {
   "cell_type": "markdown",
   "metadata": {
    "slideshow": {
     "slide_type": "fragment"
    }
   },
   "source": [
    "[**List comprehensions**](https://docs.python.org/3/tutorial/datastructures.html) are a way to write for loops in a more compact and computationally efficient way:"
   ]
  },
  {
   "cell_type": "code",
   "execution_count": 3,
   "metadata": {
    "slideshow": {
     "slide_type": "fragment"
    }
   },
   "outputs": [
    {
     "name": "stdout",
     "output_type": "stream",
     "text": [
      "[0.0, 0.017453292519943295, 0.03490658503988659, 0.05235987755982989, 0.06981317007977318, 0.08726646259971647, 0.10471975511965978, 0.12217304763960307, 0.13962634015954636, 0.15707963267948966, 0.17453292519943295, 0.19198621771937624, 0.20943951023931956, 0.22689280275926285, 0.24434609527920614, 0.2617993877991494, 0.2792526803190927, 0.29670597283903605, 0.3141592653589793, 0.33161255787892263, 0.3490658503988659, 0.3665191429188092, 0.3839724354387525, 0.4014257279586958, 0.4188790204786391, 0.4363323129985824, 0.4537856055185257, 0.47123889803846897, 0.4886921905584123, 0.5061454830783556, 0.5235987755982988, 0.5410520681182421, 0.5585053606381855, 0.5759586531581288, 0.5934119456780721, 0.6108652381980153, 0.6283185307179586, 0.6457718232379019, 0.6632251157578453, 0.6806784082777885, 0.6981317007977318, 0.7155849933176751, 0.7330382858376184, 0.7504915783575618, 0.767944870877505, 0.7853981633974483, 0.8028514559173916, 0.8203047484373349, 0.8377580409572782, 0.8552113334772214, 0.8726646259971648, 0.8901179185171081, 0.9075712110370514, 0.9250245035569946, 0.9424777960769379, 0.9599310885968813, 0.9773843811168246, 0.9948376736367679, 1.0122909661567112, 1.0297442586766545, 1.0471975511965976, 1.064650843716541, 1.0821041362364843, 1.0995574287564276, 1.117010721276371, 1.1344640137963142, 1.1519173063162575, 1.1693705988362009, 1.1868238913561442, 1.2042771838760873, 1.2217304763960306, 1.239183768915974, 1.2566370614359172, 1.2740903539558606, 1.2915436464758039, 1.3089969389957472, 1.3264502315156905, 1.3439035240356338, 1.361356816555577, 1.3788101090755203, 1.3962634015954636, 1.413716694115407, 1.4311699866353502, 1.4486232791552935, 1.4660765716752369, 1.4835298641951802, 1.5009831567151235, 1.5184364492350666, 1.53588974175501, 1.5533430342749532, 1.5707963267948966]\n",
      "\n",
      "True\n"
     ]
    }
   ],
   "source": [
    "### do the same thing with list comprehension instead of for loop\n",
    "radians_lc = [degrees_to_radians(d) for d in degrees]\n",
    "\n",
    "print(radians_lc)\n",
    "print()\n",
    "### check that the two lists are equivalent\n",
    "print(radians == radians_lc)"
   ]
  },
  {
   "cell_type": "markdown",
   "metadata": {
    "slideshow": {
     "slide_type": "fragment"
    }
   },
   "source": [
    "The list comprehension syntax can be thought of as an **expression** (e.g., what to do to each element) followed by a **for clause**, all surrounded by brackets. \n",
    "\n",
    "We can include an **if clause** to include only certain elements (for example, those whose degrees are divisible by 10) in the final list:"
   ]
  },
  {
   "cell_type": "code",
   "execution_count": 4,
   "metadata": {
    "slideshow": {
     "slide_type": "fragment"
    }
   },
   "outputs": [
    {
     "name": "stdout",
     "output_type": "stream",
     "text": [
      "[0.0, 0.17453292519943295, 0.3490658503988659, 0.5235987755982988, 0.6981317007977318, 0.8726646259971648, 1.0471975511965976, 1.2217304763960306, 1.3962634015954636, 1.5707963267948966]\n",
      "\n",
      "10\n"
     ]
    }
   ],
   "source": [
    "### first use for loop combined with if statement\n",
    "radians_divisible10 = []\n",
    "for d in degrees:\n",
    "    if d % 10 == 0:\n",
    "        radians_divisible10.append( degrees_to_radians(d) )\n",
    "print(radians_divisible10)\n",
    "print()\n",
    "print(len(radians_divisible10))"
   ]
  },
  {
   "cell_type": "code",
   "execution_count": 5,
   "metadata": {
    "slideshow": {
     "slide_type": "fragment"
    }
   },
   "outputs": [
    {
     "name": "stdout",
     "output_type": "stream",
     "text": [
      "[0.0, 0.17453292519943295, 0.3490658503988659, 0.5235987755982988, 0.6981317007977318, 0.8726646259971648, 1.0471975511965976, 1.2217304763960306, 1.3962634015954636, 1.5707963267948966]\n",
      "\n",
      "True\n"
     ]
    }
   ],
   "source": [
    "### now repeat with list comprehension\n",
    "radians_divisible10_lc = [degrees_to_radians(d) for d in degrees if d % 10 == 0]\n",
    "\n",
    "print(radians_divisible10_lc)\n",
    "print()\n",
    "\n",
    "print(radians_divisible10 == radians_divisible10_lc)"
   ]
  },
  {
   "cell_type": "markdown",
   "metadata": {
    "slideshow": {
     "slide_type": "slide"
    }
   },
   "source": [
    "### In class exercise\n",
    "Assume we work for the county office of environmental quality, and are administering a program that will provide subsidized water quality assessments for all households that rely on private groundwater wells and have incomes less than \\$30,000 per year. \n",
    "\n",
    "First we will create random demographic data for 1000 households (but pretend for the exercise that this was retrieved from a county database)."
   ]
  },
  {
   "cell_type": "code",
   "execution_count": 6,
   "metadata": {
    "slideshow": {
     "slide_type": "fragment"
    }
   },
   "outputs": [],
   "source": [
    "import random\n",
    "## numeric index for each household in county\n",
    "household = ['H' + str(i) for i in list(range(1000))]\n",
    "# print(household)"
   ]
  },
  {
   "cell_type": "code",
   "execution_count": 7,
   "metadata": {
    "slideshow": {
     "slide_type": "fragment"
    }
   },
   "outputs": [],
   "source": [
    "## randomly assign water source for each household\n",
    "water = [random.choices(['municipal', 'private'], weights = [0.6, 0.4], k=1)[0] for h in household]\n",
    "# print(water)"
   ]
  },
  {
   "cell_type": "code",
   "execution_count": 8,
   "metadata": {
    "slideshow": {
     "slide_type": "fragment"
    }
   },
   "outputs": [],
   "source": [
    "## randomly assign income for each household from Normal/Gaussian distribution\n",
    "income = [max(random.gauss(50000, 20000), 0) for h in household]\n",
    "# print(income)"
   ]
  },
  {
   "cell_type": "markdown",
   "metadata": {},
   "source": [
    "1. Use list comprehension to find the list of households with a private water source? How many are there?"
   ]
  },
  {
   "cell_type": "markdown",
   "metadata": {
    "slideshow": {
     "slide_type": "fragment"
    }
   },
   "source": [
    "2. How many households meet both criteria for testing?"
   ]
  },
  {
   "cell_type": "markdown",
   "metadata": {},
   "source": [
    "3. What are the average incomes for households with municipal and private water, respectively? Use the statistics.mean() function."
   ]
  },
  {
   "cell_type": "code",
   "execution_count": 9,
   "metadata": {},
   "outputs": [
    {
     "name": "stdout",
     "output_type": "stream",
     "text": [
      "2\n"
     ]
    }
   ],
   "source": [
    "### import statistics library\n",
    "import statistics\n",
    "\n",
    "### test example to show how to use mean function\n",
    "test_mean = statistics.mean([1,2,3])\n",
    "print(test_mean)"
   ]
  },
  {
   "cell_type": "markdown",
   "metadata": {
    "slideshow": {
     "slide_type": "slide"
    }
   },
   "source": [
    "## NumPy\n",
    "[NumPy](https://numpy.org/doc/stable/) is one of the most popular packages for scientific computing and data science, and is included in the standard Anaconda installation. It is commonly imported with the **alias** ``np``. "
   ]
  },
  {
   "cell_type": "code",
   "execution_count": 10,
   "metadata": {
    "slideshow": {
     "slide_type": "fragment"
    }
   },
   "outputs": [],
   "source": [
    "import numpy as np"
   ]
  },
  {
   "cell_type": "markdown",
   "metadata": {
    "slideshow": {
     "slide_type": "slide"
    }
   },
   "source": [
    "### Creating NumPy arrays\n",
    "NumPy supports a new type of data structure: the **NumPy array**. NumPy arrays are designed to handle large, multi-dimensional arrays of numbers much more easily and efficiently than standard lists."
   ]
  },
  {
   "cell_type": "code",
   "execution_count": 11,
   "metadata": {
    "slideshow": {
     "slide_type": "fragment"
    }
   },
   "outputs": [
    {
     "name": "stdout",
     "output_type": "stream",
     "text": [
      "[[1, 2, 3, 4, 5], [10, 9, 8, 7, 6]] <class 'list'>\n"
     ]
    }
   ],
   "source": [
    "# here is a standard list with two dimensions\n",
    "l = [[1, 2, 3, 4, 5], [10, 9, 8, 7, 6]]\n",
    "print(l, type(l))"
   ]
  },
  {
   "cell_type": "code",
   "execution_count": 12,
   "metadata": {
    "slideshow": {
     "slide_type": "fragment"
    }
   },
   "outputs": [
    {
     "name": "stdout",
     "output_type": "stream",
     "text": [
      "[[ 1  2  3  4  5]\n",
      " [10  9  8  7  6]] <class 'numpy.ndarray'>\n"
     ]
    }
   ],
   "source": [
    "# create a 2D numpy array from l\n",
    "a = np.array(l)\n",
    "print(a, type(a))"
   ]
  },
  {
   "cell_type": "markdown",
   "metadata": {
    "slideshow": {
     "slide_type": "fragment"
    }
   },
   "source": [
    "Note that, unlike the basic data structures such as lists, **all elements in a NumPy array must be the same type**. Although string types are allowed, NumPy is most commonly used with numeric types such as int and float."
   ]
  },
  {
   "cell_type": "markdown",
   "metadata": {
    "slideshow": {
     "slide_type": "fragment"
    }
   },
   "source": [
    "We access the elements the same way as lists:"
   ]
  },
  {
   "cell_type": "code",
   "execution_count": 13,
   "metadata": {
    "slideshow": {
     "slide_type": "fragment"
    }
   },
   "outputs": [
    {
     "name": "stdout",
     "output_type": "stream",
     "text": [
      "10\n",
      "10\n"
     ]
    }
   ],
   "source": [
    "print(l[1][0])\n",
    "print(a[1][0])"
   ]
  },
  {
   "cell_type": "markdown",
   "metadata": {
    "slideshow": {
     "slide_type": "fragment"
    }
   },
   "source": [
    "Or, alternatively, in a single brackets and separated by a comma:"
   ]
  },
  {
   "cell_type": "code",
   "execution_count": 14,
   "metadata": {
    "slideshow": {
     "slide_type": "fragment"
    }
   },
   "outputs": [
    {
     "name": "stdout",
     "output_type": "stream",
     "text": [
      "3\n"
     ]
    }
   ],
   "source": [
    "print(a[0, 2])"
   ]
  },
  {
   "cell_type": "markdown",
   "metadata": {
    "slideshow": {
     "slide_type": "fragment"
    }
   },
   "source": [
    "We can get the number of dimensions and the shape of an array using its ``ndim`` and ``shape`` **properties**. For a 2D array, the shape is (number of rows, number of columns). For larger arrays, it always goes from the innermost set of brackets to the outermost set of brackets."
   ]
  },
  {
   "cell_type": "code",
   "execution_count": 15,
   "metadata": {
    "slideshow": {
     "slide_type": "fragment"
    }
   },
   "outputs": [
    {
     "name": "stdout",
     "output_type": "stream",
     "text": [
      "2\n",
      "(2, 5)\n",
      "\n",
      "1\n",
      "2\n",
      "3\n",
      "4\n",
      "5\n",
      "\n",
      "10\n",
      "9\n",
      "8\n",
      "7\n",
      "6\n",
      "\n"
     ]
    }
   ],
   "source": [
    "print( a.ndim )\n",
    "print( a.shape )\n",
    "print()\n",
    "\n",
    "### loop over rows\n",
    "for i in range(a.shape[0]):\n",
    "    ### loop over columns\n",
    "    for j in range(a.shape[1]):\n",
    "        print( a[i, j])\n",
    "    print()"
   ]
  },
  {
   "cell_type": "markdown",
   "metadata": {
    "slideshow": {
     "slide_type": "fragment"
    }
   },
   "source": [
    "We can also do multi-dimensional **slices**"
   ]
  },
  {
   "cell_type": "code",
   "execution_count": 16,
   "metadata": {
    "slideshow": {
     "slide_type": "fragment"
    }
   },
   "outputs": [
    {
     "name": "stdout",
     "output_type": "stream",
     "text": [
      "[[2 3 4]\n",
      " [9 8 7]]\n"
     ]
    }
   ],
   "source": [
    "print(a[:, 1:4])"
   ]
  },
  {
   "cell_type": "markdown",
   "metadata": {
    "slideshow": {
     "slide_type": "slide"
    }
   },
   "source": [
    "NumPy also has handy **functions** for creating different types of arrays. For example, we can create a new array filled with ones or zeros:"
   ]
  },
  {
   "cell_type": "code",
   "execution_count": 17,
   "metadata": {
    "slideshow": {
     "slide_type": "fragment"
    }
   },
   "outputs": [
    {
     "name": "stdout",
     "output_type": "stream",
     "text": [
      "[1. 1. 1.] (3,)\n"
     ]
    }
   ],
   "source": [
    "# with a single argument, we will get a 1D array of that length\n",
    "a = np.ones(3)\n",
    "print(a, a.shape)"
   ]
  },
  {
   "cell_type": "code",
   "execution_count": 18,
   "metadata": {
    "scrolled": false,
    "slideshow": {
     "slide_type": "fragment"
    }
   },
   "outputs": [
    {
     "name": "stdout",
     "output_type": "stream",
     "text": [
      "[[[0. 0. 0. 0. 0. 0. 0. 0. 0. 0. 0. 0. 0. 0. 0. 0. 0. 0. 0. 0.]\n",
      "  [0. 0. 0. 0. 0. 0. 0. 0. 0. 0. 0. 0. 0. 0. 0. 0. 0. 0. 0. 0.]\n",
      "  [0. 0. 0. 0. 0. 0. 0. 0. 0. 0. 0. 0. 0. 0. 0. 0. 0. 0. 0. 0.]\n",
      "  [0. 0. 0. 0. 0. 0. 0. 0. 0. 0. 0. 0. 0. 0. 0. 0. 0. 0. 0. 0.]\n",
      "  [0. 0. 0. 0. 0. 0. 0. 0. 0. 0. 0. 0. 0. 0. 0. 0. 0. 0. 0. 0.]\n",
      "  [0. 0. 0. 0. 0. 0. 0. 0. 0. 0. 0. 0. 0. 0. 0. 0. 0. 0. 0. 0.]\n",
      "  [0. 0. 0. 0. 0. 0. 0. 0. 0. 0. 0. 0. 0. 0. 0. 0. 0. 0. 0. 0.]\n",
      "  [0. 0. 0. 0. 0. 0. 0. 0. 0. 0. 0. 0. 0. 0. 0. 0. 0. 0. 0. 0.]\n",
      "  [0. 0. 0. 0. 0. 0. 0. 0. 0. 0. 0. 0. 0. 0. 0. 0. 0. 0. 0. 0.]\n",
      "  [0. 0. 0. 0. 0. 0. 0. 0. 0. 0. 0. 0. 0. 0. 0. 0. 0. 0. 0. 0.]]\n",
      "\n",
      " [[0. 0. 0. 0. 0. 0. 0. 0. 0. 0. 0. 0. 0. 0. 0. 0. 0. 0. 0. 0.]\n",
      "  [0. 0. 0. 0. 0. 0. 0. 0. 0. 0. 0. 0. 0. 0. 0. 0. 0. 0. 0. 0.]\n",
      "  [0. 0. 0. 0. 0. 0. 0. 0. 0. 0. 0. 0. 0. 0. 0. 0. 0. 0. 0. 0.]\n",
      "  [0. 0. 0. 0. 0. 0. 0. 0. 0. 0. 0. 0. 0. 0. 0. 0. 0. 0. 0. 0.]\n",
      "  [0. 0. 0. 0. 0. 0. 0. 0. 0. 0. 0. 0. 0. 0. 0. 0. 0. 0. 0. 0.]\n",
      "  [0. 0. 0. 0. 0. 0. 0. 0. 0. 0. 0. 0. 0. 0. 0. 0. 0. 0. 0. 0.]\n",
      "  [0. 0. 0. 0. 0. 0. 0. 0. 0. 0. 0. 0. 0. 0. 0. 0. 0. 0. 0. 0.]\n",
      "  [0. 0. 0. 0. 0. 0. 0. 0. 0. 0. 0. 0. 0. 0. 0. 0. 0. 0. 0. 0.]\n",
      "  [0. 0. 0. 0. 0. 0. 0. 0. 0. 0. 0. 0. 0. 0. 0. 0. 0. 0. 0. 0.]\n",
      "  [0. 0. 0. 0. 0. 0. 0. 0. 0. 0. 0. 0. 0. 0. 0. 0. 0. 0. 0. 0.]]\n",
      "\n",
      " [[0. 0. 0. 0. 0. 0. 0. 0. 0. 0. 0. 0. 0. 0. 0. 0. 0. 0. 0. 0.]\n",
      "  [0. 0. 0. 0. 0. 0. 0. 0. 0. 0. 0. 0. 0. 0. 0. 0. 0. 0. 0. 0.]\n",
      "  [0. 0. 0. 0. 0. 0. 0. 0. 0. 0. 0. 0. 0. 0. 0. 0. 0. 0. 0. 0.]\n",
      "  [0. 0. 0. 0. 0. 0. 0. 0. 0. 0. 0. 0. 0. 0. 0. 0. 0. 0. 0. 0.]\n",
      "  [0. 0. 0. 0. 0. 0. 0. 0. 0. 0. 0. 0. 0. 0. 0. 0. 0. 0. 0. 0.]\n",
      "  [0. 0. 0. 0. 0. 0. 0. 0. 0. 0. 0. 0. 0. 0. 0. 0. 0. 0. 0. 0.]\n",
      "  [0. 0. 0. 0. 0. 0. 0. 0. 0. 0. 0. 0. 0. 0. 0. 0. 0. 0. 0. 0.]\n",
      "  [0. 0. 0. 0. 0. 0. 0. 0. 0. 0. 0. 0. 0. 0. 0. 0. 0. 0. 0. 0.]\n",
      "  [0. 0. 0. 0. 0. 0. 0. 0. 0. 0. 0. 0. 0. 0. 0. 0. 0. 0. 0. 0.]\n",
      "  [0. 0. 0. 0. 0. 0. 0. 0. 0. 0. 0. 0. 0. 0. 0. 0. 0. 0. 0. 0.]]] (3, 10, 20)\n"
     ]
    }
   ],
   "source": [
    "# alternatively, we can give a tuple or list for multi-dimensional arrays\n",
    "a = np.zeros((3, 10, 20))\n",
    "print(a, a.shape)"
   ]
  },
  {
   "cell_type": "markdown",
   "metadata": {
    "slideshow": {
     "slide_type": "slide"
    }
   },
   "source": [
    "We can also create **sequences** of numbers easily (similar to list(range()) for lists):"
   ]
  },
  {
   "cell_type": "code",
   "execution_count": 19,
   "metadata": {
    "slideshow": {
     "slide_type": "fragment"
    }
   },
   "outputs": [
    {
     "name": "stdout",
     "output_type": "stream",
     "text": [
      "[0 1 2 3 4 5 6 7 8 9] <class 'numpy.ndarray'>\n"
     ]
    }
   ],
   "source": [
    "# with one argument, it is assumed to start at zero and count up by one until it reaches your number (not inclusive, it will stop before your number)\n",
    "a = np.arange(10)\n",
    "print(a, type(a))"
   ]
  },
  {
   "cell_type": "code",
   "execution_count": 20,
   "metadata": {
    "slideshow": {
     "slide_type": "fragment"
    }
   },
   "outputs": [
    {
     "name": "stdout",
     "output_type": "stream",
     "text": [
      "[100 101 102 103 104 105 106 107 108 109 110 111 112 113 114 115 116 117\n",
      " 118 119]\n"
     ]
    }
   ],
   "source": [
    "# with two arguments, it will start at the 1st number and count up by 1 until reaching the 2nd number\n",
    "a = np.arange(100, 120)\n",
    "print(a)"
   ]
  },
  {
   "cell_type": "code",
   "execution_count": 21,
   "metadata": {
    "slideshow": {
     "slide_type": "fragment"
    }
   },
   "outputs": [
    {
     "name": "stdout",
     "output_type": "stream",
     "text": [
      "[ 10.    7.5   5.    2.5   0.   -2.5  -5.   -7.5 -10.  -12.5 -15.  -17.5\n",
      " -20. ]\n"
     ]
    }
   ],
   "source": [
    "# with three arguments, it will start at the 1st and count by increments of the 3rd number until it reaches the 2rd number (again not inclusive)\n",
    "a = np.arange(10, -21, -2.5)\n",
    "print(a)"
   ]
  },
  {
   "cell_type": "markdown",
   "metadata": {
    "slideshow": {
     "slide_type": "slide"
    }
   },
   "source": [
    "We can draw **random samples** from a normal distribution (or many other distributions). NumPy has functions for creating whole arrays at a time, rather than the one-by-one approach needed for the ``random`` module."
   ]
  },
  {
   "cell_type": "code",
   "execution_count": 22,
   "metadata": {
    "slideshow": {
     "slide_type": "fragment"
    }
   },
   "outputs": [
    {
     "name": "stdout",
     "output_type": "stream",
     "text": [
      "[[ 4.54498564  3.43079947 -0.0523416   2.07909684 19.34275112  4.2171521\n",
      "  -3.10191385  1.71320686  8.40890833  3.25410437]\n",
      " [10.55894252 14.98172446 10.84092275  2.71806059 28.92241239  7.5591994\n",
      "   7.27175586 14.62125004 -3.29376725 13.01774232]\n",
      " [ 4.70434852 14.68033135 11.47176524 12.607182    3.49926407  4.1489227\n",
      "  22.64758552  4.09980481 15.88181385  2.83429855]\n",
      " [10.52661042  6.34430304  4.45046085  7.15307987 13.38293948 21.58825226\n",
      "   0.6828577   8.92376176  8.06536442 20.37693189]\n",
      " [-4.18606561 16.47503558  5.23957019 16.42757571 14.49847463 16.09926805\n",
      "   1.10323382 13.37239402 24.44013934 14.56809864]\n",
      " [ 7.23269858 13.07680626 23.07485228 10.7546273  13.7990526  13.53203433\n",
      "  -3.66540372 14.65202856  7.17071303 13.85476559]\n",
      " [ 3.60382514  9.0288158   9.15292541  8.08321297  6.89371521  2.57765952\n",
      "   5.14932173 15.8823445   8.75160977 25.54437185]\n",
      " [12.82652868  1.68306112 20.54932286 19.16771249 15.01290939  4.9770121\n",
      "   9.96969424 10.03232901  4.5264295   4.86538615]\n",
      " [16.237276   18.64040842 22.41271571  0.32157385  1.71378351  8.3263423\n",
      "   9.86206244 14.27837503 20.27897856  8.18926528]\n",
      " [10.33017001  5.41067422  7.67611232 12.70954055 13.36667165  6.38736743\n",
      "   7.85477216 13.13859754 17.11244219  5.00974489]]\n"
     ]
    }
   ],
   "source": [
    "a = np.random.normal(loc = 10, scale = 8, size = (10, 10))\n",
    "print(a)"
   ]
  },
  {
   "cell_type": "markdown",
   "metadata": {
    "slideshow": {
     "slide_type": "slide"
    }
   },
   "source": [
    "### Doing math with NumPy\n",
    "NumPy makes it very easy to do **element-wise** arithmetic within and between arrays. "
   ]
  },
  {
   "cell_type": "code",
   "execution_count": 23,
   "metadata": {
    "slideshow": {
     "slide_type": "fragment"
    }
   },
   "outputs": [
    {
     "name": "stdout",
     "output_type": "stream",
     "text": [
      "[4 5 6]\n"
     ]
    }
   ],
   "source": [
    "a = np.array([1, 2, 3])\n",
    "b = a + 3\n",
    "print(b)"
   ]
  },
  {
   "cell_type": "code",
   "execution_count": 24,
   "metadata": {
    "slideshow": {
     "slide_type": "fragment"
    }
   },
   "outputs": [
    {
     "name": "stdout",
     "output_type": "stream",
     "text": [
      "[2 4 6]\n"
     ]
    }
   ],
   "source": [
    "c = a * 2\n",
    "print(c)"
   ]
  },
  {
   "cell_type": "markdown",
   "metadata": {},
   "source": [
    "Note this behavior is different than for lists, where \"+\" means append and \"*\" means replicate. For NumPy, the operations are simply applied to each element."
   ]
  },
  {
   "cell_type": "code",
   "execution_count": 25,
   "metadata": {
    "slideshow": {
     "slide_type": "fragment"
    }
   },
   "outputs": [
    {
     "name": "stdout",
     "output_type": "stream",
     "text": [
      "[1 4 9]\n"
     ]
    }
   ],
   "source": [
    "d = a ** 2\n",
    "print(d)"
   ]
  },
  {
   "cell_type": "code",
   "execution_count": 26,
   "metadata": {
    "slideshow": {
     "slide_type": "fragment"
    }
   },
   "outputs": [
    {
     "name": "stdout",
     "output_type": "stream",
     "text": [
      "[ 2  6 12]\n"
     ]
    }
   ],
   "source": [
    "e = a + d\n",
    "print(e)"
   ]
  },
  {
   "cell_type": "code",
   "execution_count": 27,
   "metadata": {
    "slideshow": {
     "slide_type": "fragment"
    }
   },
   "outputs": [
    {
     "name": "stdout",
     "output_type": "stream",
     "text": [
      "[ 1  4 27]\n"
     ]
    }
   ],
   "source": [
    "f = a ** a\n",
    "print(f)"
   ]
  },
  {
   "cell_type": "markdown",
   "metadata": {
    "slideshow": {
     "slide_type": "slide"
    }
   },
   "source": [
    "NumPy also has many useful functions that perform more complex **mathematical operations** on these arrays. Below are some examples, and many more can be found [here](https://www.geeksforgeeks.org/numpy-mathematical-function/)"
   ]
  },
  {
   "cell_type": "code",
   "execution_count": 28,
   "metadata": {
    "slideshow": {
     "slide_type": "fragment"
    }
   },
   "outputs": [
    {
     "name": "stdout",
     "output_type": "stream",
     "text": [
      "[[ 1.50143721e+01  9.26798463e+00  2.42924845e+01  1.64939479e+01\n",
      "  -6.06300310e+00  1.76724250e+01  8.42462184e+00  8.67918231e+00\n",
      "   1.44606458e+00  7.60312477e+00]\n",
      " [-2.33241819e+00  1.53716728e+01  1.53783686e+01  3.26502265e+00\n",
      "   6.69763590e+00  1.60498615e+01  1.27712364e+01  1.33916592e+01\n",
      "  -6.75227211e-03  1.33757296e+01]\n",
      " [ 3.87387192e+00  1.52305765e+01  1.93660357e+01 -5.10444078e+00\n",
      "   1.56813245e+01  1.18361577e+01  2.21301278e+00  6.18995660e-01\n",
      "   1.31339540e+01  1.61912946e+01]\n",
      " [ 1.01247866e+01  2.27204807e+01  5.16451935e+00  9.07939261e+00\n",
      "   8.29494752e+00  1.02305370e+01 -5.83047735e-02  2.09573335e+00\n",
      "   6.24668554e+00  1.53345481e+00]\n",
      " [ 7.47126105e+00  1.47481173e+01  1.35056256e+01  1.87395235e+01\n",
      "   1.74060170e+00  1.67859986e+01  9.27091685e+00  1.98901926e+01\n",
      "   1.67488563e+01  7.88700100e+00]\n",
      " [ 7.72777833e+00  2.27276947e+01  6.37694219e+00  1.31666469e+01\n",
      "   1.21410374e+01  1.70473861e+01  2.86585160e+00 -1.01750303e-01\n",
      "   2.31199669e+01  1.64824786e+01]\n",
      " [-1.80368364e+00  1.31363656e+01  2.28297190e+01 -3.65361447e+00\n",
      "   1.37717087e+01  1.08611907e+01  1.10254869e+01  6.90683903e+00\n",
      "   6.95321607e+00  1.31720244e+01]\n",
      " [ 1.40121096e+01  3.83112288e+00  7.30236072e+00  1.03694870e+01\n",
      "   2.32171159e+01  1.61148617e+00  2.61625897e-01  5.78246247e-01\n",
      "   1.81440300e+01  3.73282096e+00]\n",
      " [ 1.18066459e+01  2.13135085e+01  3.47158925e+00  1.53238793e+01\n",
      "   1.66840389e+01 -9.31723990e+00  1.83067262e+01  9.28982092e+00\n",
      "   1.67139082e+01  1.84975981e+00]\n",
      " [ 2.14801226e+01  2.66753653e+01  2.07483646e+00  3.24557704e+00\n",
      "   1.42612916e+01  3.08764128e+01  6.74099807e+00  4.78598925e+00\n",
      "   8.52722317e+00  1.34743902e+01]]\n",
      "\n",
      "Min: -9.317239901361397\n",
      "\n"
     ]
    }
   ],
   "source": [
    "a = np.random.normal(loc = 10, scale = 8, size = (10, 10))\n",
    "print(a)\n",
    "print()\n",
    "\n",
    "# statistics\n",
    "print(f'Min: {a.min()}')\n",
    "print()"
   ]
  },
  {
   "cell_type": "code",
   "execution_count": 29,
   "metadata": {
    "slideshow": {
     "slide_type": "fragment"
    }
   },
   "outputs": [
    {
     "name": "stdout",
     "output_type": "stream",
     "text": [
      "Max of each row: [24.29248452 16.0498615  19.36603571 22.72048068 19.89019257 23.11996693\n",
      " 22.829719   23.21711591 21.31350852 30.87641282]\n",
      "\n"
     ]
    }
   ],
   "source": [
    "print(f'Max of each row: {a.max(axis=1)}' )\n",
    "print()"
   ]
  },
  {
   "cell_type": "code",
   "execution_count": 30,
   "metadata": {
    "slideshow": {
     "slide_type": "fragment"
    }
   },
   "outputs": [
    {
     "name": "stdout",
     "output_type": "stream",
     "text": [
      "Mean of each column: [ 8.73748464 16.50228888 11.97624814  8.09254216 10.64266989 12.36542158\n",
      "  7.18221718  6.61349082 11.10271525  9.53020788]\n",
      "\n"
     ]
    }
   ],
   "source": [
    "print(f'Mean of each column: {a.mean(axis=0)}' )\n",
    "print()"
   ]
  },
  {
   "cell_type": "code",
   "execution_count": 31,
   "metadata": {
    "slideshow": {
     "slide_type": "fragment"
    }
   },
   "outputs": [
    {
     "name": "stdout",
     "output_type": "stream",
     "text": [
      "Std: 7.815324209833518\n",
      "\n"
     ]
    }
   ],
   "source": [
    "print(f'Std: {a.std()}' )\n",
    "print()"
   ]
  },
  {
   "cell_type": "code",
   "execution_count": 32,
   "metadata": {
    "slideshow": {
     "slide_type": "fragment"
    }
   },
   "outputs": [
    {
     "name": "stdout",
     "output_type": "stream",
     "text": [
      "5th percentile: -1.830120371569316\n",
      "\n"
     ]
    }
   ],
   "source": [
    "print(f'5th percentile: {np.quantile(a, 0.05)}' )\n",
    "print()"
   ]
  },
  {
   "cell_type": "code",
   "execution_count": 33,
   "metadata": {
    "slideshow": {
     "slide_type": "fragment"
    }
   },
   "outputs": [
    {
     "name": "stdout",
     "output_type": "stream",
     "text": [
      "Sum of each row: [102.8312046   93.96201624  93.04078257  75.43223275 126.78809445\n",
      " 121.55403239  93.19925222  83.06040546 105.44263707 132.1422065 ]\n"
     ]
    }
   ],
   "source": [
    "print(f'Sum of each row: {a.sum(axis=1)}')"
   ]
  },
  {
   "cell_type": "code",
   "execution_count": 34,
   "metadata": {
    "slideshow": {
     "slide_type": "fragment"
    }
   },
   "outputs": [
    {
     "name": "stdout",
     "output_type": "stream",
     "text": [
      "[[-6.06300310e+00  1.44606458e+00  7.60312477e+00  8.42462184e+00\n",
      "   8.67918231e+00  9.26798463e+00  1.50143721e+01  1.64939479e+01\n",
      "   1.76724250e+01  2.42924845e+01]\n",
      " [-2.33241819e+00 -6.75227211e-03  3.26502265e+00  6.69763590e+00\n",
      "   1.27712364e+01  1.33757296e+01  1.33916592e+01  1.53716728e+01\n",
      "   1.53783686e+01  1.60498615e+01]\n",
      " [-5.10444078e+00  6.18995660e-01  2.21301278e+00  3.87387192e+00\n",
      "   1.18361577e+01  1.31339540e+01  1.52305765e+01  1.56813245e+01\n",
      "   1.61912946e+01  1.93660357e+01]\n",
      " [-5.83047735e-02  1.53345481e+00  2.09573335e+00  5.16451935e+00\n",
      "   6.24668554e+00  8.29494752e+00  9.07939261e+00  1.01247866e+01\n",
      "   1.02305370e+01  2.27204807e+01]\n",
      " [ 1.74060170e+00  7.47126105e+00  7.88700100e+00  9.27091685e+00\n",
      "   1.35056256e+01  1.47481173e+01  1.67488563e+01  1.67859986e+01\n",
      "   1.87395235e+01  1.98901926e+01]\n",
      " [-1.01750303e-01  2.86585160e+00  6.37694219e+00  7.72777833e+00\n",
      "   1.21410374e+01  1.31666469e+01  1.64824786e+01  1.70473861e+01\n",
      "   2.27276947e+01  2.31199669e+01]\n",
      " [-3.65361447e+00 -1.80368364e+00  6.90683903e+00  6.95321607e+00\n",
      "   1.08611907e+01  1.10254869e+01  1.31363656e+01  1.31720244e+01\n",
      "   1.37717087e+01  2.28297190e+01]\n",
      " [ 2.61625897e-01  5.78246247e-01  1.61148617e+00  3.73282096e+00\n",
      "   3.83112288e+00  7.30236072e+00  1.03694870e+01  1.40121096e+01\n",
      "   1.81440300e+01  2.32171159e+01]\n",
      " [-9.31723990e+00  1.84975981e+00  3.47158925e+00  9.28982092e+00\n",
      "   1.18066459e+01  1.53238793e+01  1.66840389e+01  1.67139082e+01\n",
      "   1.83067262e+01  2.13135085e+01]\n",
      " [ 2.07483646e+00  3.24557704e+00  4.78598925e+00  6.74099807e+00\n",
      "   8.52722317e+00  1.34743902e+01  1.42612916e+01  2.14801226e+01\n",
      "   2.66753653e+01  3.08764128e+01]]\n"
     ]
    }
   ],
   "source": [
    "# sort each row\n",
    "print( np.sort(a, axis=1) )"
   ]
  },
  {
   "cell_type": "code",
   "execution_count": 35,
   "metadata": {
    "slideshow": {
     "slide_type": "fragment"
    }
   },
   "outputs": [
    {
     "name": "stdout",
     "output_type": "stream",
     "text": [
      "[[1.50143721e+01 9.26798463e+00 2.42924845e+01 1.64939479e+01\n",
      "  6.06300310e+00 1.76724250e+01 8.42462184e+00 8.67918231e+00\n",
      "  1.44606458e+00 7.60312477e+00]\n",
      " [2.33241819e+00 1.53716728e+01 1.53783686e+01 3.26502265e+00\n",
      "  6.69763590e+00 1.60498615e+01 1.27712364e+01 1.33916592e+01\n",
      "  6.75227211e-03 1.33757296e+01]\n",
      " [3.87387192e+00 1.52305765e+01 1.93660357e+01 5.10444078e+00\n",
      "  1.56813245e+01 1.18361577e+01 2.21301278e+00 6.18995660e-01\n",
      "  1.31339540e+01 1.61912946e+01]\n",
      " [1.01247866e+01 2.27204807e+01 5.16451935e+00 9.07939261e+00\n",
      "  8.29494752e+00 1.02305370e+01 5.83047735e-02 2.09573335e+00\n",
      "  6.24668554e+00 1.53345481e+00]\n",
      " [7.47126105e+00 1.47481173e+01 1.35056256e+01 1.87395235e+01\n",
      "  1.74060170e+00 1.67859986e+01 9.27091685e+00 1.98901926e+01\n",
      "  1.67488563e+01 7.88700100e+00]\n",
      " [7.72777833e+00 2.27276947e+01 6.37694219e+00 1.31666469e+01\n",
      "  1.21410374e+01 1.70473861e+01 2.86585160e+00 1.01750303e-01\n",
      "  2.31199669e+01 1.64824786e+01]\n",
      " [1.80368364e+00 1.31363656e+01 2.28297190e+01 3.65361447e+00\n",
      "  1.37717087e+01 1.08611907e+01 1.10254869e+01 6.90683903e+00\n",
      "  6.95321607e+00 1.31720244e+01]\n",
      " [1.40121096e+01 3.83112288e+00 7.30236072e+00 1.03694870e+01\n",
      "  2.32171159e+01 1.61148617e+00 2.61625897e-01 5.78246247e-01\n",
      "  1.81440300e+01 3.73282096e+00]\n",
      " [1.18066459e+01 2.13135085e+01 3.47158925e+00 1.53238793e+01\n",
      "  1.66840389e+01 9.31723990e+00 1.83067262e+01 9.28982092e+00\n",
      "  1.67139082e+01 1.84975981e+00]\n",
      " [2.14801226e+01 2.66753653e+01 2.07483646e+00 3.24557704e+00\n",
      "  1.42612916e+01 3.08764128e+01 6.74099807e+00 4.78598925e+00\n",
      "  8.52722317e+00 1.34743902e+01]]\n"
     ]
    }
   ],
   "source": [
    "# absolute value of each element\n",
    "print( np.abs(a) )"
   ]
  },
  {
   "cell_type": "code",
   "execution_count": 36,
   "metadata": {
    "slideshow": {
     "slide_type": "fragment"
    }
   },
   "outputs": [
    {
     "name": "stdout",
     "output_type": "stream",
     "text": [
      "[[3.31633938e+06 1.05933807e+04 3.54888542e+10 1.45623196e+07\n",
      "  2.32740096e-03 4.73191212e+07 4.55792084e+03 5.87923721e+03\n",
      "  4.24637032e+00 2.00444956e+03]\n",
      " [9.70607515e-02 4.74059299e+06 4.77244179e+06 2.61807038e+01\n",
      "  8.10487489e+02 9.34041740e+06 3.51947199e+05 6.54521136e+05\n",
      "  9.93270473e-01 6.44177529e+05]\n",
      " [4.81283749e+01 4.11675776e+06 2.57372679e+08 6.06973227e-03\n",
      "  6.46119258e+06 1.38158621e+05 9.14322149e+00 1.85706198e+00\n",
      "  5.05829014e+05 1.07594462e+07]\n",
      " [2.49539306e+04 7.36850505e+09 1.74953346e+02 8.77263598e+03\n",
      "  4.00359315e+03 2.77374020e+04 9.43362392e-01 8.13140197e+00\n",
      "  5.16298736e+02 4.63415933e+00]\n",
      " [1.75682073e+03 2.54112456e+06 7.33531340e+05 1.37553496e+08\n",
      "  5.70077256e+00 1.95014354e+07 1.06244884e+04 4.34711248e+08\n",
      "  1.87903934e+07 2.66244726e+03]\n",
      " [2.27055218e+03 7.42185348e+09 5.88126577e+02 5.22639328e+05\n",
      "  1.87406880e+05 2.53271156e+07 1.75640044e+01 9.03255064e-01\n",
      "  1.09868719e+10 1.43962540e+07]\n",
      " [1.64691106e-01 5.07050371e+05 8.21903797e+09 2.58973541e-02\n",
      "  9.57143557e+05 5.21140911e+04 6.14197601e+04 9.99084169e+02\n",
      "  1.04650997e+03 5.25457400e+05]\n",
      " [1.21725593e+06 4.61142899e+01 1.48379863e+03 3.18721235e+04\n",
      "  1.21078024e+10 5.01025177e+00 1.29904048e+00 1.78290891e+00\n",
      "  7.58319298e+07 4.17968493e+01]\n",
      " [1.34140890e+05 1.80442627e+09 3.21878563e+01 4.51935246e+06\n",
      "  1.76110810e+07 8.98615953e-05 8.92298515e+07 1.08272449e+04\n",
      "  1.81450472e+07 6.35829211e+00]\n",
      " [2.13156566e+09 3.84559844e+11 7.96324406e+00 2.56765221e+01\n",
      "  1.56170950e+06 2.56717639e+13 8.46405086e+02 1.19819836e+02\n",
      "  5.05040224e+03 7.10973345e+05]]\n"
     ]
    }
   ],
   "source": [
    "# exponential\n",
    "print( np.exp(a) )"
   ]
  },
  {
   "cell_type": "code",
   "execution_count": 37,
   "metadata": {
    "scrolled": false,
    "slideshow": {
     "slide_type": "fragment"
    }
   },
   "outputs": [
    {
     "name": "stdout",
     "output_type": "stream",
     "text": [
      "[[3.87483834 3.04433648 4.92874066 4.06127417        nan 4.20385835\n",
      "  2.90251991 2.9460452  1.20252425 2.75737643]\n",
      " [       nan 3.92067249 3.92152631 1.80693737 2.58797912 4.00622784\n",
      "  3.57368667 3.65946159        nan 3.65728446]\n",
      " [1.96821541 3.90263712 4.40068582        nan 3.95996521 3.44037174\n",
      "  1.48761984 0.78676277 3.62407974 4.02384078]\n",
      " [3.18194699 4.76660054 2.27255789 3.01320305 2.88009505 3.19852107\n",
      "         nan 1.44766479 2.49933702 1.23832742]\n",
      " [2.73336076 3.84032776 3.67500008 4.32891712 1.31931865 4.09707196\n",
      "  3.04481803 4.45984221 4.09253666 2.80838049]\n",
      " [2.77988819 4.7673572  2.52526082 3.62858745 3.48439914 4.12884804\n",
      "  1.69288263        nan 4.80832267 4.05986189]\n",
      " [       nan 3.62441245 4.77804552        nan 3.71102529 3.29563206\n",
      "  3.32046486 2.62808657 2.63689516 3.62932837]\n",
      " [3.74327526 1.95732544 2.70228805 3.22016879 4.81841425 1.26944325\n",
      "  0.51149379 0.76042504 4.25958097 1.93205097]\n",
      " [3.43608003 4.61665556 1.86322013 3.91457268 4.08461           nan\n",
      "  4.27863602 3.04792075 4.08826469 1.36005875]\n",
      " [4.63466532 5.16481996 1.44042926 1.80154851 3.77641253 5.55665482\n",
      "  2.59634321 2.18769039 2.92014095 3.67074791]]\n"
     ]
    },
    {
     "name": "stderr",
     "output_type": "stream",
     "text": [
      "C:\\Users\\Andrew\\anaconda3\\lib\\site-packages\\ipykernel_launcher.py:2: RuntimeWarning: invalid value encountered in sqrt\n",
      "  \n"
     ]
    }
   ],
   "source": [
    "# square root. \n",
    "print( np.sqrt(a) )"
   ]
  },
  {
   "cell_type": "markdown",
   "metadata": {
    "slideshow": {
     "slide_type": "fragment"
    }
   },
   "source": [
    "Don't be alarmed by the red \"RuntimeWarning\" here. Usually as long as it is a warning, not an error, you are ok. This warning relates to the special \"nan\" (Not A Number) values that you see above. These occur when we try to take the square root of a negative number. NumPy returns this special object (np.nan) when we try to do calculations that are undefined."
   ]
  },
  {
   "cell_type": "markdown",
   "metadata": {
    "slideshow": {
     "slide_type": "slide"
    }
   },
   "source": [
    "Rather than element-wise operations, we can also do **matrix operations**. (If your research involves linear algebra, see [here](https://www.geeksforgeeks.org/numpy-linear-algebra/?ref=lbp) for more examples.)"
   ]
  },
  {
   "cell_type": "code",
   "execution_count": 38,
   "metadata": {
    "slideshow": {
     "slide_type": "fragment"
    }
   },
   "outputs": [
    {
     "name": "stdout",
     "output_type": "stream",
     "text": [
      "[[15.01437214  9.26798463 24.29248452]\n",
      " [-2.33241819 15.37167279 15.37836864]\n",
      " [ 3.87387192 15.23057646 19.36603571]]\n",
      "\n"
     ]
    }
   ],
   "source": [
    "A = a[:3, :3]\n",
    "print(A)\n",
    "print()"
   ]
  },
  {
   "cell_type": "code",
   "execution_count": 39,
   "metadata": {
    "slideshow": {
     "slide_type": "fragment"
    }
   },
   "outputs": [
    {
     "name": "stdout",
     "output_type": "stream",
     "text": [
      "[[ 0.57824625 18.14403     3.73282096]\n",
      " [ 9.28982092 16.7139082   1.84975981]\n",
      " [ 4.78598925  8.52722317 13.47439022]]\n"
     ]
    }
   ],
   "source": [
    "B = a[-3:, -3:]\n",
    "print(B)"
   ]
  },
  {
   "cell_type": "code",
   "execution_count": 40,
   "metadata": {
    "slideshow": {
     "slide_type": "fragment"
    }
   },
   "outputs": [
    {
     "name": "stdout",
     "output_type": "stream",
     "text": [
      "[[211.04349149 634.47289954 400.51592424]\n",
      " [215.05208229 345.7360436  226.94154289]\n",
      " [236.41501835 489.98861351 303.57890054]]\n"
     ]
    }
   ],
   "source": [
    "# matrix multiplication\n",
    "print( np.matmul(A, B) )"
   ]
  },
  {
   "cell_type": "code",
   "execution_count": 41,
   "metadata": {
    "slideshow": {
     "slide_type": "fragment"
    }
   },
   "outputs": [
    {
     "name": "stdout",
     "output_type": "stream",
     "text": [
      "-385.85654214543604\n"
     ]
    }
   ],
   "source": [
    "# determinant\n",
    "print( np.linalg.det(A) )"
   ]
  },
  {
   "cell_type": "markdown",
   "metadata": {
    "slideshow": {
     "slide_type": "slide"
    }
   },
   "source": [
    "### Logical indexing\n",
    "**Logical indexing** is a powerful way to manipulate parts of your data that meet certain conditions. The idea is to create a NumPy array of Boolean variables, and then use this array to index a new array. For example, we can change all undefined elements in the array to zero as follows:"
   ]
  },
  {
   "cell_type": "code",
   "execution_count": 42,
   "metadata": {
    "slideshow": {
     "slide_type": "fragment"
    }
   },
   "outputs": [
    {
     "name": "stdout",
     "output_type": "stream",
     "text": [
      "[[4.24434282 2.52914878 1.87079629 4.05931874        nan 2.69008275\n",
      "  3.7498807  3.32478155 3.10091799 2.59413557]\n",
      " [       nan 2.73193504 2.53602489 3.55231543 4.42003936 4.34053268\n",
      "  4.8829533  4.92496481 4.20161809 3.5452446 ]\n",
      " [3.28607936 4.07377123 5.02448661 3.14975697 1.60202602 3.10056998\n",
      "  0.99242212 2.28988914 1.98024605 3.92094947]\n",
      " [4.5170813         nan 4.10947442 3.53830811 3.45178379 3.5165586\n",
      "  3.94841586 4.69404121 2.02829557 0.62967337]\n",
      " [2.54617128 1.9532867  3.68031979 3.3297009         nan 4.06577563\n",
      "  3.52007854 2.44288343        nan 3.25134511]\n",
      " [4.20637401 1.60446499 4.07509618 2.57798931 4.90438007 2.50043546\n",
      "  3.00034522 1.03992796 5.34534389 2.31382651]\n",
      " [2.28796627 3.74554724 3.15762568 2.66728982 2.22257075 4.1501697\n",
      "  4.80111413 2.25146949 2.25569945 2.64484633]\n",
      " [2.68857594 3.07118958 2.50084414 3.72806716 3.98870445 4.33411482\n",
      "  1.48775221 5.2247578  3.57317967 3.23324518]\n",
      " [1.14366554 4.43444575 4.0837144  4.24681784 4.85386986 3.56218033\n",
      "  2.65356603 3.89302661 1.64163739        nan]\n",
      " [       nan 2.8686414  1.07737084 3.27846029        nan 2.79076656\n",
      "  3.96852407 0.71751323 4.72007008 2.95858281]]\n"
     ]
    },
    {
     "name": "stderr",
     "output_type": "stream",
     "text": [
      "C:\\Users\\Andrew\\anaconda3\\lib\\site-packages\\ipykernel_launcher.py:3: RuntimeWarning: invalid value encountered in sqrt\n",
      "  This is separate from the ipykernel package so we can avoid doing imports until\n"
     ]
    }
   ],
   "source": [
    "### create array of square roots, some of which are undefined\n",
    "a = np.random.normal(loc = 10, scale = 8, size = (10, 10))\n",
    "b = np.sqrt(a)\n",
    "print(b)"
   ]
  },
  {
   "cell_type": "code",
   "execution_count": 43,
   "metadata": {
    "slideshow": {
     "slide_type": "fragment"
    }
   },
   "outputs": [
    {
     "name": "stdout",
     "output_type": "stream",
     "text": [
      "[[False False False False  True False False False False False]\n",
      " [ True False False False False False False False False False]\n",
      " [False False False False False False False False False False]\n",
      " [False  True False False False False False False False False]\n",
      " [False False False False  True False False False  True False]\n",
      " [False False False False False False False False False False]\n",
      " [False False False False False False False False False False]\n",
      " [False False False False False False False False False False]\n",
      " [False False False False False False False False False  True]\n",
      " [ True False False False  True False False False False False]]\n"
     ]
    }
   ],
   "source": [
    "### create boolean array with \"True\" everywhere there is an \"nan\" value, using np.isnan() function\n",
    "c = np.isnan(b)\n",
    "print(c)"
   ]
  },
  {
   "cell_type": "code",
   "execution_count": 44,
   "metadata": {
    "slideshow": {
     "slide_type": "fragment"
    }
   },
   "outputs": [
    {
     "name": "stdout",
     "output_type": "stream",
     "text": [
      "[[4.24434282 2.52914878 1.87079629 4.05931874 0.         2.69008275\n",
      "  3.7498807  3.32478155 3.10091799 2.59413557]\n",
      " [0.         2.73193504 2.53602489 3.55231543 4.42003936 4.34053268\n",
      "  4.8829533  4.92496481 4.20161809 3.5452446 ]\n",
      " [3.28607936 4.07377123 5.02448661 3.14975697 1.60202602 3.10056998\n",
      "  0.99242212 2.28988914 1.98024605 3.92094947]\n",
      " [4.5170813  0.         4.10947442 3.53830811 3.45178379 3.5165586\n",
      "  3.94841586 4.69404121 2.02829557 0.62967337]\n",
      " [2.54617128 1.9532867  3.68031979 3.3297009  0.         4.06577563\n",
      "  3.52007854 2.44288343 0.         3.25134511]\n",
      " [4.20637401 1.60446499 4.07509618 2.57798931 4.90438007 2.50043546\n",
      "  3.00034522 1.03992796 5.34534389 2.31382651]\n",
      " [2.28796627 3.74554724 3.15762568 2.66728982 2.22257075 4.1501697\n",
      "  4.80111413 2.25146949 2.25569945 2.64484633]\n",
      " [2.68857594 3.07118958 2.50084414 3.72806716 3.98870445 4.33411482\n",
      "  1.48775221 5.2247578  3.57317967 3.23324518]\n",
      " [1.14366554 4.43444575 4.0837144  4.24681784 4.85386986 3.56218033\n",
      "  2.65356603 3.89302661 1.64163739 0.        ]\n",
      " [0.         2.8686414  1.07737084 3.27846029 0.         2.79076656\n",
      "  3.96852407 0.71751323 4.72007008 2.95858281]]\n"
     ]
    }
   ],
   "source": [
    "### create a copy of b, then reset all nan's to 0 using logical indexing\n",
    "d = b.copy()\n",
    "d[c] = 0\n",
    "# print(b)\n",
    "print(d)"
   ]
  },
  {
   "cell_type": "markdown",
   "metadata": {
    "slideshow": {
     "slide_type": "fragment"
    }
   },
   "source": [
    "This can be thought of as a compact representation of two for loops and and one if statement:"
   ]
  },
  {
   "cell_type": "code",
   "execution_count": 45,
   "metadata": {
    "slideshow": {
     "slide_type": "fragment"
    }
   },
   "outputs": [
    {
     "name": "stdout",
     "output_type": "stream",
     "text": [
      "[[4.24434282 2.52914878 1.87079629 4.05931874 0.         2.69008275\n",
      "  3.7498807  3.32478155 3.10091799 2.59413557]\n",
      " [0.         2.73193504 2.53602489 3.55231543 4.42003936 4.34053268\n",
      "  4.8829533  4.92496481 4.20161809 3.5452446 ]\n",
      " [3.28607936 4.07377123 5.02448661 3.14975697 1.60202602 3.10056998\n",
      "  0.99242212 2.28988914 1.98024605 3.92094947]\n",
      " [4.5170813  0.         4.10947442 3.53830811 3.45178379 3.5165586\n",
      "  3.94841586 4.69404121 2.02829557 0.62967337]\n",
      " [2.54617128 1.9532867  3.68031979 3.3297009  0.         4.06577563\n",
      "  3.52007854 2.44288343 0.         3.25134511]\n",
      " [4.20637401 1.60446499 4.07509618 2.57798931 4.90438007 2.50043546\n",
      "  3.00034522 1.03992796 5.34534389 2.31382651]\n",
      " [2.28796627 3.74554724 3.15762568 2.66728982 2.22257075 4.1501697\n",
      "  4.80111413 2.25146949 2.25569945 2.64484633]\n",
      " [2.68857594 3.07118958 2.50084414 3.72806716 3.98870445 4.33411482\n",
      "  1.48775221 5.2247578  3.57317967 3.23324518]\n",
      " [1.14366554 4.43444575 4.0837144  4.24681784 4.85386986 3.56218033\n",
      "  2.65356603 3.89302661 1.64163739 0.        ]\n",
      " [0.         2.8686414  1.07737084 3.27846029 0.         2.79076656\n",
      "  3.96852407 0.71751323 4.72007008 2.95858281]]\n",
      "\n"
     ]
    }
   ],
   "source": [
    "### equivalent operations to logical indexing with for loops & if statement\n",
    "e = b.copy()\n",
    "for i in range(e.shape[0]):\n",
    "    for j in range(e.shape[1]):\n",
    "        if np.isnan(e[i,j]):\n",
    "            e[i,j] = 0\n",
    "print(e)\n",
    "print()"
   ]
  },
  {
   "cell_type": "code",
   "execution_count": 46,
   "metadata": {
    "scrolled": true,
    "slideshow": {
     "slide_type": "fragment"
    }
   },
   "outputs": [
    {
     "name": "stdout",
     "output_type": "stream",
     "text": [
      "[[ True  True  True  True  True  True  True  True  True  True]\n",
      " [ True  True  True  True  True  True  True  True  True  True]\n",
      " [ True  True  True  True  True  True  True  True  True  True]\n",
      " [ True  True  True  True  True  True  True  True  True  True]\n",
      " [ True  True  True  True  True  True  True  True  True  True]\n",
      " [ True  True  True  True  True  True  True  True  True  True]\n",
      " [ True  True  True  True  True  True  True  True  True  True]\n",
      " [ True  True  True  True  True  True  True  True  True  True]\n",
      " [ True  True  True  True  True  True  True  True  True  True]\n",
      " [ True  True  True  True  True  True  True  True  True  True]]\n",
      "\n",
      "True\n"
     ]
    }
   ],
   "source": [
    "### compare e & d, check if each element is equivalent\n",
    "print(e == d)\n",
    "print()\n",
    "\n",
    "### check if all elements are equivalent\n",
    "print(np.all(e == d))"
   ]
  },
  {
   "cell_type": "markdown",
   "metadata": {
    "slideshow": {
     "slide_type": "fragment"
    }
   },
   "source": [
    "We can also retrieve particular elements of the NumPy array using logical indexing, which is analagous to list comprehension. However, note that we lose the shape of the array when we pick out particular elements."
   ]
  },
  {
   "cell_type": "code",
   "execution_count": 47,
   "metadata": {
    "slideshow": {
     "slide_type": "fragment"
    }
   },
   "outputs": [
    {
     "name": "stdout",
     "output_type": "stream",
     "text": [
      "[[4.24434282 2.52914878 1.87079629 4.05931874 0.         2.69008275\n",
      "  3.7498807  3.32478155 3.10091799 2.59413557]\n",
      " [0.         2.73193504 2.53602489 3.55231543 4.42003936 4.34053268\n",
      "  4.8829533  4.92496481 4.20161809 3.5452446 ]\n",
      " [3.28607936 4.07377123 5.02448661 3.14975697 1.60202602 3.10056998\n",
      "  0.99242212 2.28988914 1.98024605 3.92094947]\n",
      " [4.5170813  0.         4.10947442 3.53830811 3.45178379 3.5165586\n",
      "  3.94841586 4.69404121 2.02829557 0.62967337]\n",
      " [2.54617128 1.9532867  3.68031979 3.3297009  0.         4.06577563\n",
      "  3.52007854 2.44288343 0.         3.25134511]\n",
      " [4.20637401 1.60446499 4.07509618 2.57798931 4.90438007 2.50043546\n",
      "  3.00034522 1.03992796 5.34534389 2.31382651]\n",
      " [2.28796627 3.74554724 3.15762568 2.66728982 2.22257075 4.1501697\n",
      "  4.80111413 2.25146949 2.25569945 2.64484633]\n",
      " [2.68857594 3.07118958 2.50084414 3.72806716 3.98870445 4.33411482\n",
      "  1.48775221 5.2247578  3.57317967 3.23324518]\n",
      " [1.14366554 4.43444575 4.0837144  4.24681784 4.85386986 3.56218033\n",
      "  2.65356603 3.89302661 1.64163739 0.        ]\n",
      " [0.         2.8686414  1.07737084 3.27846029 0.         2.79076656\n",
      "  3.96852407 0.71751323 4.72007008 2.95858281]]\n"
     ]
    }
   ],
   "source": [
    "print(e)"
   ]
  },
  {
   "cell_type": "code",
   "execution_count": 48,
   "metadata": {},
   "outputs": [
    {
     "name": "stdout",
     "output_type": "stream",
     "text": [
      "[[ True False False  True False False False False False False]\n",
      " [False False False False  True  True  True  True  True False]\n",
      " [False  True  True False False False False False False False]\n",
      " [ True False  True False False False False  True False False]\n",
      " [False False False False False  True False False False False]\n",
      " [ True False  True False  True False False False  True False]\n",
      " [False False False False False  True  True False False False]\n",
      " [False False False False False  True False  True False False]\n",
      " [False  True  True  True  True False False False False False]\n",
      " [False False False False False False False False  True False]]\n"
     ]
    }
   ],
   "source": [
    "### which elements are greater than 4?\n",
    "f = e > 4\n",
    "print(f)"
   ]
  },
  {
   "cell_type": "code",
   "execution_count": 49,
   "metadata": {},
   "outputs": [
    {
     "name": "stdout",
     "output_type": "stream",
     "text": [
      "[4.24434282 4.05931874 4.42003936 4.34053268 4.8829533  4.92496481\n",
      " 4.20161809 4.07377123 5.02448661 4.5170813  4.10947442 4.69404121\n",
      " 4.06577563 4.20637401 4.07509618 4.90438007 5.34534389 4.1501697\n",
      " 4.80111413 4.33411482 5.2247578  4.43444575 4.0837144  4.24681784\n",
      " 4.85386986 4.72007008]\n",
      "\n",
      "(10, 10)\n"
     ]
    }
   ],
   "source": [
    "### get new array with just these values\n",
    "g = e[f]\n",
    "print(g)\n",
    "print()\n",
    "print(f.shape)"
   ]
  },
  {
   "cell_type": "code",
   "execution_count": 50,
   "metadata": {
    "slideshow": {
     "slide_type": "fragment"
    }
   },
   "outputs": [
    {
     "name": "stdout",
     "output_type": "stream",
     "text": [
      "[4.24434282 4.05931874 4.42003936 4.34053268 4.8829533  4.92496481\n",
      " 4.20161809 4.07377123 5.02448661 4.5170813  4.10947442 4.69404121\n",
      " 4.06577563 4.20637401 4.07509618 4.90438007 5.34534389 4.1501697\n",
      " 4.80111413 4.33411482 5.2247578  4.43444575 4.0837144  4.24681784\n",
      " 4.85386986 4.72007008]\n"
     ]
    }
   ],
   "source": [
    "### often easier to put logical condition right inside brackets instead of defining as separate variable\n",
    "g = e[e > 4]\n",
    "print(g)"
   ]
  },
  {
   "cell_type": "markdown",
   "metadata": {
    "slideshow": {
     "slide_type": "fragment"
    }
   },
   "source": [
    "To apply multiple logical operations at once, we have to use the **bitwise comparison operators** (``&`` and ``|``) rather than the normal comparison operators (``and`` and ``or``). This is because we want the \"and/or\" to be applied to each element in the array individually, rather than for the entire array at once."
   ]
  },
  {
   "cell_type": "code",
   "execution_count": 51,
   "metadata": {
    "slideshow": {
     "slide_type": "fragment"
    }
   },
   "outputs": [
    {
     "name": "stdout",
     "output_type": "stream",
     "text": [
      "[[False False  True False  True False False False False False]\n",
      " [ True False False False False False False False False False]\n",
      " [False False False False  True False  True False  True False]\n",
      " [False  True False False False False False False False  True]\n",
      " [False  True False False  True False False False  True False]\n",
      " [False  True False False False False False  True False False]\n",
      " [False False False False False False False False False False]\n",
      " [False False False False False False  True False False False]\n",
      " [ True False False False False False False False  True  True]\n",
      " [ True False  True False  True False False  True False False]]\n"
     ]
    }
   ],
   "source": [
    "lt2 = e < 2\n",
    "print(lt2)"
   ]
  },
  {
   "cell_type": "code",
   "execution_count": 52,
   "metadata": {
    "slideshow": {
     "slide_type": "fragment"
    }
   },
   "outputs": [
    {
     "name": "stdout",
     "output_type": "stream",
     "text": [
      "[[ True False False  True False False False False False False]\n",
      " [False False False False  True  True  True  True  True False]\n",
      " [False  True  True False False False False False False False]\n",
      " [ True False  True False False False False  True False False]\n",
      " [False False False False False  True False False False False]\n",
      " [ True False  True False  True False False False  True False]\n",
      " [False False False False False  True  True False False False]\n",
      " [False False False False False  True False  True False False]\n",
      " [False  True  True  True  True False False False False False]\n",
      " [False False False False False False False False  True False]]\n"
     ]
    }
   ],
   "source": [
    "gte4 = e >= 4\n",
    "print(gte4)"
   ]
  },
  {
   "cell_type": "code",
   "execution_count": 53,
   "metadata": {
    "slideshow": {
     "slide_type": "fragment"
    }
   },
   "outputs": [
    {
     "name": "stdout",
     "output_type": "stream",
     "text": [
      "[[ True False  True  True  True False False False False False]\n",
      " [ True False False False  True  True  True  True  True False]\n",
      " [False  True  True False  True False  True False  True False]\n",
      " [ True  True  True False False False False  True False  True]\n",
      " [False  True False False  True  True False False  True False]\n",
      " [ True  True  True False  True False False  True  True False]\n",
      " [False False False False False  True  True False False False]\n",
      " [False False False False False  True  True  True False False]\n",
      " [ True  True  True  True  True False False False  True  True]\n",
      " [ True False  True False  True False False  True  True False]]\n"
     ]
    }
   ],
   "source": [
    "lt2_or_gte4 = lt2 | gte4\n",
    "print(lt2_or_gte4)"
   ]
  },
  {
   "cell_type": "code",
   "execution_count": 54,
   "metadata": {},
   "outputs": [],
   "source": [
    "### this will cause an error, unlike with individual boolean variables\n",
    "# lt2_or_gte4 = lt2 or gte4"
   ]
  },
  {
   "cell_type": "code",
   "execution_count": 55,
   "metadata": {
    "slideshow": {
     "slide_type": "fragment"
    }
   },
   "outputs": [
    {
     "name": "stdout",
     "output_type": "stream",
     "text": [
      "[4.24434282 1.87079629 4.05931874 0.         0.         4.42003936\n",
      " 4.34053268 4.8829533  4.92496481 4.20161809 4.07377123 5.02448661\n",
      " 1.60202602 0.99242212 1.98024605 4.5170813  0.         4.10947442\n",
      " 4.69404121 0.62967337 1.9532867  0.         4.06577563 0.\n",
      " 4.20637401 1.60446499 4.07509618 4.90438007 1.03992796 5.34534389\n",
      " 4.1501697  4.80111413 4.33411482 1.48775221 5.2247578  1.14366554\n",
      " 4.43444575 4.0837144  4.24681784 4.85386986 1.64163739 0.\n",
      " 0.         1.07737084 0.         0.71751323 4.72007008]\n",
      "(47,)\n"
     ]
    }
   ],
   "source": [
    "g = e[lt2_or_gte4]\n",
    "print(g)\n",
    "print(g.shape)"
   ]
  },
  {
   "cell_type": "markdown",
   "metadata": {
    "slideshow": {
     "slide_type": "slide"
    }
   },
   "source": [
    "### In class exercise\n",
    "Let's pretend you are an air quality specialist who is investigating the [effects of wildfire smoke on PM10 pollution](https://www.climacell.co/blog/pm10-how-wildfires-actually-affect-air-quality/). Assume there is a large wildfire burning in the Bozeman, MT, area (45.677, -111.043), and you have a map of PM10 over the larger region spanning from 40 to 48 degrees latitude and -120 to -102 degrees longitude, at a grid resolution of 1 degrees. "
   ]
  },
  {
   "cell_type": "markdown",
   "metadata": {
    "slideshow": {
     "slide_type": "fragment"
    }
   },
   "source": [
    "We will make up fake data using an assumed quadratic trend centered around Bozeman, plus random noise. But the same analysis could be performed using ground measurements or satellite observations of PM10."
   ]
  },
  {
   "cell_type": "code",
   "execution_count": 56,
   "metadata": {
    "slideshow": {
     "slide_type": "fragment"
    }
   },
   "outputs": [
    {
     "name": "stdout",
     "output_type": "stream",
     "text": [
      "[-120. -119. -118. -117. -116. -115. -114. -113. -112. -111. -110. -109.\n",
      " -108. -107. -106. -105. -104. -103. -102.]\n",
      "[48. 47. 46. 45. 44. 43. 42. 41. 40.]\n"
     ]
    }
   ],
   "source": [
    "## use np.arange to create a grid of coordinates\n",
    "res = 1\n",
    "long_box = (-120, -102)\n",
    "lat_box = (40, 48)\n",
    "long_grid = np.arange(long_box[0], long_box[1] + 0.01, res)\n",
    "lat_grid = np.arange(lat_box[1], lat_box[0] - 0.01, -res)\n",
    "long_n = len(long_grid)\n",
    "lat_n = len(lat_grid)\n",
    "print(long_grid) \n",
    "print(lat_grid)"
   ]
  },
  {
   "cell_type": "code",
   "execution_count": 57,
   "metadata": {
    "slideshow": {
     "slide_type": "fragment"
    }
   },
   "outputs": [
    {
     "name": "stdout",
     "output_type": "stream",
     "text": [
      "[(-120.0, 48.0), (-119.0, 48.0), (-118.0, 48.0), (-117.0, 48.0), (-116.0, 48.0), (-115.0, 48.0), (-114.0, 48.0), (-113.0, 48.0), (-112.0, 48.0), (-111.0, 48.0), (-110.0, 48.0), (-109.0, 48.0), (-108.0, 48.0), (-107.0, 48.0), (-106.0, 48.0), (-105.0, 48.0), (-104.0, 48.0), (-103.0, 48.0), (-102.0, 48.0), (-120.0, 47.0), (-119.0, 47.0), (-118.0, 47.0), (-117.0, 47.0), (-116.0, 47.0), (-115.0, 47.0), (-114.0, 47.0), (-113.0, 47.0), (-112.0, 47.0), (-111.0, 47.0), (-110.0, 47.0), (-109.0, 47.0), (-108.0, 47.0), (-107.0, 47.0), (-106.0, 47.0), (-105.0, 47.0), (-104.0, 47.0), (-103.0, 47.0), (-102.0, 47.0), (-120.0, 46.0), (-119.0, 46.0), (-118.0, 46.0), (-117.0, 46.0), (-116.0, 46.0), (-115.0, 46.0), (-114.0, 46.0), (-113.0, 46.0), (-112.0, 46.0), (-111.0, 46.0), (-110.0, 46.0), (-109.0, 46.0), (-108.0, 46.0), (-107.0, 46.0), (-106.0, 46.0), (-105.0, 46.0), (-104.0, 46.0), (-103.0, 46.0), (-102.0, 46.0), (-120.0, 45.0), (-119.0, 45.0), (-118.0, 45.0), (-117.0, 45.0), (-116.0, 45.0), (-115.0, 45.0), (-114.0, 45.0), (-113.0, 45.0), (-112.0, 45.0), (-111.0, 45.0), (-110.0, 45.0), (-109.0, 45.0), (-108.0, 45.0), (-107.0, 45.0), (-106.0, 45.0), (-105.0, 45.0), (-104.0, 45.0), (-103.0, 45.0), (-102.0, 45.0), (-120.0, 44.0), (-119.0, 44.0), (-118.0, 44.0), (-117.0, 44.0), (-116.0, 44.0), (-115.0, 44.0), (-114.0, 44.0), (-113.0, 44.0), (-112.0, 44.0), (-111.0, 44.0), (-110.0, 44.0), (-109.0, 44.0), (-108.0, 44.0), (-107.0, 44.0), (-106.0, 44.0), (-105.0, 44.0), (-104.0, 44.0), (-103.0, 44.0), (-102.0, 44.0), (-120.0, 43.0), (-119.0, 43.0), (-118.0, 43.0), (-117.0, 43.0), (-116.0, 43.0), (-115.0, 43.0), (-114.0, 43.0), (-113.0, 43.0), (-112.0, 43.0), (-111.0, 43.0), (-110.0, 43.0), (-109.0, 43.0), (-108.0, 43.0), (-107.0, 43.0), (-106.0, 43.0), (-105.0, 43.0), (-104.0, 43.0), (-103.0, 43.0), (-102.0, 43.0), (-120.0, 42.0), (-119.0, 42.0), (-118.0, 42.0), (-117.0, 42.0), (-116.0, 42.0), (-115.0, 42.0), (-114.0, 42.0), (-113.0, 42.0), (-112.0, 42.0), (-111.0, 42.0), (-110.0, 42.0), (-109.0, 42.0), (-108.0, 42.0), (-107.0, 42.0), (-106.0, 42.0), (-105.0, 42.0), (-104.0, 42.0), (-103.0, 42.0), (-102.0, 42.0), (-120.0, 41.0), (-119.0, 41.0), (-118.0, 41.0), (-117.0, 41.0), (-116.0, 41.0), (-115.0, 41.0), (-114.0, 41.0), (-113.0, 41.0), (-112.0, 41.0), (-111.0, 41.0), (-110.0, 41.0), (-109.0, 41.0), (-108.0, 41.0), (-107.0, 41.0), (-106.0, 41.0), (-105.0, 41.0), (-104.0, 41.0), (-103.0, 41.0), (-102.0, 41.0), (-120.0, 40.0), (-119.0, 40.0), (-118.0, 40.0), (-117.0, 40.0), (-116.0, 40.0), (-115.0, 40.0), (-114.0, 40.0), (-113.0, 40.0), (-112.0, 40.0), (-111.0, 40.0), (-110.0, 40.0), (-109.0, 40.0), (-108.0, 40.0), (-107.0, 40.0), (-106.0, 40.0), (-105.0, 40.0), (-104.0, 40.0), (-103.0, 40.0), (-102.0, 40.0)]\n"
     ]
    }
   ],
   "source": [
    "## create list of coords, check orientations\n",
    "coords = [(long, lat) for lat in lat_grid for long in long_grid]\n",
    "print(coords)"
   ]
  },
  {
   "cell_type": "code",
   "execution_count": 58,
   "metadata": {
    "slideshow": {
     "slide_type": "fragment"
    }
   },
   "outputs": [],
   "source": [
    "## assume a quadratic spatial trend for pm10\n",
    "long_bozeman = -111.043\n",
    "lat_bozeman = 45.677\n",
    "def quadratic_trend(long, lat):\n",
    "    return -1.3*((long - long_bozeman) **2 + (lat - lat_bozeman) **2) + 160"
   ]
  },
  {
   "cell_type": "code",
   "execution_count": 59,
   "metadata": {
    "slideshow": {
     "slide_type": "fragment"
    }
   },
   "outputs": [
    {
     "name": "stdout",
     "output_type": "stream",
     "text": [
      "[ 48.6885686  70.6767686  90.0649686 106.8531686 121.0413686 132.6295686\n",
      " 141.6177686 148.0059686 151.7941686 152.9823686 151.5705686 147.5587686\n",
      " 140.9469686 131.7351686 119.9233686 105.5115686  88.4997686  68.8879686\n",
      "  46.6761686  53.4283686  75.4165686  94.8047686 111.5929686 125.7811686\n",
      " 137.3693686 146.3575686 152.7457686 156.5339686 157.7221686 156.3103686\n",
      " 152.2985686 145.6867686 136.4749686 124.6631686 110.2513686  93.2395686\n",
      "  73.6277686  51.4159686  55.5681686  77.5563686  96.9445686 113.7327686\n",
      " 127.9209686 139.5091686 148.4973686 154.8855686 158.6737686 159.8619686\n",
      " 158.4501686 154.4383686 147.8265686 138.6147686 126.8029686 112.3911686\n",
      "  95.3793686  75.7675686  53.5557686  55.1079686  77.0961686  96.4843686\n",
      " 113.2725686 127.4607686 139.0489686 148.0371686 154.4253686 158.2135686\n",
      " 159.4017686 157.9899686 153.9781686 147.3663686 138.1545686 126.3427686\n",
      " 111.9309686  94.9191686  75.3073686  53.0955686  52.0477686  74.0359686\n",
      "  93.4241686 110.2123686 124.4005686 135.9887686 144.9769686 151.3651686\n",
      " 155.1533686 156.3415686 154.9297686 150.9179686 144.3061686 135.0943686\n",
      " 123.2825686 108.8707686  91.8589686  72.2471686  50.0353686  46.3875686\n",
      "  68.3757686  87.7639686 104.5521686 118.7403686 130.3285686 139.3167686\n",
      " 145.7049686 149.4931686 150.6813686 149.2695686 145.2577686 138.6459686\n",
      " 129.4341686 117.6223686 103.2105686  86.1987686  66.5869686  44.3751686\n",
      "  38.1273686  60.1155686  79.5037686  96.2919686 110.4801686 122.0683686\n",
      " 131.0565686 137.4447686 141.2329686 142.4211686 141.0093686 136.9975686\n",
      " 130.3857686 121.1739686 109.3621686  94.9503686  77.9385686  58.3267686\n",
      "  36.1149686  27.2671686  49.2553686  68.6435686  85.4317686  99.6199686\n",
      " 111.2081686 120.1963686 126.5845686 130.3727686 131.5609686 130.1491686\n",
      " 126.1373686 119.5255686 110.3137686  98.5019686  84.0901686  67.0783686\n",
      "  47.4665686  25.2547686  13.8069686  35.7951686  55.1833686  71.9715686\n",
      "  86.1597686  97.7479686 106.7361686 113.1243686 116.9125686 118.1007686\n",
      " 116.6889686 112.6771686 106.0653686  96.8535686  85.0417686  70.6299686\n",
      "  53.6181686  34.0063686  11.7945686]\n",
      "(171,)\n"
     ]
    }
   ],
   "source": [
    "pm10 = np.array([quadratic_trend(longlat[0], longlat[1]) for longlat in coords])\n",
    "print(pm10)\n",
    "print(pm10.shape)"
   ]
  },
  {
   "cell_type": "code",
   "execution_count": 60,
   "metadata": {
    "slideshow": {
     "slide_type": "fragment"
    }
   },
   "outputs": [
    {
     "name": "stdout",
     "output_type": "stream",
     "text": [
      "[[ 48.6885686  70.6767686  90.0649686 106.8531686 121.0413686 132.6295686\n",
      "  141.6177686 148.0059686 151.7941686 152.9823686 151.5705686 147.5587686\n",
      "  140.9469686 131.7351686 119.9233686 105.5115686  88.4997686  68.8879686\n",
      "   46.6761686]\n",
      " [ 53.4283686  75.4165686  94.8047686 111.5929686 125.7811686 137.3693686\n",
      "  146.3575686 152.7457686 156.5339686 157.7221686 156.3103686 152.2985686\n",
      "  145.6867686 136.4749686 124.6631686 110.2513686  93.2395686  73.6277686\n",
      "   51.4159686]\n",
      " [ 55.5681686  77.5563686  96.9445686 113.7327686 127.9209686 139.5091686\n",
      "  148.4973686 154.8855686 158.6737686 159.8619686 158.4501686 154.4383686\n",
      "  147.8265686 138.6147686 126.8029686 112.3911686  95.3793686  75.7675686\n",
      "   53.5557686]\n",
      " [ 55.1079686  77.0961686  96.4843686 113.2725686 127.4607686 139.0489686\n",
      "  148.0371686 154.4253686 158.2135686 159.4017686 157.9899686 153.9781686\n",
      "  147.3663686 138.1545686 126.3427686 111.9309686  94.9191686  75.3073686\n",
      "   53.0955686]\n",
      " [ 52.0477686  74.0359686  93.4241686 110.2123686 124.4005686 135.9887686\n",
      "  144.9769686 151.3651686 155.1533686 156.3415686 154.9297686 150.9179686\n",
      "  144.3061686 135.0943686 123.2825686 108.8707686  91.8589686  72.2471686\n",
      "   50.0353686]\n",
      " [ 46.3875686  68.3757686  87.7639686 104.5521686 118.7403686 130.3285686\n",
      "  139.3167686 145.7049686 149.4931686 150.6813686 149.2695686 145.2577686\n",
      "  138.6459686 129.4341686 117.6223686 103.2105686  86.1987686  66.5869686\n",
      "   44.3751686]\n",
      " [ 38.1273686  60.1155686  79.5037686  96.2919686 110.4801686 122.0683686\n",
      "  131.0565686 137.4447686 141.2329686 142.4211686 141.0093686 136.9975686\n",
      "  130.3857686 121.1739686 109.3621686  94.9503686  77.9385686  58.3267686\n",
      "   36.1149686]\n",
      " [ 27.2671686  49.2553686  68.6435686  85.4317686  99.6199686 111.2081686\n",
      "  120.1963686 126.5845686 130.3727686 131.5609686 130.1491686 126.1373686\n",
      "  119.5255686 110.3137686  98.5019686  84.0901686  67.0783686  47.4665686\n",
      "   25.2547686]\n",
      " [ 13.8069686  35.7951686  55.1833686  71.9715686  86.1597686  97.7479686\n",
      "  106.7361686 113.1243686 116.9125686 118.1007686 116.6889686 112.6771686\n",
      "  106.0653686  96.8535686  85.0417686  70.6299686  53.6181686  34.0063686\n",
      "   11.7945686]]\n",
      "(9, 19)\n"
     ]
    }
   ],
   "source": [
    "## reshape pm10 observations to match the lat/long shape\n",
    "pm10 = pm10.reshape([lat_n, long_n])\n",
    "print(pm10)\n",
    "\n",
    "print(pm10.shape)"
   ]
  },
  {
   "cell_type": "code",
   "execution_count": 61,
   "metadata": {
    "slideshow": {
     "slide_type": "fragment"
    }
   },
   "outputs": [
    {
     "data": {
      "image/png": "[encoded data removed]",
      "text/plain": [
       "<Figure size 1008x576 with 2 Axes>"
      ]
     },
     "metadata": {
      "needs_background": "light"
     },
     "output_type": "display_data"
    }
   ],
   "source": [
    "## plot values on a grid. Don't worry too much about how this works yet - we will learn about plotting in a couple of weeks.\n",
    "import matplotlib.pyplot as plt\n",
    "\n",
    "def plot_grid(data, long_grid, lat_grid, label):\n",
    "    fig, ax = plt.subplots(1,1, figsize=(14,8))\n",
    "    plt.imshow(data)\n",
    "    plt.colorbar(label = label)\n",
    "    plt.xlabel('Longitude')\n",
    "    plt.ylabel('Latitude')\n",
    "    ax.set_xticks(list(range(0, len(long_grid), 3)))\n",
    "    ax.set_yticks(list(range(0, len(lat_grid), 2)))\n",
    "    ax.set_xticklabels(long_grid[::3])\n",
    "    ax.set_yticklabels(lat_grid[::2])\n",
    "    \n",
    "    \n",
    "plot_grid(pm10, long_grid, lat_grid, 'PM10 (ug/m3)')"
   ]
  },
  {
   "cell_type": "code",
   "execution_count": 62,
   "metadata": {},
   "outputs": [
    {
     "data": {
      "image/png": "[encoded data removed]",
      "text/plain": [
       "<Figure size 1008x576 with 2 Axes>"
      ]
     },
     "metadata": {
      "needs_background": "light"
     },
     "output_type": "display_data"
    }
   ],
   "source": [
    "### Now use np.random.normal() to add random noise to the data, with mean and standard distribution of 0 and 5 ug/m3\n",
    "noise = np.random.normal(0,5,(lat_n, long_n))\n",
    "pm10_noisy = pm10 + noise\n",
    "\n",
    "plot_grid(pm10_noisy, long_grid, lat_grid, 'PM10 (ug/m3)')"
   ]
  },
  {
   "cell_type": "markdown",
   "metadata": {
    "slideshow": {
     "slide_type": "fragment"
    }
   },
   "source": [
    "We will now assume that this \"synthetic\" dataset is our real data set and use it for analysis. The US EPS's national 24-hour daily standard for PM10 is 150 ug/m3 (for the max 24-hour concentration in one year, averaged over three years. But we will just treat it as a one-day standard for simplicity.)\n",
    "\n",
    "Use NumPy's built-in functions to answer the following questions:\n",
    "1. What are the mean and std of PM10 across this region today?"
   ]
  },
  {
   "cell_type": "markdown",
   "metadata": {
    "slideshow": {
     "slide_type": "fragment"
    }
   },
   "source": [
    "2. Find the mean PM10 for each longitude and latitude."
   ]
  },
  {
   "cell_type": "markdown",
   "metadata": {},
   "source": [
    "3. Which longitude has the highest mean PM10? Which latitude has the lowest PM10?"
   ]
  },
  {
   "cell_type": "markdown",
   "metadata": {
    "slideshow": {
     "slide_type": "fragment"
    }
   },
   "source": [
    "3. What fraction of grid points exceed the EPA daily standard?"
   ]
  },
  {
   "cell_type": "markdown",
   "metadata": {
    "slideshow": {
     "slide_type": "fragment"
    }
   },
   "source": [
    "4. Use logical indexing to create an array with 1's at locations violating the standard, and 0's at locations not violating the standard. Plot using ``plot_grid``."
   ]
  },
  {
   "cell_type": "markdown",
   "metadata": {
    "slideshow": {
     "slide_type": "fragment"
    }
   },
   "source": [
    "5. Assume the following  logistic function (*completely made up, not a real relationship*) for excess cardiovascular deaths per 1,000 people in the region, based on the daily PM10 concentration. \n",
    "\n",
    "$$deaths = \\frac{15}{1 + \\exp(-(PM10 - 80) / 35)}$$\n",
    "\n",
    "Create a function that uses NumPy to calculate the excess cardio deaths for a grid of pm10 observations, then calculate and plot the grid of excess deaths."
   ]
  }
 ],
 "metadata": {
  "celltoolbar": "Slideshow",
  "kernelspec": {
   "display_name": "Python 3",
   "language": "python",
   "name": "python3"
  },
  "language_info": {
   "codemirror_mode": {
    "name": "ipython",
    "version": 3
   },
   "file_extension": ".py",
   "mimetype": "text/x-python",
   "name": "python",
   "nbconvert_exporter": "python",
   "pygments_lexer": "ipython3",
   "version": "3.7.6"
  }
 },
 "nbformat": 4,
 "nbformat_minor": 4
}
