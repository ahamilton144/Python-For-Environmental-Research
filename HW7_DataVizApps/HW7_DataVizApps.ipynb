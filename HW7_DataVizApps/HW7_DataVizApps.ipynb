{
 "cells": [
  {
   "cell_type": "markdown",
   "metadata": {},
   "source": [
    "# Homework 7: Finding, visualizing, and regressing data\n",
    "ENVR 890-001: Python for Environmental Research, Fall 2022\n",
    "\n",
    "By Andrew Hamilton, modified by Rosa Cuppari. \n",
    "\n",
    "**Due October 28 before class**\n",
    "\n",
    "This assignment is open ended. I'd like you to do the following:\n",
    "1. Find an interesting dataset related to your research or interests.\n",
    "1. Read that dataset into Python, and clean it if necessary (e.g., NAN's or weird anomalous values)\n",
    "1. Perform any interesting analysis or groupings if you want to (e.g., annual or monthly groupings). Not necessary if this isn't helpful for your data.\n",
    "1. Create a function that will plot data with labels/good axes. \n",
    "1. Create at least two different visualizations (e.g., line plots, scatter plots, histograms, box plots, etc.) using your function(s). \n",
    "\n",
    "Submit your results in a Python file or Jupyter notebook. "
   ]
  }
 ],
 "metadata": {
  "kernelspec": {
   "display_name": "Python 3 (ipykernel)",
   "language": "python",
   "name": "python3"
  },
  "language_info": {
   "codemirror_mode": {
    "name": "ipython",
    "version": 3
   },
   "file_extension": ".py",
   "mimetype": "text/x-python",
   "name": "python",
   "nbconvert_exporter": "python",
   "pygments_lexer": "ipython3",
   "version": "3.9.7"
  }
 },
 "nbformat": 4,
 "nbformat_minor": 4
}
