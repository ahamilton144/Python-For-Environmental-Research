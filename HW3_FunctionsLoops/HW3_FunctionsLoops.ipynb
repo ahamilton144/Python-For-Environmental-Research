{
 "cells": [
  {
   "cell_type": "markdown",
   "metadata": {},
   "source": [
    "# Homework 3: Conditions, loops, and functions\n",
    "ENVR 890-010: Python for Environmental Research, Fall 2020\n",
    "\n",
    "By Rosa Cuppari. Material adapted from Andrew Hamilton and Greg Characklis. \n",
    "\n",
    "### Instructions\n",
    "For this assignment, we will build a model simulating the operation of a simple reservoir, building off the ideas presented in the decision tree in class. This time, we have a slightly more complex reservoir operations model. \n",
    "\n",
    "**Due date: Sep. 4, before class**\n",
    "\n",
    "Our simulation model will work as follows over the course of 365 days (see next cell for a visual representation) and is based on a simple mass balance model: water stored (S) during a given day is equal to the water stored the day before plus any inflows (i) minus water released to meet demands (q) and minus water spilled because the reservoir was too full (w). To simulate this, we will: \n",
    "1. Measure the water stored in the reservoir at time t-1 ($S_{t-1}$) and forecast inflows at time t ($i_t$)\n",
    "1. If $S_{t-1}$+$i_t$ is greater than the maximum storage capacity, then spill the difference\n",
    "    1. Forecast demand for water at time t ($q_t$) based on the season \n",
    "    1. If $q_t$ is less than or equal to $S_t$ (which is equal to the lesser of maximum capacity or $S_{t-1}$+$i_t$), release $q_t$ and\n",
    "    1. Else, release $S_t$\n",
    "    1. Update $S_t$ to reflect any water released to meet demands\n",
    "1. Else, don't spill water \n",
    "    1. Forecast demand for water at time t ($q_t$) based on the season \n",
    "    1. If $q_t$ is less than or equal to $S_t$, release $q_t$ and\n",
    "    1. Else, release $S_t$\n",
    "    1. Update $S_t$ to reflect any water released to meet demands\n",
    "\n",
    "Assume our reservoir is full at the start of our for loop. At each iteration, storage ($S_t$) is equal to storage in the previous step ($S_(t-1)$) plus inflows ($i_t$) minus releases ($q_t$) and spill ($w_t$). We know that the reservoir has a maximum storage capacity of 5000 acre-feet. We also know that how much water is being demanded during each day. Demand will be a random number between 500 and 2500 acre-feet, and inflows will similarly vary. \n",
    "\n",
    "I will set the starting variables, import modules, and create a skeleton for the function. **Your job will be to create a function that can take the starting amount of storage, iterations (how many days to run the loop for), and inputs of inflow and demand and return a dataframe with each iteration's storage level, spills, and releases. The for loop should also print a statment whenever demand is greater than storage, indicating during which iteration this happens. All incomplete blocks are referenced with \"## TODO\".**\n",
    "\n",
    "**Don't forget to save a new copy of this notebook with your last name, and resave when you are finished.**"
   ]
  },
  {
   "cell_type": "markdown",
   "metadata": {},
   "source": [
    "<img src=\"lec3_reservoir.jpg\" style=\"width: 700px;\" />"
   ]
  },
  {
   "cell_type": "markdown",
   "metadata": {},
   "source": [
    "### Set up\n",
    "First we need to make sure our notebook is working from the proper \"working directory\", and create a folder to hold our output. We also need to import the modules we need: in this case, os so that we can change our working directory and pandas so that we can write our output csv file."
   ]
  },
  {
   "cell_type": "code",
   "execution_count": 3,
   "metadata": {},
   "outputs": [
    {
     "name": "stdout",
     "output_type": "stream",
     "text": [
      "C:\\Users\\rcuppari\\OneDrive - University of North Carolina at Chapel Hill\\Teaching\\Python-For-Environmental-Research\\HW3_FunctionsLoops\n"
     ]
    }
   ],
   "source": [
    "import os\n",
    "import pandas as pd\n",
    "import numpy as np \n",
    "\n",
    "wd = os.getcwd()\n",
    "print(wd) "
   ]
  },
  {
   "cell_type": "code",
   "execution_count": 4,
   "metadata": {},
   "outputs": [],
   "source": [
    "# ##:  if wd is not where you want it to be (the location of this notebook), you can set it \n",
    "# wd = 'your_wd_here'\n",
    "# os.chdir(wd)"
   ]
  },
  {
   "cell_type": "code",
   "execution_count": 5,
   "metadata": {},
   "outputs": [
    {
     "ename": "TypeError",
     "evalue": "makedirs() got an unexpected keyword argument 'exist_ok'",
     "output_type": "error",
     "traceback": [
      "\u001b[1;31m---------------------------------------------------------------------------\u001b[0m",
      "\u001b[1;31mTypeError\u001b[0m                                 Traceback (most recent call last)",
      "\u001b[1;32m<ipython-input-5-071719be8ca4>\u001b[0m in \u001b[0;36m<module>\u001b[1;34m()\u001b[0m\n\u001b[0;32m      1\u001b[0m \u001b[1;31m## Create a directory to hold your output file\u001b[0m\u001b[1;33m\u001b[0m\u001b[1;33m\u001b[0m\u001b[0m\n\u001b[1;32m----> 2\u001b[1;33m \u001b[0mos\u001b[0m\u001b[1;33m.\u001b[0m\u001b[0mmakedirs\u001b[0m\u001b[1;33m(\u001b[0m\u001b[0mwd\u001b[0m \u001b[1;33m+\u001b[0m \u001b[1;34m'/output/'\u001b[0m\u001b[1;33m,\u001b[0m \u001b[0mexist_ok\u001b[0m \u001b[1;33m=\u001b[0m \u001b[0mTrue\u001b[0m\u001b[1;33m)\u001b[0m\u001b[1;33m\u001b[0m\u001b[0m\n\u001b[0m",
      "\u001b[1;31mTypeError\u001b[0m: makedirs() got an unexpected keyword argument 'exist_ok'"
     ]
    }
   ],
   "source": [
    "## Create a directory to hold your output file\n",
    "os.makedirs(wd + '/output/', exist_ok = True)"
   ]
  },
  {
   "cell_type": "code",
   "execution_count": null,
   "metadata": {},
   "outputs": [],
   "source": [
    "# Now we set up the known parameters: storage maximum and storage at the start\n",
    "max_capacity = 5000\n",
    "S0=5000\n",
    "\n",
    "# ## set number of days"
   ]
  },
  {
   "cell_type": "code",
   "execution_count": null,
   "metadata": {},
   "outputs": [],
   "source": [
    "# ## create lists to hold information that we want our function to save \n",
    "storage_levels=[]\n",
    "# ## set the first row of the storage levels dataframe = to starting storage\n",
    "# ## create a list called \"daily_releases\" and \"daily_spill\""
   ]
  },
  {
   "cell_type": "code",
   "execution_count": null,
   "metadata": {},
   "outputs": [],
   "source": [
    "# also read in our demand and inflow datasets\n",
    "demand=list(pd.read_csv(\"demand.csv\")['demand'].values)\n",
    "print(demand[0:10])\n",
    "print()\n",
    "\n",
    "inflow=list(pd.read_csv('inflow.csv')['inflow'].values)\n",
    "print(inflow[0:10])"
   ]
  },
  {
   "cell_type": "code",
   "execution_count": 12,
   "metadata": {},
   "outputs": [],
   "source": [
    "# ## set up a function that will perform the for loop:\n",
    "# NOTE: instead of feeding your function simply the starting storage, \n",
    "# I would suggest that you start the for loop on day one, and then each day check storage at t-1\n",
    "# you can also set up a separate \"temporary\" St variable to document storage levels after any spill and before releases\n",
    "def reservoir_loop():\n",
    "     for ## complete this statement (make this a for loop)\n",
    "#    ## check storage on previous day & demand\n",
    "#    ## decide whether to spill water or not \n",
    "#    ## decide whether to release water for demands \n",
    "#    ## print statement if water is insufficient to meet demands \n",
    "    return storage_levels, daily_releases"
   ]
  },
  {
   "cell_type": "code",
   "execution_count": 9,
   "metadata": {},
   "outputs": [
    {
     "ename": "NameError",
     "evalue": "name 'days' is not defined",
     "output_type": "error",
     "traceback": [
      "\u001b[1;31m---------------------------------------------------------------------------\u001b[0m",
      "\u001b[1;31mNameError\u001b[0m                                 Traceback (most recent call last)",
      "\u001b[1;32m<ipython-input-9-e59a76260fb9>\u001b[0m in \u001b[0;36m<module>\u001b[1;34m\u001b[0m\n\u001b[0;32m      3\u001b[0m \u001b[0mstorage_levels\u001b[0m\u001b[1;33m=\u001b[0m\u001b[1;33m[\u001b[0m\u001b[0mS0\u001b[0m\u001b[1;33m]\u001b[0m\u001b[1;33m\u001b[0m\u001b[1;33m\u001b[0m\u001b[0m\n\u001b[0;32m      4\u001b[0m \u001b[1;33m\u001b[0m\u001b[0m\n\u001b[1;32m----> 5\u001b[1;33m \u001b[1;32mfor\u001b[0m \u001b[0mi\u001b[0m \u001b[1;32min\u001b[0m \u001b[0mrange\u001b[0m\u001b[1;33m(\u001b[0m\u001b[1;36m1\u001b[0m\u001b[1;33m,\u001b[0m\u001b[0mdays\u001b[0m\u001b[1;33m+\u001b[0m\u001b[1;36m1\u001b[0m\u001b[1;33m)\u001b[0m\u001b[1;33m:\u001b[0m\u001b[1;33m\u001b[0m\u001b[1;33m\u001b[0m\u001b[0m\n\u001b[0m\u001b[0;32m      6\u001b[0m     \u001b[0mSt_1\u001b[0m\u001b[1;33m=\u001b[0m\u001b[0mstorage_levels\u001b[0m\u001b[1;33m[\u001b[0m\u001b[0mi\u001b[0m\u001b[1;33m-\u001b[0m\u001b[1;36m1\u001b[0m\u001b[1;33m]\u001b[0m\u001b[1;33m\u001b[0m\u001b[1;33m\u001b[0m\u001b[0m\n",
      "\u001b[1;31mNameError\u001b[0m: name 'days' is not defined"
     ]
    }
   ],
   "source": [
    "# ## run your function \n",
    "# There's a few different ways to build your function -- I have commented out the following lines\n",
    "# because I want it to be clear that there are a few different ways to initialize or structure your code\n",
    "# St=[S0]\n",
    "# storage_levels=[S0]\n",
    "\n",
    "# I have commented out the for loop I had below -- there's two options here: run the definition for a certain \n",
    "# amount of time (as we did in the class example), OR include the for loop in the defined function. Given \n",
    "# how we talked about the definition & the for loop in class on 9/10 and in office hours, I think the latter is best :)\n",
    "# for i in range(1,days+1): \n",
    "#    St_1=storage_levels[i-1]"
   ]
  },
  {
   "cell_type": "code",
   "execution_count": 17,
   "metadata": {},
   "outputs": [
    {
     "ename": "NameError",
     "evalue": "name 'storage_df' is not defined",
     "output_type": "error",
     "traceback": [
      "\u001b[1;31m---------------------------------------------------------------------------\u001b[0m",
      "\u001b[1;31mNameError\u001b[0m                                 Traceback (most recent call last)",
      "\u001b[1;32m<ipython-input-17-4801e5d840dc>\u001b[0m in \u001b[0;36m<module>\u001b[1;34m\u001b[0m\n\u001b[0;32m      3\u001b[0m \u001b[1;33m\u001b[0m\u001b[0m\n\u001b[0;32m      4\u001b[0m \u001b[1;31m## NOTE: we will learn how to write to a csv later - for now just check that it saved and the numbers are consistent\u001b[0m\u001b[1;33m\u001b[0m\u001b[1;33m\u001b[0m\u001b[1;33m\u001b[0m\u001b[0m\n\u001b[1;32m----> 5\u001b[1;33m \u001b[0mpd\u001b[0m\u001b[1;33m.\u001b[0m\u001b[0mDataFrame\u001b[0m\u001b[1;33m(\u001b[0m\u001b[0mstorage_df\u001b[0m\u001b[1;33m)\u001b[0m\u001b[1;33m.\u001b[0m\u001b[0mto_csv\u001b[0m\u001b[1;33m(\u001b[0m\u001b[1;34m\"output/storage_df.csv\"\u001b[0m\u001b[1;33m)\u001b[0m \u001b[1;31m##add your last name\u001b[0m\u001b[1;33m\u001b[0m\u001b[1;33m\u001b[0m\u001b[0m\n\u001b[0m\u001b[0;32m      6\u001b[0m \u001b[0mpd\u001b[0m\u001b[1;33m.\u001b[0m\u001b[0mDataFrame\u001b[0m\u001b[1;33m(\u001b[0m\u001b[0mreleases_df\u001b[0m\u001b[1;33m)\u001b[0m\u001b[1;33m.\u001b[0m\u001b[0mto_csv\u001b[0m\u001b[1;33m(\u001b[0m\u001b[1;34m\"output/releases_df.csv\"\u001b[0m\u001b[1;33m)\u001b[0m \u001b[1;31m##add your last name\u001b[0m\u001b[1;33m\u001b[0m\u001b[1;33m\u001b[0m\u001b[0m\n",
      "\u001b[1;31mNameError\u001b[0m: name 'storage_df' is not defined"
     ]
    }
   ],
   "source": [
    "## NOTE: I \"storage_df\" is a different name than \"storage_levels\" -- \n",
    "## how do we save the function output with the name storage_df?\n",
    "\n",
    "## NOTE: we will learn how to write to a csv later - for now just check that it saved correctly\n",
    "pd.DataFrame(storage_df).to_csv(\"output/storage_df.csv\") ##add your last name \n",
    "pd.DataFrame(releases_df).to_csv(\"output/releases_df.csv\") ##add your last name "
   ]
  },
  {
   "cell_type": "code",
   "execution_count": 18,
   "metadata": {},
   "outputs": [],
   "source": [
    "# ## Bonus coding experiments: do your results change if you start with a lower storage level? \n",
    "# ##What about if the maximum capacity is lower?\n",
    "# ##How important are the changes in demand/inflows by season (1 = winter, 2 = spring, etc.)? \n",
    "# ##you can read in seasons as a new list: season=list(pd.read_csv(\"demand.csv\")['season'].values)"
   ]
  }
 ],
 "metadata": {
  "kernelspec": {
   "display_name": "Python 2",
   "language": "python",
   "name": "python2"
  },
  "language_info": {
   "codemirror_mode": {
    "name": "ipython",
    "version": 2
   },
   "file_extension": ".py",
   "mimetype": "text/x-python",
   "name": "python",
   "nbconvert_exporter": "python",
   "pygments_lexer": "ipython2",
   "version": "2.7.15"
  }
 },
 "nbformat": 4,
 "nbformat_minor": 2
}
