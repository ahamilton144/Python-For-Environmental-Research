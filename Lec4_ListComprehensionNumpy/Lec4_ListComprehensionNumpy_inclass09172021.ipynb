{
 "cells": [
  {
   "cell_type": "markdown",
   "metadata": {
    "slideshow": {
     "slide_type": "slide"
    }
   },
   "source": [
    "# Lecture 4: List comprehension & NumPy\n",
    "ENVR 890-010: Python for Environmental Research, Fall 2021\n",
    "\n",
    "September 10, 2021\n",
    "\n",
    "By Andrew Hamilton. Some material adapted from Greg Characklis, David Gorelick and H.B. Zeff."
   ]
  },
  {
   "cell_type": "markdown",
   "metadata": {
    "slideshow": {
     "slide_type": "fragment"
    }
   },
   "source": [
    "## Summary\n",
    "In this lecture, we will first learn about using **list comprehensions** to write for loops in a more efficient and compact way. We will then move beyond the standard data structures (list, tuple, dictionary) to a more advanced data structure called a **NumPy array**. Along the way, we will learn how **logical indexing** can be used with NumPy as a powerful tool to retrieve and manipulate particular subsets of data."
   ]
  },
  {
   "cell_type": "markdown",
   "metadata": {
    "slideshow": {
     "slide_type": "slide"
    }
   },
   "source": [
    "## List comprehensions\n",
    "As we learned last week, **loops** can be used to execute a code block for every item in a list. For example, to a list of all integer degrees between 0 and 90 converted to radians, we can write:"
   ]
  },
  {
   "cell_type": "code",
   "execution_count": 1,
   "metadata": {
    "slideshow": {
     "slide_type": "fragment"
    }
   },
   "outputs": [],
   "source": [
    "import math\n",
    "\n",
    "def degrees_to_radians(degrees):\n",
    "    return degrees * (2 * math.pi / 360)"
   ]
  },
  {
   "cell_type": "code",
   "execution_count": 2,
   "metadata": {
    "slideshow": {
     "slide_type": "fragment"
    }
   },
   "outputs": [
    {
     "name": "stdout",
     "output_type": "stream",
     "text": [
      "[0, 1, 2, 3, 4, 5, 6, 7, 8, 9, 10, 11, 12, 13, 14, 15, 16, 17, 18, 19, 20, 21, 22, 23, 24, 25, 26, 27, 28, 29, 30, 31, 32, 33, 34, 35, 36, 37, 38, 39, 40, 41, 42, 43, 44, 45, 46, 47, 48, 49, 50, 51, 52, 53, 54, 55, 56, 57, 58, 59, 60, 61, 62, 63, 64, 65, 66, 67, 68, 69, 70, 71, 72, 73, 74, 75, 76, 77, 78, 79, 80, 81, 82, 83, 84, 85, 86, 87, 88, 89, 90]\n",
      "\n",
      "[0.0, 0.017453292519943295, 0.03490658503988659, 0.05235987755982989, 0.06981317007977318, 0.08726646259971647, 0.10471975511965978, 0.12217304763960307, 0.13962634015954636, 0.15707963267948966, 0.17453292519943295, 0.19198621771937624, 0.20943951023931956, 0.22689280275926285, 0.24434609527920614, 0.2617993877991494, 0.2792526803190927, 0.29670597283903605, 0.3141592653589793, 0.33161255787892263, 0.3490658503988659, 0.3665191429188092, 0.3839724354387525, 0.4014257279586958, 0.4188790204786391, 0.4363323129985824, 0.4537856055185257, 0.47123889803846897, 0.4886921905584123, 0.5061454830783556, 0.5235987755982988, 0.5410520681182421, 0.5585053606381855, 0.5759586531581288, 0.5934119456780721, 0.6108652381980153, 0.6283185307179586, 0.6457718232379019, 0.6632251157578453, 0.6806784082777885, 0.6981317007977318, 0.7155849933176751, 0.7330382858376184, 0.7504915783575618, 0.767944870877505, 0.7853981633974483, 0.8028514559173916, 0.8203047484373349, 0.8377580409572782, 0.8552113334772214, 0.8726646259971648, 0.8901179185171081, 0.9075712110370514, 0.9250245035569946, 0.9424777960769379, 0.9599310885968813, 0.9773843811168246, 0.9948376736367679, 1.0122909661567112, 1.0297442586766545, 1.0471975511965976, 1.064650843716541, 1.0821041362364843, 1.0995574287564276, 1.117010721276371, 1.1344640137963142, 1.1519173063162575, 1.1693705988362009, 1.1868238913561442, 1.2042771838760873, 1.2217304763960306, 1.239183768915974, 1.2566370614359172, 1.2740903539558606, 1.2915436464758039, 1.3089969389957472, 1.3264502315156905, 1.3439035240356338, 1.361356816555577, 1.3788101090755203, 1.3962634015954636, 1.413716694115407, 1.4311699866353502, 1.4486232791552935, 1.4660765716752369, 1.4835298641951802, 1.5009831567151235, 1.5184364492350666, 1.53588974175501, 1.5533430342749532, 1.5707963267948966]\n",
      "\n",
      "91\n"
     ]
    }
   ],
   "source": [
    "### create list of degrees\n",
    "degrees = list(range(0, 91))\n",
    "\n",
    "### use for loop to create list of radians\n",
    "radians = []\n",
    "for d in range(0, 91):\n",
    "    radians.append( degrees_to_radians(d) )\n",
    "    \n",
    "print(degrees)\n",
    "print()\n",
    "print(radians)\n",
    "print()\n",
    "print( len(radians) )"
   ]
  },
  {
   "cell_type": "markdown",
   "metadata": {
    "slideshow": {
     "slide_type": "fragment"
    }
   },
   "source": [
    "[**List comprehensions**](https://docs.python.org/3/tutorial/datastructures.html) are a way to write for loops in a more compact and computationally efficient way:"
   ]
  },
  {
   "cell_type": "code",
   "execution_count": 3,
   "metadata": {
    "slideshow": {
     "slide_type": "fragment"
    }
   },
   "outputs": [
    {
     "name": "stdout",
     "output_type": "stream",
     "text": [
      "[0.0, 0.017453292519943295, 0.03490658503988659, 0.05235987755982989, 0.06981317007977318, 0.08726646259971647, 0.10471975511965978, 0.12217304763960307, 0.13962634015954636, 0.15707963267948966, 0.17453292519943295, 0.19198621771937624, 0.20943951023931956, 0.22689280275926285, 0.24434609527920614, 0.2617993877991494, 0.2792526803190927, 0.29670597283903605, 0.3141592653589793, 0.33161255787892263, 0.3490658503988659, 0.3665191429188092, 0.3839724354387525, 0.4014257279586958, 0.4188790204786391, 0.4363323129985824, 0.4537856055185257, 0.47123889803846897, 0.4886921905584123, 0.5061454830783556, 0.5235987755982988, 0.5410520681182421, 0.5585053606381855, 0.5759586531581288, 0.5934119456780721, 0.6108652381980153, 0.6283185307179586, 0.6457718232379019, 0.6632251157578453, 0.6806784082777885, 0.6981317007977318, 0.7155849933176751, 0.7330382858376184, 0.7504915783575618, 0.767944870877505, 0.7853981633974483, 0.8028514559173916, 0.8203047484373349, 0.8377580409572782, 0.8552113334772214, 0.8726646259971648, 0.8901179185171081, 0.9075712110370514, 0.9250245035569946, 0.9424777960769379, 0.9599310885968813, 0.9773843811168246, 0.9948376736367679, 1.0122909661567112, 1.0297442586766545, 1.0471975511965976, 1.064650843716541, 1.0821041362364843, 1.0995574287564276, 1.117010721276371, 1.1344640137963142, 1.1519173063162575, 1.1693705988362009, 1.1868238913561442, 1.2042771838760873, 1.2217304763960306, 1.239183768915974, 1.2566370614359172, 1.2740903539558606, 1.2915436464758039, 1.3089969389957472, 1.3264502315156905, 1.3439035240356338, 1.361356816555577, 1.3788101090755203, 1.3962634015954636, 1.413716694115407, 1.4311699866353502, 1.4486232791552935, 1.4660765716752369, 1.4835298641951802, 1.5009831567151235, 1.5184364492350666, 1.53588974175501, 1.5533430342749532, 1.5707963267948966]\n",
      "\n",
      "True\n"
     ]
    }
   ],
   "source": [
    "### do the same thing with list comprehension instead of for loop\n",
    "radians_lc = [degrees_to_radians(d) for d in degrees]\n",
    "\n",
    "print(radians_lc)\n",
    "print()\n",
    "### check that the two lists are equivalent\n",
    "print(radians == radians_lc)"
   ]
  },
  {
   "cell_type": "markdown",
   "metadata": {
    "slideshow": {
     "slide_type": "fragment"
    }
   },
   "source": [
    "The list comprehension syntax can be thought of as an **expression** (e.g., what to do to each element) followed by a **for clause**, all surrounded by brackets. \n",
    "\n",
    "We can include an **if clause** to include only certain elements (for example, those whose degrees are divisible by 10) in the final list:"
   ]
  },
  {
   "cell_type": "code",
   "execution_count": 4,
   "metadata": {
    "slideshow": {
     "slide_type": "fragment"
    }
   },
   "outputs": [
    {
     "name": "stdout",
     "output_type": "stream",
     "text": [
      "[0.0, 0.17453292519943295, 0.3490658503988659, 0.5235987755982988, 0.6981317007977318, 0.8726646259971648, 1.0471975511965976, 1.2217304763960306, 1.3962634015954636, 1.5707963267948966]\n",
      "\n",
      "10\n"
     ]
    }
   ],
   "source": [
    "### first use for loop combined with if statement\n",
    "radians_divisible10 = []\n",
    "for d in degrees:\n",
    "    if d % 10 == 0:\n",
    "        radians_divisible10.append( degrees_to_radians(d) )\n",
    "print(radians_divisible10)\n",
    "print()\n",
    "print(len(radians_divisible10))"
   ]
  },
  {
   "cell_type": "code",
   "execution_count": 5,
   "metadata": {
    "slideshow": {
     "slide_type": "fragment"
    }
   },
   "outputs": [
    {
     "name": "stdout",
     "output_type": "stream",
     "text": [
      "[0.0, 0.17453292519943295, 0.3490658503988659, 0.5235987755982988, 0.6981317007977318, 0.8726646259971648, 1.0471975511965976, 1.2217304763960306, 1.3962634015954636, 1.5707963267948966]\n",
      "\n",
      "True\n"
     ]
    }
   ],
   "source": [
    "### now repeat with list comprehension\n",
    "radians_divisible10_lc = [degrees_to_radians(d) for d in degrees if d % 10 == 0]\n",
    "\n",
    "print(radians_divisible10_lc)\n",
    "print()\n",
    "\n",
    "print(radians_divisible10 == radians_divisible10_lc)"
   ]
  },
  {
   "cell_type": "markdown",
   "metadata": {
    "slideshow": {
     "slide_type": "slide"
    }
   },
   "source": [
    "### In class exercise\n",
    "Assume we work for the county office of environmental quality, and are administering a program that will provide subsidized water quality assessments for all households that rely on private groundwater wells and have incomes less than \\$30,000 per year. \n",
    "\n",
    "First we will create random demographic data for 1000 households (but pretend for the exercise that this was retrieved from a county database)."
   ]
  },
  {
   "cell_type": "code",
   "execution_count": 6,
   "metadata": {
    "slideshow": {
     "slide_type": "fragment"
    }
   },
   "outputs": [],
   "source": [
    "import random\n",
    "## numeric index for each household in county\n",
    "household = ['H' + str(i) for i in list(range(1000))]\n",
    "# print(household)"
   ]
  },
  {
   "cell_type": "code",
   "execution_count": 7,
   "metadata": {
    "slideshow": {
     "slide_type": "fragment"
    }
   },
   "outputs": [],
   "source": [
    "## randomly assign water source for each household\n",
    "water = [random.choices(['municipal', 'private'], weights = [0.6, 0.4], k=1)[0] for h in household]\n",
    "# print(water)"
   ]
  },
  {
   "cell_type": "code",
   "execution_count": 8,
   "metadata": {
    "slideshow": {
     "slide_type": "fragment"
    }
   },
   "outputs": [],
   "source": [
    "## randomly assign income for each household from Normal/Gaussian distribution\n",
    "income = [max(random.gauss(50000, 20000), 0) for h in household]\n",
    "# print(income)"
   ]
  },
  {
   "cell_type": "markdown",
   "metadata": {},
   "source": [
    "1. Use list comprehension to find the list of households with a private water source? How many are there?"
   ]
  },
  {
   "cell_type": "code",
   "execution_count": 9,
   "metadata": {},
   "outputs": [
    {
     "data": {
      "text/plain": [
       "385"
      ]
     },
     "execution_count": 9,
     "metadata": {},
     "output_type": "execute_result"
    }
   ],
   "source": [
    "private_hh = [household[i] for i in range(1000) if water[i] == 'private']\n",
    "len(private_hh)"
   ]
  },
  {
   "cell_type": "code",
   "execution_count": 10,
   "metadata": {},
   "outputs": [],
   "source": [
    "# private_hh = []\n",
    "# for i,hh in enumerate(household):\n",
    "#     if water[i] == 'private':\n",
    "#         private_hh.append(hh)\n",
    "# print(private_hh)"
   ]
  },
  {
   "cell_type": "code",
   "execution_count": 11,
   "metadata": {},
   "outputs": [
    {
     "name": "stdout",
     "output_type": "stream",
     "text": [
      "0 r\n",
      "1 g\n"
     ]
    }
   ],
   "source": [
    "### enumerate example\n",
    "l = ['r','g']\n",
    "# for e in l:\n",
    "#     print(e)\n",
    "    \n",
    "# for i in range(len(l)):\n",
    "#     print(i)\n",
    "    \n",
    "# for i in range(len(l)):\n",
    "#     print(l[i])\n",
    "\n",
    "# for i,e in enumerate(l):\n",
    "#     print(i, e)\n",
    "\n",
    "for i in range(len(l)):\n",
    "    print(i, l[i])"
   ]
  },
  {
   "cell_type": "markdown",
   "metadata": {
    "slideshow": {
     "slide_type": "fragment"
    }
   },
   "source": [
    "2. How many households meet both criteria for testing?"
   ]
  },
  {
   "cell_type": "code",
   "execution_count": 12,
   "metadata": {},
   "outputs": [],
   "source": [
    "# eligible = [household[i] for i in range(len(household)) if (water[i] == 'private') and (income[i] < 30000) ]\n",
    "# print(len(eligible))\n",
    "\n",
    "# eligible = [private_hh[i] for i in range(len(private_hh)) if (income[i] < 30000) ]\n",
    "# print(len(eligible))"
   ]
  },
  {
   "cell_type": "markdown",
   "metadata": {},
   "source": [
    "3. What are the average incomes for households with municipal and private water, respectively? Use the statistics.mean() function."
   ]
  },
  {
   "cell_type": "code",
   "execution_count": 13,
   "metadata": {},
   "outputs": [
    {
     "name": "stdout",
     "output_type": "stream",
     "text": [
      "47846.21276418209\n"
     ]
    }
   ],
   "source": [
    "import statistics\n",
    "muni_income = [income[i] for i in range(len(household)) if (water[i] == 'municipal') ]\n",
    "print(statistics.mean(muni_income))"
   ]
  },
  {
   "cell_type": "code",
   "execution_count": 14,
   "metadata": {},
   "outputs": [
    {
     "name": "stdout",
     "output_type": "stream",
     "text": [
      "2\n"
     ]
    }
   ],
   "source": [
    "### import statistics library\n",
    "import statistics\n",
    "\n",
    "### test example to show how to use mean function\n",
    "test_mean = statistics.mean([1,2,3])\n",
    "print(test_mean)"
   ]
  },
  {
   "cell_type": "markdown",
   "metadata": {
    "slideshow": {
     "slide_type": "slide"
    }
   },
   "source": [
    "## NumPy\n",
    "[NumPy](https://numpy.org/doc/stable/) is one of the most popular packages for scientific computing and data science, and is included in the standard Anaconda installation. It is commonly imported with the **alias** ``np``. "
   ]
  },
  {
   "cell_type": "code",
   "execution_count": 15,
   "metadata": {
    "slideshow": {
     "slide_type": "fragment"
    }
   },
   "outputs": [],
   "source": [
    "import numpy as np"
   ]
  },
  {
   "cell_type": "markdown",
   "metadata": {
    "slideshow": {
     "slide_type": "slide"
    }
   },
   "source": [
    "### Creating NumPy arrays\n",
    "NumPy supports a new type of data structure: the **NumPy array**. NumPy arrays are designed to handle large, multi-dimensional arrays of numbers much more easily and efficiently than standard lists."
   ]
  },
  {
   "cell_type": "code",
   "execution_count": 16,
   "metadata": {
    "slideshow": {
     "slide_type": "fragment"
    }
   },
   "outputs": [
    {
     "name": "stdout",
     "output_type": "stream",
     "text": [
      "[[1, 2, 3, 4, 5], [10, 9, 8, 7, 6]] <class 'list'>\n"
     ]
    }
   ],
   "source": [
    "# here is a standard list with two dimensions\n",
    "l = [[1, 2, 3, 4, 5], [10, 9, 8, 7, 6]]\n",
    "print(l, type(l))"
   ]
  },
  {
   "cell_type": "code",
   "execution_count": 17,
   "metadata": {
    "slideshow": {
     "slide_type": "fragment"
    }
   },
   "outputs": [
    {
     "name": "stdout",
     "output_type": "stream",
     "text": [
      "[[ 1  2  3  4  5]\n",
      " [10  9  8  7  6]] <class 'numpy.ndarray'>\n"
     ]
    }
   ],
   "source": [
    "# create a 2D numpy array from l\n",
    "a = np.array(l)\n",
    "print(a, type(a))"
   ]
  },
  {
   "cell_type": "markdown",
   "metadata": {
    "slideshow": {
     "slide_type": "fragment"
    }
   },
   "source": [
    "Note that, unlike the basic data structures such as lists, **all elements in a NumPy array must be the same type**. Although string types are allowed, NumPy is most commonly used with numeric types such as int and float."
   ]
  },
  {
   "cell_type": "markdown",
   "metadata": {
    "slideshow": {
     "slide_type": "fragment"
    }
   },
   "source": [
    "We access the elements the same way as lists:"
   ]
  },
  {
   "cell_type": "code",
   "execution_count": 18,
   "metadata": {
    "slideshow": {
     "slide_type": "fragment"
    }
   },
   "outputs": [
    {
     "name": "stdout",
     "output_type": "stream",
     "text": [
      "10\n",
      "10\n"
     ]
    }
   ],
   "source": [
    "print(l[1][0])\n",
    "print(a[1][0])"
   ]
  },
  {
   "cell_type": "markdown",
   "metadata": {
    "slideshow": {
     "slide_type": "fragment"
    }
   },
   "source": [
    "Or, alternatively, in a single brackets and separated by a comma:"
   ]
  },
  {
   "cell_type": "code",
   "execution_count": 19,
   "metadata": {
    "slideshow": {
     "slide_type": "fragment"
    }
   },
   "outputs": [
    {
     "name": "stdout",
     "output_type": "stream",
     "text": [
      "3\n"
     ]
    }
   ],
   "source": [
    "print(a[0, 2])"
   ]
  },
  {
   "cell_type": "markdown",
   "metadata": {
    "slideshow": {
     "slide_type": "fragment"
    }
   },
   "source": [
    "We can get the number of dimensions and the shape of an array using its ``ndim`` and ``shape`` **properties**. For a 2D array, the shape is (number of rows, number of columns). For larger arrays, it always goes from the innermost set of brackets to the outermost set of brackets."
   ]
  },
  {
   "cell_type": "code",
   "execution_count": 20,
   "metadata": {
    "slideshow": {
     "slide_type": "fragment"
    }
   },
   "outputs": [
    {
     "name": "stdout",
     "output_type": "stream",
     "text": [
      "2\n",
      "(2, 5)\n",
      "\n",
      "1\n",
      "2\n",
      "3\n",
      "4\n",
      "5\n",
      "\n",
      "10\n",
      "9\n",
      "8\n",
      "7\n",
      "6\n",
      "\n"
     ]
    }
   ],
   "source": [
    "print( a.ndim )\n",
    "print( a.shape )\n",
    "print()\n",
    "\n",
    "### loop over rows\n",
    "for i in range(a.shape[0]):\n",
    "    ### loop over columns\n",
    "    for j in range(a.shape[1]):\n",
    "        print( a[i, j])\n",
    "    print()"
   ]
  },
  {
   "cell_type": "markdown",
   "metadata": {
    "slideshow": {
     "slide_type": "fragment"
    }
   },
   "source": [
    "We can also do multi-dimensional **slices**"
   ]
  },
  {
   "cell_type": "code",
   "execution_count": 21,
   "metadata": {
    "slideshow": {
     "slide_type": "fragment"
    }
   },
   "outputs": [
    {
     "name": "stdout",
     "output_type": "stream",
     "text": [
      "[[2 3 4]\n",
      " [9 8 7]]\n"
     ]
    }
   ],
   "source": [
    "print(a[:, 1:4])"
   ]
  },
  {
   "cell_type": "markdown",
   "metadata": {
    "slideshow": {
     "slide_type": "slide"
    }
   },
   "source": [
    "NumPy also has handy **functions** for creating different types of arrays. For example, we can create a new array filled with ones or zeros:"
   ]
  },
  {
   "cell_type": "code",
   "execution_count": 22,
   "metadata": {
    "slideshow": {
     "slide_type": "fragment"
    }
   },
   "outputs": [
    {
     "name": "stdout",
     "output_type": "stream",
     "text": [
      "[1. 1. 1.] (3,)\n"
     ]
    }
   ],
   "source": [
    "# with a single argument, we will get a 1D array of that length\n",
    "a = np.ones(3)\n",
    "print(a, a.shape)"
   ]
  },
  {
   "cell_type": "code",
   "execution_count": 23,
   "metadata": {
    "scrolled": false,
    "slideshow": {
     "slide_type": "fragment"
    }
   },
   "outputs": [
    {
     "name": "stdout",
     "output_type": "stream",
     "text": [
      "[[[0. 0. 0. 0. 0. 0. 0. 0. 0. 0. 0. 0. 0. 0. 0. 0. 0. 0. 0. 0.]\n",
      "  [0. 0. 0. 0. 0. 0. 0. 0. 0. 0. 0. 0. 0. 0. 0. 0. 0. 0. 0. 0.]\n",
      "  [0. 0. 0. 0. 0. 0. 0. 0. 0. 0. 0. 0. 0. 0. 0. 0. 0. 0. 0. 0.]\n",
      "  [0. 0. 0. 0. 0. 0. 0. 0. 0. 0. 0. 0. 0. 0. 0. 0. 0. 0. 0. 0.]\n",
      "  [0. 0. 0. 0. 0. 0. 0. 0. 0. 0. 0. 0. 0. 0. 0. 0. 0. 0. 0. 0.]\n",
      "  [0. 0. 0. 0. 0. 0. 0. 0. 0. 0. 0. 0. 0. 0. 0. 0. 0. 0. 0. 0.]\n",
      "  [0. 0. 0. 0. 0. 0. 0. 0. 0. 0. 0. 0. 0. 0. 0. 0. 0. 0. 0. 0.]\n",
      "  [0. 0. 0. 0. 0. 0. 0. 0. 0. 0. 0. 0. 0. 0. 0. 0. 0. 0. 0. 0.]\n",
      "  [0. 0. 0. 0. 0. 0. 0. 0. 0. 0. 0. 0. 0. 0. 0. 0. 0. 0. 0. 0.]\n",
      "  [0. 0. 0. 0. 0. 0. 0. 0. 0. 0. 0. 0. 0. 0. 0. 0. 0. 0. 0. 0.]]\n",
      "\n",
      " [[0. 0. 0. 0. 0. 0. 0. 0. 0. 0. 0. 0. 0. 0. 0. 0. 0. 0. 0. 0.]\n",
      "  [0. 0. 0. 0. 0. 0. 0. 0. 0. 0. 0. 0. 0. 0. 0. 0. 0. 0. 0. 0.]\n",
      "  [0. 0. 0. 0. 0. 0. 0. 0. 0. 0. 0. 0. 0. 0. 0. 0. 0. 0. 0. 0.]\n",
      "  [0. 0. 0. 0. 0. 0. 0. 0. 0. 0. 0. 0. 0. 0. 0. 0. 0. 0. 0. 0.]\n",
      "  [0. 0. 0. 0. 0. 0. 0. 0. 0. 0. 0. 0. 0. 0. 0. 0. 0. 0. 0. 0.]\n",
      "  [0. 0. 0. 0. 0. 0. 0. 0. 0. 0. 0. 0. 0. 0. 0. 0. 0. 0. 0. 0.]\n",
      "  [0. 0. 0. 0. 0. 0. 0. 0. 0. 0. 0. 0. 0. 0. 0. 0. 0. 0. 0. 0.]\n",
      "  [0. 0. 0. 0. 0. 0. 0. 0. 0. 0. 0. 0. 0. 0. 0. 0. 0. 0. 0. 0.]\n",
      "  [0. 0. 0. 0. 0. 0. 0. 0. 0. 0. 0. 0. 0. 0. 0. 0. 0. 0. 0. 0.]\n",
      "  [0. 0. 0. 0. 0. 0. 0. 0. 0. 0. 0. 0. 0. 0. 0. 0. 0. 0. 0. 0.]]\n",
      "\n",
      " [[0. 0. 0. 0. 0. 0. 0. 0. 0. 0. 0. 0. 0. 0. 0. 0. 0. 0. 0. 0.]\n",
      "  [0. 0. 0. 0. 0. 0. 0. 0. 0. 0. 0. 0. 0. 0. 0. 0. 0. 0. 0. 0.]\n",
      "  [0. 0. 0. 0. 0. 0. 0. 0. 0. 0. 0. 0. 0. 0. 0. 0. 0. 0. 0. 0.]\n",
      "  [0. 0. 0. 0. 0. 0. 0. 0. 0. 0. 0. 0. 0. 0. 0. 0. 0. 0. 0. 0.]\n",
      "  [0. 0. 0. 0. 0. 0. 0. 0. 0. 0. 0. 0. 0. 0. 0. 0. 0. 0. 0. 0.]\n",
      "  [0. 0. 0. 0. 0. 0. 0. 0. 0. 0. 0. 0. 0. 0. 0. 0. 0. 0. 0. 0.]\n",
      "  [0. 0. 0. 0. 0. 0. 0. 0. 0. 0. 0. 0. 0. 0. 0. 0. 0. 0. 0. 0.]\n",
      "  [0. 0. 0. 0. 0. 0. 0. 0. 0. 0. 0. 0. 0. 0. 0. 0. 0. 0. 0. 0.]\n",
      "  [0. 0. 0. 0. 0. 0. 0. 0. 0. 0. 0. 0. 0. 0. 0. 0. 0. 0. 0. 0.]\n",
      "  [0. 0. 0. 0. 0. 0. 0. 0. 0. 0. 0. 0. 0. 0. 0. 0. 0. 0. 0. 0.]]] (3, 10, 20)\n"
     ]
    }
   ],
   "source": [
    "# alternatively, we can give a tuple or list for multi-dimensional arrays\n",
    "a = np.zeros((3, 10, 20))\n",
    "print(a, a.shape)"
   ]
  },
  {
   "cell_type": "markdown",
   "metadata": {
    "slideshow": {
     "slide_type": "slide"
    }
   },
   "source": [
    "We can also create **sequences** of numbers easily (similar to list(range()) for lists):"
   ]
  },
  {
   "cell_type": "code",
   "execution_count": 24,
   "metadata": {
    "slideshow": {
     "slide_type": "fragment"
    }
   },
   "outputs": [
    {
     "name": "stdout",
     "output_type": "stream",
     "text": [
      "[0 1 2 3 4 5 6 7 8 9] <class 'numpy.ndarray'>\n"
     ]
    }
   ],
   "source": [
    "# with one argument, it is assumed to start at zero and count up by one until it reaches your number (not inclusive, it will stop before your number)\n",
    "a = np.arange(10)\n",
    "print(a, type(a))"
   ]
  },
  {
   "cell_type": "code",
   "execution_count": 25,
   "metadata": {
    "slideshow": {
     "slide_type": "fragment"
    }
   },
   "outputs": [
    {
     "name": "stdout",
     "output_type": "stream",
     "text": [
      "[100 101 102 103 104 105 106 107 108 109 110 111 112 113 114 115 116 117\n",
      " 118 119]\n"
     ]
    }
   ],
   "source": [
    "# with two arguments, it will start at the 1st number and count up by 1 until reaching the 2nd number\n",
    "a = np.arange(100, 120)\n",
    "print(a)"
   ]
  },
  {
   "cell_type": "code",
   "execution_count": 26,
   "metadata": {
    "slideshow": {
     "slide_type": "fragment"
    }
   },
   "outputs": [
    {
     "name": "stdout",
     "output_type": "stream",
     "text": [
      "[ 10.    7.5   5.    2.5   0.   -2.5  -5.   -7.5 -10.  -12.5 -15.  -17.5\n",
      " -20. ]\n"
     ]
    }
   ],
   "source": [
    "# with three arguments, it will start at the 1st and count by increments of the 3rd number until it reaches the 2rd number (again not inclusive)\n",
    "a = np.arange(10, -21, -2.5)\n",
    "print(a)"
   ]
  },
  {
   "cell_type": "markdown",
   "metadata": {
    "slideshow": {
     "slide_type": "slide"
    }
   },
   "source": [
    "We can draw **random samples** from a normal distribution (or many other distributions). NumPy has functions for creating whole arrays at a time, rather than the one-by-one approach needed for the ``random`` module."
   ]
  },
  {
   "cell_type": "code",
   "execution_count": 27,
   "metadata": {
    "slideshow": {
     "slide_type": "fragment"
    }
   },
   "outputs": [
    {
     "name": "stdout",
     "output_type": "stream",
     "text": [
      "[[ 19.88819325  13.92495013   1.74523777  11.46473282  29.05482374\n",
      "    1.4651256   20.40563834  28.95121977  15.54956409  12.34820442]\n",
      " [  6.63626323  16.5010895   10.79729849   7.56379522   7.38435798\n",
      "   22.58079991  18.8098581    6.40401376   8.96626193  26.38510346]\n",
      " [  7.54087284  -5.24936967 -11.28094064   4.48557634  -6.19593568\n",
      "    1.54735705   0.17811327  -0.98270591  18.98234913   8.47753014]\n",
      " [ 12.53676871  13.68604311  19.8399316    7.51921663  13.1717591\n",
      "    9.0828946    7.1403159    3.44500908   7.23399919   8.62511702]\n",
      " [ 11.53523194  18.52195864  11.49696926  18.93461366  17.22353669\n",
      "    8.43122085   2.73509299  -2.41019572  21.42232523   4.14948602]\n",
      " [  7.21166842   0.79967147   4.5954098   -5.24590873  13.25490094\n",
      "    7.20558112   4.57052341  12.26055775  15.66615918  12.49213277]\n",
      " [ 15.91121026  -5.24020801   4.57418943   4.3405768   34.81430662\n",
      "   16.03083717  18.17568085  10.82262157   6.02504193  16.13333235]\n",
      " [ 14.36983676   0.67298459   1.26784396   9.28917428  14.0806922\n",
      "    9.75250258  10.46864717  12.79675399   5.45786548   2.35195402]\n",
      " [ 11.78170175   8.63049412  18.83417876   9.58855258  12.88936424\n",
      "    5.3443416   -4.27876195   7.90270166   8.24980567  25.67138346]\n",
      " [  7.28022009  13.36323213   8.66574419  10.67901054  16.09599366\n",
      "    2.51575318  17.4127757   -1.29097725  18.55587488  12.93052846]]\n"
     ]
    }
   ],
   "source": [
    "a = np.random.normal(loc = 10, scale = 8, size = (10, 10))\n",
    "print(a)"
   ]
  },
  {
   "cell_type": "markdown",
   "metadata": {
    "slideshow": {
     "slide_type": "slide"
    }
   },
   "source": [
    "### Doing math with NumPy\n",
    "NumPy makes it very easy to do **element-wise** arithmetic within and between arrays. "
   ]
  },
  {
   "cell_type": "code",
   "execution_count": 28,
   "metadata": {
    "slideshow": {
     "slide_type": "fragment"
    }
   },
   "outputs": [
    {
     "name": "stdout",
     "output_type": "stream",
     "text": [
      "[1 2 3]\n",
      "[4 5 6]\n"
     ]
    }
   ],
   "source": [
    "a = np.array([1, 2, 3])\n",
    "b = a + 3\n",
    "print(a)\n",
    "print(b)"
   ]
  },
  {
   "cell_type": "code",
   "execution_count": 29,
   "metadata": {
    "slideshow": {
     "slide_type": "fragment"
    }
   },
   "outputs": [
    {
     "name": "stdout",
     "output_type": "stream",
     "text": [
      "[2 4 6]\n"
     ]
    }
   ],
   "source": [
    "c = a * 2\n",
    "print(c)"
   ]
  },
  {
   "cell_type": "markdown",
   "metadata": {},
   "source": [
    "Note this behavior is different than for lists, where \"+\" means append and \"*\" means replicate. For NumPy, the operations are simply applied to each element."
   ]
  },
  {
   "cell_type": "code",
   "execution_count": 30,
   "metadata": {
    "slideshow": {
     "slide_type": "fragment"
    }
   },
   "outputs": [
    {
     "name": "stdout",
     "output_type": "stream",
     "text": [
      "[1 4 9]\n"
     ]
    }
   ],
   "source": [
    "d = a ** 2\n",
    "print(d)"
   ]
  },
  {
   "cell_type": "code",
   "execution_count": 31,
   "metadata": {
    "slideshow": {
     "slide_type": "fragment"
    }
   },
   "outputs": [
    {
     "name": "stdout",
     "output_type": "stream",
     "text": [
      "[ 2  6 12]\n"
     ]
    }
   ],
   "source": [
    "e = a + d\n",
    "print(e)"
   ]
  },
  {
   "cell_type": "code",
   "execution_count": 32,
   "metadata": {
    "slideshow": {
     "slide_type": "fragment"
    }
   },
   "outputs": [
    {
     "name": "stdout",
     "output_type": "stream",
     "text": [
      "[ 1  4 27]\n"
     ]
    }
   ],
   "source": [
    "f = a ** a\n",
    "print(f)"
   ]
  },
  {
   "cell_type": "markdown",
   "metadata": {
    "slideshow": {
     "slide_type": "slide"
    }
   },
   "source": [
    "NumPy also has many useful functions that perform more complex **mathematical operations** on these arrays. Below are some examples, and many more can be found [here](https://www.geeksforgeeks.org/numpy-mathematical-function/)"
   ]
  },
  {
   "cell_type": "code",
   "execution_count": 33,
   "metadata": {
    "slideshow": {
     "slide_type": "fragment"
    }
   },
   "outputs": [
    {
     "name": "stdout",
     "output_type": "stream",
     "text": [
      "[[17.22220543 -8.77606441  9.87863457  9.52460948 14.86818927 11.70693026\n",
      "   5.37855811  7.03601686  8.98230154 15.25282475]\n",
      " [12.49110904  9.16716209  8.55874436  0.64821364 20.20676653 -0.05793676\n",
      "  26.94872124 27.80592067 11.40037154 23.77878288]\n",
      " [10.32490051  9.71890918  8.56815942  4.75440376 25.01181669 22.70815164\n",
      "   5.52283808 13.01495024 14.49347637 15.33097528]\n",
      " [ 0.32301275  3.02017542  0.46826522 18.57765528  1.05558643 -2.88639301\n",
      "   9.39385171 11.40638785 10.58768795  6.5491044 ]\n",
      " [18.5423179  21.81760734 15.87471682 15.24156698 24.6753992  12.22884243\n",
      "  11.75466447  8.11547249  7.87364771 -1.29442226]\n",
      " [ 8.40927413  7.32508265  8.3189931   0.19946469 -3.83581067 13.45219983\n",
      "  14.77758679 12.9206182  10.53409583  5.83395403]\n",
      " [13.51434111 14.02738787  9.06977132 22.78647826 23.18209448 21.20225543\n",
      "  15.56235726 10.09523174 14.27394001 17.08724771]\n",
      " [-1.10698152  1.11133196  9.08229166 15.41049063 -3.87986735 17.42851462\n",
      "  10.69470471 10.66753845  4.16599046  2.24926555]\n",
      " [ 9.8492356  12.1803864  18.71348417 10.58127553  6.0210261   6.99001961\n",
      "  13.52525944 -1.33294584 24.22055551 18.17422749]\n",
      " [11.34911505 12.09889783 28.80632336 -0.44344213 16.19150754  4.2175542\n",
      "  -5.10160533 13.56755809  4.41726166 -2.88573133]]\n",
      "\n",
      "Min: -8.776064409925489\n",
      "\n"
     ]
    }
   ],
   "source": [
    "a = np.random.normal(loc = 10, scale = 8, size = (10, 10))\n",
    "print(a)\n",
    "print()\n",
    "\n",
    "# statistics\n",
    "print(f'Min: {a.min()}')\n",
    "print()"
   ]
  },
  {
   "cell_type": "code",
   "execution_count": 34,
   "metadata": {
    "slideshow": {
     "slide_type": "fragment"
    }
   },
   "outputs": [
    {
     "name": "stdout",
     "output_type": "stream",
     "text": [
      "Max of each row: [17.22220543 27.80592067 25.01181669 18.57765528 24.6753992  14.77758679\n",
      " 23.18209448 17.42851462 24.22055551 28.80632336]\n",
      "\n"
     ]
    }
   ],
   "source": [
    "print(f'Max of each row: {a.max(axis=1)}' )\n",
    "print()"
   ]
  },
  {
   "cell_type": "code",
   "execution_count": 35,
   "metadata": {
    "slideshow": {
     "slide_type": "fragment"
    }
   },
   "outputs": [
    {
     "name": "stdout",
     "output_type": "stream",
     "text": [
      "Mean of each column: [10.091853    8.16908763 11.7339384   9.72807161 12.34967082 10.69901383\n",
      " 10.84569365 11.32967488 11.09493286 10.00762285]\n",
      "\n"
     ]
    }
   ],
   "source": [
    "print(f'Mean of each column: {a.mean(axis=0)}' )\n",
    "print()"
   ]
  },
  {
   "cell_type": "code",
   "execution_count": 36,
   "metadata": {
    "slideshow": {
     "slide_type": "fragment"
    }
   },
   "outputs": [
    {
     "name": "stdout",
     "output_type": "stream",
     "text": [
      "Std: 7.9180571693526405\n",
      "\n"
     ]
    }
   ],
   "source": [
    "print(f'Std: {a.std()}' )\n",
    "print()"
   ]
  },
  {
   "cell_type": "code",
   "execution_count": 37,
   "metadata": {
    "slideshow": {
     "slide_type": "fragment"
    }
   },
   "outputs": [
    {
     "name": "stdout",
     "output_type": "stream",
     "text": [
      "5th percentile: -2.885764415753809\n",
      "\n"
     ]
    }
   ],
   "source": [
    "print(f'5th percentile: {np.quantile(a, 0.05)}' )\n",
    "print()"
   ]
  },
  {
   "cell_type": "code",
   "execution_count": 38,
   "metadata": {
    "slideshow": {
     "slide_type": "fragment"
    }
   },
   "outputs": [
    {
     "name": "stdout",
     "output_type": "stream",
     "text": [
      "Sum of each row: [ 91.07420586 140.94785521 129.44858117  58.495334   134.82981307\n",
      "  77.93545859 160.80110518  65.82327916 118.922524    82.21743894]\n"
     ]
    }
   ],
   "source": [
    "print(f'Sum of each row: {a.sum(axis=1)}')"
   ]
  },
  {
   "cell_type": "code",
   "execution_count": 39,
   "metadata": {
    "slideshow": {
     "slide_type": "fragment"
    }
   },
   "outputs": [
    {
     "name": "stdout",
     "output_type": "stream",
     "text": [
      "[[-8.77606441  5.37855811  7.03601686  8.98230154  9.52460948  9.87863457\n",
      "  11.70693026 14.86818927 15.25282475 17.22220543]\n",
      " [-0.05793676  0.64821364  8.55874436  9.16716209 11.40037154 12.49110904\n",
      "  20.20676653 23.77878288 26.94872124 27.80592067]\n",
      " [ 4.75440376  5.52283808  8.56815942  9.71890918 10.32490051 13.01495024\n",
      "  14.49347637 15.33097528 22.70815164 25.01181669]\n",
      " [-2.88639301  0.32301275  0.46826522  1.05558643  3.02017542  6.5491044\n",
      "   9.39385171 10.58768795 11.40638785 18.57765528]\n",
      " [-1.29442226  7.87364771  8.11547249 11.75466447 12.22884243 15.24156698\n",
      "  15.87471682 18.5423179  21.81760734 24.6753992 ]\n",
      " [-3.83581067  0.19946469  5.83395403  7.32508265  8.3189931   8.40927413\n",
      "  10.53409583 12.9206182  13.45219983 14.77758679]\n",
      " [ 9.06977132 10.09523174 13.51434111 14.02738787 14.27394001 15.56235726\n",
      "  17.08724771 21.20225543 22.78647826 23.18209448]\n",
      " [-3.87986735 -1.10698152  1.11133196  2.24926555  4.16599046  9.08229166\n",
      "  10.66753845 10.69470471 15.41049063 17.42851462]\n",
      " [-1.33294584  6.0210261   6.99001961  9.8492356  10.58127553 12.1803864\n",
      "  13.52525944 18.17422749 18.71348417 24.22055551]\n",
      " [-5.10160533 -2.88573133 -0.44344213  4.2175542   4.41726166 11.34911505\n",
      "  12.09889783 13.56755809 16.19150754 28.80632336]]\n"
     ]
    }
   ],
   "source": [
    "# sort each row\n",
    "print( np.sort(a, axis=1) )"
   ]
  },
  {
   "cell_type": "code",
   "execution_count": 40,
   "metadata": {
    "slideshow": {
     "slide_type": "fragment"
    }
   },
   "outputs": [
    {
     "name": "stdout",
     "output_type": "stream",
     "text": [
      "[[17.22220543  8.77606441  9.87863457  9.52460948 14.86818927 11.70693026\n",
      "   5.37855811  7.03601686  8.98230154 15.25282475]\n",
      " [12.49110904  9.16716209  8.55874436  0.64821364 20.20676653  0.05793676\n",
      "  26.94872124 27.80592067 11.40037154 23.77878288]\n",
      " [10.32490051  9.71890918  8.56815942  4.75440376 25.01181669 22.70815164\n",
      "   5.52283808 13.01495024 14.49347637 15.33097528]\n",
      " [ 0.32301275  3.02017542  0.46826522 18.57765528  1.05558643  2.88639301\n",
      "   9.39385171 11.40638785 10.58768795  6.5491044 ]\n",
      " [18.5423179  21.81760734 15.87471682 15.24156698 24.6753992  12.22884243\n",
      "  11.75466447  8.11547249  7.87364771  1.29442226]\n",
      " [ 8.40927413  7.32508265  8.3189931   0.19946469  3.83581067 13.45219983\n",
      "  14.77758679 12.9206182  10.53409583  5.83395403]\n",
      " [13.51434111 14.02738787  9.06977132 22.78647826 23.18209448 21.20225543\n",
      "  15.56235726 10.09523174 14.27394001 17.08724771]\n",
      " [ 1.10698152  1.11133196  9.08229166 15.41049063  3.87986735 17.42851462\n",
      "  10.69470471 10.66753845  4.16599046  2.24926555]\n",
      " [ 9.8492356  12.1803864  18.71348417 10.58127553  6.0210261   6.99001961\n",
      "  13.52525944  1.33294584 24.22055551 18.17422749]\n",
      " [11.34911505 12.09889783 28.80632336  0.44344213 16.19150754  4.2175542\n",
      "   5.10160533 13.56755809  4.41726166  2.88573133]]\n"
     ]
    }
   ],
   "source": [
    "# absolute value of each element\n",
    "print( np.abs(a) )"
   ]
  },
  {
   "cell_type": "code",
   "execution_count": 41,
   "metadata": {
    "slideshow": {
     "slide_type": "fragment"
    }
   },
   "outputs": [
    {
     "name": "stdout",
     "output_type": "stream",
     "text": [
      "[[3.01653787e+07 1.54384485e-04 1.95090663e+04 1.36925817e+04\n",
      "  2.86531621e+06 1.21410210e+05 2.16709578e+02 1.13685034e+03\n",
      "  7.96093347e+03 4.20937504e+06]\n",
      " [2.65962084e+05 9.57740626e+03 5.21213248e+03 1.91212203e+00\n",
      "  5.96605430e+08 9.43709624e-01 5.05453176e+11 1.19112657e+12\n",
      "  8.93549158e+04 2.12321606e+10]\n",
      " [3.04822707e+04 1.66290955e+04 5.26143680e+03 1.16094413e+02\n",
      "  7.28608061e+10 7.27821619e+09 2.50344527e+02 4.49077269e+05\n",
      "  1.96986657e+06 4.55153584e+06]\n",
      " [1.38128296e+00 2.04948865e+01 1.59722097e+00 1.16996582e+08\n",
      "  2.87365985e+00 5.57770374e-02 1.20142859e+04 8.98941233e+04\n",
      "  3.96437246e+04 6.98618213e+02]\n",
      " [1.12934425e+08 2.98721495e+09 7.83974463e+06 4.16225263e+06\n",
      "  5.20462823e+10 2.04606199e+05 1.27346178e+05 3.34583807e+03\n",
      "  2.62713115e+03 2.74056151e-01]\n",
      " [4.48850127e+03 1.51789934e+03 4.10102860e+03 1.22074911e+00\n",
      "  2.15838341e-02 6.95370331e+05 2.61712459e+06 4.08651585e+05\n",
      "  3.75750608e+04 3.41707130e+02]\n",
      " [7.39952376e+05 1.23599623e+06 8.68863663e+03 7.87121491e+09\n",
      "  1.16911091e+10 1.61444233e+09 5.73648529e+06 2.42272120e+04\n",
      "  1.58158807e+06 2.63570858e+07]\n",
      " [3.30555230e-01 3.03840275e+00 8.79810518e+03 4.92823084e+06\n",
      "  2.06535647e-02 3.70772681e+07 4.41215987e+04 4.29391144e+04\n",
      "  6.44564924e+01 9.48077008e+00]\n",
      " [1.89438685e+04 1.94928167e+05 1.34017932e+08 3.93903258e+04\n",
      "  4.12001132e+02 1.08574277e+03 7.48075689e+05 2.63699301e-01\n",
      "  3.30258197e+10 7.81567894e+07]\n",
      " [8.48902943e+04 1.79673722e+05 3.23912181e+12 6.41823376e-01\n",
      "  1.07617371e+07 6.78672915e+01 6.08696712e-03 7.80397037e+05\n",
      "  8.28690503e+01 5.58139561e-02]]\n"
     ]
    }
   ],
   "source": [
    "# exponential\n",
    "print( np.exp(a) )"
   ]
  },
  {
   "cell_type": "code",
   "execution_count": 42,
   "metadata": {
    "scrolled": false,
    "slideshow": {
     "slide_type": "fragment"
    }
   },
   "outputs": [
    {
     "name": "stdout",
     "output_type": "stream",
     "text": [
      "[[4.14996451        nan 3.14302952 3.0861966  3.85592911 3.42153917\n",
      "  2.31917186 2.65254912 2.99704881 3.90548649]\n",
      " [3.53427631 3.02773217 2.92553317 0.80511716 4.49519371        nan\n",
      "  5.19121578 5.27313196 3.37644362 4.87634934]\n",
      " [3.21323832 3.11751651 2.92714185 2.18045953 5.00118153 4.76530709\n",
      "  2.35007193 3.60762391 3.80702986 3.91547893]\n",
      " [0.5683421  1.73786519 0.68429907 4.31018042 1.02741736        nan\n",
      "  3.0649391  3.37733443 3.25387276 2.5591218 ]\n",
      " [4.30607918 4.67093217 3.98430883 3.90404495 4.96743387 3.49697618\n",
      "  3.42850761 2.84876684 2.80600209        nan]\n",
      " [2.89987485 2.70648899 2.88426648 0.4466147         nan 3.66772407\n",
      "  3.84416269 3.59452614 3.24562719 2.41535795]\n",
      " [3.67618567 3.74531546 3.0116061  4.77351844 4.81477876 4.60459069\n",
      "  3.94491537 3.17729944 3.77808682 4.13367242]\n",
      " [       nan 1.05419731 3.01368407 3.92561978        nan 4.17474725\n",
      "  3.27027594 3.26611978 2.04107581 1.49975516]\n",
      " [3.13834918 3.49004103 4.32590848 3.25288726 2.45377792 2.64386452\n",
      "  3.67767038        nan 4.92143836 4.26312415]\n",
      " [3.36884476 3.478347   5.36715226        nan 4.02386724 2.05366847\n",
      "         nan 3.68341663 2.10172825        nan]]\n"
     ]
    },
    {
     "name": "stderr",
     "output_type": "stream",
     "text": [
      "C:\\Users\\Andrew\\anaconda3\\lib\\site-packages\\ipykernel_launcher.py:2: RuntimeWarning: invalid value encountered in sqrt\n",
      "  \n"
     ]
    }
   ],
   "source": [
    "# square root. \n",
    "print( np.sqrt(a) )"
   ]
  },
  {
   "cell_type": "markdown",
   "metadata": {
    "slideshow": {
     "slide_type": "fragment"
    }
   },
   "source": [
    "Don't be alarmed by the red \"RuntimeWarning\" here. Usually as long as it is a warning, not an error, you are ok. This warning relates to the special \"nan\" (Not A Number) values that you see above. These occur when we try to take the square root of a negative number. NumPy returns this special object (np.nan) when we try to do calculations that are undefined."
   ]
  },
  {
   "cell_type": "markdown",
   "metadata": {
    "slideshow": {
     "slide_type": "slide"
    }
   },
   "source": [
    "Rather than element-wise operations, we can also do **matrix operations**. (If your research involves linear algebra, see [here](https://www.geeksforgeeks.org/numpy-linear-algebra/?ref=lbp) for more examples.)"
   ]
  },
  {
   "cell_type": "code",
   "execution_count": 43,
   "metadata": {
    "slideshow": {
     "slide_type": "fragment"
    }
   },
   "outputs": [
    {
     "name": "stdout",
     "output_type": "stream",
     "text": [
      "[[17.22220543 -8.77606441  9.87863457]\n",
      " [12.49110904  9.16716209  8.55874436]\n",
      " [10.32490051  9.71890918  8.56815942]]\n",
      "\n"
     ]
    }
   ],
   "source": [
    "A = a[:3, :3]\n",
    "print(A)\n",
    "print()"
   ]
  },
  {
   "cell_type": "code",
   "execution_count": 44,
   "metadata": {
    "slideshow": {
     "slide_type": "fragment"
    }
   },
   "outputs": [
    {
     "name": "stdout",
     "output_type": "stream",
     "text": [
      "[[10.66753845  4.16599046  2.24926555]\n",
      " [-1.33294584 24.22055551 18.17422749]\n",
      " [13.56755809  4.41726166 -2.88573133]]\n"
     ]
    }
   ],
   "source": [
    "B = a[-3:, -3:]\n",
    "print(B)"
   ]
  },
  {
   "cell_type": "code",
   "execution_count": 45,
   "metadata": {
    "slideshow": {
     "slide_type": "fragment"
    }
   },
   "outputs": [
    {
     "name": "stdout",
     "output_type": "stream",
     "text": [
      "[[ 329.4455055   -97.17709797 -149.26796307]\n",
      " [ 237.15131662  311.87781256  170.00367364]\n",
      " [ 213.43549433  316.25861843  175.13170327]]\n"
     ]
    }
   ],
   "source": [
    "# matrix multiplication\n",
    "print( np.matmul(A, B) )"
   ]
  },
  {
   "cell_type": "code",
   "execution_count": 46,
   "metadata": {
    "slideshow": {
     "slide_type": "fragment"
    }
   },
   "outputs": [
    {
     "name": "stdout",
     "output_type": "stream",
     "text": [
      "348.15189031126715\n"
     ]
    }
   ],
   "source": [
    "# determinant\n",
    "print( np.linalg.det(A) )"
   ]
  },
  {
   "cell_type": "markdown",
   "metadata": {
    "slideshow": {
     "slide_type": "slide"
    }
   },
   "source": [
    "### Logical indexing\n",
    "**Logical indexing** is a powerful way to manipulate parts of your data that meet certain conditions. The idea is to create a NumPy array of Boolean variables, and then use this array to index a new array. For example, we can change all undefined elements in the array to zero as follows:"
   ]
  },
  {
   "cell_type": "code",
   "execution_count": 47,
   "metadata": {
    "slideshow": {
     "slide_type": "fragment"
    }
   },
   "outputs": [
    {
     "name": "stdout",
     "output_type": "stream",
     "text": [
      "[[0.85068624 3.43201787 3.93056951 2.3256972  2.99530178 3.18181016\n",
      "  5.15012609 3.02391038 1.92493492 2.17145362]\n",
      " [3.5849968  0.52190685 3.13890621 3.70564284 3.46281385 3.62034189\n",
      "  3.77983483 4.60686707 2.80914731 4.41296573]\n",
      " [3.69195951 3.46001339 1.79819906 2.79207948 5.22356888 3.51012051\n",
      "  3.03824441 2.26554668 4.15434499 3.01017649]\n",
      " [3.87140561 2.90866107 4.65400017 3.77696732 3.8369003  2.51177825\n",
      "         nan 1.20738006 3.89849507        nan]\n",
      " [3.58033434        nan 3.63858192 2.8079697  2.16793142 2.4191615\n",
      "  3.54882165 5.34935776 3.53263371 3.51815391]\n",
      " [3.48553043 2.26107741        nan 4.17154435 3.73160163 3.27941041\n",
      "  3.44104232        nan 2.8210867  4.82324929]\n",
      " [4.29060061 4.29564799        nan 4.471728   1.35425679 3.9188681\n",
      "  2.24409933 2.58070154 2.45801113 2.8385883 ]\n",
      " [3.95738298 3.10592643 4.34298793 5.2253747  4.79704081 4.12676053\n",
      "         nan 4.79830137 1.8682249  2.89505272]\n",
      " [2.8893477  3.43101804 3.16937101 4.00168915 3.06739828 4.47600611\n",
      "         nan 2.46566311 2.70848405 4.52836201]\n",
      " [1.81606443 4.2181023  3.77066424 5.56809207        nan 3.39739824\n",
      "  3.53437755 2.63170113 1.29006635 4.13519727]]\n"
     ]
    },
    {
     "name": "stderr",
     "output_type": "stream",
     "text": [
      "C:\\Users\\Andrew\\anaconda3\\lib\\site-packages\\ipykernel_launcher.py:3: RuntimeWarning: invalid value encountered in sqrt\n",
      "  This is separate from the ipykernel package so we can avoid doing imports until\n"
     ]
    }
   ],
   "source": [
    "### create array of square roots, some of which are undefined\n",
    "a = np.random.normal(loc = 10, scale = 8, size = (10, 10))\n",
    "b = np.sqrt(a)\n",
    "print(b)"
   ]
  },
  {
   "cell_type": "code",
   "execution_count": 48,
   "metadata": {
    "slideshow": {
     "slide_type": "fragment"
    }
   },
   "outputs": [
    {
     "name": "stdout",
     "output_type": "stream",
     "text": [
      "[[False False False False False False False False False False]\n",
      " [False False False False False False False False False False]\n",
      " [False False False False False False False False False False]\n",
      " [False False False False False False  True False False  True]\n",
      " [False  True False False False False False False False False]\n",
      " [False False  True False False False False  True False False]\n",
      " [False False  True False False False False False False False]\n",
      " [False False False False False False  True False False False]\n",
      " [False False False False False False  True False False False]\n",
      " [False False False False  True False False False False False]]\n"
     ]
    }
   ],
   "source": [
    "### create boolean array with \"True\" everywhere there is an \"nan\" value, using np.isnan() function\n",
    "c = np.isnan(b)\n",
    "print(c)"
   ]
  },
  {
   "cell_type": "code",
   "execution_count": 49,
   "metadata": {
    "slideshow": {
     "slide_type": "fragment"
    }
   },
   "outputs": [
    {
     "name": "stdout",
     "output_type": "stream",
     "text": [
      "[[0.85068624 3.43201787 3.93056951 2.3256972  2.99530178 3.18181016\n",
      "  5.15012609 3.02391038 1.92493492 2.17145362]\n",
      " [3.5849968  0.52190685 3.13890621 3.70564284 3.46281385 3.62034189\n",
      "  3.77983483 4.60686707 2.80914731 4.41296573]\n",
      " [3.69195951 3.46001339 1.79819906 2.79207948 5.22356888 3.51012051\n",
      "  3.03824441 2.26554668 4.15434499 3.01017649]\n",
      " [3.87140561 2.90866107 4.65400017 3.77696732 3.8369003  2.51177825\n",
      "  0.         1.20738006 3.89849507 0.        ]\n",
      " [3.58033434 0.         3.63858192 2.8079697  2.16793142 2.4191615\n",
      "  3.54882165 5.34935776 3.53263371 3.51815391]\n",
      " [3.48553043 2.26107741 0.         4.17154435 3.73160163 3.27941041\n",
      "  3.44104232 0.         2.8210867  4.82324929]\n",
      " [4.29060061 4.29564799 0.         4.471728   1.35425679 3.9188681\n",
      "  2.24409933 2.58070154 2.45801113 2.8385883 ]\n",
      " [3.95738298 3.10592643 4.34298793 5.2253747  4.79704081 4.12676053\n",
      "  0.         4.79830137 1.8682249  2.89505272]\n",
      " [2.8893477  3.43101804 3.16937101 4.00168915 3.06739828 4.47600611\n",
      "  0.         2.46566311 2.70848405 4.52836201]\n",
      " [1.81606443 4.2181023  3.77066424 5.56809207 0.         3.39739824\n",
      "  3.53437755 2.63170113 1.29006635 4.13519727]]\n"
     ]
    }
   ],
   "source": [
    "### create a copy of b, then reset all nan's to 0 using logical indexing\n",
    "d = b.copy()\n",
    "d[c] = 0\n",
    "# print(b)\n",
    "print(d)"
   ]
  },
  {
   "cell_type": "markdown",
   "metadata": {
    "slideshow": {
     "slide_type": "fragment"
    }
   },
   "source": [
    "This can be thought of as a compact representation of two for loops and and one if statement:"
   ]
  },
  {
   "cell_type": "code",
   "execution_count": 50,
   "metadata": {
    "slideshow": {
     "slide_type": "fragment"
    }
   },
   "outputs": [
    {
     "name": "stdout",
     "output_type": "stream",
     "text": [
      "[[0.85068624 3.43201787 3.93056951 2.3256972  2.99530178 3.18181016\n",
      "  5.15012609 3.02391038 1.92493492 2.17145362]\n",
      " [3.5849968  0.52190685 3.13890621 3.70564284 3.46281385 3.62034189\n",
      "  3.77983483 4.60686707 2.80914731 4.41296573]\n",
      " [3.69195951 3.46001339 1.79819906 2.79207948 5.22356888 3.51012051\n",
      "  3.03824441 2.26554668 4.15434499 3.01017649]\n",
      " [3.87140561 2.90866107 4.65400017 3.77696732 3.8369003  2.51177825\n",
      "  0.         1.20738006 3.89849507 0.        ]\n",
      " [3.58033434 0.         3.63858192 2.8079697  2.16793142 2.4191615\n",
      "  3.54882165 5.34935776 3.53263371 3.51815391]\n",
      " [3.48553043 2.26107741 0.         4.17154435 3.73160163 3.27941041\n",
      "  3.44104232 0.         2.8210867  4.82324929]\n",
      " [4.29060061 4.29564799 0.         4.471728   1.35425679 3.9188681\n",
      "  2.24409933 2.58070154 2.45801113 2.8385883 ]\n",
      " [3.95738298 3.10592643 4.34298793 5.2253747  4.79704081 4.12676053\n",
      "  0.         4.79830137 1.8682249  2.89505272]\n",
      " [2.8893477  3.43101804 3.16937101 4.00168915 3.06739828 4.47600611\n",
      "  0.         2.46566311 2.70848405 4.52836201]\n",
      " [1.81606443 4.2181023  3.77066424 5.56809207 0.         3.39739824\n",
      "  3.53437755 2.63170113 1.29006635 4.13519727]]\n",
      "\n"
     ]
    }
   ],
   "source": [
    "### equivalent operations to logical indexing with for loops & if statement\n",
    "e = b.copy()\n",
    "for i in range(e.shape[0]):\n",
    "    for j in range(e.shape[1]):\n",
    "        if np.isnan(e[i,j]):\n",
    "            e[i,j] = 0\n",
    "print(e)\n",
    "print()"
   ]
  },
  {
   "cell_type": "code",
   "execution_count": 51,
   "metadata": {
    "scrolled": true,
    "slideshow": {
     "slide_type": "fragment"
    }
   },
   "outputs": [
    {
     "name": "stdout",
     "output_type": "stream",
     "text": [
      "[[ True  True  True  True  True  True  True  True  True  True]\n",
      " [ True  True  True  True  True  True  True  True  True  True]\n",
      " [ True  True  True  True  True  True  True  True  True  True]\n",
      " [ True  True  True  True  True  True  True  True  True  True]\n",
      " [ True  True  True  True  True  True  True  True  True  True]\n",
      " [ True  True  True  True  True  True  True  True  True  True]\n",
      " [ True  True  True  True  True  True  True  True  True  True]\n",
      " [ True  True  True  True  True  True  True  True  True  True]\n",
      " [ True  True  True  True  True  True  True  True  True  True]\n",
      " [ True  True  True  True  True  True  True  True  True  True]]\n",
      "\n",
      "True\n"
     ]
    }
   ],
   "source": [
    "### compare e & d, check if each element is equivalent\n",
    "print(e == d)\n",
    "print()\n",
    "\n",
    "### check if all elements are equivalent\n",
    "print(np.all(e == d))"
   ]
  },
  {
   "cell_type": "markdown",
   "metadata": {
    "slideshow": {
     "slide_type": "fragment"
    }
   },
   "source": [
    "We can also retrieve particular elements of the NumPy array using logical indexing, which is analagous to list comprehension. However, note that we lose the shape of the array when we pick out particular elements."
   ]
  },
  {
   "cell_type": "code",
   "execution_count": 52,
   "metadata": {
    "slideshow": {
     "slide_type": "fragment"
    }
   },
   "outputs": [
    {
     "name": "stdout",
     "output_type": "stream",
     "text": [
      "[[0.85068624 3.43201787 3.93056951 2.3256972  2.99530178 3.18181016\n",
      "  5.15012609 3.02391038 1.92493492 2.17145362]\n",
      " [3.5849968  0.52190685 3.13890621 3.70564284 3.46281385 3.62034189\n",
      "  3.77983483 4.60686707 2.80914731 4.41296573]\n",
      " [3.69195951 3.46001339 1.79819906 2.79207948 5.22356888 3.51012051\n",
      "  3.03824441 2.26554668 4.15434499 3.01017649]\n",
      " [3.87140561 2.90866107 4.65400017 3.77696732 3.8369003  2.51177825\n",
      "  0.         1.20738006 3.89849507 0.        ]\n",
      " [3.58033434 0.         3.63858192 2.8079697  2.16793142 2.4191615\n",
      "  3.54882165 5.34935776 3.53263371 3.51815391]\n",
      " [3.48553043 2.26107741 0.         4.17154435 3.73160163 3.27941041\n",
      "  3.44104232 0.         2.8210867  4.82324929]\n",
      " [4.29060061 4.29564799 0.         4.471728   1.35425679 3.9188681\n",
      "  2.24409933 2.58070154 2.45801113 2.8385883 ]\n",
      " [3.95738298 3.10592643 4.34298793 5.2253747  4.79704081 4.12676053\n",
      "  0.         4.79830137 1.8682249  2.89505272]\n",
      " [2.8893477  3.43101804 3.16937101 4.00168915 3.06739828 4.47600611\n",
      "  0.         2.46566311 2.70848405 4.52836201]\n",
      " [1.81606443 4.2181023  3.77066424 5.56809207 0.         3.39739824\n",
      "  3.53437755 2.63170113 1.29006635 4.13519727]]\n"
     ]
    }
   ],
   "source": [
    "print(e)"
   ]
  },
  {
   "cell_type": "code",
   "execution_count": 53,
   "metadata": {},
   "outputs": [
    {
     "name": "stdout",
     "output_type": "stream",
     "text": [
      "[[False False False False False False  True False False False]\n",
      " [False False False False False False False  True False  True]\n",
      " [False False False False  True False False False  True False]\n",
      " [False False  True False False False False False False False]\n",
      " [False False False False False False False  True False False]\n",
      " [False False False  True False False False False False  True]\n",
      " [ True  True False  True False False False False False False]\n",
      " [False False  True  True  True  True False  True False False]\n",
      " [False False False  True False  True False False False  True]\n",
      " [False  True False  True False False False False False  True]]\n"
     ]
    }
   ],
   "source": [
    "### which elements are greater than 4?\n",
    "f = e > 4\n",
    "print(f)"
   ]
  },
  {
   "cell_type": "code",
   "execution_count": 54,
   "metadata": {},
   "outputs": [
    {
     "name": "stdout",
     "output_type": "stream",
     "text": [
      "[5.15012609 4.60686707 4.41296573 5.22356888 4.15434499 4.65400017\n",
      " 5.34935776 4.17154435 4.82324929 4.29060061 4.29564799 4.471728\n",
      " 4.34298793 5.2253747  4.79704081 4.12676053 4.79830137 4.00168915\n",
      " 4.47600611 4.52836201 4.2181023  5.56809207 4.13519727]\n",
      "\n",
      "(23,)\n"
     ]
    }
   ],
   "source": [
    "### get new array with just these values\n",
    "g = e[f]\n",
    "print(g)\n",
    "print()\n",
    "print(g.shape)"
   ]
  },
  {
   "cell_type": "code",
   "execution_count": 55,
   "metadata": {
    "slideshow": {
     "slide_type": "fragment"
    }
   },
   "outputs": [
    {
     "name": "stdout",
     "output_type": "stream",
     "text": [
      "[5.15012609 4.60686707 4.41296573 5.22356888 4.15434499 4.65400017\n",
      " 5.34935776 4.17154435 4.82324929 4.29060061 4.29564799 4.471728\n",
      " 4.34298793 5.2253747  4.79704081 4.12676053 4.79830137 4.00168915\n",
      " 4.47600611 4.52836201 4.2181023  5.56809207 4.13519727]\n"
     ]
    }
   ],
   "source": [
    "### often easier to put logical condition right inside brackets instead of defining as separate variable\n",
    "g = e[e > 4]\n",
    "print(g)"
   ]
  },
  {
   "cell_type": "markdown",
   "metadata": {
    "slideshow": {
     "slide_type": "fragment"
    }
   },
   "source": [
    "To apply multiple logical operations at once, we have to use the **bitwise comparison operators** (``&`` and ``|``) rather than the normal comparison operators (``and`` and ``or``). This is because we want the \"and/or\" to be applied to each element in the array individually, rather than for the entire array at once."
   ]
  },
  {
   "cell_type": "code",
   "execution_count": 56,
   "metadata": {
    "slideshow": {
     "slide_type": "fragment"
    }
   },
   "outputs": [
    {
     "name": "stdout",
     "output_type": "stream",
     "text": [
      "[[ True False False False False False False False  True False]\n",
      " [False  True False False False False False False False False]\n",
      " [False False  True False False False False False False False]\n",
      " [False False False False False False  True  True False  True]\n",
      " [False  True False False False False False False False False]\n",
      " [False False  True False False False False  True False False]\n",
      " [False False  True False  True False False False False False]\n",
      " [False False False False False False  True False  True False]\n",
      " [False False False False False False  True False False False]\n",
      " [ True False False False  True False False False  True False]]\n"
     ]
    }
   ],
   "source": [
    "lt2 = e < 2\n",
    "print(lt2)"
   ]
  },
  {
   "cell_type": "code",
   "execution_count": 57,
   "metadata": {
    "slideshow": {
     "slide_type": "fragment"
    }
   },
   "outputs": [
    {
     "name": "stdout",
     "output_type": "stream",
     "text": [
      "[[False False False False False False  True False False False]\n",
      " [False False False False False False False  True False  True]\n",
      " [False False False False  True False False False  True False]\n",
      " [False False  True False False False False False False False]\n",
      " [False False False False False False False  True False False]\n",
      " [False False False  True False False False False False  True]\n",
      " [ True  True False  True False False False False False False]\n",
      " [False False  True  True  True  True False  True False False]\n",
      " [False False False  True False  True False False False  True]\n",
      " [False  True False  True False False False False False  True]]\n"
     ]
    }
   ],
   "source": [
    "gte4 = e >= 4\n",
    "print(gte4)"
   ]
  },
  {
   "cell_type": "code",
   "execution_count": 58,
   "metadata": {
    "slideshow": {
     "slide_type": "fragment"
    }
   },
   "outputs": [
    {
     "name": "stdout",
     "output_type": "stream",
     "text": [
      "[[ True False False False False False  True False  True False]\n",
      " [False  True False False False False False  True False  True]\n",
      " [False False  True False  True False False False  True False]\n",
      " [False False  True False False False  True  True False  True]\n",
      " [False  True False False False False False  True False False]\n",
      " [False False  True  True False False False  True False  True]\n",
      " [ True  True  True  True  True False False False False False]\n",
      " [False False  True  True  True  True  True  True  True False]\n",
      " [False False False  True False  True  True False False  True]\n",
      " [ True  True False  True  True False False False  True  True]]\n"
     ]
    }
   ],
   "source": [
    "lt2_or_gte4 = lt2 | gte4\n",
    "print(lt2_or_gte4)"
   ]
  },
  {
   "cell_type": "code",
   "execution_count": 59,
   "metadata": {},
   "outputs": [],
   "source": [
    "### this will cause an error, unlike with individual boolean variables\n",
    "# lt2_or_gte4 = lt2 or gte4"
   ]
  },
  {
   "cell_type": "code",
   "execution_count": 60,
   "metadata": {
    "slideshow": {
     "slide_type": "fragment"
    }
   },
   "outputs": [
    {
     "name": "stdout",
     "output_type": "stream",
     "text": [
      "[0.85068624 5.15012609 1.92493492 0.52190685 4.60686707 4.41296573\n",
      " 1.79819906 5.22356888 4.15434499 4.65400017 0.         1.20738006\n",
      " 0.         0.         5.34935776 0.         4.17154435 0.\n",
      " 4.82324929 4.29060061 4.29564799 0.         4.471728   1.35425679\n",
      " 4.34298793 5.2253747  4.79704081 4.12676053 0.         4.79830137\n",
      " 1.8682249  4.00168915 4.47600611 0.         4.52836201 1.81606443\n",
      " 4.2181023  5.56809207 0.         1.29006635 4.13519727]\n",
      "(41,)\n"
     ]
    }
   ],
   "source": [
    "g = e[lt2_or_gte4]\n",
    "print(g)\n",
    "print(g.shape)"
   ]
  },
  {
   "cell_type": "markdown",
   "metadata": {
    "slideshow": {
     "slide_type": "slide"
    }
   },
   "source": [
    "### In class exercise\n",
    "Let's pretend you are an air quality specialist who is investigating the [effects of wildfire smoke on PM10 pollution](https://www.climacell.co/blog/pm10-how-wildfires-actually-affect-air-quality/). Assume there is a large wildfire burning in the Bozeman, MT, area (45.677, -111.043), and you have a map of PM10 over the larger region spanning from 40 to 48 degrees latitude and -120 to -102 degrees longitude, at a grid resolution of 1 degrees. "
   ]
  },
  {
   "cell_type": "markdown",
   "metadata": {
    "slideshow": {
     "slide_type": "fragment"
    }
   },
   "source": [
    "We will make up fake data using an assumed quadratic trend centered around Bozeman, plus random noise. But the same analysis could be performed using ground measurements or satellite observations of PM10."
   ]
  },
  {
   "cell_type": "code",
   "execution_count": 61,
   "metadata": {
    "slideshow": {
     "slide_type": "fragment"
    }
   },
   "outputs": [
    {
     "name": "stdout",
     "output_type": "stream",
     "text": [
      "[-120. -119. -118. -117. -116. -115. -114. -113. -112. -111. -110. -109.\n",
      " -108. -107. -106. -105. -104. -103. -102.]\n",
      "[48. 47. 46. 45. 44. 43. 42. 41. 40.]\n"
     ]
    }
   ],
   "source": [
    "## use np.arange to create a grid of coordinates\n",
    "res = 1\n",
    "long_box = (-120, -102)\n",
    "lat_box = (40, 48)\n",
    "long_grid = np.arange(long_box[0], long_box[1] + 0.01, res)\n",
    "lat_grid = np.arange(lat_box[1], lat_box[0] - 0.01, -res)\n",
    "long_n = len(long_grid)\n",
    "lat_n = len(lat_grid)\n",
    "print(long_grid) \n",
    "print(lat_grid)"
   ]
  },
  {
   "cell_type": "code",
   "execution_count": 62,
   "metadata": {
    "slideshow": {
     "slide_type": "fragment"
    }
   },
   "outputs": [
    {
     "name": "stdout",
     "output_type": "stream",
     "text": [
      "[(-120.0, 48.0), (-119.0, 48.0), (-118.0, 48.0), (-117.0, 48.0), (-116.0, 48.0), (-115.0, 48.0), (-114.0, 48.0), (-113.0, 48.0), (-112.0, 48.0), (-111.0, 48.0), (-110.0, 48.0), (-109.0, 48.0), (-108.0, 48.0), (-107.0, 48.0), (-106.0, 48.0), (-105.0, 48.0), (-104.0, 48.0), (-103.0, 48.0), (-102.0, 48.0), (-120.0, 47.0), (-119.0, 47.0), (-118.0, 47.0), (-117.0, 47.0), (-116.0, 47.0), (-115.0, 47.0), (-114.0, 47.0), (-113.0, 47.0), (-112.0, 47.0), (-111.0, 47.0), (-110.0, 47.0), (-109.0, 47.0), (-108.0, 47.0), (-107.0, 47.0), (-106.0, 47.0), (-105.0, 47.0), (-104.0, 47.0), (-103.0, 47.0), (-102.0, 47.0), (-120.0, 46.0), (-119.0, 46.0), (-118.0, 46.0), (-117.0, 46.0), (-116.0, 46.0), (-115.0, 46.0), (-114.0, 46.0), (-113.0, 46.0), (-112.0, 46.0), (-111.0, 46.0), (-110.0, 46.0), (-109.0, 46.0), (-108.0, 46.0), (-107.0, 46.0), (-106.0, 46.0), (-105.0, 46.0), (-104.0, 46.0), (-103.0, 46.0), (-102.0, 46.0), (-120.0, 45.0), (-119.0, 45.0), (-118.0, 45.0), (-117.0, 45.0), (-116.0, 45.0), (-115.0, 45.0), (-114.0, 45.0), (-113.0, 45.0), (-112.0, 45.0), (-111.0, 45.0), (-110.0, 45.0), (-109.0, 45.0), (-108.0, 45.0), (-107.0, 45.0), (-106.0, 45.0), (-105.0, 45.0), (-104.0, 45.0), (-103.0, 45.0), (-102.0, 45.0), (-120.0, 44.0), (-119.0, 44.0), (-118.0, 44.0), (-117.0, 44.0), (-116.0, 44.0), (-115.0, 44.0), (-114.0, 44.0), (-113.0, 44.0), (-112.0, 44.0), (-111.0, 44.0), (-110.0, 44.0), (-109.0, 44.0), (-108.0, 44.0), (-107.0, 44.0), (-106.0, 44.0), (-105.0, 44.0), (-104.0, 44.0), (-103.0, 44.0), (-102.0, 44.0), (-120.0, 43.0), (-119.0, 43.0), (-118.0, 43.0), (-117.0, 43.0), (-116.0, 43.0), (-115.0, 43.0), (-114.0, 43.0), (-113.0, 43.0), (-112.0, 43.0), (-111.0, 43.0), (-110.0, 43.0), (-109.0, 43.0), (-108.0, 43.0), (-107.0, 43.0), (-106.0, 43.0), (-105.0, 43.0), (-104.0, 43.0), (-103.0, 43.0), (-102.0, 43.0), (-120.0, 42.0), (-119.0, 42.0), (-118.0, 42.0), (-117.0, 42.0), (-116.0, 42.0), (-115.0, 42.0), (-114.0, 42.0), (-113.0, 42.0), (-112.0, 42.0), (-111.0, 42.0), (-110.0, 42.0), (-109.0, 42.0), (-108.0, 42.0), (-107.0, 42.0), (-106.0, 42.0), (-105.0, 42.0), (-104.0, 42.0), (-103.0, 42.0), (-102.0, 42.0), (-120.0, 41.0), (-119.0, 41.0), (-118.0, 41.0), (-117.0, 41.0), (-116.0, 41.0), (-115.0, 41.0), (-114.0, 41.0), (-113.0, 41.0), (-112.0, 41.0), (-111.0, 41.0), (-110.0, 41.0), (-109.0, 41.0), (-108.0, 41.0), (-107.0, 41.0), (-106.0, 41.0), (-105.0, 41.0), (-104.0, 41.0), (-103.0, 41.0), (-102.0, 41.0), (-120.0, 40.0), (-119.0, 40.0), (-118.0, 40.0), (-117.0, 40.0), (-116.0, 40.0), (-115.0, 40.0), (-114.0, 40.0), (-113.0, 40.0), (-112.0, 40.0), (-111.0, 40.0), (-110.0, 40.0), (-109.0, 40.0), (-108.0, 40.0), (-107.0, 40.0), (-106.0, 40.0), (-105.0, 40.0), (-104.0, 40.0), (-103.0, 40.0), (-102.0, 40.0)]\n",
      "\n",
      "True\n"
     ]
    }
   ],
   "source": [
    "## create list of coords, check orientations\n",
    "coords = [(long, lat) for lat in lat_grid for long in long_grid]\n",
    "print(coords)\n",
    "\n",
    "\n",
    "### for-loop version of the list comprehension above:\n",
    "coords2 = []\n",
    "for lat in lat_grid:\n",
    "    for long in long_grid:\n",
    "        coords2.append( (long, lat) )\n",
    "\n",
    "print()\n",
    "print(coords2 == coords)"
   ]
  },
  {
   "cell_type": "code",
   "execution_count": 63,
   "metadata": {
    "slideshow": {
     "slide_type": "fragment"
    }
   },
   "outputs": [],
   "source": [
    "## assume a quadratic spatial trend for pm10\n",
    "long_bozeman = -111.043\n",
    "lat_bozeman = 45.677\n",
    "def quadratic_trend(long, lat):\n",
    "    return -1.3*((long - long_bozeman) **2 + (lat - lat_bozeman) **2) + 160"
   ]
  },
  {
   "cell_type": "code",
   "execution_count": 64,
   "metadata": {
    "slideshow": {
     "slide_type": "fragment"
    }
   },
   "outputs": [
    {
     "name": "stdout",
     "output_type": "stream",
     "text": [
      "[48.68856860000014, 70.67676860000013, 90.06496860000011, 106.85316860000009, 121.04136860000008, 132.62956860000006, 141.61776860000003, 148.00596860000002, 151.7941686, 152.9823686, 151.57056859999997, 147.55876859999995, 140.94696859999993, 131.73516859999992, 119.92336859999992, 105.51156859999989, 88.49976859999988, 68.88796859999987, 46.67616859999984, 53.42836860000013, 75.41656860000013, 94.80476860000012, 111.59296860000009, 125.78116860000009, 137.36936860000006, 146.35756860000004, 152.74576860000002, 156.5339686, 157.7221686, 156.31036859999998, 152.29856859999995, 145.68676859999994, 136.47496859999993, 124.66316859999992, 110.25136859999989, 93.23956859999988, 73.62776859999984, 51.41596859999983, 55.56816860000012, 77.55636860000013, 96.94456860000011, 113.7327686000001, 127.92096860000008, 139.50916860000007, 148.49736860000004, 154.88556860000003, 158.67376860000002, 159.8619686, 158.45016859999998, 154.43836859999996, 147.82656859999994, 138.61476859999993, 126.80296859999991, 112.3911685999999, 95.37936859999988, 75.76756859999985, 53.55576859999982, 55.107968600000135, 77.09616860000013, 96.48436860000012, 113.2725686000001, 127.46076860000008, 139.04896860000008, 148.03716860000006, 154.42536860000004, 158.21356860000003, 159.4017686, 157.9899686, 153.97816859999998, 147.36636859999996, 138.15456859999995, 126.34276859999991, 111.9309685999999, 94.91916859999988, 75.30736859999985, 53.09556859999984, 52.047768600000126, 74.03596860000013, 93.42416860000012, 110.2123686000001, 124.40056860000008, 135.98876860000007, 144.97696860000005, 151.36516860000003, 155.15336860000002, 156.3415686, 154.9297686, 150.91796859999997, 144.30616859999995, 135.09436859999994, 123.28256859999992, 108.8707685999999, 91.85896859999988, 72.24716859999985, 50.03536859999983, 46.38756860000014, 68.37576860000013, 87.76396860000011, 104.5521686000001, 118.74036860000008, 130.32856860000007, 139.31676860000005, 145.70496860000003, 149.49316860000002, 150.6813686, 149.26956859999999, 145.25776859999996, 138.64596859999995, 129.43416859999994, 117.62236859999992, 103.2105685999999, 86.19876859999988, 66.58696859999985, 44.37516859999984, 38.12736860000015, 60.11556860000013, 79.50376860000011, 96.2919686000001, 110.48016860000008, 122.06836860000007, 131.05656860000005, 137.44476860000003, 141.23296860000002, 142.42116860000002, 141.0093686, 136.99756859999997, 130.38576859999995, 121.17396859999994, 109.36216859999992, 94.9503685999999, 77.93856859999988, 58.326768599999866, 36.114968599999855, 27.267168600000133, 49.25536860000014, 68.64356860000012, 85.4317686000001, 99.61996860000008, 111.20816860000008, 120.19636860000006, 126.58456860000004, 130.37276860000003, 131.5609686, 130.1491686, 126.13736859999997, 119.52556859999996, 110.31376859999995, 98.50196859999991, 84.0901685999999, 67.07836859999989, 47.466568599999846, 25.254768599999835, 13.806968600000147, 35.79516860000014, 55.18336860000012, 71.9715686000001, 86.15976860000009, 97.74796860000006, 106.73616860000006, 113.12436860000004, 116.91256860000001, 118.10076860000001, 116.68896859999998, 112.67716859999997, 106.06536859999996, 96.85356859999993, 85.04176859999993, 70.6299685999999, 53.61816859999989, 34.006368599999874, 11.794568599999849]\n",
      "\n",
      "True\n"
     ]
    }
   ],
   "source": [
    "### get list with the pm10 at each coordinate\n",
    "pm10_lc = [quadratic_trend(longlat[0], longlat[1]) for longlat in coords]\n",
    "print(pm10_lc)\n",
    "\n",
    "### for loop version of the list comprehension above\n",
    "pm10_lc2 = []\n",
    "for longlat in coords:\n",
    "    long = longlat[0]\n",
    "    lat = longlat[1]\n",
    "    pollution = quadratic_trend(long, lat)\n",
    "    pm10_lc2.append(pollution)\n",
    "    \n",
    "print()\n",
    "print(pm10_lc2 == pm10_lc)"
   ]
  },
  {
   "cell_type": "code",
   "execution_count": 65,
   "metadata": {
    "slideshow": {
     "slide_type": "fragment"
    }
   },
   "outputs": [
    {
     "name": "stdout",
     "output_type": "stream",
     "text": [
      "[ 48.6885686  70.6767686  90.0649686 106.8531686 121.0413686 132.6295686\n",
      " 141.6177686 148.0059686 151.7941686 152.9823686 151.5705686 147.5587686\n",
      " 140.9469686 131.7351686 119.9233686 105.5115686  88.4997686  68.8879686\n",
      "  46.6761686  53.4283686  75.4165686  94.8047686 111.5929686 125.7811686\n",
      " 137.3693686 146.3575686 152.7457686 156.5339686 157.7221686 156.3103686\n",
      " 152.2985686 145.6867686 136.4749686 124.6631686 110.2513686  93.2395686\n",
      "  73.6277686  51.4159686  55.5681686  77.5563686  96.9445686 113.7327686\n",
      " 127.9209686 139.5091686 148.4973686 154.8855686 158.6737686 159.8619686\n",
      " 158.4501686 154.4383686 147.8265686 138.6147686 126.8029686 112.3911686\n",
      "  95.3793686  75.7675686  53.5557686  55.1079686  77.0961686  96.4843686\n",
      " 113.2725686 127.4607686 139.0489686 148.0371686 154.4253686 158.2135686\n",
      " 159.4017686 157.9899686 153.9781686 147.3663686 138.1545686 126.3427686\n",
      " 111.9309686  94.9191686  75.3073686  53.0955686  52.0477686  74.0359686\n",
      "  93.4241686 110.2123686 124.4005686 135.9887686 144.9769686 151.3651686\n",
      " 155.1533686 156.3415686 154.9297686 150.9179686 144.3061686 135.0943686\n",
      " 123.2825686 108.8707686  91.8589686  72.2471686  50.0353686  46.3875686\n",
      "  68.3757686  87.7639686 104.5521686 118.7403686 130.3285686 139.3167686\n",
      " 145.7049686 149.4931686 150.6813686 149.2695686 145.2577686 138.6459686\n",
      " 129.4341686 117.6223686 103.2105686  86.1987686  66.5869686  44.3751686\n",
      "  38.1273686  60.1155686  79.5037686  96.2919686 110.4801686 122.0683686\n",
      " 131.0565686 137.4447686 141.2329686 142.4211686 141.0093686 136.9975686\n",
      " 130.3857686 121.1739686 109.3621686  94.9503686  77.9385686  58.3267686\n",
      "  36.1149686  27.2671686  49.2553686  68.6435686  85.4317686  99.6199686\n",
      " 111.2081686 120.1963686 126.5845686 130.3727686 131.5609686 130.1491686\n",
      " 126.1373686 119.5255686 110.3137686  98.5019686  84.0901686  67.0783686\n",
      "  47.4665686  25.2547686  13.8069686  35.7951686  55.1833686  71.9715686\n",
      "  86.1597686  97.7479686 106.7361686 113.1243686 116.9125686 118.1007686\n",
      " 116.6889686 112.6771686 106.0653686  96.8535686  85.0417686  70.6299686\n",
      "  53.6181686  34.0063686  11.7945686]\n",
      "(171,)\n"
     ]
    }
   ],
   "source": [
    "### now convert list to numpy array\n",
    "pm10 = np.array(pm10_lc)\n",
    "print(pm10)\n",
    "print(pm10.shape)"
   ]
  },
  {
   "cell_type": "code",
   "execution_count": 66,
   "metadata": {
    "slideshow": {
     "slide_type": "fragment"
    }
   },
   "outputs": [
    {
     "name": "stdout",
     "output_type": "stream",
     "text": [
      "[[ 48.6885686  70.6767686  90.0649686 106.8531686 121.0413686 132.6295686\n",
      "  141.6177686 148.0059686 151.7941686 152.9823686 151.5705686 147.5587686\n",
      "  140.9469686 131.7351686 119.9233686 105.5115686  88.4997686  68.8879686\n",
      "   46.6761686]\n",
      " [ 53.4283686  75.4165686  94.8047686 111.5929686 125.7811686 137.3693686\n",
      "  146.3575686 152.7457686 156.5339686 157.7221686 156.3103686 152.2985686\n",
      "  145.6867686 136.4749686 124.6631686 110.2513686  93.2395686  73.6277686\n",
      "   51.4159686]\n",
      " [ 55.5681686  77.5563686  96.9445686 113.7327686 127.9209686 139.5091686\n",
      "  148.4973686 154.8855686 158.6737686 159.8619686 158.4501686 154.4383686\n",
      "  147.8265686 138.6147686 126.8029686 112.3911686  95.3793686  75.7675686\n",
      "   53.5557686]\n",
      " [ 55.1079686  77.0961686  96.4843686 113.2725686 127.4607686 139.0489686\n",
      "  148.0371686 154.4253686 158.2135686 159.4017686 157.9899686 153.9781686\n",
      "  147.3663686 138.1545686 126.3427686 111.9309686  94.9191686  75.3073686\n",
      "   53.0955686]\n",
      " [ 52.0477686  74.0359686  93.4241686 110.2123686 124.4005686 135.9887686\n",
      "  144.9769686 151.3651686 155.1533686 156.3415686 154.9297686 150.9179686\n",
      "  144.3061686 135.0943686 123.2825686 108.8707686  91.8589686  72.2471686\n",
      "   50.0353686]\n",
      " [ 46.3875686  68.3757686  87.7639686 104.5521686 118.7403686 130.3285686\n",
      "  139.3167686 145.7049686 149.4931686 150.6813686 149.2695686 145.2577686\n",
      "  138.6459686 129.4341686 117.6223686 103.2105686  86.1987686  66.5869686\n",
      "   44.3751686]\n",
      " [ 38.1273686  60.1155686  79.5037686  96.2919686 110.4801686 122.0683686\n",
      "  131.0565686 137.4447686 141.2329686 142.4211686 141.0093686 136.9975686\n",
      "  130.3857686 121.1739686 109.3621686  94.9503686  77.9385686  58.3267686\n",
      "   36.1149686]\n",
      " [ 27.2671686  49.2553686  68.6435686  85.4317686  99.6199686 111.2081686\n",
      "  120.1963686 126.5845686 130.3727686 131.5609686 130.1491686 126.1373686\n",
      "  119.5255686 110.3137686  98.5019686  84.0901686  67.0783686  47.4665686\n",
      "   25.2547686]\n",
      " [ 13.8069686  35.7951686  55.1833686  71.9715686  86.1597686  97.7479686\n",
      "  106.7361686 113.1243686 116.9125686 118.1007686 116.6889686 112.6771686\n",
      "  106.0653686  96.8535686  85.0417686  70.6299686  53.6181686  34.0063686\n",
      "   11.7945686]]\n",
      "\n",
      "(9, 19)\n"
     ]
    }
   ],
   "source": [
    "## reshape pm10 observations to match the lat/long shape\n",
    "pm10 = pm10.reshape([lat_n, long_n])\n",
    "print(pm10)\n",
    "print()\n",
    "print(pm10.shape)"
   ]
  },
  {
   "cell_type": "code",
   "execution_count": 67,
   "metadata": {
    "slideshow": {
     "slide_type": "fragment"
    }
   },
   "outputs": [
    {
     "data": {
      "image/png": "[encoded data removed]",
      "text/plain": [
       "<Figure size 1008x576 with 2 Axes>"
      ]
     },
     "metadata": {
      "needs_background": "light"
     },
     "output_type": "display_data"
    }
   ],
   "source": [
    "## plot values on a grid. Don't worry too much about how this works yet - we will learn about plotting in a few weeks.\n",
    "import matplotlib.pyplot as plt\n",
    "\n",
    "def plot_grid(data, long_grid, lat_grid, label):\n",
    "    fig, ax = plt.subplots(1,1, figsize=(14,8))\n",
    "    plt.imshow(data)\n",
    "    plt.colorbar(label = label)\n",
    "    plt.xlabel('Longitude')\n",
    "    plt.ylabel('Latitude')\n",
    "    ax.set_xticks(list(range(0, len(long_grid), 3)))\n",
    "    ax.set_yticks(list(range(0, len(lat_grid), 2)))\n",
    "    ax.set_xticklabels(long_grid[::3])\n",
    "    ax.set_yticklabels(lat_grid[::2])\n",
    "    \n",
    "    \n",
    "plot_grid(pm10, long_grid, lat_grid, 'PM10 (ug/m3)')"
   ]
  },
  {
   "cell_type": "code",
   "execution_count": 68,
   "metadata": {},
   "outputs": [
    {
     "data": {
      "image/png": "[encoded data removed]",
      "text/plain": [
       "<Figure size 1008x576 with 2 Axes>"
      ]
     },
     "metadata": {
      "needs_background": "light"
     },
     "output_type": "display_data"
    }
   ],
   "source": [
    "### Now use np.random.normal() to add random noise to the data, with mean and standard distribution of 0 and 5 ug/m3\n",
    "noise = np.random.normal(0,5,(lat_n, long_n))\n",
    "pm10_noisy = pm10 + noise\n",
    "\n",
    "plot_grid(pm10_noisy, long_grid, lat_grid, 'PM10 (ug/m3)')"
   ]
  },
  {
   "cell_type": "markdown",
   "metadata": {
    "slideshow": {
     "slide_type": "fragment"
    }
   },
   "source": [
    "We will now assume that this \"synthetic\" dataset is our real data set and use it for analysis. The US EPS's national 24-hour daily standard for PM10 is 150 ug/m3 (for the max 24-hour concentration in one year, averaged over three years. But we will just treat it as a one-day standard for simplicity.)\n",
    "\n",
    "Use NumPy's built-in functions to answer the following questions:\n",
    "1. What are the mean and std of PM10 across this region today?"
   ]
  },
  {
   "cell_type": "markdown",
   "metadata": {
    "slideshow": {
     "slide_type": "fragment"
    }
   },
   "source": [
    "2. Find the mean PM10 for each longitude and latitude."
   ]
  },
  {
   "cell_type": "markdown",
   "metadata": {},
   "source": [
    "3. Which longitude has the highest mean PM10? Which latitude has the lowest PM10?"
   ]
  },
  {
   "cell_type": "markdown",
   "metadata": {
    "slideshow": {
     "slide_type": "fragment"
    }
   },
   "source": [
    "3. What fraction of grid points exceed the EPA daily standard?"
   ]
  },
  {
   "cell_type": "markdown",
   "metadata": {
    "slideshow": {
     "slide_type": "fragment"
    }
   },
   "source": [
    "4. Use logical indexing to create an array with 1's at locations violating the standard, and 0's at locations not violating the standard. Plot using ``plot_grid``."
   ]
  },
  {
   "cell_type": "markdown",
   "metadata": {
    "slideshow": {
     "slide_type": "fragment"
    }
   },
   "source": [
    "5. Assume the following  logistic function (*completely made up, not a real relationship*) for excess cardiovascular deaths per 1,000 people in the region, based on the daily PM10 concentration. \n",
    "\n",
    "$$deaths = \\frac{15}{1 + \\exp(-(PM10 - 80) / 35)}$$\n",
    "\n",
    "Create a function that uses NumPy to calculate the excess cardio deaths for a grid of pm10 observations, then calculate and plot the grid of excess deaths."
   ]
  }
 ],
 "metadata": {
  "celltoolbar": "Slideshow",
  "kernelspec": {
   "display_name": "Python 3",
   "language": "python",
   "name": "python3"
  },
  "language_info": {
   "codemirror_mode": {
    "name": "ipython",
    "version": 3
   },
   "file_extension": ".py",
   "mimetype": "text/x-python",
   "name": "python",
   "nbconvert_exporter": "python",
   "pygments_lexer": "ipython3",
   "version": "3.7.6"
  }
 },
 "nbformat": 4,
 "nbformat_minor": 4
}
