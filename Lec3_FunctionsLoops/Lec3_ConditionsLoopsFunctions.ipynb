{
 "cells": [
  {
   "cell_type": "markdown",
   "metadata": {
    "slideshow": {
     "slide_type": "slide"
    }
   },
   "source": [
    "# Lecture 3: Conditions, Loops, and Functions\n",
    "ENVR 890-010: Python for Environmental Research, Fall 2021\n",
    "\n",
    "September 3, 2021\n",
    "\n",
    "By Andrew Hamilton & Rosa Cuppari. Some material adapted from Greg Characklis, David Gorelick and H.B. Zeff."
   ]
  },
  {
   "cell_type": "markdown",
   "metadata": {
    "slideshow": {
     "slide_type": "fragment"
    }
   },
   "source": [
    "## Summary\n",
    "In this lecture, we will first learn about importing Python **modules/packages**. We will then learn about using **conditional rules** to execute different tasks under different conditions, and using **loops** to perform repetitive tasks more efficiently. Lastly, we will learn how to build **functions**."
   ]
  },
  {
   "cell_type": "markdown",
   "metadata": {
    "slideshow": {
     "slide_type": "slide"
    }
   },
   "source": [
    "## Importing modules\n",
    "Python comes standard with a number of [built-in functions](https://docs.python.org/3/library/functions.html) and [classes](https://docs.python.org/3/library/stdtypes.html), which can be used in any program. Built-in functions include ``print()``, ``len()``, ``type()``, and ``str()``, while built-in classes include types and data structures such as ``int`` and ``list``. In addition to these built-in functions, there are a huge number of Python **modules**, which are collections of useful functions and classes that can be **imported** into any program. Many of these modules are included in the standard Python 3 installation. For example, the [``math``]((https://docs.python.org/3/library/math.html) module includes a variety of helpful mathematical constants and functions:"
   ]
  },
  {
   "cell_type": "code",
   "execution_count": 1,
   "metadata": {
    "slideshow": {
     "slide_type": "fragment"
    }
   },
   "outputs": [],
   "source": [
    "import math"
   ]
  },
  {
   "cell_type": "code",
   "execution_count": 2,
   "metadata": {
    "slideshow": {
     "slide_type": "fragment"
    }
   },
   "outputs": [
    {
     "name": "stdout",
     "output_type": "stream",
     "text": [
      "3.141592653589793\n"
     ]
    }
   ],
   "source": [
    "# pi is a constant\n",
    "print( math.pi )"
   ]
  },
  {
   "cell_type": "code",
   "execution_count": 3,
   "metadata": {
    "slideshow": {
     "slide_type": "fragment"
    }
   },
   "outputs": [
    {
     "name": "stdout",
     "output_type": "stream",
     "text": [
      "3628800\n"
     ]
    }
   ],
   "source": [
    "# factorial is a function, meaning we enclose its argument in parentheses\n",
    "print( math.factorial(10) )"
   ]
  },
  {
   "cell_type": "markdown",
   "metadata": {
    "slideshow": {
     "slide_type": "slide"
    }
   },
   "source": [
    "In addition, there are many useful **packages**, or collections of modules, which are not part of the standard Python 3 library but can be installed and imported into any program. Many of the most useful packages for data analysis and scientific computing have already been added automatically when we installed the Anaconda distribution. For example, the ``Matplotlib`` package is the most common plotting library for Python, and its ``pyplot`` module for plotting is typically imported using the **alias** (nickname) of ``plt`` as follows:"
   ]
  },
  {
   "cell_type": "code",
   "execution_count": 4,
   "metadata": {
    "scrolled": true,
    "slideshow": {
     "slide_type": "fragment"
    }
   },
   "outputs": [
    {
     "data": {
      "text/plain": [
       "[<matplotlib.lines.Line2D at 0x1fe5b98c488>]"
      ]
     },
     "execution_count": 4,
     "metadata": {},
     "output_type": "execute_result"
    },
    {
     "data": {
      "image/png": "[encoded data removed]",
      "text/plain": [
       "<Figure size 432x288 with 1 Axes>"
      ]
     },
     "metadata": {
      "needs_background": "light"
     },
     "output_type": "display_data"
    }
   ],
   "source": [
    "import matplotlib.pyplot as plt\n",
    "\n",
    "# plot a line\n",
    "pt1 = (0, 0)\n",
    "pt2 = (100, 100)\n",
    "plt.plot([pt1[0], pt2[0]], [pt1[1], pt2[1]])"
   ]
  },
  {
   "cell_type": "markdown",
   "metadata": {
    "slideshow": {
     "slide_type": "fragment"
    }
   },
   "source": [
    "We will learn more about plotting using Matplotlib in a couple of weeks, and other modules and packages will be introduced throughout the course."
   ]
  },
  {
   "cell_type": "markdown",
   "metadata": {
    "slideshow": {
     "slide_type": "slide"
    }
   },
   "source": [
    "## Conditional rules\n",
    "### Motivation\n",
    "At a basic level, a computer program consists of a list of instructions that we want the computer to perform. Often, these instructions are **conditional rules**, wherein we want to perform one operation if a particular statement is true, and a different operation if the statement is false. "
   ]
  },
  {
   "cell_type": "markdown",
   "metadata": {
    "slideshow": {
     "slide_type": "slide"
    }
   },
   "source": [
    "For example, in my research I work with simulation models for reservoir operations. In such a model (as in real life), the amount of water released from the reservoir depends on whether we are in \"flood operations\", \"drought operations\", or \"normal operations\" mode. Thus, at a basic level, we want our code to do something like this each day:"
   ]
  },
  {
   "cell_type": "markdown",
   "metadata": {
    "slideshow": {
     "slide_type": "fragment"
    }
   },
   "source": [
    "    1. Measure the water stored in the reservoir, S"
   ]
  },
  {
   "cell_type": "markdown",
   "metadata": {
    "slideshow": {
     "slide_type": "fragment"
    }
   },
   "source": [
    "    2. If S is above an upper threshold, release a lot of water, determined by \"flood\" operating rules"
   ]
  },
  {
   "cell_type": "markdown",
   "metadata": {
    "slideshow": {
     "slide_type": "fragment"
    }
   },
   "source": [
    "    3. Else, if S is below a lower threshold, release a small amount of water, determined by \"drought\" operating rules"
   ]
  },
  {
   "cell_type": "markdown",
   "metadata": {
    "slideshow": {
     "slide_type": "fragment"
    }
   },
   "source": [
    "    4. Else, release a medium amount of water, determined by \"normal\" operating rules"
   ]
  },
  {
   "cell_type": "markdown",
   "metadata": {
    "slideshow": {
     "slide_type": "slide"
    }
   },
   "source": [
    "A computer program can be thought of like a tree, with different branches emerging at each new conditional rule. As we move through the program, we climb up the tree along a particular path determined by the truth values of the different conditional statements."
   ]
  },
  {
   "cell_type": "markdown",
   "metadata": {
    "slideshow": {
     "slide_type": "fragment"
    }
   },
   "source": [
    "<img src=\"lec3_tree.jpg\" style=\"width: 700px;\" />"
   ]
  },
  {
   "cell_type": "markdown",
   "metadata": {
    "slideshow": {
     "slide_type": "slide"
    }
   },
   "source": [
    "### Operators\n",
    "**Operators** in a computer program are used to perform operations on variables and values. The simplest example are the **arithmetic operators** such as ``+`` and ``**``. However, there are also many operators which are used to calculate the truth or falsity of a statement. For each of the examples given below, the output of the operator is a boolean value (True or False). A full list of Python operators can be found [here](https://www.w3schools.com/python/python_operators.asp)."
   ]
  },
  {
   "cell_type": "markdown",
   "metadata": {
    "slideshow": {
     "slide_type": "slide"
    }
   },
   "source": [
    "**Comparison operators** are used to compare two values:"
   ]
  },
  {
   "cell_type": "code",
   "execution_count": 5,
   "metadata": {
    "slideshow": {
     "slide_type": "fragment"
    }
   },
   "outputs": [
    {
     "name": "stdout",
     "output_type": "stream",
     "text": [
      "True\n",
      "True\n"
     ]
    }
   ],
   "source": [
    "x = 1\n",
    "y = 1\n",
    "z = 2\n",
    "\n",
    "# == : are the values equal?\n",
    "print( x == y )\n",
    "# != : are the values NOT equal?\n",
    "print( x != z )"
   ]
  },
  {
   "cell_type": "code",
   "execution_count": 6,
   "metadata": {
    "slideshow": {
     "slide_type": "fragment"
    }
   },
   "outputs": [
    {
     "name": "stdout",
     "output_type": "stream",
     "text": [
      "False\n",
      "False\n",
      "True\n",
      "True\n",
      "False\n"
     ]
    }
   ],
   "source": [
    "## > : greater than\n",
    "## < : less than\n",
    "## >= : greater than or equal to\n",
    "## <= : less than or equal to\n",
    "print( x > y )\n",
    "print( x > z )\n",
    "print( x < z )\n",
    "print( x >= y )\n",
    "print( x >= z )"
   ]
  },
  {
   "cell_type": "markdown",
   "metadata": {
    "slideshow": {
     "slide_type": "slide"
    }
   },
   "source": [
    "**Logical operators** are used to combine two conditional statements:"
   ]
  },
  {
   "cell_type": "code",
   "execution_count": 7,
   "metadata": {
    "slideshow": {
     "slide_type": "fragment"
    }
   },
   "outputs": [
    {
     "name": "stdout",
     "output_type": "stream",
     "text": [
      "True\n"
     ]
    }
   ],
   "source": [
    "## and : are both statements true?\n",
    "## or : is at least one of the statements true?\n",
    "print( x == y  and x < z )"
   ]
  },
  {
   "cell_type": "code",
   "execution_count": 8,
   "metadata": {
    "slideshow": {
     "slide_type": "fragment"
    }
   },
   "outputs": [
    {
     "name": "stdout",
     "output_type": "stream",
     "text": [
      "True\n"
     ]
    }
   ],
   "source": [
    "print( x >= z  or y == x )"
   ]
  },
  {
   "cell_type": "markdown",
   "metadata": {
    "slideshow": {
     "slide_type": "slide"
    }
   },
   "source": [
    "We can also do sequences of more than two conditions, but **order of operations is important here**: ``and`` takes precedence over ``or``. See the expanded order of operations (beyond PEMDAS) [here](https://www.programiz.com/python-programming/precedence-associativity). It is generally a good idea to use parentheses liberally when you are dealing with multiple logical operations, to make sure you are actually testing what you think you are testing!"
   ]
  },
  {
   "cell_type": "code",
   "execution_count": 9,
   "metadata": {
    "slideshow": {
     "slide_type": "fragment"
    }
   },
   "outputs": [
    {
     "name": "stdout",
     "output_type": "stream",
     "text": [
      "True\n",
      "False\n"
     ]
    }
   ],
   "source": [
    "## say we are reservoir operators, and need to know whether minimum flow requirements for Chinook salmon \n",
    "## in California are currently important (assume these are active when flood operations occur either in winter and spring)\n",
    "operations = 'drought'\n",
    "season = 'winter'\n",
    "\n",
    "## which is correct?\n",
    "min_flow_required = season == 'winter' or season == 'spring' and operations == 'flood'\n",
    "print(min_flow_required)\n",
    "min_flow_required = operations == 'flood' and season == 'winter' or season == 'spring'\n",
    "print(min_flow_required)"
   ]
  },
  {
   "cell_type": "code",
   "execution_count": 10,
   "metadata": {
    "slideshow": {
     "slide_type": "fragment"
    }
   },
   "outputs": [
    {
     "name": "stdout",
     "output_type": "stream",
     "text": [
      "False\n",
      "False\n"
     ]
    }
   ],
   "source": [
    "## use parentheses so you don't have to worry about the order\n",
    "min_flow_required = (season == 'winter' or season == 'spring') and operations == 'flood'\n",
    "print(min_flow_required)\n",
    "min_flow_required = operations == 'flood' and (season == 'winter' or season == 'spring')\n",
    "print(min_flow_required)"
   ]
  },
  {
   "cell_type": "markdown",
   "metadata": {
    "slideshow": {
     "slide_type": "slide"
    }
   },
   "source": [
    "**Membership operators** can check whether an element (or sequence of elements) are present in an object."
   ]
  },
  {
   "cell_type": "code",
   "execution_count": 11,
   "metadata": {
    "slideshow": {
     "slide_type": "fragment"
    }
   },
   "outputs": [
    {
     "name": "stdout",
     "output_type": "stream",
     "text": [
      "True\n",
      "False\n",
      "True\n"
     ]
    }
   ],
   "source": [
    "l = list(range(10))\n",
    "x = 3\n",
    "y = 20\n",
    "print( x in l )\n",
    "print( y in l )\n",
    "print( y not in l )"
   ]
  },
  {
   "cell_type": "markdown",
   "metadata": {
    "slideshow": {
     "slide_type": "fragment"
    }
   },
   "source": [
    "This gives us an easier way to calculate whether minimum flows are required:"
   ]
  },
  {
   "cell_type": "code",
   "execution_count": 12,
   "metadata": {
    "slideshow": {
     "slide_type": "fragment"
    }
   },
   "outputs": [
    {
     "name": "stdout",
     "output_type": "stream",
     "text": [
      "False\n"
     ]
    }
   ],
   "source": [
    "min_flow_required = operations == 'flood' and season in ['winter', 'spring']\n",
    "print(min_flow_required)"
   ]
  },
  {
   "cell_type": "markdown",
   "metadata": {
    "slideshow": {
     "slide_type": "slide"
    }
   },
   "source": [
    "### If statements\n",
    "Now that we have a knowledge of operators, we can write conditional rules in Python using **if statements**, as follows:"
   ]
  },
  {
   "cell_type": "code",
   "execution_count": 13,
   "metadata": {
    "slideshow": {
     "slide_type": "fragment"
    }
   },
   "outputs": [],
   "source": [
    "age = 30\n",
    "birthday = \"1/14\"\n",
    "today = \"8/14\"\n",
    "\n",
    "if today == birthday:\n",
    "    age += 1\n",
    "\n",
    "    print( f'Happy birthday, you are now {age}!')"
   ]
  },
  {
   "cell_type": "markdown",
   "metadata": {
    "slideshow": {
     "slide_type": "fragment"
    }
   },
   "source": [
    "Note that **white space is important in Python**. The conditional code to be executed must be indented (traditionally 1 tab or four spaces). The if statement ends when the indentation ends."
   ]
  },
  {
   "cell_type": "markdown",
   "metadata": {
    "slideshow": {
     "slide_type": "slide"
    }
   },
   "source": [
    "**If-else statements** can be used to execute different instructions for True and False values:"
   ]
  },
  {
   "cell_type": "code",
   "execution_count": 14,
   "metadata": {
    "slideshow": {
     "slide_type": "fragment"
    }
   },
   "outputs": [
    {
     "name": "stdout",
     "output_type": "stream",
     "text": [
      "Sorry, you are still 30 :(\n"
     ]
    }
   ],
   "source": [
    "age = 30\n",
    "birthday = \"1/1\"\n",
    "today = \"8/14\"\n",
    "\n",
    "if today == birthday:\n",
    "    age += 1\n",
    "    print( f'Happy birthday, you are now {age}!')\n",
    "else:\n",
    "    print( f'Sorry, you are still {age} :(')    "
   ]
  },
  {
   "cell_type": "markdown",
   "metadata": {
    "slideshow": {
     "slide_type": "slide"
    }
   },
   "source": [
    "And to test multiple cases, we can use **if-elif-else statements**:"
   ]
  },
  {
   "cell_type": "code",
   "execution_count": 15,
   "metadata": {
    "slideshow": {
     "slide_type": "fragment"
    }
   },
   "outputs": [
    {
     "name": "stdout",
     "output_type": "stream",
     "text": [
      "Happy birthday, you are now 31!\n"
     ]
    }
   ],
   "source": [
    "age = 30\n",
    "birthday = \"8/14\"\n",
    "today = \"8/14\"\n",
    "tomorrow = \"8/15\"\n",
    "\n",
    "if today == birthday:\n",
    "    age += 1\n",
    "    print( f'Happy birthday, you are now {age}!')\n",
    "elif tomorrow == birthday:\n",
    "    age += 1\n",
    "    print( f'Wow, you turn {age} tomorrow!')\n",
    "else:\n",
    "    print( f'Sorry, you are still {age} for at least two days :(')    "
   ]
  },
  {
   "cell_type": "markdown",
   "metadata": {
    "slideshow": {
     "slide_type": "slide"
    }
   },
   "source": [
    "A computer program will often contain **nested statements** to create the tree-branch structure we saw above:"
   ]
  },
  {
   "cell_type": "code",
   "execution_count": 16,
   "metadata": {
    "slideshow": {
     "slide_type": "fragment"
    }
   },
   "outputs": [
    {
     "name": "stdout",
     "output_type": "stream",
     "text": [
      "Ugh, another year around the sun. You are now 51, gross!\n"
     ]
    }
   ],
   "source": [
    "age = 50\n",
    "birthday_sadness_threshold = 49\n",
    "birthday = \"8/14\"\n",
    "today = \"8/14\"\n",
    "tomorrow = \"8/15\"\n",
    "\n",
    "if age < birthday_sadness_threshold:\n",
    "    if today == birthday:\n",
    "        age += 1\n",
    "        print( f'Happy birthday, you are now {age}!')\n",
    "    elif tomorrow == birthday:\n",
    "        age += 1 \n",
    "        print( f'Wow, you turn {age} tomorrow!')\n",
    "    else:\n",
    "        print( f'Sorry, you are still {age} :(')  \n",
    "else:\n",
    "    if today == birthday:\n",
    "        age += 1\n",
    "        print( f'Ugh, another year around the sun. You are now {age}, gross!')\n",
    "    elif tomorrow == birthday:\n",
    "        age += 1\n",
    "        print( f'Enjoy your last day of being {age - 1}, you turn super old ({age}!) tomorrow.')\n",
    "    else:\n",
    "        print( f'Hooray, you are still {age} for at least two days :)')  "
   ]
  },
  {
   "cell_type": "markdown",
   "metadata": {
    "slideshow": {
     "slide_type": "slide"
    }
   },
   "source": [
    "### In-class exercise:\n",
    "Use nested if-elif-else statements to complete the code below, so that it outputs releases consistent with the following conditional rules:"
   ]
  },
  {
   "cell_type": "markdown",
   "metadata": {
    "slideshow": {
     "slide_type": "fragment"
    }
   },
   "source": [
    "<img src=\"lec3_tree2.jpg\" style=\"width: 700px;\" />"
   ]
  },
  {
   "cell_type": "code",
   "execution_count": 17,
   "metadata": {
    "slideshow": {
     "slide_type": "fragment"
    }
   },
   "outputs": [
    {
     "name": "stdout",
     "output_type": "stream",
     "text": [
      "Release = -1 cfs\n"
     ]
    }
   ],
   "source": [
    "## change the storage, forecast, and season, to make sure you get the correct answer for all combinations\n",
    "storage = 'drought'  # can be 'flood', 'normal', or 'drought'\n",
    "forecast = 'dry'   # can be 'wet' or 'dry'\n",
    "season = 'spring'  # can be 'winter', 'spring', 'summer', or 'fall'\n",
    "\n",
    "## set initial value for release that doesn't make sense, so we know something is wrong if we get this answer\n",
    "release = -1\n",
    "\n",
    "if storage == 'flood':\n",
    "    if forecast == 'wet':\n",
    "        release = 1000    \n",
    "\n",
    "print( f'Release = {release} cfs')"
   ]
  },
  {
   "cell_type": "markdown",
   "metadata": {
    "slideshow": {
     "slide_type": "slide"
    }
   },
   "source": [
    "## Loops\n",
    "Loops are one of the most important tools in a programmer's toolbox. A loop allows us to perform repetitive tasks with much less effort."
   ]
  },
  {
   "cell_type": "markdown",
   "metadata": {
    "slideshow": {
     "slide_type": "slide"
    }
   },
   "source": [
    "### For loops\n",
    "The **for loop** is the most common type of loop in Python. It allows us to **iterate** over the items in an **iterable object**, and perform the same task for each one. One common example of an iterable object is the ``range`` iterator, which will output values in a sequence:"
   ]
  },
  {
   "cell_type": "code",
   "execution_count": 18,
   "metadata": {
    "slideshow": {
     "slide_type": "fragment"
    }
   },
   "outputs": [
    {
     "name": "stdout",
     "output_type": "stream",
     "text": [
      "0\n",
      "1\n",
      "2\n",
      "3\n",
      "4\n",
      "5\n",
      "6\n",
      "7\n",
      "8\n",
      "9\n"
     ]
    }
   ],
   "source": [
    "for i in range(10):\n",
    "    print(i)"
   ]
  },
  {
   "cell_type": "markdown",
   "metadata": {
    "slideshow": {
     "slide_type": "fragment"
    }
   },
   "source": [
    "We can also iterate directly over the items in a data structure, such as a list:"
   ]
  },
  {
   "cell_type": "code",
   "execution_count": 19,
   "metadata": {
    "slideshow": {
     "slide_type": "fragment"
    }
   },
   "outputs": [
    {
     "name": "stdout",
     "output_type": "stream",
     "text": [
      "earth\n",
      "air\n",
      "fire\n",
      "water\n"
     ]
    }
   ],
   "source": [
    "for s in ['earth', 'air', 'fire', 'water']:\n",
    "    print(s)"
   ]
  },
  {
   "cell_type": "code",
   "execution_count": 20,
   "metadata": {},
   "outputs": [
    {
     "name": "stdout",
     "output_type": "stream",
     "text": [
      "[0, 1, 2, 3, 4, 5, 6, 7, 8, 9]\n",
      "0\n",
      "1\n",
      "2\n",
      "3\n",
      "4\n",
      "5\n",
      "6\n",
      "7\n",
      "8\n",
      "9\n"
     ]
    }
   ],
   "source": [
    "l = list(range(10))\n",
    "print(l)\n",
    "for i in l:\n",
    "    print(i)"
   ]
  },
  {
   "cell_type": "markdown",
   "metadata": {
    "slideshow": {
     "slide_type": "fragment"
    }
   },
   "source": [
    "Lastly, it is often helpful to have both the element and the index when iterating. We can do this with **enumerate**:"
   ]
  },
  {
   "cell_type": "code",
   "execution_count": 21,
   "metadata": {
    "slideshow": {
     "slide_type": "fragment"
    }
   },
   "outputs": [
    {
     "name": "stdout",
     "output_type": "stream",
     "text": [
      "1 Florida FL\n",
      "2 Louisiana LA\n",
      "3 California CA\n",
      "4 North Carolina NC\n"
     ]
    }
   ],
   "source": [
    "states = ['Florida', 'Louisiana', 'California', 'North Carolina']\n",
    "abbreviations = ['FL', 'LA', 'CA', 'NC']\n",
    "\n",
    "for i, state in enumerate(states):\n",
    "    print(i+1, state, abbreviations[i])"
   ]
  },
  {
   "cell_type": "markdown",
   "metadata": {
    "slideshow": {
     "slide_type": "slide"
    }
   },
   "source": [
    "One use of for loops is to perform computations over one or more lists. For example, we can get the first ten square integers as follows:"
   ]
  },
  {
   "cell_type": "code",
   "execution_count": 22,
   "metadata": {
    "slideshow": {
     "slide_type": "fragment"
    }
   },
   "outputs": [
    {
     "name": "stdout",
     "output_type": "stream",
     "text": [
      "[1, 4, 9, 16, 25, 36, 49, 64, 81, 100]\n"
     ]
    }
   ],
   "source": [
    "l = list(range(1, 11))\n",
    "for i in range(len(l)):\n",
    "    l[i] **= 2\n",
    "print(l)"
   ]
  },
  {
   "cell_type": "markdown",
   "metadata": {
    "slideshow": {
     "slide_type": "fragment"
    }
   },
   "source": [
    "We can also use for loops to create new lists from scratch, using the **append** function of lists:"
   ]
  },
  {
   "cell_type": "code",
   "execution_count": 23,
   "metadata": {
    "slideshow": {
     "slide_type": "fragment"
    }
   },
   "outputs": [
    {
     "name": "stdout",
     "output_type": "stream",
     "text": [
      "[1, 4, 9, 16, 25, 36, 49, 64, 81, 100]\n"
     ]
    }
   ],
   "source": [
    "l = []\n",
    "for i in range(1, 11):\n",
    "    square = i **2\n",
    "    l.append(square)\n",
    "print(l)"
   ]
  },
  {
   "cell_type": "markdown",
   "metadata": {
    "slideshow": {
     "slide_type": "slide"
    }
   },
   "source": [
    "### While loops\n",
    "The other type of loop in Python is the **while loop**, which is used to repeat an operation until a certain boolean condition is met."
   ]
  },
  {
   "cell_type": "code",
   "execution_count": 24,
   "metadata": {
    "slideshow": {
     "slide_type": "fragment"
    }
   },
   "outputs": [
    {
     "name": "stdout",
     "output_type": "stream",
     "text": [
      "0\n",
      "1\n",
      "2\n",
      "3\n",
      "4\n",
      "5\n",
      "6\n",
      "7\n",
      "8\n",
      "9\n"
     ]
    }
   ],
   "source": [
    "## This will perform the same operation as our first for loop\n",
    "count = 0\n",
    "while count < 10:\n",
    "    print(count)\n",
    "    count += 1"
   ]
  },
  {
   "cell_type": "markdown",
   "metadata": {
    "slideshow": {
     "slide_type": "fragment"
    }
   },
   "source": [
    "While loops are preferable to for loops when we don't know how many iterations something will take. "
   ]
  },
  {
   "cell_type": "markdown",
   "metadata": {
    "slideshow": {
     "slide_type": "slide"
    }
   },
   "source": [
    "For example, suppose we want to get all of the Fibonacci numbers that are less than 200. The Fibonacci sequence is defined through the following recurrence relation:\n",
    "\n",
    "$$F_n = F_{n-1} + F_{n-2}$$\n",
    "\n",
    "For example, the sequence begins ``0, 1, 1, 2, 3, 5, 8, ...``. We can use a while loop to accomplish our task:"
   ]
  },
  {
   "cell_type": "code",
   "execution_count": 25,
   "metadata": {
    "slideshow": {
     "slide_type": "fragment"
    }
   },
   "outputs": [
    {
     "name": "stdout",
     "output_type": "stream",
     "text": [
      "Fibonacci numbers under 200: [0, 1, 1, 2, 3, 5, 8, 13, 21, 34, 55, 89, 144]\n",
      "Number of Fibonacci numbers under 200: 13\n"
     ]
    }
   ],
   "source": [
    "## set up with first two numbers, 0 and 1\n",
    "fib = [0, 1]\n",
    "threshold = 200\n",
    "\n",
    "## perform while loop until we pass threshold, adding each to list\n",
    "continue_loop = True\n",
    "while continue_loop:\n",
    "    new_fib = fib[-1] + fib[-2]\n",
    "    if (new_fib < threshold):\n",
    "        fib.append(new_fib)\n",
    "    else:\n",
    "        continue_loop = False\n",
    "    \n",
    "## print using the variables as they are when we exit loop\n",
    "print(f'Fibonacci numbers under {threshold}: {fib}')\n",
    "print(f'Number of Fibonacci numbers under {threshold}: {len(fib)}')"
   ]
  },
  {
   "cell_type": "markdown",
   "metadata": {
    "slideshow": {
     "slide_type": "slide"
    }
   },
   "source": [
    "### In-class exercise\n",
    "The [``random`` module](https://docs.python.org/3/library/random.html) has some nice functions for random sampling. For example, we can flip a weighted coin that comes up \"heads\" 90% of the time as follows:"
   ]
  },
  {
   "cell_type": "code",
   "execution_count": 26,
   "metadata": {
    "slideshow": {
     "slide_type": "fragment"
    }
   },
   "outputs": [
    {
     "name": "stdout",
     "output_type": "stream",
     "text": [
      "H\n"
     ]
    }
   ],
   "source": [
    "import random\n",
    "HorT = random.choices(['H', 'T'], weights = [0.9, 0.1])[0]\n",
    "print(HorT)"
   ]
  },
  {
   "cell_type": "markdown",
   "metadata": {
    "slideshow": {
     "slide_type": "fragment"
    }
   },
   "source": [
    "First, use a while loop to flip the coin until the first tails occurs, storing each outcome (including the final tails) in a list called ``l``"
   ]
  },
  {
   "cell_type": "code",
   "execution_count": null,
   "metadata": {
    "slideshow": {
     "slide_type": "fragment"
    }
   },
   "outputs": [],
   "source": []
  },
  {
   "cell_type": "markdown",
   "metadata": {
    "slideshow": {
     "slide_type": "fragment"
    }
   },
   "source": [
    "Now use a for loop to perform 100 trials of this experiment and get the average length of this list. Remember that the mean of a set of numbers is equal to $(a_1 + a_2 + ... + a_N) / N$."
   ]
  },
  {
   "cell_type": "code",
   "execution_count": null,
   "metadata": {
    "slideshow": {
     "slide_type": "fragment"
    }
   },
   "outputs": [],
   "source": []
  },
  {
   "cell_type": "markdown",
   "metadata": {
    "slideshow": {
     "slide_type": "fragment"
    }
   },
   "source": [
    "The theoretical answer to this problem is given by the [expected value of a geometric distribution](https://en.wikipedia.org/wiki/Geometric_distribution#Expected_Value_Examples), allowing us to check our answer. The expected number of flips should be given by the simple formula $(1-p)/p + 1 = (1-0.1)/0.1 + 1 = 10$.\n",
    "\n",
    "A good example of the Law of Large Numbers can be seen by rerunning your code multiple times for different numbers of trials. As you increase the number of trials, the estimated average should become closer to the mean and less variable."
   ]
  },
  {
   "cell_type": "markdown",
   "metadata": {
    "slideshow": {
     "slide_type": "slide"
    }
   },
   "source": [
    "## Functions\n",
    "We have used a number of functions already in this course, including built-in functions, such as ``len()``, and imported functions from modules, such as ``random.choices()``. In this section, we will learn how to build our own functions."
   ]
  },
  {
   "cell_type": "markdown",
   "metadata": {
    "slideshow": {
     "slide_type": "slide"
    }
   },
   "source": [
    "At a basic level, a function in Python is anything that takes some number of inputs (although this number could be zero), performs some operations, and returns some number of outputs (although this number could also be zero). Before it can be used, a function must be **defined** using a ``def`` statement. For example, a simple function that takes no inputs and returns no outputs is a custom print function:"
   ]
  },
  {
   "cell_type": "code",
   "execution_count": 27,
   "metadata": {
    "slideshow": {
     "slide_type": "fragment"
    }
   },
   "outputs": [],
   "source": [
    "def hello_world():\n",
    "    print ('Hello world!')"
   ]
  },
  {
   "cell_type": "markdown",
   "metadata": {
    "slideshow": {
     "slide_type": "fragment"
    }
   },
   "source": [
    "Now this function can be run by writing it with empty parentheses:"
   ]
  },
  {
   "cell_type": "code",
   "execution_count": 28,
   "metadata": {
    "slideshow": {
     "slide_type": "fragment"
    }
   },
   "outputs": [
    {
     "name": "stdout",
     "output_type": "stream",
     "text": [
      "Hello world!\n"
     ]
    }
   ],
   "source": [
    "hello_world()"
   ]
  },
  {
   "cell_type": "markdown",
   "metadata": {
    "slideshow": {
     "slide_type": "slide"
    }
   },
   "source": [
    "A more interesting function will take some **arguments** (inputs) inside the parentheses, which affect the execution of the function:"
   ]
  },
  {
   "cell_type": "code",
   "execution_count": 29,
   "metadata": {
    "slideshow": {
     "slide_type": "fragment"
    }
   },
   "outputs": [
    {
     "name": "stdout",
     "output_type": "stream",
     "text": [
      "Hello Earth, you are 4,543,000,000.0 years old!\n"
     ]
    }
   ],
   "source": [
    "def hello_name_age(name, age):\n",
    "    s = f'Hello {name}, you are {age:,} years old!'\n",
    "    print(s)\n",
    "\n",
    "hello_name_age('Earth', 4.543e9)"
   ]
  },
  {
   "cell_type": "markdown",
   "metadata": {
    "slideshow": {
     "slide_type": "fragment"
    }
   },
   "source": [
    "We can also specify the **default** for a variable in a Python function:"
   ]
  },
  {
   "cell_type": "code",
   "execution_count": 30,
   "metadata": {
    "slideshow": {
     "slide_type": "fragment"
    }
   },
   "outputs": [
    {
     "name": "stdout",
     "output_type": "stream",
     "text": [
      "Hello Earth, you are 4,543,000,000.0 years old!\n"
     ]
    }
   ],
   "source": [
    "def hello_name_age(name = 'Earth', age = 4.543e9):\n",
    "    s = f'Hello {name}, you are {age:,} years old!'\n",
    "    print(s)\n",
    "\n",
    "hello_name_age()"
   ]
  },
  {
   "cell_type": "code",
   "execution_count": 31,
   "metadata": {
    "slideshow": {
     "slide_type": "fragment"
    }
   },
   "outputs": [
    {
     "name": "stdout",
     "output_type": "stream",
     "text": [
      "Hello Betelgeuse, you are 10,010,000,000.0 years old!\n"
     ]
    }
   ],
   "source": [
    "hello_name_age('Betelgeuse', 10.01e9)"
   ]
  },
  {
   "cell_type": "markdown",
   "metadata": {
    "slideshow": {
     "slide_type": "slide"
    }
   },
   "source": [
    "The previous function takes arguments (inputs) but does not have any **return values** (outputs). However, commonly we will want to return values to use outside of the function body. For example, we can rewrite our Fibonacci code above using a function:"
   ]
  },
  {
   "cell_type": "code",
   "execution_count": 32,
   "metadata": {
    "slideshow": {
     "slide_type": "fragment"
    }
   },
   "outputs": [],
   "source": [
    "def fibonacci_under_threshold(threshold):\n",
    "    fib = [0, 1]\n",
    "\n",
    "    ## perform while loop until we pass threshold, adding each to list\n",
    "    continue_loop = True\n",
    "    while continue_loop:\n",
    "        new_fib = fib[-1] + fib[-2]\n",
    "        if (new_fib < threshold):\n",
    "            fib.append(new_fib)\n",
    "        else:\n",
    "            continue_loop = False\n",
    "    \n",
    "    return fib"
   ]
  },
  {
   "cell_type": "code",
   "execution_count": 33,
   "metadata": {
    "slideshow": {
     "slide_type": "fragment"
    }
   },
   "outputs": [
    {
     "data": {
      "text/plain": [
       "[0, 1, 1, 2, 3, 5, 8, 13, 21, 34, 55, 89, 144]"
      ]
     },
     "execution_count": 33,
     "metadata": {},
     "output_type": "execute_result"
    }
   ],
   "source": [
    "fibonacci_under_threshold(200)"
   ]
  },
  {
   "cell_type": "markdown",
   "metadata": {
    "slideshow": {
     "slide_type": "fragment"
    }
   },
   "source": [
    "When we run the function with the threshold 200, the list ``fib`` is outputted. We can now use this function to directly set the value of variables outside of the function."
   ]
  },
  {
   "cell_type": "code",
   "execution_count": 34,
   "metadata": {
    "slideshow": {
     "slide_type": "fragment"
    }
   },
   "outputs": [
    {
     "name": "stdout",
     "output_type": "stream",
     "text": [
      "[0, 1, 1, 2, 3, 5, 8, 13, 21, 34, 55, 89, 144]\n",
      "\n",
      "[0, 1, 1, 2, 3, 5, 8, 13, 21, 34, 55, 89, 144, 233, 377, 610, 987]\n"
     ]
    }
   ],
   "source": [
    "f200 = fibonacci_under_threshold(200)\n",
    "print(f200)\n",
    "print()\n",
    "\n",
    "f1000 = fibonacci_under_threshold(1000)\n",
    "print(f1000)"
   ]
  },
  {
   "cell_type": "code",
   "execution_count": 35,
   "metadata": {
    "slideshow": {
     "slide_type": "fragment"
    }
   },
   "outputs": [
    {
     "name": "stdout",
     "output_type": "stream",
     "text": [
      "There are 4 Fibonacci numbers between 200 and 1000.\n"
     ]
    }
   ],
   "source": [
    "n = len(f1000) - len(f200)\n",
    "print( f'There are {n} Fibonacci numbers between 200 and 1000.')"
   ]
  },
  {
   "cell_type": "markdown",
   "metadata": {
    "slideshow": {
     "slide_type": "slide"
    }
   },
   "source": [
    "This introduces the concept of **scope**. A variable created within a Python function is only defined within the body of that function. For example:"
   ]
  },
  {
   "cell_type": "code",
   "execution_count": 36,
   "metadata": {
    "slideshow": {
     "slide_type": "fragment"
    }
   },
   "outputs": [],
   "source": [
    "def hypotenuse(side_a, side_b):\n",
    "    side_c = math.sqrt(side_a **2 + side_b **2)\n",
    "    return side_c"
   ]
  },
  {
   "cell_type": "code",
   "execution_count": 37,
   "metadata": {
    "slideshow": {
     "slide_type": "fragment"
    }
   },
   "outputs": [
    {
     "name": "stdout",
     "output_type": "stream",
     "text": [
      "5.0\n"
     ]
    }
   ],
   "source": [
    "c = hypotenuse(3, 4)\n",
    "print(c)"
   ]
  },
  {
   "cell_type": "markdown",
   "metadata": {
    "slideshow": {
     "slide_type": "fragment"
    }
   },
   "source": [
    "The variable $c$ is accessible because it was declared in the scope of the main body (i.e., no indentation). However, we cannot access the variables ``side_a``, ``side_b`` or ``side_c`` because they are only defined in the scope of the ``hypotenuse()`` function."
   ]
  },
  {
   "cell_type": "code",
   "execution_count": 38,
   "metadata": {
    "slideshow": {
     "slide_type": "fragment"
    }
   },
   "outputs": [],
   "source": [
    "# print(side_a, side_b, side_c)"
   ]
  },
  {
   "cell_type": "markdown",
   "metadata": {
    "slideshow": {
     "slide_type": "slide"
    }
   },
   "source": [
    "Similarly, if you declare variables with the same name in two different scopes, the code executed within each scope will refer to the variable in the appropriate scope. For example:"
   ]
  },
  {
   "cell_type": "code",
   "execution_count": 39,
   "metadata": {
    "slideshow": {
     "slide_type": "fragment"
    }
   },
   "outputs": [
    {
     "name": "stdout",
     "output_type": "stream",
     "text": [
      "3 9\n"
     ]
    }
   ],
   "source": [
    "x = 3\n",
    "\n",
    "def square(x):\n",
    "    x **= 2\n",
    "    return x\n",
    "\n",
    "y = square(x)\n",
    "\n",
    "print(x, y)"
   ]
  },
  {
   "cell_type": "markdown",
   "metadata": {
    "slideshow": {
     "slide_type": "fragment"
    }
   },
   "source": [
    "In the example above, the value of ``x`` in the main body remains equal to 3, even after we square ``x`` within the function. The reason is that these are two separate variables in two separate scopes."
   ]
  },
  {
   "cell_type": "markdown",
   "metadata": {
    "slideshow": {
     "slide_type": "fragment"
    }
   },
   "source": [
    "However, if a variable name is used within a function without being defined in that function, Python will next search for the variable in the main body."
   ]
  },
  {
   "cell_type": "code",
   "execution_count": 40,
   "metadata": {
    "slideshow": {
     "slide_type": "fragment"
    }
   },
   "outputs": [
    {
     "name": "stdout",
     "output_type": "stream",
     "text": [
      "3 12\n"
     ]
    }
   ],
   "source": [
    "x = 3\n",
    "\n",
    "def multiply_by_x(y):\n",
    "    return y * x\n",
    "\n",
    "z = multiply_by_x(4)\n",
    "\n",
    "print(x, z)"
   ]
  },
  {
   "cell_type": "markdown",
   "metadata": {
    "slideshow": {
     "slide_type": "slide"
    }
   },
   "source": [
    "In more complex programs, it is common to have functions within functions, so that the scope is **nested**. In this case, the Python interpreter will move outwardly one function at a time until the variable name is found. This can get confusing, so it is best practice to pass the variables you will need into the function of interest so that the function body remains the proper scope for all variables used within it."
   ]
  },
  {
   "cell_type": "code",
   "execution_count": 41,
   "metadata": {
    "slideshow": {
     "slide_type": "fragment"
    }
   },
   "outputs": [
    {
     "name": "stdout",
     "output_type": "stream",
     "text": [
      "3 5 75\n"
     ]
    }
   ],
   "source": [
    "def multiply_x_by_y_squared(x,y):\n",
    "    z = square(y)\n",
    "    return x * z\n",
    "\n",
    "x = 3\n",
    "y = 5\n",
    "z = multiply_x_by_y_squared(x, y)\n",
    "\n",
    "print(x, y, z)"
   ]
  },
  {
   "cell_type": "markdown",
   "metadata": {
    "slideshow": {
     "slide_type": "slide"
    }
   },
   "source": [
    "### In-class exercise\n",
    "Using the code from the first exercise, create a function that takes the ``storage``, ``forecast``, and ``season`` as arguments, and returns the proper ``release`` from the reservoir. "
   ]
  }
 ],
 "metadata": {
  "celltoolbar": "Slideshow",
  "kernelspec": {
   "display_name": "Python 3",
   "language": "python",
   "name": "python3"
  },
  "language_info": {
   "codemirror_mode": {
    "name": "ipython",
    "version": 3
   },
   "file_extension": ".py",
   "mimetype": "text/x-python",
   "name": "python",
   "nbconvert_exporter": "python",
   "pygments_lexer": "ipython3",
   "version": "3.7.6"
  }
 },
 "nbformat": 4,
 "nbformat_minor": 4
}
