{
 "cells": [
  {
   "cell_type": "markdown",
   "metadata": {
    "slideshow": {
     "slide_type": "slide"
    }
   },
   "source": [
    "# Lecture 5: NumPy\n",
    "ENVR 890-010: Python for Environmental Research, Fall 2022\n",
    "\n",
    "September 16, 2022\n",
    "\n",
    "Modified from Andrew Hamilton. Some material adapted from Greg Characklis, David Gorelick and H.B. Zeff."
   ]
  },
  {
   "cell_type": "markdown",
   "metadata": {
    "slideshow": {
     "slide_type": "fragment"
    }
   },
   "source": [
    "## Summary\n",
    "Today we will be looking at a more advanced data structure called a **NumPy array**. Along the way, we will learn how **logical indexing** can be used with NumPy as a powerful tool to retrieve and manipulate particular subsets of data."
   ]
  },
  {
   "cell_type": "markdown",
   "metadata": {
    "slideshow": {
     "slide_type": "slide"
    }
   },
   "source": [
    "## NumPy\n",
    "[NumPy](https://numpy.org/doc/stable/) is one of the most popular packages for scientific computing and data science, and is included in the standard Anaconda installation. It is commonly imported with the **alias** ``np``. "
   ]
  },
  {
   "cell_type": "code",
   "execution_count": 2,
   "metadata": {
    "slideshow": {
     "slide_type": "fragment"
    }
   },
   "outputs": [],
   "source": [
    "import numpy as np"
   ]
  },
  {
   "cell_type": "markdown",
   "metadata": {
    "slideshow": {
     "slide_type": "slide"
    }
   },
   "source": [
    "### Creating NumPy arrays\n",
    "NumPy supports a new type of data structure: the **NumPy array**. NumPy arrays are designed to handle large, multi-dimensional arrays of numbers much more easily and efficiently than standard lists."
   ]
  },
  {
   "cell_type": "code",
   "execution_count": null,
   "metadata": {
    "slideshow": {
     "slide_type": "fragment"
    }
   },
   "outputs": [],
   "source": [
    "# here is a standard list with two dimensions\n",
    "l = [[1, 2, 3, 4, 5], [10, 9, 8, 7, 6]]\n",
    "print(l, type(l))"
   ]
  },
  {
   "cell_type": "code",
   "execution_count": null,
   "metadata": {
    "slideshow": {
     "slide_type": "fragment"
    }
   },
   "outputs": [],
   "source": [
    "# create a 2D numpy array from l\n",
    "a = np.array(l)\n",
    "print(a, type(a))"
   ]
  },
  {
   "cell_type": "markdown",
   "metadata": {
    "slideshow": {
     "slide_type": "fragment"
    }
   },
   "source": [
    "Note that, unlike the basic data structures such as lists, **all elements in a NumPy array must be the same type**. Although string types are allowed, NumPy is most commonly used with numeric types such as int and float."
   ]
  },
  {
   "cell_type": "markdown",
   "metadata": {
    "slideshow": {
     "slide_type": "fragment"
    }
   },
   "source": [
    "We access the elements the same way as lists:"
   ]
  },
  {
   "cell_type": "code",
   "execution_count": null,
   "metadata": {
    "slideshow": {
     "slide_type": "fragment"
    }
   },
   "outputs": [],
   "source": [
    "print(l[1][0])\n",
    "print(a[1][0])"
   ]
  },
  {
   "cell_type": "markdown",
   "metadata": {
    "slideshow": {
     "slide_type": "fragment"
    }
   },
   "source": [
    "Or, alternatively, in a single brackets and separated by a comma:"
   ]
  },
  {
   "cell_type": "code",
   "execution_count": null,
   "metadata": {
    "slideshow": {
     "slide_type": "fragment"
    }
   },
   "outputs": [],
   "source": [
    "print(a[0, 2])"
   ]
  },
  {
   "cell_type": "markdown",
   "metadata": {
    "slideshow": {
     "slide_type": "fragment"
    }
   },
   "source": [
    "We can get the number of dimensions and the shape of an array using its ``ndim`` and ``shape`` **properties**. For a 2D array, the shape is (number of rows, number of columns). For larger arrays, it always goes from the innermost set of brackets to the outermost set of brackets."
   ]
  },
  {
   "cell_type": "code",
   "execution_count": 1,
   "metadata": {
    "slideshow": {
     "slide_type": "fragment"
    }
   },
   "outputs": [
    {
     "ename": "NameError",
     "evalue": "name 'a' is not defined",
     "output_type": "error",
     "traceback": [
      "\u001b[1;31m---------------------------------------------------------------------------\u001b[0m",
      "\u001b[1;31mNameError\u001b[0m                                 Traceback (most recent call last)",
      "\u001b[1;32m~\\AppData\\Local\\Temp/ipykernel_30488/275239199.py\u001b[0m in \u001b[0;36m<module>\u001b[1;34m\u001b[0m\n\u001b[1;32m----> 1\u001b[1;33m \u001b[0mprint\u001b[0m\u001b[1;33m(\u001b[0m \u001b[0ma\u001b[0m\u001b[1;33m.\u001b[0m\u001b[0mndim\u001b[0m \u001b[1;33m)\u001b[0m\u001b[1;33m\u001b[0m\u001b[1;33m\u001b[0m\u001b[0m\n\u001b[0m\u001b[0;32m      2\u001b[0m \u001b[0mprint\u001b[0m\u001b[1;33m(\u001b[0m \u001b[0ma\u001b[0m\u001b[1;33m.\u001b[0m\u001b[0mshape\u001b[0m \u001b[1;33m)\u001b[0m\u001b[1;33m\u001b[0m\u001b[1;33m\u001b[0m\u001b[0m\n\u001b[0;32m      3\u001b[0m \u001b[0mprint\u001b[0m\u001b[1;33m(\u001b[0m\u001b[1;33m)\u001b[0m\u001b[1;33m\u001b[0m\u001b[1;33m\u001b[0m\u001b[0m\n",
      "\u001b[1;31mNameError\u001b[0m: name 'a' is not defined"
     ]
    }
   ],
   "source": [
    "print( a.ndim )\n",
    "print( a.shape )\n",
    "print()"
   ]
  },
  {
   "cell_type": "markdown",
   "metadata": {},
   "source": [
    "## In-class Exercise \n",
    "Create a for loop that iterates over both the rows and columns of a and prints out the values. "
   ]
  },
  {
   "cell_type": "markdown",
   "metadata": {
    "slideshow": {
     "slide_type": "fragment"
    }
   },
   "source": [
    "We can also do multi-dimensional **slices**"
   ]
  },
  {
   "cell_type": "code",
   "execution_count": null,
   "metadata": {
    "slideshow": {
     "slide_type": "fragment"
    }
   },
   "outputs": [],
   "source": [
    "print(a[:, 1:4])"
   ]
  },
  {
   "cell_type": "markdown",
   "metadata": {
    "slideshow": {
     "slide_type": "slide"
    }
   },
   "source": [
    "NumPy also has handy **functions** for creating different types of arrays. For example, we can create a new array filled with ones or zeros:"
   ]
  },
  {
   "cell_type": "code",
   "execution_count": null,
   "metadata": {
    "slideshow": {
     "slide_type": "fragment"
    }
   },
   "outputs": [],
   "source": [
    "# with a single argument, we will get a 1D array of that length\n",
    "a = np.ones(3)\n",
    "print(a, a.shape)"
   ]
  },
  {
   "cell_type": "code",
   "execution_count": null,
   "metadata": {
    "scrolled": false,
    "slideshow": {
     "slide_type": "fragment"
    }
   },
   "outputs": [],
   "source": [
    "# alternatively, we can give a tuple or list for multi-dimensional arrays\n",
    "a = np.zeros((3, 10, 20))\n",
    "print(a, a.shape)"
   ]
  },
  {
   "cell_type": "markdown",
   "metadata": {
    "slideshow": {
     "slide_type": "slide"
    }
   },
   "source": [
    "We can also create **sequences** of numbers easily (similar to list(range()) for lists):"
   ]
  },
  {
   "cell_type": "code",
   "execution_count": null,
   "metadata": {
    "slideshow": {
     "slide_type": "fragment"
    }
   },
   "outputs": [],
   "source": [
    "# with one argument, it is assumed to start at zero and count up by one until it reaches your number (not inclusive, it will stop before your number)\n",
    "a = np.arange(10)\n",
    "print(a, type(a))"
   ]
  },
  {
   "cell_type": "code",
   "execution_count": null,
   "metadata": {
    "slideshow": {
     "slide_type": "fragment"
    }
   },
   "outputs": [],
   "source": [
    "# with two arguments, it will start at the 1st number and count up by 1 until reaching the 2nd number\n",
    "a = np.arange(100, 120)\n",
    "print(a)"
   ]
  },
  {
   "cell_type": "code",
   "execution_count": null,
   "metadata": {
    "slideshow": {
     "slide_type": "fragment"
    }
   },
   "outputs": [],
   "source": [
    "# with three arguments, it will start at the 1st and count by increments of the 3rd number until it reaches the 2rd number (again not inclusive)\n",
    "a = np.arange(10, -21, -2.5)\n",
    "print(a)"
   ]
  },
  {
   "cell_type": "markdown",
   "metadata": {
    "slideshow": {
     "slide_type": "slide"
    }
   },
   "source": [
    "We can draw **random samples** from a normal distribution (or many other distributions). NumPy has functions for creating whole arrays at a time, rather than the one-by-one approach needed for the ``random`` module."
   ]
  },
  {
   "cell_type": "code",
   "execution_count": null,
   "metadata": {
    "slideshow": {
     "slide_type": "fragment"
    }
   },
   "outputs": [],
   "source": [
    "a = np.random.normal(loc = 10, scale = 8, size = (10, 10))\n",
    "print(a)"
   ]
  },
  {
   "cell_type": "markdown",
   "metadata": {
    "slideshow": {
     "slide_type": "slide"
    }
   },
   "source": [
    "### Doing math with NumPy\n",
    "NumPy makes it very easy to do **element-wise** arithmetic within and between arrays. "
   ]
  },
  {
   "cell_type": "code",
   "execution_count": null,
   "metadata": {
    "slideshow": {
     "slide_type": "fragment"
    }
   },
   "outputs": [],
   "source": [
    "a = np.array([1, 2, 3])\n",
    "b = a + 3\n",
    "print(b)"
   ]
  },
  {
   "cell_type": "code",
   "execution_count": null,
   "metadata": {
    "slideshow": {
     "slide_type": "fragment"
    }
   },
   "outputs": [],
   "source": [
    "c = a * 2\n",
    "print(c)"
   ]
  },
  {
   "cell_type": "markdown",
   "metadata": {},
   "source": [
    "Note this behavior is different than for lists, where \"+\" means append and \"*\" means replicate. For NumPy, the operations are simply applied to each element."
   ]
  },
  {
   "cell_type": "code",
   "execution_count": null,
   "metadata": {
    "slideshow": {
     "slide_type": "fragment"
    }
   },
   "outputs": [],
   "source": [
    "d = a ** 2\n",
    "print(d)"
   ]
  },
  {
   "cell_type": "code",
   "execution_count": null,
   "metadata": {
    "slideshow": {
     "slide_type": "fragment"
    }
   },
   "outputs": [],
   "source": [
    "e = a + d\n",
    "print(e)"
   ]
  },
  {
   "cell_type": "code",
   "execution_count": null,
   "metadata": {
    "slideshow": {
     "slide_type": "fragment"
    }
   },
   "outputs": [],
   "source": [
    "f = a ** a\n",
    "print(f)"
   ]
  },
  {
   "cell_type": "markdown",
   "metadata": {
    "slideshow": {
     "slide_type": "slide"
    }
   },
   "source": [
    "NumPy also has many useful functions that perform more complex **mathematical operations** on these arrays. Below are some examples, and many more can be found [here](https://www.geeksforgeeks.org/numpy-mathematical-function/)"
   ]
  },
  {
   "cell_type": "code",
   "execution_count": null,
   "metadata": {
    "slideshow": {
     "slide_type": "fragment"
    }
   },
   "outputs": [],
   "source": [
    "a = np.random.normal(loc = 10, scale = 8, size = (10, 10))\n",
    "print(a)\n",
    "print()\n",
    "\n",
    "# statistics\n",
    "print(f'Min: {a.min()}')\n",
    "print()"
   ]
  },
  {
   "cell_type": "code",
   "execution_count": null,
   "metadata": {
    "slideshow": {
     "slide_type": "fragment"
    }
   },
   "outputs": [],
   "source": [
    "print(f'Max of each row: {a.max(axis=1)}' )\n",
    "print()"
   ]
  },
  {
   "cell_type": "code",
   "execution_count": null,
   "metadata": {
    "slideshow": {
     "slide_type": "fragment"
    }
   },
   "outputs": [],
   "source": [
    "print(f'Mean of each column: {a.mean(axis=0)}' )\n",
    "print()"
   ]
  },
  {
   "cell_type": "code",
   "execution_count": null,
   "metadata": {
    "slideshow": {
     "slide_type": "fragment"
    }
   },
   "outputs": [],
   "source": [
    "print(f'Std: {a.std()}' )\n",
    "print()"
   ]
  },
  {
   "cell_type": "code",
   "execution_count": null,
   "metadata": {
    "slideshow": {
     "slide_type": "fragment"
    }
   },
   "outputs": [],
   "source": [
    "print(f'5th percentile: {np.quantile(a, 0.05)}' )\n",
    "print()"
   ]
  },
  {
   "cell_type": "code",
   "execution_count": null,
   "metadata": {
    "slideshow": {
     "slide_type": "fragment"
    }
   },
   "outputs": [],
   "source": [
    "print(f'Sum of each row: {a.sum(axis=1)}')"
   ]
  },
  {
   "cell_type": "code",
   "execution_count": null,
   "metadata": {
    "slideshow": {
     "slide_type": "fragment"
    }
   },
   "outputs": [],
   "source": [
    "# sort each row\n",
    "print( np.sort(a, axis=1) )"
   ]
  },
  {
   "cell_type": "code",
   "execution_count": null,
   "metadata": {
    "slideshow": {
     "slide_type": "fragment"
    }
   },
   "outputs": [],
   "source": [
    "# absolute value of each element\n",
    "print( np.abs(a) )"
   ]
  },
  {
   "cell_type": "code",
   "execution_count": null,
   "metadata": {
    "slideshow": {
     "slide_type": "fragment"
    }
   },
   "outputs": [],
   "source": [
    "# exponential\n",
    "print( np.exp(a) )"
   ]
  },
  {
   "cell_type": "code",
   "execution_count": null,
   "metadata": {
    "scrolled": false,
    "slideshow": {
     "slide_type": "fragment"
    }
   },
   "outputs": [],
   "source": [
    "# square root. \n",
    "print( np.sqrt(a) )"
   ]
  },
  {
   "cell_type": "markdown",
   "metadata": {
    "slideshow": {
     "slide_type": "fragment"
    }
   },
   "source": [
    "Don't be alarmed by the red \"RuntimeWarning\" here. Usually as long as it is a warning, not an error, you are ok. This warning relates to the special \"nan\" (Not A Number) values that you see above. These occur when we try to take the square root of a negative number. NumPy returns this special object (np.nan) when we try to do calculations that are undefined."
   ]
  },
  {
   "cell_type": "markdown",
   "metadata": {
    "slideshow": {
     "slide_type": "slide"
    }
   },
   "source": [
    "Rather than element-wise operations, we can also do **matrix operations**. (If your research involves linear algebra, see [here](https://www.geeksforgeeks.org/numpy-linear-algebra/?ref=lbp) for more examples.)"
   ]
  },
  {
   "cell_type": "code",
   "execution_count": null,
   "metadata": {
    "slideshow": {
     "slide_type": "fragment"
    }
   },
   "outputs": [],
   "source": [
    "A = a[:3, :3]\n",
    "print(A)\n",
    "print()"
   ]
  },
  {
   "cell_type": "code",
   "execution_count": null,
   "metadata": {
    "slideshow": {
     "slide_type": "fragment"
    }
   },
   "outputs": [],
   "source": [
    "B = a[-3:, -3:]\n",
    "print(B)"
   ]
  },
  {
   "cell_type": "code",
   "execution_count": null,
   "metadata": {
    "slideshow": {
     "slide_type": "fragment"
    }
   },
   "outputs": [],
   "source": [
    "# matrix multiplication\n",
    "print( np.matmul(A, B) )"
   ]
  },
  {
   "cell_type": "code",
   "execution_count": null,
   "metadata": {
    "slideshow": {
     "slide_type": "fragment"
    }
   },
   "outputs": [],
   "source": [
    "# determinant\n",
    "print( np.linalg.det(A) )"
   ]
  },
  {
   "cell_type": "markdown",
   "metadata": {
    "slideshow": {
     "slide_type": "slide"
    }
   },
   "source": [
    "### Logical indexing\n",
    "**Logical indexing** is a powerful way to manipulate parts of your data that meet certain conditions. The idea is to create a NumPy array of Boolean variables, and then use this array to index a new array. For example, we can change all undefined elements in the array to zero as follows:"
   ]
  },
  {
   "cell_type": "code",
   "execution_count": null,
   "metadata": {
    "slideshow": {
     "slide_type": "fragment"
    }
   },
   "outputs": [],
   "source": [
    "### create array of square roots, some of which are undefined\n",
    "a = np.random.normal(loc = 10, scale = 8, size = (10, 10))\n",
    "b = np.sqrt(a)\n",
    "print(b)"
   ]
  },
  {
   "cell_type": "code",
   "execution_count": null,
   "metadata": {
    "slideshow": {
     "slide_type": "fragment"
    }
   },
   "outputs": [],
   "source": [
    "### create boolean array with \"True\" everywhere there is an \"nan\" value, using np.isnan() function\n",
    "c = np.isnan(b)\n",
    "print(c)"
   ]
  },
  {
   "cell_type": "code",
   "execution_count": null,
   "metadata": {
    "slideshow": {
     "slide_type": "fragment"
    }
   },
   "outputs": [],
   "source": [
    "### create a copy of b, then reset all nan's to 0 using logical indexing\n",
    "d = b.copy()\n",
    "d[c] = 0\n",
    "# print(b)\n",
    "print(d)"
   ]
  },
  {
   "cell_type": "markdown",
   "metadata": {
    "slideshow": {
     "slide_type": "fragment"
    }
   },
   "source": [
    "This can be thought of as a compact representation of two for loops and and one if statement:"
   ]
  },
  {
   "cell_type": "code",
   "execution_count": null,
   "metadata": {
    "slideshow": {
     "slide_type": "fragment"
    }
   },
   "outputs": [],
   "source": [
    "### equivalent operations to logical indexing with for loops & if statement\n",
    "e = b.copy()\n",
    "for i in range(e.shape[0]):\n",
    "    for j in range(e.shape[1]):\n",
    "        if np.isnan(e[i,j]):\n",
    "            e[i,j] = 0\n",
    "print(e)\n",
    "print()"
   ]
  },
  {
   "cell_type": "code",
   "execution_count": null,
   "metadata": {
    "scrolled": true,
    "slideshow": {
     "slide_type": "fragment"
    }
   },
   "outputs": [],
   "source": [
    "### compare e & d, check if each element is equivalent\n",
    "print(e == d)\n",
    "print()\n",
    "\n",
    "### check if all elements are equivalent\n",
    "print(np.all(e == d))"
   ]
  },
  {
   "cell_type": "markdown",
   "metadata": {
    "slideshow": {
     "slide_type": "fragment"
    }
   },
   "source": [
    "We can also retrieve particular elements of the NumPy array using logical indexing, which is analagous to list comprehension. However, note that we lose the shape of the array when we pick out particular elements."
   ]
  },
  {
   "cell_type": "code",
   "execution_count": null,
   "metadata": {
    "slideshow": {
     "slide_type": "fragment"
    }
   },
   "outputs": [],
   "source": [
    "print(e)"
   ]
  },
  {
   "cell_type": "code",
   "execution_count": null,
   "metadata": {},
   "outputs": [],
   "source": [
    "### which elements are greater than 4?\n",
    "f = e > 4\n",
    "print(f)"
   ]
  },
  {
   "cell_type": "code",
   "execution_count": null,
   "metadata": {},
   "outputs": [],
   "source": [
    "### get new array with just these values\n",
    "g = e[f]\n",
    "print(g)\n",
    "print()\n",
    "print(f.shape)"
   ]
  },
  {
   "cell_type": "code",
   "execution_count": null,
   "metadata": {
    "slideshow": {
     "slide_type": "fragment"
    }
   },
   "outputs": [],
   "source": [
    "### often easier to put logical condition right inside brackets instead of defining as separate variable\n",
    "g = e[e > 4]\n",
    "print(g)"
   ]
  },
  {
   "cell_type": "markdown",
   "metadata": {
    "slideshow": {
     "slide_type": "fragment"
    }
   },
   "source": [
    "To apply multiple logical operations at once, we have to use the **bitwise comparison operators** (``&`` and ``|``) rather than the normal comparison operators (``and`` and ``or``). This is because we want the \"and/or\" to be applied to each element in the array individually, rather than for the entire array at once."
   ]
  },
  {
   "cell_type": "code",
   "execution_count": null,
   "metadata": {
    "slideshow": {
     "slide_type": "fragment"
    }
   },
   "outputs": [],
   "source": [
    "lt2 = e < 2\n",
    "print(lt2)"
   ]
  },
  {
   "cell_type": "code",
   "execution_count": null,
   "metadata": {
    "slideshow": {
     "slide_type": "fragment"
    }
   },
   "outputs": [],
   "source": [
    "gte4 = e >= 4\n",
    "print(gte4)"
   ]
  },
  {
   "cell_type": "code",
   "execution_count": null,
   "metadata": {
    "slideshow": {
     "slide_type": "fragment"
    }
   },
   "outputs": [],
   "source": [
    "lt2_or_gte4 = lt2 | gte4\n",
    "print(lt2_or_gte4)"
   ]
  },
  {
   "cell_type": "code",
   "execution_count": null,
   "metadata": {},
   "outputs": [],
   "source": [
    "### this will cause an error, unlike with individual boolean variables\n",
    "# lt2_or_gte4 = lt2 or gte4"
   ]
  },
  {
   "cell_type": "code",
   "execution_count": null,
   "metadata": {
    "slideshow": {
     "slide_type": "fragment"
    }
   },
   "outputs": [],
   "source": [
    "g = e[lt2_or_gte4]\n",
    "print(g)\n",
    "print(g.shape)"
   ]
  },
  {
   "cell_type": "markdown",
   "metadata": {
    "slideshow": {
     "slide_type": "slide"
    }
   },
   "source": [
    "### In class exercise\n",
    "Let's pretend you are an air quality specialist who is investigating the [effects of wildfire smoke on PM10 pollution](https://www.climacell.co/blog/pm10-how-wildfires-actually-affect-air-quality/). Assume there is a large wildfire burning in the Bozeman, MT, area (45.677, -111.043), and you have a map of PM10 over the larger region spanning from 40 to 48 degrees latitude and -120 to -102 degrees longitude, at a grid resolution of 1 degrees. "
   ]
  },
  {
   "cell_type": "markdown",
   "metadata": {
    "slideshow": {
     "slide_type": "fragment"
    }
   },
   "source": [
    "We will make up fake data using an assumed quadratic trend centered around Bozeman, plus random noise. But the same analysis could be performed using ground measurements or satellite observations of PM10."
   ]
  },
  {
   "cell_type": "code",
   "execution_count": 3,
   "metadata": {
    "slideshow": {
     "slide_type": "fragment"
    }
   },
   "outputs": [
    {
     "name": "stdout",
     "output_type": "stream",
     "text": [
      "[-120. -119. -118. -117. -116. -115. -114. -113. -112. -111. -110. -109.\n",
      " -108. -107. -106. -105. -104. -103. -102.]\n",
      "[48. 47. 46. 45. 44. 43. 42. 41. 40.]\n"
     ]
    }
   ],
   "source": [
    "## use np.arange to create a grid of coordinates\n",
    "res = 1\n",
    "long_box = (-120, -102)\n",
    "lat_box = (40, 48)\n",
    "long_grid = np.arange(long_box[0], long_box[1] + 0.01, res)\n",
    "lat_grid = np.arange(lat_box[1], lat_box[0] - 0.01, -res)\n",
    "long_n = len(long_grid)\n",
    "lat_n = len(lat_grid)\n",
    "print(long_grid) \n",
    "print(lat_grid)"
   ]
  },
  {
   "cell_type": "code",
   "execution_count": 4,
   "metadata": {
    "slideshow": {
     "slide_type": "fragment"
    }
   },
   "outputs": [
    {
     "name": "stdout",
     "output_type": "stream",
     "text": [
      "[(-120.0, 48.0), (-119.0, 48.0), (-118.0, 48.0), (-117.0, 48.0), (-116.0, 48.0), (-115.0, 48.0), (-114.0, 48.0), (-113.0, 48.0), (-112.0, 48.0), (-111.0, 48.0), (-110.0, 48.0), (-109.0, 48.0), (-108.0, 48.0), (-107.0, 48.0), (-106.0, 48.0), (-105.0, 48.0), (-104.0, 48.0), (-103.0, 48.0), (-102.0, 48.0), (-120.0, 47.0), (-119.0, 47.0), (-118.0, 47.0), (-117.0, 47.0), (-116.0, 47.0), (-115.0, 47.0), (-114.0, 47.0), (-113.0, 47.0), (-112.0, 47.0), (-111.0, 47.0), (-110.0, 47.0), (-109.0, 47.0), (-108.0, 47.0), (-107.0, 47.0), (-106.0, 47.0), (-105.0, 47.0), (-104.0, 47.0), (-103.0, 47.0), (-102.0, 47.0), (-120.0, 46.0), (-119.0, 46.0), (-118.0, 46.0), (-117.0, 46.0), (-116.0, 46.0), (-115.0, 46.0), (-114.0, 46.0), (-113.0, 46.0), (-112.0, 46.0), (-111.0, 46.0), (-110.0, 46.0), (-109.0, 46.0), (-108.0, 46.0), (-107.0, 46.0), (-106.0, 46.0), (-105.0, 46.0), (-104.0, 46.0), (-103.0, 46.0), (-102.0, 46.0), (-120.0, 45.0), (-119.0, 45.0), (-118.0, 45.0), (-117.0, 45.0), (-116.0, 45.0), (-115.0, 45.0), (-114.0, 45.0), (-113.0, 45.0), (-112.0, 45.0), (-111.0, 45.0), (-110.0, 45.0), (-109.0, 45.0), (-108.0, 45.0), (-107.0, 45.0), (-106.0, 45.0), (-105.0, 45.0), (-104.0, 45.0), (-103.0, 45.0), (-102.0, 45.0), (-120.0, 44.0), (-119.0, 44.0), (-118.0, 44.0), (-117.0, 44.0), (-116.0, 44.0), (-115.0, 44.0), (-114.0, 44.0), (-113.0, 44.0), (-112.0, 44.0), (-111.0, 44.0), (-110.0, 44.0), (-109.0, 44.0), (-108.0, 44.0), (-107.0, 44.0), (-106.0, 44.0), (-105.0, 44.0), (-104.0, 44.0), (-103.0, 44.0), (-102.0, 44.0), (-120.0, 43.0), (-119.0, 43.0), (-118.0, 43.0), (-117.0, 43.0), (-116.0, 43.0), (-115.0, 43.0), (-114.0, 43.0), (-113.0, 43.0), (-112.0, 43.0), (-111.0, 43.0), (-110.0, 43.0), (-109.0, 43.0), (-108.0, 43.0), (-107.0, 43.0), (-106.0, 43.0), (-105.0, 43.0), (-104.0, 43.0), (-103.0, 43.0), (-102.0, 43.0), (-120.0, 42.0), (-119.0, 42.0), (-118.0, 42.0), (-117.0, 42.0), (-116.0, 42.0), (-115.0, 42.0), (-114.0, 42.0), (-113.0, 42.0), (-112.0, 42.0), (-111.0, 42.0), (-110.0, 42.0), (-109.0, 42.0), (-108.0, 42.0), (-107.0, 42.0), (-106.0, 42.0), (-105.0, 42.0), (-104.0, 42.0), (-103.0, 42.0), (-102.0, 42.0), (-120.0, 41.0), (-119.0, 41.0), (-118.0, 41.0), (-117.0, 41.0), (-116.0, 41.0), (-115.0, 41.0), (-114.0, 41.0), (-113.0, 41.0), (-112.0, 41.0), (-111.0, 41.0), (-110.0, 41.0), (-109.0, 41.0), (-108.0, 41.0), (-107.0, 41.0), (-106.0, 41.0), (-105.0, 41.0), (-104.0, 41.0), (-103.0, 41.0), (-102.0, 41.0), (-120.0, 40.0), (-119.0, 40.0), (-118.0, 40.0), (-117.0, 40.0), (-116.0, 40.0), (-115.0, 40.0), (-114.0, 40.0), (-113.0, 40.0), (-112.0, 40.0), (-111.0, 40.0), (-110.0, 40.0), (-109.0, 40.0), (-108.0, 40.0), (-107.0, 40.0), (-106.0, 40.0), (-105.0, 40.0), (-104.0, 40.0), (-103.0, 40.0), (-102.0, 40.0)]\n"
     ]
    }
   ],
   "source": [
    "## create list of coords, check orientations\n",
    "coords = [(long, lat) for lat in lat_grid for long in long_grid]\n",
    "print(coords)"
   ]
  },
  {
   "cell_type": "code",
   "execution_count": 5,
   "metadata": {
    "slideshow": {
     "slide_type": "fragment"
    }
   },
   "outputs": [],
   "source": [
    "## assume a quadratic spatial trend for pm10\n",
    "long_bozeman = -111.043\n",
    "lat_bozeman = 45.677\n",
    "def quadratic_trend(long, lat):\n",
    "    return -1.3*((long - long_bozeman) **2 + (lat - lat_bozeman) **2) + 160"
   ]
  },
  {
   "cell_type": "code",
   "execution_count": 6,
   "metadata": {
    "slideshow": {
     "slide_type": "fragment"
    }
   },
   "outputs": [
    {
     "name": "stdout",
     "output_type": "stream",
     "text": [
      "[ 48.6885686  70.6767686  90.0649686 106.8531686 121.0413686 132.6295686\n",
      " 141.6177686 148.0059686 151.7941686 152.9823686 151.5705686 147.5587686\n",
      " 140.9469686 131.7351686 119.9233686 105.5115686  88.4997686  68.8879686\n",
      "  46.6761686  53.4283686  75.4165686  94.8047686 111.5929686 125.7811686\n",
      " 137.3693686 146.3575686 152.7457686 156.5339686 157.7221686 156.3103686\n",
      " 152.2985686 145.6867686 136.4749686 124.6631686 110.2513686  93.2395686\n",
      "  73.6277686  51.4159686  55.5681686  77.5563686  96.9445686 113.7327686\n",
      " 127.9209686 139.5091686 148.4973686 154.8855686 158.6737686 159.8619686\n",
      " 158.4501686 154.4383686 147.8265686 138.6147686 126.8029686 112.3911686\n",
      "  95.3793686  75.7675686  53.5557686  55.1079686  77.0961686  96.4843686\n",
      " 113.2725686 127.4607686 139.0489686 148.0371686 154.4253686 158.2135686\n",
      " 159.4017686 157.9899686 153.9781686 147.3663686 138.1545686 126.3427686\n",
      " 111.9309686  94.9191686  75.3073686  53.0955686  52.0477686  74.0359686\n",
      "  93.4241686 110.2123686 124.4005686 135.9887686 144.9769686 151.3651686\n",
      " 155.1533686 156.3415686 154.9297686 150.9179686 144.3061686 135.0943686\n",
      " 123.2825686 108.8707686  91.8589686  72.2471686  50.0353686  46.3875686\n",
      "  68.3757686  87.7639686 104.5521686 118.7403686 130.3285686 139.3167686\n",
      " 145.7049686 149.4931686 150.6813686 149.2695686 145.2577686 138.6459686\n",
      " 129.4341686 117.6223686 103.2105686  86.1987686  66.5869686  44.3751686\n",
      "  38.1273686  60.1155686  79.5037686  96.2919686 110.4801686 122.0683686\n",
      " 131.0565686 137.4447686 141.2329686 142.4211686 141.0093686 136.9975686\n",
      " 130.3857686 121.1739686 109.3621686  94.9503686  77.9385686  58.3267686\n",
      "  36.1149686  27.2671686  49.2553686  68.6435686  85.4317686  99.6199686\n",
      " 111.2081686 120.1963686 126.5845686 130.3727686 131.5609686 130.1491686\n",
      " 126.1373686 119.5255686 110.3137686  98.5019686  84.0901686  67.0783686\n",
      "  47.4665686  25.2547686  13.8069686  35.7951686  55.1833686  71.9715686\n",
      "  86.1597686  97.7479686 106.7361686 113.1243686 116.9125686 118.1007686\n",
      " 116.6889686 112.6771686 106.0653686  96.8535686  85.0417686  70.6299686\n",
      "  53.6181686  34.0063686  11.7945686]\n",
      "(171,)\n"
     ]
    }
   ],
   "source": [
    "pm10 = np.array([quadratic_trend(longlat[0], longlat[1]) for longlat in coords])\n",
    "print(pm10)\n",
    "print(pm10.shape)"
   ]
  },
  {
   "cell_type": "code",
   "execution_count": 7,
   "metadata": {
    "slideshow": {
     "slide_type": "fragment"
    }
   },
   "outputs": [
    {
     "name": "stdout",
     "output_type": "stream",
     "text": [
      "[[ 48.6885686  70.6767686  90.0649686 106.8531686 121.0413686 132.6295686\n",
      "  141.6177686 148.0059686 151.7941686 152.9823686 151.5705686 147.5587686\n",
      "  140.9469686 131.7351686 119.9233686 105.5115686  88.4997686  68.8879686\n",
      "   46.6761686]\n",
      " [ 53.4283686  75.4165686  94.8047686 111.5929686 125.7811686 137.3693686\n",
      "  146.3575686 152.7457686 156.5339686 157.7221686 156.3103686 152.2985686\n",
      "  145.6867686 136.4749686 124.6631686 110.2513686  93.2395686  73.6277686\n",
      "   51.4159686]\n",
      " [ 55.5681686  77.5563686  96.9445686 113.7327686 127.9209686 139.5091686\n",
      "  148.4973686 154.8855686 158.6737686 159.8619686 158.4501686 154.4383686\n",
      "  147.8265686 138.6147686 126.8029686 112.3911686  95.3793686  75.7675686\n",
      "   53.5557686]\n",
      " [ 55.1079686  77.0961686  96.4843686 113.2725686 127.4607686 139.0489686\n",
      "  148.0371686 154.4253686 158.2135686 159.4017686 157.9899686 153.9781686\n",
      "  147.3663686 138.1545686 126.3427686 111.9309686  94.9191686  75.3073686\n",
      "   53.0955686]\n",
      " [ 52.0477686  74.0359686  93.4241686 110.2123686 124.4005686 135.9887686\n",
      "  144.9769686 151.3651686 155.1533686 156.3415686 154.9297686 150.9179686\n",
      "  144.3061686 135.0943686 123.2825686 108.8707686  91.8589686  72.2471686\n",
      "   50.0353686]\n",
      " [ 46.3875686  68.3757686  87.7639686 104.5521686 118.7403686 130.3285686\n",
      "  139.3167686 145.7049686 149.4931686 150.6813686 149.2695686 145.2577686\n",
      "  138.6459686 129.4341686 117.6223686 103.2105686  86.1987686  66.5869686\n",
      "   44.3751686]\n",
      " [ 38.1273686  60.1155686  79.5037686  96.2919686 110.4801686 122.0683686\n",
      "  131.0565686 137.4447686 141.2329686 142.4211686 141.0093686 136.9975686\n",
      "  130.3857686 121.1739686 109.3621686  94.9503686  77.9385686  58.3267686\n",
      "   36.1149686]\n",
      " [ 27.2671686  49.2553686  68.6435686  85.4317686  99.6199686 111.2081686\n",
      "  120.1963686 126.5845686 130.3727686 131.5609686 130.1491686 126.1373686\n",
      "  119.5255686 110.3137686  98.5019686  84.0901686  67.0783686  47.4665686\n",
      "   25.2547686]\n",
      " [ 13.8069686  35.7951686  55.1833686  71.9715686  86.1597686  97.7479686\n",
      "  106.7361686 113.1243686 116.9125686 118.1007686 116.6889686 112.6771686\n",
      "  106.0653686  96.8535686  85.0417686  70.6299686  53.6181686  34.0063686\n",
      "   11.7945686]]\n",
      "(9, 19)\n"
     ]
    }
   ],
   "source": [
    "## reshape pm10 observations to match the lat/long shape\n",
    "pm10 = pm10.reshape([lat_n, long_n])\n",
    "print(pm10)\n",
    "\n",
    "print(pm10.shape)"
   ]
  },
  {
   "cell_type": "code",
   "execution_count": 8,
   "metadata": {
    "slideshow": {
     "slide_type": "fragment"
    }
   },
   "outputs": [
    {
     "data": {
      "image/png": "[encoded data removed]",
      "text/plain": [
       "<Figure size 1008x576 with 2 Axes>"
      ]
     },
     "metadata": {
      "needs_background": "light"
     },
     "output_type": "display_data"
    }
   ],
   "source": [
    "## plot values on a grid. Don't worry too much about how this works yet - we will learn about plotting in a couple of weeks.\n",
    "import matplotlib.pyplot as plt\n",
    "\n",
    "def plot_grid(data, long_grid, lat_grid, label):\n",
    "    fig, ax = plt.subplots(1,1, figsize=(14,8))\n",
    "    plt.imshow(data)\n",
    "    plt.colorbar(label = label)\n",
    "    plt.xlabel('Longitude')\n",
    "    plt.ylabel('Latitude')\n",
    "    ax.set_xticks(list(range(0, len(long_grid), 3)))\n",
    "    ax.set_yticks(list(range(0, len(lat_grid), 2)))\n",
    "    ax.set_xticklabels(long_grid[::3])\n",
    "    ax.set_yticklabels(lat_grid[::2])\n",
    "    \n",
    "    \n",
    "plot_grid(pm10, long_grid, lat_grid, 'PM10 (ug/m3)')"
   ]
  },
  {
   "cell_type": "code",
   "execution_count": 9,
   "metadata": {},
   "outputs": [
    {
     "data": {
      "image/png": "[encoded data removed]",
      "text/plain": [
       "<Figure size 1008x576 with 2 Axes>"
      ]
     },
     "metadata": {
      "needs_background": "light"
     },
     "output_type": "display_data"
    }
   ],
   "source": [
    "### Now use np.random.normal() to add random noise to the data, with mean and standard distribution of 0 and 5 ug/m3\n",
    "noise = np.random.normal(0,5,(lat_n, long_n))\n",
    "pm10_noisy = pm10 + noise\n",
    "\n",
    "plot_grid(pm10_noisy, long_grid, lat_grid, 'PM10 (ug/m3)')"
   ]
  },
  {
   "cell_type": "markdown",
   "metadata": {
    "slideshow": {
     "slide_type": "fragment"
    }
   },
   "source": [
    "We will now assume that this \"synthetic\" dataset is our real data set and use it for analysis. The US EPS's national 24-hour daily standard for PM10 is 150 ug/m3 (for the max 24-hour concentration in one year, averaged over three years. But we will just treat it as a one-day standard for simplicity.)\n",
    "\n",
    "Use NumPy's built-in functions to answer the following questions:\n",
    "1. What are the mean and std of PM10 across this region today?"
   ]
  },
  {
   "cell_type": "markdown",
   "metadata": {
    "slideshow": {
     "slide_type": "fragment"
    }
   },
   "source": [
    "2. Find the mean PM10 for each longitude and latitude."
   ]
  },
  {
   "cell_type": "markdown",
   "metadata": {},
   "source": [
    "3. Which longitude has the highest mean PM10? Which latitude has the lowest PM10?"
   ]
  },
  {
   "cell_type": "markdown",
   "metadata": {
    "slideshow": {
     "slide_type": "fragment"
    }
   },
   "source": [
    "3. What fraction of grid points exceed the EPA daily standard?"
   ]
  },
  {
   "cell_type": "markdown",
   "metadata": {
    "slideshow": {
     "slide_type": "fragment"
    }
   },
   "source": [
    "4. Use logical indexing to create an array with 1's at locations violating the standard, and 0's at locations not violating the standard. Plot using ``plot_grid``."
   ]
  },
  {
   "cell_type": "markdown",
   "metadata": {
    "slideshow": {
     "slide_type": "fragment"
    }
   },
   "source": [
    "5. Assume the following  logistic function (*completely made up, not a real relationship*) for excess cardiovascular deaths per 1,000 people in the region, based on the daily PM10 concentration. \n",
    "\n",
    "$$deaths = \\frac{15}{1 + \\exp(-(PM10 - 80) / 35)}$$\n",
    "\n",
    "Create a function that uses NumPy to calculate the excess cardio deaths for a grid of pm10 observations, then calculate and plot the grid of excess deaths."
   ]
  }
 ],
 "metadata": {
  "celltoolbar": "Slideshow",
  "kernelspec": {
   "display_name": "Python 3 (ipykernel)",
   "language": "python",
   "name": "python3"
  },
  "language_info": {
   "codemirror_mode": {
    "name": "ipython",
    "version": 3
   },
   "file_extension": ".py",
   "mimetype": "text/x-python",
   "name": "python",
   "nbconvert_exporter": "python",
   "pygments_lexer": "ipython3",
   "version": "3.9.7"
  }
 },
 "nbformat": 4,
 "nbformat_minor": 4
}
