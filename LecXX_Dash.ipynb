{
 "cells": [
  {
   "cell_type": "markdown",
   "metadata": {},
   "source": [
    "# Lecture X: Python Dash for Data Visualization \n",
    "ENVR 890-010: Python for Environmental Research, Fall 2021 \n",
    "\n",
    "October, 2021 \n",
    "\n",
    "By: Rosa Cuppari, material from [Dash installation guide](https://www.dash.plotly.com). "
   ]
  },
  {
   "cell_type": "markdown",
   "metadata": {},
   "source": [
    "## Summary\n",
    "In this lecture we will learn about the **[Python package Dash, by plotly](https://dash.gallery/Portal/)**, which can be used to create interactive - you guessed it - dashboards with user data. There are two major parts to a Dash app (what I will call a dashboard henceforth for brevity): the layout and callbacks, which make the dashboard interactive. In this lecture, we go through installation and creation of a full sample dashboard. "
   ]
  },
  {
   "cell_type": "markdown",
   "metadata": {},
   "source": [
    "## Dash Installation \n",
    "The first step to using dash is to install it. Open your anaconda prompt and install the required packages in your virtual environment of choice: \n",
    "1. **pip install jupyter-dash** (if using Jupyter Notebooks) \n",
    "1. **pip install dash** (if you are using Spyder, Visual Studios, or another Python code editor)\n",
    "1. **pip install pandas**\n",
    "1. **pip install plotly**\n",
    "\n",
    "You may already have some of these in your env, notably pandas "
   ]
  },
  {
   "cell_type": "markdown",
   "metadata": {},
   "source": [
    "## Layout\n",
    "The first part of your dashboard is the basic, static layout. You can use Dash with many different types of data, but we are going to read in a dataframe with the timeseries we used in Homework 3. "
   ]
  },
  {
   "cell_type": "code",
   "execution_count": null,
   "metadata": {},
   "outputs": [],
   "source": [
    "# import necessary packages \n",
    "import dash\n",
    "from dash import dcc\n",
    "from dash import html\n",
    "import plotly.express as px\n",
    "import pandas as pd\n",
    "import matplotlib.pyplot as plt \n",
    "\n",
    "print(\"installed\")"
   ]
  },
  {
   "cell_type": "markdown",
   "metadata": {},
   "source": [
    "All dashboards start with the same step: initialization. You can do this at the very start of your script, before you have read in your data, or later on, so long as you do it before you specify the layout you want."
   ]
  },
  {
   "cell_type": "code",
   "execution_count": null,
   "metadata": {},
   "outputs": [],
   "source": [
    "# initiate app\n",
    "app = dash.Dash(__name__)"
   ]
  },
  {
   "cell_type": "code",
   "execution_count": null,
   "metadata": {},
   "outputs": [],
   "source": [
    "# read in the data you want to use \n",
    "df = pd.read_csv(\"weather_data.csv\")\n",
    "\n",
    "##let's group this data by year to make it more digestible \n",
    "df=df.groupby('Year').agg('mean')\n",
    "\n",
    "# let's also drop any NAs which might be in the data\n",
    "df.dropna(inplace=True)\n",
    "\n",
    "# and set our year as a column and not just as an index (groupby will automatically set your grouping factor as the index)\n",
    "df.reset_index(inplace=True)\n",
    "\n",
    "# check out your data!\n",
    "print(df.head())\n",
    "print()\n",
    "print(df.columns)"
   ]
  },
  {
   "cell_type": "markdown",
   "metadata": {},
   "source": [
    "Typically we want to focus on figures in our dashboard. So we also need to create them. Instead of just printing our figures, we assign them a name, so that we can \"save\" them and call on them within our dashboard. "
   ]
  },
  {
   "cell_type": "code",
   "execution_count": null,
   "metadata": {},
   "outputs": [],
   "source": [
    "# create the figure you want \n",
    "fig = px.bar(df, x=\"Year\", y=\"SALEM_TEMP\", barmode=\"group\")\n",
    "\n",
    "print('done')"
   ]
  },
  {
   "cell_type": "markdown",
   "metadata": {},
   "source": [
    "Now we are ready to set the layout of the app. The key components are: \n",
    "1. **html.Div** -- think of this as a divider of different layers of instructions to Python. Each html.Div creates a subsection. As we will see later, this lets us create different rows (e.g. two plots stacked on top of each other) or split a row (e.g., two plots side by side) \n",
    "1. **children** -- the text components of the app \n",
    "1. **dcc.Graph** -- calling the figure that you want displayed \n",
    "1. **the run line** -- this is where you actually tell Python to activate your dashboard and run it somewhere"
   ]
  },
  {
   "cell_type": "code",
   "execution_count": null,
   "metadata": {},
   "outputs": [],
   "source": [
    "# here we are setting the actual layout of the app -- this is the most basic example\n",
    "app.layout = html.Div(children=[\n",
    "    html.H1(\n",
    "        children='Temperatures in Salem'\n",
    "    ),\n",
    "\n",
    "    html.Div(\n",
    "        children='''\n",
    "        As you can see, average temperatures in Salem fluctuate usually between 10 and 13 degrees Celsius.\n",
    "    '''\n",
    "    ),\n",
    "\n",
    "    dcc.Graph(\n",
    "        id='example-graph',\n",
    "        figure=fig\n",
    "    )\n",
    "])\n",
    "\n",
    "if __name__ == '__main__':\n",
    "    app.run_server(dev_tools_hot_reload=False)\n",
    "    # you can actually set this last line to app.run_server(debug=True) \n",
    "    # to automatically refresh your browser for each change you make in the code\n",
    "    # but I found that it really slows the process and does not work well"
   ]
  },
  {
   "cell_type": "markdown",
   "metadata": {},
   "source": [
    "As you can see, Dash **outputs a link** that will send you to your interactive dashboard. It's almost like a Jupyter Notebook, except it is its own website. There are also ways to make your dashboard a permanent site, but they are not free. "
   ]
  },
  {
   "cell_type": "code",
   "execution_count": null,
   "metadata": {},
   "outputs": [],
   "source": [
    "# what if we wanted to customize this some? \n",
    "# it might be helpful to clear your output and just run from this cell -- I am including the initial steps too \n",
    "import dash\n",
    "from dash import dcc\n",
    "from dash import html\n",
    "import plotly.express as px\n",
    "import pandas as pd\n",
    "import matplotlib.pyplot as plt \n",
    "\n",
    "# read and clean your data \n",
    "df = pd.read_csv(\"weather_data.csv\")\n",
    "df=df.groupby('Year').agg('mean')\n",
    "df.dropna(inplace=True)\n",
    "df.reset_index(inplace=True)\n",
    "\n",
    "# create the figure you want \n",
    "fig = px.bar(df, x=\"Year\", y=\"SALEM_TEMP\", barmode=\"group\")\n",
    "\n",
    "# initialize your dashboard \n",
    "app = dash.Dash(__name__)\n",
    "\n",
    "# let's change the colors \n",
    "colors = {\n",
    "    'background': '#111111',\n",
    "    'text': 'blue'\n",
    "}\n",
    "\n",
    "# add these updates to your figure\n",
    "fig.update_layout(\n",
    "# set the background, plot, and text colors \n",
    "    plot_bgcolor=colors['background'],\n",
    "    paper_bgcolor=colors['background'],\n",
    "    font_color=colors['text']\n",
    ")\n",
    "\n",
    "\n",
    "app.layout = html.Div(children=[\n",
    "    html.H1(\n",
    "        children='Temperatures in Salem',\n",
    "        # we can change the font and colors of our title text (H1) with \"style\", just make sure to add a \",\" \n",
    "        # in the preceding line so that Python knows you are adding another argument\n",
    "        style={\n",
    "            'textAlign': 'right',\n",
    "            'color': colors['text']\n",
    "        }        \n",
    "        # you might have noted that style is actually just a dictionary! \n",
    "        \n",
    "    ),\n",
    "\n",
    "    html.Div(\n",
    "        children='''\n",
    "        As you can see, average temperatures in Salem fluctuate usually between 10 and 13 degrees Celsius.\n",
    "    ''', style={'color':'red'}),\n",
    "        # we can change the font and colors of our other text too, just as we changed the title text\n",
    "\n",
    "    dcc.Graph(\n",
    "        id='example-graph',\n",
    "        figure=fig\n",
    "    )\n",
    "])\n",
    "\n",
    "if __name__ == '__main__':\n",
    "    app.run_server(dev_tools_hot_reload=False)\n",
    "    \n",
    "                          \n",
    "print('hi')"
   ]
  },
  {
   "cell_type": "markdown",
   "metadata": {},
   "source": [
    "## In-class exercise: \n",
    "Make your own figure with the data provided and create a simple dashboard in which you are customizing both the text color and the font."
   ]
  },
  {
   "cell_type": "code",
   "execution_count": 11,
   "metadata": {},
   "outputs": [
    {
     "name": "stdout",
     "output_type": "stream",
     "text": [
      "we have so many figures!\n"
     ]
    }
   ],
   "source": [
    "# what if we want multiple figures in our dashboard? We can do that too! (wonderful) \n",
    "import dash\n",
    "from dash import dcc\n",
    "from dash import html\n",
    "import plotly.express as px\n",
    "import pandas as pd\n",
    "import matplotlib.pyplot as plt \n",
    "\n",
    "# read and clean your data \n",
    "df = pd.read_csv(\"weather_data.csv\")\n",
    "df=df.groupby('Year').agg('mean')\n",
    "df.dropna(inplace=True)\n",
    "df.reset_index(inplace=True)\n",
    "\n",
    "# create the figure you want \n",
    "fig = px.bar(df, x=\"Year\", y=\"SALEM_TEMP\", barmode=\"group\")\n",
    "\n",
    "# let's make our second figure\n",
    "fig2 = px.scatter(df, x='SF_TEMP', y='SF_WIND', color='Year')\n",
    "\n",
    "# and why not add a third while we are at it? \n",
    "fig3 = px.line(df, x='Year',y='SEATTLE_TEMP')\n",
    "\n",
    "print('we have so many figures!')"
   ]
  },
  {
   "cell_type": "code",
   "execution_count": 9,
   "metadata": {},
   "outputs": [
    {
     "name": "stdout",
     "output_type": "stream",
     "text": [
      "Dash is running on http://127.0.0.1:8050/\n",
      "\n",
      "Dash is running on http://127.0.0.1:8050/\n",
      "\n",
      "Dash is running on http://127.0.0.1:8050/\n",
      "\n",
      "Dash is running on http://127.0.0.1:8050/\n",
      "\n",
      " * Serving Flask app \"__main__\" (lazy loading)\n",
      " * Environment: production\n",
      "   WARNING: This is a development server. Do not use it in a production deployment.\n",
      "   Use a production WSGI server instead.\n",
      " * Debug mode: off\n"
     ]
    },
    {
     "name": "stderr",
     "output_type": "stream",
     "text": [
      " * Running on http://127.0.0.1:8050/ (Press CTRL+C to quit)\n",
      "127.0.0.1 - - [17/Sep/2021 17:49:38] \"GET / HTTP/1.1\" 200 -\n",
      "127.0.0.1 - - [17/Sep/2021 17:49:38] \"GET /_dash-layout HTTP/1.1\" 200 -\n",
      "127.0.0.1 - - [17/Sep/2021 17:49:38] \"GET /_dash-dependencies HTTP/1.1\" 200 -\n",
      "127.0.0.1 - - [17/Sep/2021 17:49:39] \"GET /_dash-component-suites/dash/dcc/async-graph.js HTTP/1.1\" 304 -\n",
      "127.0.0.1 - - [17/Sep/2021 17:49:39] \"GET /_dash-component-suites/dash/dcc/async-plotlyjs.js HTTP/1.1\" 304 -\n"
     ]
    }
   ],
   "source": [
    "# initialize your dashboard \n",
    "app = dash.Dash(__name__)\n",
    "\n",
    "app.layout = html.Div(children=[\n",
    "    # now you are creating multiple \"children\" plots from the top, so add for each plot a new html.Div: \n",
    "    html.Div([\n",
    "        html.H1(children='Temperatures in Salem'),\n",
    "\n",
    "        html.Div(children='''\n",
    "            As you can see, average temperatures in Salem fluctuate usually between 10 and 13 degrees Celsius.\n",
    "        '''),\n",
    "\n",
    "        dcc.Graph(id='example-graph',figure=fig),\n",
    "    ]), # <- make sure not to forget this comma! It's saying that there is another figure next\n",
    "\n",
    "# just add them in sequence adding a new \"html.Div\" line, and they will appear below the next plot\n",
    "    html.Div(children=[\n",
    "        html.H1(children='Temperature versus Wind in SF'),\n",
    "\n",
    "        html.Div(children='Can you see any relationship?'),\n",
    "\n",
    "        dcc.Graph(id='plot2',figure=fig2), # make sure you give each plot a UNIQUE id\n",
    "    ]), \n",
    "])\n",
    "# make sure everything is indented properly! \n",
    "                      \n",
    "if __name__ == '__main__':\n",
    "    app.run_server(dev_tools_hot_reload=False)\n"
   ]
  },
  {
   "cell_type": "code",
   "execution_count": 12,
   "metadata": {
    "scrolled": true
   },
   "outputs": [
    {
     "name": "stdout",
     "output_type": "stream",
     "text": [
      "Dash is running on http://127.0.0.1:8050/\n",
      "\n",
      "Dash is running on http://127.0.0.1:8050/\n",
      "\n",
      "Dash is running on http://127.0.0.1:8050/\n",
      "\n",
      "Dash is running on http://127.0.0.1:8050/\n",
      "\n",
      "Dash is running on http://127.0.0.1:8050/\n",
      "\n",
      "Dash is running on http://127.0.0.1:8050/\n",
      "\n",
      " * Serving Flask app \"__main__\" (lazy loading)\n",
      " * Environment: production\n",
      "   WARNING: This is a development server. Do not use it in a production deployment.\n",
      "   Use a production WSGI server instead.\n",
      " * Debug mode: off\n"
     ]
    },
    {
     "name": "stderr",
     "output_type": "stream",
     "text": [
      " * Running on http://127.0.0.1:8050/ (Press CTRL+C to quit)\n"
     ]
    }
   ],
   "source": [
    "# we can also place figures side by side -- the dashboard has six \"columns\", so you can set each plot to take up \n",
    "# part of these or just the entire row\n",
    "# we can easily do this with an external style sheet though that adds this functionality through the \n",
    "# 'className' attribute\n",
    "\n",
    "external_stylesheets = ['https://codepen.io/chriddyp/pen/bWLwgP.css']\n",
    "\n",
    "app = dash.Dash(__name__, external_stylesheets=external_stylesheets)\n",
    "\n",
    "app.layout = html.Div(children=[\n",
    "    # now we want to next the html.Divs that should all be in the same row further\n",
    "    # Each \"Div\" sets a new row of plots or a new division \n",
    "    html.Div([\n",
    "        html.Div([\n",
    "            html.H1(children='Temperatures in Salem',\n",
    "                style={'textAlign': 'center','color': 'blue'}\n",
    "                   ),\n",
    "\n",
    "            html.Div(children='''\n",
    "                As you can see, average temperatures in Salem fluctuate usually between 10 and 13 degrees Celsius.\n",
    "            '''),\n",
    "\n",
    "            dcc.Graph(id='example-graph',figure=fig),\n",
    "        ], className='six columns'), # this indicates that we should split the row in half (6 half of 12 columns)\n",
    "\n",
    "        html.Div(children=[\n",
    "            html.H1(children='Temperature versus Wind in SF',\n",
    "                style={'textAlign': 'center','color': 'red'}),\n",
    "\n",
    "            html.Div(children='Can you see any relationship?'),\n",
    "\n",
    "            dcc.Graph(id='plot2',figure=fig2), \n",
    "        ], className='six columns') # this indicates that we should split the row in half (6 half of 12 columns)\n",
    "    ], className='row'),\n",
    "    # let's add a row long figure just for kicks too \n",
    "    html.Div([\n",
    "        html.Div(children=[\n",
    "            html.H1(children='Annual Average Temperature in Seattle, WA'),\n",
    "\n",
    "            html.Div(children='Is there a long term trend?',\n",
    "                style={'textAlign': 'center','color': 'orange'}),\n",
    "\n",
    "            dcc.Graph(id='temp_over_time',figure=fig3), \n",
    "        ]) # don't need to specify six columns because it will take up the whole row \n",
    "    ], className='row')\n",
    "])\n",
    "# make sure everything is indented properly! \n",
    "                      \n",
    "if __name__ == '__main__':\n",
    "    app.run_server(dev_tools_hot_reload=False)\n"
   ]
  },
  {
   "cell_type": "markdown",
   "metadata": {},
   "source": [
    "## In-class exercise: \n",
    "Create a dashboard with two of your own plots - start with what you did for exercise one and add a second figure.  "
   ]
  },
  {
   "cell_type": "markdown",
   "metadata": {},
   "source": [
    "## Callbacks \n",
    "Now that we have set our page structure with the layout, **we might also want to make it interactive** - think drop down menus, sliders, or clickable items. We can do this by creating functions (\"callbacks\") that are activated whenever an input component changes in some way. Callbacks go at the end of your layout and right before you run the dashboard (i.e. before the if statement). Similar to layouts, callbacks also have a few key components: \n",
    "1. **@app.callback()** -- initialization and structure of the callback\n",
    "1. **Input** -- what the inputs will be \n",
    "1. **Output** -- what the outputs will be \n",
    "1. **our function** -- this is where we define our function and tell Dash what it should return given an input"
   ]
  },
  {
   "cell_type": "markdown",
   "metadata": {},
   "source": [
    "Let's take our first basic example and add some interactivity, or rather, *reactivity* since the dashboard is *reacting* to changes in the default settings. "
   ]
  },
  {
   "cell_type": "markdown",
   "metadata": {},
   "source": [
    "# Resources: \n",
    "https://plotly.com/python/line-and-scatter/\n",
    "https://dash.plotly.com/basic-callbacks\n",
    "https://dash.plotly.com/dash-core-components\n",
    "https://dash.plotly.com/dash-html-components"
   ]
  },
  {
   "cell_type": "code",
   "execution_count": null,
   "metadata": {},
   "outputs": [],
   "source": [
    "import dash\n",
    "from dash import dcc\n",
    "from dash import html\n",
    "import plotly.express as px\n",
    "import pandas as pd\n",
    "import matplotlib.pyplot as plt \n",
    "\n",
    "# read and clean your data \n",
    "df = pd.read_csv(\"weather_data.csv\")\n",
    "df=df.groupby('Year').agg('mean')\n",
    "df.dropna(inplace=True)\n",
    "df.reset_index(inplace=True)\n",
    "\n",
    "# create the figure you want \n",
    "fig = px.bar(df, x=\"Year\", y=\"SALEM_TEMP\", barmode=\"group\")\n",
    "\n",
    "# here we are setting the actual layout of the app -- this is the most basic example\n",
    "app.layout = html.Div(children=[\n",
    "    html.H1(\n",
    "        children='Temperatures in Salem'\n",
    "    ),\n",
    "\n",
    "    html.Div(\n",
    "        children='''\n",
    "        As you can see, average temperatures in Salem fluctuate usually between 10 and 13 degrees Celsius.\n",
    "    '''\n",
    "    ),\n",
    "\n",
    "    dcc.Graph(\n",
    "        id='example-graph',\n",
    "        figure=fig\n",
    "    )\n",
    "])\n",
    "\n",
    "# now we add our callback \n",
    "@app.callback(\n",
    "    Output('tip-graph', 'figure'),\n",
    "    [Input(\"colorscale-dropdown\", \"value\")]\n",
    ")\n",
    "def update_tip_figure(colorscale):\n",
    "    return px.scatter(\n",
    "        df_color, x=\"total_bill\", y=\"tip\", color=\"size\",\n",
    "        color_continuous_scale=colorscale,\n",
    "        render_mode=\"webgl\", title=\"Tips\"\n",
    "    )\n",
    "\n",
    "if __name__ == '__main__':\n",
    "    app.run_server(dev_tools_hot_reload=False)"
   ]
  },
  {
   "cell_type": "markdown",
   "metadata": {},
   "source": [
    "Now what if we step it up in our more complex dashboard with three plots?"
   ]
  },
  {
   "cell_type": "code",
   "execution_count": null,
   "metadata": {},
   "outputs": [],
   "source": [
    "external_stylesheets = ['https://codepen.io/chriddyp/pen/bWLwgP.css']\n",
    "\n",
    "app = dash.Dash(__name__, external_stylesheets=external_stylesheets)\n",
    "\n",
    "app.layout = html.Div(children=[\n",
    "    # now we want to next the html.Divs that should all be in the same row further\n",
    "    # Each \"Div\" sets a new row of plots or a new division \n",
    "    html.Div([\n",
    "        html.Div([\n",
    "            html.H1(children='Temperatures in Salem',\n",
    "                style={'textAlign': 'center','color': 'blue'}\n",
    "                   ),\n",
    "\n",
    "            html.Div(children='''\n",
    "                As you can see, average temperatures in Salem fluctuate usually between 10 and 13 degrees Celsius.\n",
    "            '''),\n",
    "\n",
    "            dcc.Graph(id='example-graph',figure=fig),\n",
    "        ], className='six columns'), # this indicates that we should split the row in half (6 half of 12 columns)\n",
    "\n",
    "        html.Div(children=[\n",
    "            html.H1(children='Temperature versus Wind in SF',\n",
    "                style={'textAlign': 'center','color': 'red'}),\n",
    "\n",
    "            html.Div(children='Can you see any relationship?'),\n",
    "\n",
    "            dcc.Graph(id='plot2',figure=fig2), \n",
    "        ], className='six columns') # this indicates that we should split the row in half (6 half of 12 columns)\n",
    "    ], className='row'),\n",
    "    # let's add a row long figure just for kicks too \n",
    "    html.Div([\n",
    "        html.Div(children=[\n",
    "            html.H1(children='Annual Average Temperature in Seattle, WA'),\n",
    "\n",
    "            html.Div(children='Is there a long term trend?',\n",
    "                style={'textAlign': 'center','color': 'orange'}),\n",
    "\n",
    "            dcc.Graph(id='temp_over_time',figure=fig3), \n",
    "        ]) # don't need to specify six columns because it will take up the whole row \n",
    "    ], className='row')\n",
    "])\n",
    "# make sure everything is indented properly! \n",
    "                      \n",
    "if __name__ == '__main__':\n",
    "    app.run_server(dev_tools_hot_reload=False)"
   ]
  },
  {
   "cell_type": "code",
   "execution_count": null,
   "metadata": {},
   "outputs": [],
   "source": []
  },
  {
   "cell_type": "markdown",
   "metadata": {},
   "source": []
  }
 ],
 "metadata": {
  "kernelspec": {
   "display_name": "Python 3",
   "language": "python",
   "name": "python3"
  },
  "language_info": {
   "codemirror_mode": {
    "name": "ipython",
    "version": 3
   },
   "file_extension": ".py",
   "mimetype": "text/x-python",
   "name": "python",
   "nbconvert_exporter": "python",
   "pygments_lexer": "ipython3",
   "version": "3.6.10"
  }
 },
 "nbformat": 4,
 "nbformat_minor": 2
}
