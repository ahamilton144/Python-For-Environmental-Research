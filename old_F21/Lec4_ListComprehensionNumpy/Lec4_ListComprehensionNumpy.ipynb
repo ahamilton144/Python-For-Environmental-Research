{
 "cells": [
  {
   "cell_type": "markdown",
   "metadata": {
    "slideshow": {
     "slide_type": "slide"
    }
   },
   "source": [
    "# Lecture 4: List comprehension & NumPy\n",
    "ENVR 890-010: Python for Environmental Research, Fall 2021\n",
    "\n",
    "September 10, 2021\n",
    "\n",
    "By Andrew Hamilton. Some material adapted from Greg Characklis, David Gorelick and H.B. Zeff."
   ]
  },
  {
   "cell_type": "markdown",
   "metadata": {
    "slideshow": {
     "slide_type": "fragment"
    }
   },
   "source": [
    "## Summary\n",
    "In this lecture, we will first learn about using **list comprehensions** to write for loops in a more efficient and compact way. We will then move beyond the standard data structures (list, tuple, dictionary) to a more advanced data structure called a **NumPy array**. Along the way, we will learn how **logical indexing** can be used with NumPy as a powerful tool to retrieve and manipulate particular subsets of data."
   ]
  },
  {
   "cell_type": "markdown",
   "metadata": {
    "slideshow": {
     "slide_type": "slide"
    }
   },
   "source": [
    "## List comprehensions\n",
    "As we learned last week, **loops** can be used to execute a code block for every item in a list. For example, to a list of all integer degrees between 0 and 90 converted to radians, we can write:"
   ]
  },
  {
   "cell_type": "code",
   "execution_count": 5,
   "metadata": {
    "slideshow": {
     "slide_type": "fragment"
    }
   },
   "outputs": [],
   "source": [
    "import math\n",
    "\n",
    "def degrees_to_radians(degrees):\n",
    "    return degrees * (2 * math.pi / 360)"
   ]
  },
  {
   "cell_type": "code",
   "execution_count": 3,
   "metadata": {
    "slideshow": {
     "slide_type": "fragment"
    }
   },
   "outputs": [
    {
     "name": "stdout",
     "output_type": "stream",
     "text": [
      "[0, 1, 2, 3, 4, 5, 6, 7, 8, 9, 10, 11, 12, 13, 14, 15, 16, 17, 18, 19, 20, 21, 22, 23, 24, 25, 26, 27, 28, 29, 30, 31, 32, 33, 34, 35, 36, 37, 38, 39, 40, 41, 42, 43, 44, 45, 46, 47, 48, 49, 50, 51, 52, 53, 54, 55, 56, 57, 58, 59, 60, 61, 62, 63, 64, 65, 66, 67, 68, 69, 70, 71, 72, 73, 74, 75, 76, 77, 78, 79, 80, 81, 82, 83, 84, 85, 86, 87, 88, 89, 90]\n",
      "\n",
      "[0.0, 0.017453292519943295, 0.03490658503988659, 0.05235987755982989, 0.06981317007977318, 0.08726646259971647, 0.10471975511965978, 0.12217304763960307, 0.13962634015954636, 0.15707963267948966, 0.17453292519943295, 0.19198621771937624, 0.20943951023931956, 0.22689280275926285, 0.24434609527920614, 0.2617993877991494, 0.2792526803190927, 0.29670597283903605, 0.3141592653589793, 0.33161255787892263, 0.3490658503988659, 0.3665191429188092, 0.3839724354387525, 0.4014257279586958, 0.4188790204786391, 0.4363323129985824, 0.4537856055185257, 0.47123889803846897, 0.4886921905584123, 0.5061454830783556, 0.5235987755982988, 0.5410520681182421, 0.5585053606381855, 0.5759586531581288, 0.5934119456780721, 0.6108652381980153, 0.6283185307179586, 0.6457718232379019, 0.6632251157578453, 0.6806784082777885, 0.6981317007977318, 0.7155849933176751, 0.7330382858376184, 0.7504915783575618, 0.767944870877505, 0.7853981633974483, 0.8028514559173916, 0.8203047484373349, 0.8377580409572782, 0.8552113334772214, 0.8726646259971648, 0.8901179185171081, 0.9075712110370514, 0.9250245035569946, 0.9424777960769379, 0.9599310885968813, 0.9773843811168246, 0.9948376736367679, 1.0122909661567112, 1.0297442586766545, 1.0471975511965976, 1.064650843716541, 1.0821041362364843, 1.0995574287564276, 1.117010721276371, 1.1344640137963142, 1.1519173063162575, 1.1693705988362009, 1.1868238913561442, 1.2042771838760873, 1.2217304763960306, 1.239183768915974, 1.2566370614359172, 1.2740903539558606, 1.2915436464758039, 1.3089969389957472, 1.3264502315156905, 1.3439035240356338, 1.361356816555577, 1.3788101090755203, 1.3962634015954636, 1.413716694115407, 1.4311699866353502, 1.4486232791552935, 1.4660765716752369, 1.4835298641951802, 1.5009831567151235, 1.5184364492350666, 1.53588974175501, 1.5533430342749532, 1.5707963267948966]\n",
      "\n",
      "91\n"
     ]
    }
   ],
   "source": [
    "### create list of degrees\n",
    "degrees = list(range(0, 91))\n",
    "\n",
    "### use for loop to create list of radians\n",
    "radians = []\n",
    "for d in range(0, 91):\n",
    "    radians.append( degrees_to_radians(d) )\n",
    "    \n",
    "print(degrees)\n",
    "print()\n",
    "print(radians)\n",
    "print()\n",
    "print( len(radians) )"
   ]
  },
  {
   "cell_type": "markdown",
   "metadata": {
    "slideshow": {
     "slide_type": "fragment"
    }
   },
   "source": [
    "[**List comprehensions**](https://docs.python.org/3/tutorial/datastructures.html) are a way to write for loops in a more compact and computationally efficient way:"
   ]
  },
  {
   "cell_type": "code",
   "execution_count": 6,
   "metadata": {
    "slideshow": {
     "slide_type": "fragment"
    }
   },
   "outputs": [
    {
     "name": "stdout",
     "output_type": "stream",
     "text": [
      "[0.0, 0.017453292519943295, 0.03490658503988659, 0.05235987755982989, 0.06981317007977318, 0.08726646259971647, 0.10471975511965978, 0.12217304763960307, 0.13962634015954636, 0.15707963267948966, 0.17453292519943295, 0.19198621771937624, 0.20943951023931956, 0.22689280275926285, 0.24434609527920614, 0.2617993877991494, 0.2792526803190927, 0.29670597283903605, 0.3141592653589793, 0.33161255787892263, 0.3490658503988659, 0.3665191429188092, 0.3839724354387525, 0.4014257279586958, 0.4188790204786391, 0.4363323129985824, 0.4537856055185257, 0.47123889803846897, 0.4886921905584123, 0.5061454830783556, 0.5235987755982988, 0.5410520681182421, 0.5585053606381855, 0.5759586531581288, 0.5934119456780721, 0.6108652381980153, 0.6283185307179586, 0.6457718232379019, 0.6632251157578453, 0.6806784082777885, 0.6981317007977318, 0.7155849933176751, 0.7330382858376184, 0.7504915783575618, 0.767944870877505, 0.7853981633974483, 0.8028514559173916, 0.8203047484373349, 0.8377580409572782, 0.8552113334772214, 0.8726646259971648, 0.8901179185171081, 0.9075712110370514, 0.9250245035569946, 0.9424777960769379, 0.9599310885968813, 0.9773843811168246, 0.9948376736367679, 1.0122909661567112, 1.0297442586766545, 1.0471975511965976, 1.064650843716541, 1.0821041362364843, 1.0995574287564276, 1.117010721276371, 1.1344640137963142, 1.1519173063162575, 1.1693705988362009, 1.1868238913561442, 1.2042771838760873, 1.2217304763960306, 1.239183768915974, 1.2566370614359172, 1.2740903539558606, 1.2915436464758039, 1.3089969389957472, 1.3264502315156905, 1.3439035240356338, 1.361356816555577, 1.3788101090755203, 1.3962634015954636, 1.413716694115407, 1.4311699866353502, 1.4486232791552935, 1.4660765716752369, 1.4835298641951802, 1.5009831567151235, 1.5184364492350666, 1.53588974175501, 1.5533430342749532, 1.5707963267948966]\n",
      "\n",
      "True\n"
     ]
    }
   ],
   "source": [
    "### do the same thing with list comprehension instead of for loop\n",
    "radians_lc = [degrees_to_radians(d) for d in degrees]\n",
    "\n",
    "print(radians_lc)\n",
    "print()\n",
    "### check that the two lists are equivalent\n",
    "print(radians == radians_lc)"
   ]
  },
  {
   "cell_type": "markdown",
   "metadata": {
    "slideshow": {
     "slide_type": "fragment"
    }
   },
   "source": [
    "The list comprehension syntax can be thought of as an **expression** (e.g., what to do to each element) followed by a **for clause**, all surrounded by brackets. \n",
    "\n",
    "We can include an **if clause** to include only certain elements (for example, those whose degrees are divisible by 10) in the final list:"
   ]
  },
  {
   "cell_type": "code",
   "execution_count": 7,
   "metadata": {
    "slideshow": {
     "slide_type": "fragment"
    }
   },
   "outputs": [
    {
     "name": "stdout",
     "output_type": "stream",
     "text": [
      "[0.0, 0.17453292519943295, 0.3490658503988659, 0.5235987755982988, 0.6981317007977318, 0.8726646259971648, 1.0471975511965976, 1.2217304763960306, 1.3962634015954636, 1.5707963267948966]\n",
      "\n",
      "10\n"
     ]
    }
   ],
   "source": [
    "### first use for loop combined with if statement\n",
    "radians_divisible10 = []\n",
    "for d in degrees:\n",
    "    if d % 10 == 0:\n",
    "        radians_divisible10.append( degrees_to_radians(d) )\n",
    "print(radians_divisible10)\n",
    "print()\n",
    "print(len(radians_divisible10))"
   ]
  },
  {
   "cell_type": "code",
   "execution_count": 8,
   "metadata": {
    "slideshow": {
     "slide_type": "fragment"
    }
   },
   "outputs": [
    {
     "name": "stdout",
     "output_type": "stream",
     "text": [
      "[0.0, 0.17453292519943295, 0.3490658503988659, 0.5235987755982988, 0.6981317007977318, 0.8726646259971648, 1.0471975511965976, 1.2217304763960306, 1.3962634015954636, 1.5707963267948966]\n",
      "\n",
      "True\n"
     ]
    }
   ],
   "source": [
    "### now repeat with list comprehension\n",
    "radians_divisible10_lc = [degrees_to_radians(d) for d in degrees if d % 10 == 0]\n",
    "\n",
    "print(radians_divisible10_lc)\n",
    "print()\n",
    "\n",
    "print(radians_divisible10 == radians_divisible10_lc)"
   ]
  },
  {
   "cell_type": "markdown",
   "metadata": {
    "slideshow": {
     "slide_type": "slide"
    }
   },
   "source": [
    "### In class exercise\n",
    "Assume we work for the county office of environmental quality, and are administering a program that will provide subsidized water quality assessments for all households that rely on private groundwater wells and have incomes less than \\$30,000 per year. \n",
    "\n",
    "First we will create random demographic data for 1000 households (but pretend for the exercise that this was retrieved from a county database)."
   ]
  },
  {
   "cell_type": "code",
   "execution_count": 10,
   "metadata": {
    "slideshow": {
     "slide_type": "fragment"
    }
   },
   "outputs": [],
   "source": [
    "import random\n",
    "## numeric index for each household in county\n",
    "household = ['H' + str(i) for i in list(range(1000))]\n",
    "# print(household)"
   ]
  },
  {
   "cell_type": "code",
   "execution_count": 12,
   "metadata": {
    "slideshow": {
     "slide_type": "fragment"
    }
   },
   "outputs": [],
   "source": [
    "## randomly assign water source for each household\n",
    "water = [random.choices(['municipal', 'private'], weights = [0.6, 0.4], k=1)[0] for h in household]\n",
    "# print(water)"
   ]
  },
  {
   "cell_type": "code",
   "execution_count": 14,
   "metadata": {
    "slideshow": {
     "slide_type": "fragment"
    }
   },
   "outputs": [],
   "source": [
    "## randomly assign income for each household from Normal/Gaussian distribution\n",
    "income = [max(random.gauss(50000, 20000), 0) for h in household]\n",
    "# print(income)"
   ]
  },
  {
   "cell_type": "markdown",
   "metadata": {},
   "source": [
    "1. Use list comprehension to find the list of households with a private water source? How many are there?"
   ]
  },
  {
   "cell_type": "code",
   "execution_count": 15,
   "metadata": {},
   "outputs": [
    {
     "name": "stdout",
     "output_type": "stream",
     "text": [
      "['H3', 'H4', 'H11', 'H16', 'H20', 'H21', 'H22', 'H25', 'H26', 'H30', 'H31', 'H37', 'H38', 'H40', 'H41', 'H42', 'H43', 'H45', 'H46', 'H47', 'H49', 'H54', 'H57', 'H61', 'H62', 'H63', 'H67', 'H68', 'H71', 'H72', 'H75', 'H77', 'H83', 'H86', 'H87', 'H88', 'H91', 'H94', 'H95', 'H96', 'H100', 'H104', 'H112', 'H117', 'H118', 'H123', 'H124', 'H125', 'H130', 'H132', 'H133', 'H137', 'H138', 'H140', 'H142', 'H146', 'H147', 'H150', 'H151', 'H154', 'H155', 'H158', 'H160', 'H161', 'H162', 'H164', 'H166', 'H167', 'H169', 'H175', 'H178', 'H179', 'H183', 'H190', 'H193', 'H197', 'H199', 'H200', 'H201', 'H206', 'H207', 'H208', 'H210', 'H211', 'H213', 'H219', 'H220', 'H221', 'H222', 'H223', 'H224', 'H226', 'H231', 'H233', 'H238', 'H241', 'H247', 'H256', 'H257', 'H258', 'H259', 'H260', 'H262', 'H263', 'H265', 'H268', 'H272', 'H275', 'H281', 'H282', 'H291', 'H297', 'H298', 'H300', 'H301', 'H304', 'H306', 'H308', 'H311', 'H312', 'H313', 'H314', 'H315', 'H316', 'H317', 'H319', 'H323', 'H324', 'H326', 'H328', 'H340', 'H344', 'H345', 'H347', 'H353', 'H354', 'H355', 'H359', 'H367', 'H372', 'H376', 'H379', 'H380', 'H381', 'H382', 'H385', 'H390', 'H393', 'H394', 'H395', 'H397', 'H398', 'H403', 'H405', 'H408', 'H410', 'H416', 'H418', 'H419', 'H420', 'H422', 'H425', 'H428', 'H432', 'H435', 'H436', 'H440', 'H442', 'H444', 'H445', 'H449', 'H450', 'H453', 'H455', 'H456', 'H458', 'H461', 'H466', 'H467', 'H472', 'H473', 'H474', 'H477', 'H479', 'H486', 'H488', 'H492', 'H496', 'H504', 'H505', 'H506', 'H513', 'H516', 'H521', 'H522', 'H524', 'H526', 'H532', 'H534', 'H535', 'H537', 'H544', 'H545', 'H546', 'H547', 'H551', 'H558', 'H559', 'H561', 'H562', 'H564', 'H566', 'H572', 'H576', 'H578', 'H582', 'H585', 'H586', 'H589', 'H590', 'H593', 'H595', 'H599', 'H604', 'H606', 'H607', 'H609', 'H615', 'H618', 'H624', 'H633', 'H634', 'H636', 'H639', 'H640', 'H644', 'H646', 'H650', 'H651', 'H652', 'H657', 'H659', 'H660', 'H664', 'H668', 'H672', 'H673', 'H674', 'H675', 'H679', 'H680', 'H681', 'H682', 'H683', 'H694', 'H699', 'H700', 'H701', 'H702', 'H705', 'H710', 'H714', 'H715', 'H719', 'H725', 'H726', 'H730', 'H731', 'H732', 'H735', 'H738', 'H739', 'H740', 'H742', 'H744', 'H745', 'H748', 'H750', 'H751', 'H752', 'H753', 'H756', 'H760', 'H762', 'H764', 'H768', 'H770', 'H772', 'H774', 'H775', 'H777', 'H782', 'H784', 'H786', 'H788', 'H790', 'H793', 'H794', 'H795', 'H800', 'H808', 'H811', 'H812', 'H815', 'H817', 'H819', 'H821', 'H822', 'H823', 'H824', 'H825', 'H826', 'H831', 'H833', 'H834', 'H836', 'H837', 'H839', 'H840', 'H845', 'H848', 'H850', 'H852', 'H853', 'H858', 'H861', 'H864', 'H867', 'H868', 'H871', 'H873', 'H876', 'H878', 'H879', 'H885', 'H886', 'H893', 'H894', 'H897', 'H898', 'H902', 'H903', 'H904', 'H905', 'H906', 'H907', 'H909', 'H911', 'H912', 'H916', 'H918', 'H920', 'H922', 'H924', 'H926', 'H929', 'H935', 'H936', 'H937', 'H938', 'H941', 'H942', 'H949', 'H950', 'H951', 'H952', 'H954', 'H960', 'H961', 'H966', 'H968', 'H969', 'H970', 'H973', 'H975', 'H976', 'H977', 'H982', 'H988', 'H994', 'H995']\n"
     ]
    }
   ],
   "source": [
    "private_hh = []\n",
    "for i in range(1000):\n",
    "    if water[i] == 'private':\n",
    "#         private_hh.append('H'+str(i))\n",
    "        private_hh.append(household[i])\n",
    "print(private_hh)"
   ]
  },
  {
   "cell_type": "code",
   "execution_count": 16,
   "metadata": {},
   "outputs": [
    {
     "name": "stdout",
     "output_type": "stream",
     "text": [
      "['H3', 'H4', 'H11', 'H16', 'H20', 'H21', 'H22', 'H25', 'H26', 'H30', 'H31', 'H37', 'H38', 'H40', 'H41', 'H42', 'H43', 'H45', 'H46', 'H47', 'H49', 'H54', 'H57', 'H61', 'H62', 'H63', 'H67', 'H68', 'H71', 'H72', 'H75', 'H77', 'H83', 'H86', 'H87', 'H88', 'H91', 'H94', 'H95', 'H96', 'H100', 'H104', 'H112', 'H117', 'H118', 'H123', 'H124', 'H125', 'H130', 'H132', 'H133', 'H137', 'H138', 'H140', 'H142', 'H146', 'H147', 'H150', 'H151', 'H154', 'H155', 'H158', 'H160', 'H161', 'H162', 'H164', 'H166', 'H167', 'H169', 'H175', 'H178', 'H179', 'H183', 'H190', 'H193', 'H197', 'H199', 'H200', 'H201', 'H206', 'H207', 'H208', 'H210', 'H211', 'H213', 'H219', 'H220', 'H221', 'H222', 'H223', 'H224', 'H226', 'H231', 'H233', 'H238', 'H241', 'H247', 'H256', 'H257', 'H258', 'H259', 'H260', 'H262', 'H263', 'H265', 'H268', 'H272', 'H275', 'H281', 'H282', 'H291', 'H297', 'H298', 'H300', 'H301', 'H304', 'H306', 'H308', 'H311', 'H312', 'H313', 'H314', 'H315', 'H316', 'H317', 'H319', 'H323', 'H324', 'H326', 'H328', 'H340', 'H344', 'H345', 'H347', 'H353', 'H354', 'H355', 'H359', 'H367', 'H372', 'H376', 'H379', 'H380', 'H381', 'H382', 'H385', 'H390', 'H393', 'H394', 'H395', 'H397', 'H398', 'H403', 'H405', 'H408', 'H410', 'H416', 'H418', 'H419', 'H420', 'H422', 'H425', 'H428', 'H432', 'H435', 'H436', 'H440', 'H442', 'H444', 'H445', 'H449', 'H450', 'H453', 'H455', 'H456', 'H458', 'H461', 'H466', 'H467', 'H472', 'H473', 'H474', 'H477', 'H479', 'H486', 'H488', 'H492', 'H496', 'H504', 'H505', 'H506', 'H513', 'H516', 'H521', 'H522', 'H524', 'H526', 'H532', 'H534', 'H535', 'H537', 'H544', 'H545', 'H546', 'H547', 'H551', 'H558', 'H559', 'H561', 'H562', 'H564', 'H566', 'H572', 'H576', 'H578', 'H582', 'H585', 'H586', 'H589', 'H590', 'H593', 'H595', 'H599', 'H604', 'H606', 'H607', 'H609', 'H615', 'H618', 'H624', 'H633', 'H634', 'H636', 'H639', 'H640', 'H644', 'H646', 'H650', 'H651', 'H652', 'H657', 'H659', 'H660', 'H664', 'H668', 'H672', 'H673', 'H674', 'H675', 'H679', 'H680', 'H681', 'H682', 'H683', 'H694', 'H699', 'H700', 'H701', 'H702', 'H705', 'H710', 'H714', 'H715', 'H719', 'H725', 'H726', 'H730', 'H731', 'H732', 'H735', 'H738', 'H739', 'H740', 'H742', 'H744', 'H745', 'H748', 'H750', 'H751', 'H752', 'H753', 'H756', 'H760', 'H762', 'H764', 'H768', 'H770', 'H772', 'H774', 'H775', 'H777', 'H782', 'H784', 'H786', 'H788', 'H790', 'H793', 'H794', 'H795', 'H800', 'H808', 'H811', 'H812', 'H815', 'H817', 'H819', 'H821', 'H822', 'H823', 'H824', 'H825', 'H826', 'H831', 'H833', 'H834', 'H836', 'H837', 'H839', 'H840', 'H845', 'H848', 'H850', 'H852', 'H853', 'H858', 'H861', 'H864', 'H867', 'H868', 'H871', 'H873', 'H876', 'H878', 'H879', 'H885', 'H886', 'H893', 'H894', 'H897', 'H898', 'H902', 'H903', 'H904', 'H905', 'H906', 'H907', 'H909', 'H911', 'H912', 'H916', 'H918', 'H920', 'H922', 'H924', 'H926', 'H929', 'H935', 'H936', 'H937', 'H938', 'H941', 'H942', 'H949', 'H950', 'H951', 'H952', 'H954', 'H960', 'H961', 'H966', 'H968', 'H969', 'H970', 'H973', 'H975', 'H976', 'H977', 'H982', 'H988', 'H994', 'H995']\n"
     ]
    }
   ],
   "source": [
    "private_hh = []\n",
    "for i,hh in enumerate(household):\n",
    "    if water[i] == 'private':\n",
    "        private_hh.append(hh)\n",
    "print(private_hh)"
   ]
  },
  {
   "cell_type": "markdown",
   "metadata": {
    "slideshow": {
     "slide_type": "fragment"
    }
   },
   "source": [
    "2. How many households meet both criteria for testing?"
   ]
  },
  {
   "cell_type": "markdown",
   "metadata": {},
   "source": [
    "3. What are the average incomes for households with municipal and private water, respectively? Use the statistics.mean() function."
   ]
  },
  {
   "cell_type": "code",
   "execution_count": null,
   "metadata": {},
   "outputs": [],
   "source": [
    "### import statistics library\n",
    "import statistics\n",
    "\n",
    "### test example to show how to use mean function\n",
    "test_mean = statistics.mean([1,2,3])\n",
    "print(test_mean)"
   ]
  },
  {
   "cell_type": "markdown",
   "metadata": {
    "slideshow": {
     "slide_type": "slide"
    }
   },
   "source": [
    "## NumPy\n",
    "[NumPy](https://numpy.org/doc/stable/) is one of the most popular packages for scientific computing and data science, and is included in the standard Anaconda installation. It is commonly imported with the **alias** ``np``. "
   ]
  },
  {
   "cell_type": "code",
   "execution_count": null,
   "metadata": {
    "slideshow": {
     "slide_type": "fragment"
    }
   },
   "outputs": [],
   "source": [
    "import numpy as np"
   ]
  },
  {
   "cell_type": "markdown",
   "metadata": {
    "slideshow": {
     "slide_type": "slide"
    }
   },
   "source": [
    "### Creating NumPy arrays\n",
    "NumPy supports a new type of data structure: the **NumPy array**. NumPy arrays are designed to handle large, multi-dimensional arrays of numbers much more easily and efficiently than standard lists."
   ]
  },
  {
   "cell_type": "code",
   "execution_count": null,
   "metadata": {
    "slideshow": {
     "slide_type": "fragment"
    }
   },
   "outputs": [],
   "source": [
    "# here is a standard list with two dimensions\n",
    "l = [[1, 2, 3, 4, 5], [10, 9, 8, 7, 6]]\n",
    "print(l, type(l))"
   ]
  },
  {
   "cell_type": "code",
   "execution_count": null,
   "metadata": {
    "slideshow": {
     "slide_type": "fragment"
    }
   },
   "outputs": [],
   "source": [
    "# create a 2D numpy array from l\n",
    "a = np.array(l)\n",
    "print(a, type(a))"
   ]
  },
  {
   "cell_type": "markdown",
   "metadata": {
    "slideshow": {
     "slide_type": "fragment"
    }
   },
   "source": [
    "Note that, unlike the basic data structures such as lists, **all elements in a NumPy array must be the same type**. Although string types are allowed, NumPy is most commonly used with numeric types such as int and float."
   ]
  },
  {
   "cell_type": "markdown",
   "metadata": {
    "slideshow": {
     "slide_type": "fragment"
    }
   },
   "source": [
    "We access the elements the same way as lists:"
   ]
  },
  {
   "cell_type": "code",
   "execution_count": null,
   "metadata": {
    "slideshow": {
     "slide_type": "fragment"
    }
   },
   "outputs": [],
   "source": [
    "print(l[1][0])\n",
    "print(a[1][0])"
   ]
  },
  {
   "cell_type": "markdown",
   "metadata": {
    "slideshow": {
     "slide_type": "fragment"
    }
   },
   "source": [
    "Or, alternatively, in a single brackets and separated by a comma:"
   ]
  },
  {
   "cell_type": "code",
   "execution_count": null,
   "metadata": {
    "slideshow": {
     "slide_type": "fragment"
    }
   },
   "outputs": [],
   "source": [
    "print(a[0, 2])"
   ]
  },
  {
   "cell_type": "markdown",
   "metadata": {
    "slideshow": {
     "slide_type": "fragment"
    }
   },
   "source": [
    "We can get the number of dimensions and the shape of an array using its ``ndim`` and ``shape`` **properties**. For a 2D array, the shape is (number of rows, number of columns). For larger arrays, it always goes from the innermost set of brackets to the outermost set of brackets."
   ]
  },
  {
   "cell_type": "code",
   "execution_count": null,
   "metadata": {
    "slideshow": {
     "slide_type": "fragment"
    }
   },
   "outputs": [],
   "source": [
    "print( a.ndim )\n",
    "print( a.shape )\n",
    "print()\n",
    "\n",
    "### loop over rows\n",
    "for i in range(a.shape[0]):\n",
    "    ### loop over columns\n",
    "    for j in range(a.shape[1]):\n",
    "        print( a[i, j])\n",
    "    print()"
   ]
  },
  {
   "cell_type": "markdown",
   "metadata": {
    "slideshow": {
     "slide_type": "fragment"
    }
   },
   "source": [
    "We can also do multi-dimensional **slices**"
   ]
  },
  {
   "cell_type": "code",
   "execution_count": null,
   "metadata": {
    "slideshow": {
     "slide_type": "fragment"
    }
   },
   "outputs": [],
   "source": [
    "print(a[:, 1:4])"
   ]
  },
  {
   "cell_type": "markdown",
   "metadata": {
    "slideshow": {
     "slide_type": "slide"
    }
   },
   "source": [
    "NumPy also has handy **functions** for creating different types of arrays. For example, we can create a new array filled with ones or zeros:"
   ]
  },
  {
   "cell_type": "code",
   "execution_count": null,
   "metadata": {
    "slideshow": {
     "slide_type": "fragment"
    }
   },
   "outputs": [],
   "source": [
    "# with a single argument, we will get a 1D array of that length\n",
    "a = np.ones(3)\n",
    "print(a, a.shape)"
   ]
  },
  {
   "cell_type": "code",
   "execution_count": null,
   "metadata": {
    "scrolled": false,
    "slideshow": {
     "slide_type": "fragment"
    }
   },
   "outputs": [],
   "source": [
    "# alternatively, we can give a tuple or list for multi-dimensional arrays\n",
    "a = np.zeros((3, 10, 20))\n",
    "print(a, a.shape)"
   ]
  },
  {
   "cell_type": "markdown",
   "metadata": {
    "slideshow": {
     "slide_type": "slide"
    }
   },
   "source": [
    "We can also create **sequences** of numbers easily (similar to list(range()) for lists):"
   ]
  },
  {
   "cell_type": "code",
   "execution_count": null,
   "metadata": {
    "slideshow": {
     "slide_type": "fragment"
    }
   },
   "outputs": [],
   "source": [
    "# with one argument, it is assumed to start at zero and count up by one until it reaches your number (not inclusive, it will stop before your number)\n",
    "a = np.arange(10)\n",
    "print(a, type(a))"
   ]
  },
  {
   "cell_type": "code",
   "execution_count": null,
   "metadata": {
    "slideshow": {
     "slide_type": "fragment"
    }
   },
   "outputs": [],
   "source": [
    "# with two arguments, it will start at the 1st number and count up by 1 until reaching the 2nd number\n",
    "a = np.arange(100, 120)\n",
    "print(a)"
   ]
  },
  {
   "cell_type": "code",
   "execution_count": null,
   "metadata": {
    "slideshow": {
     "slide_type": "fragment"
    }
   },
   "outputs": [],
   "source": [
    "# with three arguments, it will start at the 1st and count by increments of the 3rd number until it reaches the 2rd number (again not inclusive)\n",
    "a = np.arange(10, -21, -2.5)\n",
    "print(a)"
   ]
  },
  {
   "cell_type": "markdown",
   "metadata": {
    "slideshow": {
     "slide_type": "slide"
    }
   },
   "source": [
    "We can draw **random samples** from a normal distribution (or many other distributions). NumPy has functions for creating whole arrays at a time, rather than the one-by-one approach needed for the ``random`` module."
   ]
  },
  {
   "cell_type": "code",
   "execution_count": null,
   "metadata": {
    "slideshow": {
     "slide_type": "fragment"
    }
   },
   "outputs": [],
   "source": [
    "a = np.random.normal(loc = 10, scale = 8, size = (10, 10))\n",
    "print(a)"
   ]
  },
  {
   "cell_type": "markdown",
   "metadata": {
    "slideshow": {
     "slide_type": "slide"
    }
   },
   "source": [
    "### Doing math with NumPy\n",
    "NumPy makes it very easy to do **element-wise** arithmetic within and between arrays. "
   ]
  },
  {
   "cell_type": "code",
   "execution_count": null,
   "metadata": {
    "slideshow": {
     "slide_type": "fragment"
    }
   },
   "outputs": [],
   "source": [
    "a = np.array([1, 2, 3])\n",
    "b = a + 3\n",
    "print(b)"
   ]
  },
  {
   "cell_type": "code",
   "execution_count": null,
   "metadata": {
    "slideshow": {
     "slide_type": "fragment"
    }
   },
   "outputs": [],
   "source": [
    "c = a * 2\n",
    "print(c)"
   ]
  },
  {
   "cell_type": "markdown",
   "metadata": {},
   "source": [
    "Note this behavior is different than for lists, where \"+\" means append and \"*\" means replicate. For NumPy, the operations are simply applied to each element."
   ]
  },
  {
   "cell_type": "code",
   "execution_count": null,
   "metadata": {
    "slideshow": {
     "slide_type": "fragment"
    }
   },
   "outputs": [],
   "source": [
    "d = a ** 2\n",
    "print(d)"
   ]
  },
  {
   "cell_type": "code",
   "execution_count": null,
   "metadata": {
    "slideshow": {
     "slide_type": "fragment"
    }
   },
   "outputs": [],
   "source": [
    "e = a + d\n",
    "print(e)"
   ]
  },
  {
   "cell_type": "code",
   "execution_count": null,
   "metadata": {
    "slideshow": {
     "slide_type": "fragment"
    }
   },
   "outputs": [],
   "source": [
    "f = a ** a\n",
    "print(f)"
   ]
  },
  {
   "cell_type": "markdown",
   "metadata": {
    "slideshow": {
     "slide_type": "slide"
    }
   },
   "source": [
    "NumPy also has many useful functions that perform more complex **mathematical operations** on these arrays. Below are some examples, and many more can be found [here](https://www.geeksforgeeks.org/numpy-mathematical-function/)"
   ]
  },
  {
   "cell_type": "code",
   "execution_count": null,
   "metadata": {
    "slideshow": {
     "slide_type": "fragment"
    }
   },
   "outputs": [],
   "source": [
    "a = np.random.normal(loc = 10, scale = 8, size = (10, 10))\n",
    "print(a)\n",
    "print()\n",
    "\n",
    "# statistics\n",
    "print(f'Min: {a.min()}')\n",
    "print()"
   ]
  },
  {
   "cell_type": "code",
   "execution_count": null,
   "metadata": {
    "slideshow": {
     "slide_type": "fragment"
    }
   },
   "outputs": [],
   "source": [
    "print(f'Max of each row: {a.max(axis=1)}' )\n",
    "print()"
   ]
  },
  {
   "cell_type": "code",
   "execution_count": null,
   "metadata": {
    "slideshow": {
     "slide_type": "fragment"
    }
   },
   "outputs": [],
   "source": [
    "print(f'Mean of each column: {a.mean(axis=0)}' )\n",
    "print()"
   ]
  },
  {
   "cell_type": "code",
   "execution_count": null,
   "metadata": {
    "slideshow": {
     "slide_type": "fragment"
    }
   },
   "outputs": [],
   "source": [
    "print(f'Std: {a.std()}' )\n",
    "print()"
   ]
  },
  {
   "cell_type": "code",
   "execution_count": null,
   "metadata": {
    "slideshow": {
     "slide_type": "fragment"
    }
   },
   "outputs": [],
   "source": [
    "print(f'5th percentile: {np.quantile(a, 0.05)}' )\n",
    "print()"
   ]
  },
  {
   "cell_type": "code",
   "execution_count": null,
   "metadata": {
    "slideshow": {
     "slide_type": "fragment"
    }
   },
   "outputs": [],
   "source": [
    "print(f'Sum of each row: {a.sum(axis=1)}')"
   ]
  },
  {
   "cell_type": "code",
   "execution_count": null,
   "metadata": {
    "slideshow": {
     "slide_type": "fragment"
    }
   },
   "outputs": [],
   "source": [
    "# sort each row\n",
    "print( np.sort(a, axis=1) )"
   ]
  },
  {
   "cell_type": "code",
   "execution_count": null,
   "metadata": {
    "slideshow": {
     "slide_type": "fragment"
    }
   },
   "outputs": [],
   "source": [
    "# absolute value of each element\n",
    "print( np.abs(a) )"
   ]
  },
  {
   "cell_type": "code",
   "execution_count": null,
   "metadata": {
    "slideshow": {
     "slide_type": "fragment"
    }
   },
   "outputs": [],
   "source": [
    "# exponential\n",
    "print( np.exp(a) )"
   ]
  },
  {
   "cell_type": "code",
   "execution_count": null,
   "metadata": {
    "scrolled": false,
    "slideshow": {
     "slide_type": "fragment"
    }
   },
   "outputs": [],
   "source": [
    "# square root. \n",
    "print( np.sqrt(a) )"
   ]
  },
  {
   "cell_type": "markdown",
   "metadata": {
    "slideshow": {
     "slide_type": "fragment"
    }
   },
   "source": [
    "Don't be alarmed by the red \"RuntimeWarning\" here. Usually as long as it is a warning, not an error, you are ok. This warning relates to the special \"nan\" (Not A Number) values that you see above. These occur when we try to take the square root of a negative number. NumPy returns this special object (np.nan) when we try to do calculations that are undefined."
   ]
  },
  {
   "cell_type": "markdown",
   "metadata": {
    "slideshow": {
     "slide_type": "slide"
    }
   },
   "source": [
    "Rather than element-wise operations, we can also do **matrix operations**. (If your research involves linear algebra, see [here](https://www.geeksforgeeks.org/numpy-linear-algebra/?ref=lbp) for more examples.)"
   ]
  },
  {
   "cell_type": "code",
   "execution_count": null,
   "metadata": {
    "slideshow": {
     "slide_type": "fragment"
    }
   },
   "outputs": [],
   "source": [
    "A = a[:3, :3]\n",
    "print(A)\n",
    "print()"
   ]
  },
  {
   "cell_type": "code",
   "execution_count": null,
   "metadata": {
    "slideshow": {
     "slide_type": "fragment"
    }
   },
   "outputs": [],
   "source": [
    "B = a[-3:, -3:]\n",
    "print(B)"
   ]
  },
  {
   "cell_type": "code",
   "execution_count": null,
   "metadata": {
    "slideshow": {
     "slide_type": "fragment"
    }
   },
   "outputs": [],
   "source": [
    "# matrix multiplication\n",
    "print( np.matmul(A, B) )"
   ]
  },
  {
   "cell_type": "code",
   "execution_count": null,
   "metadata": {
    "slideshow": {
     "slide_type": "fragment"
    }
   },
   "outputs": [],
   "source": [
    "# determinant\n",
    "print( np.linalg.det(A) )"
   ]
  },
  {
   "cell_type": "markdown",
   "metadata": {
    "slideshow": {
     "slide_type": "slide"
    }
   },
   "source": [
    "### Logical indexing\n",
    "**Logical indexing** is a powerful way to manipulate parts of your data that meet certain conditions. The idea is to create a NumPy array of Boolean variables, and then use this array to index a new array. For example, we can change all undefined elements in the array to zero as follows:"
   ]
  },
  {
   "cell_type": "code",
   "execution_count": null,
   "metadata": {
    "slideshow": {
     "slide_type": "fragment"
    }
   },
   "outputs": [],
   "source": [
    "### create array of square roots, some of which are undefined\n",
    "a = np.random.normal(loc = 10, scale = 8, size = (10, 10))\n",
    "b = np.sqrt(a)\n",
    "print(b)"
   ]
  },
  {
   "cell_type": "code",
   "execution_count": null,
   "metadata": {
    "slideshow": {
     "slide_type": "fragment"
    }
   },
   "outputs": [],
   "source": [
    "### create boolean array with \"True\" everywhere there is an \"nan\" value, using np.isnan() function\n",
    "c = np.isnan(b)\n",
    "print(c)"
   ]
  },
  {
   "cell_type": "code",
   "execution_count": null,
   "metadata": {
    "slideshow": {
     "slide_type": "fragment"
    }
   },
   "outputs": [],
   "source": [
    "### create a copy of b, then reset all nan's to 0 using logical indexing\n",
    "d = b.copy()\n",
    "d[c] = 0\n",
    "# print(b)\n",
    "print(d)"
   ]
  },
  {
   "cell_type": "markdown",
   "metadata": {
    "slideshow": {
     "slide_type": "fragment"
    }
   },
   "source": [
    "This can be thought of as a compact representation of two for loops and and one if statement:"
   ]
  },
  {
   "cell_type": "code",
   "execution_count": null,
   "metadata": {
    "slideshow": {
     "slide_type": "fragment"
    }
   },
   "outputs": [],
   "source": [
    "### equivalent operations to logical indexing with for loops & if statement\n",
    "e = b.copy()\n",
    "for i in range(e.shape[0]):\n",
    "    for j in range(e.shape[1]):\n",
    "        if np.isnan(e[i,j]):\n",
    "            e[i,j] = 0\n",
    "print(e)\n",
    "print()"
   ]
  },
  {
   "cell_type": "code",
   "execution_count": null,
   "metadata": {
    "scrolled": true,
    "slideshow": {
     "slide_type": "fragment"
    }
   },
   "outputs": [],
   "source": [
    "### compare e & d, check if each element is equivalent\n",
    "print(e == d)\n",
    "print()\n",
    "\n",
    "### check if all elements are equivalent\n",
    "print(np.all(e == d))"
   ]
  },
  {
   "cell_type": "markdown",
   "metadata": {
    "slideshow": {
     "slide_type": "fragment"
    }
   },
   "source": [
    "We can also retrieve particular elements of the NumPy array using logical indexing, which is analagous to list comprehension. However, note that we lose the shape of the array when we pick out particular elements."
   ]
  },
  {
   "cell_type": "code",
   "execution_count": null,
   "metadata": {
    "slideshow": {
     "slide_type": "fragment"
    }
   },
   "outputs": [],
   "source": [
    "print(e)"
   ]
  },
  {
   "cell_type": "code",
   "execution_count": null,
   "metadata": {},
   "outputs": [],
   "source": [
    "### which elements are greater than 4?\n",
    "f = e > 4\n",
    "print(f)"
   ]
  },
  {
   "cell_type": "code",
   "execution_count": null,
   "metadata": {},
   "outputs": [],
   "source": [
    "### get new array with just these values\n",
    "g = e[f]\n",
    "print(g)\n",
    "print()\n",
    "print(f.shape)"
   ]
  },
  {
   "cell_type": "code",
   "execution_count": null,
   "metadata": {
    "slideshow": {
     "slide_type": "fragment"
    }
   },
   "outputs": [],
   "source": [
    "### often easier to put logical condition right inside brackets instead of defining as separate variable\n",
    "g = e[e > 4]\n",
    "print(g)"
   ]
  },
  {
   "cell_type": "markdown",
   "metadata": {
    "slideshow": {
     "slide_type": "fragment"
    }
   },
   "source": [
    "To apply multiple logical operations at once, we have to use the **bitwise comparison operators** (``&`` and ``|``) rather than the normal comparison operators (``and`` and ``or``). This is because we want the \"and/or\" to be applied to each element in the array individually, rather than for the entire array at once."
   ]
  },
  {
   "cell_type": "code",
   "execution_count": null,
   "metadata": {
    "slideshow": {
     "slide_type": "fragment"
    }
   },
   "outputs": [],
   "source": [
    "lt2 = e < 2\n",
    "print(lt2)"
   ]
  },
  {
   "cell_type": "code",
   "execution_count": null,
   "metadata": {
    "slideshow": {
     "slide_type": "fragment"
    }
   },
   "outputs": [],
   "source": [
    "gte4 = e >= 4\n",
    "print(gte4)"
   ]
  },
  {
   "cell_type": "code",
   "execution_count": null,
   "metadata": {
    "slideshow": {
     "slide_type": "fragment"
    }
   },
   "outputs": [],
   "source": [
    "lt2_or_gte4 = lt2 | gte4\n",
    "print(lt2_or_gte4)"
   ]
  },
  {
   "cell_type": "code",
   "execution_count": null,
   "metadata": {},
   "outputs": [],
   "source": [
    "### this will cause an error, unlike with individual boolean variables\n",
    "# lt2_or_gte4 = lt2 or gte4"
   ]
  },
  {
   "cell_type": "code",
   "execution_count": null,
   "metadata": {
    "slideshow": {
     "slide_type": "fragment"
    }
   },
   "outputs": [],
   "source": [
    "g = e[lt2_or_gte4]\n",
    "print(g)\n",
    "print(g.shape)"
   ]
  },
  {
   "cell_type": "markdown",
   "metadata": {
    "slideshow": {
     "slide_type": "slide"
    }
   },
   "source": [
    "### In class exercise\n",
    "Let's pretend you are an air quality specialist who is investigating the [effects of wildfire smoke on PM10 pollution](https://www.climacell.co/blog/pm10-how-wildfires-actually-affect-air-quality/). Assume there is a large wildfire burning in the Bozeman, MT, area (45.677, -111.043), and you have a map of PM10 over the larger region spanning from 40 to 48 degrees latitude and -120 to -102 degrees longitude, at a grid resolution of 1 degrees. "
   ]
  },
  {
   "cell_type": "markdown",
   "metadata": {
    "slideshow": {
     "slide_type": "fragment"
    }
   },
   "source": [
    "We will make up fake data using an assumed quadratic trend centered around Bozeman, plus random noise. But the same analysis could be performed using ground measurements or satellite observations of PM10."
   ]
  },
  {
   "cell_type": "code",
   "execution_count": null,
   "metadata": {
    "slideshow": {
     "slide_type": "fragment"
    }
   },
   "outputs": [],
   "source": [
    "## use np.arange to create a grid of coordinates\n",
    "res = 1\n",
    "long_box = (-120, -102)\n",
    "lat_box = (40, 48)\n",
    "long_grid = np.arange(long_box[0], long_box[1] + 0.01, res)\n",
    "lat_grid = np.arange(lat_box[1], lat_box[0] - 0.01, -res)\n",
    "long_n = len(long_grid)\n",
    "lat_n = len(lat_grid)\n",
    "print(long_grid) \n",
    "print(lat_grid)"
   ]
  },
  {
   "cell_type": "code",
   "execution_count": null,
   "metadata": {
    "slideshow": {
     "slide_type": "fragment"
    }
   },
   "outputs": [],
   "source": [
    "## create list of coords, check orientations\n",
    "coords = [(long, lat) for lat in lat_grid for long in long_grid]\n",
    "print(coords)"
   ]
  },
  {
   "cell_type": "code",
   "execution_count": null,
   "metadata": {
    "slideshow": {
     "slide_type": "fragment"
    }
   },
   "outputs": [],
   "source": [
    "## assume a quadratic spatial trend for pm10\n",
    "long_bozeman = -111.043\n",
    "lat_bozeman = 45.677\n",
    "def quadratic_trend(long, lat):\n",
    "    return -1.3*((long - long_bozeman) **2 + (lat - lat_bozeman) **2) + 160"
   ]
  },
  {
   "cell_type": "code",
   "execution_count": null,
   "metadata": {
    "slideshow": {
     "slide_type": "fragment"
    }
   },
   "outputs": [],
   "source": [
    "pm10 = np.array([quadratic_trend(longlat[0], longlat[1]) for longlat in coords])\n",
    "print(pm10)\n",
    "print(pm10.shape)"
   ]
  },
  {
   "cell_type": "code",
   "execution_count": null,
   "metadata": {
    "slideshow": {
     "slide_type": "fragment"
    }
   },
   "outputs": [],
   "source": [
    "## reshape pm10 observations to match the lat/long shape\n",
    "pm10 = pm10.reshape([lat_n, long_n])\n",
    "print(pm10)\n",
    "\n",
    "print(pm10.shape)"
   ]
  },
  {
   "cell_type": "code",
   "execution_count": null,
   "metadata": {
    "slideshow": {
     "slide_type": "fragment"
    }
   },
   "outputs": [],
   "source": [
    "## plot values on a grid. Don't worry too much about how this works yet - we will learn about plotting in a couple of weeks.\n",
    "import matplotlib.pyplot as plt\n",
    "\n",
    "def plot_grid(data, long_grid, lat_grid, label):\n",
    "    fig, ax = plt.subplots(1,1, figsize=(14,8))\n",
    "    plt.imshow(data)\n",
    "    plt.colorbar(label = label)\n",
    "    plt.xlabel('Longitude')\n",
    "    plt.ylabel('Latitude')\n",
    "    ax.set_xticks(list(range(0, len(long_grid), 3)))\n",
    "    ax.set_yticks(list(range(0, len(lat_grid), 2)))\n",
    "    ax.set_xticklabels(long_grid[::3])\n",
    "    ax.set_yticklabels(lat_grid[::2])\n",
    "    \n",
    "    \n",
    "plot_grid(pm10, long_grid, lat_grid, 'PM10 (ug/m3)')"
   ]
  },
  {
   "cell_type": "code",
   "execution_count": null,
   "metadata": {},
   "outputs": [],
   "source": [
    "### Now use np.random.normal() to add random noise to the data, with mean and standard distribution of 0 and 5 ug/m3\n",
    "noise = np.random.normal(0,5,(lat_n, long_n))\n",
    "pm10_noisy = pm10 + noise\n",
    "\n",
    "plot_grid(pm10_noisy, long_grid, lat_grid, 'PM10 (ug/m3)')"
   ]
  },
  {
   "cell_type": "markdown",
   "metadata": {
    "slideshow": {
     "slide_type": "fragment"
    }
   },
   "source": [
    "We will now assume that this \"synthetic\" dataset is our real data set and use it for analysis. The US EPS's national 24-hour daily standard for PM10 is 150 ug/m3 (for the max 24-hour concentration in one year, averaged over three years. But we will just treat it as a one-day standard for simplicity.)\n",
    "\n",
    "Use NumPy's built-in functions to answer the following questions:\n",
    "1. What are the mean and std of PM10 across this region today?"
   ]
  },
  {
   "cell_type": "markdown",
   "metadata": {
    "slideshow": {
     "slide_type": "fragment"
    }
   },
   "source": [
    "2. Find the mean PM10 for each longitude and latitude."
   ]
  },
  {
   "cell_type": "markdown",
   "metadata": {},
   "source": [
    "3. Which longitude has the highest mean PM10? Which latitude has the lowest PM10?"
   ]
  },
  {
   "cell_type": "markdown",
   "metadata": {
    "slideshow": {
     "slide_type": "fragment"
    }
   },
   "source": [
    "3. What fraction of grid points exceed the EPA daily standard?"
   ]
  },
  {
   "cell_type": "markdown",
   "metadata": {
    "slideshow": {
     "slide_type": "fragment"
    }
   },
   "source": [
    "4. Use logical indexing to create an array with 1's at locations violating the standard, and 0's at locations not violating the standard. Plot using ``plot_grid``."
   ]
  },
  {
   "cell_type": "markdown",
   "metadata": {
    "slideshow": {
     "slide_type": "fragment"
    }
   },
   "source": [
    "5. Assume the following  logistic function (*completely made up, not a real relationship*) for excess cardiovascular deaths per 1,000 people in the region, based on the daily PM10 concentration. \n",
    "\n",
    "$$deaths = \\frac{15}{1 + \\exp(-(PM10 - 80) / 35)}$$\n",
    "\n",
    "Create a function that uses NumPy to calculate the excess cardio deaths for a grid of pm10 observations, then calculate and plot the grid of excess deaths."
   ]
  }
 ],
 "metadata": {
  "celltoolbar": "Slideshow",
  "kernelspec": {
   "display_name": "Python 3",
   "language": "python",
   "name": "python3"
  },
  "language_info": {
   "codemirror_mode": {
    "name": "ipython",
    "version": 3
   },
   "file_extension": ".py",
   "mimetype": "text/x-python",
   "name": "python",
   "nbconvert_exporter": "python",
   "pygments_lexer": "ipython3",
   "version": "3.6.10"
  }
 },
 "nbformat": 4,
 "nbformat_minor": 4
}
