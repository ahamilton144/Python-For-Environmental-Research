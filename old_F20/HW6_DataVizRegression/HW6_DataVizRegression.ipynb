{
 "cells": [
  {
   "cell_type": "markdown",
   "metadata": {},
   "source": [
    "# Homework 6: Finding, visualizing, and regressing data\n",
    "ENVR 890-001: Python for Environmental Research, Fall 2020\n",
    "\n",
    "By Andrew Hamilton. \n",
    "\n",
    "**Due October 23 before class**\n",
    "\n",
    "This assignment is open ended. I'd like you to do the following:\n",
    "1. Find an interesting dataset related to the environmental science, engineering, and/or public health. A number of important online data sources are listed in Lecture 7 (and I'm sure I missed some others). Alternatively, you can use a dataset that you have from your own research.\n",
    "1. Read that dataset into Python, and clean it if necessary (e.g., NAN's or weird anomalous values)\n",
    "1. Perform any interesting analysis or groupings if you want to (e.g., annual or monthly groupings). Not necessary if this isn't helpful for your data.\n",
    "1. Create at least two different visualizations (e.g., line plots, scatter plots, histograms, box plots, etc.)\n",
    "1. Perform at least two regressions using your data. These don't necessarily need to be valid and/or interesting statistically, I just want to see that you know how to do it. But of course interesting is better!\n",
    "\n",
    "Send me your results in a well-documented Jupyter notebook describing what you did."
   ]
  }
 ],
 "metadata": {
  "kernelspec": {
   "display_name": "Python 3",
   "language": "python",
   "name": "python3"
  },
  "language_info": {
   "codemirror_mode": {
    "name": "ipython",
    "version": 3
   },
   "file_extension": ".py",
   "mimetype": "text/x-python",
   "name": "python",
   "nbconvert_exporter": "python",
   "pygments_lexer": "ipython3",
   "version": "3.7.6"
  }
 },
 "nbformat": 4,
 "nbformat_minor": 4
}
