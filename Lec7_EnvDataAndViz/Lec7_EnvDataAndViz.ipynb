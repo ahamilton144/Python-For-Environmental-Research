{
 "cells": [
  {
   "cell_type": "markdown",
   "metadata": {
    "slideshow": {
     "slide_type": "slide"
    }
   },
   "source": [
    "# Lecture 7: Finding, Using, and Visualizing FAIR Data \n",
    "ENVR 890-010: Python for Environmental Research, Fall 2020\n",
    "\n",
    "October 8, 2021\n",
    "\n",
    "By Andrew Hamilton, edited by Rosa Cuppari. Some material adapted from Matthew Huber & Ashley Dicks (Purdue University).\n",
    "\n",
    "Acknowledgement to Drs. Venkatesh Merwade, Matthew Huber, Carol Song, and Lan Zhao at Purdue University, and the FACT Cyber Training Fellowship (funded under NSF Award #1829764), for training Andrew in FAIR data and science best practices. "
   ]
  },
  {
   "cell_type": "markdown",
   "metadata": {
    "slideshow": {
     "slide_type": "fragment"
    }
   },
   "source": [
    "### Summary\n",
    "The use and production of data is fundamental to all research, including environmental science, engineering, and health. Data are stored in a wide variety of formats and locations, from curated online databases to individual spreadsheets to pdf tables. In this lesson, we will learn how to download data from a number of online repositories in order to use in our research. We will also learn about FAIR data standards and best practices for making your own data available to other researchers.\n",
    "\n",
    "We will then begin learning about how to visualize this data in order to communicate insights and results from data analysis."
   ]
  },
  {
   "cell_type": "markdown",
   "metadata": {
    "slideshow": {
     "slide_type": "slide"
    }
   },
   "source": [
    "### Major public environmental data sources\n",
    "1. [USGS National Water Information System](https://waterdata.usgs.gov/nwis)\n",
    "    - Stream flow, water quality, water use, etc.\n",
    "    - Usually easier to search for specific location (e.g., [Bolin Creek](https://waterdata.usgs.gov/nwis/uv?site_no=0209734440))\n",
    "1. [Natural Resources Conservation Service (NRCS)](https://www.wcc.nrcs.usda.gov/snow/)\n",
    "    - Snow depth, water supply forecasts, etc.\n",
    "1. [NOAA National Centers for Environmental Information](https://www.ncdc.noaa.gov/data-access)\n",
    "    - Historical weather data, severe weather database, etc.\n",
    "1. [EPA Air Data](https://www.epa.gov/outdoor-air-quality-data)\n",
    "    - Current & historical air quality data\n",
    "    - Automated plot generation & data downloads\n",
    "1. [EPA Dataset Giveaway](https://edg.epa.gov/metadata/catalog/main/home.page)\n",
    "    - Many different datasets on climate change, locations of Superfund sites, environmental justice, etc.\n",
    "1. [CDC National Center for Environmental Health](https://www.cdc.gov/nceh/data.htm)\n",
    "    - Many datasets about asthma, lead poisoning, nutrition, etc.\n",
    "1. [Organization for Co-operation and Economic Development (OECD) Data](https://data.oecd.org/)\n",
    "    - Country-scale data on environment (air pollution, water withdrawals, CO2 emissions, etc.)\n",
    "    - Energy, healthcare, development, etc.\n",
    "1. [The National Map (USGS)](https://viewer.nationalmap.gov/basic/)\n",
    "    - National Hydrography Dataset\n",
    "    - Digital Elevation Maps\n",
    "    - Place names, transportation networks\n",
    "1. [Multi-Resolution Land Characteristics Consortium (MRLC)](https://www.mrlc.gov/data?f%5B0%5D=category%3Aland%20cover)\n",
    "    - Land use/land cover datasets\n",
    "1. [National Center for Atmospheric Research (NCAR) Research Data Archive](https://rda.ucar.edu/)\n",
    "    - Tons of gridded oceanic & atmospheric datasets & reanalyses"
   ]
  },
  {
   "cell_type": "markdown",
   "metadata": {
    "slideshow": {
     "slide_type": "slide"
    }
   },
   "source": [
    "### 4 ways to upload data into Python\n",
    "1. Download csv/xlsx, and use ``pd.read_csv()``, ``pd.read_excel()``\n",
    "\n",
    "1. Copy online table into Excel, then follow #1\n",
    "    - e.g., USGS \"Tab-separated\" output format\n",
    "    \n",
    "1. Using special Python APIs\n",
    "    - [EPA Envirofacts Data Service API](https://www.epa.gov/enviro/web-services)\n",
    "    - These APIs can be pretty tricky to use, and each one will be different. They often require special python packages and/or an account with the provider. But if you need to download a lot of different datasets, or get updated data regularly, it may be worthwhile to figure out.\n",
    "    - [Here](https://techrando.com/2019/07/04/how-to-use-the-environmental-protection-agencys-epas-api-to-pull-data/) is an example of how to use with EPA Envirofacts, but I haven't actually used it.\n",
    "    - [Here](http://kapadia.github.io/usgs/) is a package for interfacing with the USGS API, but I haven't used this either.\n",
    "    \n",
    "1. Query online table directly using url (often the most convenient)"
   ]
  },
  {
   "cell_type": "markdown",
   "metadata": {},
   "source": [
    "We will use USGS streamflow data from Bolin Creek in Chapel Hill, NC. If you click on the Bolin Creek link above on the USGS website, you will find information about how to download data from this location. One of the options for any query is to get data in csv format, which will open a new browser window with a table of data. For example, [here](https://nwis.waterdata.usgs.gov/nwis/uv?cb_00060=on&cb_00065=on&format=rdb&site_no=0209734440&period=&begin_date=2019-10-02&end_date=2020-10-09). Pandas allows us to access this webpage and access the data directly, rather than having to first save a csv file to our computer:"
   ]
  },
  {
   "cell_type": "code",
   "execution_count": 6,
   "metadata": {
    "slideshow": {
     "slide_type": "slide"
    }
   },
   "outputs": [],
   "source": [
    "import pandas as pd\n",
    "import numpy as np"
   ]
  },
  {
   "cell_type": "code",
   "execution_count": 9,
   "metadata": {
    "slideshow": {
     "slide_type": "fragment"
    }
   },
   "outputs": [],
   "source": [
    "### Use USGS Bolin Creek website to get tab-separated data. Fill in address, header, and delimiter\n",
    "data_address = 'https://nwis.waterdata.usgs.gov/nwis/uv?cb_00060=on&cb_00065=on&format=rdb&site_no=0209734440&period=&begin_date=2019-10-02&end_date=2020-10-09'\n",
    "header = 30\n",
    "delimiter = '\\t'\n",
    "df = pd.read_csv(data_address, header=header, delimiter=delimiter)"
   ]
  },
  {
   "cell_type": "code",
   "execution_count": 8,
   "metadata": {},
   "outputs": [
    {
     "data": {
      "text/html": [
       "<div>\n",
       "<style scoped>\n",
       "    .dataframe tbody tr th:only-of-type {\n",
       "        vertical-align: middle;\n",
       "    }\n",
       "\n",
       "    .dataframe tbody tr th {\n",
       "        vertical-align: top;\n",
       "    }\n",
       "\n",
       "    .dataframe thead th {\n",
       "        text-align: right;\n",
       "    }\n",
       "</style>\n",
       "<table border=\"1\" class=\"dataframe\">\n",
       "  <thead>\n",
       "    <tr style=\"text-align: right;\">\n",
       "      <th></th>\n",
       "      <th>agency_cd</th>\n",
       "      <th>site_no</th>\n",
       "      <th>datetime</th>\n",
       "      <th>tz_cd</th>\n",
       "      <th>89527_00065</th>\n",
       "      <th>89527_00065_cd</th>\n",
       "      <th>89528_00060</th>\n",
       "      <th>89528_00060_cd</th>\n",
       "    </tr>\n",
       "  </thead>\n",
       "  <tbody>\n",
       "    <tr>\n",
       "      <th>1</th>\n",
       "      <td>USGS</td>\n",
       "      <td>0209734440</td>\n",
       "      <td>2015-10-02 00:00</td>\n",
       "      <td>EDT</td>\n",
       "      <td>2.10</td>\n",
       "      <td>A</td>\n",
       "      <td>4.18</td>\n",
       "      <td>A</td>\n",
       "    </tr>\n",
       "    <tr>\n",
       "      <th>2</th>\n",
       "      <td>USGS</td>\n",
       "      <td>0209734440</td>\n",
       "      <td>2015-10-02 00:15</td>\n",
       "      <td>EDT</td>\n",
       "      <td>2.10</td>\n",
       "      <td>A</td>\n",
       "      <td>4.18</td>\n",
       "      <td>A</td>\n",
       "    </tr>\n",
       "    <tr>\n",
       "      <th>3</th>\n",
       "      <td>USGS</td>\n",
       "      <td>0209734440</td>\n",
       "      <td>2015-10-02 00:30</td>\n",
       "      <td>EDT</td>\n",
       "      <td>2.11</td>\n",
       "      <td>A</td>\n",
       "      <td>4.36</td>\n",
       "      <td>A</td>\n",
       "    </tr>\n",
       "    <tr>\n",
       "      <th>4</th>\n",
       "      <td>USGS</td>\n",
       "      <td>0209734440</td>\n",
       "      <td>2015-10-02 00:45</td>\n",
       "      <td>EDT</td>\n",
       "      <td>2.11</td>\n",
       "      <td>A</td>\n",
       "      <td>4.36</td>\n",
       "      <td>A</td>\n",
       "    </tr>\n",
       "    <tr>\n",
       "      <th>5</th>\n",
       "      <td>USGS</td>\n",
       "      <td>0209734440</td>\n",
       "      <td>2015-10-02 01:00</td>\n",
       "      <td>EDT</td>\n",
       "      <td>2.11</td>\n",
       "      <td>A</td>\n",
       "      <td>4.36</td>\n",
       "      <td>A</td>\n",
       "    </tr>\n",
       "    <tr>\n",
       "      <th>...</th>\n",
       "      <td>...</td>\n",
       "      <td>...</td>\n",
       "      <td>...</td>\n",
       "      <td>...</td>\n",
       "      <td>...</td>\n",
       "      <td>...</td>\n",
       "      <td>...</td>\n",
       "      <td>...</td>\n",
       "    </tr>\n",
       "    <tr>\n",
       "      <th>174810</th>\n",
       "      <td>USGS</td>\n",
       "      <td>209734440</td>\n",
       "      <td>2020-10-09 22:45</td>\n",
       "      <td>EDT</td>\n",
       "      <td>1.62</td>\n",
       "      <td>A</td>\n",
       "      <td>1.19</td>\n",
       "      <td>A</td>\n",
       "    </tr>\n",
       "    <tr>\n",
       "      <th>174811</th>\n",
       "      <td>USGS</td>\n",
       "      <td>209734440</td>\n",
       "      <td>2020-10-09 23:00</td>\n",
       "      <td>EDT</td>\n",
       "      <td>1.61</td>\n",
       "      <td>A</td>\n",
       "      <td>1.1</td>\n",
       "      <td>A</td>\n",
       "    </tr>\n",
       "    <tr>\n",
       "      <th>174812</th>\n",
       "      <td>USGS</td>\n",
       "      <td>209734440</td>\n",
       "      <td>2020-10-09 23:15</td>\n",
       "      <td>EDT</td>\n",
       "      <td>1.61</td>\n",
       "      <td>A</td>\n",
       "      <td>1.1</td>\n",
       "      <td>A</td>\n",
       "    </tr>\n",
       "    <tr>\n",
       "      <th>174813</th>\n",
       "      <td>USGS</td>\n",
       "      <td>209734440</td>\n",
       "      <td>2020-10-09 23:30</td>\n",
       "      <td>EDT</td>\n",
       "      <td>1.61</td>\n",
       "      <td>A</td>\n",
       "      <td>1.1</td>\n",
       "      <td>A</td>\n",
       "    </tr>\n",
       "    <tr>\n",
       "      <th>174814</th>\n",
       "      <td>USGS</td>\n",
       "      <td>209734440</td>\n",
       "      <td>2020-10-09 23:45</td>\n",
       "      <td>EDT</td>\n",
       "      <td>1.61</td>\n",
       "      <td>A</td>\n",
       "      <td>1.1</td>\n",
       "      <td>A</td>\n",
       "    </tr>\n",
       "  </tbody>\n",
       "</table>\n",
       "<p>174814 rows × 8 columns</p>\n",
       "</div>"
      ],
      "text/plain": [
       "       agency_cd     site_no          datetime tz_cd 89527_00065  \\\n",
       "1           USGS  0209734440  2015-10-02 00:00   EDT        2.10   \n",
       "2           USGS  0209734440  2015-10-02 00:15   EDT        2.10   \n",
       "3           USGS  0209734440  2015-10-02 00:30   EDT        2.11   \n",
       "4           USGS  0209734440  2015-10-02 00:45   EDT        2.11   \n",
       "5           USGS  0209734440  2015-10-02 01:00   EDT        2.11   \n",
       "...          ...         ...               ...   ...         ...   \n",
       "174810      USGS   209734440  2020-10-09 22:45   EDT        1.62   \n",
       "174811      USGS   209734440  2020-10-09 23:00   EDT        1.61   \n",
       "174812      USGS   209734440  2020-10-09 23:15   EDT        1.61   \n",
       "174813      USGS   209734440  2020-10-09 23:30   EDT        1.61   \n",
       "174814      USGS   209734440  2020-10-09 23:45   EDT        1.61   \n",
       "\n",
       "       89527_00065_cd 89528_00060 89528_00060_cd  \n",
       "1                   A        4.18              A  \n",
       "2                   A        4.18              A  \n",
       "3                   A        4.36              A  \n",
       "4                   A        4.36              A  \n",
       "5                   A        4.36              A  \n",
       "...               ...         ...            ...  \n",
       "174810              A        1.19              A  \n",
       "174811              A         1.1              A  \n",
       "174812              A         1.1              A  \n",
       "174813              A         1.1              A  \n",
       "174814              A         1.1              A  \n",
       "\n",
       "[174814 rows x 8 columns]"
      ]
     },
     "execution_count": 8,
     "metadata": {},
     "output_type": "execute_result"
    }
   ],
   "source": [
    "df = df.iloc[1:, :]\n",
    "df"
   ]
  },
  {
   "cell_type": "markdown",
   "metadata": {
    "slideshow": {
     "slide_type": "fragment"
    }
   },
   "source": [
    "Once you have an example url, you can often figure out how to automatically get data for new dates or locations. For example, how would you change the query to download data from January 1, 2015, to the present?"
   ]
  },
  {
   "cell_type": "code",
   "execution_count": 4,
   "metadata": {
    "slideshow": {
     "slide_type": "fragment"
    }
   },
   "outputs": [],
   "source": [
    "## To save the data for later, use pandas to_csv()\n",
    "df.to_csv('bolin_creek.csv', sep=',', index=False)"
   ]
  },
  {
   "cell_type": "markdown",
   "metadata": {
    "slideshow": {
     "slide_type": "slide"
    }
   },
   "source": [
    "### FAIR research\n",
    "<img src=\"stall_fair.PNG\" style=\"width: 400px;\" />(Image cred: Stall, 2018)"
   ]
  },
  {
   "cell_type": "markdown",
   "metadata": {
    "slideshow": {
     "slide_type": "slide"
    }
   },
   "source": [
    "**FAIR** data is:\n",
    "- **F**indable: The datasets and resources should be easily located by humans and computers\n",
    "- **A**ccessible: After the dataset is found, the user needs to be able to easily access the datasets\n",
    "- **I**nteroperable: The datasets need to be in a format that is usable by others, therefore needs to satisfy the following \n",
    "- **R**eusable: The datasets need to be able to be used by various people, therefore must have clear metadata"
   ]
  },
  {
   "cell_type": "markdown",
   "metadata": {
    "slideshow": {
     "slide_type": "slide"
    }
   },
   "source": [
    "<img src=\"wilkinson2016_box2.PNG\" style=\"width: 800px;\" />(Image cred: Wilkinson et al., 2016)"
   ]
  },
  {
   "cell_type": "markdown",
   "metadata": {
    "slideshow": {
     "slide_type": "slide"
    }
   },
   "source": [
    "<img src=\"huber_fair.PNG\" style=\"width: 600px;\" />(Image cred: Matthew Huber et al., [*MyGeoHub*](https://mygeohub.org/cybertraining))"
   ]
  },
  {
   "cell_type": "markdown",
   "metadata": {
    "slideshow": {
     "slide_type": "slide"
    }
   },
   "source": [
    "<img src=\"stall_dataChallenges.PNG\" style=\"width: 800px;\" />(Image cred: Stall, 2018)"
   ]
  },
  {
   "cell_type": "markdown",
   "metadata": {
    "slideshow": {
     "slide_type": "slide"
    }
   },
   "source": [
    "<img src=\"rosenberg2020_fig1.PNG\" style=\"width: 600px;\" />(Image cred: Rosenberg et al., 2020)"
   ]
  },
  {
   "cell_type": "markdown",
   "metadata": {
    "slideshow": {
     "slide_type": "slide"
    }
   },
   "source": [
    "<img src=\"hutton2016_fig1.PNG\" style=\"width: 800px;\" />(Image cred: Hutton et al., 2016)"
   ]
  },
  {
   "cell_type": "markdown",
   "metadata": {
    "slideshow": {
     "slide_type": "slide"
    }
   },
   "source": [
    "<img src=\"stall_dataEcosystem.PNG\" style=\"width: 600px;\" />(Image cred: Stall, 2018)"
   ]
  },
  {
   "cell_type": "markdown",
   "metadata": {
    "slideshow": {
     "slide_type": "slide"
    }
   },
   "source": [
    "### One way to use our data: visualization\n",
    "\n",
    "No matter what type of research you do (lab experiments, public surveys, computer modeling, etc.), data visualization is a crucial skill. Programming languages like Python give us a high degree of flexibility and allow us to tailor our visualization to the data at hand. Today we will learn the basics of how to set up figures, and then go through many examples of different types of plots and customizations.\n",
    "\n",
    "The main plotting package for Python is ``matplotlib``, and its ``pyplot`` module, which is typically imported with the alias ``plt``. Another helpful library which we will use later in the lecture is ``seaborn``, typically imported as ``sns``"
   ]
  },
  {
   "cell_type": "code",
   "execution_count": 10,
   "metadata": {},
   "outputs": [],
   "source": [
    "import numpy as np\n",
    "import pandas as pd\n",
    "import matplotlib \n",
    "import matplotlib.pyplot as plt\n",
    "import seaborn as sns"
   ]
  },
  {
   "cell_type": "code",
   "execution_count": 11,
   "metadata": {},
   "outputs": [],
   "source": [
    "## adjust default plot font size\n",
    "matplotlib.rcParams.update({'font.size': 18})"
   ]
  },
  {
   "cell_type": "markdown",
   "metadata": {},
   "source": [
    "The most important arguments to any plotting function are the data. For our first example, let's plot two simple parabolas.\n"
   ]
  },
  {
   "cell_type": "code",
   "execution_count": 12,
   "metadata": {},
   "outputs": [
    {
     "data": {
      "text/plain": [
       "array([-10,  -9,  -8,  -7,  -6,  -5,  -4,  -3,  -2,  -1,   0,   1,   2,\n",
       "         3,   4,   5,   6,   7,   8,   9])"
      ]
     },
     "execution_count": 12,
     "metadata": {},
     "output_type": "execute_result"
    }
   ],
   "source": [
    "def parabola(a, b, c, x):\n",
    "    return a + b * x + c * x **2\n",
    "\n",
    "X = np.arange(-10, 10)\n",
    "X"
   ]
  },
  {
   "cell_type": "code",
   "execution_count": 13,
   "metadata": {},
   "outputs": [
    {
     "data": {
      "text/plain": [
       "[-25.0,\n",
       " -17.5,\n",
       " -11.0,\n",
       " -5.5,\n",
       " -1.0,\n",
       " 2.5,\n",
       " 5.0,\n",
       " 6.5,\n",
       " 7.0,\n",
       " 6.5,\n",
       " 5.0,\n",
       " 2.5,\n",
       " -1.0,\n",
       " -5.5,\n",
       " -11.0,\n",
       " -17.5,\n",
       " -25.0,\n",
       " -33.5,\n",
       " -43.0,\n",
       " -53.5]"
      ]
     },
     "execution_count": 13,
     "metadata": {},
     "output_type": "execute_result"
    }
   ],
   "source": [
    "Y1 = [parabola(-2, 0, 1, x) for x in X]\n",
    "Y2 = [parabola(5, -2, -0.5, x) for x in X]\n",
    "Y2"
   ]
  },
  {
   "cell_type": "markdown",
   "metadata": {},
   "source": [
    "Now let's plot these two y variables over the domain of x.\n"
   ]
  },
  {
   "cell_type": "code",
   "execution_count": 16,
   "metadata": {},
   "outputs": [
    {
     "data": {
      "text/plain": [
       "[<matplotlib.lines.Line2D at 0x1eaa6c543c8>]"
      ]
     },
     "execution_count": 16,
     "metadata": {},
     "output_type": "execute_result"
    },
    {
     "data": {
      "image/png": "[encoded data removed]",
      "text/plain": [
       "<Figure size 432x288 with 1 Axes>"
      ]
     },
     "metadata": {
      "needs_background": "light"
     },
     "output_type": "display_data"
    }
   ],
   "source": [
    "### plot Y1\n",
    "plt.plot(X, Y1)"
   ]
  },
  {
   "cell_type": "code",
   "execution_count": 17,
   "metadata": {},
   "outputs": [
    {
     "data": {
      "text/plain": [
       "[<matplotlib.lines.Line2D at 0x1eaa6c872e8>]"
      ]
     },
     "execution_count": 17,
     "metadata": {},
     "output_type": "execute_result"
    },
    {
     "data": {
      "image/png": "[encoded data removed]",
      "text/plain": [
       "<Figure size 720x432 with 1 Axes>"
      ]
     },
     "metadata": {
      "needs_background": "light"
     },
     "output_type": "display_data"
    }
   ],
   "source": [
    "### plot Y1 & Y2 together, and fix figure size\n",
    "fig = plt.figure(figsize = (10, 6))\n",
    "plt.plot(X, Y1)\n",
    "plt.plot(X, Y2)"
   ]
  },
  {
   "cell_type": "code",
   "execution_count": 18,
   "metadata": {},
   "outputs": [
    {
     "data": {
      "text/plain": [
       "[<matplotlib.lines.Line2D at 0x1eaa6d2b3c8>]"
      ]
     },
     "execution_count": 18,
     "metadata": {},
     "output_type": "execute_result"
    },
    {
     "data": {
      "image/png": "[encoded data removed]",
      "text/plain": [
       "<Figure size 720x432 with 1 Axes>"
      ]
     },
     "metadata": {
      "needs_background": "light"
     },
     "output_type": "display_data"
    },
    {
     "data": {
      "image/png": "[encoded data removed]",
      "text/plain": [
       "<Figure size 720x432 with 1 Axes>"
      ]
     },
     "metadata": {
      "needs_background": "light"
     },
     "output_type": "display_data"
    }
   ],
   "source": [
    "### plot Y1 & Y2 separately from 1 cell\n",
    "fig = plt.figure(figsize = (10, 6))\n",
    "plt.plot(X, Y1)\n",
    "fig = plt.figure(figsize = (10, 6))\n",
    "plt.plot(X, Y2)"
   ]
  },
  {
   "cell_type": "markdown",
   "metadata": {},
   "source": [
    "Now let's add some custom x and y labels, as well as a legend."
   ]
  },
  {
   "cell_type": "code",
   "execution_count": 19,
   "metadata": {},
   "outputs": [
    {
     "data": {
      "text/plain": [
       "<matplotlib.legend.Legend at 0x1eaa6cfb6a0>"
      ]
     },
     "execution_count": 19,
     "metadata": {},
     "output_type": "execute_result"
    },
    {
     "data": {
      "image/png": "[encoded data removed]",
      "text/plain": [
       "<Figure size 720x432 with 1 Axes>"
      ]
     },
     "metadata": {
      "needs_background": "light"
     },
     "output_type": "display_data"
    }
   ],
   "source": [
    "fig = plt.figure(figsize = (10, 6))\n",
    "plt.plot(X, Y1, label='First parabola')\n",
    "plt.plot(X, Y2, label='Second parabola')\n",
    "plt.xlabel('X-axis')\n",
    "plt.ylabel('Y-axis')\n",
    "plt.legend()"
   ]
  },
  {
   "cell_type": "markdown",
   "metadata": {},
   "source": [
    "We can also customize the line's color, style, thickness, transparency, etc., and change the legend location. Many more colors here, and other options for plot here."
   ]
  },
  {
   "cell_type": "code",
   "execution_count": 20,
   "metadata": {},
   "outputs": [
    {
     "data": {
      "text/plain": [
       "<matplotlib.legend.Legend at 0x1eaa6ddc9b0>"
      ]
     },
     "execution_count": 20,
     "metadata": {},
     "output_type": "execute_result"
    },
    {
     "data": {
      "image/png": "[encoded data removed]",
      "text/plain": [
       "<Figure size 720x432 with 1 Axes>"
      ]
     },
     "metadata": {
      "needs_background": "light"
     },
     "output_type": "display_data"
    }
   ],
   "source": [
    "fig = plt.figure(figsize = (10, 6))\n",
    "plt.plot(X, Y1, label='First parabola', color='mediumturquoise', linestyle='--', linewidth=4, alpha=0.9)\n",
    "plt.plot(X, Y2, label='Second parabola', color='mediumslateblue', marker='d', alpha=0.4)\n",
    "plt.xlabel('X-axis')\n",
    "plt.ylabel('Y-axis')\n",
    "plt.legend(loc='upper center')"
   ]
  },
  {
   "cell_type": "markdown",
   "metadata": {
    "slideshow": {
     "slide_type": "slide"
    }
   },
   "source": [
    "### In-class exercise\n",
    "Let's create some fake data to represent annual snowfall in two locations, one colder and one warmer.\n",
    "1. Create an x variable that includes the integers from 1920 to 2020.\n",
    "1. Create one y variable that is random draws from an [exponential distribution](https://numpy.org/doc/stable/reference/random/generated/numpy.random.exponential.html) with a scale parameter of 10, with the same length as x. (this is the colder climate)\n",
    "1. Create a second y variable that is random draws from a [lognormal distribution](https://numpy.org/doc/stable/reference/random/generated/numpy.random.lognormal.html) with a mean of 0.5 and a standard deviation of 1, with the same length as x. (this is the warmer climate)\n",
    "1. Plot both time series. Label the x axis \"Year\" and the y axis \"Annual snowfall (inches)\". Create a legend where the first series is labeled \"Colder\" and the second is labeled \"Warmer\". Color them using colder and warmer-looking colors of your choice.\n",
    "\n"
   ]
  },
  {
   "cell_type": "code",
   "execution_count": null,
   "metadata": {},
   "outputs": [],
   "source": []
  },
  {
   "cell_type": "markdown",
   "metadata": {
    "slideshow": {
     "slide_type": "slide"
    }
   },
   "source": [
    "### Importing and cleaning real data\n",
    "Let's read in some Chapel Hill weather data (from NOAA National Climate Data Center, https://www.ncdc.noaa.gov/cdo-web/datasets/GHCND/stations/GHCND:USC00311677/detail)"
   ]
  },
  {
   "cell_type": "code",
   "execution_count": null,
   "metadata": {},
   "outputs": [],
   "source": [
    "### read in data. ignore first row (\"header\") where I have written info about where data was downloaded.\n",
    "df = pd.read_csv('chapel_hill_weather.csv', header = 1)\n",
    "df"
   ]
  },
  {
   "cell_type": "code",
   "execution_count": null,
   "metadata": {},
   "outputs": [],
   "source": [
    "### Organize data\n",
    "## rename columns\n",
    "df.columns = ['station', 'name', 'date', 'precip', 'snow', 'tmax', 'tmin']\n",
    "df"
   ]
  },
  {
   "cell_type": "code",
   "execution_count": null,
   "metadata": {},
   "outputs": [],
   "source": [
    "## convert date column to datetime type\n",
    "df.date = pd.to_datetime(df['date'])\n",
    "df"
   ]
  },
  {
   "cell_type": "code",
   "execution_count": null,
   "metadata": {},
   "outputs": [],
   "source": [
    "# index by date\n",
    "df.index = df['date']\n",
    "# remove unnecessary columns\n",
    "df = df.loc[:, ['precip', 'snow', 'tmax', 'tmin']]\n",
    "df"
   ]
  },
  {
   "cell_type": "code",
   "execution_count": null,
   "metadata": {},
   "outputs": [],
   "source": [
    "## Get year, month, day for each\n",
    "df['year'] = df.index.year\n",
    "df['month'] = df.index.month\n",
    "df['day'] = df.index.day\n",
    "df"
   ]
  },
  {
   "cell_type": "code",
   "execution_count": null,
   "metadata": {},
   "outputs": [],
   "source": [
    "## Only keep data since 1970\n",
    "df = df.loc[df['year'] >= 1970, :]\n",
    "df"
   ]
  },
  {
   "cell_type": "code",
   "execution_count": null,
   "metadata": {},
   "outputs": [],
   "source": [
    "### Clean data\n",
    "# remove NANs by assuming previous value (note, this is not the most sophisticated way to fill data)\n",
    "nrows = df.shape[0]\n",
    "ncols = df.shape[1]\n",
    "np.isnan(df)"
   ]
  },
  {
   "cell_type": "code",
   "execution_count": null,
   "metadata": {},
   "outputs": [],
   "source": [
    "print(\"Fraction of nan's before:\")\n",
    "print(np.isnan(df).sum(axis=0) / nrows)\n",
    "print()"
   ]
  },
  {
   "cell_type": "code",
   "execution_count": null,
   "metadata": {},
   "outputs": [],
   "source": [
    "### replace nan's with previous value in time\n",
    "for i in range(nrows):\n",
    "    for j in range(ncols):\n",
    "        if np.isnan(df.iloc[i, j]):\n",
    "            df.iloc[i, j] = df.iloc[i - 1, j]\n",
    "            \n",
    "print(\"Fraction of nan's after:\")\n",
    "print(np.isnan(df).sum(axis=0) / nrows)"
   ]
  },
  {
   "cell_type": "code",
   "execution_count": null,
   "metadata": {},
   "outputs": [],
   "source": [
    "### Plot data as time series\n",
    "plt.plot(df.precip)"
   ]
  },
  {
   "cell_type": "code",
   "execution_count": null,
   "metadata": {},
   "outputs": [],
   "source": [
    "plt.plot(df.snow)"
   ]
  },
  {
   "cell_type": "code",
   "execution_count": null,
   "metadata": {},
   "outputs": [],
   "source": [
    "plt.plot(df.tmax)"
   ]
  },
  {
   "cell_type": "code",
   "execution_count": null,
   "metadata": {},
   "outputs": [],
   "source": [
    "plt.plot(df.tmin)"
   ]
  },
  {
   "cell_type": "code",
   "execution_count": null,
   "metadata": {},
   "outputs": [],
   "source": [
    "## Looks like a bad data value - tmin probably wasn't >120 in January\n",
    "df.loc[df.tmin > 100, :]"
   ]
  },
  {
   "cell_type": "code",
   "execution_count": null,
   "metadata": {},
   "outputs": [],
   "source": [
    "## Let's look at that data in context of neighbors\n",
    "i = np.argmax(df.tmin)\n",
    "print(i)\n",
    "df.iloc[(i - 2):(i + 3), :]"
   ]
  },
  {
   "cell_type": "code",
   "execution_count": null,
   "metadata": {},
   "outputs": [],
   "source": [
    "## Let's reset that value based on previous value (note: you could also do average, or leave blank)\n",
    "df.iloc[i, 3] = df.iloc[i - 1, 3]\n",
    "df.iloc[(i - 2):(i + 3), :]\n",
    "### Note: this particular warning about \"setting a value based on a copy of a slice\" occurs a lot, personally I ignore it"
   ]
  },
  {
   "cell_type": "code",
   "execution_count": null,
   "metadata": {},
   "outputs": [],
   "source": [
    "plt.plot(df.tmin)"
   ]
  },
  {
   "cell_type": "markdown",
   "metadata": {},
   "source": [
    "### Many ways to visualize"
   ]
  },
  {
   "cell_type": "code",
   "execution_count": null,
   "metadata": {},
   "outputs": [],
   "source": [
    "## Function for plotting time series over period\n",
    "def plot_weather(df, colname, ylabel, startyear=df.year.min(), endyear=df.year.max()):\n",
    "    data = df.loc[(df['year'] >= startyear) & (df['year'] <= endyear), colname]\n",
    "    fig = plt.figure(figsize = (12,8))\n",
    "    plt.plot(data)\n",
    "    plt.xlabel('Year')\n",
    "    plt.ylabel(ylabel)"
   ]
  },
  {
   "cell_type": "code",
   "execution_count": null,
   "metadata": {},
   "outputs": [],
   "source": [
    "plot_weather(df, 'precip', 'Precip (mm)')"
   ]
  },
  {
   "cell_type": "code",
   "execution_count": null,
   "metadata": {},
   "outputs": [],
   "source": [
    "plot_weather(df, 'precip', 'Precip (mm)', 1998, 2002)"
   ]
  },
  {
   "cell_type": "code",
   "execution_count": null,
   "metadata": {},
   "outputs": [],
   "source": [
    "plot_weather(df, 'snow', 'Snow (mm)', 1998, 2002)"
   ]
  },
  {
   "cell_type": "code",
   "execution_count": null,
   "metadata": {},
   "outputs": [],
   "source": [
    "## Function for plotting multiple time series over period\n",
    "def plot_weather_multi(df, colnames, ylabel, startyear=df.year.min(), endyear=df.year.max()):\n",
    "    data = df.loc[(df['year'] >= startyear) & (df['year'] <= endyear)]\n",
    "    fig = plt.figure(figsize = (12,8))\n",
    "    for colname in colnames:\n",
    "        plt.plot(data[colname], label=colname)\n",
    "    plt.xlabel('Year')\n",
    "    plt.ylabel(ylabel)\n",
    "    plt.legend()"
   ]
  },
  {
   "cell_type": "code",
   "execution_count": null,
   "metadata": {},
   "outputs": [],
   "source": [
    "plot_weather_multi(df, ['tmin', 'tmax'], 'Temperature (F)', 1998, 2002)"
   ]
  },
  {
   "cell_type": "code",
   "execution_count": null,
   "metadata": {},
   "outputs": [],
   "source": [
    "## How do min and max temperatures compare? Scatterplot.\n",
    "fig = plt.figure(figsize = (12,8))\n",
    "plt.scatter(df['tmin'], df['tmax'])\n",
    "plt.xlabel('tmin')\n",
    "plt.ylabel('tmax')"
   ]
  },
  {
   "cell_type": "code",
   "execution_count": null,
   "metadata": {},
   "outputs": [],
   "source": [
    "## customizing with color and transparency\n",
    "fig = plt.figure(figsize = (12,8))\n",
    "plt.scatter(df['tmin'], df['tmax'], color='k', alpha=0.1)\n",
    "plt.xlabel('tmin')\n",
    "plt.ylabel('tmax')"
   ]
  },
  {
   "cell_type": "code",
   "execution_count": null,
   "metadata": {},
   "outputs": [],
   "source": [
    "## what about scattering by month?\n",
    "markers = ['o', '<', '^', '>', '<', 's', 'p', 'P', '*', 'h', 'X', 'D']\n",
    "colors = ['navy', 'mediumslateblue', 'turquoise', 'springgreen', 'forestgreen', 'greenyellow', 'yellow', 'gold', 'orange', 'orangered', 'firebrick', 'mediumvioletred']\n",
    "months = ['Jan', 'Feb', 'Mar', 'Apr', 'May', 'Jun', 'Jul', 'Aug', 'Sep', 'Oct', 'Nov', 'Dec']\n",
    "\n",
    "fig = plt.figure(figsize = (12,8))\n",
    "for i in range(12):\n",
    "    data = df.loc[df['month'] == (i+1), :]\n",
    "    plt.scatter(data['tmin'], data['tmax'], color=colors[i], marker=markers[i], alpha=0.3, label=months[i])\n",
    "plt.xlabel('tmin')\n",
    "plt.ylabel('tmax')\n",
    "plt.legend()"
   ]
  },
  {
   "cell_type": "code",
   "execution_count": null,
   "metadata": {},
   "outputs": [],
   "source": [
    "## histogram of tmin vs tmax\n",
    "fig = plt.figure(figsize = (12,8))\n",
    "plt.hist(df['tmin'], color='b', alpha=0.5, label='tmin')\n",
    "plt.hist(df['tmax'], color='r', alpha=0.5, label='tmax')\n",
    "plt.xlabel('Temperature (F)')\n",
    "plt.ylabel('Count')\n",
    "plt.legend()"
   ]
  },
  {
   "cell_type": "code",
   "execution_count": null,
   "metadata": {},
   "outputs": [],
   "source": [
    "## histogram of tmax by season. Use \"density\" to make sure all have equal area.\n",
    "seasons = ['winter', 'spring', 'summer', 'fall']\n",
    "season_months =  {'winter': [0, 1, 11],\n",
    "           'spring': [2, 3, 4],\n",
    "           'summer': [5, 6, 7],\n",
    "           'fall': [8, 9, 10]}\n",
    "colors = {'winter': 'navy', \n",
    "          'spring': 'springgreen',\n",
    "          'summer': 'gold',\n",
    "          'fall': 'firebrick'}\n",
    "\n",
    "fig = plt.figure(figsize = (12,8))\n",
    "for k in seasons:\n",
    "    is_season = [m in season_months[k] for m in df['month']]\n",
    "    data = df.loc[is_season, :]\n",
    "    plt.hist(data['tmax'], color=colors[k], density=True, alpha=0.4, label=k)\n",
    "plt.xlabel('Max temperature (F)')\n",
    "plt.ylabel('Density')\n",
    "plt.legend()"
   ]
  },
  {
   "cell_type": "code",
   "execution_count": null,
   "metadata": {},
   "outputs": [],
   "source": [
    "##### seaborn is another plotting package with some nice clean functions. plays nice with matplotlib parameters.\n",
    "## kde plot\n",
    "fig = plt.figure(figsize = (12,8))\n",
    "for k in seasons:\n",
    "    is_season = [m in season_months[k] for m in df['month']]\n",
    "    data = df.loc[is_season, :]\n",
    "    sns.kdeplot(data['tmax'], color=colors[k], shade=True, label=k)\n",
    "plt.xlabel('Max temperature (F)')\n",
    "plt.ylabel('Density')\n",
    "plt.legend()"
   ]
  },
  {
   "cell_type": "code",
   "execution_count": null,
   "metadata": {},
   "outputs": [],
   "source": [
    "## boxplots\n",
    "sns.boxplot(x = df['month'], y = df['tmax'])\n",
    "plt.legend"
   ]
  },
  {
   "cell_type": "code",
   "execution_count": null,
   "metadata": {},
   "outputs": [],
   "source": [
    "## violin plots\n",
    "## alternatively with seaborn, can just write colnames. We can also specify tick labels.\n",
    "sns.violinplot(x = 'month', y = 'tmax', data = df, color = 'lightgrey')\n",
    "plt.xlabel('Month')\n",
    "plt.ylabel('Max temperature (F)')"
   ]
  },
  {
   "cell_type": "code",
   "execution_count": null,
   "metadata": {},
   "outputs": [],
   "source": [
    "## Grouping data using the \"groupby\" function\n",
    "df_monthly_mean = df.groupby('month').mean()\n",
    "df_monthly_mean"
   ]
  },
  {
   "cell_type": "code",
   "execution_count": null,
   "metadata": {},
   "outputs": [],
   "source": [
    "## plot by month with different line styles. Also replace x label ticks.\n",
    "plt.plot(df_monthly_mean['tmax'], ls = ':', label='tmax')\n",
    "plt.plot(df_monthly_mean['tmin'], ls = '--', label='tmin')\n",
    "plt.legend()\n",
    "ticks = plt.xticks(list(range(1, 13)), months, rotation=90)\n",
    "plt.xlabel('Month')\n",
    "plt.ylabel('Temperature (F)')"
   ]
  },
  {
   "cell_type": "code",
   "execution_count": null,
   "metadata": {},
   "outputs": [],
   "source": [
    "df_annual_sum = df.groupby('year').sum()\n",
    "df_annual_sum"
   ]
  },
  {
   "cell_type": "code",
   "execution_count": null,
   "metadata": {},
   "outputs": [],
   "source": [
    "## Regression plot (we will cover regression in more detail next week)\n",
    "sns.regplot(df_annual_sum.index, df_annual_sum['precip'], ci=90)"
   ]
  },
  {
   "cell_type": "code",
   "execution_count": null,
   "metadata": {},
   "outputs": [],
   "source": [
    "## Stacking multiple plots\n",
    "df_annual_max = df.groupby('year').max()\n",
    "df_annual_min = df.groupby('year').min()\n",
    "df_annual_selected = df_annual_max[['tmax']]\n",
    "df_annual_selected['tmin'] = df_annual_min[['tmin']]\n",
    "df_annual_selected.columns = ['tmax_max', 'tmin_min']\n",
    "df_annual_selected"
   ]
  },
  {
   "cell_type": "code",
   "execution_count": null,
   "metadata": {},
   "outputs": [],
   "source": [
    "fig, ((ax11, ax12), (ax21, ax22)) = plt.subplots(2, 2, figsize = (12, 12))\n",
    "ax11.plot(df_annual_sum.index, df_annual_sum['precip'])\n",
    "ax12.plot(df_annual_max.index, df_annual_max['precip'])\n",
    "ax21.plot(df_annual_sum.index, df_annual_sum['snow'])\n",
    "ax22.plot(df_annual_max.index, df_annual_max['snow'])"
   ]
  },
  {
   "cell_type": "code",
   "execution_count": null,
   "metadata": {},
   "outputs": [],
   "source": [
    "## subplots with seaborn\n",
    "fig, ((ax11, ax12), (ax21, ax22)) = plt.subplots(2, 2, figsize = (12, 12))\n",
    "sns.regplot(df_annual_sum.index, df_annual_sum['precip'], ax=ax11)\n",
    "sns.regplot(df_annual_max.index, df_annual_max['precip'], ax=ax12)\n",
    "sns.regplot(df_annual_sum.index, df_annual_sum['snow'], ax=ax21)\n",
    "sns.regplot(df_annual_max.index, df_annual_max['snow'], ax=ax22)"
   ]
  },
  {
   "cell_type": "code",
   "execution_count": null,
   "metadata": {},
   "outputs": [],
   "source": [
    "## Adjusting spacing of plot\n",
    "fig, ((ax11, ax12), (ax21, ax22)) = plt.subplots(2, 2, figsize = (12, 12))\n",
    "fig.subplots_adjust(hspace=0.15, wspace=0.25)\n",
    "\n",
    "\n",
    "sns.regplot(df_annual_sum.index, df_annual_sum['precip'], ax=ax11)\n",
    "ax11.set_ylabel('Total precip (mm)')\n",
    "ax11.set_xlabel('')\n",
    "sns.regplot(df_annual_max.index, df_annual_max['precip'], ax=ax12)\n",
    "ax12.set_ylabel('Max precip (mm)')\n",
    "ax12.set_xlabel('')\n",
    "sns.regplot(df_annual_sum.index, df_annual_sum['snow'], ax=ax21)\n",
    "ax21.set_ylabel('Total snow (mm)')\n",
    "ax21.set_xlabel('')\n",
    "sns.regplot(df_annual_max.index, df_annual_max['snow'], ax=ax22)\n",
    "ax22.set_ylabel('Max snow (mm)')\n",
    "ax22.set_xlabel('')"
   ]
  },
  {
   "cell_type": "code",
   "execution_count": null,
   "metadata": {},
   "outputs": [],
   "source": [
    "## pairplot\n",
    "df_annual_combined = df_annual_sum.loc[:, ['precip', 'snow']].copy()\n",
    "columns = df_annual_combined.columns\n",
    "columns = [c + '_sum' for c in columns]\n",
    "df_annual_combined.columns = columns\n",
    "df_annual_combined"
   ]
  },
  {
   "cell_type": "code",
   "execution_count": null,
   "metadata": {},
   "outputs": [],
   "source": [
    "for c in ['precip', 'snow']:\n",
    "    df_annual_combined[c + '_max'] = df_annual_max[c]    \n",
    "df_annual_combined"
   ]
  },
  {
   "cell_type": "code",
   "execution_count": null,
   "metadata": {},
   "outputs": [],
   "source": [
    "sns.pairplot(df_annual_combined)"
   ]
  },
  {
   "cell_type": "code",
   "execution_count": null,
   "metadata": {},
   "outputs": [],
   "source": [
    "sns.pairplot(df_annual_combined, kind='reg', diag_kind='kde')"
   ]
  },
  {
   "cell_type": "code",
   "execution_count": null,
   "metadata": {},
   "outputs": [],
   "source": [
    "sns.pairplot(df, vars=['precip', 'tmin', 'tmax'], hue='month', plot_kws={'alpha': 0.2})"
   ]
  },
  {
   "cell_type": "code",
   "execution_count": null,
   "metadata": {},
   "outputs": [],
   "source": [
    "## what if we just want winter months?\n",
    "winter_rows = [i for i in range(df.shape[0]) if df['month'].iloc[i] in [12, 1, 2]]"
   ]
  },
  {
   "cell_type": "code",
   "execution_count": null,
   "metadata": {},
   "outputs": [],
   "source": [
    "df_winter = df.iloc[winter_rows, :]\n",
    "df_winter"
   ]
  },
  {
   "cell_type": "code",
   "execution_count": null,
   "metadata": {},
   "outputs": [],
   "source": [
    "sns.pairplot(df_winter, vars=['precip', 'tmin', 'tmax'], hue='month', plot_kws={'alpha': 0.2})"
   ]
  },
  {
   "cell_type": "code",
   "execution_count": null,
   "metadata": {},
   "outputs": [],
   "source": [
    "## Using colormaps\n",
    "plt.scatter(df_annual_min['tmin'], df_annual_max['tmax'], c = df_annual_max.index, cmap = 'viridis')\n",
    "cbar = plt.colorbar()\n",
    "cbar.set_label('Year')\n",
    "plt.xlabel('Min Temperature (F)')\n",
    "plt.ylabel('Max Temperature (F)')"
   ]
  },
  {
   "cell_type": "code",
   "execution_count": null,
   "metadata": {},
   "outputs": [],
   "source": [
    "## Saving your figures\n",
    "plt.scatter(df_annual_min['tmin'], df_annual_max['tmax'], c = df_annual_max.index, cmap = 'viridis')\n",
    "cbar = plt.colorbar()\n",
    "cbar.set_label('Year')\n",
    "plt.xlabel('Min Temperature (F)')\n",
    "plt.ylabel('Max Temperature (F)')\n",
    "\n",
    "# save as png with 300 dpi resolution\n",
    "plt.savefig('annual_min_vs_max_temp.png', bbox_inches='tight', dpi=300)\n",
    "\n",
    "# save as eps vector format so you can edit in Illustrator\n",
    "plt.savefig('annual_min_vs_max_temp.eps', bbox_inches='tight')"
   ]
  },
  {
   "cell_type": "markdown",
   "metadata": {},
   "source": [
    "### In class exercise"
   ]
  },
  {
   "cell_type": "markdown",
   "metadata": {
    "slideshow": {
     "slide_type": "slide"
    }
   },
   "source": [
    "[Coalition for Publishing Data in the Earth and Space Sciences, Enabling FAIR Data Project](https://copdess.org/enabling-fair-data-project/)\n",
    "- Scientific orgs: American Geophysical Union(AGU), European Geosciences Union (AGU), etc.\n",
    "- Publishers: AGU, PNAS, Nature, Science, Elsevier, Wiley, etc.\n",
    "- Repositories & Data Infrastructure"
   ]
  },
  {
   "cell_type": "markdown",
   "metadata": {
    "slideshow": {
     "slide_type": "slide"
    }
   },
   "source": [
    "**More reading on FAIR/open data and science:**\n",
    "- AGU FAIR data working group presentation ([Stall, 2018, Big Data Interagency Working Group](https://www.nitrd.gov/nitrdgroups/images/0/02/Enabling-FAIR-Data-ESES-ShelleyStall.pdf))\n",
    "- FAIR guiding principles for scientific data management and stewardship ([Wilkinson et al, 2020, *Scientific Data*](https://www.nature.com/articles/sdata201618%22))\n",
    "- MyGeoHub description of FAIR principles ([Merwade, Huber, Song, Huang, Zhao, *MyGeoHub*](https://mygeohub.org/cybertraining/fair))\n",
    "- Most computational hydrology is not reproducible, so is it really science? ([Hutton et al., 2016, *Water Resources Research*](https://agupubs.onlinelibrary.wiley.com/doi/pdf/10.1002/2016WR019285))\n",
    "- History, promises, and challenges of open science/open data for public health research ([Huston et al., 2019, *Canada Communicable Disease Report*](https://www.ncbi.nlm.nih.gov/pmc/articles/PMC6781855/#:~:text=Open%20Data%20is%20based%20on,that%20inform%20and%20support%20them))\n",
    "- Best practices for performing reproducible research, focused on complex computer modeling workflows ([Rosenberg et al., 2020, *Journal of Water Resources Planning and Management*](https://ascelibrary.org/doi/full/10.1061/%28ASCE%29WR.1943-5452.0001215))\n",
    "- Great lecture on how scientists can improve reproducibility/reusability by learning from the open-source software community ([McElreath, 2020, *YouTube*](https://www.youtube.com/watch?v=zwRdO9_GGhY&t=0s&ab_channel=RichardMcElreath))"
   ]
  },
  {
   "cell_type": "markdown",
   "metadata": {
    "slideshow": {
     "slide_type": "slide"
    }
   },
   "source": [
    "### Sharing your research products\n",
    "Repositories for sharing research products (data and/or code)\n",
    "1. [HydroShare](https://www.hydroshare.org/landingPage/)\n",
    "1. [Nature Scientific Data list of repositories](https://www.nature.com/sdata/policies/repositories#climate)\n",
    "1. GitHub + Zenodo\n",
    "    - e.g., Andrewàs [GitHub repository](https://github.com/ahamilton144/hamilton-2020-managing-financial-risk-tradeoffs-for-hydropower) for code associated with a research paper. See \"Tags\" for snapshot versions associated with each submission. Each snapshot is downloadable on Zenodo and has a permanent DOIs. "
   ]
  }
 ],
 "metadata": {
  "celltoolbar": "Slideshow",
  "kernelspec": {
   "display_name": "Python 3",
   "language": "python",
   "name": "python3"
  },
  "language_info": {
   "codemirror_mode": {
    "name": "ipython",
    "version": 3
   },
   "file_extension": ".py",
   "mimetype": "text/x-python",
   "name": "python",
   "nbconvert_exporter": "python",
   "pygments_lexer": "ipython3",
   "version": "3.6.10"
  }
 },
 "nbformat": 4,
 "nbformat_minor": 4
}
